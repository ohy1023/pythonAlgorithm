{
 "cells": [
  {
   "cell_type": "code",
   "execution_count": 1,
   "id": "b837ef41",
   "metadata": {},
   "outputs": [
    {
     "name": "stderr",
     "output_type": "stream",
     "text": [
      "C:\\Users\\ohy\\AppData\\Local\\Temp\\ipykernel_16200\\1526967235.py:37: FutureWarning: pandas.io.json.json_normalize is deprecated, use pandas.json_normalize instead.\n",
      "  totalDf = totalDf.append(json_normalize(body),ignore_index=True)\n",
      "C:\\Users\\ohy\\AppData\\Local\\Temp\\ipykernel_16200\\1526967235.py:37: FutureWarning: The frame.append method is deprecated and will be removed from pandas in a future version. Use pandas.concat instead.\n",
      "  totalDf = totalDf.append(json_normalize(body),ignore_index=True)\n"
     ]
    },
    {
     "name": "stdout",
     "output_type": "stream",
     "text": [
      "1\n"
     ]
    },
    {
     "name": "stderr",
     "output_type": "stream",
     "text": [
      "C:\\Users\\ohy\\AppData\\Local\\Temp\\ipykernel_16200\\1526967235.py:37: FutureWarning: pandas.io.json.json_normalize is deprecated, use pandas.json_normalize instead.\n",
      "  totalDf = totalDf.append(json_normalize(body),ignore_index=True)\n",
      "C:\\Users\\ohy\\AppData\\Local\\Temp\\ipykernel_16200\\1526967235.py:37: FutureWarning: The frame.append method is deprecated and will be removed from pandas in a future version. Use pandas.concat instead.\n",
      "  totalDf = totalDf.append(json_normalize(body),ignore_index=True)\n"
     ]
    },
    {
     "name": "stdout",
     "output_type": "stream",
     "text": [
      "1001\n"
     ]
    },
    {
     "name": "stderr",
     "output_type": "stream",
     "text": [
      "C:\\Users\\ohy\\AppData\\Local\\Temp\\ipykernel_16200\\1526967235.py:37: FutureWarning: pandas.io.json.json_normalize is deprecated, use pandas.json_normalize instead.\n",
      "  totalDf = totalDf.append(json_normalize(body),ignore_index=True)\n",
      "C:\\Users\\ohy\\AppData\\Local\\Temp\\ipykernel_16200\\1526967235.py:37: FutureWarning: The frame.append method is deprecated and will be removed from pandas in a future version. Use pandas.concat instead.\n",
      "  totalDf = totalDf.append(json_normalize(body),ignore_index=True)\n"
     ]
    },
    {
     "name": "stdout",
     "output_type": "stream",
     "text": [
      "2001\n"
     ]
    },
    {
     "name": "stderr",
     "output_type": "stream",
     "text": [
      "C:\\Users\\ohy\\AppData\\Local\\Temp\\ipykernel_16200\\1526967235.py:37: FutureWarning: pandas.io.json.json_normalize is deprecated, use pandas.json_normalize instead.\n",
      "  totalDf = totalDf.append(json_normalize(body),ignore_index=True)\n",
      "C:\\Users\\ohy\\AppData\\Local\\Temp\\ipykernel_16200\\1526967235.py:37: FutureWarning: The frame.append method is deprecated and will be removed from pandas in a future version. Use pandas.concat instead.\n",
      "  totalDf = totalDf.append(json_normalize(body),ignore_index=True)\n"
     ]
    },
    {
     "name": "stdout",
     "output_type": "stream",
     "text": [
      "3001\n"
     ]
    },
    {
     "name": "stderr",
     "output_type": "stream",
     "text": [
      "C:\\Users\\ohy\\AppData\\Local\\Temp\\ipykernel_16200\\1526967235.py:37: FutureWarning: pandas.io.json.json_normalize is deprecated, use pandas.json_normalize instead.\n",
      "  totalDf = totalDf.append(json_normalize(body),ignore_index=True)\n",
      "C:\\Users\\ohy\\AppData\\Local\\Temp\\ipykernel_16200\\1526967235.py:37: FutureWarning: The frame.append method is deprecated and will be removed from pandas in a future version. Use pandas.concat instead.\n",
      "  totalDf = totalDf.append(json_normalize(body),ignore_index=True)\n"
     ]
    },
    {
     "name": "stdout",
     "output_type": "stream",
     "text": [
      "4001\n"
     ]
    },
    {
     "name": "stderr",
     "output_type": "stream",
     "text": [
      "C:\\Users\\ohy\\AppData\\Local\\Temp\\ipykernel_16200\\1526967235.py:37: FutureWarning: pandas.io.json.json_normalize is deprecated, use pandas.json_normalize instead.\n",
      "  totalDf = totalDf.append(json_normalize(body),ignore_index=True)\n",
      "C:\\Users\\ohy\\AppData\\Local\\Temp\\ipykernel_16200\\1526967235.py:37: FutureWarning: The frame.append method is deprecated and will be removed from pandas in a future version. Use pandas.concat instead.\n",
      "  totalDf = totalDf.append(json_normalize(body),ignore_index=True)\n"
     ]
    },
    {
     "name": "stdout",
     "output_type": "stream",
     "text": [
      "5001\n"
     ]
    },
    {
     "name": "stderr",
     "output_type": "stream",
     "text": [
      "C:\\Users\\ohy\\AppData\\Local\\Temp\\ipykernel_16200\\1526967235.py:37: FutureWarning: pandas.io.json.json_normalize is deprecated, use pandas.json_normalize instead.\n",
      "  totalDf = totalDf.append(json_normalize(body),ignore_index=True)\n",
      "C:\\Users\\ohy\\AppData\\Local\\Temp\\ipykernel_16200\\1526967235.py:37: FutureWarning: The frame.append method is deprecated and will be removed from pandas in a future version. Use pandas.concat instead.\n",
      "  totalDf = totalDf.append(json_normalize(body),ignore_index=True)\n"
     ]
    },
    {
     "name": "stdout",
     "output_type": "stream",
     "text": [
      "6001\n"
     ]
    },
    {
     "name": "stderr",
     "output_type": "stream",
     "text": [
      "C:\\Users\\ohy\\AppData\\Local\\Temp\\ipykernel_16200\\1526967235.py:37: FutureWarning: pandas.io.json.json_normalize is deprecated, use pandas.json_normalize instead.\n",
      "  totalDf = totalDf.append(json_normalize(body),ignore_index=True)\n",
      "C:\\Users\\ohy\\AppData\\Local\\Temp\\ipykernel_16200\\1526967235.py:37: FutureWarning: The frame.append method is deprecated and will be removed from pandas in a future version. Use pandas.concat instead.\n",
      "  totalDf = totalDf.append(json_normalize(body),ignore_index=True)\n"
     ]
    },
    {
     "name": "stdout",
     "output_type": "stream",
     "text": [
      "7001\n"
     ]
    },
    {
     "name": "stderr",
     "output_type": "stream",
     "text": [
      "C:\\Users\\ohy\\AppData\\Local\\Temp\\ipykernel_16200\\1526967235.py:37: FutureWarning: pandas.io.json.json_normalize is deprecated, use pandas.json_normalize instead.\n",
      "  totalDf = totalDf.append(json_normalize(body),ignore_index=True)\n",
      "C:\\Users\\ohy\\AppData\\Local\\Temp\\ipykernel_16200\\1526967235.py:37: FutureWarning: The frame.append method is deprecated and will be removed from pandas in a future version. Use pandas.concat instead.\n",
      "  totalDf = totalDf.append(json_normalize(body),ignore_index=True)\n"
     ]
    },
    {
     "name": "stdout",
     "output_type": "stream",
     "text": [
      "8001\n"
     ]
    },
    {
     "name": "stderr",
     "output_type": "stream",
     "text": [
      "C:\\Users\\ohy\\AppData\\Local\\Temp\\ipykernel_16200\\1526967235.py:37: FutureWarning: pandas.io.json.json_normalize is deprecated, use pandas.json_normalize instead.\n",
      "  totalDf = totalDf.append(json_normalize(body),ignore_index=True)\n",
      "C:\\Users\\ohy\\AppData\\Local\\Temp\\ipykernel_16200\\1526967235.py:37: FutureWarning: The frame.append method is deprecated and will be removed from pandas in a future version. Use pandas.concat instead.\n",
      "  totalDf = totalDf.append(json_normalize(body),ignore_index=True)\n"
     ]
    },
    {
     "name": "stdout",
     "output_type": "stream",
     "text": [
      "9001\n"
     ]
    },
    {
     "name": "stderr",
     "output_type": "stream",
     "text": [
      "C:\\Users\\ohy\\AppData\\Local\\Temp\\ipykernel_16200\\1526967235.py:37: FutureWarning: pandas.io.json.json_normalize is deprecated, use pandas.json_normalize instead.\n",
      "  totalDf = totalDf.append(json_normalize(body),ignore_index=True)\n",
      "C:\\Users\\ohy\\AppData\\Local\\Temp\\ipykernel_16200\\1526967235.py:37: FutureWarning: The frame.append method is deprecated and will be removed from pandas in a future version. Use pandas.concat instead.\n",
      "  totalDf = totalDf.append(json_normalize(body),ignore_index=True)\n"
     ]
    },
    {
     "name": "stdout",
     "output_type": "stream",
     "text": [
      "10001\n"
     ]
    },
    {
     "name": "stderr",
     "output_type": "stream",
     "text": [
      "C:\\Users\\ohy\\AppData\\Local\\Temp\\ipykernel_16200\\1526967235.py:37: FutureWarning: pandas.io.json.json_normalize is deprecated, use pandas.json_normalize instead.\n",
      "  totalDf = totalDf.append(json_normalize(body),ignore_index=True)\n",
      "C:\\Users\\ohy\\AppData\\Local\\Temp\\ipykernel_16200\\1526967235.py:37: FutureWarning: The frame.append method is deprecated and will be removed from pandas in a future version. Use pandas.concat instead.\n",
      "  totalDf = totalDf.append(json_normalize(body),ignore_index=True)\n"
     ]
    },
    {
     "name": "stdout",
     "output_type": "stream",
     "text": [
      "11001\n"
     ]
    },
    {
     "name": "stderr",
     "output_type": "stream",
     "text": [
      "C:\\Users\\ohy\\AppData\\Local\\Temp\\ipykernel_16200\\1526967235.py:37: FutureWarning: pandas.io.json.json_normalize is deprecated, use pandas.json_normalize instead.\n",
      "  totalDf = totalDf.append(json_normalize(body),ignore_index=True)\n",
      "C:\\Users\\ohy\\AppData\\Local\\Temp\\ipykernel_16200\\1526967235.py:37: FutureWarning: The frame.append method is deprecated and will be removed from pandas in a future version. Use pandas.concat instead.\n",
      "  totalDf = totalDf.append(json_normalize(body),ignore_index=True)\n"
     ]
    },
    {
     "name": "stdout",
     "output_type": "stream",
     "text": [
      "12001\n"
     ]
    },
    {
     "name": "stderr",
     "output_type": "stream",
     "text": [
      "C:\\Users\\ohy\\AppData\\Local\\Temp\\ipykernel_16200\\1526967235.py:37: FutureWarning: pandas.io.json.json_normalize is deprecated, use pandas.json_normalize instead.\n",
      "  totalDf = totalDf.append(json_normalize(body),ignore_index=True)\n",
      "C:\\Users\\ohy\\AppData\\Local\\Temp\\ipykernel_16200\\1526967235.py:37: FutureWarning: The frame.append method is deprecated and will be removed from pandas in a future version. Use pandas.concat instead.\n",
      "  totalDf = totalDf.append(json_normalize(body),ignore_index=True)\n"
     ]
    },
    {
     "name": "stdout",
     "output_type": "stream",
     "text": [
      "13001\n"
     ]
    },
    {
     "name": "stderr",
     "output_type": "stream",
     "text": [
      "C:\\Users\\ohy\\AppData\\Local\\Temp\\ipykernel_16200\\1526967235.py:37: FutureWarning: pandas.io.json.json_normalize is deprecated, use pandas.json_normalize instead.\n",
      "  totalDf = totalDf.append(json_normalize(body),ignore_index=True)\n",
      "C:\\Users\\ohy\\AppData\\Local\\Temp\\ipykernel_16200\\1526967235.py:37: FutureWarning: The frame.append method is deprecated and will be removed from pandas in a future version. Use pandas.concat instead.\n",
      "  totalDf = totalDf.append(json_normalize(body),ignore_index=True)\n"
     ]
    },
    {
     "name": "stdout",
     "output_type": "stream",
     "text": [
      "14001\n"
     ]
    },
    {
     "name": "stderr",
     "output_type": "stream",
     "text": [
      "C:\\Users\\ohy\\AppData\\Local\\Temp\\ipykernel_16200\\1526967235.py:37: FutureWarning: pandas.io.json.json_normalize is deprecated, use pandas.json_normalize instead.\n",
      "  totalDf = totalDf.append(json_normalize(body),ignore_index=True)\n",
      "C:\\Users\\ohy\\AppData\\Local\\Temp\\ipykernel_16200\\1526967235.py:37: FutureWarning: The frame.append method is deprecated and will be removed from pandas in a future version. Use pandas.concat instead.\n",
      "  totalDf = totalDf.append(json_normalize(body),ignore_index=True)\n"
     ]
    },
    {
     "name": "stdout",
     "output_type": "stream",
     "text": [
      "15001\n"
     ]
    },
    {
     "name": "stderr",
     "output_type": "stream",
     "text": [
      "C:\\Users\\ohy\\AppData\\Local\\Temp\\ipykernel_16200\\1526967235.py:37: FutureWarning: pandas.io.json.json_normalize is deprecated, use pandas.json_normalize instead.\n",
      "  totalDf = totalDf.append(json_normalize(body),ignore_index=True)\n",
      "C:\\Users\\ohy\\AppData\\Local\\Temp\\ipykernel_16200\\1526967235.py:37: FutureWarning: The frame.append method is deprecated and will be removed from pandas in a future version. Use pandas.concat instead.\n",
      "  totalDf = totalDf.append(json_normalize(body),ignore_index=True)\n"
     ]
    },
    {
     "name": "stdout",
     "output_type": "stream",
     "text": [
      "16001\n"
     ]
    },
    {
     "name": "stderr",
     "output_type": "stream",
     "text": [
      "C:\\Users\\ohy\\AppData\\Local\\Temp\\ipykernel_16200\\1526967235.py:37: FutureWarning: pandas.io.json.json_normalize is deprecated, use pandas.json_normalize instead.\n",
      "  totalDf = totalDf.append(json_normalize(body),ignore_index=True)\n",
      "C:\\Users\\ohy\\AppData\\Local\\Temp\\ipykernel_16200\\1526967235.py:37: FutureWarning: The frame.append method is deprecated and will be removed from pandas in a future version. Use pandas.concat instead.\n",
      "  totalDf = totalDf.append(json_normalize(body),ignore_index=True)\n"
     ]
    },
    {
     "name": "stdout",
     "output_type": "stream",
     "text": [
      "17001\n"
     ]
    },
    {
     "name": "stderr",
     "output_type": "stream",
     "text": [
      "C:\\Users\\ohy\\AppData\\Local\\Temp\\ipykernel_16200\\1526967235.py:37: FutureWarning: pandas.io.json.json_normalize is deprecated, use pandas.json_normalize instead.\n",
      "  totalDf = totalDf.append(json_normalize(body),ignore_index=True)\n",
      "C:\\Users\\ohy\\AppData\\Local\\Temp\\ipykernel_16200\\1526967235.py:37: FutureWarning: The frame.append method is deprecated and will be removed from pandas in a future version. Use pandas.concat instead.\n",
      "  totalDf = totalDf.append(json_normalize(body),ignore_index=True)\n"
     ]
    },
    {
     "name": "stdout",
     "output_type": "stream",
     "text": [
      "18001\n"
     ]
    },
    {
     "name": "stderr",
     "output_type": "stream",
     "text": [
      "C:\\Users\\ohy\\AppData\\Local\\Temp\\ipykernel_16200\\1526967235.py:37: FutureWarning: pandas.io.json.json_normalize is deprecated, use pandas.json_normalize instead.\n",
      "  totalDf = totalDf.append(json_normalize(body),ignore_index=True)\n",
      "C:\\Users\\ohy\\AppData\\Local\\Temp\\ipykernel_16200\\1526967235.py:37: FutureWarning: The frame.append method is deprecated and will be removed from pandas in a future version. Use pandas.concat instead.\n",
      "  totalDf = totalDf.append(json_normalize(body),ignore_index=True)\n"
     ]
    },
    {
     "name": "stdout",
     "output_type": "stream",
     "text": [
      "19001\n"
     ]
    },
    {
     "name": "stderr",
     "output_type": "stream",
     "text": [
      "C:\\Users\\ohy\\AppData\\Local\\Temp\\ipykernel_16200\\1526967235.py:37: FutureWarning: pandas.io.json.json_normalize is deprecated, use pandas.json_normalize instead.\n",
      "  totalDf = totalDf.append(json_normalize(body),ignore_index=True)\n",
      "C:\\Users\\ohy\\AppData\\Local\\Temp\\ipykernel_16200\\1526967235.py:37: FutureWarning: The frame.append method is deprecated and will be removed from pandas in a future version. Use pandas.concat instead.\n",
      "  totalDf = totalDf.append(json_normalize(body),ignore_index=True)\n"
     ]
    },
    {
     "name": "stdout",
     "output_type": "stream",
     "text": [
      "20001\n"
     ]
    },
    {
     "name": "stderr",
     "output_type": "stream",
     "text": [
      "C:\\Users\\ohy\\AppData\\Local\\Temp\\ipykernel_16200\\1526967235.py:37: FutureWarning: pandas.io.json.json_normalize is deprecated, use pandas.json_normalize instead.\n",
      "  totalDf = totalDf.append(json_normalize(body),ignore_index=True)\n",
      "C:\\Users\\ohy\\AppData\\Local\\Temp\\ipykernel_16200\\1526967235.py:37: FutureWarning: The frame.append method is deprecated and will be removed from pandas in a future version. Use pandas.concat instead.\n",
      "  totalDf = totalDf.append(json_normalize(body),ignore_index=True)\n"
     ]
    },
    {
     "name": "stdout",
     "output_type": "stream",
     "text": [
      "21001\n"
     ]
    },
    {
     "name": "stderr",
     "output_type": "stream",
     "text": [
      "C:\\Users\\ohy\\AppData\\Local\\Temp\\ipykernel_16200\\1526967235.py:37: FutureWarning: pandas.io.json.json_normalize is deprecated, use pandas.json_normalize instead.\n",
      "  totalDf = totalDf.append(json_normalize(body),ignore_index=True)\n",
      "C:\\Users\\ohy\\AppData\\Local\\Temp\\ipykernel_16200\\1526967235.py:37: FutureWarning: The frame.append method is deprecated and will be removed from pandas in a future version. Use pandas.concat instead.\n",
      "  totalDf = totalDf.append(json_normalize(body),ignore_index=True)\n"
     ]
    },
    {
     "name": "stdout",
     "output_type": "stream",
     "text": [
      "22001\n"
     ]
    },
    {
     "name": "stderr",
     "output_type": "stream",
     "text": [
      "C:\\Users\\ohy\\AppData\\Local\\Temp\\ipykernel_16200\\1526967235.py:37: FutureWarning: pandas.io.json.json_normalize is deprecated, use pandas.json_normalize instead.\n",
      "  totalDf = totalDf.append(json_normalize(body),ignore_index=True)\n",
      "C:\\Users\\ohy\\AppData\\Local\\Temp\\ipykernel_16200\\1526967235.py:37: FutureWarning: The frame.append method is deprecated and will be removed from pandas in a future version. Use pandas.concat instead.\n",
      "  totalDf = totalDf.append(json_normalize(body),ignore_index=True)\n"
     ]
    },
    {
     "name": "stdout",
     "output_type": "stream",
     "text": [
      "23001\n"
     ]
    },
    {
     "name": "stderr",
     "output_type": "stream",
     "text": [
      "C:\\Users\\ohy\\AppData\\Local\\Temp\\ipykernel_16200\\1526967235.py:37: FutureWarning: pandas.io.json.json_normalize is deprecated, use pandas.json_normalize instead.\n",
      "  totalDf = totalDf.append(json_normalize(body),ignore_index=True)\n",
      "C:\\Users\\ohy\\AppData\\Local\\Temp\\ipykernel_16200\\1526967235.py:37: FutureWarning: The frame.append method is deprecated and will be removed from pandas in a future version. Use pandas.concat instead.\n",
      "  totalDf = totalDf.append(json_normalize(body),ignore_index=True)\n"
     ]
    },
    {
     "name": "stdout",
     "output_type": "stream",
     "text": [
      "24001\n"
     ]
    },
    {
     "name": "stderr",
     "output_type": "stream",
     "text": [
      "C:\\Users\\ohy\\AppData\\Local\\Temp\\ipykernel_16200\\1526967235.py:37: FutureWarning: pandas.io.json.json_normalize is deprecated, use pandas.json_normalize instead.\n",
      "  totalDf = totalDf.append(json_normalize(body),ignore_index=True)\n",
      "C:\\Users\\ohy\\AppData\\Local\\Temp\\ipykernel_16200\\1526967235.py:37: FutureWarning: The frame.append method is deprecated and will be removed from pandas in a future version. Use pandas.concat instead.\n",
      "  totalDf = totalDf.append(json_normalize(body),ignore_index=True)\n"
     ]
    },
    {
     "name": "stdout",
     "output_type": "stream",
     "text": [
      "25001\n"
     ]
    },
    {
     "name": "stderr",
     "output_type": "stream",
     "text": [
      "C:\\Users\\ohy\\AppData\\Local\\Temp\\ipykernel_16200\\1526967235.py:37: FutureWarning: pandas.io.json.json_normalize is deprecated, use pandas.json_normalize instead.\n",
      "  totalDf = totalDf.append(json_normalize(body),ignore_index=True)\n",
      "C:\\Users\\ohy\\AppData\\Local\\Temp\\ipykernel_16200\\1526967235.py:37: FutureWarning: The frame.append method is deprecated and will be removed from pandas in a future version. Use pandas.concat instead.\n",
      "  totalDf = totalDf.append(json_normalize(body),ignore_index=True)\n"
     ]
    },
    {
     "name": "stdout",
     "output_type": "stream",
     "text": [
      "26001\n"
     ]
    },
    {
     "name": "stderr",
     "output_type": "stream",
     "text": [
      "C:\\Users\\ohy\\AppData\\Local\\Temp\\ipykernel_16200\\1526967235.py:37: FutureWarning: pandas.io.json.json_normalize is deprecated, use pandas.json_normalize instead.\n",
      "  totalDf = totalDf.append(json_normalize(body),ignore_index=True)\n",
      "C:\\Users\\ohy\\AppData\\Local\\Temp\\ipykernel_16200\\1526967235.py:37: FutureWarning: The frame.append method is deprecated and will be removed from pandas in a future version. Use pandas.concat instead.\n",
      "  totalDf = totalDf.append(json_normalize(body),ignore_index=True)\n"
     ]
    },
    {
     "name": "stdout",
     "output_type": "stream",
     "text": [
      "27001\n"
     ]
    },
    {
     "name": "stderr",
     "output_type": "stream",
     "text": [
      "C:\\Users\\ohy\\AppData\\Local\\Temp\\ipykernel_16200\\1526967235.py:37: FutureWarning: pandas.io.json.json_normalize is deprecated, use pandas.json_normalize instead.\n",
      "  totalDf = totalDf.append(json_normalize(body),ignore_index=True)\n",
      "C:\\Users\\ohy\\AppData\\Local\\Temp\\ipykernel_16200\\1526967235.py:37: FutureWarning: The frame.append method is deprecated and will be removed from pandas in a future version. Use pandas.concat instead.\n",
      "  totalDf = totalDf.append(json_normalize(body),ignore_index=True)\n"
     ]
    },
    {
     "name": "stdout",
     "output_type": "stream",
     "text": [
      "28001\n"
     ]
    },
    {
     "name": "stderr",
     "output_type": "stream",
     "text": [
      "C:\\Users\\ohy\\AppData\\Local\\Temp\\ipykernel_16200\\1526967235.py:37: FutureWarning: pandas.io.json.json_normalize is deprecated, use pandas.json_normalize instead.\n",
      "  totalDf = totalDf.append(json_normalize(body),ignore_index=True)\n",
      "C:\\Users\\ohy\\AppData\\Local\\Temp\\ipykernel_16200\\1526967235.py:37: FutureWarning: The frame.append method is deprecated and will be removed from pandas in a future version. Use pandas.concat instead.\n",
      "  totalDf = totalDf.append(json_normalize(body),ignore_index=True)\n"
     ]
    },
    {
     "name": "stdout",
     "output_type": "stream",
     "text": [
      "29001\n"
     ]
    },
    {
     "name": "stderr",
     "output_type": "stream",
     "text": [
      "C:\\Users\\ohy\\AppData\\Local\\Temp\\ipykernel_16200\\1526967235.py:37: FutureWarning: pandas.io.json.json_normalize is deprecated, use pandas.json_normalize instead.\n",
      "  totalDf = totalDf.append(json_normalize(body),ignore_index=True)\n",
      "C:\\Users\\ohy\\AppData\\Local\\Temp\\ipykernel_16200\\1526967235.py:37: FutureWarning: The frame.append method is deprecated and will be removed from pandas in a future version. Use pandas.concat instead.\n",
      "  totalDf = totalDf.append(json_normalize(body),ignore_index=True)\n"
     ]
    },
    {
     "name": "stdout",
     "output_type": "stream",
     "text": [
      "30001\n"
     ]
    },
    {
     "name": "stderr",
     "output_type": "stream",
     "text": [
      "C:\\Users\\ohy\\AppData\\Local\\Temp\\ipykernel_16200\\1526967235.py:37: FutureWarning: pandas.io.json.json_normalize is deprecated, use pandas.json_normalize instead.\n",
      "  totalDf = totalDf.append(json_normalize(body),ignore_index=True)\n",
      "C:\\Users\\ohy\\AppData\\Local\\Temp\\ipykernel_16200\\1526967235.py:37: FutureWarning: The frame.append method is deprecated and will be removed from pandas in a future version. Use pandas.concat instead.\n",
      "  totalDf = totalDf.append(json_normalize(body),ignore_index=True)\n"
     ]
    },
    {
     "name": "stdout",
     "output_type": "stream",
     "text": [
      "31001\n"
     ]
    },
    {
     "name": "stderr",
     "output_type": "stream",
     "text": [
      "C:\\Users\\ohy\\AppData\\Local\\Temp\\ipykernel_16200\\1526967235.py:37: FutureWarning: pandas.io.json.json_normalize is deprecated, use pandas.json_normalize instead.\n",
      "  totalDf = totalDf.append(json_normalize(body),ignore_index=True)\n",
      "C:\\Users\\ohy\\AppData\\Local\\Temp\\ipykernel_16200\\1526967235.py:37: FutureWarning: The frame.append method is deprecated and will be removed from pandas in a future version. Use pandas.concat instead.\n",
      "  totalDf = totalDf.append(json_normalize(body),ignore_index=True)\n"
     ]
    },
    {
     "name": "stdout",
     "output_type": "stream",
     "text": [
      "32001\n"
     ]
    },
    {
     "name": "stderr",
     "output_type": "stream",
     "text": [
      "C:\\Users\\ohy\\AppData\\Local\\Temp\\ipykernel_16200\\1526967235.py:37: FutureWarning: pandas.io.json.json_normalize is deprecated, use pandas.json_normalize instead.\n",
      "  totalDf = totalDf.append(json_normalize(body),ignore_index=True)\n",
      "C:\\Users\\ohy\\AppData\\Local\\Temp\\ipykernel_16200\\1526967235.py:37: FutureWarning: The frame.append method is deprecated and will be removed from pandas in a future version. Use pandas.concat instead.\n",
      "  totalDf = totalDf.append(json_normalize(body),ignore_index=True)\n"
     ]
    },
    {
     "name": "stdout",
     "output_type": "stream",
     "text": [
      "33001\n"
     ]
    },
    {
     "name": "stderr",
     "output_type": "stream",
     "text": [
      "C:\\Users\\ohy\\AppData\\Local\\Temp\\ipykernel_16200\\1526967235.py:37: FutureWarning: pandas.io.json.json_normalize is deprecated, use pandas.json_normalize instead.\n",
      "  totalDf = totalDf.append(json_normalize(body),ignore_index=True)\n",
      "C:\\Users\\ohy\\AppData\\Local\\Temp\\ipykernel_16200\\1526967235.py:37: FutureWarning: The frame.append method is deprecated and will be removed from pandas in a future version. Use pandas.concat instead.\n",
      "  totalDf = totalDf.append(json_normalize(body),ignore_index=True)\n"
     ]
    },
    {
     "name": "stdout",
     "output_type": "stream",
     "text": [
      "34001\n"
     ]
    },
    {
     "name": "stderr",
     "output_type": "stream",
     "text": [
      "C:\\Users\\ohy\\AppData\\Local\\Temp\\ipykernel_16200\\1526967235.py:37: FutureWarning: pandas.io.json.json_normalize is deprecated, use pandas.json_normalize instead.\n",
      "  totalDf = totalDf.append(json_normalize(body),ignore_index=True)\n",
      "C:\\Users\\ohy\\AppData\\Local\\Temp\\ipykernel_16200\\1526967235.py:37: FutureWarning: The frame.append method is deprecated and will be removed from pandas in a future version. Use pandas.concat instead.\n",
      "  totalDf = totalDf.append(json_normalize(body),ignore_index=True)\n"
     ]
    },
    {
     "name": "stdout",
     "output_type": "stream",
     "text": [
      "35001\n"
     ]
    }
   ],
   "source": [
    "import requests\n",
    "import json\n",
    "from pandas.io.json import json_normalize\n",
    "import pandas as pd\n",
    "import openpyxl\n",
    "\n",
    "# 서울시 우리마을가게 상권분석서비스(상권-생활인구)\n",
    "# http://data.seoul.go.kr/dataList/OA-15568/S/1/datasetView.do\n",
    "\n",
    "apiKey = \"4c507457527a76793635686f726153\"  # 인증키\n",
    "\n",
    "url1 = \"http://openapi.seoul.go.kr:8088/{API}/json/VwsmTrdarFlpopQq/1/1/\".format(API=apiKey)\n",
    "\n",
    "response = requests.get(url1)  # url 불러오기\n",
    "contents = response.text  # 데이터 값 가져오기\n",
    "\n",
    "json_ob = json.loads(contents)  # str -> dict 변환 (json 으로 변환)\n",
    "\n",
    "totalCount = json_ob['VwsmTrdarFlpopQq']['list_total_count']  # 전체 데이터 갯수 가져오기 - 35,035개\n",
    "\n",
    "# totalDf = pd.DataFrame(columns=json_ob['VwsmTrdarFlpopQq']['row'][0].keys()) #열 이름을 가진 빈 데이터 프레임 생성\n",
    "totalDf = pd.DataFrame()\n",
    "\n",
    "# 서울 열린데이터광장 openApi는 한번에 가져올 수 있는 데이터 갯수가 1000개 이므로 1000가 단위로 url 가져와서 저장\n",
    "\n",
    "\n",
    "for i in range(1, totalCount, 1000):\n",
    "    startNum = i\n",
    "    endNum = startNum + 999;\n",
    "    url2 = \"http://openapi.seoul.go.kr:8088/{API}/json/VwsmTrdarFlpopQq/{startNum}/{endNum}/\".format(API=apiKey,\n",
    "                                                                                                     startNum=startNum,\n",
    "                                                                                                     endNum=endNum)\n",
    "    response = requests.get(url2)\n",
    "    contents = response.text\n",
    "    json_ob = json.loads(contents)\n",
    "    body = json_ob['VwsmTrdarFlpopQq']['row']\n",
    "    totalDf = totalDf.append(json_normalize(body),ignore_index=True)\n",
    "    print(i)\n",
    "    \n",
    "totalDf.columns = ['기준 년코드(기준년도(yyyy))', '기준_분기_코드', '상권_구분_코드',\n",
    "                   '상권_구분_코드_명',\n",
    "                   '상권_코드',\n",
    "                   '상권_코드_명',\n",
    "                   '총_생활인구_수',\n",
    "                   '남성_생활인구_수',\n",
    "                   '여성_생활인구_수',\n",
    "                   '연령대_10_생활인구_수',\n",
    "                   '연령대_20_생활인구_수',\n",
    "                   '연령대_30_생활인구_수',\n",
    "                   '연령대_40_생활인구_수',\n",
    "                   '연령대_50_생활인구_수',\n",
    "                   '연령대_60_이상_생활인구_수',\n",
    "                   '시간대_1_생활인구_수',\n",
    "                   '시간대_2_생활인구_수',\n",
    "                   '시간대_3_생활인구_수',\n",
    "                   '시간대_4_생활인구_수',\n",
    "                   '시간대_5_생활인구_수',\n",
    "                   '시간대_6_생활인구_수',\n",
    "                   '월요일_생활인구_수',\n",
    "                   '화요일_생활인구_수',\n",
    "                   '수요일_생활인구_수',\n",
    "                   '목요일_생활인구_수',\n",
    "                   '금요일_생활인구_수',\n",
    "                   '토요일_생활인구_수',\n",
    "                   '일요일_생활인구_수',\n",
    "                   '남성연령대_10_월요일시간대_1_생활인구_수',\n",
    "                   '남성연령대_10_월요일시간대_2_생활인구_수',\n",
    "                   '남성연령대_10_월요일시간대_3_생활인구_수',\n",
    "                   '남성연령대_10_월요일시간대_4_생활인구_수',\n",
    "                   '남성연령대_10_월요일시간대_5_생활인구_수',\n",
    "                   '남성연령대_10_월요일시간대_6_생활인구_수',\n",
    "                   '남성연령대_10_화요일시간대_1_생활인구_수',\n",
    "                   '남성연령대_10_화요일시간대_2_생활인구_수',\n",
    "                   '남성연령대_10_화요일시간대_3_생활인구_수',\n",
    "                   '남성연령대_10_화요일시간대_4_생활인구_수',\n",
    "                   '남성연령대_10_화요일시간대_5_생활인구_수',\n",
    "                   '남성연령대_10_화요일시간대_6_생활인구_수',\n",
    "                   '남성연령대_10_수요일시간대_1_생활인구_수',\n",
    "                   '남성연령대_10_수요일시간대_2_생활인구_수',\n",
    "                   '남성연령대_10_수요일시간대_3_생활인구_수',\n",
    "                   '남성연령대_10_수요일시간대_4_생활인구_수',\n",
    "                   '남성연령대_10_수요일시간대_5_생활인구_수',\n",
    "                   '남성연령대_10_수요일시간대_6_생활인구_수',\n",
    "                   '남성연령대_10_목요일시간대_1_생활인구_수',\n",
    "                   '남성연령대_10_목요일시간대_2_생활인구_수',\n",
    "                   '남성연령대_10_목요일시간대_3_생활인구_수',\n",
    "                   '남성연령대_10_목요일시간대_4_생활인구_수',\n",
    "                   '남성연령대_10_목요일시간대_5_생활인구_수',\n",
    "                   '남성연령대_10_목요일시간대_6_생활인구_수',\n",
    "                   '남성연령대_10_금요일시간대_1_생활인구_수',\n",
    "                   '남성연령대_10_금요일시간대_2_생활인구_수',\n",
    "                   '남성연령대_10_금요일시간대_3_생활인구_수',\n",
    "                   '남성연령대_10_금요일시간대_4_생활인구_수',\n",
    "                   '남성연령대_10_금요일시간대_5_생활인구_수',\n",
    "                   '남성연령대_10_금요일시간대_6_생활인구_수',\n",
    "                   '남성연령대_10_토요일시간대_1_생활인구_수',\n",
    "                   '남성연령대_10_토요일시간대_2_생활인구_수',\n",
    "                   '남성연령대_10_토요일시간대_3_생활인구_수',\n",
    "                   '남성연령대_10_토요일시간대_4_생활인구_수',\n",
    "                   '남성연령대_10_토요일시간대_5_생활인구_수',\n",
    "                   '남성연령대_10_토요일시간대_6_생활인구_수',\n",
    "                   '남성연령대_10_일요일시간대_1_생활인구_수',\n",
    "                   '남성연령대_10_일요일시간대_2_생활인구_수',\n",
    "                   '남성연령대_10_일요일시간대_3_생활인구_수',\n",
    "                   '남성연령대_10_일요일시간대_4_생활인구_수',\n",
    "                   '남성연령대_10_일요일시간대_5_생활인구_수',\n",
    "                   '남성연령대_10_일요일시간대_6_생활인구_수',\n",
    "                   '남성연령대_20_월요일시간대_1_생활인구_수',\n",
    "                   '남성연령대_20_월요일시간대_2_생활인구_수',\n",
    "                   '남성연령대_20_월요일시간대_3_생활인구_수',\n",
    "                   '남성연령대_20_월요일시간대_4_생활인구_수',\n",
    "                   '남성연령대_20_월요일시간대_5_생활인구_수',\n",
    "                   '남성연령대_20_월요일시간대_6_생활인구_수',\n",
    "                   '남성연령대_20_화요일시간대_1_생활인구_수',\n",
    "                   '남성연령대_20_화요일시간대_2_생활인구_수',\n",
    "                   '남성연령대_20_화요일시간대_3_생활인구_수',\n",
    "                   '남성연령대_20_화요일시간대_4_생활인구_수',\n",
    "                   '남성연령대_20_화요일시간대_5_생활인구_수',\n",
    "                   '남성연령대_20_화요일시간대_6_생활인구_수',\n",
    "                   '남성연령대_20_수요일시간대_1_생활인구_수',\n",
    "                   '남성연령대_20_수요일시간대_2_생활인구_수',\n",
    "                   '남성연령대_20_수요일시간대_3_생활인구_수',\n",
    "                   '남성연령대_20_수요일시간대_4_생활인구_수',\n",
    "                   '남성연령대_20_수요일시간대_5_생활인구_수',\n",
    "                   '남성연령대_20_수요일시간대_6_생활인구_수',\n",
    "                   '남성연령대_20_목요일시간대_1_생활인구_수',\n",
    "                   '남성연령대_20_목요일시간대_2_생활인구_수',\n",
    "                   '남성연령대_20_목요일시간대_3_생활인구_수',\n",
    "                   '남성연령대_20_목요일시간대_4_생활인구_수',\n",
    "                   '남성연령대_20_목요일시간대_5_생활인구_수',\n",
    "                   '남성연령대_20_목요일시간대_6_생활인구_수',\n",
    "                   '남성연령대_20_금요일시간대_1_생활인구_수',\n",
    "                   '남성연령대_20_금요일시간대_2_생활인구_수',\n",
    "                   '남성연령대_20_금요일시간대_3_생활인구_수',\n",
    "                   '남성연령대_20_금요일시간대_4_생활인구_수',\n",
    "                   '남성연령대_20_금요일시간대_5_생활인구_수',\n",
    "                   '남성연령대_20_금요일시간대_6_생활인구_수',\n",
    "                   '남성연령대_20_토요일시간대_1_생활인구_수',\n",
    "                   '남성연령대_20_토요일시간대_2_생활인구_수',\n",
    "                   '남성연령대_20_토요일시간대_3_생활인구_수',\n",
    "                   '남성연령대_20_토요일시간대_4_생활인구_수',\n",
    "                   '남성연령대_20_토요일시간대_5_생활인구_수',\n",
    "                   '남성연령대_20_토요일시간대_6_생활인구_수',\n",
    "                   '남성연령대_20_일요일시간대_1_생활인구_수',\n",
    "                   '남성연령대_20_일요일시간대_2_생활인구_수',\n",
    "                   '남성연령대_20_일요일시간대_3_생활인구_수',\n",
    "                   '남성연령대_20_일요일시간대_4_생활인구_수',\n",
    "                   '남성연령대_20_일요일시간대_5_생활인구_수',\n",
    "                   '남성연령대_20_일요일시간대_6_생활인구_수',\n",
    "                   '남성연령대_30_월요일시간대_1_생활인구_수',\n",
    "                   '남성연령대_30_월요일시간대_2_생활인구_수',\n",
    "                   '남성연령대_30_월요일시간대_3_생활인구_수',\n",
    "                   '남성연령대_30_월요일시간대_4_생활인구_수',\n",
    "                   '남성연령대_30_월요일시간대_5_생활인구_수',\n",
    "                   '남성연령대_30_월요일시간대_6_생활인구_수',\n",
    "                   '남성연령대_30_화요일시간대_1_생활인구_수',\n",
    "                   '남성연령대_30_화요일시간대_2_생활인구_수',\n",
    "                   '남성연령대_30_화요일시간대_3_생활인구_수',\n",
    "                   '남성연령대_30_화요일시간대_4_생활인구_수',\n",
    "                   '남성연령대_30_화요일시간대_5_생활인구_수',\n",
    "                   '남성연령대_30_화요일시간대_6_생활인구_수',\n",
    "                   '남성연령대_30_수요일시간대_1_생활인구_수',\n",
    "                   '남성연령대_30_수요일시간대_2_생활인구_수',\n",
    "                   '남성연령대_30_수요일시간대_3_생활인구_수',\n",
    "                   '남성연령대_30_수요일시간대_4_생활인구_수',\n",
    "                   '남성연령대_30_수요일시간대_5_생활인구_수',\n",
    "                   '남성연령대_30_수요일시간대_6_생활인구_수',\n",
    "                   '남성연령대_30_목요일시간대_1_생활인구_수',\n",
    "                   '남성연령대_30_목요일시간대_2_생활인구_수',\n",
    "                   '남성연령대_30_목요일시간대_3_생활인구_수',\n",
    "                   '남성연령대_30_목요일시간대_4_생활인구_수',\n",
    "                   '남성연령대_30_목요일시간대_5_생활인구_수',\n",
    "                   '남성연령대_30_목요일시간대_6_생활인구_수',\n",
    "                   '남성연령대_30_금요일시간대_1_생활인구_수',\n",
    "                   '남성연령대_30_금요일시간대_2_생활인구_수',\n",
    "                   '남성연령대_30_금요일시간대_3_생활인구_수',\n",
    "                   '남성연령대_30_금요일시간대_4_생활인구_수',\n",
    "                   '남성연령대_30_금요일시간대_5_생활인구_수',\n",
    "                   '남성연령대_30_금요일시간대_6_생활인구_수',\n",
    "                   '남성연령대_30_토요일시간대_1_생활인구_수',\n",
    "                   '남성연령대_30_토요일시간대_2_생활인구_수',\n",
    "                   '남성연령대_30_토요일시간대_3_생활인구_수',\n",
    "                   '남성연령대_30_토요일시간대_4_생활인구_수',\n",
    "                   '남성연령대_30_토요일시간대_5_생활인구_수',\n",
    "                   '남성연령대_30_토요일시간대_6_생활인구_수',\n",
    "                   '남성연령대_30_일요일시간대_1_생활인구_수',\n",
    "                   '남성연령대_30_일요일시간대_2_생활인구_수',\n",
    "                   '남성연령대_30_일요일시간대_3_생활인구_수',\n",
    "                   '남성연령대_30_일요일시간대_4_생활인구_수',\n",
    "                   '남성연령대_30_일요일시간대_5_생활인구_수',\n",
    "                   '남성연령대_30_일요일시간대_6_생활인구_수',\n",
    "                   '남성연령대_40_월요일시간대_1_생활인구_수',\n",
    "                   '남성연령대_40_월요일시간대_2_생활인구_수',\n",
    "                   '남성연령대_40_월요일시간대_3_생활인구_수',\n",
    "                   '남성연령대_40_월요일시간대_4_생활인구_수',\n",
    "                   '남성연령대_40_월요일시간대_5_생활인구_수',\n",
    "                   '남성연령대_40_월요일시간대_6_생활인구_수',\n",
    "                   '남성연령대_40_화요일시간대_1_생활인구_수',\n",
    "                   '남성연령대_40_화요일시간대_2_생활인구_수',\n",
    "                   '남성연령대_40_화요일시간대_3_생활인구_수',\n",
    "                   '남성연령대_40_화요일시간대_4_생활인구_수',\n",
    "                   '남성연령대_40_화요일시간대_5_생활인구_수',\n",
    "                   '남성연령대_40_화요일시간대_6_생활인구_수',\n",
    "                   '남성연령대_40_수요일시간대_1_생활인구_수',\n",
    "                   '남성연령대_40_수요일시간대_2_생활인구_수',\n",
    "                   '남성연령대_40_수요일시간대_3_생활인구_수',\n",
    "                   '남성연령대_40_수요일시간대_4_생활인구_수',\n",
    "                   '남성연령대_40_수요일시간대_5_생활인구_수',\n",
    "                   '남성연령대_40_수요일시간대_6_생활인구_수',\n",
    "                   '남성연령대_40_목요일시간대_1_생활인구_수',\n",
    "                   '남성연령대_40_목요일시간대_2_생활인구_수',\n",
    "                   '남성연령대_40_목요일시간대_3_생활인구_수',\n",
    "                   '남성연령대_40_목요일시간대_4_생활인구_수',\n",
    "                   '남성연령대_40_목요일시간대_5_생활인구_수',\n",
    "                   '남성연령대_40_목요일시간대_6_생활인구_수',\n",
    "                   '남성연령대_40_금요일시간대_1_생활인구_수',\n",
    "                   '남성연령대_40_금요일시간대_2_생활인구_수',\n",
    "                   '남성연령대_40_금요일시간대_3_생활인구_수',\n",
    "                   '남성연령대_40_금요일시간대_4_생활인구_수',\n",
    "                   '남성연령대_40_금요일시간대_5_생활인구_수',\n",
    "                   '남성연령대_40_금요일시간대_6_생활인구_수',\n",
    "                   '남성연령대_40_토요일시간대_1_생활인구_수',\n",
    "                   '남성연령대_40_토요일시간대_2_생활인구_수',\n",
    "                   '남성연령대_40_토요일시간대_3_생활인구_수',\n",
    "                   '남성연령대_40_토요일시간대_4_생활인구_수',\n",
    "                   '남성연령대_40_토요일시간대_5_생활인구_수',\n",
    "                   '남성연령대_40_토요일시간대_6_생활인구_수',\n",
    "                   '남성연령대_40_일요일시간대_1_생활인구_수',\n",
    "                   '남성연령대_40_일요일시간대_2_생활인구_수',\n",
    "                   '남성연령대_40_일요일시간대_3_생활인구_수',\n",
    "                   '남성연령대_40_일요일시간대_4_생활인구_수',\n",
    "                   '남성연령대_40_일요일시간대_5_생활인구_수',\n",
    "                   '남성연령대_40_일요일시간대_6_생활인구_수',\n",
    "                   '남성연령대_50_월요일시간대_1_생활인구_수',\n",
    "                   '남성연령대_50_월요일시간대_2_생활인구_수',\n",
    "                   '남성연령대_50_월요일시간대_3_생활인구_수',\n",
    "                   '남성연령대_50_월요일시간대_4_생활인구_수',\n",
    "                   '남성연령대_50_월요일시간대_5_생활인구_수',\n",
    "                   '남성연령대_50_월요일시간대_6_생활인구_수',\n",
    "                   '남성연령대_50_화요일시간대_1_생활인구_수',\n",
    "                   '남성연령대_50_화요일시간대_2_생활인구_수',\n",
    "                   '남성연령대_50_화요일시간대_3_생활인구_수',\n",
    "                   '남성연령대_50_화요일시간대_4_생활인구_수',\n",
    "                   '남성연령대_50_화요일시간대_5_생활인구_수',\n",
    "                   '남성연령대_50_화요일시간대_6_생활인구_수',\n",
    "                   '남성연령대_50_수요일시간대_1_생활인구_수',\n",
    "                   '남성연령대_50_수요일시간대_2_생활인구_수',\n",
    "                   '남성연령대_50_수요일시간대_3_생활인구_수',\n",
    "                   '남성연령대_50_수요일시간대_4_생활인구_수',\n",
    "                   '남성연령대_50_수요일시간대_5_생활인구_수',\n",
    "                   '남성연령대_50_수요일시간대_6_생활인구_수',\n",
    "                   '남성연령대_50_목요일시간대_1_생활인구_수',\n",
    "                   '남성연령대_50_목요일시간대_2_생활인구_수',\n",
    "                   '남성연령대_50_목요일시간대_3_생활인구_수',\n",
    "                   '남성연령대_50_목요일시간대_4_생활인구_수',\n",
    "                   '남성연령대_50_목요일시간대_5_생활인구_수',\n",
    "                   '남성연령대_50_목요일시간대_6_생활인구_수',\n",
    "                   '남성연령대_50_금요일시간대_1_생활인구_수',\n",
    "                   '남성연령대_50_금요일시간대_2_생활인구_수',\n",
    "                   '남성연령대_50_금요일시간대_3_생활인구_수',\n",
    "                   '남성연령대_50_금요일시간대_4_생활인구_수',\n",
    "                   '남성연령대_50_금요일시간대_5_생활인구_수',\n",
    "                   '남성연령대_50_금요일시간대_6_생활인구_수',\n",
    "                   '남성연령대_50_토요일시간대_1_생활인구_수',\n",
    "                   '남성연령대_50_토요일시간대_2_생활인구_수',\n",
    "                   '남성연령대_50_토요일시간대_3_생활인구_수',\n",
    "                   '남성연령대_50_토요일시간대_4_생활인구_수',\n",
    "                   '남성연령대_50_토요일시간대_5_생활인구_수',\n",
    "                   '남성연령대_50_토요일시간대_6_생활인구_수',\n",
    "                   '남성연령대_50_일요일시간대_1_생활인구_수',\n",
    "                   '남성연령대_50_일요일시간대_2_생활인구_수',\n",
    "                   '남성연령대_50_일요일시간대_3_생활인구_수',\n",
    "                   '남성연령대_50_일요일시간대_4_생활인구_수',\n",
    "                   '남성연령대_50_일요일시간대_5_생활인구_수',\n",
    "                   '남성연령대_50_일요일시간대_6_생활인구_수',\n",
    "                   '남성연령대_60_이상_월요일시간대_1_생활인구_수',\n",
    "                   '남성연령대_60_이상_월요일시간대_2_생활인구_수',\n",
    "                   '남성연령대_60_이상_월요일시간대_3_생활인구_수',\n",
    "                   '남성연령대_60_이상_월요일시간대_4_생활인구_수',\n",
    "                   '남성연령대_60_이상_월요일시간대_5_생활인구_수',\n",
    "                   '남성연령대_60_이상_월요일시간대_6_생활인구_수',\n",
    "                   '남성연령대_60_이상_화요일시간대_1_생활인구_수',\n",
    "                   '남성연령대_60_이상_화요일시간대_2_생활인구_수',\n",
    "                   '남성연령대_60_이상_화요일시간대_3_생활인구_수',\n",
    "                   '남성연령대_60_이상_화요일시간대_4_생활인구_수',\n",
    "                   '남성연령대_60_이상_화요일시간대_5_생활인구_수',\n",
    "                   '남성연령대_60_이상_화요일시간대_6_생활인구_수',\n",
    "                   '남성연령대_60_이상_수요일시간대_1_생활인구_수',\n",
    "                   '남성연령대_60_이상_수요일시간대_2_생활인구_수',\n",
    "                   '남성연령대_60_이상_수요일시간대_3_생활인구_수',\n",
    "                   '남성연령대_60_이상_수요일시간대_4_생활인구_수',\n",
    "                   '남성연령대_60_이상_수요일시간대_5_생활인구_수',\n",
    "                   '남성연령대_60_이상_수요일시간대_6_생활인구_수',\n",
    "                   '남성연령대_60_이상_목요일시간대_1_생활인구_수',\n",
    "                   '남성연령대_60_이상_목요일시간대_2_생활인구_수',\n",
    "                   '남성연령대_60_이상_목요일시간대_3_생활인구_수',\n",
    "                   '남성연령대_60_이상_목요일시간대_4_생활인구_수',\n",
    "                   '남성연령대_60_이상_목요일시간대_5_생활인구_수',\n",
    "                   '남성연령대_60_이상_목요일시간대_6_생활인구_수',\n",
    "                   '남성연령대_60_이상_금요일시간대_1_생활인구_수',\n",
    "                   '남성연령대_60_이상_금요일시간대_2_생활인구_수',\n",
    "                   '남성연령대_60_이상_금요일시간대_3_생활인구_수',\n",
    "                   '남성연령대_60_이상_금요일시간대_4_생활인구_수',\n",
    "                   '남성연령대_60_이상_금요일시간대_5_생활인구_수',\n",
    "                   '남성연령대_60_이상_금요일시간대_6_생활인구_수',\n",
    "                   '남성연령대_60_이상_토요일시간대_1_생활인구_수',\n",
    "                   '남성연령대_60_이상_토요일시간대_2_생활인구_수',\n",
    "                   '남성연령대_60_이상_토요일시간대_3_생활인구_수',\n",
    "                   '남성연령대_60_이상_토요일시간대_4_생활인구_수',\n",
    "                   '남성연령대_60_이상_토요일시간대_5_생활인구_수',\n",
    "                   '남성연령대_60_이상_토요일시간대_6_생활인구_수',\n",
    "                   '남성연령대_60_이상_일요일시간대_1_생활인구_수',\n",
    "                   '남성연령대_60_이상_일요일시간대_2_생활인구_수',\n",
    "                   '남성연령대_60_이상_일요일시간대_3_생활인구_수',\n",
    "                   '남성연령대_60_이상_일요일시간대_4_생활인구_수',\n",
    "                   '남성연령대_60_이상_일요일시간대_5_생활인구_수',\n",
    "                   '남성연령대_60_이상_일요일시간대_6_생활인구_수',\n",
    "                   '여성연령대_10_월요일시간대_1_생활인구_수',\n",
    "                   '여성연령대_10_월요일시간대_2_생활인구_수',\n",
    "                   '여성연령대_10_월요일시간대_3_생활인구_수',\n",
    "                   '여성연령대_10_월요일시간대_4_생활인구_수',\n",
    "                   '여성연령대_10_월요일시간대_5_생활인구_수',\n",
    "                   '여성연령대_10_월요일시간대_6_생활인구_수',\n",
    "                   '여성연령대_10_화요일시간대_1_생활인구_수',\n",
    "                   '여성연령대_10_화요일시간대_2_생활인구_수',\n",
    "                   '여성연령대_10_화요일시간대_3_생활인구_수',\n",
    "                   '여성연령대_10_화요일시간대_4_생활인구_수',\n",
    "                   '여성연령대_10_화요일시간대_5_생활인구_수',\n",
    "                   '여성연령대_10_화요일시간대_6_생활인구_수',\n",
    "                   '여성연령대_10_수요일시간대_1_생활인구_수',\n",
    "                   '여성연령대_10_수요일시간대_2_생활인구_수',\n",
    "                   '여성연령대_10_수요일시간대_3_생활인구_수',\n",
    "                   '여성연령대_10_수요일시간대_4_생활인구_수',\n",
    "                   '여성연령대_10_수요일시간대_5_생활인구_수',\n",
    "                   '여성연령대_10_수요일시간대_6_생활인구_수',\n",
    "                   '여성연령대_10_목요일시간대_1_생활인구_수',\n",
    "                   '여성연령대_10_목요일시간대_2_생활인구_수',\n",
    "                   '여성연령대_10_목요일시간대_3_생활인구_수',\n",
    "                   '여성연령대_10_목요일시간대_4_생활인구_수',\n",
    "                   '여성연령대_10_목요일시간대_5_생활인구_수',\n",
    "                   '여성연령대_10_목요일시간대_6_생활인구_수',\n",
    "                   '여성연령대_10_금요일시간대_1_생활인구_수',\n",
    "                   '여성연령대_10_금요일시간대_2_생활인구_수',\n",
    "                   '여성연령대_10_금요일시간대_3_생활인구_수',\n",
    "                   '여성연령대_10_금요일시간대_4_생활인구_수',\n",
    "                   '여성연령대_10_금요일시간대_5_생활인구_수',\n",
    "                   '여성연령대_10_금요일시간대_6_생활인구_수',\n",
    "                   '여성연령대_10_토요일시간대_1_생활인구_수',\n",
    "                   '여성연령대_10_토요일시간대_2_생활인구_수',\n",
    "                   '여성연령대_10_토요일시간대_3_생활인구_수',\n",
    "                   '여성연령대_10_토요일시간대_4_생활인구_수',\n",
    "                   '여성연령대_10_토요일시간대_5_생활인구_수',\n",
    "                   '여성연령대_10_토요일시간대_6_생활인구_수',\n",
    "                   '여성연령대_10_일요일시간대_1_생활인구_수',\n",
    "                   '여성연령대_10_일요일시간대_2_생활인구_수',\n",
    "                   '여성연령대_10_일요일시간대_3_생활인구_수',\n",
    "                   '여성연령대_10_일요일시간대_4_생활인구_수',\n",
    "                   '여성연령대_10_일요일시간대_5_생활인구_수',\n",
    "                   '여성연령대_10_일요일시간대_6_생활인구_수',\n",
    "                   '여성연령대_20_월요일시간대_1_생활인구_수',\n",
    "                   '여성연령대_20_월요일시간대_2_생활인구_수',\n",
    "                   '여성연령대_20_월요일시간대_3_생활인구_수',\n",
    "                   '여성연령대_20_월요일시간대_4_생활인구_수',\n",
    "                   '여성연령대_20_월요일시간대_5_생활인구_수',\n",
    "                   '여성연령대_20_월요일시간대_6_생활인구_수',\n",
    "                   '여성연령대_20_화요일시간대_1_생활인구_수',\n",
    "                   '여성연령대_20_화요일시간대_2_생활인구_수',\n",
    "                   '여성연령대_20_화요일시간대_3_생활인구_수',\n",
    "                   '여성연령대_20_화요일시간대_4_생활인구_수',\n",
    "                   '여성연령대_20_화요일시간대_5_생활인구_수',\n",
    "                   '여성연령대_20_화요일시간대_6_생활인구_수',\n",
    "                   '여성연령대_20_수요일시간대_1_생활인구_수',\n",
    "                   '여성연령대_20_수요일시간대_2_생활인구_수',\n",
    "                   '여성연령대_20_수요일시간대_3_생활인구_수',\n",
    "                   '여성연령대_20_수요일시간대_4_생활인구_수',\n",
    "                   '여성연령대_20_수요일시간대_5_생활인구_수',\n",
    "                   '여성연령대_20_수요일시간대_6_생활인구_수',\n",
    "                   '여성연령대_20_목요일시간대_1_생활인구_수',\n",
    "                   '여성연령대_20_목요일시간대_2_생활인구_수',\n",
    "                   '여성연령대_20_목요일시간대_3_생활인구_수',\n",
    "                   '여성연령대_20_목요일시간대_4_생활인구_수',\n",
    "                   '여성연령대_20_목요일시간대_5_생활인구_수',\n",
    "                   '여성연령대_20_목요일시간대_6_생활인구_수',\n",
    "                   '여성연령대_20_금요일시간대_1_생활인구_수',\n",
    "                   '여성연령대_20_금요일시간대_2_생활인구_수',\n",
    "                   '여성연령대_20_금요일시간대_3_생활인구_수',\n",
    "                   '여성연령대_20_금요일시간대_4_생활인구_수',\n",
    "                   '여성연령대_20_금요일시간대_5_생활인구_수',\n",
    "                   '여성연령대_20_금요일시간대_6_생활인구_수',\n",
    "                   '여성연령대_20_토요일시간대_1_생활인구_수',\n",
    "                   '여성연령대_20_토요일시간대_2_생활인구_수',\n",
    "                   '여성연령대_20_토요일시간대_3_생활인구_수',\n",
    "                   '여성연령대_20_토요일시간대_4_생활인구_수',\n",
    "                   '여성연령대_20_토요일시간대_5_생활인구_수',\n",
    "                   '여성연령대_20_토요일시간대_6_생활인구_수',\n",
    "                   '여성연령대_20_일요일시간대_1_생활인구_수',\n",
    "                   '여성연령대_20_일요일시간대_2_생활인구_수',\n",
    "                   '여성연령대_20_일요일시간대_3_생활인구_수',\n",
    "                   '여성연령대_20_일요일시간대_4_생활인구_수',\n",
    "                   '여성연령대_20_일요일시간대_5_생활인구_수',\n",
    "                   '여성연령대_20_일요일시간대_6_생활인구_수',\n",
    "                   '여성연령대_30_월요일시간대_1_생활인구_수',\n",
    "                   '여성연령대_30_월요일시간대_2_생활인구_수',\n",
    "                   '여성연령대_30_월요일시간대_3_생활인구_수',\n",
    "                   '여성연령대_30_월요일시간대_4_생활인구_수',\n",
    "                   '여성연령대_30_월요일시간대_5_생활인구_수',\n",
    "                   '여성연령대_30_월요일시간대_6_생활인구_수',\n",
    "                   '여성연령대_30_화요일시간대_1_생활인구_수',\n",
    "                   '여성연령대_30_화요일시간대_2_생활인구_수',\n",
    "                   '여성연령대_30_화요일시간대_3_생활인구_수',\n",
    "                   '여성연령대_30_화요일시간대_4_생활인구_수',\n",
    "                   '여성연령대_30_화요일시간대_5_생활인구_수',\n",
    "                   '여성연령대_30_화요일시간대_6_생활인구_수',\n",
    "                   '여성연령대_30_수요일시간대_1_생활인구_수',\n",
    "                   '여성연령대_30_수요일시간대_2_생활인구_수',\n",
    "                   '여성연령대_30_수요일시간대_3_생활인구_수',\n",
    "                   '여성연령대_30_수요일시간대_4_생활인구_수',\n",
    "                   '여성연령대_30_수요일시간대_5_생활인구_수',\n",
    "                   '여성연령대_30_수요일시간대_6_생활인구_수',\n",
    "                   '여성연령대_30_목요일시간대_1_생활인구_수',\n",
    "                   '여성연령대_30_목요일시간대_2_생활인구_수',\n",
    "                   '여성연령대_30_목요일시간대_3_생활인구_수',\n",
    "                   '여성연령대_30_목요일시간대_4_생활인구_수',\n",
    "                   '여성연령대_30_목요일시간대_5_생활인구_수',\n",
    "                   '여성연령대_30_목요일시간대_6_생활인구_수',\n",
    "                   '여성연령대_30_금요일시간대_1_생활인구_수',\n",
    "                   '여성연령대_30_금요일시간대_2_생활인구_수',\n",
    "                   '여성연령대_30_금요일시간대_3_생활인구_수',\n",
    "                   '여성연령대_30_금요일시간대_4_생활인구_수',\n",
    "                   '여성연령대_30_금요일시간대_5_생활인구_수',\n",
    "                   '여성연령대_30_금요일시간대_6_생활인구_수',\n",
    "                   '여성연령대_30_토요일시간대_1_생활인구_수',\n",
    "                   '여성연령대_30_토요일시간대_2_생활인구_수',\n",
    "                   '여성연령대_30_토요일시간대_3_생활인구_수',\n",
    "                   '여성연령대_30_토요일시간대_4_생활인구_수',\n",
    "                   '여성연령대_30_토요일시간대_5_생활인구_수',\n",
    "                   '여성연령대_30_토요일시간대_6_생활인구_수',\n",
    "                   '여성연령대_30_일요일시간대_1_생활인구_수',\n",
    "                   '여성연령대_30_일요일시간대_2_생활인구_수',\n",
    "                   '여성연령대_30_일요일시간대_3_생활인구_수',\n",
    "                   '여성연령대_30_일요일시간대_4_생활인구_수',\n",
    "                   '여성연령대_30_일요일시간대_5_생활인구_수',\n",
    "                   '여성연령대_30_일요일시간대_6_생활인구_수',\n",
    "                   '여성연령대_40_월요일시간대_1_생활인구_수',\n",
    "                   '여성연령대_40_월요일시간대_2_생활인구_수',\n",
    "                   '여성연령대_40_월요일시간대_3_생활인구_수',\n",
    "                   '여성연령대_40_월요일시간대_4_생활인구_수',\n",
    "                   '여성연령대_40_월요일시간대_5_생활인구_수',\n",
    "                   '여성연령대_40_월요일시간대_6_생활인구_수',\n",
    "                   '여성연령대_40_화요일시간대_1_생활인구_수',\n",
    "                   '여성연령대_40_화요일시간대_2_생활인구_수',\n",
    "                   '여성연령대_40_화요일시간대_3_생활인구_수',\n",
    "                   '여성연령대_40_화요일시간대_4_생활인구_수',\n",
    "                   '여성연령대_40_화요일시간대_5_생활인구_수',\n",
    "                   '여성연령대_40_화요일시간대_6_생활인구_수',\n",
    "                   '여성연령대_40_수요일시간대_1_생활인구_수',\n",
    "                   '여성연령대_40_수요일시간대_2_생활인구_수',\n",
    "                   '여성연령대_40_수요일시간대_3_생활인구_수',\n",
    "                   '여성연령대_40_수요일시간대_4_생활인구_수',\n",
    "                   '여성연령대_40_수요일시간대_5_생활인구_수',\n",
    "                   '여성연령대_40_수요일시간대_6_생활인구_수',\n",
    "                   '여성연령대_40_목요일시간대_1_생활인구_수',\n",
    "                   '여성연령대_40_목요일시간대_2_생활인구_수',\n",
    "                   '여성연령대_40_목요일시간대_3_생활인구_수',\n",
    "                   '여성연령대_40_목요일시간대_4_생활인구_수',\n",
    "                   '여성연령대_40_목요일시간대_5_생활인구_수',\n",
    "                   '여성연령대_40_목요일시간대_6_생활인구_수',\n",
    "                   '여성연령대_40_금요일시간대_1_생활인구_수',\n",
    "                   '여성연령대_40_금요일시간대_2_생활인구_수',\n",
    "                   '여성연령대_40_금요일시간대_3_생활인구_수',\n",
    "                   '여성연령대_40_금요일시간대_4_생활인구_수',\n",
    "                   '여성연령대_40_금요일시간대_5_생활인구_수',\n",
    "                   '여성연령대_40_금요일시간대_6_생활인구_수',\n",
    "                   '여성연령대_40_토요일시간대_1_생활인구_수',\n",
    "                   '여성연령대_40_토요일시간대_2_생활인구_수',\n",
    "                   '여성연령대_40_토요일시간대_3_생활인구_수',\n",
    "                   '여성연령대_40_토요일시간대_4_생활인구_수',\n",
    "                   '여성연령대_40_토요일시간대_5_생활인구_수',\n",
    "                   '여성연령대_40_토요일시간대_6_생활인구_수',\n",
    "                   '여성연령대_40_일요일시간대_1_생활인구_수',\n",
    "                   '여성연령대_40_일요일시간대_2_생활인구_수',\n",
    "                   '여성연령대_40_일요일시간대_3_생활인구_수',\n",
    "                   '여성연령대_40_일요일시간대_4_생활인구_수',\n",
    "                   '여성연령대_40_일요일시간대_5_생활인구_수',\n",
    "                   '여성연령대_40_일요일시간대_6_생활인구_수',\n",
    "                   '여성연령대_50_월요일시간대_1_생활인구_수',\n",
    "                   '여성연령대_50_월요일시간대_2_생활인구_수',\n",
    "                   '여성연령대_50_월요일시간대_3_생활인구_수',\n",
    "                   '여성연령대_50_월요일시간대_4_생활인구_수',\n",
    "                   '여성연령대_50_월요일시간대_5_생활인구_수',\n",
    "                   '여성연령대_50_월요일시간대_6_생활인구_수',\n",
    "                   '여성연령대_50_화요일시간대_1_생활인구_수',\n",
    "                   '여성연령대_50_화요일시간대_2_생활인구_수',\n",
    "                   '여성연령대_50_화요일시간대_3_생활인구_수',\n",
    "                   '여성연령대_50_화요일시간대_4_생활인구_수',\n",
    "                   '여성연령대_50_화요일시간대_5_생활인구_수',\n",
    "                   '여성연령대_50_화요일시간대_6_생활인구_수',\n",
    "                   '여성연령대_50_수요일시간대_1_생활인구_수',\n",
    "                   '여성연령대_50_수요일시간대_2_생활인구_수',\n",
    "                   '여성연령대_50_수요일시간대_3_생활인구_수',\n",
    "                   '여성연령대_50_수요일시간대_4_생활인구_수',\n",
    "                   '여성연령대_50_수요일시간대_5_생활인구_수',\n",
    "                   '여성연령대_50_수요일시간대_6_생활인구_수',\n",
    "                   '여성연령대_50_목요일시간대_1_생활인구_수',\n",
    "                   '여성연령대_50_목요일시간대_2_생활인구_수',\n",
    "                   '여성연령대_50_목요일시간대_3_생활인구_수',\n",
    "                   '여성연령대_50_목요일시간대_4_생활인구_수',\n",
    "                   '여성연령대_50_목요일시간대_5_생활인구_수',\n",
    "                   '여성연령대_50_목요일시간대_6_생활인구_수',\n",
    "                   '여성연령대_50_금요일시간대_1_생활인구_수',\n",
    "                   '여성연령대_50_금요일시간대_2_생활인구_수',\n",
    "                   '여성연령대_50_금요일시간대_3_생활인구_수',\n",
    "                   '여성연령대_50_금요일시간대_4_생활인구_수',\n",
    "                   '여성연령대_50_금요일시간대_5_생활인구_수',\n",
    "                   '여성연령대_50_금요일시간대_6_생활인구_수',\n",
    "                   '여성연령대_50_토요일시간대_1_생활인구_수',\n",
    "                   '여성연령대_50_토요일시간대_2_생활인구_수',\n",
    "                   '여성연령대_50_토요일시간대_3_생활인구_수',\n",
    "                   '여성연령대_50_토요일시간대_4_생활인구_수',\n",
    "                   '여성연령대_50_토요일시간대_5_생활인구_수',\n",
    "                   '여성연령대_50_토요일시간대_6_생활인구_수',\n",
    "                   '여성연령대_50_일요일시간대_1_생활인구_수',\n",
    "                   '여성연령대_50_일요일시간대_2_생활인구_수',\n",
    "                   '여성연령대_50_일요일시간대_3_생활인구_수',\n",
    "                   '여성연령대_50_일요일시간대_4_생활인구_수',\n",
    "                   '여성연령대_50_일요일시간대_5_생활인구_수',\n",
    "                   '여성연령대_50_일요일시간대_6_생활인구_수',\n",
    "                   '여성연령대_60_이상_월요일시간대_1_생활인구_수',\n",
    "                   '여성연령대_60_이상_월요일시간대_2_생활인구_수',\n",
    "                   '여성연령대_60_이상_월요일시간대_3_생활인구_수',\n",
    "                   '여성연령대_60_이상_월요일시간대_4_생활인구_수',\n",
    "                   '여성연령대_60_이상_월요일시간대_5_생활인구_수',\n",
    "                   '여성연령대_60_이상_월요일시간대_6_생활인구_수',\n",
    "                   '여성연령대_60_이상_화요일시간대_1_생활인구_수',\n",
    "                   '여성연령대_60_이상_화요일시간대_2_생활인구_수',\n",
    "                   '여성연령대_60_이상_화요일시간대_3_생활인구_수',\n",
    "                   '여성연령대_60_이상_화요일시간대_4_생활인구_수',\n",
    "                   '여성연령대_60_이상_화요일시간대_5_생활인구_수',\n",
    "                   '여성연령대_60_이상_화요일시간대_6_생활인구_수',\n",
    "                   '여성연령대_60_이상_수요일시간대_1_생활인구_수',\n",
    "                   '여성연령대_60_이상_수요일시간대_2_생활인구_수',\n",
    "                   '여성연령대_60_이상_수요일시간대_3_생활인구_수',\n",
    "                   '여성연령대_60_이상_수요일시간대_4_생활인구_수',\n",
    "                   '여성연령대_60_이상_수요일시간대_5_생활인구_수',\n",
    "                   '여성연령대_60_이상_수요일시간대_6_생활인구_수',\n",
    "                   '여성연령대_60_이상_목요일시간대_1_생활인구_수',\n",
    "                   '여성연령대_60_이상_목요일시간대_2_생활인구_수',\n",
    "                   '여성연령대_60_이상_목요일시간대_3_생활인구_수',\n",
    "                   '여성연령대_60_이상_목요일시간대_4_생활인구_수',\n",
    "                   '여성연령대_60_이상_목요일시간대_5_생활인구_수',\n",
    "                   '여성연령대_60_이상_목요일시간대_6_생활인구_수',\n",
    "                   '여성연령대_60_이상_금요일시간대_1_생활인구_수',\n",
    "                   '여성연령대_60_이상_금요일시간대_2_생활인구_수',\n",
    "                   '여성연령대_60_이상_금요일시간대_3_생활인구_수',\n",
    "                   '여성연령대_60_이상_금요일시간대_4_생활인구_수',\n",
    "                   '여성연령대_60_이상_금요일시간대_5_생활인구_수',\n",
    "                   '여성연령대_60_이상_금요일시간대_6_생활인구_수',\n",
    "                   '여성연령대_60_이상_토요일시간대_1_생활인구_수',\n",
    "                   '여성연령대_60_이상_토요일시간대_2_생활인구_수',\n",
    "                   '여성연령대_60_이상_토요일시간대_3_생활인구_수',\n",
    "                   '여성연령대_60_이상_토요일시간대_4_생활인구_수',\n",
    "                   '여성연령대_60_이상_토요일시간대_5_생활인구_수',\n",
    "                   '여성연령대_60_이상_토요일시간대_6_생활인구_수',\n",
    "                   '여성연령대_60_이상_일요일시간대_1_생활인구_수',\n",
    "                   '여성연령대_60_이상_일요일시간대_2_생활인구_수',\n",
    "                   '여성연령대_60_이상_일요일시간대_3_생활인구_수',\n",
    "                   '여성연령대_60_이상_일요일시간대_4_생활인구_수',\n",
    "                   '여성연령대_60_이상_일요일시간대_5_생활인구_수',\n",
    "                   '여성연령대_60_이상_일요일시간대_6_생활인구_수', ]\n",
    "\n",
    "totalDf.to_csv(\"서울 상권 생활인구.csv\",encoding=\"utf-8-sig\")\n",
    "\n",
    "totalDf"
   ]
  }
 ],
 "metadata": {
  "kernelspec": {
   "display_name": "Python 3 (ipykernel)",
   "language": "python",
   "name": "python3"
  },
  "language_info": {
   "codemirror_mode": {
    "name": "ipython",
    "version": 3
   },
   "file_extension": ".py",
   "mimetype": "text/x-python",
   "name": "python",
   "nbconvert_exporter": "python",
   "pygments_lexer": "ipython3",
   "version": "3.9.12"
  }
 },
 "nbformat": 4,
 "nbformat_minor": 5
}
