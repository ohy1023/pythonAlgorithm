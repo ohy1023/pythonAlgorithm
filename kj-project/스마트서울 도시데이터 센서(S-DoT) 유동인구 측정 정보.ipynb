{
 "cells": [
  {
   "cell_type": "code",
   "execution_count": 1,
   "id": "f70602c8",
   "metadata": {},
   "outputs": [
    {
     "name": "stdout",
     "output_type": "stream",
     "text": [
      "1056091\n"
     ]
    },
    {
     "name": "stderr",
     "output_type": "stream",
     "text": [
      "C:\\Users\\ohy\\AppData\\Local\\Temp\\ipykernel_17400\\3983351454.py:33: FutureWarning: pandas.io.json.json_normalize is deprecated, use pandas.json_normalize instead.\n",
      "  totalDf = totalDf.append(json_normalize(body), ignore_index=True)\n",
      "C:\\Users\\ohy\\AppData\\Local\\Temp\\ipykernel_17400\\3983351454.py:33: FutureWarning: The frame.append method is deprecated and will be removed from pandas in a future version. Use pandas.concat instead.\n",
      "  totalDf = totalDf.append(json_normalize(body), ignore_index=True)\n"
     ]
    },
    {
     "name": "stdout",
     "output_type": "stream",
     "text": [
      "1\n"
     ]
    },
    {
     "name": "stderr",
     "output_type": "stream",
     "text": [
      "C:\\Users\\ohy\\AppData\\Local\\Temp\\ipykernel_17400\\3983351454.py:33: FutureWarning: pandas.io.json.json_normalize is deprecated, use pandas.json_normalize instead.\n",
      "  totalDf = totalDf.append(json_normalize(body), ignore_index=True)\n",
      "C:\\Users\\ohy\\AppData\\Local\\Temp\\ipykernel_17400\\3983351454.py:33: FutureWarning: The frame.append method is deprecated and will be removed from pandas in a future version. Use pandas.concat instead.\n",
      "  totalDf = totalDf.append(json_normalize(body), ignore_index=True)\n"
     ]
    },
    {
     "name": "stdout",
     "output_type": "stream",
     "text": [
      "1001\n"
     ]
    },
    {
     "name": "stderr",
     "output_type": "stream",
     "text": [
      "C:\\Users\\ohy\\AppData\\Local\\Temp\\ipykernel_17400\\3983351454.py:33: FutureWarning: pandas.io.json.json_normalize is deprecated, use pandas.json_normalize instead.\n",
      "  totalDf = totalDf.append(json_normalize(body), ignore_index=True)\n",
      "C:\\Users\\ohy\\AppData\\Local\\Temp\\ipykernel_17400\\3983351454.py:33: FutureWarning: The frame.append method is deprecated and will be removed from pandas in a future version. Use pandas.concat instead.\n",
      "  totalDf = totalDf.append(json_normalize(body), ignore_index=True)\n"
     ]
    },
    {
     "name": "stdout",
     "output_type": "stream",
     "text": [
      "2001\n"
     ]
    },
    {
     "name": "stderr",
     "output_type": "stream",
     "text": [
      "C:\\Users\\ohy\\AppData\\Local\\Temp\\ipykernel_17400\\3983351454.py:33: FutureWarning: pandas.io.json.json_normalize is deprecated, use pandas.json_normalize instead.\n",
      "  totalDf = totalDf.append(json_normalize(body), ignore_index=True)\n",
      "C:\\Users\\ohy\\AppData\\Local\\Temp\\ipykernel_17400\\3983351454.py:33: FutureWarning: The frame.append method is deprecated and will be removed from pandas in a future version. Use pandas.concat instead.\n",
      "  totalDf = totalDf.append(json_normalize(body), ignore_index=True)\n"
     ]
    },
    {
     "name": "stdout",
     "output_type": "stream",
     "text": [
      "3001\n"
     ]
    },
    {
     "name": "stderr",
     "output_type": "stream",
     "text": [
      "C:\\Users\\ohy\\AppData\\Local\\Temp\\ipykernel_17400\\3983351454.py:33: FutureWarning: pandas.io.json.json_normalize is deprecated, use pandas.json_normalize instead.\n",
      "  totalDf = totalDf.append(json_normalize(body), ignore_index=True)\n",
      "C:\\Users\\ohy\\AppData\\Local\\Temp\\ipykernel_17400\\3983351454.py:33: FutureWarning: The frame.append method is deprecated and will be removed from pandas in a future version. Use pandas.concat instead.\n",
      "  totalDf = totalDf.append(json_normalize(body), ignore_index=True)\n"
     ]
    },
    {
     "name": "stdout",
     "output_type": "stream",
     "text": [
      "4001\n"
     ]
    },
    {
     "name": "stderr",
     "output_type": "stream",
     "text": [
      "C:\\Users\\ohy\\AppData\\Local\\Temp\\ipykernel_17400\\3983351454.py:33: FutureWarning: pandas.io.json.json_normalize is deprecated, use pandas.json_normalize instead.\n",
      "  totalDf = totalDf.append(json_normalize(body), ignore_index=True)\n",
      "C:\\Users\\ohy\\AppData\\Local\\Temp\\ipykernel_17400\\3983351454.py:33: FutureWarning: The frame.append method is deprecated and will be removed from pandas in a future version. Use pandas.concat instead.\n",
      "  totalDf = totalDf.append(json_normalize(body), ignore_index=True)\n"
     ]
    },
    {
     "name": "stdout",
     "output_type": "stream",
     "text": [
      "5001\n"
     ]
    },
    {
     "name": "stderr",
     "output_type": "stream",
     "text": [
      "C:\\Users\\ohy\\AppData\\Local\\Temp\\ipykernel_17400\\3983351454.py:33: FutureWarning: pandas.io.json.json_normalize is deprecated, use pandas.json_normalize instead.\n",
      "  totalDf = totalDf.append(json_normalize(body), ignore_index=True)\n",
      "C:\\Users\\ohy\\AppData\\Local\\Temp\\ipykernel_17400\\3983351454.py:33: FutureWarning: The frame.append method is deprecated and will be removed from pandas in a future version. Use pandas.concat instead.\n",
      "  totalDf = totalDf.append(json_normalize(body), ignore_index=True)\n"
     ]
    },
    {
     "name": "stdout",
     "output_type": "stream",
     "text": [
      "6001\n"
     ]
    },
    {
     "name": "stderr",
     "output_type": "stream",
     "text": [
      "C:\\Users\\ohy\\AppData\\Local\\Temp\\ipykernel_17400\\3983351454.py:33: FutureWarning: pandas.io.json.json_normalize is deprecated, use pandas.json_normalize instead.\n",
      "  totalDf = totalDf.append(json_normalize(body), ignore_index=True)\n",
      "C:\\Users\\ohy\\AppData\\Local\\Temp\\ipykernel_17400\\3983351454.py:33: FutureWarning: The frame.append method is deprecated and will be removed from pandas in a future version. Use pandas.concat instead.\n",
      "  totalDf = totalDf.append(json_normalize(body), ignore_index=True)\n"
     ]
    },
    {
     "name": "stdout",
     "output_type": "stream",
     "text": [
      "7001\n"
     ]
    },
    {
     "name": "stderr",
     "output_type": "stream",
     "text": [
      "C:\\Users\\ohy\\AppData\\Local\\Temp\\ipykernel_17400\\3983351454.py:33: FutureWarning: pandas.io.json.json_normalize is deprecated, use pandas.json_normalize instead.\n",
      "  totalDf = totalDf.append(json_normalize(body), ignore_index=True)\n",
      "C:\\Users\\ohy\\AppData\\Local\\Temp\\ipykernel_17400\\3983351454.py:33: FutureWarning: The frame.append method is deprecated and will be removed from pandas in a future version. Use pandas.concat instead.\n",
      "  totalDf = totalDf.append(json_normalize(body), ignore_index=True)\n"
     ]
    },
    {
     "name": "stdout",
     "output_type": "stream",
     "text": [
      "8001\n"
     ]
    },
    {
     "name": "stderr",
     "output_type": "stream",
     "text": [
      "C:\\Users\\ohy\\AppData\\Local\\Temp\\ipykernel_17400\\3983351454.py:33: FutureWarning: pandas.io.json.json_normalize is deprecated, use pandas.json_normalize instead.\n",
      "  totalDf = totalDf.append(json_normalize(body), ignore_index=True)\n",
      "C:\\Users\\ohy\\AppData\\Local\\Temp\\ipykernel_17400\\3983351454.py:33: FutureWarning: The frame.append method is deprecated and will be removed from pandas in a future version. Use pandas.concat instead.\n",
      "  totalDf = totalDf.append(json_normalize(body), ignore_index=True)\n"
     ]
    },
    {
     "name": "stdout",
     "output_type": "stream",
     "text": [
      "9001\n"
     ]
    },
    {
     "name": "stderr",
     "output_type": "stream",
     "text": [
      "C:\\Users\\ohy\\AppData\\Local\\Temp\\ipykernel_17400\\3983351454.py:33: FutureWarning: pandas.io.json.json_normalize is deprecated, use pandas.json_normalize instead.\n",
      "  totalDf = totalDf.append(json_normalize(body), ignore_index=True)\n",
      "C:\\Users\\ohy\\AppData\\Local\\Temp\\ipykernel_17400\\3983351454.py:33: FutureWarning: The frame.append method is deprecated and will be removed from pandas in a future version. Use pandas.concat instead.\n",
      "  totalDf = totalDf.append(json_normalize(body), ignore_index=True)\n"
     ]
    },
    {
     "name": "stdout",
     "output_type": "stream",
     "text": [
      "10001\n"
     ]
    },
    {
     "name": "stderr",
     "output_type": "stream",
     "text": [
      "C:\\Users\\ohy\\AppData\\Local\\Temp\\ipykernel_17400\\3983351454.py:33: FutureWarning: pandas.io.json.json_normalize is deprecated, use pandas.json_normalize instead.\n",
      "  totalDf = totalDf.append(json_normalize(body), ignore_index=True)\n",
      "C:\\Users\\ohy\\AppData\\Local\\Temp\\ipykernel_17400\\3983351454.py:33: FutureWarning: The frame.append method is deprecated and will be removed from pandas in a future version. Use pandas.concat instead.\n",
      "  totalDf = totalDf.append(json_normalize(body), ignore_index=True)\n"
     ]
    },
    {
     "name": "stdout",
     "output_type": "stream",
     "text": [
      "11001\n"
     ]
    },
    {
     "name": "stderr",
     "output_type": "stream",
     "text": [
      "C:\\Users\\ohy\\AppData\\Local\\Temp\\ipykernel_17400\\3983351454.py:33: FutureWarning: pandas.io.json.json_normalize is deprecated, use pandas.json_normalize instead.\n",
      "  totalDf = totalDf.append(json_normalize(body), ignore_index=True)\n",
      "C:\\Users\\ohy\\AppData\\Local\\Temp\\ipykernel_17400\\3983351454.py:33: FutureWarning: The frame.append method is deprecated and will be removed from pandas in a future version. Use pandas.concat instead.\n",
      "  totalDf = totalDf.append(json_normalize(body), ignore_index=True)\n"
     ]
    },
    {
     "name": "stdout",
     "output_type": "stream",
     "text": [
      "12001\n"
     ]
    },
    {
     "name": "stderr",
     "output_type": "stream",
     "text": [
      "C:\\Users\\ohy\\AppData\\Local\\Temp\\ipykernel_17400\\3983351454.py:33: FutureWarning: pandas.io.json.json_normalize is deprecated, use pandas.json_normalize instead.\n",
      "  totalDf = totalDf.append(json_normalize(body), ignore_index=True)\n",
      "C:\\Users\\ohy\\AppData\\Local\\Temp\\ipykernel_17400\\3983351454.py:33: FutureWarning: The frame.append method is deprecated and will be removed from pandas in a future version. Use pandas.concat instead.\n",
      "  totalDf = totalDf.append(json_normalize(body), ignore_index=True)\n"
     ]
    },
    {
     "name": "stdout",
     "output_type": "stream",
     "text": [
      "13001\n"
     ]
    },
    {
     "name": "stderr",
     "output_type": "stream",
     "text": [
      "C:\\Users\\ohy\\AppData\\Local\\Temp\\ipykernel_17400\\3983351454.py:33: FutureWarning: pandas.io.json.json_normalize is deprecated, use pandas.json_normalize instead.\n",
      "  totalDf = totalDf.append(json_normalize(body), ignore_index=True)\n",
      "C:\\Users\\ohy\\AppData\\Local\\Temp\\ipykernel_17400\\3983351454.py:33: FutureWarning: The frame.append method is deprecated and will be removed from pandas in a future version. Use pandas.concat instead.\n",
      "  totalDf = totalDf.append(json_normalize(body), ignore_index=True)\n"
     ]
    },
    {
     "name": "stdout",
     "output_type": "stream",
     "text": [
      "14001\n"
     ]
    },
    {
     "name": "stderr",
     "output_type": "stream",
     "text": [
      "C:\\Users\\ohy\\AppData\\Local\\Temp\\ipykernel_17400\\3983351454.py:33: FutureWarning: pandas.io.json.json_normalize is deprecated, use pandas.json_normalize instead.\n",
      "  totalDf = totalDf.append(json_normalize(body), ignore_index=True)\n",
      "C:\\Users\\ohy\\AppData\\Local\\Temp\\ipykernel_17400\\3983351454.py:33: FutureWarning: The frame.append method is deprecated and will be removed from pandas in a future version. Use pandas.concat instead.\n",
      "  totalDf = totalDf.append(json_normalize(body), ignore_index=True)\n"
     ]
    },
    {
     "name": "stdout",
     "output_type": "stream",
     "text": [
      "15001\n"
     ]
    },
    {
     "name": "stderr",
     "output_type": "stream",
     "text": [
      "C:\\Users\\ohy\\AppData\\Local\\Temp\\ipykernel_17400\\3983351454.py:33: FutureWarning: pandas.io.json.json_normalize is deprecated, use pandas.json_normalize instead.\n",
      "  totalDf = totalDf.append(json_normalize(body), ignore_index=True)\n",
      "C:\\Users\\ohy\\AppData\\Local\\Temp\\ipykernel_17400\\3983351454.py:33: FutureWarning: The frame.append method is deprecated and will be removed from pandas in a future version. Use pandas.concat instead.\n",
      "  totalDf = totalDf.append(json_normalize(body), ignore_index=True)\n"
     ]
    },
    {
     "name": "stdout",
     "output_type": "stream",
     "text": [
      "16001\n"
     ]
    },
    {
     "name": "stderr",
     "output_type": "stream",
     "text": [
      "C:\\Users\\ohy\\AppData\\Local\\Temp\\ipykernel_17400\\3983351454.py:33: FutureWarning: pandas.io.json.json_normalize is deprecated, use pandas.json_normalize instead.\n",
      "  totalDf = totalDf.append(json_normalize(body), ignore_index=True)\n",
      "C:\\Users\\ohy\\AppData\\Local\\Temp\\ipykernel_17400\\3983351454.py:33: FutureWarning: The frame.append method is deprecated and will be removed from pandas in a future version. Use pandas.concat instead.\n",
      "  totalDf = totalDf.append(json_normalize(body), ignore_index=True)\n"
     ]
    },
    {
     "name": "stdout",
     "output_type": "stream",
     "text": [
      "17001\n"
     ]
    },
    {
     "name": "stderr",
     "output_type": "stream",
     "text": [
      "C:\\Users\\ohy\\AppData\\Local\\Temp\\ipykernel_17400\\3983351454.py:33: FutureWarning: pandas.io.json.json_normalize is deprecated, use pandas.json_normalize instead.\n",
      "  totalDf = totalDf.append(json_normalize(body), ignore_index=True)\n",
      "C:\\Users\\ohy\\AppData\\Local\\Temp\\ipykernel_17400\\3983351454.py:33: FutureWarning: The frame.append method is deprecated and will be removed from pandas in a future version. Use pandas.concat instead.\n",
      "  totalDf = totalDf.append(json_normalize(body), ignore_index=True)\n"
     ]
    },
    {
     "name": "stdout",
     "output_type": "stream",
     "text": [
      "18001\n"
     ]
    },
    {
     "name": "stderr",
     "output_type": "stream",
     "text": [
      "C:\\Users\\ohy\\AppData\\Local\\Temp\\ipykernel_17400\\3983351454.py:33: FutureWarning: pandas.io.json.json_normalize is deprecated, use pandas.json_normalize instead.\n",
      "  totalDf = totalDf.append(json_normalize(body), ignore_index=True)\n",
      "C:\\Users\\ohy\\AppData\\Local\\Temp\\ipykernel_17400\\3983351454.py:33: FutureWarning: The frame.append method is deprecated and will be removed from pandas in a future version. Use pandas.concat instead.\n",
      "  totalDf = totalDf.append(json_normalize(body), ignore_index=True)\n"
     ]
    },
    {
     "name": "stdout",
     "output_type": "stream",
     "text": [
      "19001\n"
     ]
    },
    {
     "name": "stderr",
     "output_type": "stream",
     "text": [
      "C:\\Users\\ohy\\AppData\\Local\\Temp\\ipykernel_17400\\3983351454.py:33: FutureWarning: pandas.io.json.json_normalize is deprecated, use pandas.json_normalize instead.\n",
      "  totalDf = totalDf.append(json_normalize(body), ignore_index=True)\n",
      "C:\\Users\\ohy\\AppData\\Local\\Temp\\ipykernel_17400\\3983351454.py:33: FutureWarning: The frame.append method is deprecated and will be removed from pandas in a future version. Use pandas.concat instead.\n",
      "  totalDf = totalDf.append(json_normalize(body), ignore_index=True)\n"
     ]
    },
    {
     "name": "stdout",
     "output_type": "stream",
     "text": [
      "20001\n"
     ]
    },
    {
     "name": "stderr",
     "output_type": "stream",
     "text": [
      "C:\\Users\\ohy\\AppData\\Local\\Temp\\ipykernel_17400\\3983351454.py:33: FutureWarning: pandas.io.json.json_normalize is deprecated, use pandas.json_normalize instead.\n",
      "  totalDf = totalDf.append(json_normalize(body), ignore_index=True)\n",
      "C:\\Users\\ohy\\AppData\\Local\\Temp\\ipykernel_17400\\3983351454.py:33: FutureWarning: The frame.append method is deprecated and will be removed from pandas in a future version. Use pandas.concat instead.\n",
      "  totalDf = totalDf.append(json_normalize(body), ignore_index=True)\n"
     ]
    },
    {
     "name": "stdout",
     "output_type": "stream",
     "text": [
      "21001\n"
     ]
    },
    {
     "name": "stderr",
     "output_type": "stream",
     "text": [
      "C:\\Users\\ohy\\AppData\\Local\\Temp\\ipykernel_17400\\3983351454.py:33: FutureWarning: pandas.io.json.json_normalize is deprecated, use pandas.json_normalize instead.\n",
      "  totalDf = totalDf.append(json_normalize(body), ignore_index=True)\n",
      "C:\\Users\\ohy\\AppData\\Local\\Temp\\ipykernel_17400\\3983351454.py:33: FutureWarning: The frame.append method is deprecated and will be removed from pandas in a future version. Use pandas.concat instead.\n",
      "  totalDf = totalDf.append(json_normalize(body), ignore_index=True)\n"
     ]
    },
    {
     "name": "stdout",
     "output_type": "stream",
     "text": [
      "22001\n"
     ]
    },
    {
     "name": "stderr",
     "output_type": "stream",
     "text": [
      "C:\\Users\\ohy\\AppData\\Local\\Temp\\ipykernel_17400\\3983351454.py:33: FutureWarning: pandas.io.json.json_normalize is deprecated, use pandas.json_normalize instead.\n",
      "  totalDf = totalDf.append(json_normalize(body), ignore_index=True)\n",
      "C:\\Users\\ohy\\AppData\\Local\\Temp\\ipykernel_17400\\3983351454.py:33: FutureWarning: The frame.append method is deprecated and will be removed from pandas in a future version. Use pandas.concat instead.\n",
      "  totalDf = totalDf.append(json_normalize(body), ignore_index=True)\n"
     ]
    },
    {
     "name": "stdout",
     "output_type": "stream",
     "text": [
      "23001\n"
     ]
    },
    {
     "name": "stderr",
     "output_type": "stream",
     "text": [
      "C:\\Users\\ohy\\AppData\\Local\\Temp\\ipykernel_17400\\3983351454.py:33: FutureWarning: pandas.io.json.json_normalize is deprecated, use pandas.json_normalize instead.\n",
      "  totalDf = totalDf.append(json_normalize(body), ignore_index=True)\n",
      "C:\\Users\\ohy\\AppData\\Local\\Temp\\ipykernel_17400\\3983351454.py:33: FutureWarning: The frame.append method is deprecated and will be removed from pandas in a future version. Use pandas.concat instead.\n",
      "  totalDf = totalDf.append(json_normalize(body), ignore_index=True)\n"
     ]
    },
    {
     "name": "stdout",
     "output_type": "stream",
     "text": [
      "24001\n"
     ]
    },
    {
     "name": "stderr",
     "output_type": "stream",
     "text": [
      "C:\\Users\\ohy\\AppData\\Local\\Temp\\ipykernel_17400\\3983351454.py:33: FutureWarning: pandas.io.json.json_normalize is deprecated, use pandas.json_normalize instead.\n",
      "  totalDf = totalDf.append(json_normalize(body), ignore_index=True)\n",
      "C:\\Users\\ohy\\AppData\\Local\\Temp\\ipykernel_17400\\3983351454.py:33: FutureWarning: The frame.append method is deprecated and will be removed from pandas in a future version. Use pandas.concat instead.\n",
      "  totalDf = totalDf.append(json_normalize(body), ignore_index=True)\n"
     ]
    },
    {
     "name": "stdout",
     "output_type": "stream",
     "text": [
      "25001\n"
     ]
    },
    {
     "name": "stderr",
     "output_type": "stream",
     "text": [
      "C:\\Users\\ohy\\AppData\\Local\\Temp\\ipykernel_17400\\3983351454.py:33: FutureWarning: pandas.io.json.json_normalize is deprecated, use pandas.json_normalize instead.\n",
      "  totalDf = totalDf.append(json_normalize(body), ignore_index=True)\n",
      "C:\\Users\\ohy\\AppData\\Local\\Temp\\ipykernel_17400\\3983351454.py:33: FutureWarning: The frame.append method is deprecated and will be removed from pandas in a future version. Use pandas.concat instead.\n",
      "  totalDf = totalDf.append(json_normalize(body), ignore_index=True)\n"
     ]
    },
    {
     "name": "stdout",
     "output_type": "stream",
     "text": [
      "26001\n"
     ]
    },
    {
     "name": "stderr",
     "output_type": "stream",
     "text": [
      "C:\\Users\\ohy\\AppData\\Local\\Temp\\ipykernel_17400\\3983351454.py:33: FutureWarning: pandas.io.json.json_normalize is deprecated, use pandas.json_normalize instead.\n",
      "  totalDf = totalDf.append(json_normalize(body), ignore_index=True)\n",
      "C:\\Users\\ohy\\AppData\\Local\\Temp\\ipykernel_17400\\3983351454.py:33: FutureWarning: The frame.append method is deprecated and will be removed from pandas in a future version. Use pandas.concat instead.\n",
      "  totalDf = totalDf.append(json_normalize(body), ignore_index=True)\n"
     ]
    },
    {
     "name": "stdout",
     "output_type": "stream",
     "text": [
      "27001\n"
     ]
    },
    {
     "name": "stderr",
     "output_type": "stream",
     "text": [
      "C:\\Users\\ohy\\AppData\\Local\\Temp\\ipykernel_17400\\3983351454.py:33: FutureWarning: pandas.io.json.json_normalize is deprecated, use pandas.json_normalize instead.\n",
      "  totalDf = totalDf.append(json_normalize(body), ignore_index=True)\n",
      "C:\\Users\\ohy\\AppData\\Local\\Temp\\ipykernel_17400\\3983351454.py:33: FutureWarning: The frame.append method is deprecated and will be removed from pandas in a future version. Use pandas.concat instead.\n",
      "  totalDf = totalDf.append(json_normalize(body), ignore_index=True)\n"
     ]
    },
    {
     "name": "stdout",
     "output_type": "stream",
     "text": [
      "28001\n"
     ]
    },
    {
     "name": "stderr",
     "output_type": "stream",
     "text": [
      "C:\\Users\\ohy\\AppData\\Local\\Temp\\ipykernel_17400\\3983351454.py:33: FutureWarning: pandas.io.json.json_normalize is deprecated, use pandas.json_normalize instead.\n",
      "  totalDf = totalDf.append(json_normalize(body), ignore_index=True)\n",
      "C:\\Users\\ohy\\AppData\\Local\\Temp\\ipykernel_17400\\3983351454.py:33: FutureWarning: The frame.append method is deprecated and will be removed from pandas in a future version. Use pandas.concat instead.\n",
      "  totalDf = totalDf.append(json_normalize(body), ignore_index=True)\n"
     ]
    },
    {
     "name": "stdout",
     "output_type": "stream",
     "text": [
      "29001\n"
     ]
    },
    {
     "name": "stderr",
     "output_type": "stream",
     "text": [
      "C:\\Users\\ohy\\AppData\\Local\\Temp\\ipykernel_17400\\3983351454.py:33: FutureWarning: pandas.io.json.json_normalize is deprecated, use pandas.json_normalize instead.\n",
      "  totalDf = totalDf.append(json_normalize(body), ignore_index=True)\n",
      "C:\\Users\\ohy\\AppData\\Local\\Temp\\ipykernel_17400\\3983351454.py:33: FutureWarning: The frame.append method is deprecated and will be removed from pandas in a future version. Use pandas.concat instead.\n",
      "  totalDf = totalDf.append(json_normalize(body), ignore_index=True)\n"
     ]
    },
    {
     "name": "stdout",
     "output_type": "stream",
     "text": [
      "30001\n"
     ]
    },
    {
     "name": "stderr",
     "output_type": "stream",
     "text": [
      "C:\\Users\\ohy\\AppData\\Local\\Temp\\ipykernel_17400\\3983351454.py:33: FutureWarning: pandas.io.json.json_normalize is deprecated, use pandas.json_normalize instead.\n",
      "  totalDf = totalDf.append(json_normalize(body), ignore_index=True)\n",
      "C:\\Users\\ohy\\AppData\\Local\\Temp\\ipykernel_17400\\3983351454.py:33: FutureWarning: The frame.append method is deprecated and will be removed from pandas in a future version. Use pandas.concat instead.\n",
      "  totalDf = totalDf.append(json_normalize(body), ignore_index=True)\n"
     ]
    },
    {
     "name": "stdout",
     "output_type": "stream",
     "text": [
      "31001\n"
     ]
    },
    {
     "name": "stderr",
     "output_type": "stream",
     "text": [
      "C:\\Users\\ohy\\AppData\\Local\\Temp\\ipykernel_17400\\3983351454.py:33: FutureWarning: pandas.io.json.json_normalize is deprecated, use pandas.json_normalize instead.\n",
      "  totalDf = totalDf.append(json_normalize(body), ignore_index=True)\n",
      "C:\\Users\\ohy\\AppData\\Local\\Temp\\ipykernel_17400\\3983351454.py:33: FutureWarning: The frame.append method is deprecated and will be removed from pandas in a future version. Use pandas.concat instead.\n",
      "  totalDf = totalDf.append(json_normalize(body), ignore_index=True)\n"
     ]
    },
    {
     "name": "stdout",
     "output_type": "stream",
     "text": [
      "32001\n"
     ]
    },
    {
     "name": "stderr",
     "output_type": "stream",
     "text": [
      "C:\\Users\\ohy\\AppData\\Local\\Temp\\ipykernel_17400\\3983351454.py:33: FutureWarning: pandas.io.json.json_normalize is deprecated, use pandas.json_normalize instead.\n",
      "  totalDf = totalDf.append(json_normalize(body), ignore_index=True)\n",
      "C:\\Users\\ohy\\AppData\\Local\\Temp\\ipykernel_17400\\3983351454.py:33: FutureWarning: The frame.append method is deprecated and will be removed from pandas in a future version. Use pandas.concat instead.\n",
      "  totalDf = totalDf.append(json_normalize(body), ignore_index=True)\n"
     ]
    },
    {
     "name": "stdout",
     "output_type": "stream",
     "text": [
      "33001\n"
     ]
    },
    {
     "name": "stderr",
     "output_type": "stream",
     "text": [
      "C:\\Users\\ohy\\AppData\\Local\\Temp\\ipykernel_17400\\3983351454.py:33: FutureWarning: pandas.io.json.json_normalize is deprecated, use pandas.json_normalize instead.\n",
      "  totalDf = totalDf.append(json_normalize(body), ignore_index=True)\n",
      "C:\\Users\\ohy\\AppData\\Local\\Temp\\ipykernel_17400\\3983351454.py:33: FutureWarning: The frame.append method is deprecated and will be removed from pandas in a future version. Use pandas.concat instead.\n",
      "  totalDf = totalDf.append(json_normalize(body), ignore_index=True)\n"
     ]
    },
    {
     "name": "stdout",
     "output_type": "stream",
     "text": [
      "34001\n"
     ]
    },
    {
     "name": "stderr",
     "output_type": "stream",
     "text": [
      "C:\\Users\\ohy\\AppData\\Local\\Temp\\ipykernel_17400\\3983351454.py:33: FutureWarning: pandas.io.json.json_normalize is deprecated, use pandas.json_normalize instead.\n",
      "  totalDf = totalDf.append(json_normalize(body), ignore_index=True)\n",
      "C:\\Users\\ohy\\AppData\\Local\\Temp\\ipykernel_17400\\3983351454.py:33: FutureWarning: The frame.append method is deprecated and will be removed from pandas in a future version. Use pandas.concat instead.\n",
      "  totalDf = totalDf.append(json_normalize(body), ignore_index=True)\n"
     ]
    },
    {
     "name": "stdout",
     "output_type": "stream",
     "text": [
      "35001\n"
     ]
    },
    {
     "name": "stderr",
     "output_type": "stream",
     "text": [
      "C:\\Users\\ohy\\AppData\\Local\\Temp\\ipykernel_17400\\3983351454.py:33: FutureWarning: pandas.io.json.json_normalize is deprecated, use pandas.json_normalize instead.\n",
      "  totalDf = totalDf.append(json_normalize(body), ignore_index=True)\n",
      "C:\\Users\\ohy\\AppData\\Local\\Temp\\ipykernel_17400\\3983351454.py:33: FutureWarning: The frame.append method is deprecated and will be removed from pandas in a future version. Use pandas.concat instead.\n",
      "  totalDf = totalDf.append(json_normalize(body), ignore_index=True)\n"
     ]
    },
    {
     "name": "stdout",
     "output_type": "stream",
     "text": [
      "36001\n"
     ]
    },
    {
     "name": "stderr",
     "output_type": "stream",
     "text": [
      "C:\\Users\\ohy\\AppData\\Local\\Temp\\ipykernel_17400\\3983351454.py:33: FutureWarning: pandas.io.json.json_normalize is deprecated, use pandas.json_normalize instead.\n",
      "  totalDf = totalDf.append(json_normalize(body), ignore_index=True)\n",
      "C:\\Users\\ohy\\AppData\\Local\\Temp\\ipykernel_17400\\3983351454.py:33: FutureWarning: The frame.append method is deprecated and will be removed from pandas in a future version. Use pandas.concat instead.\n",
      "  totalDf = totalDf.append(json_normalize(body), ignore_index=True)\n"
     ]
    },
    {
     "name": "stdout",
     "output_type": "stream",
     "text": [
      "37001\n"
     ]
    },
    {
     "name": "stderr",
     "output_type": "stream",
     "text": [
      "C:\\Users\\ohy\\AppData\\Local\\Temp\\ipykernel_17400\\3983351454.py:33: FutureWarning: pandas.io.json.json_normalize is deprecated, use pandas.json_normalize instead.\n",
      "  totalDf = totalDf.append(json_normalize(body), ignore_index=True)\n",
      "C:\\Users\\ohy\\AppData\\Local\\Temp\\ipykernel_17400\\3983351454.py:33: FutureWarning: The frame.append method is deprecated and will be removed from pandas in a future version. Use pandas.concat instead.\n",
      "  totalDf = totalDf.append(json_normalize(body), ignore_index=True)\n"
     ]
    },
    {
     "name": "stdout",
     "output_type": "stream",
     "text": [
      "38001\n"
     ]
    },
    {
     "name": "stderr",
     "output_type": "stream",
     "text": [
      "C:\\Users\\ohy\\AppData\\Local\\Temp\\ipykernel_17400\\3983351454.py:33: FutureWarning: pandas.io.json.json_normalize is deprecated, use pandas.json_normalize instead.\n",
      "  totalDf = totalDf.append(json_normalize(body), ignore_index=True)\n",
      "C:\\Users\\ohy\\AppData\\Local\\Temp\\ipykernel_17400\\3983351454.py:33: FutureWarning: The frame.append method is deprecated and will be removed from pandas in a future version. Use pandas.concat instead.\n",
      "  totalDf = totalDf.append(json_normalize(body), ignore_index=True)\n"
     ]
    },
    {
     "name": "stdout",
     "output_type": "stream",
     "text": [
      "39001\n"
     ]
    },
    {
     "name": "stderr",
     "output_type": "stream",
     "text": [
      "C:\\Users\\ohy\\AppData\\Local\\Temp\\ipykernel_17400\\3983351454.py:33: FutureWarning: pandas.io.json.json_normalize is deprecated, use pandas.json_normalize instead.\n",
      "  totalDf = totalDf.append(json_normalize(body), ignore_index=True)\n",
      "C:\\Users\\ohy\\AppData\\Local\\Temp\\ipykernel_17400\\3983351454.py:33: FutureWarning: The frame.append method is deprecated and will be removed from pandas in a future version. Use pandas.concat instead.\n",
      "  totalDf = totalDf.append(json_normalize(body), ignore_index=True)\n"
     ]
    },
    {
     "name": "stdout",
     "output_type": "stream",
     "text": [
      "40001\n"
     ]
    },
    {
     "name": "stderr",
     "output_type": "stream",
     "text": [
      "C:\\Users\\ohy\\AppData\\Local\\Temp\\ipykernel_17400\\3983351454.py:33: FutureWarning: pandas.io.json.json_normalize is deprecated, use pandas.json_normalize instead.\n",
      "  totalDf = totalDf.append(json_normalize(body), ignore_index=True)\n",
      "C:\\Users\\ohy\\AppData\\Local\\Temp\\ipykernel_17400\\3983351454.py:33: FutureWarning: The frame.append method is deprecated and will be removed from pandas in a future version. Use pandas.concat instead.\n",
      "  totalDf = totalDf.append(json_normalize(body), ignore_index=True)\n"
     ]
    },
    {
     "name": "stdout",
     "output_type": "stream",
     "text": [
      "41001\n"
     ]
    },
    {
     "name": "stderr",
     "output_type": "stream",
     "text": [
      "C:\\Users\\ohy\\AppData\\Local\\Temp\\ipykernel_17400\\3983351454.py:33: FutureWarning: pandas.io.json.json_normalize is deprecated, use pandas.json_normalize instead.\n",
      "  totalDf = totalDf.append(json_normalize(body), ignore_index=True)\n",
      "C:\\Users\\ohy\\AppData\\Local\\Temp\\ipykernel_17400\\3983351454.py:33: FutureWarning: The frame.append method is deprecated and will be removed from pandas in a future version. Use pandas.concat instead.\n",
      "  totalDf = totalDf.append(json_normalize(body), ignore_index=True)\n"
     ]
    },
    {
     "name": "stdout",
     "output_type": "stream",
     "text": [
      "42001\n"
     ]
    },
    {
     "name": "stderr",
     "output_type": "stream",
     "text": [
      "C:\\Users\\ohy\\AppData\\Local\\Temp\\ipykernel_17400\\3983351454.py:33: FutureWarning: pandas.io.json.json_normalize is deprecated, use pandas.json_normalize instead.\n",
      "  totalDf = totalDf.append(json_normalize(body), ignore_index=True)\n",
      "C:\\Users\\ohy\\AppData\\Local\\Temp\\ipykernel_17400\\3983351454.py:33: FutureWarning: The frame.append method is deprecated and will be removed from pandas in a future version. Use pandas.concat instead.\n",
      "  totalDf = totalDf.append(json_normalize(body), ignore_index=True)\n"
     ]
    },
    {
     "name": "stdout",
     "output_type": "stream",
     "text": [
      "43001\n"
     ]
    },
    {
     "name": "stderr",
     "output_type": "stream",
     "text": [
      "C:\\Users\\ohy\\AppData\\Local\\Temp\\ipykernel_17400\\3983351454.py:33: FutureWarning: pandas.io.json.json_normalize is deprecated, use pandas.json_normalize instead.\n",
      "  totalDf = totalDf.append(json_normalize(body), ignore_index=True)\n",
      "C:\\Users\\ohy\\AppData\\Local\\Temp\\ipykernel_17400\\3983351454.py:33: FutureWarning: The frame.append method is deprecated and will be removed from pandas in a future version. Use pandas.concat instead.\n",
      "  totalDf = totalDf.append(json_normalize(body), ignore_index=True)\n"
     ]
    },
    {
     "name": "stdout",
     "output_type": "stream",
     "text": [
      "44001\n"
     ]
    },
    {
     "name": "stderr",
     "output_type": "stream",
     "text": [
      "C:\\Users\\ohy\\AppData\\Local\\Temp\\ipykernel_17400\\3983351454.py:33: FutureWarning: pandas.io.json.json_normalize is deprecated, use pandas.json_normalize instead.\n",
      "  totalDf = totalDf.append(json_normalize(body), ignore_index=True)\n",
      "C:\\Users\\ohy\\AppData\\Local\\Temp\\ipykernel_17400\\3983351454.py:33: FutureWarning: The frame.append method is deprecated and will be removed from pandas in a future version. Use pandas.concat instead.\n",
      "  totalDf = totalDf.append(json_normalize(body), ignore_index=True)\n"
     ]
    },
    {
     "name": "stdout",
     "output_type": "stream",
     "text": [
      "45001\n"
     ]
    },
    {
     "name": "stderr",
     "output_type": "stream",
     "text": [
      "C:\\Users\\ohy\\AppData\\Local\\Temp\\ipykernel_17400\\3983351454.py:33: FutureWarning: pandas.io.json.json_normalize is deprecated, use pandas.json_normalize instead.\n",
      "  totalDf = totalDf.append(json_normalize(body), ignore_index=True)\n",
      "C:\\Users\\ohy\\AppData\\Local\\Temp\\ipykernel_17400\\3983351454.py:33: FutureWarning: The frame.append method is deprecated and will be removed from pandas in a future version. Use pandas.concat instead.\n",
      "  totalDf = totalDf.append(json_normalize(body), ignore_index=True)\n"
     ]
    },
    {
     "name": "stdout",
     "output_type": "stream",
     "text": [
      "46001\n"
     ]
    },
    {
     "name": "stderr",
     "output_type": "stream",
     "text": [
      "C:\\Users\\ohy\\AppData\\Local\\Temp\\ipykernel_17400\\3983351454.py:33: FutureWarning: pandas.io.json.json_normalize is deprecated, use pandas.json_normalize instead.\n",
      "  totalDf = totalDf.append(json_normalize(body), ignore_index=True)\n",
      "C:\\Users\\ohy\\AppData\\Local\\Temp\\ipykernel_17400\\3983351454.py:33: FutureWarning: The frame.append method is deprecated and will be removed from pandas in a future version. Use pandas.concat instead.\n",
      "  totalDf = totalDf.append(json_normalize(body), ignore_index=True)\n"
     ]
    },
    {
     "name": "stdout",
     "output_type": "stream",
     "text": [
      "47001\n"
     ]
    },
    {
     "name": "stderr",
     "output_type": "stream",
     "text": [
      "C:\\Users\\ohy\\AppData\\Local\\Temp\\ipykernel_17400\\3983351454.py:33: FutureWarning: pandas.io.json.json_normalize is deprecated, use pandas.json_normalize instead.\n",
      "  totalDf = totalDf.append(json_normalize(body), ignore_index=True)\n",
      "C:\\Users\\ohy\\AppData\\Local\\Temp\\ipykernel_17400\\3983351454.py:33: FutureWarning: The frame.append method is deprecated and will be removed from pandas in a future version. Use pandas.concat instead.\n",
      "  totalDf = totalDf.append(json_normalize(body), ignore_index=True)\n"
     ]
    },
    {
     "name": "stdout",
     "output_type": "stream",
     "text": [
      "48001\n"
     ]
    },
    {
     "name": "stderr",
     "output_type": "stream",
     "text": [
      "C:\\Users\\ohy\\AppData\\Local\\Temp\\ipykernel_17400\\3983351454.py:33: FutureWarning: pandas.io.json.json_normalize is deprecated, use pandas.json_normalize instead.\n",
      "  totalDf = totalDf.append(json_normalize(body), ignore_index=True)\n",
      "C:\\Users\\ohy\\AppData\\Local\\Temp\\ipykernel_17400\\3983351454.py:33: FutureWarning: The frame.append method is deprecated and will be removed from pandas in a future version. Use pandas.concat instead.\n",
      "  totalDf = totalDf.append(json_normalize(body), ignore_index=True)\n"
     ]
    },
    {
     "name": "stdout",
     "output_type": "stream",
     "text": [
      "49001\n"
     ]
    },
    {
     "name": "stderr",
     "output_type": "stream",
     "text": [
      "C:\\Users\\ohy\\AppData\\Local\\Temp\\ipykernel_17400\\3983351454.py:33: FutureWarning: pandas.io.json.json_normalize is deprecated, use pandas.json_normalize instead.\n",
      "  totalDf = totalDf.append(json_normalize(body), ignore_index=True)\n",
      "C:\\Users\\ohy\\AppData\\Local\\Temp\\ipykernel_17400\\3983351454.py:33: FutureWarning: The frame.append method is deprecated and will be removed from pandas in a future version. Use pandas.concat instead.\n",
      "  totalDf = totalDf.append(json_normalize(body), ignore_index=True)\n"
     ]
    },
    {
     "name": "stdout",
     "output_type": "stream",
     "text": [
      "50001\n"
     ]
    },
    {
     "name": "stderr",
     "output_type": "stream",
     "text": [
      "C:\\Users\\ohy\\AppData\\Local\\Temp\\ipykernel_17400\\3983351454.py:33: FutureWarning: pandas.io.json.json_normalize is deprecated, use pandas.json_normalize instead.\n",
      "  totalDf = totalDf.append(json_normalize(body), ignore_index=True)\n",
      "C:\\Users\\ohy\\AppData\\Local\\Temp\\ipykernel_17400\\3983351454.py:33: FutureWarning: The frame.append method is deprecated and will be removed from pandas in a future version. Use pandas.concat instead.\n",
      "  totalDf = totalDf.append(json_normalize(body), ignore_index=True)\n"
     ]
    },
    {
     "name": "stdout",
     "output_type": "stream",
     "text": [
      "51001\n"
     ]
    },
    {
     "name": "stderr",
     "output_type": "stream",
     "text": [
      "C:\\Users\\ohy\\AppData\\Local\\Temp\\ipykernel_17400\\3983351454.py:33: FutureWarning: pandas.io.json.json_normalize is deprecated, use pandas.json_normalize instead.\n",
      "  totalDf = totalDf.append(json_normalize(body), ignore_index=True)\n",
      "C:\\Users\\ohy\\AppData\\Local\\Temp\\ipykernel_17400\\3983351454.py:33: FutureWarning: The frame.append method is deprecated and will be removed from pandas in a future version. Use pandas.concat instead.\n",
      "  totalDf = totalDf.append(json_normalize(body), ignore_index=True)\n"
     ]
    },
    {
     "name": "stdout",
     "output_type": "stream",
     "text": [
      "52001\n"
     ]
    },
    {
     "name": "stderr",
     "output_type": "stream",
     "text": [
      "C:\\Users\\ohy\\AppData\\Local\\Temp\\ipykernel_17400\\3983351454.py:33: FutureWarning: pandas.io.json.json_normalize is deprecated, use pandas.json_normalize instead.\n",
      "  totalDf = totalDf.append(json_normalize(body), ignore_index=True)\n",
      "C:\\Users\\ohy\\AppData\\Local\\Temp\\ipykernel_17400\\3983351454.py:33: FutureWarning: The frame.append method is deprecated and will be removed from pandas in a future version. Use pandas.concat instead.\n",
      "  totalDf = totalDf.append(json_normalize(body), ignore_index=True)\n"
     ]
    },
    {
     "name": "stdout",
     "output_type": "stream",
     "text": [
      "53001\n"
     ]
    },
    {
     "name": "stderr",
     "output_type": "stream",
     "text": [
      "C:\\Users\\ohy\\AppData\\Local\\Temp\\ipykernel_17400\\3983351454.py:33: FutureWarning: pandas.io.json.json_normalize is deprecated, use pandas.json_normalize instead.\n",
      "  totalDf = totalDf.append(json_normalize(body), ignore_index=True)\n",
      "C:\\Users\\ohy\\AppData\\Local\\Temp\\ipykernel_17400\\3983351454.py:33: FutureWarning: The frame.append method is deprecated and will be removed from pandas in a future version. Use pandas.concat instead.\n",
      "  totalDf = totalDf.append(json_normalize(body), ignore_index=True)\n"
     ]
    },
    {
     "name": "stdout",
     "output_type": "stream",
     "text": [
      "54001\n"
     ]
    },
    {
     "name": "stderr",
     "output_type": "stream",
     "text": [
      "C:\\Users\\ohy\\AppData\\Local\\Temp\\ipykernel_17400\\3983351454.py:33: FutureWarning: pandas.io.json.json_normalize is deprecated, use pandas.json_normalize instead.\n",
      "  totalDf = totalDf.append(json_normalize(body), ignore_index=True)\n",
      "C:\\Users\\ohy\\AppData\\Local\\Temp\\ipykernel_17400\\3983351454.py:33: FutureWarning: The frame.append method is deprecated and will be removed from pandas in a future version. Use pandas.concat instead.\n",
      "  totalDf = totalDf.append(json_normalize(body), ignore_index=True)\n"
     ]
    },
    {
     "name": "stdout",
     "output_type": "stream",
     "text": [
      "55001\n"
     ]
    },
    {
     "name": "stderr",
     "output_type": "stream",
     "text": [
      "C:\\Users\\ohy\\AppData\\Local\\Temp\\ipykernel_17400\\3983351454.py:33: FutureWarning: pandas.io.json.json_normalize is deprecated, use pandas.json_normalize instead.\n",
      "  totalDf = totalDf.append(json_normalize(body), ignore_index=True)\n",
      "C:\\Users\\ohy\\AppData\\Local\\Temp\\ipykernel_17400\\3983351454.py:33: FutureWarning: The frame.append method is deprecated and will be removed from pandas in a future version. Use pandas.concat instead.\n",
      "  totalDf = totalDf.append(json_normalize(body), ignore_index=True)\n"
     ]
    },
    {
     "name": "stdout",
     "output_type": "stream",
     "text": [
      "56001\n"
     ]
    },
    {
     "name": "stderr",
     "output_type": "stream",
     "text": [
      "C:\\Users\\ohy\\AppData\\Local\\Temp\\ipykernel_17400\\3983351454.py:33: FutureWarning: pandas.io.json.json_normalize is deprecated, use pandas.json_normalize instead.\n",
      "  totalDf = totalDf.append(json_normalize(body), ignore_index=True)\n",
      "C:\\Users\\ohy\\AppData\\Local\\Temp\\ipykernel_17400\\3983351454.py:33: FutureWarning: The frame.append method is deprecated and will be removed from pandas in a future version. Use pandas.concat instead.\n",
      "  totalDf = totalDf.append(json_normalize(body), ignore_index=True)\n"
     ]
    },
    {
     "name": "stdout",
     "output_type": "stream",
     "text": [
      "57001\n"
     ]
    },
    {
     "name": "stderr",
     "output_type": "stream",
     "text": [
      "C:\\Users\\ohy\\AppData\\Local\\Temp\\ipykernel_17400\\3983351454.py:33: FutureWarning: pandas.io.json.json_normalize is deprecated, use pandas.json_normalize instead.\n",
      "  totalDf = totalDf.append(json_normalize(body), ignore_index=True)\n",
      "C:\\Users\\ohy\\AppData\\Local\\Temp\\ipykernel_17400\\3983351454.py:33: FutureWarning: The frame.append method is deprecated and will be removed from pandas in a future version. Use pandas.concat instead.\n",
      "  totalDf = totalDf.append(json_normalize(body), ignore_index=True)\n"
     ]
    },
    {
     "name": "stdout",
     "output_type": "stream",
     "text": [
      "58001\n"
     ]
    },
    {
     "name": "stderr",
     "output_type": "stream",
     "text": [
      "C:\\Users\\ohy\\AppData\\Local\\Temp\\ipykernel_17400\\3983351454.py:33: FutureWarning: pandas.io.json.json_normalize is deprecated, use pandas.json_normalize instead.\n",
      "  totalDf = totalDf.append(json_normalize(body), ignore_index=True)\n",
      "C:\\Users\\ohy\\AppData\\Local\\Temp\\ipykernel_17400\\3983351454.py:33: FutureWarning: The frame.append method is deprecated and will be removed from pandas in a future version. Use pandas.concat instead.\n",
      "  totalDf = totalDf.append(json_normalize(body), ignore_index=True)\n"
     ]
    },
    {
     "name": "stdout",
     "output_type": "stream",
     "text": [
      "59001\n"
     ]
    },
    {
     "name": "stderr",
     "output_type": "stream",
     "text": [
      "C:\\Users\\ohy\\AppData\\Local\\Temp\\ipykernel_17400\\3983351454.py:33: FutureWarning: pandas.io.json.json_normalize is deprecated, use pandas.json_normalize instead.\n",
      "  totalDf = totalDf.append(json_normalize(body), ignore_index=True)\n",
      "C:\\Users\\ohy\\AppData\\Local\\Temp\\ipykernel_17400\\3983351454.py:33: FutureWarning: The frame.append method is deprecated and will be removed from pandas in a future version. Use pandas.concat instead.\n",
      "  totalDf = totalDf.append(json_normalize(body), ignore_index=True)\n"
     ]
    },
    {
     "name": "stdout",
     "output_type": "stream",
     "text": [
      "60001\n"
     ]
    },
    {
     "name": "stderr",
     "output_type": "stream",
     "text": [
      "C:\\Users\\ohy\\AppData\\Local\\Temp\\ipykernel_17400\\3983351454.py:33: FutureWarning: pandas.io.json.json_normalize is deprecated, use pandas.json_normalize instead.\n",
      "  totalDf = totalDf.append(json_normalize(body), ignore_index=True)\n",
      "C:\\Users\\ohy\\AppData\\Local\\Temp\\ipykernel_17400\\3983351454.py:33: FutureWarning: The frame.append method is deprecated and will be removed from pandas in a future version. Use pandas.concat instead.\n",
      "  totalDf = totalDf.append(json_normalize(body), ignore_index=True)\n"
     ]
    },
    {
     "name": "stdout",
     "output_type": "stream",
     "text": [
      "61001\n"
     ]
    },
    {
     "name": "stderr",
     "output_type": "stream",
     "text": [
      "C:\\Users\\ohy\\AppData\\Local\\Temp\\ipykernel_17400\\3983351454.py:33: FutureWarning: pandas.io.json.json_normalize is deprecated, use pandas.json_normalize instead.\n",
      "  totalDf = totalDf.append(json_normalize(body), ignore_index=True)\n",
      "C:\\Users\\ohy\\AppData\\Local\\Temp\\ipykernel_17400\\3983351454.py:33: FutureWarning: The frame.append method is deprecated and will be removed from pandas in a future version. Use pandas.concat instead.\n",
      "  totalDf = totalDf.append(json_normalize(body), ignore_index=True)\n"
     ]
    },
    {
     "name": "stdout",
     "output_type": "stream",
     "text": [
      "62001\n"
     ]
    },
    {
     "name": "stderr",
     "output_type": "stream",
     "text": [
      "C:\\Users\\ohy\\AppData\\Local\\Temp\\ipykernel_17400\\3983351454.py:33: FutureWarning: pandas.io.json.json_normalize is deprecated, use pandas.json_normalize instead.\n",
      "  totalDf = totalDf.append(json_normalize(body), ignore_index=True)\n",
      "C:\\Users\\ohy\\AppData\\Local\\Temp\\ipykernel_17400\\3983351454.py:33: FutureWarning: The frame.append method is deprecated and will be removed from pandas in a future version. Use pandas.concat instead.\n",
      "  totalDf = totalDf.append(json_normalize(body), ignore_index=True)\n"
     ]
    },
    {
     "name": "stdout",
     "output_type": "stream",
     "text": [
      "63001\n"
     ]
    },
    {
     "name": "stderr",
     "output_type": "stream",
     "text": [
      "C:\\Users\\ohy\\AppData\\Local\\Temp\\ipykernel_17400\\3983351454.py:33: FutureWarning: pandas.io.json.json_normalize is deprecated, use pandas.json_normalize instead.\n",
      "  totalDf = totalDf.append(json_normalize(body), ignore_index=True)\n",
      "C:\\Users\\ohy\\AppData\\Local\\Temp\\ipykernel_17400\\3983351454.py:33: FutureWarning: The frame.append method is deprecated and will be removed from pandas in a future version. Use pandas.concat instead.\n",
      "  totalDf = totalDf.append(json_normalize(body), ignore_index=True)\n"
     ]
    },
    {
     "name": "stdout",
     "output_type": "stream",
     "text": [
      "64001\n"
     ]
    },
    {
     "name": "stderr",
     "output_type": "stream",
     "text": [
      "C:\\Users\\ohy\\AppData\\Local\\Temp\\ipykernel_17400\\3983351454.py:33: FutureWarning: pandas.io.json.json_normalize is deprecated, use pandas.json_normalize instead.\n",
      "  totalDf = totalDf.append(json_normalize(body), ignore_index=True)\n",
      "C:\\Users\\ohy\\AppData\\Local\\Temp\\ipykernel_17400\\3983351454.py:33: FutureWarning: The frame.append method is deprecated and will be removed from pandas in a future version. Use pandas.concat instead.\n",
      "  totalDf = totalDf.append(json_normalize(body), ignore_index=True)\n"
     ]
    },
    {
     "name": "stdout",
     "output_type": "stream",
     "text": [
      "65001\n"
     ]
    },
    {
     "name": "stderr",
     "output_type": "stream",
     "text": [
      "C:\\Users\\ohy\\AppData\\Local\\Temp\\ipykernel_17400\\3983351454.py:33: FutureWarning: pandas.io.json.json_normalize is deprecated, use pandas.json_normalize instead.\n",
      "  totalDf = totalDf.append(json_normalize(body), ignore_index=True)\n",
      "C:\\Users\\ohy\\AppData\\Local\\Temp\\ipykernel_17400\\3983351454.py:33: FutureWarning: The frame.append method is deprecated and will be removed from pandas in a future version. Use pandas.concat instead.\n",
      "  totalDf = totalDf.append(json_normalize(body), ignore_index=True)\n"
     ]
    },
    {
     "name": "stdout",
     "output_type": "stream",
     "text": [
      "66001\n"
     ]
    },
    {
     "name": "stderr",
     "output_type": "stream",
     "text": [
      "C:\\Users\\ohy\\AppData\\Local\\Temp\\ipykernel_17400\\3983351454.py:33: FutureWarning: pandas.io.json.json_normalize is deprecated, use pandas.json_normalize instead.\n",
      "  totalDf = totalDf.append(json_normalize(body), ignore_index=True)\n",
      "C:\\Users\\ohy\\AppData\\Local\\Temp\\ipykernel_17400\\3983351454.py:33: FutureWarning: The frame.append method is deprecated and will be removed from pandas in a future version. Use pandas.concat instead.\n",
      "  totalDf = totalDf.append(json_normalize(body), ignore_index=True)\n"
     ]
    },
    {
     "name": "stdout",
     "output_type": "stream",
     "text": [
      "67001\n"
     ]
    },
    {
     "name": "stderr",
     "output_type": "stream",
     "text": [
      "C:\\Users\\ohy\\AppData\\Local\\Temp\\ipykernel_17400\\3983351454.py:33: FutureWarning: pandas.io.json.json_normalize is deprecated, use pandas.json_normalize instead.\n",
      "  totalDf = totalDf.append(json_normalize(body), ignore_index=True)\n",
      "C:\\Users\\ohy\\AppData\\Local\\Temp\\ipykernel_17400\\3983351454.py:33: FutureWarning: The frame.append method is deprecated and will be removed from pandas in a future version. Use pandas.concat instead.\n",
      "  totalDf = totalDf.append(json_normalize(body), ignore_index=True)\n"
     ]
    },
    {
     "name": "stdout",
     "output_type": "stream",
     "text": [
      "68001\n"
     ]
    },
    {
     "name": "stderr",
     "output_type": "stream",
     "text": [
      "C:\\Users\\ohy\\AppData\\Local\\Temp\\ipykernel_17400\\3983351454.py:33: FutureWarning: pandas.io.json.json_normalize is deprecated, use pandas.json_normalize instead.\n",
      "  totalDf = totalDf.append(json_normalize(body), ignore_index=True)\n",
      "C:\\Users\\ohy\\AppData\\Local\\Temp\\ipykernel_17400\\3983351454.py:33: FutureWarning: The frame.append method is deprecated and will be removed from pandas in a future version. Use pandas.concat instead.\n",
      "  totalDf = totalDf.append(json_normalize(body), ignore_index=True)\n"
     ]
    },
    {
     "name": "stdout",
     "output_type": "stream",
     "text": [
      "69001\n"
     ]
    },
    {
     "name": "stderr",
     "output_type": "stream",
     "text": [
      "C:\\Users\\ohy\\AppData\\Local\\Temp\\ipykernel_17400\\3983351454.py:33: FutureWarning: pandas.io.json.json_normalize is deprecated, use pandas.json_normalize instead.\n",
      "  totalDf = totalDf.append(json_normalize(body), ignore_index=True)\n",
      "C:\\Users\\ohy\\AppData\\Local\\Temp\\ipykernel_17400\\3983351454.py:33: FutureWarning: The frame.append method is deprecated and will be removed from pandas in a future version. Use pandas.concat instead.\n",
      "  totalDf = totalDf.append(json_normalize(body), ignore_index=True)\n"
     ]
    },
    {
     "name": "stdout",
     "output_type": "stream",
     "text": [
      "70001\n"
     ]
    },
    {
     "name": "stderr",
     "output_type": "stream",
     "text": [
      "C:\\Users\\ohy\\AppData\\Local\\Temp\\ipykernel_17400\\3983351454.py:33: FutureWarning: pandas.io.json.json_normalize is deprecated, use pandas.json_normalize instead.\n",
      "  totalDf = totalDf.append(json_normalize(body), ignore_index=True)\n",
      "C:\\Users\\ohy\\AppData\\Local\\Temp\\ipykernel_17400\\3983351454.py:33: FutureWarning: The frame.append method is deprecated and will be removed from pandas in a future version. Use pandas.concat instead.\n",
      "  totalDf = totalDf.append(json_normalize(body), ignore_index=True)\n"
     ]
    },
    {
     "name": "stdout",
     "output_type": "stream",
     "text": [
      "71001\n"
     ]
    },
    {
     "name": "stderr",
     "output_type": "stream",
     "text": [
      "C:\\Users\\ohy\\AppData\\Local\\Temp\\ipykernel_17400\\3983351454.py:33: FutureWarning: pandas.io.json.json_normalize is deprecated, use pandas.json_normalize instead.\n",
      "  totalDf = totalDf.append(json_normalize(body), ignore_index=True)\n",
      "C:\\Users\\ohy\\AppData\\Local\\Temp\\ipykernel_17400\\3983351454.py:33: FutureWarning: The frame.append method is deprecated and will be removed from pandas in a future version. Use pandas.concat instead.\n",
      "  totalDf = totalDf.append(json_normalize(body), ignore_index=True)\n"
     ]
    },
    {
     "name": "stdout",
     "output_type": "stream",
     "text": [
      "72001\n"
     ]
    },
    {
     "name": "stderr",
     "output_type": "stream",
     "text": [
      "C:\\Users\\ohy\\AppData\\Local\\Temp\\ipykernel_17400\\3983351454.py:33: FutureWarning: pandas.io.json.json_normalize is deprecated, use pandas.json_normalize instead.\n",
      "  totalDf = totalDf.append(json_normalize(body), ignore_index=True)\n",
      "C:\\Users\\ohy\\AppData\\Local\\Temp\\ipykernel_17400\\3983351454.py:33: FutureWarning: The frame.append method is deprecated and will be removed from pandas in a future version. Use pandas.concat instead.\n",
      "  totalDf = totalDf.append(json_normalize(body), ignore_index=True)\n"
     ]
    },
    {
     "name": "stdout",
     "output_type": "stream",
     "text": [
      "73001\n"
     ]
    },
    {
     "name": "stderr",
     "output_type": "stream",
     "text": [
      "C:\\Users\\ohy\\AppData\\Local\\Temp\\ipykernel_17400\\3983351454.py:33: FutureWarning: pandas.io.json.json_normalize is deprecated, use pandas.json_normalize instead.\n",
      "  totalDf = totalDf.append(json_normalize(body), ignore_index=True)\n",
      "C:\\Users\\ohy\\AppData\\Local\\Temp\\ipykernel_17400\\3983351454.py:33: FutureWarning: The frame.append method is deprecated and will be removed from pandas in a future version. Use pandas.concat instead.\n",
      "  totalDf = totalDf.append(json_normalize(body), ignore_index=True)\n"
     ]
    },
    {
     "name": "stdout",
     "output_type": "stream",
     "text": [
      "74001\n"
     ]
    },
    {
     "name": "stderr",
     "output_type": "stream",
     "text": [
      "C:\\Users\\ohy\\AppData\\Local\\Temp\\ipykernel_17400\\3983351454.py:33: FutureWarning: pandas.io.json.json_normalize is deprecated, use pandas.json_normalize instead.\n",
      "  totalDf = totalDf.append(json_normalize(body), ignore_index=True)\n",
      "C:\\Users\\ohy\\AppData\\Local\\Temp\\ipykernel_17400\\3983351454.py:33: FutureWarning: The frame.append method is deprecated and will be removed from pandas in a future version. Use pandas.concat instead.\n",
      "  totalDf = totalDf.append(json_normalize(body), ignore_index=True)\n"
     ]
    },
    {
     "name": "stdout",
     "output_type": "stream",
     "text": [
      "75001\n"
     ]
    },
    {
     "name": "stderr",
     "output_type": "stream",
     "text": [
      "C:\\Users\\ohy\\AppData\\Local\\Temp\\ipykernel_17400\\3983351454.py:33: FutureWarning: pandas.io.json.json_normalize is deprecated, use pandas.json_normalize instead.\n",
      "  totalDf = totalDf.append(json_normalize(body), ignore_index=True)\n",
      "C:\\Users\\ohy\\AppData\\Local\\Temp\\ipykernel_17400\\3983351454.py:33: FutureWarning: The frame.append method is deprecated and will be removed from pandas in a future version. Use pandas.concat instead.\n",
      "  totalDf = totalDf.append(json_normalize(body), ignore_index=True)\n"
     ]
    },
    {
     "name": "stdout",
     "output_type": "stream",
     "text": [
      "76001\n"
     ]
    },
    {
     "name": "stderr",
     "output_type": "stream",
     "text": [
      "C:\\Users\\ohy\\AppData\\Local\\Temp\\ipykernel_17400\\3983351454.py:33: FutureWarning: pandas.io.json.json_normalize is deprecated, use pandas.json_normalize instead.\n",
      "  totalDf = totalDf.append(json_normalize(body), ignore_index=True)\n",
      "C:\\Users\\ohy\\AppData\\Local\\Temp\\ipykernel_17400\\3983351454.py:33: FutureWarning: The frame.append method is deprecated and will be removed from pandas in a future version. Use pandas.concat instead.\n",
      "  totalDf = totalDf.append(json_normalize(body), ignore_index=True)\n"
     ]
    },
    {
     "name": "stdout",
     "output_type": "stream",
     "text": [
      "77001\n"
     ]
    },
    {
     "name": "stderr",
     "output_type": "stream",
     "text": [
      "C:\\Users\\ohy\\AppData\\Local\\Temp\\ipykernel_17400\\3983351454.py:33: FutureWarning: pandas.io.json.json_normalize is deprecated, use pandas.json_normalize instead.\n",
      "  totalDf = totalDf.append(json_normalize(body), ignore_index=True)\n",
      "C:\\Users\\ohy\\AppData\\Local\\Temp\\ipykernel_17400\\3983351454.py:33: FutureWarning: The frame.append method is deprecated and will be removed from pandas in a future version. Use pandas.concat instead.\n",
      "  totalDf = totalDf.append(json_normalize(body), ignore_index=True)\n"
     ]
    },
    {
     "name": "stdout",
     "output_type": "stream",
     "text": [
      "78001\n"
     ]
    },
    {
     "name": "stderr",
     "output_type": "stream",
     "text": [
      "C:\\Users\\ohy\\AppData\\Local\\Temp\\ipykernel_17400\\3983351454.py:33: FutureWarning: pandas.io.json.json_normalize is deprecated, use pandas.json_normalize instead.\n",
      "  totalDf = totalDf.append(json_normalize(body), ignore_index=True)\n",
      "C:\\Users\\ohy\\AppData\\Local\\Temp\\ipykernel_17400\\3983351454.py:33: FutureWarning: The frame.append method is deprecated and will be removed from pandas in a future version. Use pandas.concat instead.\n",
      "  totalDf = totalDf.append(json_normalize(body), ignore_index=True)\n"
     ]
    },
    {
     "name": "stdout",
     "output_type": "stream",
     "text": [
      "79001\n"
     ]
    },
    {
     "name": "stderr",
     "output_type": "stream",
     "text": [
      "C:\\Users\\ohy\\AppData\\Local\\Temp\\ipykernel_17400\\3983351454.py:33: FutureWarning: pandas.io.json.json_normalize is deprecated, use pandas.json_normalize instead.\n",
      "  totalDf = totalDf.append(json_normalize(body), ignore_index=True)\n",
      "C:\\Users\\ohy\\AppData\\Local\\Temp\\ipykernel_17400\\3983351454.py:33: FutureWarning: The frame.append method is deprecated and will be removed from pandas in a future version. Use pandas.concat instead.\n",
      "  totalDf = totalDf.append(json_normalize(body), ignore_index=True)\n"
     ]
    },
    {
     "name": "stdout",
     "output_type": "stream",
     "text": [
      "80001\n"
     ]
    },
    {
     "name": "stderr",
     "output_type": "stream",
     "text": [
      "C:\\Users\\ohy\\AppData\\Local\\Temp\\ipykernel_17400\\3983351454.py:33: FutureWarning: pandas.io.json.json_normalize is deprecated, use pandas.json_normalize instead.\n",
      "  totalDf = totalDf.append(json_normalize(body), ignore_index=True)\n",
      "C:\\Users\\ohy\\AppData\\Local\\Temp\\ipykernel_17400\\3983351454.py:33: FutureWarning: The frame.append method is deprecated and will be removed from pandas in a future version. Use pandas.concat instead.\n",
      "  totalDf = totalDf.append(json_normalize(body), ignore_index=True)\n"
     ]
    },
    {
     "name": "stdout",
     "output_type": "stream",
     "text": [
      "81001\n"
     ]
    },
    {
     "name": "stderr",
     "output_type": "stream",
     "text": [
      "C:\\Users\\ohy\\AppData\\Local\\Temp\\ipykernel_17400\\3983351454.py:33: FutureWarning: pandas.io.json.json_normalize is deprecated, use pandas.json_normalize instead.\n",
      "  totalDf = totalDf.append(json_normalize(body), ignore_index=True)\n",
      "C:\\Users\\ohy\\AppData\\Local\\Temp\\ipykernel_17400\\3983351454.py:33: FutureWarning: The frame.append method is deprecated and will be removed from pandas in a future version. Use pandas.concat instead.\n",
      "  totalDf = totalDf.append(json_normalize(body), ignore_index=True)\n"
     ]
    },
    {
     "name": "stdout",
     "output_type": "stream",
     "text": [
      "82001\n"
     ]
    },
    {
     "name": "stderr",
     "output_type": "stream",
     "text": [
      "C:\\Users\\ohy\\AppData\\Local\\Temp\\ipykernel_17400\\3983351454.py:33: FutureWarning: pandas.io.json.json_normalize is deprecated, use pandas.json_normalize instead.\n",
      "  totalDf = totalDf.append(json_normalize(body), ignore_index=True)\n",
      "C:\\Users\\ohy\\AppData\\Local\\Temp\\ipykernel_17400\\3983351454.py:33: FutureWarning: The frame.append method is deprecated and will be removed from pandas in a future version. Use pandas.concat instead.\n",
      "  totalDf = totalDf.append(json_normalize(body), ignore_index=True)\n"
     ]
    },
    {
     "name": "stdout",
     "output_type": "stream",
     "text": [
      "83001\n"
     ]
    },
    {
     "name": "stderr",
     "output_type": "stream",
     "text": [
      "C:\\Users\\ohy\\AppData\\Local\\Temp\\ipykernel_17400\\3983351454.py:33: FutureWarning: pandas.io.json.json_normalize is deprecated, use pandas.json_normalize instead.\n",
      "  totalDf = totalDf.append(json_normalize(body), ignore_index=True)\n",
      "C:\\Users\\ohy\\AppData\\Local\\Temp\\ipykernel_17400\\3983351454.py:33: FutureWarning: The frame.append method is deprecated and will be removed from pandas in a future version. Use pandas.concat instead.\n",
      "  totalDf = totalDf.append(json_normalize(body), ignore_index=True)\n"
     ]
    },
    {
     "name": "stdout",
     "output_type": "stream",
     "text": [
      "84001\n"
     ]
    },
    {
     "name": "stderr",
     "output_type": "stream",
     "text": [
      "C:\\Users\\ohy\\AppData\\Local\\Temp\\ipykernel_17400\\3983351454.py:33: FutureWarning: pandas.io.json.json_normalize is deprecated, use pandas.json_normalize instead.\n",
      "  totalDf = totalDf.append(json_normalize(body), ignore_index=True)\n",
      "C:\\Users\\ohy\\AppData\\Local\\Temp\\ipykernel_17400\\3983351454.py:33: FutureWarning: The frame.append method is deprecated and will be removed from pandas in a future version. Use pandas.concat instead.\n",
      "  totalDf = totalDf.append(json_normalize(body), ignore_index=True)\n"
     ]
    },
    {
     "name": "stdout",
     "output_type": "stream",
     "text": [
      "85001\n"
     ]
    },
    {
     "name": "stderr",
     "output_type": "stream",
     "text": [
      "C:\\Users\\ohy\\AppData\\Local\\Temp\\ipykernel_17400\\3983351454.py:33: FutureWarning: pandas.io.json.json_normalize is deprecated, use pandas.json_normalize instead.\n",
      "  totalDf = totalDf.append(json_normalize(body), ignore_index=True)\n",
      "C:\\Users\\ohy\\AppData\\Local\\Temp\\ipykernel_17400\\3983351454.py:33: FutureWarning: The frame.append method is deprecated and will be removed from pandas in a future version. Use pandas.concat instead.\n",
      "  totalDf = totalDf.append(json_normalize(body), ignore_index=True)\n"
     ]
    },
    {
     "name": "stdout",
     "output_type": "stream",
     "text": [
      "86001\n"
     ]
    },
    {
     "name": "stderr",
     "output_type": "stream",
     "text": [
      "C:\\Users\\ohy\\AppData\\Local\\Temp\\ipykernel_17400\\3983351454.py:33: FutureWarning: pandas.io.json.json_normalize is deprecated, use pandas.json_normalize instead.\n",
      "  totalDf = totalDf.append(json_normalize(body), ignore_index=True)\n",
      "C:\\Users\\ohy\\AppData\\Local\\Temp\\ipykernel_17400\\3983351454.py:33: FutureWarning: The frame.append method is deprecated and will be removed from pandas in a future version. Use pandas.concat instead.\n",
      "  totalDf = totalDf.append(json_normalize(body), ignore_index=True)\n"
     ]
    },
    {
     "name": "stdout",
     "output_type": "stream",
     "text": [
      "87001\n"
     ]
    },
    {
     "name": "stderr",
     "output_type": "stream",
     "text": [
      "C:\\Users\\ohy\\AppData\\Local\\Temp\\ipykernel_17400\\3983351454.py:33: FutureWarning: pandas.io.json.json_normalize is deprecated, use pandas.json_normalize instead.\n",
      "  totalDf = totalDf.append(json_normalize(body), ignore_index=True)\n",
      "C:\\Users\\ohy\\AppData\\Local\\Temp\\ipykernel_17400\\3983351454.py:33: FutureWarning: The frame.append method is deprecated and will be removed from pandas in a future version. Use pandas.concat instead.\n",
      "  totalDf = totalDf.append(json_normalize(body), ignore_index=True)\n"
     ]
    },
    {
     "name": "stdout",
     "output_type": "stream",
     "text": [
      "88001\n"
     ]
    },
    {
     "name": "stderr",
     "output_type": "stream",
     "text": [
      "C:\\Users\\ohy\\AppData\\Local\\Temp\\ipykernel_17400\\3983351454.py:33: FutureWarning: pandas.io.json.json_normalize is deprecated, use pandas.json_normalize instead.\n",
      "  totalDf = totalDf.append(json_normalize(body), ignore_index=True)\n",
      "C:\\Users\\ohy\\AppData\\Local\\Temp\\ipykernel_17400\\3983351454.py:33: FutureWarning: The frame.append method is deprecated and will be removed from pandas in a future version. Use pandas.concat instead.\n",
      "  totalDf = totalDf.append(json_normalize(body), ignore_index=True)\n"
     ]
    },
    {
     "name": "stdout",
     "output_type": "stream",
     "text": [
      "89001\n"
     ]
    },
    {
     "name": "stderr",
     "output_type": "stream",
     "text": [
      "C:\\Users\\ohy\\AppData\\Local\\Temp\\ipykernel_17400\\3983351454.py:33: FutureWarning: pandas.io.json.json_normalize is deprecated, use pandas.json_normalize instead.\n",
      "  totalDf = totalDf.append(json_normalize(body), ignore_index=True)\n",
      "C:\\Users\\ohy\\AppData\\Local\\Temp\\ipykernel_17400\\3983351454.py:33: FutureWarning: The frame.append method is deprecated and will be removed from pandas in a future version. Use pandas.concat instead.\n",
      "  totalDf = totalDf.append(json_normalize(body), ignore_index=True)\n"
     ]
    },
    {
     "name": "stdout",
     "output_type": "stream",
     "text": [
      "90001\n"
     ]
    },
    {
     "name": "stderr",
     "output_type": "stream",
     "text": [
      "C:\\Users\\ohy\\AppData\\Local\\Temp\\ipykernel_17400\\3983351454.py:33: FutureWarning: pandas.io.json.json_normalize is deprecated, use pandas.json_normalize instead.\n",
      "  totalDf = totalDf.append(json_normalize(body), ignore_index=True)\n",
      "C:\\Users\\ohy\\AppData\\Local\\Temp\\ipykernel_17400\\3983351454.py:33: FutureWarning: The frame.append method is deprecated and will be removed from pandas in a future version. Use pandas.concat instead.\n",
      "  totalDf = totalDf.append(json_normalize(body), ignore_index=True)\n"
     ]
    },
    {
     "name": "stdout",
     "output_type": "stream",
     "text": [
      "91001\n"
     ]
    },
    {
     "name": "stderr",
     "output_type": "stream",
     "text": [
      "C:\\Users\\ohy\\AppData\\Local\\Temp\\ipykernel_17400\\3983351454.py:33: FutureWarning: pandas.io.json.json_normalize is deprecated, use pandas.json_normalize instead.\n",
      "  totalDf = totalDf.append(json_normalize(body), ignore_index=True)\n",
      "C:\\Users\\ohy\\AppData\\Local\\Temp\\ipykernel_17400\\3983351454.py:33: FutureWarning: The frame.append method is deprecated and will be removed from pandas in a future version. Use pandas.concat instead.\n",
      "  totalDf = totalDf.append(json_normalize(body), ignore_index=True)\n"
     ]
    },
    {
     "name": "stdout",
     "output_type": "stream",
     "text": [
      "92001\n"
     ]
    },
    {
     "name": "stderr",
     "output_type": "stream",
     "text": [
      "C:\\Users\\ohy\\AppData\\Local\\Temp\\ipykernel_17400\\3983351454.py:33: FutureWarning: pandas.io.json.json_normalize is deprecated, use pandas.json_normalize instead.\n",
      "  totalDf = totalDf.append(json_normalize(body), ignore_index=True)\n",
      "C:\\Users\\ohy\\AppData\\Local\\Temp\\ipykernel_17400\\3983351454.py:33: FutureWarning: The frame.append method is deprecated and will be removed from pandas in a future version. Use pandas.concat instead.\n",
      "  totalDf = totalDf.append(json_normalize(body), ignore_index=True)\n"
     ]
    },
    {
     "name": "stdout",
     "output_type": "stream",
     "text": [
      "93001\n"
     ]
    },
    {
     "name": "stderr",
     "output_type": "stream",
     "text": [
      "C:\\Users\\ohy\\AppData\\Local\\Temp\\ipykernel_17400\\3983351454.py:33: FutureWarning: pandas.io.json.json_normalize is deprecated, use pandas.json_normalize instead.\n",
      "  totalDf = totalDf.append(json_normalize(body), ignore_index=True)\n",
      "C:\\Users\\ohy\\AppData\\Local\\Temp\\ipykernel_17400\\3983351454.py:33: FutureWarning: The frame.append method is deprecated and will be removed from pandas in a future version. Use pandas.concat instead.\n",
      "  totalDf = totalDf.append(json_normalize(body), ignore_index=True)\n"
     ]
    },
    {
     "name": "stdout",
     "output_type": "stream",
     "text": [
      "94001\n"
     ]
    },
    {
     "name": "stderr",
     "output_type": "stream",
     "text": [
      "C:\\Users\\ohy\\AppData\\Local\\Temp\\ipykernel_17400\\3983351454.py:33: FutureWarning: pandas.io.json.json_normalize is deprecated, use pandas.json_normalize instead.\n",
      "  totalDf = totalDf.append(json_normalize(body), ignore_index=True)\n",
      "C:\\Users\\ohy\\AppData\\Local\\Temp\\ipykernel_17400\\3983351454.py:33: FutureWarning: The frame.append method is deprecated and will be removed from pandas in a future version. Use pandas.concat instead.\n",
      "  totalDf = totalDf.append(json_normalize(body), ignore_index=True)\n"
     ]
    },
    {
     "name": "stdout",
     "output_type": "stream",
     "text": [
      "95001\n"
     ]
    },
    {
     "name": "stderr",
     "output_type": "stream",
     "text": [
      "C:\\Users\\ohy\\AppData\\Local\\Temp\\ipykernel_17400\\3983351454.py:33: FutureWarning: pandas.io.json.json_normalize is deprecated, use pandas.json_normalize instead.\n",
      "  totalDf = totalDf.append(json_normalize(body), ignore_index=True)\n",
      "C:\\Users\\ohy\\AppData\\Local\\Temp\\ipykernel_17400\\3983351454.py:33: FutureWarning: The frame.append method is deprecated and will be removed from pandas in a future version. Use pandas.concat instead.\n",
      "  totalDf = totalDf.append(json_normalize(body), ignore_index=True)\n"
     ]
    },
    {
     "name": "stdout",
     "output_type": "stream",
     "text": [
      "96001\n"
     ]
    },
    {
     "name": "stderr",
     "output_type": "stream",
     "text": [
      "C:\\Users\\ohy\\AppData\\Local\\Temp\\ipykernel_17400\\3983351454.py:33: FutureWarning: pandas.io.json.json_normalize is deprecated, use pandas.json_normalize instead.\n",
      "  totalDf = totalDf.append(json_normalize(body), ignore_index=True)\n",
      "C:\\Users\\ohy\\AppData\\Local\\Temp\\ipykernel_17400\\3983351454.py:33: FutureWarning: The frame.append method is deprecated and will be removed from pandas in a future version. Use pandas.concat instead.\n",
      "  totalDf = totalDf.append(json_normalize(body), ignore_index=True)\n"
     ]
    },
    {
     "name": "stdout",
     "output_type": "stream",
     "text": [
      "97001\n"
     ]
    },
    {
     "name": "stderr",
     "output_type": "stream",
     "text": [
      "C:\\Users\\ohy\\AppData\\Local\\Temp\\ipykernel_17400\\3983351454.py:33: FutureWarning: pandas.io.json.json_normalize is deprecated, use pandas.json_normalize instead.\n",
      "  totalDf = totalDf.append(json_normalize(body), ignore_index=True)\n",
      "C:\\Users\\ohy\\AppData\\Local\\Temp\\ipykernel_17400\\3983351454.py:33: FutureWarning: The frame.append method is deprecated and will be removed from pandas in a future version. Use pandas.concat instead.\n",
      "  totalDf = totalDf.append(json_normalize(body), ignore_index=True)\n"
     ]
    },
    {
     "name": "stdout",
     "output_type": "stream",
     "text": [
      "98001\n"
     ]
    },
    {
     "name": "stderr",
     "output_type": "stream",
     "text": [
      "C:\\Users\\ohy\\AppData\\Local\\Temp\\ipykernel_17400\\3983351454.py:33: FutureWarning: pandas.io.json.json_normalize is deprecated, use pandas.json_normalize instead.\n",
      "  totalDf = totalDf.append(json_normalize(body), ignore_index=True)\n",
      "C:\\Users\\ohy\\AppData\\Local\\Temp\\ipykernel_17400\\3983351454.py:33: FutureWarning: The frame.append method is deprecated and will be removed from pandas in a future version. Use pandas.concat instead.\n",
      "  totalDf = totalDf.append(json_normalize(body), ignore_index=True)\n"
     ]
    },
    {
     "name": "stdout",
     "output_type": "stream",
     "text": [
      "99001\n"
     ]
    },
    {
     "name": "stderr",
     "output_type": "stream",
     "text": [
      "C:\\Users\\ohy\\AppData\\Local\\Temp\\ipykernel_17400\\3983351454.py:33: FutureWarning: pandas.io.json.json_normalize is deprecated, use pandas.json_normalize instead.\n",
      "  totalDf = totalDf.append(json_normalize(body), ignore_index=True)\n",
      "C:\\Users\\ohy\\AppData\\Local\\Temp\\ipykernel_17400\\3983351454.py:33: FutureWarning: The frame.append method is deprecated and will be removed from pandas in a future version. Use pandas.concat instead.\n",
      "  totalDf = totalDf.append(json_normalize(body), ignore_index=True)\n"
     ]
    },
    {
     "name": "stdout",
     "output_type": "stream",
     "text": [
      "100001\n"
     ]
    },
    {
     "name": "stderr",
     "output_type": "stream",
     "text": [
      "C:\\Users\\ohy\\AppData\\Local\\Temp\\ipykernel_17400\\3983351454.py:33: FutureWarning: pandas.io.json.json_normalize is deprecated, use pandas.json_normalize instead.\n",
      "  totalDf = totalDf.append(json_normalize(body), ignore_index=True)\n",
      "C:\\Users\\ohy\\AppData\\Local\\Temp\\ipykernel_17400\\3983351454.py:33: FutureWarning: The frame.append method is deprecated and will be removed from pandas in a future version. Use pandas.concat instead.\n",
      "  totalDf = totalDf.append(json_normalize(body), ignore_index=True)\n"
     ]
    },
    {
     "name": "stdout",
     "output_type": "stream",
     "text": [
      "101001\n"
     ]
    },
    {
     "name": "stderr",
     "output_type": "stream",
     "text": [
      "C:\\Users\\ohy\\AppData\\Local\\Temp\\ipykernel_17400\\3983351454.py:33: FutureWarning: pandas.io.json.json_normalize is deprecated, use pandas.json_normalize instead.\n",
      "  totalDf = totalDf.append(json_normalize(body), ignore_index=True)\n",
      "C:\\Users\\ohy\\AppData\\Local\\Temp\\ipykernel_17400\\3983351454.py:33: FutureWarning: The frame.append method is deprecated and will be removed from pandas in a future version. Use pandas.concat instead.\n",
      "  totalDf = totalDf.append(json_normalize(body), ignore_index=True)\n"
     ]
    },
    {
     "name": "stdout",
     "output_type": "stream",
     "text": [
      "102001\n"
     ]
    },
    {
     "name": "stderr",
     "output_type": "stream",
     "text": [
      "C:\\Users\\ohy\\AppData\\Local\\Temp\\ipykernel_17400\\3983351454.py:33: FutureWarning: pandas.io.json.json_normalize is deprecated, use pandas.json_normalize instead.\n",
      "  totalDf = totalDf.append(json_normalize(body), ignore_index=True)\n",
      "C:\\Users\\ohy\\AppData\\Local\\Temp\\ipykernel_17400\\3983351454.py:33: FutureWarning: The frame.append method is deprecated and will be removed from pandas in a future version. Use pandas.concat instead.\n",
      "  totalDf = totalDf.append(json_normalize(body), ignore_index=True)\n"
     ]
    },
    {
     "name": "stdout",
     "output_type": "stream",
     "text": [
      "103001\n"
     ]
    },
    {
     "name": "stderr",
     "output_type": "stream",
     "text": [
      "C:\\Users\\ohy\\AppData\\Local\\Temp\\ipykernel_17400\\3983351454.py:33: FutureWarning: pandas.io.json.json_normalize is deprecated, use pandas.json_normalize instead.\n",
      "  totalDf = totalDf.append(json_normalize(body), ignore_index=True)\n",
      "C:\\Users\\ohy\\AppData\\Local\\Temp\\ipykernel_17400\\3983351454.py:33: FutureWarning: The frame.append method is deprecated and will be removed from pandas in a future version. Use pandas.concat instead.\n",
      "  totalDf = totalDf.append(json_normalize(body), ignore_index=True)\n"
     ]
    },
    {
     "name": "stdout",
     "output_type": "stream",
     "text": [
      "104001\n"
     ]
    },
    {
     "name": "stderr",
     "output_type": "stream",
     "text": [
      "C:\\Users\\ohy\\AppData\\Local\\Temp\\ipykernel_17400\\3983351454.py:33: FutureWarning: pandas.io.json.json_normalize is deprecated, use pandas.json_normalize instead.\n",
      "  totalDf = totalDf.append(json_normalize(body), ignore_index=True)\n",
      "C:\\Users\\ohy\\AppData\\Local\\Temp\\ipykernel_17400\\3983351454.py:33: FutureWarning: The frame.append method is deprecated and will be removed from pandas in a future version. Use pandas.concat instead.\n",
      "  totalDf = totalDf.append(json_normalize(body), ignore_index=True)\n"
     ]
    },
    {
     "name": "stdout",
     "output_type": "stream",
     "text": [
      "105001\n"
     ]
    },
    {
     "name": "stderr",
     "output_type": "stream",
     "text": [
      "C:\\Users\\ohy\\AppData\\Local\\Temp\\ipykernel_17400\\3983351454.py:33: FutureWarning: pandas.io.json.json_normalize is deprecated, use pandas.json_normalize instead.\n",
      "  totalDf = totalDf.append(json_normalize(body), ignore_index=True)\n",
      "C:\\Users\\ohy\\AppData\\Local\\Temp\\ipykernel_17400\\3983351454.py:33: FutureWarning: The frame.append method is deprecated and will be removed from pandas in a future version. Use pandas.concat instead.\n",
      "  totalDf = totalDf.append(json_normalize(body), ignore_index=True)\n"
     ]
    },
    {
     "name": "stdout",
     "output_type": "stream",
     "text": [
      "106001\n"
     ]
    },
    {
     "name": "stderr",
     "output_type": "stream",
     "text": [
      "C:\\Users\\ohy\\AppData\\Local\\Temp\\ipykernel_17400\\3983351454.py:33: FutureWarning: pandas.io.json.json_normalize is deprecated, use pandas.json_normalize instead.\n",
      "  totalDf = totalDf.append(json_normalize(body), ignore_index=True)\n",
      "C:\\Users\\ohy\\AppData\\Local\\Temp\\ipykernel_17400\\3983351454.py:33: FutureWarning: The frame.append method is deprecated and will be removed from pandas in a future version. Use pandas.concat instead.\n",
      "  totalDf = totalDf.append(json_normalize(body), ignore_index=True)\n"
     ]
    },
    {
     "name": "stdout",
     "output_type": "stream",
     "text": [
      "107001\n"
     ]
    },
    {
     "name": "stderr",
     "output_type": "stream",
     "text": [
      "C:\\Users\\ohy\\AppData\\Local\\Temp\\ipykernel_17400\\3983351454.py:33: FutureWarning: pandas.io.json.json_normalize is deprecated, use pandas.json_normalize instead.\n",
      "  totalDf = totalDf.append(json_normalize(body), ignore_index=True)\n",
      "C:\\Users\\ohy\\AppData\\Local\\Temp\\ipykernel_17400\\3983351454.py:33: FutureWarning: The frame.append method is deprecated and will be removed from pandas in a future version. Use pandas.concat instead.\n",
      "  totalDf = totalDf.append(json_normalize(body), ignore_index=True)\n"
     ]
    },
    {
     "name": "stdout",
     "output_type": "stream",
     "text": [
      "108001\n"
     ]
    },
    {
     "name": "stderr",
     "output_type": "stream",
     "text": [
      "C:\\Users\\ohy\\AppData\\Local\\Temp\\ipykernel_17400\\3983351454.py:33: FutureWarning: pandas.io.json.json_normalize is deprecated, use pandas.json_normalize instead.\n",
      "  totalDf = totalDf.append(json_normalize(body), ignore_index=True)\n",
      "C:\\Users\\ohy\\AppData\\Local\\Temp\\ipykernel_17400\\3983351454.py:33: FutureWarning: The frame.append method is deprecated and will be removed from pandas in a future version. Use pandas.concat instead.\n",
      "  totalDf = totalDf.append(json_normalize(body), ignore_index=True)\n"
     ]
    },
    {
     "name": "stdout",
     "output_type": "stream",
     "text": [
      "109001\n"
     ]
    },
    {
     "name": "stderr",
     "output_type": "stream",
     "text": [
      "C:\\Users\\ohy\\AppData\\Local\\Temp\\ipykernel_17400\\3983351454.py:33: FutureWarning: pandas.io.json.json_normalize is deprecated, use pandas.json_normalize instead.\n",
      "  totalDf = totalDf.append(json_normalize(body), ignore_index=True)\n",
      "C:\\Users\\ohy\\AppData\\Local\\Temp\\ipykernel_17400\\3983351454.py:33: FutureWarning: The frame.append method is deprecated and will be removed from pandas in a future version. Use pandas.concat instead.\n",
      "  totalDf = totalDf.append(json_normalize(body), ignore_index=True)\n"
     ]
    },
    {
     "name": "stdout",
     "output_type": "stream",
     "text": [
      "110001\n"
     ]
    },
    {
     "name": "stderr",
     "output_type": "stream",
     "text": [
      "C:\\Users\\ohy\\AppData\\Local\\Temp\\ipykernel_17400\\3983351454.py:33: FutureWarning: pandas.io.json.json_normalize is deprecated, use pandas.json_normalize instead.\n",
      "  totalDf = totalDf.append(json_normalize(body), ignore_index=True)\n",
      "C:\\Users\\ohy\\AppData\\Local\\Temp\\ipykernel_17400\\3983351454.py:33: FutureWarning: The frame.append method is deprecated and will be removed from pandas in a future version. Use pandas.concat instead.\n",
      "  totalDf = totalDf.append(json_normalize(body), ignore_index=True)\n"
     ]
    },
    {
     "name": "stdout",
     "output_type": "stream",
     "text": [
      "111001\n"
     ]
    },
    {
     "name": "stderr",
     "output_type": "stream",
     "text": [
      "C:\\Users\\ohy\\AppData\\Local\\Temp\\ipykernel_17400\\3983351454.py:33: FutureWarning: pandas.io.json.json_normalize is deprecated, use pandas.json_normalize instead.\n",
      "  totalDf = totalDf.append(json_normalize(body), ignore_index=True)\n",
      "C:\\Users\\ohy\\AppData\\Local\\Temp\\ipykernel_17400\\3983351454.py:33: FutureWarning: The frame.append method is deprecated and will be removed from pandas in a future version. Use pandas.concat instead.\n",
      "  totalDf = totalDf.append(json_normalize(body), ignore_index=True)\n"
     ]
    },
    {
     "name": "stdout",
     "output_type": "stream",
     "text": [
      "112001\n"
     ]
    },
    {
     "name": "stderr",
     "output_type": "stream",
     "text": [
      "C:\\Users\\ohy\\AppData\\Local\\Temp\\ipykernel_17400\\3983351454.py:33: FutureWarning: pandas.io.json.json_normalize is deprecated, use pandas.json_normalize instead.\n",
      "  totalDf = totalDf.append(json_normalize(body), ignore_index=True)\n",
      "C:\\Users\\ohy\\AppData\\Local\\Temp\\ipykernel_17400\\3983351454.py:33: FutureWarning: The frame.append method is deprecated and will be removed from pandas in a future version. Use pandas.concat instead.\n",
      "  totalDf = totalDf.append(json_normalize(body), ignore_index=True)\n"
     ]
    },
    {
     "name": "stdout",
     "output_type": "stream",
     "text": [
      "113001\n"
     ]
    },
    {
     "name": "stderr",
     "output_type": "stream",
     "text": [
      "C:\\Users\\ohy\\AppData\\Local\\Temp\\ipykernel_17400\\3983351454.py:33: FutureWarning: pandas.io.json.json_normalize is deprecated, use pandas.json_normalize instead.\n",
      "  totalDf = totalDf.append(json_normalize(body), ignore_index=True)\n",
      "C:\\Users\\ohy\\AppData\\Local\\Temp\\ipykernel_17400\\3983351454.py:33: FutureWarning: The frame.append method is deprecated and will be removed from pandas in a future version. Use pandas.concat instead.\n",
      "  totalDf = totalDf.append(json_normalize(body), ignore_index=True)\n"
     ]
    },
    {
     "name": "stdout",
     "output_type": "stream",
     "text": [
      "114001\n"
     ]
    },
    {
     "name": "stderr",
     "output_type": "stream",
     "text": [
      "C:\\Users\\ohy\\AppData\\Local\\Temp\\ipykernel_17400\\3983351454.py:33: FutureWarning: pandas.io.json.json_normalize is deprecated, use pandas.json_normalize instead.\n",
      "  totalDf = totalDf.append(json_normalize(body), ignore_index=True)\n",
      "C:\\Users\\ohy\\AppData\\Local\\Temp\\ipykernel_17400\\3983351454.py:33: FutureWarning: The frame.append method is deprecated and will be removed from pandas in a future version. Use pandas.concat instead.\n",
      "  totalDf = totalDf.append(json_normalize(body), ignore_index=True)\n"
     ]
    },
    {
     "name": "stdout",
     "output_type": "stream",
     "text": [
      "115001\n"
     ]
    },
    {
     "name": "stderr",
     "output_type": "stream",
     "text": [
      "C:\\Users\\ohy\\AppData\\Local\\Temp\\ipykernel_17400\\3983351454.py:33: FutureWarning: pandas.io.json.json_normalize is deprecated, use pandas.json_normalize instead.\n",
      "  totalDf = totalDf.append(json_normalize(body), ignore_index=True)\n",
      "C:\\Users\\ohy\\AppData\\Local\\Temp\\ipykernel_17400\\3983351454.py:33: FutureWarning: The frame.append method is deprecated and will be removed from pandas in a future version. Use pandas.concat instead.\n",
      "  totalDf = totalDf.append(json_normalize(body), ignore_index=True)\n"
     ]
    },
    {
     "name": "stdout",
     "output_type": "stream",
     "text": [
      "116001\n"
     ]
    },
    {
     "name": "stderr",
     "output_type": "stream",
     "text": [
      "C:\\Users\\ohy\\AppData\\Local\\Temp\\ipykernel_17400\\3983351454.py:33: FutureWarning: pandas.io.json.json_normalize is deprecated, use pandas.json_normalize instead.\n",
      "  totalDf = totalDf.append(json_normalize(body), ignore_index=True)\n",
      "C:\\Users\\ohy\\AppData\\Local\\Temp\\ipykernel_17400\\3983351454.py:33: FutureWarning: The frame.append method is deprecated and will be removed from pandas in a future version. Use pandas.concat instead.\n",
      "  totalDf = totalDf.append(json_normalize(body), ignore_index=True)\n"
     ]
    },
    {
     "name": "stdout",
     "output_type": "stream",
     "text": [
      "117001\n"
     ]
    },
    {
     "name": "stderr",
     "output_type": "stream",
     "text": [
      "C:\\Users\\ohy\\AppData\\Local\\Temp\\ipykernel_17400\\3983351454.py:33: FutureWarning: pandas.io.json.json_normalize is deprecated, use pandas.json_normalize instead.\n",
      "  totalDf = totalDf.append(json_normalize(body), ignore_index=True)\n",
      "C:\\Users\\ohy\\AppData\\Local\\Temp\\ipykernel_17400\\3983351454.py:33: FutureWarning: The frame.append method is deprecated and will be removed from pandas in a future version. Use pandas.concat instead.\n",
      "  totalDf = totalDf.append(json_normalize(body), ignore_index=True)\n"
     ]
    },
    {
     "name": "stdout",
     "output_type": "stream",
     "text": [
      "118001\n"
     ]
    },
    {
     "name": "stderr",
     "output_type": "stream",
     "text": [
      "C:\\Users\\ohy\\AppData\\Local\\Temp\\ipykernel_17400\\3983351454.py:33: FutureWarning: pandas.io.json.json_normalize is deprecated, use pandas.json_normalize instead.\n",
      "  totalDf = totalDf.append(json_normalize(body), ignore_index=True)\n",
      "C:\\Users\\ohy\\AppData\\Local\\Temp\\ipykernel_17400\\3983351454.py:33: FutureWarning: The frame.append method is deprecated and will be removed from pandas in a future version. Use pandas.concat instead.\n",
      "  totalDf = totalDf.append(json_normalize(body), ignore_index=True)\n"
     ]
    },
    {
     "name": "stdout",
     "output_type": "stream",
     "text": [
      "119001\n"
     ]
    },
    {
     "name": "stderr",
     "output_type": "stream",
     "text": [
      "C:\\Users\\ohy\\AppData\\Local\\Temp\\ipykernel_17400\\3983351454.py:33: FutureWarning: pandas.io.json.json_normalize is deprecated, use pandas.json_normalize instead.\n",
      "  totalDf = totalDf.append(json_normalize(body), ignore_index=True)\n",
      "C:\\Users\\ohy\\AppData\\Local\\Temp\\ipykernel_17400\\3983351454.py:33: FutureWarning: The frame.append method is deprecated and will be removed from pandas in a future version. Use pandas.concat instead.\n",
      "  totalDf = totalDf.append(json_normalize(body), ignore_index=True)\n"
     ]
    },
    {
     "name": "stdout",
     "output_type": "stream",
     "text": [
      "120001\n"
     ]
    },
    {
     "name": "stderr",
     "output_type": "stream",
     "text": [
      "C:\\Users\\ohy\\AppData\\Local\\Temp\\ipykernel_17400\\3983351454.py:33: FutureWarning: pandas.io.json.json_normalize is deprecated, use pandas.json_normalize instead.\n",
      "  totalDf = totalDf.append(json_normalize(body), ignore_index=True)\n",
      "C:\\Users\\ohy\\AppData\\Local\\Temp\\ipykernel_17400\\3983351454.py:33: FutureWarning: The frame.append method is deprecated and will be removed from pandas in a future version. Use pandas.concat instead.\n",
      "  totalDf = totalDf.append(json_normalize(body), ignore_index=True)\n"
     ]
    },
    {
     "name": "stdout",
     "output_type": "stream",
     "text": [
      "121001\n"
     ]
    },
    {
     "name": "stderr",
     "output_type": "stream",
     "text": [
      "C:\\Users\\ohy\\AppData\\Local\\Temp\\ipykernel_17400\\3983351454.py:33: FutureWarning: pandas.io.json.json_normalize is deprecated, use pandas.json_normalize instead.\n",
      "  totalDf = totalDf.append(json_normalize(body), ignore_index=True)\n",
      "C:\\Users\\ohy\\AppData\\Local\\Temp\\ipykernel_17400\\3983351454.py:33: FutureWarning: The frame.append method is deprecated and will be removed from pandas in a future version. Use pandas.concat instead.\n",
      "  totalDf = totalDf.append(json_normalize(body), ignore_index=True)\n"
     ]
    },
    {
     "name": "stdout",
     "output_type": "stream",
     "text": [
      "122001\n"
     ]
    },
    {
     "name": "stderr",
     "output_type": "stream",
     "text": [
      "C:\\Users\\ohy\\AppData\\Local\\Temp\\ipykernel_17400\\3983351454.py:33: FutureWarning: pandas.io.json.json_normalize is deprecated, use pandas.json_normalize instead.\n",
      "  totalDf = totalDf.append(json_normalize(body), ignore_index=True)\n",
      "C:\\Users\\ohy\\AppData\\Local\\Temp\\ipykernel_17400\\3983351454.py:33: FutureWarning: The frame.append method is deprecated and will be removed from pandas in a future version. Use pandas.concat instead.\n",
      "  totalDf = totalDf.append(json_normalize(body), ignore_index=True)\n"
     ]
    },
    {
     "name": "stdout",
     "output_type": "stream",
     "text": [
      "123001\n"
     ]
    },
    {
     "name": "stderr",
     "output_type": "stream",
     "text": [
      "C:\\Users\\ohy\\AppData\\Local\\Temp\\ipykernel_17400\\3983351454.py:33: FutureWarning: pandas.io.json.json_normalize is deprecated, use pandas.json_normalize instead.\n",
      "  totalDf = totalDf.append(json_normalize(body), ignore_index=True)\n",
      "C:\\Users\\ohy\\AppData\\Local\\Temp\\ipykernel_17400\\3983351454.py:33: FutureWarning: The frame.append method is deprecated and will be removed from pandas in a future version. Use pandas.concat instead.\n",
      "  totalDf = totalDf.append(json_normalize(body), ignore_index=True)\n"
     ]
    },
    {
     "name": "stdout",
     "output_type": "stream",
     "text": [
      "124001\n"
     ]
    },
    {
     "name": "stderr",
     "output_type": "stream",
     "text": [
      "C:\\Users\\ohy\\AppData\\Local\\Temp\\ipykernel_17400\\3983351454.py:33: FutureWarning: pandas.io.json.json_normalize is deprecated, use pandas.json_normalize instead.\n",
      "  totalDf = totalDf.append(json_normalize(body), ignore_index=True)\n",
      "C:\\Users\\ohy\\AppData\\Local\\Temp\\ipykernel_17400\\3983351454.py:33: FutureWarning: The frame.append method is deprecated and will be removed from pandas in a future version. Use pandas.concat instead.\n",
      "  totalDf = totalDf.append(json_normalize(body), ignore_index=True)\n"
     ]
    },
    {
     "name": "stdout",
     "output_type": "stream",
     "text": [
      "125001\n"
     ]
    },
    {
     "name": "stderr",
     "output_type": "stream",
     "text": [
      "C:\\Users\\ohy\\AppData\\Local\\Temp\\ipykernel_17400\\3983351454.py:33: FutureWarning: pandas.io.json.json_normalize is deprecated, use pandas.json_normalize instead.\n",
      "  totalDf = totalDf.append(json_normalize(body), ignore_index=True)\n",
      "C:\\Users\\ohy\\AppData\\Local\\Temp\\ipykernel_17400\\3983351454.py:33: FutureWarning: The frame.append method is deprecated and will be removed from pandas in a future version. Use pandas.concat instead.\n",
      "  totalDf = totalDf.append(json_normalize(body), ignore_index=True)\n"
     ]
    },
    {
     "name": "stdout",
     "output_type": "stream",
     "text": [
      "126001\n"
     ]
    },
    {
     "name": "stderr",
     "output_type": "stream",
     "text": [
      "C:\\Users\\ohy\\AppData\\Local\\Temp\\ipykernel_17400\\3983351454.py:33: FutureWarning: pandas.io.json.json_normalize is deprecated, use pandas.json_normalize instead.\n",
      "  totalDf = totalDf.append(json_normalize(body), ignore_index=True)\n",
      "C:\\Users\\ohy\\AppData\\Local\\Temp\\ipykernel_17400\\3983351454.py:33: FutureWarning: The frame.append method is deprecated and will be removed from pandas in a future version. Use pandas.concat instead.\n",
      "  totalDf = totalDf.append(json_normalize(body), ignore_index=True)\n"
     ]
    },
    {
     "name": "stdout",
     "output_type": "stream",
     "text": [
      "127001\n"
     ]
    },
    {
     "name": "stderr",
     "output_type": "stream",
     "text": [
      "C:\\Users\\ohy\\AppData\\Local\\Temp\\ipykernel_17400\\3983351454.py:33: FutureWarning: pandas.io.json.json_normalize is deprecated, use pandas.json_normalize instead.\n",
      "  totalDf = totalDf.append(json_normalize(body), ignore_index=True)\n",
      "C:\\Users\\ohy\\AppData\\Local\\Temp\\ipykernel_17400\\3983351454.py:33: FutureWarning: The frame.append method is deprecated and will be removed from pandas in a future version. Use pandas.concat instead.\n",
      "  totalDf = totalDf.append(json_normalize(body), ignore_index=True)\n"
     ]
    },
    {
     "name": "stdout",
     "output_type": "stream",
     "text": [
      "128001\n"
     ]
    },
    {
     "name": "stderr",
     "output_type": "stream",
     "text": [
      "C:\\Users\\ohy\\AppData\\Local\\Temp\\ipykernel_17400\\3983351454.py:33: FutureWarning: pandas.io.json.json_normalize is deprecated, use pandas.json_normalize instead.\n",
      "  totalDf = totalDf.append(json_normalize(body), ignore_index=True)\n",
      "C:\\Users\\ohy\\AppData\\Local\\Temp\\ipykernel_17400\\3983351454.py:33: FutureWarning: The frame.append method is deprecated and will be removed from pandas in a future version. Use pandas.concat instead.\n",
      "  totalDf = totalDf.append(json_normalize(body), ignore_index=True)\n"
     ]
    },
    {
     "name": "stdout",
     "output_type": "stream",
     "text": [
      "129001\n"
     ]
    },
    {
     "name": "stderr",
     "output_type": "stream",
     "text": [
      "C:\\Users\\ohy\\AppData\\Local\\Temp\\ipykernel_17400\\3983351454.py:33: FutureWarning: pandas.io.json.json_normalize is deprecated, use pandas.json_normalize instead.\n",
      "  totalDf = totalDf.append(json_normalize(body), ignore_index=True)\n",
      "C:\\Users\\ohy\\AppData\\Local\\Temp\\ipykernel_17400\\3983351454.py:33: FutureWarning: The frame.append method is deprecated and will be removed from pandas in a future version. Use pandas.concat instead.\n",
      "  totalDf = totalDf.append(json_normalize(body), ignore_index=True)\n"
     ]
    },
    {
     "name": "stdout",
     "output_type": "stream",
     "text": [
      "130001\n"
     ]
    },
    {
     "name": "stderr",
     "output_type": "stream",
     "text": [
      "C:\\Users\\ohy\\AppData\\Local\\Temp\\ipykernel_17400\\3983351454.py:33: FutureWarning: pandas.io.json.json_normalize is deprecated, use pandas.json_normalize instead.\n",
      "  totalDf = totalDf.append(json_normalize(body), ignore_index=True)\n",
      "C:\\Users\\ohy\\AppData\\Local\\Temp\\ipykernel_17400\\3983351454.py:33: FutureWarning: The frame.append method is deprecated and will be removed from pandas in a future version. Use pandas.concat instead.\n",
      "  totalDf = totalDf.append(json_normalize(body), ignore_index=True)\n"
     ]
    },
    {
     "name": "stdout",
     "output_type": "stream",
     "text": [
      "131001\n"
     ]
    },
    {
     "name": "stderr",
     "output_type": "stream",
     "text": [
      "C:\\Users\\ohy\\AppData\\Local\\Temp\\ipykernel_17400\\3983351454.py:33: FutureWarning: pandas.io.json.json_normalize is deprecated, use pandas.json_normalize instead.\n",
      "  totalDf = totalDf.append(json_normalize(body), ignore_index=True)\n",
      "C:\\Users\\ohy\\AppData\\Local\\Temp\\ipykernel_17400\\3983351454.py:33: FutureWarning: The frame.append method is deprecated and will be removed from pandas in a future version. Use pandas.concat instead.\n",
      "  totalDf = totalDf.append(json_normalize(body), ignore_index=True)\n"
     ]
    },
    {
     "name": "stdout",
     "output_type": "stream",
     "text": [
      "132001\n"
     ]
    },
    {
     "name": "stderr",
     "output_type": "stream",
     "text": [
      "C:\\Users\\ohy\\AppData\\Local\\Temp\\ipykernel_17400\\3983351454.py:33: FutureWarning: pandas.io.json.json_normalize is deprecated, use pandas.json_normalize instead.\n",
      "  totalDf = totalDf.append(json_normalize(body), ignore_index=True)\n",
      "C:\\Users\\ohy\\AppData\\Local\\Temp\\ipykernel_17400\\3983351454.py:33: FutureWarning: The frame.append method is deprecated and will be removed from pandas in a future version. Use pandas.concat instead.\n",
      "  totalDf = totalDf.append(json_normalize(body), ignore_index=True)\n"
     ]
    },
    {
     "name": "stdout",
     "output_type": "stream",
     "text": [
      "133001\n"
     ]
    },
    {
     "name": "stderr",
     "output_type": "stream",
     "text": [
      "C:\\Users\\ohy\\AppData\\Local\\Temp\\ipykernel_17400\\3983351454.py:33: FutureWarning: pandas.io.json.json_normalize is deprecated, use pandas.json_normalize instead.\n",
      "  totalDf = totalDf.append(json_normalize(body), ignore_index=True)\n",
      "C:\\Users\\ohy\\AppData\\Local\\Temp\\ipykernel_17400\\3983351454.py:33: FutureWarning: The frame.append method is deprecated and will be removed from pandas in a future version. Use pandas.concat instead.\n",
      "  totalDf = totalDf.append(json_normalize(body), ignore_index=True)\n"
     ]
    },
    {
     "name": "stdout",
     "output_type": "stream",
     "text": [
      "134001\n"
     ]
    },
    {
     "name": "stderr",
     "output_type": "stream",
     "text": [
      "C:\\Users\\ohy\\AppData\\Local\\Temp\\ipykernel_17400\\3983351454.py:33: FutureWarning: pandas.io.json.json_normalize is deprecated, use pandas.json_normalize instead.\n",
      "  totalDf = totalDf.append(json_normalize(body), ignore_index=True)\n",
      "C:\\Users\\ohy\\AppData\\Local\\Temp\\ipykernel_17400\\3983351454.py:33: FutureWarning: The frame.append method is deprecated and will be removed from pandas in a future version. Use pandas.concat instead.\n",
      "  totalDf = totalDf.append(json_normalize(body), ignore_index=True)\n"
     ]
    },
    {
     "name": "stdout",
     "output_type": "stream",
     "text": [
      "135001\n"
     ]
    },
    {
     "name": "stderr",
     "output_type": "stream",
     "text": [
      "C:\\Users\\ohy\\AppData\\Local\\Temp\\ipykernel_17400\\3983351454.py:33: FutureWarning: pandas.io.json.json_normalize is deprecated, use pandas.json_normalize instead.\n",
      "  totalDf = totalDf.append(json_normalize(body), ignore_index=True)\n",
      "C:\\Users\\ohy\\AppData\\Local\\Temp\\ipykernel_17400\\3983351454.py:33: FutureWarning: The frame.append method is deprecated and will be removed from pandas in a future version. Use pandas.concat instead.\n",
      "  totalDf = totalDf.append(json_normalize(body), ignore_index=True)\n"
     ]
    },
    {
     "name": "stdout",
     "output_type": "stream",
     "text": [
      "136001\n"
     ]
    },
    {
     "name": "stderr",
     "output_type": "stream",
     "text": [
      "C:\\Users\\ohy\\AppData\\Local\\Temp\\ipykernel_17400\\3983351454.py:33: FutureWarning: pandas.io.json.json_normalize is deprecated, use pandas.json_normalize instead.\n",
      "  totalDf = totalDf.append(json_normalize(body), ignore_index=True)\n",
      "C:\\Users\\ohy\\AppData\\Local\\Temp\\ipykernel_17400\\3983351454.py:33: FutureWarning: The frame.append method is deprecated and will be removed from pandas in a future version. Use pandas.concat instead.\n",
      "  totalDf = totalDf.append(json_normalize(body), ignore_index=True)\n"
     ]
    },
    {
     "name": "stdout",
     "output_type": "stream",
     "text": [
      "137001\n"
     ]
    },
    {
     "name": "stderr",
     "output_type": "stream",
     "text": [
      "C:\\Users\\ohy\\AppData\\Local\\Temp\\ipykernel_17400\\3983351454.py:33: FutureWarning: pandas.io.json.json_normalize is deprecated, use pandas.json_normalize instead.\n",
      "  totalDf = totalDf.append(json_normalize(body), ignore_index=True)\n",
      "C:\\Users\\ohy\\AppData\\Local\\Temp\\ipykernel_17400\\3983351454.py:33: FutureWarning: The frame.append method is deprecated and will be removed from pandas in a future version. Use pandas.concat instead.\n",
      "  totalDf = totalDf.append(json_normalize(body), ignore_index=True)\n"
     ]
    },
    {
     "name": "stdout",
     "output_type": "stream",
     "text": [
      "138001\n"
     ]
    },
    {
     "name": "stderr",
     "output_type": "stream",
     "text": [
      "C:\\Users\\ohy\\AppData\\Local\\Temp\\ipykernel_17400\\3983351454.py:33: FutureWarning: pandas.io.json.json_normalize is deprecated, use pandas.json_normalize instead.\n",
      "  totalDf = totalDf.append(json_normalize(body), ignore_index=True)\n",
      "C:\\Users\\ohy\\AppData\\Local\\Temp\\ipykernel_17400\\3983351454.py:33: FutureWarning: The frame.append method is deprecated and will be removed from pandas in a future version. Use pandas.concat instead.\n",
      "  totalDf = totalDf.append(json_normalize(body), ignore_index=True)\n"
     ]
    },
    {
     "name": "stdout",
     "output_type": "stream",
     "text": [
      "139001\n"
     ]
    },
    {
     "name": "stderr",
     "output_type": "stream",
     "text": [
      "C:\\Users\\ohy\\AppData\\Local\\Temp\\ipykernel_17400\\3983351454.py:33: FutureWarning: pandas.io.json.json_normalize is deprecated, use pandas.json_normalize instead.\n",
      "  totalDf = totalDf.append(json_normalize(body), ignore_index=True)\n",
      "C:\\Users\\ohy\\AppData\\Local\\Temp\\ipykernel_17400\\3983351454.py:33: FutureWarning: The frame.append method is deprecated and will be removed from pandas in a future version. Use pandas.concat instead.\n",
      "  totalDf = totalDf.append(json_normalize(body), ignore_index=True)\n"
     ]
    },
    {
     "name": "stdout",
     "output_type": "stream",
     "text": [
      "140001\n"
     ]
    },
    {
     "name": "stderr",
     "output_type": "stream",
     "text": [
      "C:\\Users\\ohy\\AppData\\Local\\Temp\\ipykernel_17400\\3983351454.py:33: FutureWarning: pandas.io.json.json_normalize is deprecated, use pandas.json_normalize instead.\n",
      "  totalDf = totalDf.append(json_normalize(body), ignore_index=True)\n",
      "C:\\Users\\ohy\\AppData\\Local\\Temp\\ipykernel_17400\\3983351454.py:33: FutureWarning: The frame.append method is deprecated and will be removed from pandas in a future version. Use pandas.concat instead.\n",
      "  totalDf = totalDf.append(json_normalize(body), ignore_index=True)\n"
     ]
    },
    {
     "name": "stdout",
     "output_type": "stream",
     "text": [
      "141001\n"
     ]
    },
    {
     "name": "stderr",
     "output_type": "stream",
     "text": [
      "C:\\Users\\ohy\\AppData\\Local\\Temp\\ipykernel_17400\\3983351454.py:33: FutureWarning: pandas.io.json.json_normalize is deprecated, use pandas.json_normalize instead.\n",
      "  totalDf = totalDf.append(json_normalize(body), ignore_index=True)\n",
      "C:\\Users\\ohy\\AppData\\Local\\Temp\\ipykernel_17400\\3983351454.py:33: FutureWarning: The frame.append method is deprecated and will be removed from pandas in a future version. Use pandas.concat instead.\n",
      "  totalDf = totalDf.append(json_normalize(body), ignore_index=True)\n"
     ]
    },
    {
     "name": "stdout",
     "output_type": "stream",
     "text": [
      "142001\n"
     ]
    },
    {
     "name": "stderr",
     "output_type": "stream",
     "text": [
      "C:\\Users\\ohy\\AppData\\Local\\Temp\\ipykernel_17400\\3983351454.py:33: FutureWarning: pandas.io.json.json_normalize is deprecated, use pandas.json_normalize instead.\n",
      "  totalDf = totalDf.append(json_normalize(body), ignore_index=True)\n",
      "C:\\Users\\ohy\\AppData\\Local\\Temp\\ipykernel_17400\\3983351454.py:33: FutureWarning: The frame.append method is deprecated and will be removed from pandas in a future version. Use pandas.concat instead.\n",
      "  totalDf = totalDf.append(json_normalize(body), ignore_index=True)\n"
     ]
    },
    {
     "name": "stdout",
     "output_type": "stream",
     "text": [
      "143001\n"
     ]
    },
    {
     "name": "stderr",
     "output_type": "stream",
     "text": [
      "C:\\Users\\ohy\\AppData\\Local\\Temp\\ipykernel_17400\\3983351454.py:33: FutureWarning: pandas.io.json.json_normalize is deprecated, use pandas.json_normalize instead.\n",
      "  totalDf = totalDf.append(json_normalize(body), ignore_index=True)\n",
      "C:\\Users\\ohy\\AppData\\Local\\Temp\\ipykernel_17400\\3983351454.py:33: FutureWarning: The frame.append method is deprecated and will be removed from pandas in a future version. Use pandas.concat instead.\n",
      "  totalDf = totalDf.append(json_normalize(body), ignore_index=True)\n"
     ]
    },
    {
     "name": "stdout",
     "output_type": "stream",
     "text": [
      "144001\n"
     ]
    },
    {
     "name": "stderr",
     "output_type": "stream",
     "text": [
      "C:\\Users\\ohy\\AppData\\Local\\Temp\\ipykernel_17400\\3983351454.py:33: FutureWarning: pandas.io.json.json_normalize is deprecated, use pandas.json_normalize instead.\n",
      "  totalDf = totalDf.append(json_normalize(body), ignore_index=True)\n",
      "C:\\Users\\ohy\\AppData\\Local\\Temp\\ipykernel_17400\\3983351454.py:33: FutureWarning: The frame.append method is deprecated and will be removed from pandas in a future version. Use pandas.concat instead.\n",
      "  totalDf = totalDf.append(json_normalize(body), ignore_index=True)\n"
     ]
    },
    {
     "name": "stdout",
     "output_type": "stream",
     "text": [
      "145001\n"
     ]
    },
    {
     "name": "stderr",
     "output_type": "stream",
     "text": [
      "C:\\Users\\ohy\\AppData\\Local\\Temp\\ipykernel_17400\\3983351454.py:33: FutureWarning: pandas.io.json.json_normalize is deprecated, use pandas.json_normalize instead.\n",
      "  totalDf = totalDf.append(json_normalize(body), ignore_index=True)\n",
      "C:\\Users\\ohy\\AppData\\Local\\Temp\\ipykernel_17400\\3983351454.py:33: FutureWarning: The frame.append method is deprecated and will be removed from pandas in a future version. Use pandas.concat instead.\n",
      "  totalDf = totalDf.append(json_normalize(body), ignore_index=True)\n"
     ]
    },
    {
     "name": "stdout",
     "output_type": "stream",
     "text": [
      "146001\n"
     ]
    },
    {
     "name": "stderr",
     "output_type": "stream",
     "text": [
      "C:\\Users\\ohy\\AppData\\Local\\Temp\\ipykernel_17400\\3983351454.py:33: FutureWarning: pandas.io.json.json_normalize is deprecated, use pandas.json_normalize instead.\n",
      "  totalDf = totalDf.append(json_normalize(body), ignore_index=True)\n",
      "C:\\Users\\ohy\\AppData\\Local\\Temp\\ipykernel_17400\\3983351454.py:33: FutureWarning: The frame.append method is deprecated and will be removed from pandas in a future version. Use pandas.concat instead.\n",
      "  totalDf = totalDf.append(json_normalize(body), ignore_index=True)\n"
     ]
    },
    {
     "name": "stdout",
     "output_type": "stream",
     "text": [
      "147001\n"
     ]
    },
    {
     "name": "stderr",
     "output_type": "stream",
     "text": [
      "C:\\Users\\ohy\\AppData\\Local\\Temp\\ipykernel_17400\\3983351454.py:33: FutureWarning: pandas.io.json.json_normalize is deprecated, use pandas.json_normalize instead.\n",
      "  totalDf = totalDf.append(json_normalize(body), ignore_index=True)\n",
      "C:\\Users\\ohy\\AppData\\Local\\Temp\\ipykernel_17400\\3983351454.py:33: FutureWarning: The frame.append method is deprecated and will be removed from pandas in a future version. Use pandas.concat instead.\n",
      "  totalDf = totalDf.append(json_normalize(body), ignore_index=True)\n"
     ]
    },
    {
     "name": "stdout",
     "output_type": "stream",
     "text": [
      "148001\n"
     ]
    },
    {
     "name": "stderr",
     "output_type": "stream",
     "text": [
      "C:\\Users\\ohy\\AppData\\Local\\Temp\\ipykernel_17400\\3983351454.py:33: FutureWarning: pandas.io.json.json_normalize is deprecated, use pandas.json_normalize instead.\n",
      "  totalDf = totalDf.append(json_normalize(body), ignore_index=True)\n",
      "C:\\Users\\ohy\\AppData\\Local\\Temp\\ipykernel_17400\\3983351454.py:33: FutureWarning: The frame.append method is deprecated and will be removed from pandas in a future version. Use pandas.concat instead.\n",
      "  totalDf = totalDf.append(json_normalize(body), ignore_index=True)\n"
     ]
    },
    {
     "name": "stdout",
     "output_type": "stream",
     "text": [
      "149001\n"
     ]
    },
    {
     "name": "stderr",
     "output_type": "stream",
     "text": [
      "C:\\Users\\ohy\\AppData\\Local\\Temp\\ipykernel_17400\\3983351454.py:33: FutureWarning: pandas.io.json.json_normalize is deprecated, use pandas.json_normalize instead.\n",
      "  totalDf = totalDf.append(json_normalize(body), ignore_index=True)\n",
      "C:\\Users\\ohy\\AppData\\Local\\Temp\\ipykernel_17400\\3983351454.py:33: FutureWarning: The frame.append method is deprecated and will be removed from pandas in a future version. Use pandas.concat instead.\n",
      "  totalDf = totalDf.append(json_normalize(body), ignore_index=True)\n"
     ]
    },
    {
     "name": "stdout",
     "output_type": "stream",
     "text": [
      "150001\n"
     ]
    },
    {
     "name": "stderr",
     "output_type": "stream",
     "text": [
      "C:\\Users\\ohy\\AppData\\Local\\Temp\\ipykernel_17400\\3983351454.py:33: FutureWarning: pandas.io.json.json_normalize is deprecated, use pandas.json_normalize instead.\n",
      "  totalDf = totalDf.append(json_normalize(body), ignore_index=True)\n",
      "C:\\Users\\ohy\\AppData\\Local\\Temp\\ipykernel_17400\\3983351454.py:33: FutureWarning: The frame.append method is deprecated and will be removed from pandas in a future version. Use pandas.concat instead.\n",
      "  totalDf = totalDf.append(json_normalize(body), ignore_index=True)\n"
     ]
    },
    {
     "name": "stdout",
     "output_type": "stream",
     "text": [
      "151001\n"
     ]
    },
    {
     "name": "stderr",
     "output_type": "stream",
     "text": [
      "C:\\Users\\ohy\\AppData\\Local\\Temp\\ipykernel_17400\\3983351454.py:33: FutureWarning: pandas.io.json.json_normalize is deprecated, use pandas.json_normalize instead.\n",
      "  totalDf = totalDf.append(json_normalize(body), ignore_index=True)\n",
      "C:\\Users\\ohy\\AppData\\Local\\Temp\\ipykernel_17400\\3983351454.py:33: FutureWarning: The frame.append method is deprecated and will be removed from pandas in a future version. Use pandas.concat instead.\n",
      "  totalDf = totalDf.append(json_normalize(body), ignore_index=True)\n"
     ]
    },
    {
     "name": "stdout",
     "output_type": "stream",
     "text": [
      "152001\n"
     ]
    },
    {
     "name": "stderr",
     "output_type": "stream",
     "text": [
      "C:\\Users\\ohy\\AppData\\Local\\Temp\\ipykernel_17400\\3983351454.py:33: FutureWarning: pandas.io.json.json_normalize is deprecated, use pandas.json_normalize instead.\n",
      "  totalDf = totalDf.append(json_normalize(body), ignore_index=True)\n",
      "C:\\Users\\ohy\\AppData\\Local\\Temp\\ipykernel_17400\\3983351454.py:33: FutureWarning: The frame.append method is deprecated and will be removed from pandas in a future version. Use pandas.concat instead.\n",
      "  totalDf = totalDf.append(json_normalize(body), ignore_index=True)\n"
     ]
    },
    {
     "name": "stdout",
     "output_type": "stream",
     "text": [
      "153001\n"
     ]
    },
    {
     "name": "stderr",
     "output_type": "stream",
     "text": [
      "C:\\Users\\ohy\\AppData\\Local\\Temp\\ipykernel_17400\\3983351454.py:33: FutureWarning: pandas.io.json.json_normalize is deprecated, use pandas.json_normalize instead.\n",
      "  totalDf = totalDf.append(json_normalize(body), ignore_index=True)\n",
      "C:\\Users\\ohy\\AppData\\Local\\Temp\\ipykernel_17400\\3983351454.py:33: FutureWarning: The frame.append method is deprecated and will be removed from pandas in a future version. Use pandas.concat instead.\n",
      "  totalDf = totalDf.append(json_normalize(body), ignore_index=True)\n"
     ]
    },
    {
     "name": "stdout",
     "output_type": "stream",
     "text": [
      "154001\n"
     ]
    },
    {
     "name": "stderr",
     "output_type": "stream",
     "text": [
      "C:\\Users\\ohy\\AppData\\Local\\Temp\\ipykernel_17400\\3983351454.py:33: FutureWarning: pandas.io.json.json_normalize is deprecated, use pandas.json_normalize instead.\n",
      "  totalDf = totalDf.append(json_normalize(body), ignore_index=True)\n",
      "C:\\Users\\ohy\\AppData\\Local\\Temp\\ipykernel_17400\\3983351454.py:33: FutureWarning: The frame.append method is deprecated and will be removed from pandas in a future version. Use pandas.concat instead.\n",
      "  totalDf = totalDf.append(json_normalize(body), ignore_index=True)\n"
     ]
    },
    {
     "name": "stdout",
     "output_type": "stream",
     "text": [
      "155001\n"
     ]
    },
    {
     "name": "stderr",
     "output_type": "stream",
     "text": [
      "C:\\Users\\ohy\\AppData\\Local\\Temp\\ipykernel_17400\\3983351454.py:33: FutureWarning: pandas.io.json.json_normalize is deprecated, use pandas.json_normalize instead.\n",
      "  totalDf = totalDf.append(json_normalize(body), ignore_index=True)\n",
      "C:\\Users\\ohy\\AppData\\Local\\Temp\\ipykernel_17400\\3983351454.py:33: FutureWarning: The frame.append method is deprecated and will be removed from pandas in a future version. Use pandas.concat instead.\n",
      "  totalDf = totalDf.append(json_normalize(body), ignore_index=True)\n"
     ]
    },
    {
     "name": "stdout",
     "output_type": "stream",
     "text": [
      "156001\n"
     ]
    },
    {
     "name": "stderr",
     "output_type": "stream",
     "text": [
      "C:\\Users\\ohy\\AppData\\Local\\Temp\\ipykernel_17400\\3983351454.py:33: FutureWarning: pandas.io.json.json_normalize is deprecated, use pandas.json_normalize instead.\n",
      "  totalDf = totalDf.append(json_normalize(body), ignore_index=True)\n",
      "C:\\Users\\ohy\\AppData\\Local\\Temp\\ipykernel_17400\\3983351454.py:33: FutureWarning: The frame.append method is deprecated and will be removed from pandas in a future version. Use pandas.concat instead.\n",
      "  totalDf = totalDf.append(json_normalize(body), ignore_index=True)\n"
     ]
    },
    {
     "name": "stdout",
     "output_type": "stream",
     "text": [
      "157001\n"
     ]
    },
    {
     "name": "stderr",
     "output_type": "stream",
     "text": [
      "C:\\Users\\ohy\\AppData\\Local\\Temp\\ipykernel_17400\\3983351454.py:33: FutureWarning: pandas.io.json.json_normalize is deprecated, use pandas.json_normalize instead.\n",
      "  totalDf = totalDf.append(json_normalize(body), ignore_index=True)\n",
      "C:\\Users\\ohy\\AppData\\Local\\Temp\\ipykernel_17400\\3983351454.py:33: FutureWarning: The frame.append method is deprecated and will be removed from pandas in a future version. Use pandas.concat instead.\n",
      "  totalDf = totalDf.append(json_normalize(body), ignore_index=True)\n"
     ]
    },
    {
     "name": "stdout",
     "output_type": "stream",
     "text": [
      "158001\n"
     ]
    },
    {
     "name": "stderr",
     "output_type": "stream",
     "text": [
      "C:\\Users\\ohy\\AppData\\Local\\Temp\\ipykernel_17400\\3983351454.py:33: FutureWarning: pandas.io.json.json_normalize is deprecated, use pandas.json_normalize instead.\n",
      "  totalDf = totalDf.append(json_normalize(body), ignore_index=True)\n",
      "C:\\Users\\ohy\\AppData\\Local\\Temp\\ipykernel_17400\\3983351454.py:33: FutureWarning: The frame.append method is deprecated and will be removed from pandas in a future version. Use pandas.concat instead.\n",
      "  totalDf = totalDf.append(json_normalize(body), ignore_index=True)\n"
     ]
    },
    {
     "name": "stdout",
     "output_type": "stream",
     "text": [
      "159001\n"
     ]
    },
    {
     "name": "stderr",
     "output_type": "stream",
     "text": [
      "C:\\Users\\ohy\\AppData\\Local\\Temp\\ipykernel_17400\\3983351454.py:33: FutureWarning: pandas.io.json.json_normalize is deprecated, use pandas.json_normalize instead.\n",
      "  totalDf = totalDf.append(json_normalize(body), ignore_index=True)\n",
      "C:\\Users\\ohy\\AppData\\Local\\Temp\\ipykernel_17400\\3983351454.py:33: FutureWarning: The frame.append method is deprecated and will be removed from pandas in a future version. Use pandas.concat instead.\n",
      "  totalDf = totalDf.append(json_normalize(body), ignore_index=True)\n"
     ]
    },
    {
     "name": "stdout",
     "output_type": "stream",
     "text": [
      "160001\n"
     ]
    },
    {
     "name": "stderr",
     "output_type": "stream",
     "text": [
      "C:\\Users\\ohy\\AppData\\Local\\Temp\\ipykernel_17400\\3983351454.py:33: FutureWarning: pandas.io.json.json_normalize is deprecated, use pandas.json_normalize instead.\n",
      "  totalDf = totalDf.append(json_normalize(body), ignore_index=True)\n",
      "C:\\Users\\ohy\\AppData\\Local\\Temp\\ipykernel_17400\\3983351454.py:33: FutureWarning: The frame.append method is deprecated and will be removed from pandas in a future version. Use pandas.concat instead.\n",
      "  totalDf = totalDf.append(json_normalize(body), ignore_index=True)\n"
     ]
    },
    {
     "name": "stdout",
     "output_type": "stream",
     "text": [
      "161001\n"
     ]
    },
    {
     "name": "stderr",
     "output_type": "stream",
     "text": [
      "C:\\Users\\ohy\\AppData\\Local\\Temp\\ipykernel_17400\\3983351454.py:33: FutureWarning: pandas.io.json.json_normalize is deprecated, use pandas.json_normalize instead.\n",
      "  totalDf = totalDf.append(json_normalize(body), ignore_index=True)\n",
      "C:\\Users\\ohy\\AppData\\Local\\Temp\\ipykernel_17400\\3983351454.py:33: FutureWarning: The frame.append method is deprecated and will be removed from pandas in a future version. Use pandas.concat instead.\n",
      "  totalDf = totalDf.append(json_normalize(body), ignore_index=True)\n"
     ]
    },
    {
     "name": "stdout",
     "output_type": "stream",
     "text": [
      "162001\n"
     ]
    },
    {
     "name": "stderr",
     "output_type": "stream",
     "text": [
      "C:\\Users\\ohy\\AppData\\Local\\Temp\\ipykernel_17400\\3983351454.py:33: FutureWarning: pandas.io.json.json_normalize is deprecated, use pandas.json_normalize instead.\n",
      "  totalDf = totalDf.append(json_normalize(body), ignore_index=True)\n",
      "C:\\Users\\ohy\\AppData\\Local\\Temp\\ipykernel_17400\\3983351454.py:33: FutureWarning: The frame.append method is deprecated and will be removed from pandas in a future version. Use pandas.concat instead.\n",
      "  totalDf = totalDf.append(json_normalize(body), ignore_index=True)\n"
     ]
    },
    {
     "name": "stdout",
     "output_type": "stream",
     "text": [
      "163001\n"
     ]
    },
    {
     "name": "stderr",
     "output_type": "stream",
     "text": [
      "C:\\Users\\ohy\\AppData\\Local\\Temp\\ipykernel_17400\\3983351454.py:33: FutureWarning: pandas.io.json.json_normalize is deprecated, use pandas.json_normalize instead.\n",
      "  totalDf = totalDf.append(json_normalize(body), ignore_index=True)\n",
      "C:\\Users\\ohy\\AppData\\Local\\Temp\\ipykernel_17400\\3983351454.py:33: FutureWarning: The frame.append method is deprecated and will be removed from pandas in a future version. Use pandas.concat instead.\n",
      "  totalDf = totalDf.append(json_normalize(body), ignore_index=True)\n"
     ]
    },
    {
     "name": "stdout",
     "output_type": "stream",
     "text": [
      "164001\n"
     ]
    },
    {
     "name": "stderr",
     "output_type": "stream",
     "text": [
      "C:\\Users\\ohy\\AppData\\Local\\Temp\\ipykernel_17400\\3983351454.py:33: FutureWarning: pandas.io.json.json_normalize is deprecated, use pandas.json_normalize instead.\n",
      "  totalDf = totalDf.append(json_normalize(body), ignore_index=True)\n",
      "C:\\Users\\ohy\\AppData\\Local\\Temp\\ipykernel_17400\\3983351454.py:33: FutureWarning: The frame.append method is deprecated and will be removed from pandas in a future version. Use pandas.concat instead.\n",
      "  totalDf = totalDf.append(json_normalize(body), ignore_index=True)\n"
     ]
    },
    {
     "name": "stdout",
     "output_type": "stream",
     "text": [
      "165001\n"
     ]
    },
    {
     "name": "stderr",
     "output_type": "stream",
     "text": [
      "C:\\Users\\ohy\\AppData\\Local\\Temp\\ipykernel_17400\\3983351454.py:33: FutureWarning: pandas.io.json.json_normalize is deprecated, use pandas.json_normalize instead.\n",
      "  totalDf = totalDf.append(json_normalize(body), ignore_index=True)\n",
      "C:\\Users\\ohy\\AppData\\Local\\Temp\\ipykernel_17400\\3983351454.py:33: FutureWarning: The frame.append method is deprecated and will be removed from pandas in a future version. Use pandas.concat instead.\n",
      "  totalDf = totalDf.append(json_normalize(body), ignore_index=True)\n"
     ]
    },
    {
     "name": "stdout",
     "output_type": "stream",
     "text": [
      "166001\n"
     ]
    },
    {
     "name": "stderr",
     "output_type": "stream",
     "text": [
      "C:\\Users\\ohy\\AppData\\Local\\Temp\\ipykernel_17400\\3983351454.py:33: FutureWarning: pandas.io.json.json_normalize is deprecated, use pandas.json_normalize instead.\n",
      "  totalDf = totalDf.append(json_normalize(body), ignore_index=True)\n",
      "C:\\Users\\ohy\\AppData\\Local\\Temp\\ipykernel_17400\\3983351454.py:33: FutureWarning: The frame.append method is deprecated and will be removed from pandas in a future version. Use pandas.concat instead.\n",
      "  totalDf = totalDf.append(json_normalize(body), ignore_index=True)\n"
     ]
    },
    {
     "name": "stdout",
     "output_type": "stream",
     "text": [
      "167001\n"
     ]
    },
    {
     "name": "stderr",
     "output_type": "stream",
     "text": [
      "C:\\Users\\ohy\\AppData\\Local\\Temp\\ipykernel_17400\\3983351454.py:33: FutureWarning: pandas.io.json.json_normalize is deprecated, use pandas.json_normalize instead.\n",
      "  totalDf = totalDf.append(json_normalize(body), ignore_index=True)\n",
      "C:\\Users\\ohy\\AppData\\Local\\Temp\\ipykernel_17400\\3983351454.py:33: FutureWarning: The frame.append method is deprecated and will be removed from pandas in a future version. Use pandas.concat instead.\n",
      "  totalDf = totalDf.append(json_normalize(body), ignore_index=True)\n"
     ]
    },
    {
     "name": "stdout",
     "output_type": "stream",
     "text": [
      "168001\n"
     ]
    },
    {
     "name": "stderr",
     "output_type": "stream",
     "text": [
      "C:\\Users\\ohy\\AppData\\Local\\Temp\\ipykernel_17400\\3983351454.py:33: FutureWarning: pandas.io.json.json_normalize is deprecated, use pandas.json_normalize instead.\n",
      "  totalDf = totalDf.append(json_normalize(body), ignore_index=True)\n",
      "C:\\Users\\ohy\\AppData\\Local\\Temp\\ipykernel_17400\\3983351454.py:33: FutureWarning: The frame.append method is deprecated and will be removed from pandas in a future version. Use pandas.concat instead.\n",
      "  totalDf = totalDf.append(json_normalize(body), ignore_index=True)\n"
     ]
    },
    {
     "name": "stdout",
     "output_type": "stream",
     "text": [
      "169001\n"
     ]
    },
    {
     "name": "stderr",
     "output_type": "stream",
     "text": [
      "C:\\Users\\ohy\\AppData\\Local\\Temp\\ipykernel_17400\\3983351454.py:33: FutureWarning: pandas.io.json.json_normalize is deprecated, use pandas.json_normalize instead.\n",
      "  totalDf = totalDf.append(json_normalize(body), ignore_index=True)\n",
      "C:\\Users\\ohy\\AppData\\Local\\Temp\\ipykernel_17400\\3983351454.py:33: FutureWarning: The frame.append method is deprecated and will be removed from pandas in a future version. Use pandas.concat instead.\n",
      "  totalDf = totalDf.append(json_normalize(body), ignore_index=True)\n"
     ]
    },
    {
     "name": "stdout",
     "output_type": "stream",
     "text": [
      "170001\n"
     ]
    },
    {
     "name": "stderr",
     "output_type": "stream",
     "text": [
      "C:\\Users\\ohy\\AppData\\Local\\Temp\\ipykernel_17400\\3983351454.py:33: FutureWarning: pandas.io.json.json_normalize is deprecated, use pandas.json_normalize instead.\n",
      "  totalDf = totalDf.append(json_normalize(body), ignore_index=True)\n",
      "C:\\Users\\ohy\\AppData\\Local\\Temp\\ipykernel_17400\\3983351454.py:33: FutureWarning: The frame.append method is deprecated and will be removed from pandas in a future version. Use pandas.concat instead.\n",
      "  totalDf = totalDf.append(json_normalize(body), ignore_index=True)\n"
     ]
    },
    {
     "name": "stdout",
     "output_type": "stream",
     "text": [
      "171001\n"
     ]
    },
    {
     "name": "stderr",
     "output_type": "stream",
     "text": [
      "C:\\Users\\ohy\\AppData\\Local\\Temp\\ipykernel_17400\\3983351454.py:33: FutureWarning: pandas.io.json.json_normalize is deprecated, use pandas.json_normalize instead.\n",
      "  totalDf = totalDf.append(json_normalize(body), ignore_index=True)\n",
      "C:\\Users\\ohy\\AppData\\Local\\Temp\\ipykernel_17400\\3983351454.py:33: FutureWarning: The frame.append method is deprecated and will be removed from pandas in a future version. Use pandas.concat instead.\n",
      "  totalDf = totalDf.append(json_normalize(body), ignore_index=True)\n"
     ]
    },
    {
     "name": "stdout",
     "output_type": "stream",
     "text": [
      "172001\n"
     ]
    },
    {
     "name": "stderr",
     "output_type": "stream",
     "text": [
      "C:\\Users\\ohy\\AppData\\Local\\Temp\\ipykernel_17400\\3983351454.py:33: FutureWarning: pandas.io.json.json_normalize is deprecated, use pandas.json_normalize instead.\n",
      "  totalDf = totalDf.append(json_normalize(body), ignore_index=True)\n",
      "C:\\Users\\ohy\\AppData\\Local\\Temp\\ipykernel_17400\\3983351454.py:33: FutureWarning: The frame.append method is deprecated and will be removed from pandas in a future version. Use pandas.concat instead.\n",
      "  totalDf = totalDf.append(json_normalize(body), ignore_index=True)\n"
     ]
    },
    {
     "name": "stdout",
     "output_type": "stream",
     "text": [
      "173001\n"
     ]
    },
    {
     "name": "stderr",
     "output_type": "stream",
     "text": [
      "C:\\Users\\ohy\\AppData\\Local\\Temp\\ipykernel_17400\\3983351454.py:33: FutureWarning: pandas.io.json.json_normalize is deprecated, use pandas.json_normalize instead.\n",
      "  totalDf = totalDf.append(json_normalize(body), ignore_index=True)\n",
      "C:\\Users\\ohy\\AppData\\Local\\Temp\\ipykernel_17400\\3983351454.py:33: FutureWarning: The frame.append method is deprecated and will be removed from pandas in a future version. Use pandas.concat instead.\n",
      "  totalDf = totalDf.append(json_normalize(body), ignore_index=True)\n"
     ]
    },
    {
     "name": "stdout",
     "output_type": "stream",
     "text": [
      "174001\n"
     ]
    },
    {
     "name": "stderr",
     "output_type": "stream",
     "text": [
      "C:\\Users\\ohy\\AppData\\Local\\Temp\\ipykernel_17400\\3983351454.py:33: FutureWarning: pandas.io.json.json_normalize is deprecated, use pandas.json_normalize instead.\n",
      "  totalDf = totalDf.append(json_normalize(body), ignore_index=True)\n",
      "C:\\Users\\ohy\\AppData\\Local\\Temp\\ipykernel_17400\\3983351454.py:33: FutureWarning: The frame.append method is deprecated and will be removed from pandas in a future version. Use pandas.concat instead.\n",
      "  totalDf = totalDf.append(json_normalize(body), ignore_index=True)\n"
     ]
    },
    {
     "name": "stdout",
     "output_type": "stream",
     "text": [
      "175001\n"
     ]
    },
    {
     "name": "stderr",
     "output_type": "stream",
     "text": [
      "C:\\Users\\ohy\\AppData\\Local\\Temp\\ipykernel_17400\\3983351454.py:33: FutureWarning: pandas.io.json.json_normalize is deprecated, use pandas.json_normalize instead.\n",
      "  totalDf = totalDf.append(json_normalize(body), ignore_index=True)\n",
      "C:\\Users\\ohy\\AppData\\Local\\Temp\\ipykernel_17400\\3983351454.py:33: FutureWarning: The frame.append method is deprecated and will be removed from pandas in a future version. Use pandas.concat instead.\n",
      "  totalDf = totalDf.append(json_normalize(body), ignore_index=True)\n"
     ]
    },
    {
     "name": "stdout",
     "output_type": "stream",
     "text": [
      "176001\n"
     ]
    },
    {
     "name": "stderr",
     "output_type": "stream",
     "text": [
      "C:\\Users\\ohy\\AppData\\Local\\Temp\\ipykernel_17400\\3983351454.py:33: FutureWarning: pandas.io.json.json_normalize is deprecated, use pandas.json_normalize instead.\n",
      "  totalDf = totalDf.append(json_normalize(body), ignore_index=True)\n",
      "C:\\Users\\ohy\\AppData\\Local\\Temp\\ipykernel_17400\\3983351454.py:33: FutureWarning: The frame.append method is deprecated and will be removed from pandas in a future version. Use pandas.concat instead.\n",
      "  totalDf = totalDf.append(json_normalize(body), ignore_index=True)\n"
     ]
    },
    {
     "name": "stdout",
     "output_type": "stream",
     "text": [
      "177001\n"
     ]
    },
    {
     "name": "stderr",
     "output_type": "stream",
     "text": [
      "C:\\Users\\ohy\\AppData\\Local\\Temp\\ipykernel_17400\\3983351454.py:33: FutureWarning: pandas.io.json.json_normalize is deprecated, use pandas.json_normalize instead.\n",
      "  totalDf = totalDf.append(json_normalize(body), ignore_index=True)\n",
      "C:\\Users\\ohy\\AppData\\Local\\Temp\\ipykernel_17400\\3983351454.py:33: FutureWarning: The frame.append method is deprecated and will be removed from pandas in a future version. Use pandas.concat instead.\n",
      "  totalDf = totalDf.append(json_normalize(body), ignore_index=True)\n"
     ]
    },
    {
     "name": "stdout",
     "output_type": "stream",
     "text": [
      "178001\n"
     ]
    },
    {
     "name": "stderr",
     "output_type": "stream",
     "text": [
      "C:\\Users\\ohy\\AppData\\Local\\Temp\\ipykernel_17400\\3983351454.py:33: FutureWarning: pandas.io.json.json_normalize is deprecated, use pandas.json_normalize instead.\n",
      "  totalDf = totalDf.append(json_normalize(body), ignore_index=True)\n",
      "C:\\Users\\ohy\\AppData\\Local\\Temp\\ipykernel_17400\\3983351454.py:33: FutureWarning: The frame.append method is deprecated and will be removed from pandas in a future version. Use pandas.concat instead.\n",
      "  totalDf = totalDf.append(json_normalize(body), ignore_index=True)\n"
     ]
    },
    {
     "name": "stdout",
     "output_type": "stream",
     "text": [
      "179001\n"
     ]
    },
    {
     "name": "stderr",
     "output_type": "stream",
     "text": [
      "C:\\Users\\ohy\\AppData\\Local\\Temp\\ipykernel_17400\\3983351454.py:33: FutureWarning: pandas.io.json.json_normalize is deprecated, use pandas.json_normalize instead.\n",
      "  totalDf = totalDf.append(json_normalize(body), ignore_index=True)\n",
      "C:\\Users\\ohy\\AppData\\Local\\Temp\\ipykernel_17400\\3983351454.py:33: FutureWarning: The frame.append method is deprecated and will be removed from pandas in a future version. Use pandas.concat instead.\n",
      "  totalDf = totalDf.append(json_normalize(body), ignore_index=True)\n"
     ]
    },
    {
     "name": "stdout",
     "output_type": "stream",
     "text": [
      "180001\n"
     ]
    },
    {
     "name": "stderr",
     "output_type": "stream",
     "text": [
      "C:\\Users\\ohy\\AppData\\Local\\Temp\\ipykernel_17400\\3983351454.py:33: FutureWarning: pandas.io.json.json_normalize is deprecated, use pandas.json_normalize instead.\n",
      "  totalDf = totalDf.append(json_normalize(body), ignore_index=True)\n",
      "C:\\Users\\ohy\\AppData\\Local\\Temp\\ipykernel_17400\\3983351454.py:33: FutureWarning: The frame.append method is deprecated and will be removed from pandas in a future version. Use pandas.concat instead.\n",
      "  totalDf = totalDf.append(json_normalize(body), ignore_index=True)\n"
     ]
    },
    {
     "name": "stdout",
     "output_type": "stream",
     "text": [
      "181001\n"
     ]
    },
    {
     "name": "stderr",
     "output_type": "stream",
     "text": [
      "C:\\Users\\ohy\\AppData\\Local\\Temp\\ipykernel_17400\\3983351454.py:33: FutureWarning: pandas.io.json.json_normalize is deprecated, use pandas.json_normalize instead.\n",
      "  totalDf = totalDf.append(json_normalize(body), ignore_index=True)\n",
      "C:\\Users\\ohy\\AppData\\Local\\Temp\\ipykernel_17400\\3983351454.py:33: FutureWarning: The frame.append method is deprecated and will be removed from pandas in a future version. Use pandas.concat instead.\n",
      "  totalDf = totalDf.append(json_normalize(body), ignore_index=True)\n"
     ]
    },
    {
     "name": "stdout",
     "output_type": "stream",
     "text": [
      "182001\n"
     ]
    },
    {
     "name": "stderr",
     "output_type": "stream",
     "text": [
      "C:\\Users\\ohy\\AppData\\Local\\Temp\\ipykernel_17400\\3983351454.py:33: FutureWarning: pandas.io.json.json_normalize is deprecated, use pandas.json_normalize instead.\n",
      "  totalDf = totalDf.append(json_normalize(body), ignore_index=True)\n",
      "C:\\Users\\ohy\\AppData\\Local\\Temp\\ipykernel_17400\\3983351454.py:33: FutureWarning: The frame.append method is deprecated and will be removed from pandas in a future version. Use pandas.concat instead.\n",
      "  totalDf = totalDf.append(json_normalize(body), ignore_index=True)\n"
     ]
    },
    {
     "name": "stdout",
     "output_type": "stream",
     "text": [
      "183001\n"
     ]
    },
    {
     "name": "stderr",
     "output_type": "stream",
     "text": [
      "C:\\Users\\ohy\\AppData\\Local\\Temp\\ipykernel_17400\\3983351454.py:33: FutureWarning: pandas.io.json.json_normalize is deprecated, use pandas.json_normalize instead.\n",
      "  totalDf = totalDf.append(json_normalize(body), ignore_index=True)\n",
      "C:\\Users\\ohy\\AppData\\Local\\Temp\\ipykernel_17400\\3983351454.py:33: FutureWarning: The frame.append method is deprecated and will be removed from pandas in a future version. Use pandas.concat instead.\n",
      "  totalDf = totalDf.append(json_normalize(body), ignore_index=True)\n"
     ]
    },
    {
     "name": "stdout",
     "output_type": "stream",
     "text": [
      "184001\n"
     ]
    },
    {
     "name": "stderr",
     "output_type": "stream",
     "text": [
      "C:\\Users\\ohy\\AppData\\Local\\Temp\\ipykernel_17400\\3983351454.py:33: FutureWarning: pandas.io.json.json_normalize is deprecated, use pandas.json_normalize instead.\n",
      "  totalDf = totalDf.append(json_normalize(body), ignore_index=True)\n",
      "C:\\Users\\ohy\\AppData\\Local\\Temp\\ipykernel_17400\\3983351454.py:33: FutureWarning: The frame.append method is deprecated and will be removed from pandas in a future version. Use pandas.concat instead.\n",
      "  totalDf = totalDf.append(json_normalize(body), ignore_index=True)\n"
     ]
    },
    {
     "name": "stdout",
     "output_type": "stream",
     "text": [
      "185001\n"
     ]
    },
    {
     "name": "stderr",
     "output_type": "stream",
     "text": [
      "C:\\Users\\ohy\\AppData\\Local\\Temp\\ipykernel_17400\\3983351454.py:33: FutureWarning: pandas.io.json.json_normalize is deprecated, use pandas.json_normalize instead.\n",
      "  totalDf = totalDf.append(json_normalize(body), ignore_index=True)\n",
      "C:\\Users\\ohy\\AppData\\Local\\Temp\\ipykernel_17400\\3983351454.py:33: FutureWarning: The frame.append method is deprecated and will be removed from pandas in a future version. Use pandas.concat instead.\n",
      "  totalDf = totalDf.append(json_normalize(body), ignore_index=True)\n"
     ]
    },
    {
     "name": "stdout",
     "output_type": "stream",
     "text": [
      "186001\n"
     ]
    },
    {
     "name": "stderr",
     "output_type": "stream",
     "text": [
      "C:\\Users\\ohy\\AppData\\Local\\Temp\\ipykernel_17400\\3983351454.py:33: FutureWarning: pandas.io.json.json_normalize is deprecated, use pandas.json_normalize instead.\n",
      "  totalDf = totalDf.append(json_normalize(body), ignore_index=True)\n",
      "C:\\Users\\ohy\\AppData\\Local\\Temp\\ipykernel_17400\\3983351454.py:33: FutureWarning: The frame.append method is deprecated and will be removed from pandas in a future version. Use pandas.concat instead.\n",
      "  totalDf = totalDf.append(json_normalize(body), ignore_index=True)\n"
     ]
    },
    {
     "name": "stdout",
     "output_type": "stream",
     "text": [
      "187001\n"
     ]
    },
    {
     "name": "stderr",
     "output_type": "stream",
     "text": [
      "C:\\Users\\ohy\\AppData\\Local\\Temp\\ipykernel_17400\\3983351454.py:33: FutureWarning: pandas.io.json.json_normalize is deprecated, use pandas.json_normalize instead.\n",
      "  totalDf = totalDf.append(json_normalize(body), ignore_index=True)\n",
      "C:\\Users\\ohy\\AppData\\Local\\Temp\\ipykernel_17400\\3983351454.py:33: FutureWarning: The frame.append method is deprecated and will be removed from pandas in a future version. Use pandas.concat instead.\n",
      "  totalDf = totalDf.append(json_normalize(body), ignore_index=True)\n"
     ]
    },
    {
     "name": "stdout",
     "output_type": "stream",
     "text": [
      "188001\n"
     ]
    },
    {
     "name": "stderr",
     "output_type": "stream",
     "text": [
      "C:\\Users\\ohy\\AppData\\Local\\Temp\\ipykernel_17400\\3983351454.py:33: FutureWarning: pandas.io.json.json_normalize is deprecated, use pandas.json_normalize instead.\n",
      "  totalDf = totalDf.append(json_normalize(body), ignore_index=True)\n",
      "C:\\Users\\ohy\\AppData\\Local\\Temp\\ipykernel_17400\\3983351454.py:33: FutureWarning: The frame.append method is deprecated and will be removed from pandas in a future version. Use pandas.concat instead.\n",
      "  totalDf = totalDf.append(json_normalize(body), ignore_index=True)\n"
     ]
    },
    {
     "name": "stdout",
     "output_type": "stream",
     "text": [
      "189001\n"
     ]
    },
    {
     "name": "stderr",
     "output_type": "stream",
     "text": [
      "C:\\Users\\ohy\\AppData\\Local\\Temp\\ipykernel_17400\\3983351454.py:33: FutureWarning: pandas.io.json.json_normalize is deprecated, use pandas.json_normalize instead.\n",
      "  totalDf = totalDf.append(json_normalize(body), ignore_index=True)\n",
      "C:\\Users\\ohy\\AppData\\Local\\Temp\\ipykernel_17400\\3983351454.py:33: FutureWarning: The frame.append method is deprecated and will be removed from pandas in a future version. Use pandas.concat instead.\n",
      "  totalDf = totalDf.append(json_normalize(body), ignore_index=True)\n"
     ]
    },
    {
     "name": "stdout",
     "output_type": "stream",
     "text": [
      "190001\n"
     ]
    },
    {
     "name": "stderr",
     "output_type": "stream",
     "text": [
      "C:\\Users\\ohy\\AppData\\Local\\Temp\\ipykernel_17400\\3983351454.py:33: FutureWarning: pandas.io.json.json_normalize is deprecated, use pandas.json_normalize instead.\n",
      "  totalDf = totalDf.append(json_normalize(body), ignore_index=True)\n",
      "C:\\Users\\ohy\\AppData\\Local\\Temp\\ipykernel_17400\\3983351454.py:33: FutureWarning: The frame.append method is deprecated and will be removed from pandas in a future version. Use pandas.concat instead.\n",
      "  totalDf = totalDf.append(json_normalize(body), ignore_index=True)\n"
     ]
    },
    {
     "name": "stdout",
     "output_type": "stream",
     "text": [
      "191001\n"
     ]
    },
    {
     "name": "stderr",
     "output_type": "stream",
     "text": [
      "C:\\Users\\ohy\\AppData\\Local\\Temp\\ipykernel_17400\\3983351454.py:33: FutureWarning: pandas.io.json.json_normalize is deprecated, use pandas.json_normalize instead.\n",
      "  totalDf = totalDf.append(json_normalize(body), ignore_index=True)\n",
      "C:\\Users\\ohy\\AppData\\Local\\Temp\\ipykernel_17400\\3983351454.py:33: FutureWarning: The frame.append method is deprecated and will be removed from pandas in a future version. Use pandas.concat instead.\n",
      "  totalDf = totalDf.append(json_normalize(body), ignore_index=True)\n"
     ]
    },
    {
     "name": "stdout",
     "output_type": "stream",
     "text": [
      "192001\n"
     ]
    },
    {
     "name": "stderr",
     "output_type": "stream",
     "text": [
      "C:\\Users\\ohy\\AppData\\Local\\Temp\\ipykernel_17400\\3983351454.py:33: FutureWarning: pandas.io.json.json_normalize is deprecated, use pandas.json_normalize instead.\n",
      "  totalDf = totalDf.append(json_normalize(body), ignore_index=True)\n",
      "C:\\Users\\ohy\\AppData\\Local\\Temp\\ipykernel_17400\\3983351454.py:33: FutureWarning: The frame.append method is deprecated and will be removed from pandas in a future version. Use pandas.concat instead.\n",
      "  totalDf = totalDf.append(json_normalize(body), ignore_index=True)\n"
     ]
    },
    {
     "name": "stdout",
     "output_type": "stream",
     "text": [
      "193001\n"
     ]
    },
    {
     "name": "stderr",
     "output_type": "stream",
     "text": [
      "C:\\Users\\ohy\\AppData\\Local\\Temp\\ipykernel_17400\\3983351454.py:33: FutureWarning: pandas.io.json.json_normalize is deprecated, use pandas.json_normalize instead.\n",
      "  totalDf = totalDf.append(json_normalize(body), ignore_index=True)\n",
      "C:\\Users\\ohy\\AppData\\Local\\Temp\\ipykernel_17400\\3983351454.py:33: FutureWarning: The frame.append method is deprecated and will be removed from pandas in a future version. Use pandas.concat instead.\n",
      "  totalDf = totalDf.append(json_normalize(body), ignore_index=True)\n"
     ]
    },
    {
     "name": "stdout",
     "output_type": "stream",
     "text": [
      "194001\n"
     ]
    },
    {
     "name": "stderr",
     "output_type": "stream",
     "text": [
      "C:\\Users\\ohy\\AppData\\Local\\Temp\\ipykernel_17400\\3983351454.py:33: FutureWarning: pandas.io.json.json_normalize is deprecated, use pandas.json_normalize instead.\n",
      "  totalDf = totalDf.append(json_normalize(body), ignore_index=True)\n",
      "C:\\Users\\ohy\\AppData\\Local\\Temp\\ipykernel_17400\\3983351454.py:33: FutureWarning: The frame.append method is deprecated and will be removed from pandas in a future version. Use pandas.concat instead.\n",
      "  totalDf = totalDf.append(json_normalize(body), ignore_index=True)\n"
     ]
    },
    {
     "name": "stdout",
     "output_type": "stream",
     "text": [
      "195001\n"
     ]
    },
    {
     "name": "stderr",
     "output_type": "stream",
     "text": [
      "C:\\Users\\ohy\\AppData\\Local\\Temp\\ipykernel_17400\\3983351454.py:33: FutureWarning: pandas.io.json.json_normalize is deprecated, use pandas.json_normalize instead.\n",
      "  totalDf = totalDf.append(json_normalize(body), ignore_index=True)\n",
      "C:\\Users\\ohy\\AppData\\Local\\Temp\\ipykernel_17400\\3983351454.py:33: FutureWarning: The frame.append method is deprecated and will be removed from pandas in a future version. Use pandas.concat instead.\n",
      "  totalDf = totalDf.append(json_normalize(body), ignore_index=True)\n"
     ]
    },
    {
     "name": "stdout",
     "output_type": "stream",
     "text": [
      "196001\n"
     ]
    },
    {
     "name": "stderr",
     "output_type": "stream",
     "text": [
      "C:\\Users\\ohy\\AppData\\Local\\Temp\\ipykernel_17400\\3983351454.py:33: FutureWarning: pandas.io.json.json_normalize is deprecated, use pandas.json_normalize instead.\n",
      "  totalDf = totalDf.append(json_normalize(body), ignore_index=True)\n",
      "C:\\Users\\ohy\\AppData\\Local\\Temp\\ipykernel_17400\\3983351454.py:33: FutureWarning: The frame.append method is deprecated and will be removed from pandas in a future version. Use pandas.concat instead.\n",
      "  totalDf = totalDf.append(json_normalize(body), ignore_index=True)\n"
     ]
    },
    {
     "name": "stdout",
     "output_type": "stream",
     "text": [
      "197001\n"
     ]
    },
    {
     "name": "stderr",
     "output_type": "stream",
     "text": [
      "C:\\Users\\ohy\\AppData\\Local\\Temp\\ipykernel_17400\\3983351454.py:33: FutureWarning: pandas.io.json.json_normalize is deprecated, use pandas.json_normalize instead.\n",
      "  totalDf = totalDf.append(json_normalize(body), ignore_index=True)\n",
      "C:\\Users\\ohy\\AppData\\Local\\Temp\\ipykernel_17400\\3983351454.py:33: FutureWarning: The frame.append method is deprecated and will be removed from pandas in a future version. Use pandas.concat instead.\n",
      "  totalDf = totalDf.append(json_normalize(body), ignore_index=True)\n"
     ]
    },
    {
     "name": "stdout",
     "output_type": "stream",
     "text": [
      "198001\n"
     ]
    },
    {
     "name": "stderr",
     "output_type": "stream",
     "text": [
      "C:\\Users\\ohy\\AppData\\Local\\Temp\\ipykernel_17400\\3983351454.py:33: FutureWarning: pandas.io.json.json_normalize is deprecated, use pandas.json_normalize instead.\n",
      "  totalDf = totalDf.append(json_normalize(body), ignore_index=True)\n",
      "C:\\Users\\ohy\\AppData\\Local\\Temp\\ipykernel_17400\\3983351454.py:33: FutureWarning: The frame.append method is deprecated and will be removed from pandas in a future version. Use pandas.concat instead.\n",
      "  totalDf = totalDf.append(json_normalize(body), ignore_index=True)\n"
     ]
    },
    {
     "name": "stdout",
     "output_type": "stream",
     "text": [
      "199001\n"
     ]
    },
    {
     "name": "stderr",
     "output_type": "stream",
     "text": [
      "C:\\Users\\ohy\\AppData\\Local\\Temp\\ipykernel_17400\\3983351454.py:33: FutureWarning: pandas.io.json.json_normalize is deprecated, use pandas.json_normalize instead.\n",
      "  totalDf = totalDf.append(json_normalize(body), ignore_index=True)\n",
      "C:\\Users\\ohy\\AppData\\Local\\Temp\\ipykernel_17400\\3983351454.py:33: FutureWarning: The frame.append method is deprecated and will be removed from pandas in a future version. Use pandas.concat instead.\n",
      "  totalDf = totalDf.append(json_normalize(body), ignore_index=True)\n"
     ]
    },
    {
     "name": "stdout",
     "output_type": "stream",
     "text": [
      "200001\n"
     ]
    },
    {
     "name": "stderr",
     "output_type": "stream",
     "text": [
      "C:\\Users\\ohy\\AppData\\Local\\Temp\\ipykernel_17400\\3983351454.py:33: FutureWarning: pandas.io.json.json_normalize is deprecated, use pandas.json_normalize instead.\n",
      "  totalDf = totalDf.append(json_normalize(body), ignore_index=True)\n",
      "C:\\Users\\ohy\\AppData\\Local\\Temp\\ipykernel_17400\\3983351454.py:33: FutureWarning: The frame.append method is deprecated and will be removed from pandas in a future version. Use pandas.concat instead.\n",
      "  totalDf = totalDf.append(json_normalize(body), ignore_index=True)\n"
     ]
    },
    {
     "name": "stdout",
     "output_type": "stream",
     "text": [
      "201001\n"
     ]
    },
    {
     "name": "stderr",
     "output_type": "stream",
     "text": [
      "C:\\Users\\ohy\\AppData\\Local\\Temp\\ipykernel_17400\\3983351454.py:33: FutureWarning: pandas.io.json.json_normalize is deprecated, use pandas.json_normalize instead.\n",
      "  totalDf = totalDf.append(json_normalize(body), ignore_index=True)\n",
      "C:\\Users\\ohy\\AppData\\Local\\Temp\\ipykernel_17400\\3983351454.py:33: FutureWarning: The frame.append method is deprecated and will be removed from pandas in a future version. Use pandas.concat instead.\n",
      "  totalDf = totalDf.append(json_normalize(body), ignore_index=True)\n"
     ]
    },
    {
     "name": "stdout",
     "output_type": "stream",
     "text": [
      "202001\n"
     ]
    },
    {
     "name": "stderr",
     "output_type": "stream",
     "text": [
      "C:\\Users\\ohy\\AppData\\Local\\Temp\\ipykernel_17400\\3983351454.py:33: FutureWarning: pandas.io.json.json_normalize is deprecated, use pandas.json_normalize instead.\n",
      "  totalDf = totalDf.append(json_normalize(body), ignore_index=True)\n",
      "C:\\Users\\ohy\\AppData\\Local\\Temp\\ipykernel_17400\\3983351454.py:33: FutureWarning: The frame.append method is deprecated and will be removed from pandas in a future version. Use pandas.concat instead.\n",
      "  totalDf = totalDf.append(json_normalize(body), ignore_index=True)\n"
     ]
    },
    {
     "name": "stdout",
     "output_type": "stream",
     "text": [
      "203001\n"
     ]
    },
    {
     "name": "stderr",
     "output_type": "stream",
     "text": [
      "C:\\Users\\ohy\\AppData\\Local\\Temp\\ipykernel_17400\\3983351454.py:33: FutureWarning: pandas.io.json.json_normalize is deprecated, use pandas.json_normalize instead.\n",
      "  totalDf = totalDf.append(json_normalize(body), ignore_index=True)\n",
      "C:\\Users\\ohy\\AppData\\Local\\Temp\\ipykernel_17400\\3983351454.py:33: FutureWarning: The frame.append method is deprecated and will be removed from pandas in a future version. Use pandas.concat instead.\n",
      "  totalDf = totalDf.append(json_normalize(body), ignore_index=True)\n"
     ]
    },
    {
     "name": "stdout",
     "output_type": "stream",
     "text": [
      "204001\n"
     ]
    },
    {
     "name": "stderr",
     "output_type": "stream",
     "text": [
      "C:\\Users\\ohy\\AppData\\Local\\Temp\\ipykernel_17400\\3983351454.py:33: FutureWarning: pandas.io.json.json_normalize is deprecated, use pandas.json_normalize instead.\n",
      "  totalDf = totalDf.append(json_normalize(body), ignore_index=True)\n",
      "C:\\Users\\ohy\\AppData\\Local\\Temp\\ipykernel_17400\\3983351454.py:33: FutureWarning: The frame.append method is deprecated and will be removed from pandas in a future version. Use pandas.concat instead.\n",
      "  totalDf = totalDf.append(json_normalize(body), ignore_index=True)\n"
     ]
    },
    {
     "name": "stdout",
     "output_type": "stream",
     "text": [
      "205001\n"
     ]
    },
    {
     "name": "stderr",
     "output_type": "stream",
     "text": [
      "C:\\Users\\ohy\\AppData\\Local\\Temp\\ipykernel_17400\\3983351454.py:33: FutureWarning: pandas.io.json.json_normalize is deprecated, use pandas.json_normalize instead.\n",
      "  totalDf = totalDf.append(json_normalize(body), ignore_index=True)\n",
      "C:\\Users\\ohy\\AppData\\Local\\Temp\\ipykernel_17400\\3983351454.py:33: FutureWarning: The frame.append method is deprecated and will be removed from pandas in a future version. Use pandas.concat instead.\n",
      "  totalDf = totalDf.append(json_normalize(body), ignore_index=True)\n"
     ]
    },
    {
     "name": "stdout",
     "output_type": "stream",
     "text": [
      "206001\n"
     ]
    },
    {
     "name": "stderr",
     "output_type": "stream",
     "text": [
      "C:\\Users\\ohy\\AppData\\Local\\Temp\\ipykernel_17400\\3983351454.py:33: FutureWarning: pandas.io.json.json_normalize is deprecated, use pandas.json_normalize instead.\n",
      "  totalDf = totalDf.append(json_normalize(body), ignore_index=True)\n",
      "C:\\Users\\ohy\\AppData\\Local\\Temp\\ipykernel_17400\\3983351454.py:33: FutureWarning: The frame.append method is deprecated and will be removed from pandas in a future version. Use pandas.concat instead.\n",
      "  totalDf = totalDf.append(json_normalize(body), ignore_index=True)\n"
     ]
    },
    {
     "name": "stdout",
     "output_type": "stream",
     "text": [
      "207001\n"
     ]
    },
    {
     "name": "stderr",
     "output_type": "stream",
     "text": [
      "C:\\Users\\ohy\\AppData\\Local\\Temp\\ipykernel_17400\\3983351454.py:33: FutureWarning: pandas.io.json.json_normalize is deprecated, use pandas.json_normalize instead.\n",
      "  totalDf = totalDf.append(json_normalize(body), ignore_index=True)\n",
      "C:\\Users\\ohy\\AppData\\Local\\Temp\\ipykernel_17400\\3983351454.py:33: FutureWarning: The frame.append method is deprecated and will be removed from pandas in a future version. Use pandas.concat instead.\n",
      "  totalDf = totalDf.append(json_normalize(body), ignore_index=True)\n"
     ]
    },
    {
     "name": "stdout",
     "output_type": "stream",
     "text": [
      "208001\n"
     ]
    },
    {
     "name": "stderr",
     "output_type": "stream",
     "text": [
      "C:\\Users\\ohy\\AppData\\Local\\Temp\\ipykernel_17400\\3983351454.py:33: FutureWarning: pandas.io.json.json_normalize is deprecated, use pandas.json_normalize instead.\n",
      "  totalDf = totalDf.append(json_normalize(body), ignore_index=True)\n",
      "C:\\Users\\ohy\\AppData\\Local\\Temp\\ipykernel_17400\\3983351454.py:33: FutureWarning: The frame.append method is deprecated and will be removed from pandas in a future version. Use pandas.concat instead.\n",
      "  totalDf = totalDf.append(json_normalize(body), ignore_index=True)\n"
     ]
    },
    {
     "name": "stdout",
     "output_type": "stream",
     "text": [
      "209001\n"
     ]
    },
    {
     "name": "stderr",
     "output_type": "stream",
     "text": [
      "C:\\Users\\ohy\\AppData\\Local\\Temp\\ipykernel_17400\\3983351454.py:33: FutureWarning: pandas.io.json.json_normalize is deprecated, use pandas.json_normalize instead.\n",
      "  totalDf = totalDf.append(json_normalize(body), ignore_index=True)\n",
      "C:\\Users\\ohy\\AppData\\Local\\Temp\\ipykernel_17400\\3983351454.py:33: FutureWarning: The frame.append method is deprecated and will be removed from pandas in a future version. Use pandas.concat instead.\n",
      "  totalDf = totalDf.append(json_normalize(body), ignore_index=True)\n"
     ]
    },
    {
     "name": "stdout",
     "output_type": "stream",
     "text": [
      "210001\n"
     ]
    },
    {
     "name": "stderr",
     "output_type": "stream",
     "text": [
      "C:\\Users\\ohy\\AppData\\Local\\Temp\\ipykernel_17400\\3983351454.py:33: FutureWarning: pandas.io.json.json_normalize is deprecated, use pandas.json_normalize instead.\n",
      "  totalDf = totalDf.append(json_normalize(body), ignore_index=True)\n",
      "C:\\Users\\ohy\\AppData\\Local\\Temp\\ipykernel_17400\\3983351454.py:33: FutureWarning: The frame.append method is deprecated and will be removed from pandas in a future version. Use pandas.concat instead.\n",
      "  totalDf = totalDf.append(json_normalize(body), ignore_index=True)\n"
     ]
    },
    {
     "name": "stdout",
     "output_type": "stream",
     "text": [
      "211001\n"
     ]
    },
    {
     "name": "stderr",
     "output_type": "stream",
     "text": [
      "C:\\Users\\ohy\\AppData\\Local\\Temp\\ipykernel_17400\\3983351454.py:33: FutureWarning: pandas.io.json.json_normalize is deprecated, use pandas.json_normalize instead.\n",
      "  totalDf = totalDf.append(json_normalize(body), ignore_index=True)\n",
      "C:\\Users\\ohy\\AppData\\Local\\Temp\\ipykernel_17400\\3983351454.py:33: FutureWarning: The frame.append method is deprecated and will be removed from pandas in a future version. Use pandas.concat instead.\n",
      "  totalDf = totalDf.append(json_normalize(body), ignore_index=True)\n"
     ]
    },
    {
     "name": "stdout",
     "output_type": "stream",
     "text": [
      "212001\n"
     ]
    },
    {
     "name": "stderr",
     "output_type": "stream",
     "text": [
      "C:\\Users\\ohy\\AppData\\Local\\Temp\\ipykernel_17400\\3983351454.py:33: FutureWarning: pandas.io.json.json_normalize is deprecated, use pandas.json_normalize instead.\n",
      "  totalDf = totalDf.append(json_normalize(body), ignore_index=True)\n",
      "C:\\Users\\ohy\\AppData\\Local\\Temp\\ipykernel_17400\\3983351454.py:33: FutureWarning: The frame.append method is deprecated and will be removed from pandas in a future version. Use pandas.concat instead.\n",
      "  totalDf = totalDf.append(json_normalize(body), ignore_index=True)\n"
     ]
    },
    {
     "name": "stdout",
     "output_type": "stream",
     "text": [
      "213001\n"
     ]
    },
    {
     "name": "stderr",
     "output_type": "stream",
     "text": [
      "C:\\Users\\ohy\\AppData\\Local\\Temp\\ipykernel_17400\\3983351454.py:33: FutureWarning: pandas.io.json.json_normalize is deprecated, use pandas.json_normalize instead.\n",
      "  totalDf = totalDf.append(json_normalize(body), ignore_index=True)\n",
      "C:\\Users\\ohy\\AppData\\Local\\Temp\\ipykernel_17400\\3983351454.py:33: FutureWarning: The frame.append method is deprecated and will be removed from pandas in a future version. Use pandas.concat instead.\n",
      "  totalDf = totalDf.append(json_normalize(body), ignore_index=True)\n"
     ]
    },
    {
     "name": "stdout",
     "output_type": "stream",
     "text": [
      "214001\n"
     ]
    },
    {
     "name": "stderr",
     "output_type": "stream",
     "text": [
      "C:\\Users\\ohy\\AppData\\Local\\Temp\\ipykernel_17400\\3983351454.py:33: FutureWarning: pandas.io.json.json_normalize is deprecated, use pandas.json_normalize instead.\n",
      "  totalDf = totalDf.append(json_normalize(body), ignore_index=True)\n",
      "C:\\Users\\ohy\\AppData\\Local\\Temp\\ipykernel_17400\\3983351454.py:33: FutureWarning: The frame.append method is deprecated and will be removed from pandas in a future version. Use pandas.concat instead.\n",
      "  totalDf = totalDf.append(json_normalize(body), ignore_index=True)\n"
     ]
    },
    {
     "name": "stdout",
     "output_type": "stream",
     "text": [
      "215001\n"
     ]
    },
    {
     "name": "stderr",
     "output_type": "stream",
     "text": [
      "C:\\Users\\ohy\\AppData\\Local\\Temp\\ipykernel_17400\\3983351454.py:33: FutureWarning: pandas.io.json.json_normalize is deprecated, use pandas.json_normalize instead.\n",
      "  totalDf = totalDf.append(json_normalize(body), ignore_index=True)\n",
      "C:\\Users\\ohy\\AppData\\Local\\Temp\\ipykernel_17400\\3983351454.py:33: FutureWarning: The frame.append method is deprecated and will be removed from pandas in a future version. Use pandas.concat instead.\n",
      "  totalDf = totalDf.append(json_normalize(body), ignore_index=True)\n"
     ]
    },
    {
     "name": "stdout",
     "output_type": "stream",
     "text": [
      "216001\n"
     ]
    },
    {
     "name": "stderr",
     "output_type": "stream",
     "text": [
      "C:\\Users\\ohy\\AppData\\Local\\Temp\\ipykernel_17400\\3983351454.py:33: FutureWarning: pandas.io.json.json_normalize is deprecated, use pandas.json_normalize instead.\n",
      "  totalDf = totalDf.append(json_normalize(body), ignore_index=True)\n",
      "C:\\Users\\ohy\\AppData\\Local\\Temp\\ipykernel_17400\\3983351454.py:33: FutureWarning: The frame.append method is deprecated and will be removed from pandas in a future version. Use pandas.concat instead.\n",
      "  totalDf = totalDf.append(json_normalize(body), ignore_index=True)\n"
     ]
    },
    {
     "name": "stdout",
     "output_type": "stream",
     "text": [
      "217001\n"
     ]
    },
    {
     "name": "stderr",
     "output_type": "stream",
     "text": [
      "C:\\Users\\ohy\\AppData\\Local\\Temp\\ipykernel_17400\\3983351454.py:33: FutureWarning: pandas.io.json.json_normalize is deprecated, use pandas.json_normalize instead.\n",
      "  totalDf = totalDf.append(json_normalize(body), ignore_index=True)\n",
      "C:\\Users\\ohy\\AppData\\Local\\Temp\\ipykernel_17400\\3983351454.py:33: FutureWarning: The frame.append method is deprecated and will be removed from pandas in a future version. Use pandas.concat instead.\n",
      "  totalDf = totalDf.append(json_normalize(body), ignore_index=True)\n"
     ]
    },
    {
     "name": "stdout",
     "output_type": "stream",
     "text": [
      "218001\n"
     ]
    },
    {
     "name": "stderr",
     "output_type": "stream",
     "text": [
      "C:\\Users\\ohy\\AppData\\Local\\Temp\\ipykernel_17400\\3983351454.py:33: FutureWarning: pandas.io.json.json_normalize is deprecated, use pandas.json_normalize instead.\n",
      "  totalDf = totalDf.append(json_normalize(body), ignore_index=True)\n",
      "C:\\Users\\ohy\\AppData\\Local\\Temp\\ipykernel_17400\\3983351454.py:33: FutureWarning: The frame.append method is deprecated and will be removed from pandas in a future version. Use pandas.concat instead.\n",
      "  totalDf = totalDf.append(json_normalize(body), ignore_index=True)\n"
     ]
    },
    {
     "name": "stdout",
     "output_type": "stream",
     "text": [
      "219001\n"
     ]
    },
    {
     "name": "stderr",
     "output_type": "stream",
     "text": [
      "C:\\Users\\ohy\\AppData\\Local\\Temp\\ipykernel_17400\\3983351454.py:33: FutureWarning: pandas.io.json.json_normalize is deprecated, use pandas.json_normalize instead.\n",
      "  totalDf = totalDf.append(json_normalize(body), ignore_index=True)\n",
      "C:\\Users\\ohy\\AppData\\Local\\Temp\\ipykernel_17400\\3983351454.py:33: FutureWarning: The frame.append method is deprecated and will be removed from pandas in a future version. Use pandas.concat instead.\n",
      "  totalDf = totalDf.append(json_normalize(body), ignore_index=True)\n"
     ]
    },
    {
     "name": "stdout",
     "output_type": "stream",
     "text": [
      "220001\n"
     ]
    },
    {
     "name": "stderr",
     "output_type": "stream",
     "text": [
      "C:\\Users\\ohy\\AppData\\Local\\Temp\\ipykernel_17400\\3983351454.py:33: FutureWarning: pandas.io.json.json_normalize is deprecated, use pandas.json_normalize instead.\n",
      "  totalDf = totalDf.append(json_normalize(body), ignore_index=True)\n",
      "C:\\Users\\ohy\\AppData\\Local\\Temp\\ipykernel_17400\\3983351454.py:33: FutureWarning: The frame.append method is deprecated and will be removed from pandas in a future version. Use pandas.concat instead.\n",
      "  totalDf = totalDf.append(json_normalize(body), ignore_index=True)\n"
     ]
    },
    {
     "name": "stdout",
     "output_type": "stream",
     "text": [
      "221001\n"
     ]
    },
    {
     "name": "stderr",
     "output_type": "stream",
     "text": [
      "C:\\Users\\ohy\\AppData\\Local\\Temp\\ipykernel_17400\\3983351454.py:33: FutureWarning: pandas.io.json.json_normalize is deprecated, use pandas.json_normalize instead.\n",
      "  totalDf = totalDf.append(json_normalize(body), ignore_index=True)\n",
      "C:\\Users\\ohy\\AppData\\Local\\Temp\\ipykernel_17400\\3983351454.py:33: FutureWarning: The frame.append method is deprecated and will be removed from pandas in a future version. Use pandas.concat instead.\n",
      "  totalDf = totalDf.append(json_normalize(body), ignore_index=True)\n"
     ]
    },
    {
     "name": "stdout",
     "output_type": "stream",
     "text": [
      "222001\n"
     ]
    },
    {
     "name": "stderr",
     "output_type": "stream",
     "text": [
      "C:\\Users\\ohy\\AppData\\Local\\Temp\\ipykernel_17400\\3983351454.py:33: FutureWarning: pandas.io.json.json_normalize is deprecated, use pandas.json_normalize instead.\n",
      "  totalDf = totalDf.append(json_normalize(body), ignore_index=True)\n",
      "C:\\Users\\ohy\\AppData\\Local\\Temp\\ipykernel_17400\\3983351454.py:33: FutureWarning: The frame.append method is deprecated and will be removed from pandas in a future version. Use pandas.concat instead.\n",
      "  totalDf = totalDf.append(json_normalize(body), ignore_index=True)\n"
     ]
    },
    {
     "name": "stdout",
     "output_type": "stream",
     "text": [
      "223001\n"
     ]
    },
    {
     "name": "stderr",
     "output_type": "stream",
     "text": [
      "C:\\Users\\ohy\\AppData\\Local\\Temp\\ipykernel_17400\\3983351454.py:33: FutureWarning: pandas.io.json.json_normalize is deprecated, use pandas.json_normalize instead.\n",
      "  totalDf = totalDf.append(json_normalize(body), ignore_index=True)\n",
      "C:\\Users\\ohy\\AppData\\Local\\Temp\\ipykernel_17400\\3983351454.py:33: FutureWarning: The frame.append method is deprecated and will be removed from pandas in a future version. Use pandas.concat instead.\n",
      "  totalDf = totalDf.append(json_normalize(body), ignore_index=True)\n"
     ]
    },
    {
     "name": "stdout",
     "output_type": "stream",
     "text": [
      "224001\n"
     ]
    },
    {
     "name": "stderr",
     "output_type": "stream",
     "text": [
      "C:\\Users\\ohy\\AppData\\Local\\Temp\\ipykernel_17400\\3983351454.py:33: FutureWarning: pandas.io.json.json_normalize is deprecated, use pandas.json_normalize instead.\n",
      "  totalDf = totalDf.append(json_normalize(body), ignore_index=True)\n",
      "C:\\Users\\ohy\\AppData\\Local\\Temp\\ipykernel_17400\\3983351454.py:33: FutureWarning: The frame.append method is deprecated and will be removed from pandas in a future version. Use pandas.concat instead.\n",
      "  totalDf = totalDf.append(json_normalize(body), ignore_index=True)\n"
     ]
    },
    {
     "name": "stdout",
     "output_type": "stream",
     "text": [
      "225001\n"
     ]
    },
    {
     "name": "stderr",
     "output_type": "stream",
     "text": [
      "C:\\Users\\ohy\\AppData\\Local\\Temp\\ipykernel_17400\\3983351454.py:33: FutureWarning: pandas.io.json.json_normalize is deprecated, use pandas.json_normalize instead.\n",
      "  totalDf = totalDf.append(json_normalize(body), ignore_index=True)\n",
      "C:\\Users\\ohy\\AppData\\Local\\Temp\\ipykernel_17400\\3983351454.py:33: FutureWarning: The frame.append method is deprecated and will be removed from pandas in a future version. Use pandas.concat instead.\n",
      "  totalDf = totalDf.append(json_normalize(body), ignore_index=True)\n"
     ]
    },
    {
     "name": "stdout",
     "output_type": "stream",
     "text": [
      "226001\n"
     ]
    },
    {
     "name": "stderr",
     "output_type": "stream",
     "text": [
      "C:\\Users\\ohy\\AppData\\Local\\Temp\\ipykernel_17400\\3983351454.py:33: FutureWarning: pandas.io.json.json_normalize is deprecated, use pandas.json_normalize instead.\n",
      "  totalDf = totalDf.append(json_normalize(body), ignore_index=True)\n",
      "C:\\Users\\ohy\\AppData\\Local\\Temp\\ipykernel_17400\\3983351454.py:33: FutureWarning: The frame.append method is deprecated and will be removed from pandas in a future version. Use pandas.concat instead.\n",
      "  totalDf = totalDf.append(json_normalize(body), ignore_index=True)\n"
     ]
    },
    {
     "name": "stdout",
     "output_type": "stream",
     "text": [
      "227001\n"
     ]
    },
    {
     "name": "stderr",
     "output_type": "stream",
     "text": [
      "C:\\Users\\ohy\\AppData\\Local\\Temp\\ipykernel_17400\\3983351454.py:33: FutureWarning: pandas.io.json.json_normalize is deprecated, use pandas.json_normalize instead.\n",
      "  totalDf = totalDf.append(json_normalize(body), ignore_index=True)\n",
      "C:\\Users\\ohy\\AppData\\Local\\Temp\\ipykernel_17400\\3983351454.py:33: FutureWarning: The frame.append method is deprecated and will be removed from pandas in a future version. Use pandas.concat instead.\n",
      "  totalDf = totalDf.append(json_normalize(body), ignore_index=True)\n"
     ]
    },
    {
     "name": "stdout",
     "output_type": "stream",
     "text": [
      "228001\n"
     ]
    },
    {
     "name": "stderr",
     "output_type": "stream",
     "text": [
      "C:\\Users\\ohy\\AppData\\Local\\Temp\\ipykernel_17400\\3983351454.py:33: FutureWarning: pandas.io.json.json_normalize is deprecated, use pandas.json_normalize instead.\n",
      "  totalDf = totalDf.append(json_normalize(body), ignore_index=True)\n",
      "C:\\Users\\ohy\\AppData\\Local\\Temp\\ipykernel_17400\\3983351454.py:33: FutureWarning: The frame.append method is deprecated and will be removed from pandas in a future version. Use pandas.concat instead.\n",
      "  totalDf = totalDf.append(json_normalize(body), ignore_index=True)\n"
     ]
    },
    {
     "name": "stdout",
     "output_type": "stream",
     "text": [
      "229001\n"
     ]
    },
    {
     "name": "stderr",
     "output_type": "stream",
     "text": [
      "C:\\Users\\ohy\\AppData\\Local\\Temp\\ipykernel_17400\\3983351454.py:33: FutureWarning: pandas.io.json.json_normalize is deprecated, use pandas.json_normalize instead.\n",
      "  totalDf = totalDf.append(json_normalize(body), ignore_index=True)\n",
      "C:\\Users\\ohy\\AppData\\Local\\Temp\\ipykernel_17400\\3983351454.py:33: FutureWarning: The frame.append method is deprecated and will be removed from pandas in a future version. Use pandas.concat instead.\n",
      "  totalDf = totalDf.append(json_normalize(body), ignore_index=True)\n"
     ]
    },
    {
     "name": "stdout",
     "output_type": "stream",
     "text": [
      "230001\n"
     ]
    },
    {
     "name": "stderr",
     "output_type": "stream",
     "text": [
      "C:\\Users\\ohy\\AppData\\Local\\Temp\\ipykernel_17400\\3983351454.py:33: FutureWarning: pandas.io.json.json_normalize is deprecated, use pandas.json_normalize instead.\n",
      "  totalDf = totalDf.append(json_normalize(body), ignore_index=True)\n",
      "C:\\Users\\ohy\\AppData\\Local\\Temp\\ipykernel_17400\\3983351454.py:33: FutureWarning: The frame.append method is deprecated and will be removed from pandas in a future version. Use pandas.concat instead.\n",
      "  totalDf = totalDf.append(json_normalize(body), ignore_index=True)\n"
     ]
    },
    {
     "name": "stdout",
     "output_type": "stream",
     "text": [
      "231001\n"
     ]
    },
    {
     "name": "stderr",
     "output_type": "stream",
     "text": [
      "C:\\Users\\ohy\\AppData\\Local\\Temp\\ipykernel_17400\\3983351454.py:33: FutureWarning: pandas.io.json.json_normalize is deprecated, use pandas.json_normalize instead.\n",
      "  totalDf = totalDf.append(json_normalize(body), ignore_index=True)\n",
      "C:\\Users\\ohy\\AppData\\Local\\Temp\\ipykernel_17400\\3983351454.py:33: FutureWarning: The frame.append method is deprecated and will be removed from pandas in a future version. Use pandas.concat instead.\n",
      "  totalDf = totalDf.append(json_normalize(body), ignore_index=True)\n"
     ]
    },
    {
     "name": "stdout",
     "output_type": "stream",
     "text": [
      "232001\n"
     ]
    },
    {
     "name": "stderr",
     "output_type": "stream",
     "text": [
      "C:\\Users\\ohy\\AppData\\Local\\Temp\\ipykernel_17400\\3983351454.py:33: FutureWarning: pandas.io.json.json_normalize is deprecated, use pandas.json_normalize instead.\n",
      "  totalDf = totalDf.append(json_normalize(body), ignore_index=True)\n",
      "C:\\Users\\ohy\\AppData\\Local\\Temp\\ipykernel_17400\\3983351454.py:33: FutureWarning: The frame.append method is deprecated and will be removed from pandas in a future version. Use pandas.concat instead.\n",
      "  totalDf = totalDf.append(json_normalize(body), ignore_index=True)\n"
     ]
    },
    {
     "name": "stdout",
     "output_type": "stream",
     "text": [
      "233001\n"
     ]
    },
    {
     "name": "stderr",
     "output_type": "stream",
     "text": [
      "C:\\Users\\ohy\\AppData\\Local\\Temp\\ipykernel_17400\\3983351454.py:33: FutureWarning: pandas.io.json.json_normalize is deprecated, use pandas.json_normalize instead.\n",
      "  totalDf = totalDf.append(json_normalize(body), ignore_index=True)\n",
      "C:\\Users\\ohy\\AppData\\Local\\Temp\\ipykernel_17400\\3983351454.py:33: FutureWarning: The frame.append method is deprecated and will be removed from pandas in a future version. Use pandas.concat instead.\n",
      "  totalDf = totalDf.append(json_normalize(body), ignore_index=True)\n"
     ]
    },
    {
     "name": "stdout",
     "output_type": "stream",
     "text": [
      "234001\n"
     ]
    },
    {
     "name": "stderr",
     "output_type": "stream",
     "text": [
      "C:\\Users\\ohy\\AppData\\Local\\Temp\\ipykernel_17400\\3983351454.py:33: FutureWarning: pandas.io.json.json_normalize is deprecated, use pandas.json_normalize instead.\n",
      "  totalDf = totalDf.append(json_normalize(body), ignore_index=True)\n",
      "C:\\Users\\ohy\\AppData\\Local\\Temp\\ipykernel_17400\\3983351454.py:33: FutureWarning: The frame.append method is deprecated and will be removed from pandas in a future version. Use pandas.concat instead.\n",
      "  totalDf = totalDf.append(json_normalize(body), ignore_index=True)\n"
     ]
    },
    {
     "name": "stdout",
     "output_type": "stream",
     "text": [
      "235001\n"
     ]
    },
    {
     "name": "stderr",
     "output_type": "stream",
     "text": [
      "C:\\Users\\ohy\\AppData\\Local\\Temp\\ipykernel_17400\\3983351454.py:33: FutureWarning: pandas.io.json.json_normalize is deprecated, use pandas.json_normalize instead.\n",
      "  totalDf = totalDf.append(json_normalize(body), ignore_index=True)\n",
      "C:\\Users\\ohy\\AppData\\Local\\Temp\\ipykernel_17400\\3983351454.py:33: FutureWarning: The frame.append method is deprecated and will be removed from pandas in a future version. Use pandas.concat instead.\n",
      "  totalDf = totalDf.append(json_normalize(body), ignore_index=True)\n"
     ]
    },
    {
     "name": "stdout",
     "output_type": "stream",
     "text": [
      "236001\n"
     ]
    },
    {
     "name": "stderr",
     "output_type": "stream",
     "text": [
      "C:\\Users\\ohy\\AppData\\Local\\Temp\\ipykernel_17400\\3983351454.py:33: FutureWarning: pandas.io.json.json_normalize is deprecated, use pandas.json_normalize instead.\n",
      "  totalDf = totalDf.append(json_normalize(body), ignore_index=True)\n",
      "C:\\Users\\ohy\\AppData\\Local\\Temp\\ipykernel_17400\\3983351454.py:33: FutureWarning: The frame.append method is deprecated and will be removed from pandas in a future version. Use pandas.concat instead.\n",
      "  totalDf = totalDf.append(json_normalize(body), ignore_index=True)\n"
     ]
    },
    {
     "name": "stdout",
     "output_type": "stream",
     "text": [
      "237001\n"
     ]
    },
    {
     "name": "stderr",
     "output_type": "stream",
     "text": [
      "C:\\Users\\ohy\\AppData\\Local\\Temp\\ipykernel_17400\\3983351454.py:33: FutureWarning: pandas.io.json.json_normalize is deprecated, use pandas.json_normalize instead.\n",
      "  totalDf = totalDf.append(json_normalize(body), ignore_index=True)\n",
      "C:\\Users\\ohy\\AppData\\Local\\Temp\\ipykernel_17400\\3983351454.py:33: FutureWarning: The frame.append method is deprecated and will be removed from pandas in a future version. Use pandas.concat instead.\n",
      "  totalDf = totalDf.append(json_normalize(body), ignore_index=True)\n"
     ]
    },
    {
     "name": "stdout",
     "output_type": "stream",
     "text": [
      "238001\n"
     ]
    },
    {
     "name": "stderr",
     "output_type": "stream",
     "text": [
      "C:\\Users\\ohy\\AppData\\Local\\Temp\\ipykernel_17400\\3983351454.py:33: FutureWarning: pandas.io.json.json_normalize is deprecated, use pandas.json_normalize instead.\n",
      "  totalDf = totalDf.append(json_normalize(body), ignore_index=True)\n",
      "C:\\Users\\ohy\\AppData\\Local\\Temp\\ipykernel_17400\\3983351454.py:33: FutureWarning: The frame.append method is deprecated and will be removed from pandas in a future version. Use pandas.concat instead.\n",
      "  totalDf = totalDf.append(json_normalize(body), ignore_index=True)\n"
     ]
    },
    {
     "name": "stdout",
     "output_type": "stream",
     "text": [
      "239001\n"
     ]
    },
    {
     "name": "stderr",
     "output_type": "stream",
     "text": [
      "C:\\Users\\ohy\\AppData\\Local\\Temp\\ipykernel_17400\\3983351454.py:33: FutureWarning: pandas.io.json.json_normalize is deprecated, use pandas.json_normalize instead.\n",
      "  totalDf = totalDf.append(json_normalize(body), ignore_index=True)\n",
      "C:\\Users\\ohy\\AppData\\Local\\Temp\\ipykernel_17400\\3983351454.py:33: FutureWarning: The frame.append method is deprecated and will be removed from pandas in a future version. Use pandas.concat instead.\n",
      "  totalDf = totalDf.append(json_normalize(body), ignore_index=True)\n"
     ]
    },
    {
     "name": "stdout",
     "output_type": "stream",
     "text": [
      "240001\n"
     ]
    },
    {
     "name": "stderr",
     "output_type": "stream",
     "text": [
      "C:\\Users\\ohy\\AppData\\Local\\Temp\\ipykernel_17400\\3983351454.py:33: FutureWarning: pandas.io.json.json_normalize is deprecated, use pandas.json_normalize instead.\n",
      "  totalDf = totalDf.append(json_normalize(body), ignore_index=True)\n",
      "C:\\Users\\ohy\\AppData\\Local\\Temp\\ipykernel_17400\\3983351454.py:33: FutureWarning: The frame.append method is deprecated and will be removed from pandas in a future version. Use pandas.concat instead.\n",
      "  totalDf = totalDf.append(json_normalize(body), ignore_index=True)\n"
     ]
    },
    {
     "name": "stdout",
     "output_type": "stream",
     "text": [
      "241001\n"
     ]
    },
    {
     "name": "stderr",
     "output_type": "stream",
     "text": [
      "C:\\Users\\ohy\\AppData\\Local\\Temp\\ipykernel_17400\\3983351454.py:33: FutureWarning: pandas.io.json.json_normalize is deprecated, use pandas.json_normalize instead.\n",
      "  totalDf = totalDf.append(json_normalize(body), ignore_index=True)\n",
      "C:\\Users\\ohy\\AppData\\Local\\Temp\\ipykernel_17400\\3983351454.py:33: FutureWarning: The frame.append method is deprecated and will be removed from pandas in a future version. Use pandas.concat instead.\n",
      "  totalDf = totalDf.append(json_normalize(body), ignore_index=True)\n"
     ]
    },
    {
     "name": "stdout",
     "output_type": "stream",
     "text": [
      "242001\n"
     ]
    },
    {
     "name": "stderr",
     "output_type": "stream",
     "text": [
      "C:\\Users\\ohy\\AppData\\Local\\Temp\\ipykernel_17400\\3983351454.py:33: FutureWarning: pandas.io.json.json_normalize is deprecated, use pandas.json_normalize instead.\n",
      "  totalDf = totalDf.append(json_normalize(body), ignore_index=True)\n",
      "C:\\Users\\ohy\\AppData\\Local\\Temp\\ipykernel_17400\\3983351454.py:33: FutureWarning: The frame.append method is deprecated and will be removed from pandas in a future version. Use pandas.concat instead.\n",
      "  totalDf = totalDf.append(json_normalize(body), ignore_index=True)\n"
     ]
    },
    {
     "name": "stdout",
     "output_type": "stream",
     "text": [
      "243001\n"
     ]
    },
    {
     "name": "stderr",
     "output_type": "stream",
     "text": [
      "C:\\Users\\ohy\\AppData\\Local\\Temp\\ipykernel_17400\\3983351454.py:33: FutureWarning: pandas.io.json.json_normalize is deprecated, use pandas.json_normalize instead.\n",
      "  totalDf = totalDf.append(json_normalize(body), ignore_index=True)\n",
      "C:\\Users\\ohy\\AppData\\Local\\Temp\\ipykernel_17400\\3983351454.py:33: FutureWarning: The frame.append method is deprecated and will be removed from pandas in a future version. Use pandas.concat instead.\n",
      "  totalDf = totalDf.append(json_normalize(body), ignore_index=True)\n"
     ]
    },
    {
     "name": "stdout",
     "output_type": "stream",
     "text": [
      "244001\n"
     ]
    },
    {
     "name": "stderr",
     "output_type": "stream",
     "text": [
      "C:\\Users\\ohy\\AppData\\Local\\Temp\\ipykernel_17400\\3983351454.py:33: FutureWarning: pandas.io.json.json_normalize is deprecated, use pandas.json_normalize instead.\n",
      "  totalDf = totalDf.append(json_normalize(body), ignore_index=True)\n",
      "C:\\Users\\ohy\\AppData\\Local\\Temp\\ipykernel_17400\\3983351454.py:33: FutureWarning: The frame.append method is deprecated and will be removed from pandas in a future version. Use pandas.concat instead.\n",
      "  totalDf = totalDf.append(json_normalize(body), ignore_index=True)\n"
     ]
    },
    {
     "name": "stdout",
     "output_type": "stream",
     "text": [
      "245001\n"
     ]
    },
    {
     "name": "stderr",
     "output_type": "stream",
     "text": [
      "C:\\Users\\ohy\\AppData\\Local\\Temp\\ipykernel_17400\\3983351454.py:33: FutureWarning: pandas.io.json.json_normalize is deprecated, use pandas.json_normalize instead.\n",
      "  totalDf = totalDf.append(json_normalize(body), ignore_index=True)\n",
      "C:\\Users\\ohy\\AppData\\Local\\Temp\\ipykernel_17400\\3983351454.py:33: FutureWarning: The frame.append method is deprecated and will be removed from pandas in a future version. Use pandas.concat instead.\n",
      "  totalDf = totalDf.append(json_normalize(body), ignore_index=True)\n"
     ]
    },
    {
     "name": "stdout",
     "output_type": "stream",
     "text": [
      "246001\n"
     ]
    },
    {
     "name": "stderr",
     "output_type": "stream",
     "text": [
      "C:\\Users\\ohy\\AppData\\Local\\Temp\\ipykernel_17400\\3983351454.py:33: FutureWarning: pandas.io.json.json_normalize is deprecated, use pandas.json_normalize instead.\n",
      "  totalDf = totalDf.append(json_normalize(body), ignore_index=True)\n",
      "C:\\Users\\ohy\\AppData\\Local\\Temp\\ipykernel_17400\\3983351454.py:33: FutureWarning: The frame.append method is deprecated and will be removed from pandas in a future version. Use pandas.concat instead.\n",
      "  totalDf = totalDf.append(json_normalize(body), ignore_index=True)\n"
     ]
    },
    {
     "name": "stdout",
     "output_type": "stream",
     "text": [
      "247001\n"
     ]
    },
    {
     "name": "stderr",
     "output_type": "stream",
     "text": [
      "C:\\Users\\ohy\\AppData\\Local\\Temp\\ipykernel_17400\\3983351454.py:33: FutureWarning: pandas.io.json.json_normalize is deprecated, use pandas.json_normalize instead.\n",
      "  totalDf = totalDf.append(json_normalize(body), ignore_index=True)\n",
      "C:\\Users\\ohy\\AppData\\Local\\Temp\\ipykernel_17400\\3983351454.py:33: FutureWarning: The frame.append method is deprecated and will be removed from pandas in a future version. Use pandas.concat instead.\n",
      "  totalDf = totalDf.append(json_normalize(body), ignore_index=True)\n"
     ]
    },
    {
     "name": "stdout",
     "output_type": "stream",
     "text": [
      "248001\n"
     ]
    },
    {
     "name": "stderr",
     "output_type": "stream",
     "text": [
      "C:\\Users\\ohy\\AppData\\Local\\Temp\\ipykernel_17400\\3983351454.py:33: FutureWarning: pandas.io.json.json_normalize is deprecated, use pandas.json_normalize instead.\n",
      "  totalDf = totalDf.append(json_normalize(body), ignore_index=True)\n",
      "C:\\Users\\ohy\\AppData\\Local\\Temp\\ipykernel_17400\\3983351454.py:33: FutureWarning: The frame.append method is deprecated and will be removed from pandas in a future version. Use pandas.concat instead.\n",
      "  totalDf = totalDf.append(json_normalize(body), ignore_index=True)\n"
     ]
    },
    {
     "name": "stdout",
     "output_type": "stream",
     "text": [
      "249001\n"
     ]
    },
    {
     "name": "stderr",
     "output_type": "stream",
     "text": [
      "C:\\Users\\ohy\\AppData\\Local\\Temp\\ipykernel_17400\\3983351454.py:33: FutureWarning: pandas.io.json.json_normalize is deprecated, use pandas.json_normalize instead.\n",
      "  totalDf = totalDf.append(json_normalize(body), ignore_index=True)\n",
      "C:\\Users\\ohy\\AppData\\Local\\Temp\\ipykernel_17400\\3983351454.py:33: FutureWarning: The frame.append method is deprecated and will be removed from pandas in a future version. Use pandas.concat instead.\n",
      "  totalDf = totalDf.append(json_normalize(body), ignore_index=True)\n"
     ]
    },
    {
     "name": "stdout",
     "output_type": "stream",
     "text": [
      "250001\n"
     ]
    },
    {
     "name": "stderr",
     "output_type": "stream",
     "text": [
      "C:\\Users\\ohy\\AppData\\Local\\Temp\\ipykernel_17400\\3983351454.py:33: FutureWarning: pandas.io.json.json_normalize is deprecated, use pandas.json_normalize instead.\n",
      "  totalDf = totalDf.append(json_normalize(body), ignore_index=True)\n",
      "C:\\Users\\ohy\\AppData\\Local\\Temp\\ipykernel_17400\\3983351454.py:33: FutureWarning: The frame.append method is deprecated and will be removed from pandas in a future version. Use pandas.concat instead.\n",
      "  totalDf = totalDf.append(json_normalize(body), ignore_index=True)\n"
     ]
    },
    {
     "name": "stdout",
     "output_type": "stream",
     "text": [
      "251001\n"
     ]
    },
    {
     "name": "stderr",
     "output_type": "stream",
     "text": [
      "C:\\Users\\ohy\\AppData\\Local\\Temp\\ipykernel_17400\\3983351454.py:33: FutureWarning: pandas.io.json.json_normalize is deprecated, use pandas.json_normalize instead.\n",
      "  totalDf = totalDf.append(json_normalize(body), ignore_index=True)\n",
      "C:\\Users\\ohy\\AppData\\Local\\Temp\\ipykernel_17400\\3983351454.py:33: FutureWarning: The frame.append method is deprecated and will be removed from pandas in a future version. Use pandas.concat instead.\n",
      "  totalDf = totalDf.append(json_normalize(body), ignore_index=True)\n"
     ]
    },
    {
     "name": "stdout",
     "output_type": "stream",
     "text": [
      "252001\n"
     ]
    },
    {
     "name": "stderr",
     "output_type": "stream",
     "text": [
      "C:\\Users\\ohy\\AppData\\Local\\Temp\\ipykernel_17400\\3983351454.py:33: FutureWarning: pandas.io.json.json_normalize is deprecated, use pandas.json_normalize instead.\n",
      "  totalDf = totalDf.append(json_normalize(body), ignore_index=True)\n",
      "C:\\Users\\ohy\\AppData\\Local\\Temp\\ipykernel_17400\\3983351454.py:33: FutureWarning: The frame.append method is deprecated and will be removed from pandas in a future version. Use pandas.concat instead.\n",
      "  totalDf = totalDf.append(json_normalize(body), ignore_index=True)\n"
     ]
    },
    {
     "name": "stdout",
     "output_type": "stream",
     "text": [
      "253001\n"
     ]
    },
    {
     "name": "stderr",
     "output_type": "stream",
     "text": [
      "C:\\Users\\ohy\\AppData\\Local\\Temp\\ipykernel_17400\\3983351454.py:33: FutureWarning: pandas.io.json.json_normalize is deprecated, use pandas.json_normalize instead.\n",
      "  totalDf = totalDf.append(json_normalize(body), ignore_index=True)\n",
      "C:\\Users\\ohy\\AppData\\Local\\Temp\\ipykernel_17400\\3983351454.py:33: FutureWarning: The frame.append method is deprecated and will be removed from pandas in a future version. Use pandas.concat instead.\n",
      "  totalDf = totalDf.append(json_normalize(body), ignore_index=True)\n"
     ]
    },
    {
     "name": "stdout",
     "output_type": "stream",
     "text": [
      "254001\n"
     ]
    },
    {
     "name": "stderr",
     "output_type": "stream",
     "text": [
      "C:\\Users\\ohy\\AppData\\Local\\Temp\\ipykernel_17400\\3983351454.py:33: FutureWarning: pandas.io.json.json_normalize is deprecated, use pandas.json_normalize instead.\n",
      "  totalDf = totalDf.append(json_normalize(body), ignore_index=True)\n",
      "C:\\Users\\ohy\\AppData\\Local\\Temp\\ipykernel_17400\\3983351454.py:33: FutureWarning: The frame.append method is deprecated and will be removed from pandas in a future version. Use pandas.concat instead.\n",
      "  totalDf = totalDf.append(json_normalize(body), ignore_index=True)\n"
     ]
    },
    {
     "name": "stdout",
     "output_type": "stream",
     "text": [
      "255001\n"
     ]
    },
    {
     "name": "stderr",
     "output_type": "stream",
     "text": [
      "C:\\Users\\ohy\\AppData\\Local\\Temp\\ipykernel_17400\\3983351454.py:33: FutureWarning: pandas.io.json.json_normalize is deprecated, use pandas.json_normalize instead.\n",
      "  totalDf = totalDf.append(json_normalize(body), ignore_index=True)\n",
      "C:\\Users\\ohy\\AppData\\Local\\Temp\\ipykernel_17400\\3983351454.py:33: FutureWarning: The frame.append method is deprecated and will be removed from pandas in a future version. Use pandas.concat instead.\n",
      "  totalDf = totalDf.append(json_normalize(body), ignore_index=True)\n"
     ]
    },
    {
     "name": "stdout",
     "output_type": "stream",
     "text": [
      "256001\n"
     ]
    },
    {
     "name": "stderr",
     "output_type": "stream",
     "text": [
      "C:\\Users\\ohy\\AppData\\Local\\Temp\\ipykernel_17400\\3983351454.py:33: FutureWarning: pandas.io.json.json_normalize is deprecated, use pandas.json_normalize instead.\n",
      "  totalDf = totalDf.append(json_normalize(body), ignore_index=True)\n",
      "C:\\Users\\ohy\\AppData\\Local\\Temp\\ipykernel_17400\\3983351454.py:33: FutureWarning: The frame.append method is deprecated and will be removed from pandas in a future version. Use pandas.concat instead.\n",
      "  totalDf = totalDf.append(json_normalize(body), ignore_index=True)\n"
     ]
    },
    {
     "name": "stdout",
     "output_type": "stream",
     "text": [
      "257001\n"
     ]
    },
    {
     "name": "stderr",
     "output_type": "stream",
     "text": [
      "C:\\Users\\ohy\\AppData\\Local\\Temp\\ipykernel_17400\\3983351454.py:33: FutureWarning: pandas.io.json.json_normalize is deprecated, use pandas.json_normalize instead.\n",
      "  totalDf = totalDf.append(json_normalize(body), ignore_index=True)\n",
      "C:\\Users\\ohy\\AppData\\Local\\Temp\\ipykernel_17400\\3983351454.py:33: FutureWarning: The frame.append method is deprecated and will be removed from pandas in a future version. Use pandas.concat instead.\n",
      "  totalDf = totalDf.append(json_normalize(body), ignore_index=True)\n"
     ]
    },
    {
     "name": "stdout",
     "output_type": "stream",
     "text": [
      "258001\n"
     ]
    },
    {
     "name": "stderr",
     "output_type": "stream",
     "text": [
      "C:\\Users\\ohy\\AppData\\Local\\Temp\\ipykernel_17400\\3983351454.py:33: FutureWarning: pandas.io.json.json_normalize is deprecated, use pandas.json_normalize instead.\n",
      "  totalDf = totalDf.append(json_normalize(body), ignore_index=True)\n",
      "C:\\Users\\ohy\\AppData\\Local\\Temp\\ipykernel_17400\\3983351454.py:33: FutureWarning: The frame.append method is deprecated and will be removed from pandas in a future version. Use pandas.concat instead.\n",
      "  totalDf = totalDf.append(json_normalize(body), ignore_index=True)\n"
     ]
    },
    {
     "name": "stdout",
     "output_type": "stream",
     "text": [
      "259001\n"
     ]
    },
    {
     "name": "stderr",
     "output_type": "stream",
     "text": [
      "C:\\Users\\ohy\\AppData\\Local\\Temp\\ipykernel_17400\\3983351454.py:33: FutureWarning: pandas.io.json.json_normalize is deprecated, use pandas.json_normalize instead.\n",
      "  totalDf = totalDf.append(json_normalize(body), ignore_index=True)\n",
      "C:\\Users\\ohy\\AppData\\Local\\Temp\\ipykernel_17400\\3983351454.py:33: FutureWarning: The frame.append method is deprecated and will be removed from pandas in a future version. Use pandas.concat instead.\n",
      "  totalDf = totalDf.append(json_normalize(body), ignore_index=True)\n"
     ]
    },
    {
     "name": "stdout",
     "output_type": "stream",
     "text": [
      "260001\n"
     ]
    },
    {
     "name": "stderr",
     "output_type": "stream",
     "text": [
      "C:\\Users\\ohy\\AppData\\Local\\Temp\\ipykernel_17400\\3983351454.py:33: FutureWarning: pandas.io.json.json_normalize is deprecated, use pandas.json_normalize instead.\n",
      "  totalDf = totalDf.append(json_normalize(body), ignore_index=True)\n",
      "C:\\Users\\ohy\\AppData\\Local\\Temp\\ipykernel_17400\\3983351454.py:33: FutureWarning: The frame.append method is deprecated and will be removed from pandas in a future version. Use pandas.concat instead.\n",
      "  totalDf = totalDf.append(json_normalize(body), ignore_index=True)\n"
     ]
    },
    {
     "name": "stdout",
     "output_type": "stream",
     "text": [
      "261001\n"
     ]
    },
    {
     "name": "stderr",
     "output_type": "stream",
     "text": [
      "C:\\Users\\ohy\\AppData\\Local\\Temp\\ipykernel_17400\\3983351454.py:33: FutureWarning: pandas.io.json.json_normalize is deprecated, use pandas.json_normalize instead.\n",
      "  totalDf = totalDf.append(json_normalize(body), ignore_index=True)\n",
      "C:\\Users\\ohy\\AppData\\Local\\Temp\\ipykernel_17400\\3983351454.py:33: FutureWarning: The frame.append method is deprecated and will be removed from pandas in a future version. Use pandas.concat instead.\n",
      "  totalDf = totalDf.append(json_normalize(body), ignore_index=True)\n"
     ]
    },
    {
     "name": "stdout",
     "output_type": "stream",
     "text": [
      "262001\n"
     ]
    },
    {
     "name": "stderr",
     "output_type": "stream",
     "text": [
      "C:\\Users\\ohy\\AppData\\Local\\Temp\\ipykernel_17400\\3983351454.py:33: FutureWarning: pandas.io.json.json_normalize is deprecated, use pandas.json_normalize instead.\n",
      "  totalDf = totalDf.append(json_normalize(body), ignore_index=True)\n",
      "C:\\Users\\ohy\\AppData\\Local\\Temp\\ipykernel_17400\\3983351454.py:33: FutureWarning: The frame.append method is deprecated and will be removed from pandas in a future version. Use pandas.concat instead.\n",
      "  totalDf = totalDf.append(json_normalize(body), ignore_index=True)\n"
     ]
    },
    {
     "name": "stdout",
     "output_type": "stream",
     "text": [
      "263001\n"
     ]
    },
    {
     "name": "stderr",
     "output_type": "stream",
     "text": [
      "C:\\Users\\ohy\\AppData\\Local\\Temp\\ipykernel_17400\\3983351454.py:33: FutureWarning: pandas.io.json.json_normalize is deprecated, use pandas.json_normalize instead.\n",
      "  totalDf = totalDf.append(json_normalize(body), ignore_index=True)\n",
      "C:\\Users\\ohy\\AppData\\Local\\Temp\\ipykernel_17400\\3983351454.py:33: FutureWarning: The frame.append method is deprecated and will be removed from pandas in a future version. Use pandas.concat instead.\n",
      "  totalDf = totalDf.append(json_normalize(body), ignore_index=True)\n"
     ]
    },
    {
     "name": "stdout",
     "output_type": "stream",
     "text": [
      "264001\n"
     ]
    },
    {
     "name": "stderr",
     "output_type": "stream",
     "text": [
      "C:\\Users\\ohy\\AppData\\Local\\Temp\\ipykernel_17400\\3983351454.py:33: FutureWarning: pandas.io.json.json_normalize is deprecated, use pandas.json_normalize instead.\n",
      "  totalDf = totalDf.append(json_normalize(body), ignore_index=True)\n",
      "C:\\Users\\ohy\\AppData\\Local\\Temp\\ipykernel_17400\\3983351454.py:33: FutureWarning: The frame.append method is deprecated and will be removed from pandas in a future version. Use pandas.concat instead.\n",
      "  totalDf = totalDf.append(json_normalize(body), ignore_index=True)\n"
     ]
    },
    {
     "name": "stdout",
     "output_type": "stream",
     "text": [
      "265001\n"
     ]
    },
    {
     "name": "stderr",
     "output_type": "stream",
     "text": [
      "C:\\Users\\ohy\\AppData\\Local\\Temp\\ipykernel_17400\\3983351454.py:33: FutureWarning: pandas.io.json.json_normalize is deprecated, use pandas.json_normalize instead.\n",
      "  totalDf = totalDf.append(json_normalize(body), ignore_index=True)\n",
      "C:\\Users\\ohy\\AppData\\Local\\Temp\\ipykernel_17400\\3983351454.py:33: FutureWarning: The frame.append method is deprecated and will be removed from pandas in a future version. Use pandas.concat instead.\n",
      "  totalDf = totalDf.append(json_normalize(body), ignore_index=True)\n"
     ]
    },
    {
     "name": "stdout",
     "output_type": "stream",
     "text": [
      "266001\n"
     ]
    },
    {
     "name": "stderr",
     "output_type": "stream",
     "text": [
      "C:\\Users\\ohy\\AppData\\Local\\Temp\\ipykernel_17400\\3983351454.py:33: FutureWarning: pandas.io.json.json_normalize is deprecated, use pandas.json_normalize instead.\n",
      "  totalDf = totalDf.append(json_normalize(body), ignore_index=True)\n",
      "C:\\Users\\ohy\\AppData\\Local\\Temp\\ipykernel_17400\\3983351454.py:33: FutureWarning: The frame.append method is deprecated and will be removed from pandas in a future version. Use pandas.concat instead.\n",
      "  totalDf = totalDf.append(json_normalize(body), ignore_index=True)\n"
     ]
    },
    {
     "name": "stdout",
     "output_type": "stream",
     "text": [
      "267001\n"
     ]
    },
    {
     "name": "stderr",
     "output_type": "stream",
     "text": [
      "C:\\Users\\ohy\\AppData\\Local\\Temp\\ipykernel_17400\\3983351454.py:33: FutureWarning: pandas.io.json.json_normalize is deprecated, use pandas.json_normalize instead.\n",
      "  totalDf = totalDf.append(json_normalize(body), ignore_index=True)\n",
      "C:\\Users\\ohy\\AppData\\Local\\Temp\\ipykernel_17400\\3983351454.py:33: FutureWarning: The frame.append method is deprecated and will be removed from pandas in a future version. Use pandas.concat instead.\n",
      "  totalDf = totalDf.append(json_normalize(body), ignore_index=True)\n"
     ]
    },
    {
     "name": "stdout",
     "output_type": "stream",
     "text": [
      "268001\n"
     ]
    },
    {
     "name": "stderr",
     "output_type": "stream",
     "text": [
      "C:\\Users\\ohy\\AppData\\Local\\Temp\\ipykernel_17400\\3983351454.py:33: FutureWarning: pandas.io.json.json_normalize is deprecated, use pandas.json_normalize instead.\n",
      "  totalDf = totalDf.append(json_normalize(body), ignore_index=True)\n",
      "C:\\Users\\ohy\\AppData\\Local\\Temp\\ipykernel_17400\\3983351454.py:33: FutureWarning: The frame.append method is deprecated and will be removed from pandas in a future version. Use pandas.concat instead.\n",
      "  totalDf = totalDf.append(json_normalize(body), ignore_index=True)\n"
     ]
    },
    {
     "name": "stdout",
     "output_type": "stream",
     "text": [
      "269001\n"
     ]
    },
    {
     "name": "stderr",
     "output_type": "stream",
     "text": [
      "C:\\Users\\ohy\\AppData\\Local\\Temp\\ipykernel_17400\\3983351454.py:33: FutureWarning: pandas.io.json.json_normalize is deprecated, use pandas.json_normalize instead.\n",
      "  totalDf = totalDf.append(json_normalize(body), ignore_index=True)\n",
      "C:\\Users\\ohy\\AppData\\Local\\Temp\\ipykernel_17400\\3983351454.py:33: FutureWarning: The frame.append method is deprecated and will be removed from pandas in a future version. Use pandas.concat instead.\n",
      "  totalDf = totalDf.append(json_normalize(body), ignore_index=True)\n"
     ]
    },
    {
     "name": "stdout",
     "output_type": "stream",
     "text": [
      "270001\n"
     ]
    },
    {
     "name": "stderr",
     "output_type": "stream",
     "text": [
      "C:\\Users\\ohy\\AppData\\Local\\Temp\\ipykernel_17400\\3983351454.py:33: FutureWarning: pandas.io.json.json_normalize is deprecated, use pandas.json_normalize instead.\n",
      "  totalDf = totalDf.append(json_normalize(body), ignore_index=True)\n",
      "C:\\Users\\ohy\\AppData\\Local\\Temp\\ipykernel_17400\\3983351454.py:33: FutureWarning: The frame.append method is deprecated and will be removed from pandas in a future version. Use pandas.concat instead.\n",
      "  totalDf = totalDf.append(json_normalize(body), ignore_index=True)\n"
     ]
    },
    {
     "name": "stdout",
     "output_type": "stream",
     "text": [
      "271001\n"
     ]
    },
    {
     "name": "stderr",
     "output_type": "stream",
     "text": [
      "C:\\Users\\ohy\\AppData\\Local\\Temp\\ipykernel_17400\\3983351454.py:33: FutureWarning: pandas.io.json.json_normalize is deprecated, use pandas.json_normalize instead.\n",
      "  totalDf = totalDf.append(json_normalize(body), ignore_index=True)\n",
      "C:\\Users\\ohy\\AppData\\Local\\Temp\\ipykernel_17400\\3983351454.py:33: FutureWarning: The frame.append method is deprecated and will be removed from pandas in a future version. Use pandas.concat instead.\n",
      "  totalDf = totalDf.append(json_normalize(body), ignore_index=True)\n"
     ]
    },
    {
     "name": "stdout",
     "output_type": "stream",
     "text": [
      "272001\n"
     ]
    },
    {
     "name": "stderr",
     "output_type": "stream",
     "text": [
      "C:\\Users\\ohy\\AppData\\Local\\Temp\\ipykernel_17400\\3983351454.py:33: FutureWarning: pandas.io.json.json_normalize is deprecated, use pandas.json_normalize instead.\n",
      "  totalDf = totalDf.append(json_normalize(body), ignore_index=True)\n",
      "C:\\Users\\ohy\\AppData\\Local\\Temp\\ipykernel_17400\\3983351454.py:33: FutureWarning: The frame.append method is deprecated and will be removed from pandas in a future version. Use pandas.concat instead.\n",
      "  totalDf = totalDf.append(json_normalize(body), ignore_index=True)\n"
     ]
    },
    {
     "name": "stdout",
     "output_type": "stream",
     "text": [
      "273001\n"
     ]
    },
    {
     "name": "stderr",
     "output_type": "stream",
     "text": [
      "C:\\Users\\ohy\\AppData\\Local\\Temp\\ipykernel_17400\\3983351454.py:33: FutureWarning: pandas.io.json.json_normalize is deprecated, use pandas.json_normalize instead.\n",
      "  totalDf = totalDf.append(json_normalize(body), ignore_index=True)\n",
      "C:\\Users\\ohy\\AppData\\Local\\Temp\\ipykernel_17400\\3983351454.py:33: FutureWarning: The frame.append method is deprecated and will be removed from pandas in a future version. Use pandas.concat instead.\n",
      "  totalDf = totalDf.append(json_normalize(body), ignore_index=True)\n"
     ]
    },
    {
     "name": "stdout",
     "output_type": "stream",
     "text": [
      "274001\n"
     ]
    },
    {
     "name": "stderr",
     "output_type": "stream",
     "text": [
      "C:\\Users\\ohy\\AppData\\Local\\Temp\\ipykernel_17400\\3983351454.py:33: FutureWarning: pandas.io.json.json_normalize is deprecated, use pandas.json_normalize instead.\n",
      "  totalDf = totalDf.append(json_normalize(body), ignore_index=True)\n",
      "C:\\Users\\ohy\\AppData\\Local\\Temp\\ipykernel_17400\\3983351454.py:33: FutureWarning: The frame.append method is deprecated and will be removed from pandas in a future version. Use pandas.concat instead.\n",
      "  totalDf = totalDf.append(json_normalize(body), ignore_index=True)\n"
     ]
    },
    {
     "name": "stdout",
     "output_type": "stream",
     "text": [
      "275001\n"
     ]
    },
    {
     "name": "stderr",
     "output_type": "stream",
     "text": [
      "C:\\Users\\ohy\\AppData\\Local\\Temp\\ipykernel_17400\\3983351454.py:33: FutureWarning: pandas.io.json.json_normalize is deprecated, use pandas.json_normalize instead.\n",
      "  totalDf = totalDf.append(json_normalize(body), ignore_index=True)\n",
      "C:\\Users\\ohy\\AppData\\Local\\Temp\\ipykernel_17400\\3983351454.py:33: FutureWarning: The frame.append method is deprecated and will be removed from pandas in a future version. Use pandas.concat instead.\n",
      "  totalDf = totalDf.append(json_normalize(body), ignore_index=True)\n"
     ]
    },
    {
     "name": "stdout",
     "output_type": "stream",
     "text": [
      "276001\n"
     ]
    },
    {
     "name": "stderr",
     "output_type": "stream",
     "text": [
      "C:\\Users\\ohy\\AppData\\Local\\Temp\\ipykernel_17400\\3983351454.py:33: FutureWarning: pandas.io.json.json_normalize is deprecated, use pandas.json_normalize instead.\n",
      "  totalDf = totalDf.append(json_normalize(body), ignore_index=True)\n",
      "C:\\Users\\ohy\\AppData\\Local\\Temp\\ipykernel_17400\\3983351454.py:33: FutureWarning: The frame.append method is deprecated and will be removed from pandas in a future version. Use pandas.concat instead.\n",
      "  totalDf = totalDf.append(json_normalize(body), ignore_index=True)\n"
     ]
    },
    {
     "name": "stdout",
     "output_type": "stream",
     "text": [
      "277001\n"
     ]
    },
    {
     "name": "stderr",
     "output_type": "stream",
     "text": [
      "C:\\Users\\ohy\\AppData\\Local\\Temp\\ipykernel_17400\\3983351454.py:33: FutureWarning: pandas.io.json.json_normalize is deprecated, use pandas.json_normalize instead.\n",
      "  totalDf = totalDf.append(json_normalize(body), ignore_index=True)\n",
      "C:\\Users\\ohy\\AppData\\Local\\Temp\\ipykernel_17400\\3983351454.py:33: FutureWarning: The frame.append method is deprecated and will be removed from pandas in a future version. Use pandas.concat instead.\n",
      "  totalDf = totalDf.append(json_normalize(body), ignore_index=True)\n"
     ]
    },
    {
     "name": "stdout",
     "output_type": "stream",
     "text": [
      "278001\n"
     ]
    },
    {
     "name": "stderr",
     "output_type": "stream",
     "text": [
      "C:\\Users\\ohy\\AppData\\Local\\Temp\\ipykernel_17400\\3983351454.py:33: FutureWarning: pandas.io.json.json_normalize is deprecated, use pandas.json_normalize instead.\n",
      "  totalDf = totalDf.append(json_normalize(body), ignore_index=True)\n",
      "C:\\Users\\ohy\\AppData\\Local\\Temp\\ipykernel_17400\\3983351454.py:33: FutureWarning: The frame.append method is deprecated and will be removed from pandas in a future version. Use pandas.concat instead.\n",
      "  totalDf = totalDf.append(json_normalize(body), ignore_index=True)\n"
     ]
    },
    {
     "name": "stdout",
     "output_type": "stream",
     "text": [
      "279001\n"
     ]
    },
    {
     "name": "stderr",
     "output_type": "stream",
     "text": [
      "C:\\Users\\ohy\\AppData\\Local\\Temp\\ipykernel_17400\\3983351454.py:33: FutureWarning: pandas.io.json.json_normalize is deprecated, use pandas.json_normalize instead.\n",
      "  totalDf = totalDf.append(json_normalize(body), ignore_index=True)\n",
      "C:\\Users\\ohy\\AppData\\Local\\Temp\\ipykernel_17400\\3983351454.py:33: FutureWarning: The frame.append method is deprecated and will be removed from pandas in a future version. Use pandas.concat instead.\n",
      "  totalDf = totalDf.append(json_normalize(body), ignore_index=True)\n"
     ]
    },
    {
     "name": "stdout",
     "output_type": "stream",
     "text": [
      "280001\n"
     ]
    },
    {
     "name": "stderr",
     "output_type": "stream",
     "text": [
      "C:\\Users\\ohy\\AppData\\Local\\Temp\\ipykernel_17400\\3983351454.py:33: FutureWarning: pandas.io.json.json_normalize is deprecated, use pandas.json_normalize instead.\n",
      "  totalDf = totalDf.append(json_normalize(body), ignore_index=True)\n",
      "C:\\Users\\ohy\\AppData\\Local\\Temp\\ipykernel_17400\\3983351454.py:33: FutureWarning: The frame.append method is deprecated and will be removed from pandas in a future version. Use pandas.concat instead.\n",
      "  totalDf = totalDf.append(json_normalize(body), ignore_index=True)\n"
     ]
    },
    {
     "name": "stdout",
     "output_type": "stream",
     "text": [
      "281001\n"
     ]
    },
    {
     "name": "stderr",
     "output_type": "stream",
     "text": [
      "C:\\Users\\ohy\\AppData\\Local\\Temp\\ipykernel_17400\\3983351454.py:33: FutureWarning: pandas.io.json.json_normalize is deprecated, use pandas.json_normalize instead.\n",
      "  totalDf = totalDf.append(json_normalize(body), ignore_index=True)\n",
      "C:\\Users\\ohy\\AppData\\Local\\Temp\\ipykernel_17400\\3983351454.py:33: FutureWarning: The frame.append method is deprecated and will be removed from pandas in a future version. Use pandas.concat instead.\n",
      "  totalDf = totalDf.append(json_normalize(body), ignore_index=True)\n"
     ]
    },
    {
     "name": "stdout",
     "output_type": "stream",
     "text": [
      "282001\n"
     ]
    },
    {
     "name": "stderr",
     "output_type": "stream",
     "text": [
      "C:\\Users\\ohy\\AppData\\Local\\Temp\\ipykernel_17400\\3983351454.py:33: FutureWarning: pandas.io.json.json_normalize is deprecated, use pandas.json_normalize instead.\n",
      "  totalDf = totalDf.append(json_normalize(body), ignore_index=True)\n",
      "C:\\Users\\ohy\\AppData\\Local\\Temp\\ipykernel_17400\\3983351454.py:33: FutureWarning: The frame.append method is deprecated and will be removed from pandas in a future version. Use pandas.concat instead.\n",
      "  totalDf = totalDf.append(json_normalize(body), ignore_index=True)\n"
     ]
    },
    {
     "name": "stdout",
     "output_type": "stream",
     "text": [
      "283001\n"
     ]
    },
    {
     "name": "stderr",
     "output_type": "stream",
     "text": [
      "C:\\Users\\ohy\\AppData\\Local\\Temp\\ipykernel_17400\\3983351454.py:33: FutureWarning: pandas.io.json.json_normalize is deprecated, use pandas.json_normalize instead.\n",
      "  totalDf = totalDf.append(json_normalize(body), ignore_index=True)\n",
      "C:\\Users\\ohy\\AppData\\Local\\Temp\\ipykernel_17400\\3983351454.py:33: FutureWarning: The frame.append method is deprecated and will be removed from pandas in a future version. Use pandas.concat instead.\n",
      "  totalDf = totalDf.append(json_normalize(body), ignore_index=True)\n"
     ]
    },
    {
     "name": "stdout",
     "output_type": "stream",
     "text": [
      "284001\n"
     ]
    },
    {
     "name": "stderr",
     "output_type": "stream",
     "text": [
      "C:\\Users\\ohy\\AppData\\Local\\Temp\\ipykernel_17400\\3983351454.py:33: FutureWarning: pandas.io.json.json_normalize is deprecated, use pandas.json_normalize instead.\n",
      "  totalDf = totalDf.append(json_normalize(body), ignore_index=True)\n",
      "C:\\Users\\ohy\\AppData\\Local\\Temp\\ipykernel_17400\\3983351454.py:33: FutureWarning: The frame.append method is deprecated and will be removed from pandas in a future version. Use pandas.concat instead.\n",
      "  totalDf = totalDf.append(json_normalize(body), ignore_index=True)\n"
     ]
    },
    {
     "name": "stdout",
     "output_type": "stream",
     "text": [
      "285001\n"
     ]
    },
    {
     "name": "stderr",
     "output_type": "stream",
     "text": [
      "C:\\Users\\ohy\\AppData\\Local\\Temp\\ipykernel_17400\\3983351454.py:33: FutureWarning: pandas.io.json.json_normalize is deprecated, use pandas.json_normalize instead.\n",
      "  totalDf = totalDf.append(json_normalize(body), ignore_index=True)\n",
      "C:\\Users\\ohy\\AppData\\Local\\Temp\\ipykernel_17400\\3983351454.py:33: FutureWarning: The frame.append method is deprecated and will be removed from pandas in a future version. Use pandas.concat instead.\n",
      "  totalDf = totalDf.append(json_normalize(body), ignore_index=True)\n"
     ]
    },
    {
     "name": "stdout",
     "output_type": "stream",
     "text": [
      "286001\n"
     ]
    },
    {
     "name": "stderr",
     "output_type": "stream",
     "text": [
      "C:\\Users\\ohy\\AppData\\Local\\Temp\\ipykernel_17400\\3983351454.py:33: FutureWarning: pandas.io.json.json_normalize is deprecated, use pandas.json_normalize instead.\n",
      "  totalDf = totalDf.append(json_normalize(body), ignore_index=True)\n",
      "C:\\Users\\ohy\\AppData\\Local\\Temp\\ipykernel_17400\\3983351454.py:33: FutureWarning: The frame.append method is deprecated and will be removed from pandas in a future version. Use pandas.concat instead.\n",
      "  totalDf = totalDf.append(json_normalize(body), ignore_index=True)\n"
     ]
    },
    {
     "name": "stdout",
     "output_type": "stream",
     "text": [
      "287001\n"
     ]
    },
    {
     "name": "stderr",
     "output_type": "stream",
     "text": [
      "C:\\Users\\ohy\\AppData\\Local\\Temp\\ipykernel_17400\\3983351454.py:33: FutureWarning: pandas.io.json.json_normalize is deprecated, use pandas.json_normalize instead.\n",
      "  totalDf = totalDf.append(json_normalize(body), ignore_index=True)\n",
      "C:\\Users\\ohy\\AppData\\Local\\Temp\\ipykernel_17400\\3983351454.py:33: FutureWarning: The frame.append method is deprecated and will be removed from pandas in a future version. Use pandas.concat instead.\n",
      "  totalDf = totalDf.append(json_normalize(body), ignore_index=True)\n"
     ]
    },
    {
     "name": "stdout",
     "output_type": "stream",
     "text": [
      "288001\n"
     ]
    },
    {
     "name": "stderr",
     "output_type": "stream",
     "text": [
      "C:\\Users\\ohy\\AppData\\Local\\Temp\\ipykernel_17400\\3983351454.py:33: FutureWarning: pandas.io.json.json_normalize is deprecated, use pandas.json_normalize instead.\n",
      "  totalDf = totalDf.append(json_normalize(body), ignore_index=True)\n",
      "C:\\Users\\ohy\\AppData\\Local\\Temp\\ipykernel_17400\\3983351454.py:33: FutureWarning: The frame.append method is deprecated and will be removed from pandas in a future version. Use pandas.concat instead.\n",
      "  totalDf = totalDf.append(json_normalize(body), ignore_index=True)\n"
     ]
    },
    {
     "name": "stdout",
     "output_type": "stream",
     "text": [
      "289001\n"
     ]
    },
    {
     "name": "stderr",
     "output_type": "stream",
     "text": [
      "C:\\Users\\ohy\\AppData\\Local\\Temp\\ipykernel_17400\\3983351454.py:33: FutureWarning: pandas.io.json.json_normalize is deprecated, use pandas.json_normalize instead.\n",
      "  totalDf = totalDf.append(json_normalize(body), ignore_index=True)\n",
      "C:\\Users\\ohy\\AppData\\Local\\Temp\\ipykernel_17400\\3983351454.py:33: FutureWarning: The frame.append method is deprecated and will be removed from pandas in a future version. Use pandas.concat instead.\n",
      "  totalDf = totalDf.append(json_normalize(body), ignore_index=True)\n"
     ]
    },
    {
     "name": "stdout",
     "output_type": "stream",
     "text": [
      "290001\n"
     ]
    },
    {
     "name": "stderr",
     "output_type": "stream",
     "text": [
      "C:\\Users\\ohy\\AppData\\Local\\Temp\\ipykernel_17400\\3983351454.py:33: FutureWarning: pandas.io.json.json_normalize is deprecated, use pandas.json_normalize instead.\n",
      "  totalDf = totalDf.append(json_normalize(body), ignore_index=True)\n",
      "C:\\Users\\ohy\\AppData\\Local\\Temp\\ipykernel_17400\\3983351454.py:33: FutureWarning: The frame.append method is deprecated and will be removed from pandas in a future version. Use pandas.concat instead.\n",
      "  totalDf = totalDf.append(json_normalize(body), ignore_index=True)\n"
     ]
    },
    {
     "name": "stdout",
     "output_type": "stream",
     "text": [
      "291001\n"
     ]
    },
    {
     "name": "stderr",
     "output_type": "stream",
     "text": [
      "C:\\Users\\ohy\\AppData\\Local\\Temp\\ipykernel_17400\\3983351454.py:33: FutureWarning: pandas.io.json.json_normalize is deprecated, use pandas.json_normalize instead.\n",
      "  totalDf = totalDf.append(json_normalize(body), ignore_index=True)\n",
      "C:\\Users\\ohy\\AppData\\Local\\Temp\\ipykernel_17400\\3983351454.py:33: FutureWarning: The frame.append method is deprecated and will be removed from pandas in a future version. Use pandas.concat instead.\n",
      "  totalDf = totalDf.append(json_normalize(body), ignore_index=True)\n"
     ]
    },
    {
     "name": "stdout",
     "output_type": "stream",
     "text": [
      "292001\n"
     ]
    },
    {
     "name": "stderr",
     "output_type": "stream",
     "text": [
      "C:\\Users\\ohy\\AppData\\Local\\Temp\\ipykernel_17400\\3983351454.py:33: FutureWarning: pandas.io.json.json_normalize is deprecated, use pandas.json_normalize instead.\n",
      "  totalDf = totalDf.append(json_normalize(body), ignore_index=True)\n",
      "C:\\Users\\ohy\\AppData\\Local\\Temp\\ipykernel_17400\\3983351454.py:33: FutureWarning: The frame.append method is deprecated and will be removed from pandas in a future version. Use pandas.concat instead.\n",
      "  totalDf = totalDf.append(json_normalize(body), ignore_index=True)\n"
     ]
    },
    {
     "name": "stdout",
     "output_type": "stream",
     "text": [
      "293001\n"
     ]
    },
    {
     "name": "stderr",
     "output_type": "stream",
     "text": [
      "C:\\Users\\ohy\\AppData\\Local\\Temp\\ipykernel_17400\\3983351454.py:33: FutureWarning: pandas.io.json.json_normalize is deprecated, use pandas.json_normalize instead.\n",
      "  totalDf = totalDf.append(json_normalize(body), ignore_index=True)\n",
      "C:\\Users\\ohy\\AppData\\Local\\Temp\\ipykernel_17400\\3983351454.py:33: FutureWarning: The frame.append method is deprecated and will be removed from pandas in a future version. Use pandas.concat instead.\n",
      "  totalDf = totalDf.append(json_normalize(body), ignore_index=True)\n"
     ]
    },
    {
     "name": "stdout",
     "output_type": "stream",
     "text": [
      "294001\n"
     ]
    },
    {
     "name": "stderr",
     "output_type": "stream",
     "text": [
      "C:\\Users\\ohy\\AppData\\Local\\Temp\\ipykernel_17400\\3983351454.py:33: FutureWarning: pandas.io.json.json_normalize is deprecated, use pandas.json_normalize instead.\n",
      "  totalDf = totalDf.append(json_normalize(body), ignore_index=True)\n",
      "C:\\Users\\ohy\\AppData\\Local\\Temp\\ipykernel_17400\\3983351454.py:33: FutureWarning: The frame.append method is deprecated and will be removed from pandas in a future version. Use pandas.concat instead.\n",
      "  totalDf = totalDf.append(json_normalize(body), ignore_index=True)\n"
     ]
    },
    {
     "name": "stdout",
     "output_type": "stream",
     "text": [
      "295001\n"
     ]
    },
    {
     "name": "stderr",
     "output_type": "stream",
     "text": [
      "C:\\Users\\ohy\\AppData\\Local\\Temp\\ipykernel_17400\\3983351454.py:33: FutureWarning: pandas.io.json.json_normalize is deprecated, use pandas.json_normalize instead.\n",
      "  totalDf = totalDf.append(json_normalize(body), ignore_index=True)\n",
      "C:\\Users\\ohy\\AppData\\Local\\Temp\\ipykernel_17400\\3983351454.py:33: FutureWarning: The frame.append method is deprecated and will be removed from pandas in a future version. Use pandas.concat instead.\n",
      "  totalDf = totalDf.append(json_normalize(body), ignore_index=True)\n"
     ]
    },
    {
     "name": "stdout",
     "output_type": "stream",
     "text": [
      "296001\n"
     ]
    },
    {
     "name": "stderr",
     "output_type": "stream",
     "text": [
      "C:\\Users\\ohy\\AppData\\Local\\Temp\\ipykernel_17400\\3983351454.py:33: FutureWarning: pandas.io.json.json_normalize is deprecated, use pandas.json_normalize instead.\n",
      "  totalDf = totalDf.append(json_normalize(body), ignore_index=True)\n",
      "C:\\Users\\ohy\\AppData\\Local\\Temp\\ipykernel_17400\\3983351454.py:33: FutureWarning: The frame.append method is deprecated and will be removed from pandas in a future version. Use pandas.concat instead.\n",
      "  totalDf = totalDf.append(json_normalize(body), ignore_index=True)\n"
     ]
    },
    {
     "name": "stdout",
     "output_type": "stream",
     "text": [
      "297001\n"
     ]
    },
    {
     "name": "stderr",
     "output_type": "stream",
     "text": [
      "C:\\Users\\ohy\\AppData\\Local\\Temp\\ipykernel_17400\\3983351454.py:33: FutureWarning: pandas.io.json.json_normalize is deprecated, use pandas.json_normalize instead.\n",
      "  totalDf = totalDf.append(json_normalize(body), ignore_index=True)\n",
      "C:\\Users\\ohy\\AppData\\Local\\Temp\\ipykernel_17400\\3983351454.py:33: FutureWarning: The frame.append method is deprecated and will be removed from pandas in a future version. Use pandas.concat instead.\n",
      "  totalDf = totalDf.append(json_normalize(body), ignore_index=True)\n"
     ]
    },
    {
     "name": "stdout",
     "output_type": "stream",
     "text": [
      "298001\n"
     ]
    },
    {
     "name": "stderr",
     "output_type": "stream",
     "text": [
      "C:\\Users\\ohy\\AppData\\Local\\Temp\\ipykernel_17400\\3983351454.py:33: FutureWarning: pandas.io.json.json_normalize is deprecated, use pandas.json_normalize instead.\n",
      "  totalDf = totalDf.append(json_normalize(body), ignore_index=True)\n",
      "C:\\Users\\ohy\\AppData\\Local\\Temp\\ipykernel_17400\\3983351454.py:33: FutureWarning: The frame.append method is deprecated and will be removed from pandas in a future version. Use pandas.concat instead.\n",
      "  totalDf = totalDf.append(json_normalize(body), ignore_index=True)\n"
     ]
    },
    {
     "name": "stdout",
     "output_type": "stream",
     "text": [
      "299001\n"
     ]
    },
    {
     "name": "stderr",
     "output_type": "stream",
     "text": [
      "C:\\Users\\ohy\\AppData\\Local\\Temp\\ipykernel_17400\\3983351454.py:33: FutureWarning: pandas.io.json.json_normalize is deprecated, use pandas.json_normalize instead.\n",
      "  totalDf = totalDf.append(json_normalize(body), ignore_index=True)\n",
      "C:\\Users\\ohy\\AppData\\Local\\Temp\\ipykernel_17400\\3983351454.py:33: FutureWarning: The frame.append method is deprecated and will be removed from pandas in a future version. Use pandas.concat instead.\n",
      "  totalDf = totalDf.append(json_normalize(body), ignore_index=True)\n"
     ]
    },
    {
     "name": "stdout",
     "output_type": "stream",
     "text": [
      "300001\n"
     ]
    },
    {
     "name": "stderr",
     "output_type": "stream",
     "text": [
      "C:\\Users\\ohy\\AppData\\Local\\Temp\\ipykernel_17400\\3983351454.py:33: FutureWarning: pandas.io.json.json_normalize is deprecated, use pandas.json_normalize instead.\n",
      "  totalDf = totalDf.append(json_normalize(body), ignore_index=True)\n",
      "C:\\Users\\ohy\\AppData\\Local\\Temp\\ipykernel_17400\\3983351454.py:33: FutureWarning: The frame.append method is deprecated and will be removed from pandas in a future version. Use pandas.concat instead.\n",
      "  totalDf = totalDf.append(json_normalize(body), ignore_index=True)\n"
     ]
    },
    {
     "name": "stdout",
     "output_type": "stream",
     "text": [
      "301001\n"
     ]
    },
    {
     "name": "stderr",
     "output_type": "stream",
     "text": [
      "C:\\Users\\ohy\\AppData\\Local\\Temp\\ipykernel_17400\\3983351454.py:33: FutureWarning: pandas.io.json.json_normalize is deprecated, use pandas.json_normalize instead.\n",
      "  totalDf = totalDf.append(json_normalize(body), ignore_index=True)\n",
      "C:\\Users\\ohy\\AppData\\Local\\Temp\\ipykernel_17400\\3983351454.py:33: FutureWarning: The frame.append method is deprecated and will be removed from pandas in a future version. Use pandas.concat instead.\n",
      "  totalDf = totalDf.append(json_normalize(body), ignore_index=True)\n"
     ]
    },
    {
     "name": "stdout",
     "output_type": "stream",
     "text": [
      "302001\n"
     ]
    },
    {
     "name": "stderr",
     "output_type": "stream",
     "text": [
      "C:\\Users\\ohy\\AppData\\Local\\Temp\\ipykernel_17400\\3983351454.py:33: FutureWarning: pandas.io.json.json_normalize is deprecated, use pandas.json_normalize instead.\n",
      "  totalDf = totalDf.append(json_normalize(body), ignore_index=True)\n",
      "C:\\Users\\ohy\\AppData\\Local\\Temp\\ipykernel_17400\\3983351454.py:33: FutureWarning: The frame.append method is deprecated and will be removed from pandas in a future version. Use pandas.concat instead.\n",
      "  totalDf = totalDf.append(json_normalize(body), ignore_index=True)\n"
     ]
    },
    {
     "name": "stdout",
     "output_type": "stream",
     "text": [
      "303001\n"
     ]
    },
    {
     "name": "stderr",
     "output_type": "stream",
     "text": [
      "C:\\Users\\ohy\\AppData\\Local\\Temp\\ipykernel_17400\\3983351454.py:33: FutureWarning: pandas.io.json.json_normalize is deprecated, use pandas.json_normalize instead.\n",
      "  totalDf = totalDf.append(json_normalize(body), ignore_index=True)\n",
      "C:\\Users\\ohy\\AppData\\Local\\Temp\\ipykernel_17400\\3983351454.py:33: FutureWarning: The frame.append method is deprecated and will be removed from pandas in a future version. Use pandas.concat instead.\n",
      "  totalDf = totalDf.append(json_normalize(body), ignore_index=True)\n"
     ]
    },
    {
     "name": "stdout",
     "output_type": "stream",
     "text": [
      "304001\n"
     ]
    },
    {
     "name": "stderr",
     "output_type": "stream",
     "text": [
      "C:\\Users\\ohy\\AppData\\Local\\Temp\\ipykernel_17400\\3983351454.py:33: FutureWarning: pandas.io.json.json_normalize is deprecated, use pandas.json_normalize instead.\n",
      "  totalDf = totalDf.append(json_normalize(body), ignore_index=True)\n",
      "C:\\Users\\ohy\\AppData\\Local\\Temp\\ipykernel_17400\\3983351454.py:33: FutureWarning: The frame.append method is deprecated and will be removed from pandas in a future version. Use pandas.concat instead.\n",
      "  totalDf = totalDf.append(json_normalize(body), ignore_index=True)\n"
     ]
    },
    {
     "name": "stdout",
     "output_type": "stream",
     "text": [
      "305001\n"
     ]
    },
    {
     "name": "stderr",
     "output_type": "stream",
     "text": [
      "C:\\Users\\ohy\\AppData\\Local\\Temp\\ipykernel_17400\\3983351454.py:33: FutureWarning: pandas.io.json.json_normalize is deprecated, use pandas.json_normalize instead.\n",
      "  totalDf = totalDf.append(json_normalize(body), ignore_index=True)\n",
      "C:\\Users\\ohy\\AppData\\Local\\Temp\\ipykernel_17400\\3983351454.py:33: FutureWarning: The frame.append method is deprecated and will be removed from pandas in a future version. Use pandas.concat instead.\n",
      "  totalDf = totalDf.append(json_normalize(body), ignore_index=True)\n"
     ]
    },
    {
     "name": "stdout",
     "output_type": "stream",
     "text": [
      "306001\n"
     ]
    },
    {
     "name": "stderr",
     "output_type": "stream",
     "text": [
      "C:\\Users\\ohy\\AppData\\Local\\Temp\\ipykernel_17400\\3983351454.py:33: FutureWarning: pandas.io.json.json_normalize is deprecated, use pandas.json_normalize instead.\n",
      "  totalDf = totalDf.append(json_normalize(body), ignore_index=True)\n",
      "C:\\Users\\ohy\\AppData\\Local\\Temp\\ipykernel_17400\\3983351454.py:33: FutureWarning: The frame.append method is deprecated and will be removed from pandas in a future version. Use pandas.concat instead.\n",
      "  totalDf = totalDf.append(json_normalize(body), ignore_index=True)\n"
     ]
    },
    {
     "name": "stdout",
     "output_type": "stream",
     "text": [
      "307001\n"
     ]
    },
    {
     "name": "stderr",
     "output_type": "stream",
     "text": [
      "C:\\Users\\ohy\\AppData\\Local\\Temp\\ipykernel_17400\\3983351454.py:33: FutureWarning: pandas.io.json.json_normalize is deprecated, use pandas.json_normalize instead.\n",
      "  totalDf = totalDf.append(json_normalize(body), ignore_index=True)\n",
      "C:\\Users\\ohy\\AppData\\Local\\Temp\\ipykernel_17400\\3983351454.py:33: FutureWarning: The frame.append method is deprecated and will be removed from pandas in a future version. Use pandas.concat instead.\n",
      "  totalDf = totalDf.append(json_normalize(body), ignore_index=True)\n"
     ]
    },
    {
     "name": "stdout",
     "output_type": "stream",
     "text": [
      "308001\n"
     ]
    },
    {
     "name": "stderr",
     "output_type": "stream",
     "text": [
      "C:\\Users\\ohy\\AppData\\Local\\Temp\\ipykernel_17400\\3983351454.py:33: FutureWarning: pandas.io.json.json_normalize is deprecated, use pandas.json_normalize instead.\n",
      "  totalDf = totalDf.append(json_normalize(body), ignore_index=True)\n",
      "C:\\Users\\ohy\\AppData\\Local\\Temp\\ipykernel_17400\\3983351454.py:33: FutureWarning: The frame.append method is deprecated and will be removed from pandas in a future version. Use pandas.concat instead.\n",
      "  totalDf = totalDf.append(json_normalize(body), ignore_index=True)\n"
     ]
    },
    {
     "name": "stdout",
     "output_type": "stream",
     "text": [
      "309001\n"
     ]
    },
    {
     "name": "stderr",
     "output_type": "stream",
     "text": [
      "C:\\Users\\ohy\\AppData\\Local\\Temp\\ipykernel_17400\\3983351454.py:33: FutureWarning: pandas.io.json.json_normalize is deprecated, use pandas.json_normalize instead.\n",
      "  totalDf = totalDf.append(json_normalize(body), ignore_index=True)\n",
      "C:\\Users\\ohy\\AppData\\Local\\Temp\\ipykernel_17400\\3983351454.py:33: FutureWarning: The frame.append method is deprecated and will be removed from pandas in a future version. Use pandas.concat instead.\n",
      "  totalDf = totalDf.append(json_normalize(body), ignore_index=True)\n"
     ]
    },
    {
     "name": "stdout",
     "output_type": "stream",
     "text": [
      "310001\n"
     ]
    },
    {
     "name": "stderr",
     "output_type": "stream",
     "text": [
      "C:\\Users\\ohy\\AppData\\Local\\Temp\\ipykernel_17400\\3983351454.py:33: FutureWarning: pandas.io.json.json_normalize is deprecated, use pandas.json_normalize instead.\n",
      "  totalDf = totalDf.append(json_normalize(body), ignore_index=True)\n",
      "C:\\Users\\ohy\\AppData\\Local\\Temp\\ipykernel_17400\\3983351454.py:33: FutureWarning: The frame.append method is deprecated and will be removed from pandas in a future version. Use pandas.concat instead.\n",
      "  totalDf = totalDf.append(json_normalize(body), ignore_index=True)\n"
     ]
    },
    {
     "name": "stdout",
     "output_type": "stream",
     "text": [
      "311001\n"
     ]
    },
    {
     "name": "stderr",
     "output_type": "stream",
     "text": [
      "C:\\Users\\ohy\\AppData\\Local\\Temp\\ipykernel_17400\\3983351454.py:33: FutureWarning: pandas.io.json.json_normalize is deprecated, use pandas.json_normalize instead.\n",
      "  totalDf = totalDf.append(json_normalize(body), ignore_index=True)\n",
      "C:\\Users\\ohy\\AppData\\Local\\Temp\\ipykernel_17400\\3983351454.py:33: FutureWarning: The frame.append method is deprecated and will be removed from pandas in a future version. Use pandas.concat instead.\n",
      "  totalDf = totalDf.append(json_normalize(body), ignore_index=True)\n"
     ]
    },
    {
     "name": "stdout",
     "output_type": "stream",
     "text": [
      "312001\n"
     ]
    },
    {
     "name": "stderr",
     "output_type": "stream",
     "text": [
      "C:\\Users\\ohy\\AppData\\Local\\Temp\\ipykernel_17400\\3983351454.py:33: FutureWarning: pandas.io.json.json_normalize is deprecated, use pandas.json_normalize instead.\n",
      "  totalDf = totalDf.append(json_normalize(body), ignore_index=True)\n",
      "C:\\Users\\ohy\\AppData\\Local\\Temp\\ipykernel_17400\\3983351454.py:33: FutureWarning: The frame.append method is deprecated and will be removed from pandas in a future version. Use pandas.concat instead.\n",
      "  totalDf = totalDf.append(json_normalize(body), ignore_index=True)\n"
     ]
    },
    {
     "name": "stdout",
     "output_type": "stream",
     "text": [
      "313001\n"
     ]
    },
    {
     "name": "stderr",
     "output_type": "stream",
     "text": [
      "C:\\Users\\ohy\\AppData\\Local\\Temp\\ipykernel_17400\\3983351454.py:33: FutureWarning: pandas.io.json.json_normalize is deprecated, use pandas.json_normalize instead.\n",
      "  totalDf = totalDf.append(json_normalize(body), ignore_index=True)\n",
      "C:\\Users\\ohy\\AppData\\Local\\Temp\\ipykernel_17400\\3983351454.py:33: FutureWarning: The frame.append method is deprecated and will be removed from pandas in a future version. Use pandas.concat instead.\n",
      "  totalDf = totalDf.append(json_normalize(body), ignore_index=True)\n"
     ]
    },
    {
     "name": "stdout",
     "output_type": "stream",
     "text": [
      "314001\n"
     ]
    },
    {
     "name": "stderr",
     "output_type": "stream",
     "text": [
      "C:\\Users\\ohy\\AppData\\Local\\Temp\\ipykernel_17400\\3983351454.py:33: FutureWarning: pandas.io.json.json_normalize is deprecated, use pandas.json_normalize instead.\n",
      "  totalDf = totalDf.append(json_normalize(body), ignore_index=True)\n",
      "C:\\Users\\ohy\\AppData\\Local\\Temp\\ipykernel_17400\\3983351454.py:33: FutureWarning: The frame.append method is deprecated and will be removed from pandas in a future version. Use pandas.concat instead.\n",
      "  totalDf = totalDf.append(json_normalize(body), ignore_index=True)\n"
     ]
    },
    {
     "name": "stdout",
     "output_type": "stream",
     "text": [
      "315001\n"
     ]
    },
    {
     "name": "stderr",
     "output_type": "stream",
     "text": [
      "C:\\Users\\ohy\\AppData\\Local\\Temp\\ipykernel_17400\\3983351454.py:33: FutureWarning: pandas.io.json.json_normalize is deprecated, use pandas.json_normalize instead.\n",
      "  totalDf = totalDf.append(json_normalize(body), ignore_index=True)\n",
      "C:\\Users\\ohy\\AppData\\Local\\Temp\\ipykernel_17400\\3983351454.py:33: FutureWarning: The frame.append method is deprecated and will be removed from pandas in a future version. Use pandas.concat instead.\n",
      "  totalDf = totalDf.append(json_normalize(body), ignore_index=True)\n"
     ]
    },
    {
     "name": "stdout",
     "output_type": "stream",
     "text": [
      "316001\n"
     ]
    },
    {
     "name": "stderr",
     "output_type": "stream",
     "text": [
      "C:\\Users\\ohy\\AppData\\Local\\Temp\\ipykernel_17400\\3983351454.py:33: FutureWarning: pandas.io.json.json_normalize is deprecated, use pandas.json_normalize instead.\n",
      "  totalDf = totalDf.append(json_normalize(body), ignore_index=True)\n",
      "C:\\Users\\ohy\\AppData\\Local\\Temp\\ipykernel_17400\\3983351454.py:33: FutureWarning: The frame.append method is deprecated and will be removed from pandas in a future version. Use pandas.concat instead.\n",
      "  totalDf = totalDf.append(json_normalize(body), ignore_index=True)\n"
     ]
    },
    {
     "name": "stdout",
     "output_type": "stream",
     "text": [
      "317001\n"
     ]
    },
    {
     "name": "stderr",
     "output_type": "stream",
     "text": [
      "C:\\Users\\ohy\\AppData\\Local\\Temp\\ipykernel_17400\\3983351454.py:33: FutureWarning: pandas.io.json.json_normalize is deprecated, use pandas.json_normalize instead.\n",
      "  totalDf = totalDf.append(json_normalize(body), ignore_index=True)\n",
      "C:\\Users\\ohy\\AppData\\Local\\Temp\\ipykernel_17400\\3983351454.py:33: FutureWarning: The frame.append method is deprecated and will be removed from pandas in a future version. Use pandas.concat instead.\n",
      "  totalDf = totalDf.append(json_normalize(body), ignore_index=True)\n"
     ]
    },
    {
     "name": "stdout",
     "output_type": "stream",
     "text": [
      "318001\n"
     ]
    },
    {
     "name": "stderr",
     "output_type": "stream",
     "text": [
      "C:\\Users\\ohy\\AppData\\Local\\Temp\\ipykernel_17400\\3983351454.py:33: FutureWarning: pandas.io.json.json_normalize is deprecated, use pandas.json_normalize instead.\n",
      "  totalDf = totalDf.append(json_normalize(body), ignore_index=True)\n",
      "C:\\Users\\ohy\\AppData\\Local\\Temp\\ipykernel_17400\\3983351454.py:33: FutureWarning: The frame.append method is deprecated and will be removed from pandas in a future version. Use pandas.concat instead.\n",
      "  totalDf = totalDf.append(json_normalize(body), ignore_index=True)\n"
     ]
    },
    {
     "name": "stdout",
     "output_type": "stream",
     "text": [
      "319001\n"
     ]
    },
    {
     "name": "stderr",
     "output_type": "stream",
     "text": [
      "C:\\Users\\ohy\\AppData\\Local\\Temp\\ipykernel_17400\\3983351454.py:33: FutureWarning: pandas.io.json.json_normalize is deprecated, use pandas.json_normalize instead.\n",
      "  totalDf = totalDf.append(json_normalize(body), ignore_index=True)\n",
      "C:\\Users\\ohy\\AppData\\Local\\Temp\\ipykernel_17400\\3983351454.py:33: FutureWarning: The frame.append method is deprecated and will be removed from pandas in a future version. Use pandas.concat instead.\n",
      "  totalDf = totalDf.append(json_normalize(body), ignore_index=True)\n"
     ]
    },
    {
     "name": "stdout",
     "output_type": "stream",
     "text": [
      "320001\n"
     ]
    },
    {
     "name": "stderr",
     "output_type": "stream",
     "text": [
      "C:\\Users\\ohy\\AppData\\Local\\Temp\\ipykernel_17400\\3983351454.py:33: FutureWarning: pandas.io.json.json_normalize is deprecated, use pandas.json_normalize instead.\n",
      "  totalDf = totalDf.append(json_normalize(body), ignore_index=True)\n",
      "C:\\Users\\ohy\\AppData\\Local\\Temp\\ipykernel_17400\\3983351454.py:33: FutureWarning: The frame.append method is deprecated and will be removed from pandas in a future version. Use pandas.concat instead.\n",
      "  totalDf = totalDf.append(json_normalize(body), ignore_index=True)\n"
     ]
    },
    {
     "name": "stdout",
     "output_type": "stream",
     "text": [
      "321001\n"
     ]
    },
    {
     "name": "stderr",
     "output_type": "stream",
     "text": [
      "C:\\Users\\ohy\\AppData\\Local\\Temp\\ipykernel_17400\\3983351454.py:33: FutureWarning: pandas.io.json.json_normalize is deprecated, use pandas.json_normalize instead.\n",
      "  totalDf = totalDf.append(json_normalize(body), ignore_index=True)\n",
      "C:\\Users\\ohy\\AppData\\Local\\Temp\\ipykernel_17400\\3983351454.py:33: FutureWarning: The frame.append method is deprecated and will be removed from pandas in a future version. Use pandas.concat instead.\n",
      "  totalDf = totalDf.append(json_normalize(body), ignore_index=True)\n"
     ]
    },
    {
     "name": "stdout",
     "output_type": "stream",
     "text": [
      "322001\n"
     ]
    },
    {
     "name": "stderr",
     "output_type": "stream",
     "text": [
      "C:\\Users\\ohy\\AppData\\Local\\Temp\\ipykernel_17400\\3983351454.py:33: FutureWarning: pandas.io.json.json_normalize is deprecated, use pandas.json_normalize instead.\n",
      "  totalDf = totalDf.append(json_normalize(body), ignore_index=True)\n",
      "C:\\Users\\ohy\\AppData\\Local\\Temp\\ipykernel_17400\\3983351454.py:33: FutureWarning: The frame.append method is deprecated and will be removed from pandas in a future version. Use pandas.concat instead.\n",
      "  totalDf = totalDf.append(json_normalize(body), ignore_index=True)\n"
     ]
    },
    {
     "name": "stdout",
     "output_type": "stream",
     "text": [
      "323001\n"
     ]
    },
    {
     "name": "stderr",
     "output_type": "stream",
     "text": [
      "C:\\Users\\ohy\\AppData\\Local\\Temp\\ipykernel_17400\\3983351454.py:33: FutureWarning: pandas.io.json.json_normalize is deprecated, use pandas.json_normalize instead.\n",
      "  totalDf = totalDf.append(json_normalize(body), ignore_index=True)\n",
      "C:\\Users\\ohy\\AppData\\Local\\Temp\\ipykernel_17400\\3983351454.py:33: FutureWarning: The frame.append method is deprecated and will be removed from pandas in a future version. Use pandas.concat instead.\n",
      "  totalDf = totalDf.append(json_normalize(body), ignore_index=True)\n"
     ]
    },
    {
     "name": "stdout",
     "output_type": "stream",
     "text": [
      "324001\n"
     ]
    },
    {
     "name": "stderr",
     "output_type": "stream",
     "text": [
      "C:\\Users\\ohy\\AppData\\Local\\Temp\\ipykernel_17400\\3983351454.py:33: FutureWarning: pandas.io.json.json_normalize is deprecated, use pandas.json_normalize instead.\n",
      "  totalDf = totalDf.append(json_normalize(body), ignore_index=True)\n",
      "C:\\Users\\ohy\\AppData\\Local\\Temp\\ipykernel_17400\\3983351454.py:33: FutureWarning: The frame.append method is deprecated and will be removed from pandas in a future version. Use pandas.concat instead.\n",
      "  totalDf = totalDf.append(json_normalize(body), ignore_index=True)\n"
     ]
    },
    {
     "name": "stdout",
     "output_type": "stream",
     "text": [
      "325001\n"
     ]
    },
    {
     "name": "stderr",
     "output_type": "stream",
     "text": [
      "C:\\Users\\ohy\\AppData\\Local\\Temp\\ipykernel_17400\\3983351454.py:33: FutureWarning: pandas.io.json.json_normalize is deprecated, use pandas.json_normalize instead.\n",
      "  totalDf = totalDf.append(json_normalize(body), ignore_index=True)\n",
      "C:\\Users\\ohy\\AppData\\Local\\Temp\\ipykernel_17400\\3983351454.py:33: FutureWarning: The frame.append method is deprecated and will be removed from pandas in a future version. Use pandas.concat instead.\n",
      "  totalDf = totalDf.append(json_normalize(body), ignore_index=True)\n"
     ]
    },
    {
     "name": "stdout",
     "output_type": "stream",
     "text": [
      "326001\n"
     ]
    },
    {
     "name": "stderr",
     "output_type": "stream",
     "text": [
      "C:\\Users\\ohy\\AppData\\Local\\Temp\\ipykernel_17400\\3983351454.py:33: FutureWarning: pandas.io.json.json_normalize is deprecated, use pandas.json_normalize instead.\n",
      "  totalDf = totalDf.append(json_normalize(body), ignore_index=True)\n",
      "C:\\Users\\ohy\\AppData\\Local\\Temp\\ipykernel_17400\\3983351454.py:33: FutureWarning: The frame.append method is deprecated and will be removed from pandas in a future version. Use pandas.concat instead.\n",
      "  totalDf = totalDf.append(json_normalize(body), ignore_index=True)\n"
     ]
    },
    {
     "name": "stdout",
     "output_type": "stream",
     "text": [
      "327001\n"
     ]
    },
    {
     "name": "stderr",
     "output_type": "stream",
     "text": [
      "C:\\Users\\ohy\\AppData\\Local\\Temp\\ipykernel_17400\\3983351454.py:33: FutureWarning: pandas.io.json.json_normalize is deprecated, use pandas.json_normalize instead.\n",
      "  totalDf = totalDf.append(json_normalize(body), ignore_index=True)\n",
      "C:\\Users\\ohy\\AppData\\Local\\Temp\\ipykernel_17400\\3983351454.py:33: FutureWarning: The frame.append method is deprecated and will be removed from pandas in a future version. Use pandas.concat instead.\n",
      "  totalDf = totalDf.append(json_normalize(body), ignore_index=True)\n"
     ]
    },
    {
     "name": "stdout",
     "output_type": "stream",
     "text": [
      "328001\n"
     ]
    },
    {
     "name": "stderr",
     "output_type": "stream",
     "text": [
      "C:\\Users\\ohy\\AppData\\Local\\Temp\\ipykernel_17400\\3983351454.py:33: FutureWarning: pandas.io.json.json_normalize is deprecated, use pandas.json_normalize instead.\n",
      "  totalDf = totalDf.append(json_normalize(body), ignore_index=True)\n",
      "C:\\Users\\ohy\\AppData\\Local\\Temp\\ipykernel_17400\\3983351454.py:33: FutureWarning: The frame.append method is deprecated and will be removed from pandas in a future version. Use pandas.concat instead.\n",
      "  totalDf = totalDf.append(json_normalize(body), ignore_index=True)\n"
     ]
    },
    {
     "name": "stdout",
     "output_type": "stream",
     "text": [
      "329001\n"
     ]
    },
    {
     "name": "stderr",
     "output_type": "stream",
     "text": [
      "C:\\Users\\ohy\\AppData\\Local\\Temp\\ipykernel_17400\\3983351454.py:33: FutureWarning: pandas.io.json.json_normalize is deprecated, use pandas.json_normalize instead.\n",
      "  totalDf = totalDf.append(json_normalize(body), ignore_index=True)\n",
      "C:\\Users\\ohy\\AppData\\Local\\Temp\\ipykernel_17400\\3983351454.py:33: FutureWarning: The frame.append method is deprecated and will be removed from pandas in a future version. Use pandas.concat instead.\n",
      "  totalDf = totalDf.append(json_normalize(body), ignore_index=True)\n"
     ]
    },
    {
     "name": "stdout",
     "output_type": "stream",
     "text": [
      "330001\n"
     ]
    },
    {
     "name": "stderr",
     "output_type": "stream",
     "text": [
      "C:\\Users\\ohy\\AppData\\Local\\Temp\\ipykernel_17400\\3983351454.py:33: FutureWarning: pandas.io.json.json_normalize is deprecated, use pandas.json_normalize instead.\n",
      "  totalDf = totalDf.append(json_normalize(body), ignore_index=True)\n",
      "C:\\Users\\ohy\\AppData\\Local\\Temp\\ipykernel_17400\\3983351454.py:33: FutureWarning: The frame.append method is deprecated and will be removed from pandas in a future version. Use pandas.concat instead.\n",
      "  totalDf = totalDf.append(json_normalize(body), ignore_index=True)\n"
     ]
    },
    {
     "name": "stdout",
     "output_type": "stream",
     "text": [
      "331001\n"
     ]
    },
    {
     "name": "stderr",
     "output_type": "stream",
     "text": [
      "C:\\Users\\ohy\\AppData\\Local\\Temp\\ipykernel_17400\\3983351454.py:33: FutureWarning: pandas.io.json.json_normalize is deprecated, use pandas.json_normalize instead.\n",
      "  totalDf = totalDf.append(json_normalize(body), ignore_index=True)\n",
      "C:\\Users\\ohy\\AppData\\Local\\Temp\\ipykernel_17400\\3983351454.py:33: FutureWarning: The frame.append method is deprecated and will be removed from pandas in a future version. Use pandas.concat instead.\n",
      "  totalDf = totalDf.append(json_normalize(body), ignore_index=True)\n"
     ]
    },
    {
     "name": "stdout",
     "output_type": "stream",
     "text": [
      "332001\n"
     ]
    },
    {
     "name": "stderr",
     "output_type": "stream",
     "text": [
      "C:\\Users\\ohy\\AppData\\Local\\Temp\\ipykernel_17400\\3983351454.py:33: FutureWarning: pandas.io.json.json_normalize is deprecated, use pandas.json_normalize instead.\n",
      "  totalDf = totalDf.append(json_normalize(body), ignore_index=True)\n",
      "C:\\Users\\ohy\\AppData\\Local\\Temp\\ipykernel_17400\\3983351454.py:33: FutureWarning: The frame.append method is deprecated and will be removed from pandas in a future version. Use pandas.concat instead.\n",
      "  totalDf = totalDf.append(json_normalize(body), ignore_index=True)\n"
     ]
    },
    {
     "name": "stdout",
     "output_type": "stream",
     "text": [
      "333001\n"
     ]
    },
    {
     "name": "stderr",
     "output_type": "stream",
     "text": [
      "C:\\Users\\ohy\\AppData\\Local\\Temp\\ipykernel_17400\\3983351454.py:33: FutureWarning: pandas.io.json.json_normalize is deprecated, use pandas.json_normalize instead.\n",
      "  totalDf = totalDf.append(json_normalize(body), ignore_index=True)\n",
      "C:\\Users\\ohy\\AppData\\Local\\Temp\\ipykernel_17400\\3983351454.py:33: FutureWarning: The frame.append method is deprecated and will be removed from pandas in a future version. Use pandas.concat instead.\n",
      "  totalDf = totalDf.append(json_normalize(body), ignore_index=True)\n"
     ]
    },
    {
     "name": "stdout",
     "output_type": "stream",
     "text": [
      "334001\n"
     ]
    },
    {
     "name": "stderr",
     "output_type": "stream",
     "text": [
      "C:\\Users\\ohy\\AppData\\Local\\Temp\\ipykernel_17400\\3983351454.py:33: FutureWarning: pandas.io.json.json_normalize is deprecated, use pandas.json_normalize instead.\n",
      "  totalDf = totalDf.append(json_normalize(body), ignore_index=True)\n",
      "C:\\Users\\ohy\\AppData\\Local\\Temp\\ipykernel_17400\\3983351454.py:33: FutureWarning: The frame.append method is deprecated and will be removed from pandas in a future version. Use pandas.concat instead.\n",
      "  totalDf = totalDf.append(json_normalize(body), ignore_index=True)\n"
     ]
    },
    {
     "name": "stdout",
     "output_type": "stream",
     "text": [
      "335001\n"
     ]
    },
    {
     "name": "stderr",
     "output_type": "stream",
     "text": [
      "C:\\Users\\ohy\\AppData\\Local\\Temp\\ipykernel_17400\\3983351454.py:33: FutureWarning: pandas.io.json.json_normalize is deprecated, use pandas.json_normalize instead.\n",
      "  totalDf = totalDf.append(json_normalize(body), ignore_index=True)\n",
      "C:\\Users\\ohy\\AppData\\Local\\Temp\\ipykernel_17400\\3983351454.py:33: FutureWarning: The frame.append method is deprecated and will be removed from pandas in a future version. Use pandas.concat instead.\n",
      "  totalDf = totalDf.append(json_normalize(body), ignore_index=True)\n"
     ]
    },
    {
     "name": "stdout",
     "output_type": "stream",
     "text": [
      "336001\n"
     ]
    },
    {
     "name": "stderr",
     "output_type": "stream",
     "text": [
      "C:\\Users\\ohy\\AppData\\Local\\Temp\\ipykernel_17400\\3983351454.py:33: FutureWarning: pandas.io.json.json_normalize is deprecated, use pandas.json_normalize instead.\n",
      "  totalDf = totalDf.append(json_normalize(body), ignore_index=True)\n",
      "C:\\Users\\ohy\\AppData\\Local\\Temp\\ipykernel_17400\\3983351454.py:33: FutureWarning: The frame.append method is deprecated and will be removed from pandas in a future version. Use pandas.concat instead.\n",
      "  totalDf = totalDf.append(json_normalize(body), ignore_index=True)\n"
     ]
    },
    {
     "name": "stdout",
     "output_type": "stream",
     "text": [
      "337001\n"
     ]
    },
    {
     "name": "stderr",
     "output_type": "stream",
     "text": [
      "C:\\Users\\ohy\\AppData\\Local\\Temp\\ipykernel_17400\\3983351454.py:33: FutureWarning: pandas.io.json.json_normalize is deprecated, use pandas.json_normalize instead.\n",
      "  totalDf = totalDf.append(json_normalize(body), ignore_index=True)\n",
      "C:\\Users\\ohy\\AppData\\Local\\Temp\\ipykernel_17400\\3983351454.py:33: FutureWarning: The frame.append method is deprecated and will be removed from pandas in a future version. Use pandas.concat instead.\n",
      "  totalDf = totalDf.append(json_normalize(body), ignore_index=True)\n"
     ]
    },
    {
     "name": "stdout",
     "output_type": "stream",
     "text": [
      "338001\n"
     ]
    },
    {
     "name": "stderr",
     "output_type": "stream",
     "text": [
      "C:\\Users\\ohy\\AppData\\Local\\Temp\\ipykernel_17400\\3983351454.py:33: FutureWarning: pandas.io.json.json_normalize is deprecated, use pandas.json_normalize instead.\n",
      "  totalDf = totalDf.append(json_normalize(body), ignore_index=True)\n",
      "C:\\Users\\ohy\\AppData\\Local\\Temp\\ipykernel_17400\\3983351454.py:33: FutureWarning: The frame.append method is deprecated and will be removed from pandas in a future version. Use pandas.concat instead.\n",
      "  totalDf = totalDf.append(json_normalize(body), ignore_index=True)\n"
     ]
    },
    {
     "name": "stdout",
     "output_type": "stream",
     "text": [
      "339001\n"
     ]
    },
    {
     "name": "stderr",
     "output_type": "stream",
     "text": [
      "C:\\Users\\ohy\\AppData\\Local\\Temp\\ipykernel_17400\\3983351454.py:33: FutureWarning: pandas.io.json.json_normalize is deprecated, use pandas.json_normalize instead.\n",
      "  totalDf = totalDf.append(json_normalize(body), ignore_index=True)\n",
      "C:\\Users\\ohy\\AppData\\Local\\Temp\\ipykernel_17400\\3983351454.py:33: FutureWarning: The frame.append method is deprecated and will be removed from pandas in a future version. Use pandas.concat instead.\n",
      "  totalDf = totalDf.append(json_normalize(body), ignore_index=True)\n"
     ]
    },
    {
     "name": "stdout",
     "output_type": "stream",
     "text": [
      "340001\n"
     ]
    },
    {
     "name": "stderr",
     "output_type": "stream",
     "text": [
      "C:\\Users\\ohy\\AppData\\Local\\Temp\\ipykernel_17400\\3983351454.py:33: FutureWarning: pandas.io.json.json_normalize is deprecated, use pandas.json_normalize instead.\n",
      "  totalDf = totalDf.append(json_normalize(body), ignore_index=True)\n",
      "C:\\Users\\ohy\\AppData\\Local\\Temp\\ipykernel_17400\\3983351454.py:33: FutureWarning: The frame.append method is deprecated and will be removed from pandas in a future version. Use pandas.concat instead.\n",
      "  totalDf = totalDf.append(json_normalize(body), ignore_index=True)\n"
     ]
    },
    {
     "name": "stdout",
     "output_type": "stream",
     "text": [
      "341001\n"
     ]
    },
    {
     "name": "stderr",
     "output_type": "stream",
     "text": [
      "C:\\Users\\ohy\\AppData\\Local\\Temp\\ipykernel_17400\\3983351454.py:33: FutureWarning: pandas.io.json.json_normalize is deprecated, use pandas.json_normalize instead.\n",
      "  totalDf = totalDf.append(json_normalize(body), ignore_index=True)\n",
      "C:\\Users\\ohy\\AppData\\Local\\Temp\\ipykernel_17400\\3983351454.py:33: FutureWarning: The frame.append method is deprecated and will be removed from pandas in a future version. Use pandas.concat instead.\n",
      "  totalDf = totalDf.append(json_normalize(body), ignore_index=True)\n"
     ]
    },
    {
     "name": "stdout",
     "output_type": "stream",
     "text": [
      "342001\n"
     ]
    },
    {
     "name": "stderr",
     "output_type": "stream",
     "text": [
      "C:\\Users\\ohy\\AppData\\Local\\Temp\\ipykernel_17400\\3983351454.py:33: FutureWarning: pandas.io.json.json_normalize is deprecated, use pandas.json_normalize instead.\n",
      "  totalDf = totalDf.append(json_normalize(body), ignore_index=True)\n",
      "C:\\Users\\ohy\\AppData\\Local\\Temp\\ipykernel_17400\\3983351454.py:33: FutureWarning: The frame.append method is deprecated and will be removed from pandas in a future version. Use pandas.concat instead.\n",
      "  totalDf = totalDf.append(json_normalize(body), ignore_index=True)\n"
     ]
    },
    {
     "name": "stdout",
     "output_type": "stream",
     "text": [
      "343001\n"
     ]
    },
    {
     "name": "stderr",
     "output_type": "stream",
     "text": [
      "C:\\Users\\ohy\\AppData\\Local\\Temp\\ipykernel_17400\\3983351454.py:33: FutureWarning: pandas.io.json.json_normalize is deprecated, use pandas.json_normalize instead.\n",
      "  totalDf = totalDf.append(json_normalize(body), ignore_index=True)\n",
      "C:\\Users\\ohy\\AppData\\Local\\Temp\\ipykernel_17400\\3983351454.py:33: FutureWarning: The frame.append method is deprecated and will be removed from pandas in a future version. Use pandas.concat instead.\n",
      "  totalDf = totalDf.append(json_normalize(body), ignore_index=True)\n"
     ]
    },
    {
     "name": "stdout",
     "output_type": "stream",
     "text": [
      "344001\n"
     ]
    },
    {
     "name": "stderr",
     "output_type": "stream",
     "text": [
      "C:\\Users\\ohy\\AppData\\Local\\Temp\\ipykernel_17400\\3983351454.py:33: FutureWarning: pandas.io.json.json_normalize is deprecated, use pandas.json_normalize instead.\n",
      "  totalDf = totalDf.append(json_normalize(body), ignore_index=True)\n",
      "C:\\Users\\ohy\\AppData\\Local\\Temp\\ipykernel_17400\\3983351454.py:33: FutureWarning: The frame.append method is deprecated and will be removed from pandas in a future version. Use pandas.concat instead.\n",
      "  totalDf = totalDf.append(json_normalize(body), ignore_index=True)\n"
     ]
    },
    {
     "name": "stdout",
     "output_type": "stream",
     "text": [
      "345001\n"
     ]
    },
    {
     "name": "stderr",
     "output_type": "stream",
     "text": [
      "C:\\Users\\ohy\\AppData\\Local\\Temp\\ipykernel_17400\\3983351454.py:33: FutureWarning: pandas.io.json.json_normalize is deprecated, use pandas.json_normalize instead.\n",
      "  totalDf = totalDf.append(json_normalize(body), ignore_index=True)\n",
      "C:\\Users\\ohy\\AppData\\Local\\Temp\\ipykernel_17400\\3983351454.py:33: FutureWarning: The frame.append method is deprecated and will be removed from pandas in a future version. Use pandas.concat instead.\n",
      "  totalDf = totalDf.append(json_normalize(body), ignore_index=True)\n"
     ]
    },
    {
     "name": "stdout",
     "output_type": "stream",
     "text": [
      "346001\n"
     ]
    },
    {
     "name": "stderr",
     "output_type": "stream",
     "text": [
      "C:\\Users\\ohy\\AppData\\Local\\Temp\\ipykernel_17400\\3983351454.py:33: FutureWarning: pandas.io.json.json_normalize is deprecated, use pandas.json_normalize instead.\n",
      "  totalDf = totalDf.append(json_normalize(body), ignore_index=True)\n",
      "C:\\Users\\ohy\\AppData\\Local\\Temp\\ipykernel_17400\\3983351454.py:33: FutureWarning: The frame.append method is deprecated and will be removed from pandas in a future version. Use pandas.concat instead.\n",
      "  totalDf = totalDf.append(json_normalize(body), ignore_index=True)\n"
     ]
    },
    {
     "name": "stdout",
     "output_type": "stream",
     "text": [
      "347001\n"
     ]
    },
    {
     "name": "stderr",
     "output_type": "stream",
     "text": [
      "C:\\Users\\ohy\\AppData\\Local\\Temp\\ipykernel_17400\\3983351454.py:33: FutureWarning: pandas.io.json.json_normalize is deprecated, use pandas.json_normalize instead.\n",
      "  totalDf = totalDf.append(json_normalize(body), ignore_index=True)\n",
      "C:\\Users\\ohy\\AppData\\Local\\Temp\\ipykernel_17400\\3983351454.py:33: FutureWarning: The frame.append method is deprecated and will be removed from pandas in a future version. Use pandas.concat instead.\n",
      "  totalDf = totalDf.append(json_normalize(body), ignore_index=True)\n"
     ]
    },
    {
     "name": "stdout",
     "output_type": "stream",
     "text": [
      "348001\n"
     ]
    },
    {
     "name": "stderr",
     "output_type": "stream",
     "text": [
      "C:\\Users\\ohy\\AppData\\Local\\Temp\\ipykernel_17400\\3983351454.py:33: FutureWarning: pandas.io.json.json_normalize is deprecated, use pandas.json_normalize instead.\n",
      "  totalDf = totalDf.append(json_normalize(body), ignore_index=True)\n",
      "C:\\Users\\ohy\\AppData\\Local\\Temp\\ipykernel_17400\\3983351454.py:33: FutureWarning: The frame.append method is deprecated and will be removed from pandas in a future version. Use pandas.concat instead.\n",
      "  totalDf = totalDf.append(json_normalize(body), ignore_index=True)\n"
     ]
    },
    {
     "name": "stdout",
     "output_type": "stream",
     "text": [
      "349001\n"
     ]
    },
    {
     "name": "stderr",
     "output_type": "stream",
     "text": [
      "C:\\Users\\ohy\\AppData\\Local\\Temp\\ipykernel_17400\\3983351454.py:33: FutureWarning: pandas.io.json.json_normalize is deprecated, use pandas.json_normalize instead.\n",
      "  totalDf = totalDf.append(json_normalize(body), ignore_index=True)\n",
      "C:\\Users\\ohy\\AppData\\Local\\Temp\\ipykernel_17400\\3983351454.py:33: FutureWarning: The frame.append method is deprecated and will be removed from pandas in a future version. Use pandas.concat instead.\n",
      "  totalDf = totalDf.append(json_normalize(body), ignore_index=True)\n"
     ]
    },
    {
     "name": "stdout",
     "output_type": "stream",
     "text": [
      "350001\n"
     ]
    },
    {
     "name": "stderr",
     "output_type": "stream",
     "text": [
      "C:\\Users\\ohy\\AppData\\Local\\Temp\\ipykernel_17400\\3983351454.py:33: FutureWarning: pandas.io.json.json_normalize is deprecated, use pandas.json_normalize instead.\n",
      "  totalDf = totalDf.append(json_normalize(body), ignore_index=True)\n",
      "C:\\Users\\ohy\\AppData\\Local\\Temp\\ipykernel_17400\\3983351454.py:33: FutureWarning: The frame.append method is deprecated and will be removed from pandas in a future version. Use pandas.concat instead.\n",
      "  totalDf = totalDf.append(json_normalize(body), ignore_index=True)\n"
     ]
    },
    {
     "name": "stdout",
     "output_type": "stream",
     "text": [
      "351001\n"
     ]
    },
    {
     "name": "stderr",
     "output_type": "stream",
     "text": [
      "C:\\Users\\ohy\\AppData\\Local\\Temp\\ipykernel_17400\\3983351454.py:33: FutureWarning: pandas.io.json.json_normalize is deprecated, use pandas.json_normalize instead.\n",
      "  totalDf = totalDf.append(json_normalize(body), ignore_index=True)\n",
      "C:\\Users\\ohy\\AppData\\Local\\Temp\\ipykernel_17400\\3983351454.py:33: FutureWarning: The frame.append method is deprecated and will be removed from pandas in a future version. Use pandas.concat instead.\n",
      "  totalDf = totalDf.append(json_normalize(body), ignore_index=True)\n"
     ]
    },
    {
     "name": "stdout",
     "output_type": "stream",
     "text": [
      "352001\n"
     ]
    },
    {
     "name": "stderr",
     "output_type": "stream",
     "text": [
      "C:\\Users\\ohy\\AppData\\Local\\Temp\\ipykernel_17400\\3983351454.py:33: FutureWarning: pandas.io.json.json_normalize is deprecated, use pandas.json_normalize instead.\n",
      "  totalDf = totalDf.append(json_normalize(body), ignore_index=True)\n",
      "C:\\Users\\ohy\\AppData\\Local\\Temp\\ipykernel_17400\\3983351454.py:33: FutureWarning: The frame.append method is deprecated and will be removed from pandas in a future version. Use pandas.concat instead.\n",
      "  totalDf = totalDf.append(json_normalize(body), ignore_index=True)\n"
     ]
    },
    {
     "name": "stdout",
     "output_type": "stream",
     "text": [
      "353001\n"
     ]
    },
    {
     "name": "stderr",
     "output_type": "stream",
     "text": [
      "C:\\Users\\ohy\\AppData\\Local\\Temp\\ipykernel_17400\\3983351454.py:33: FutureWarning: pandas.io.json.json_normalize is deprecated, use pandas.json_normalize instead.\n",
      "  totalDf = totalDf.append(json_normalize(body), ignore_index=True)\n",
      "C:\\Users\\ohy\\AppData\\Local\\Temp\\ipykernel_17400\\3983351454.py:33: FutureWarning: The frame.append method is deprecated and will be removed from pandas in a future version. Use pandas.concat instead.\n",
      "  totalDf = totalDf.append(json_normalize(body), ignore_index=True)\n"
     ]
    },
    {
     "name": "stdout",
     "output_type": "stream",
     "text": [
      "354001\n"
     ]
    },
    {
     "name": "stderr",
     "output_type": "stream",
     "text": [
      "C:\\Users\\ohy\\AppData\\Local\\Temp\\ipykernel_17400\\3983351454.py:33: FutureWarning: pandas.io.json.json_normalize is deprecated, use pandas.json_normalize instead.\n",
      "  totalDf = totalDf.append(json_normalize(body), ignore_index=True)\n",
      "C:\\Users\\ohy\\AppData\\Local\\Temp\\ipykernel_17400\\3983351454.py:33: FutureWarning: The frame.append method is deprecated and will be removed from pandas in a future version. Use pandas.concat instead.\n",
      "  totalDf = totalDf.append(json_normalize(body), ignore_index=True)\n"
     ]
    },
    {
     "name": "stdout",
     "output_type": "stream",
     "text": [
      "355001\n"
     ]
    },
    {
     "name": "stderr",
     "output_type": "stream",
     "text": [
      "C:\\Users\\ohy\\AppData\\Local\\Temp\\ipykernel_17400\\3983351454.py:33: FutureWarning: pandas.io.json.json_normalize is deprecated, use pandas.json_normalize instead.\n",
      "  totalDf = totalDf.append(json_normalize(body), ignore_index=True)\n",
      "C:\\Users\\ohy\\AppData\\Local\\Temp\\ipykernel_17400\\3983351454.py:33: FutureWarning: The frame.append method is deprecated and will be removed from pandas in a future version. Use pandas.concat instead.\n",
      "  totalDf = totalDf.append(json_normalize(body), ignore_index=True)\n"
     ]
    },
    {
     "name": "stdout",
     "output_type": "stream",
     "text": [
      "356001\n"
     ]
    },
    {
     "name": "stderr",
     "output_type": "stream",
     "text": [
      "C:\\Users\\ohy\\AppData\\Local\\Temp\\ipykernel_17400\\3983351454.py:33: FutureWarning: pandas.io.json.json_normalize is deprecated, use pandas.json_normalize instead.\n",
      "  totalDf = totalDf.append(json_normalize(body), ignore_index=True)\n",
      "C:\\Users\\ohy\\AppData\\Local\\Temp\\ipykernel_17400\\3983351454.py:33: FutureWarning: The frame.append method is deprecated and will be removed from pandas in a future version. Use pandas.concat instead.\n",
      "  totalDf = totalDf.append(json_normalize(body), ignore_index=True)\n"
     ]
    },
    {
     "name": "stdout",
     "output_type": "stream",
     "text": [
      "357001\n"
     ]
    },
    {
     "name": "stderr",
     "output_type": "stream",
     "text": [
      "C:\\Users\\ohy\\AppData\\Local\\Temp\\ipykernel_17400\\3983351454.py:33: FutureWarning: pandas.io.json.json_normalize is deprecated, use pandas.json_normalize instead.\n",
      "  totalDf = totalDf.append(json_normalize(body), ignore_index=True)\n",
      "C:\\Users\\ohy\\AppData\\Local\\Temp\\ipykernel_17400\\3983351454.py:33: FutureWarning: The frame.append method is deprecated and will be removed from pandas in a future version. Use pandas.concat instead.\n",
      "  totalDf = totalDf.append(json_normalize(body), ignore_index=True)\n"
     ]
    },
    {
     "name": "stdout",
     "output_type": "stream",
     "text": [
      "358001\n"
     ]
    },
    {
     "name": "stderr",
     "output_type": "stream",
     "text": [
      "C:\\Users\\ohy\\AppData\\Local\\Temp\\ipykernel_17400\\3983351454.py:33: FutureWarning: pandas.io.json.json_normalize is deprecated, use pandas.json_normalize instead.\n",
      "  totalDf = totalDf.append(json_normalize(body), ignore_index=True)\n",
      "C:\\Users\\ohy\\AppData\\Local\\Temp\\ipykernel_17400\\3983351454.py:33: FutureWarning: The frame.append method is deprecated and will be removed from pandas in a future version. Use pandas.concat instead.\n",
      "  totalDf = totalDf.append(json_normalize(body), ignore_index=True)\n"
     ]
    },
    {
     "name": "stdout",
     "output_type": "stream",
     "text": [
      "359001\n"
     ]
    },
    {
     "name": "stderr",
     "output_type": "stream",
     "text": [
      "C:\\Users\\ohy\\AppData\\Local\\Temp\\ipykernel_17400\\3983351454.py:33: FutureWarning: pandas.io.json.json_normalize is deprecated, use pandas.json_normalize instead.\n",
      "  totalDf = totalDf.append(json_normalize(body), ignore_index=True)\n",
      "C:\\Users\\ohy\\AppData\\Local\\Temp\\ipykernel_17400\\3983351454.py:33: FutureWarning: The frame.append method is deprecated and will be removed from pandas in a future version. Use pandas.concat instead.\n",
      "  totalDf = totalDf.append(json_normalize(body), ignore_index=True)\n"
     ]
    },
    {
     "name": "stdout",
     "output_type": "stream",
     "text": [
      "360001\n"
     ]
    },
    {
     "name": "stderr",
     "output_type": "stream",
     "text": [
      "C:\\Users\\ohy\\AppData\\Local\\Temp\\ipykernel_17400\\3983351454.py:33: FutureWarning: pandas.io.json.json_normalize is deprecated, use pandas.json_normalize instead.\n",
      "  totalDf = totalDf.append(json_normalize(body), ignore_index=True)\n",
      "C:\\Users\\ohy\\AppData\\Local\\Temp\\ipykernel_17400\\3983351454.py:33: FutureWarning: The frame.append method is deprecated and will be removed from pandas in a future version. Use pandas.concat instead.\n",
      "  totalDf = totalDf.append(json_normalize(body), ignore_index=True)\n"
     ]
    },
    {
     "name": "stdout",
     "output_type": "stream",
     "text": [
      "361001\n"
     ]
    },
    {
     "name": "stderr",
     "output_type": "stream",
     "text": [
      "C:\\Users\\ohy\\AppData\\Local\\Temp\\ipykernel_17400\\3983351454.py:33: FutureWarning: pandas.io.json.json_normalize is deprecated, use pandas.json_normalize instead.\n",
      "  totalDf = totalDf.append(json_normalize(body), ignore_index=True)\n",
      "C:\\Users\\ohy\\AppData\\Local\\Temp\\ipykernel_17400\\3983351454.py:33: FutureWarning: The frame.append method is deprecated and will be removed from pandas in a future version. Use pandas.concat instead.\n",
      "  totalDf = totalDf.append(json_normalize(body), ignore_index=True)\n"
     ]
    },
    {
     "name": "stdout",
     "output_type": "stream",
     "text": [
      "362001\n"
     ]
    },
    {
     "name": "stderr",
     "output_type": "stream",
     "text": [
      "C:\\Users\\ohy\\AppData\\Local\\Temp\\ipykernel_17400\\3983351454.py:33: FutureWarning: pandas.io.json.json_normalize is deprecated, use pandas.json_normalize instead.\n",
      "  totalDf = totalDf.append(json_normalize(body), ignore_index=True)\n",
      "C:\\Users\\ohy\\AppData\\Local\\Temp\\ipykernel_17400\\3983351454.py:33: FutureWarning: The frame.append method is deprecated and will be removed from pandas in a future version. Use pandas.concat instead.\n",
      "  totalDf = totalDf.append(json_normalize(body), ignore_index=True)\n"
     ]
    },
    {
     "name": "stdout",
     "output_type": "stream",
     "text": [
      "363001\n"
     ]
    },
    {
     "name": "stderr",
     "output_type": "stream",
     "text": [
      "C:\\Users\\ohy\\AppData\\Local\\Temp\\ipykernel_17400\\3983351454.py:33: FutureWarning: pandas.io.json.json_normalize is deprecated, use pandas.json_normalize instead.\n",
      "  totalDf = totalDf.append(json_normalize(body), ignore_index=True)\n",
      "C:\\Users\\ohy\\AppData\\Local\\Temp\\ipykernel_17400\\3983351454.py:33: FutureWarning: The frame.append method is deprecated and will be removed from pandas in a future version. Use pandas.concat instead.\n",
      "  totalDf = totalDf.append(json_normalize(body), ignore_index=True)\n"
     ]
    },
    {
     "name": "stdout",
     "output_type": "stream",
     "text": [
      "364001\n"
     ]
    },
    {
     "name": "stderr",
     "output_type": "stream",
     "text": [
      "C:\\Users\\ohy\\AppData\\Local\\Temp\\ipykernel_17400\\3983351454.py:33: FutureWarning: pandas.io.json.json_normalize is deprecated, use pandas.json_normalize instead.\n",
      "  totalDf = totalDf.append(json_normalize(body), ignore_index=True)\n",
      "C:\\Users\\ohy\\AppData\\Local\\Temp\\ipykernel_17400\\3983351454.py:33: FutureWarning: The frame.append method is deprecated and will be removed from pandas in a future version. Use pandas.concat instead.\n",
      "  totalDf = totalDf.append(json_normalize(body), ignore_index=True)\n"
     ]
    },
    {
     "name": "stdout",
     "output_type": "stream",
     "text": [
      "365001\n"
     ]
    },
    {
     "name": "stderr",
     "output_type": "stream",
     "text": [
      "C:\\Users\\ohy\\AppData\\Local\\Temp\\ipykernel_17400\\3983351454.py:33: FutureWarning: pandas.io.json.json_normalize is deprecated, use pandas.json_normalize instead.\n",
      "  totalDf = totalDf.append(json_normalize(body), ignore_index=True)\n",
      "C:\\Users\\ohy\\AppData\\Local\\Temp\\ipykernel_17400\\3983351454.py:33: FutureWarning: The frame.append method is deprecated and will be removed from pandas in a future version. Use pandas.concat instead.\n",
      "  totalDf = totalDf.append(json_normalize(body), ignore_index=True)\n"
     ]
    },
    {
     "name": "stdout",
     "output_type": "stream",
     "text": [
      "366001\n"
     ]
    },
    {
     "name": "stderr",
     "output_type": "stream",
     "text": [
      "C:\\Users\\ohy\\AppData\\Local\\Temp\\ipykernel_17400\\3983351454.py:33: FutureWarning: pandas.io.json.json_normalize is deprecated, use pandas.json_normalize instead.\n",
      "  totalDf = totalDf.append(json_normalize(body), ignore_index=True)\n",
      "C:\\Users\\ohy\\AppData\\Local\\Temp\\ipykernel_17400\\3983351454.py:33: FutureWarning: The frame.append method is deprecated and will be removed from pandas in a future version. Use pandas.concat instead.\n",
      "  totalDf = totalDf.append(json_normalize(body), ignore_index=True)\n"
     ]
    },
    {
     "name": "stdout",
     "output_type": "stream",
     "text": [
      "367001\n"
     ]
    },
    {
     "name": "stderr",
     "output_type": "stream",
     "text": [
      "C:\\Users\\ohy\\AppData\\Local\\Temp\\ipykernel_17400\\3983351454.py:33: FutureWarning: pandas.io.json.json_normalize is deprecated, use pandas.json_normalize instead.\n",
      "  totalDf = totalDf.append(json_normalize(body), ignore_index=True)\n",
      "C:\\Users\\ohy\\AppData\\Local\\Temp\\ipykernel_17400\\3983351454.py:33: FutureWarning: The frame.append method is deprecated and will be removed from pandas in a future version. Use pandas.concat instead.\n",
      "  totalDf = totalDf.append(json_normalize(body), ignore_index=True)\n"
     ]
    },
    {
     "name": "stdout",
     "output_type": "stream",
     "text": [
      "368001\n"
     ]
    },
    {
     "name": "stderr",
     "output_type": "stream",
     "text": [
      "C:\\Users\\ohy\\AppData\\Local\\Temp\\ipykernel_17400\\3983351454.py:33: FutureWarning: pandas.io.json.json_normalize is deprecated, use pandas.json_normalize instead.\n",
      "  totalDf = totalDf.append(json_normalize(body), ignore_index=True)\n",
      "C:\\Users\\ohy\\AppData\\Local\\Temp\\ipykernel_17400\\3983351454.py:33: FutureWarning: The frame.append method is deprecated and will be removed from pandas in a future version. Use pandas.concat instead.\n",
      "  totalDf = totalDf.append(json_normalize(body), ignore_index=True)\n"
     ]
    },
    {
     "name": "stdout",
     "output_type": "stream",
     "text": [
      "369001\n"
     ]
    },
    {
     "name": "stderr",
     "output_type": "stream",
     "text": [
      "C:\\Users\\ohy\\AppData\\Local\\Temp\\ipykernel_17400\\3983351454.py:33: FutureWarning: pandas.io.json.json_normalize is deprecated, use pandas.json_normalize instead.\n",
      "  totalDf = totalDf.append(json_normalize(body), ignore_index=True)\n",
      "C:\\Users\\ohy\\AppData\\Local\\Temp\\ipykernel_17400\\3983351454.py:33: FutureWarning: The frame.append method is deprecated and will be removed from pandas in a future version. Use pandas.concat instead.\n",
      "  totalDf = totalDf.append(json_normalize(body), ignore_index=True)\n"
     ]
    },
    {
     "name": "stdout",
     "output_type": "stream",
     "text": [
      "370001\n"
     ]
    },
    {
     "name": "stderr",
     "output_type": "stream",
     "text": [
      "C:\\Users\\ohy\\AppData\\Local\\Temp\\ipykernel_17400\\3983351454.py:33: FutureWarning: pandas.io.json.json_normalize is deprecated, use pandas.json_normalize instead.\n",
      "  totalDf = totalDf.append(json_normalize(body), ignore_index=True)\n",
      "C:\\Users\\ohy\\AppData\\Local\\Temp\\ipykernel_17400\\3983351454.py:33: FutureWarning: The frame.append method is deprecated and will be removed from pandas in a future version. Use pandas.concat instead.\n",
      "  totalDf = totalDf.append(json_normalize(body), ignore_index=True)\n"
     ]
    },
    {
     "name": "stdout",
     "output_type": "stream",
     "text": [
      "371001\n"
     ]
    },
    {
     "name": "stderr",
     "output_type": "stream",
     "text": [
      "C:\\Users\\ohy\\AppData\\Local\\Temp\\ipykernel_17400\\3983351454.py:33: FutureWarning: pandas.io.json.json_normalize is deprecated, use pandas.json_normalize instead.\n",
      "  totalDf = totalDf.append(json_normalize(body), ignore_index=True)\n",
      "C:\\Users\\ohy\\AppData\\Local\\Temp\\ipykernel_17400\\3983351454.py:33: FutureWarning: The frame.append method is deprecated and will be removed from pandas in a future version. Use pandas.concat instead.\n",
      "  totalDf = totalDf.append(json_normalize(body), ignore_index=True)\n"
     ]
    },
    {
     "name": "stdout",
     "output_type": "stream",
     "text": [
      "372001\n"
     ]
    },
    {
     "name": "stderr",
     "output_type": "stream",
     "text": [
      "C:\\Users\\ohy\\AppData\\Local\\Temp\\ipykernel_17400\\3983351454.py:33: FutureWarning: pandas.io.json.json_normalize is deprecated, use pandas.json_normalize instead.\n",
      "  totalDf = totalDf.append(json_normalize(body), ignore_index=True)\n",
      "C:\\Users\\ohy\\AppData\\Local\\Temp\\ipykernel_17400\\3983351454.py:33: FutureWarning: The frame.append method is deprecated and will be removed from pandas in a future version. Use pandas.concat instead.\n",
      "  totalDf = totalDf.append(json_normalize(body), ignore_index=True)\n"
     ]
    },
    {
     "name": "stdout",
     "output_type": "stream",
     "text": [
      "373001\n"
     ]
    },
    {
     "name": "stderr",
     "output_type": "stream",
     "text": [
      "C:\\Users\\ohy\\AppData\\Local\\Temp\\ipykernel_17400\\3983351454.py:33: FutureWarning: pandas.io.json.json_normalize is deprecated, use pandas.json_normalize instead.\n",
      "  totalDf = totalDf.append(json_normalize(body), ignore_index=True)\n",
      "C:\\Users\\ohy\\AppData\\Local\\Temp\\ipykernel_17400\\3983351454.py:33: FutureWarning: The frame.append method is deprecated and will be removed from pandas in a future version. Use pandas.concat instead.\n",
      "  totalDf = totalDf.append(json_normalize(body), ignore_index=True)\n"
     ]
    },
    {
     "name": "stdout",
     "output_type": "stream",
     "text": [
      "374001\n"
     ]
    },
    {
     "name": "stderr",
     "output_type": "stream",
     "text": [
      "C:\\Users\\ohy\\AppData\\Local\\Temp\\ipykernel_17400\\3983351454.py:33: FutureWarning: pandas.io.json.json_normalize is deprecated, use pandas.json_normalize instead.\n",
      "  totalDf = totalDf.append(json_normalize(body), ignore_index=True)\n",
      "C:\\Users\\ohy\\AppData\\Local\\Temp\\ipykernel_17400\\3983351454.py:33: FutureWarning: The frame.append method is deprecated and will be removed from pandas in a future version. Use pandas.concat instead.\n",
      "  totalDf = totalDf.append(json_normalize(body), ignore_index=True)\n"
     ]
    },
    {
     "name": "stdout",
     "output_type": "stream",
     "text": [
      "375001\n"
     ]
    },
    {
     "name": "stderr",
     "output_type": "stream",
     "text": [
      "C:\\Users\\ohy\\AppData\\Local\\Temp\\ipykernel_17400\\3983351454.py:33: FutureWarning: pandas.io.json.json_normalize is deprecated, use pandas.json_normalize instead.\n",
      "  totalDf = totalDf.append(json_normalize(body), ignore_index=True)\n",
      "C:\\Users\\ohy\\AppData\\Local\\Temp\\ipykernel_17400\\3983351454.py:33: FutureWarning: The frame.append method is deprecated and will be removed from pandas in a future version. Use pandas.concat instead.\n",
      "  totalDf = totalDf.append(json_normalize(body), ignore_index=True)\n"
     ]
    },
    {
     "name": "stdout",
     "output_type": "stream",
     "text": [
      "376001\n"
     ]
    },
    {
     "name": "stderr",
     "output_type": "stream",
     "text": [
      "C:\\Users\\ohy\\AppData\\Local\\Temp\\ipykernel_17400\\3983351454.py:33: FutureWarning: pandas.io.json.json_normalize is deprecated, use pandas.json_normalize instead.\n",
      "  totalDf = totalDf.append(json_normalize(body), ignore_index=True)\n",
      "C:\\Users\\ohy\\AppData\\Local\\Temp\\ipykernel_17400\\3983351454.py:33: FutureWarning: The frame.append method is deprecated and will be removed from pandas in a future version. Use pandas.concat instead.\n",
      "  totalDf = totalDf.append(json_normalize(body), ignore_index=True)\n"
     ]
    },
    {
     "name": "stdout",
     "output_type": "stream",
     "text": [
      "377001\n"
     ]
    },
    {
     "name": "stderr",
     "output_type": "stream",
     "text": [
      "C:\\Users\\ohy\\AppData\\Local\\Temp\\ipykernel_17400\\3983351454.py:33: FutureWarning: pandas.io.json.json_normalize is deprecated, use pandas.json_normalize instead.\n",
      "  totalDf = totalDf.append(json_normalize(body), ignore_index=True)\n",
      "C:\\Users\\ohy\\AppData\\Local\\Temp\\ipykernel_17400\\3983351454.py:33: FutureWarning: The frame.append method is deprecated and will be removed from pandas in a future version. Use pandas.concat instead.\n",
      "  totalDf = totalDf.append(json_normalize(body), ignore_index=True)\n"
     ]
    },
    {
     "name": "stdout",
     "output_type": "stream",
     "text": [
      "378001\n"
     ]
    },
    {
     "name": "stderr",
     "output_type": "stream",
     "text": [
      "C:\\Users\\ohy\\AppData\\Local\\Temp\\ipykernel_17400\\3983351454.py:33: FutureWarning: pandas.io.json.json_normalize is deprecated, use pandas.json_normalize instead.\n",
      "  totalDf = totalDf.append(json_normalize(body), ignore_index=True)\n",
      "C:\\Users\\ohy\\AppData\\Local\\Temp\\ipykernel_17400\\3983351454.py:33: FutureWarning: The frame.append method is deprecated and will be removed from pandas in a future version. Use pandas.concat instead.\n",
      "  totalDf = totalDf.append(json_normalize(body), ignore_index=True)\n"
     ]
    },
    {
     "name": "stdout",
     "output_type": "stream",
     "text": [
      "379001\n"
     ]
    },
    {
     "name": "stderr",
     "output_type": "stream",
     "text": [
      "C:\\Users\\ohy\\AppData\\Local\\Temp\\ipykernel_17400\\3983351454.py:33: FutureWarning: pandas.io.json.json_normalize is deprecated, use pandas.json_normalize instead.\n",
      "  totalDf = totalDf.append(json_normalize(body), ignore_index=True)\n",
      "C:\\Users\\ohy\\AppData\\Local\\Temp\\ipykernel_17400\\3983351454.py:33: FutureWarning: The frame.append method is deprecated and will be removed from pandas in a future version. Use pandas.concat instead.\n",
      "  totalDf = totalDf.append(json_normalize(body), ignore_index=True)\n"
     ]
    },
    {
     "name": "stdout",
     "output_type": "stream",
     "text": [
      "380001\n"
     ]
    },
    {
     "name": "stderr",
     "output_type": "stream",
     "text": [
      "C:\\Users\\ohy\\AppData\\Local\\Temp\\ipykernel_17400\\3983351454.py:33: FutureWarning: pandas.io.json.json_normalize is deprecated, use pandas.json_normalize instead.\n",
      "  totalDf = totalDf.append(json_normalize(body), ignore_index=True)\n",
      "C:\\Users\\ohy\\AppData\\Local\\Temp\\ipykernel_17400\\3983351454.py:33: FutureWarning: The frame.append method is deprecated and will be removed from pandas in a future version. Use pandas.concat instead.\n",
      "  totalDf = totalDf.append(json_normalize(body), ignore_index=True)\n"
     ]
    },
    {
     "name": "stdout",
     "output_type": "stream",
     "text": [
      "381001\n"
     ]
    },
    {
     "name": "stderr",
     "output_type": "stream",
     "text": [
      "C:\\Users\\ohy\\AppData\\Local\\Temp\\ipykernel_17400\\3983351454.py:33: FutureWarning: pandas.io.json.json_normalize is deprecated, use pandas.json_normalize instead.\n",
      "  totalDf = totalDf.append(json_normalize(body), ignore_index=True)\n",
      "C:\\Users\\ohy\\AppData\\Local\\Temp\\ipykernel_17400\\3983351454.py:33: FutureWarning: The frame.append method is deprecated and will be removed from pandas in a future version. Use pandas.concat instead.\n",
      "  totalDf = totalDf.append(json_normalize(body), ignore_index=True)\n"
     ]
    },
    {
     "name": "stdout",
     "output_type": "stream",
     "text": [
      "382001\n"
     ]
    },
    {
     "name": "stderr",
     "output_type": "stream",
     "text": [
      "C:\\Users\\ohy\\AppData\\Local\\Temp\\ipykernel_17400\\3983351454.py:33: FutureWarning: pandas.io.json.json_normalize is deprecated, use pandas.json_normalize instead.\n",
      "  totalDf = totalDf.append(json_normalize(body), ignore_index=True)\n",
      "C:\\Users\\ohy\\AppData\\Local\\Temp\\ipykernel_17400\\3983351454.py:33: FutureWarning: The frame.append method is deprecated and will be removed from pandas in a future version. Use pandas.concat instead.\n",
      "  totalDf = totalDf.append(json_normalize(body), ignore_index=True)\n"
     ]
    },
    {
     "name": "stdout",
     "output_type": "stream",
     "text": [
      "383001\n"
     ]
    },
    {
     "name": "stderr",
     "output_type": "stream",
     "text": [
      "C:\\Users\\ohy\\AppData\\Local\\Temp\\ipykernel_17400\\3983351454.py:33: FutureWarning: pandas.io.json.json_normalize is deprecated, use pandas.json_normalize instead.\n",
      "  totalDf = totalDf.append(json_normalize(body), ignore_index=True)\n",
      "C:\\Users\\ohy\\AppData\\Local\\Temp\\ipykernel_17400\\3983351454.py:33: FutureWarning: The frame.append method is deprecated and will be removed from pandas in a future version. Use pandas.concat instead.\n",
      "  totalDf = totalDf.append(json_normalize(body), ignore_index=True)\n"
     ]
    },
    {
     "name": "stdout",
     "output_type": "stream",
     "text": [
      "384001\n"
     ]
    },
    {
     "name": "stderr",
     "output_type": "stream",
     "text": [
      "C:\\Users\\ohy\\AppData\\Local\\Temp\\ipykernel_17400\\3983351454.py:33: FutureWarning: pandas.io.json.json_normalize is deprecated, use pandas.json_normalize instead.\n",
      "  totalDf = totalDf.append(json_normalize(body), ignore_index=True)\n",
      "C:\\Users\\ohy\\AppData\\Local\\Temp\\ipykernel_17400\\3983351454.py:33: FutureWarning: The frame.append method is deprecated and will be removed from pandas in a future version. Use pandas.concat instead.\n",
      "  totalDf = totalDf.append(json_normalize(body), ignore_index=True)\n"
     ]
    },
    {
     "name": "stdout",
     "output_type": "stream",
     "text": [
      "385001\n"
     ]
    },
    {
     "name": "stderr",
     "output_type": "stream",
     "text": [
      "C:\\Users\\ohy\\AppData\\Local\\Temp\\ipykernel_17400\\3983351454.py:33: FutureWarning: pandas.io.json.json_normalize is deprecated, use pandas.json_normalize instead.\n",
      "  totalDf = totalDf.append(json_normalize(body), ignore_index=True)\n",
      "C:\\Users\\ohy\\AppData\\Local\\Temp\\ipykernel_17400\\3983351454.py:33: FutureWarning: The frame.append method is deprecated and will be removed from pandas in a future version. Use pandas.concat instead.\n",
      "  totalDf = totalDf.append(json_normalize(body), ignore_index=True)\n"
     ]
    },
    {
     "name": "stdout",
     "output_type": "stream",
     "text": [
      "386001\n"
     ]
    },
    {
     "name": "stderr",
     "output_type": "stream",
     "text": [
      "C:\\Users\\ohy\\AppData\\Local\\Temp\\ipykernel_17400\\3983351454.py:33: FutureWarning: pandas.io.json.json_normalize is deprecated, use pandas.json_normalize instead.\n",
      "  totalDf = totalDf.append(json_normalize(body), ignore_index=True)\n",
      "C:\\Users\\ohy\\AppData\\Local\\Temp\\ipykernel_17400\\3983351454.py:33: FutureWarning: The frame.append method is deprecated and will be removed from pandas in a future version. Use pandas.concat instead.\n",
      "  totalDf = totalDf.append(json_normalize(body), ignore_index=True)\n"
     ]
    },
    {
     "name": "stdout",
     "output_type": "stream",
     "text": [
      "387001\n"
     ]
    },
    {
     "name": "stderr",
     "output_type": "stream",
     "text": [
      "C:\\Users\\ohy\\AppData\\Local\\Temp\\ipykernel_17400\\3983351454.py:33: FutureWarning: pandas.io.json.json_normalize is deprecated, use pandas.json_normalize instead.\n",
      "  totalDf = totalDf.append(json_normalize(body), ignore_index=True)\n",
      "C:\\Users\\ohy\\AppData\\Local\\Temp\\ipykernel_17400\\3983351454.py:33: FutureWarning: The frame.append method is deprecated and will be removed from pandas in a future version. Use pandas.concat instead.\n",
      "  totalDf = totalDf.append(json_normalize(body), ignore_index=True)\n"
     ]
    },
    {
     "name": "stdout",
     "output_type": "stream",
     "text": [
      "388001\n"
     ]
    },
    {
     "name": "stderr",
     "output_type": "stream",
     "text": [
      "C:\\Users\\ohy\\AppData\\Local\\Temp\\ipykernel_17400\\3983351454.py:33: FutureWarning: pandas.io.json.json_normalize is deprecated, use pandas.json_normalize instead.\n",
      "  totalDf = totalDf.append(json_normalize(body), ignore_index=True)\n",
      "C:\\Users\\ohy\\AppData\\Local\\Temp\\ipykernel_17400\\3983351454.py:33: FutureWarning: The frame.append method is deprecated and will be removed from pandas in a future version. Use pandas.concat instead.\n",
      "  totalDf = totalDf.append(json_normalize(body), ignore_index=True)\n"
     ]
    },
    {
     "name": "stdout",
     "output_type": "stream",
     "text": [
      "389001\n"
     ]
    },
    {
     "name": "stderr",
     "output_type": "stream",
     "text": [
      "C:\\Users\\ohy\\AppData\\Local\\Temp\\ipykernel_17400\\3983351454.py:33: FutureWarning: pandas.io.json.json_normalize is deprecated, use pandas.json_normalize instead.\n",
      "  totalDf = totalDf.append(json_normalize(body), ignore_index=True)\n",
      "C:\\Users\\ohy\\AppData\\Local\\Temp\\ipykernel_17400\\3983351454.py:33: FutureWarning: The frame.append method is deprecated and will be removed from pandas in a future version. Use pandas.concat instead.\n",
      "  totalDf = totalDf.append(json_normalize(body), ignore_index=True)\n"
     ]
    },
    {
     "name": "stdout",
     "output_type": "stream",
     "text": [
      "390001\n"
     ]
    },
    {
     "name": "stderr",
     "output_type": "stream",
     "text": [
      "C:\\Users\\ohy\\AppData\\Local\\Temp\\ipykernel_17400\\3983351454.py:33: FutureWarning: pandas.io.json.json_normalize is deprecated, use pandas.json_normalize instead.\n",
      "  totalDf = totalDf.append(json_normalize(body), ignore_index=True)\n",
      "C:\\Users\\ohy\\AppData\\Local\\Temp\\ipykernel_17400\\3983351454.py:33: FutureWarning: The frame.append method is deprecated and will be removed from pandas in a future version. Use pandas.concat instead.\n",
      "  totalDf = totalDf.append(json_normalize(body), ignore_index=True)\n"
     ]
    },
    {
     "name": "stdout",
     "output_type": "stream",
     "text": [
      "391001\n"
     ]
    },
    {
     "name": "stderr",
     "output_type": "stream",
     "text": [
      "C:\\Users\\ohy\\AppData\\Local\\Temp\\ipykernel_17400\\3983351454.py:33: FutureWarning: pandas.io.json.json_normalize is deprecated, use pandas.json_normalize instead.\n",
      "  totalDf = totalDf.append(json_normalize(body), ignore_index=True)\n",
      "C:\\Users\\ohy\\AppData\\Local\\Temp\\ipykernel_17400\\3983351454.py:33: FutureWarning: The frame.append method is deprecated and will be removed from pandas in a future version. Use pandas.concat instead.\n",
      "  totalDf = totalDf.append(json_normalize(body), ignore_index=True)\n"
     ]
    },
    {
     "name": "stdout",
     "output_type": "stream",
     "text": [
      "392001\n"
     ]
    },
    {
     "name": "stderr",
     "output_type": "stream",
     "text": [
      "C:\\Users\\ohy\\AppData\\Local\\Temp\\ipykernel_17400\\3983351454.py:33: FutureWarning: pandas.io.json.json_normalize is deprecated, use pandas.json_normalize instead.\n",
      "  totalDf = totalDf.append(json_normalize(body), ignore_index=True)\n",
      "C:\\Users\\ohy\\AppData\\Local\\Temp\\ipykernel_17400\\3983351454.py:33: FutureWarning: The frame.append method is deprecated and will be removed from pandas in a future version. Use pandas.concat instead.\n",
      "  totalDf = totalDf.append(json_normalize(body), ignore_index=True)\n"
     ]
    },
    {
     "name": "stdout",
     "output_type": "stream",
     "text": [
      "393001\n"
     ]
    },
    {
     "name": "stderr",
     "output_type": "stream",
     "text": [
      "C:\\Users\\ohy\\AppData\\Local\\Temp\\ipykernel_17400\\3983351454.py:33: FutureWarning: pandas.io.json.json_normalize is deprecated, use pandas.json_normalize instead.\n",
      "  totalDf = totalDf.append(json_normalize(body), ignore_index=True)\n",
      "C:\\Users\\ohy\\AppData\\Local\\Temp\\ipykernel_17400\\3983351454.py:33: FutureWarning: The frame.append method is deprecated and will be removed from pandas in a future version. Use pandas.concat instead.\n",
      "  totalDf = totalDf.append(json_normalize(body), ignore_index=True)\n"
     ]
    },
    {
     "name": "stdout",
     "output_type": "stream",
     "text": [
      "394001\n"
     ]
    },
    {
     "name": "stderr",
     "output_type": "stream",
     "text": [
      "C:\\Users\\ohy\\AppData\\Local\\Temp\\ipykernel_17400\\3983351454.py:33: FutureWarning: pandas.io.json.json_normalize is deprecated, use pandas.json_normalize instead.\n",
      "  totalDf = totalDf.append(json_normalize(body), ignore_index=True)\n",
      "C:\\Users\\ohy\\AppData\\Local\\Temp\\ipykernel_17400\\3983351454.py:33: FutureWarning: The frame.append method is deprecated and will be removed from pandas in a future version. Use pandas.concat instead.\n",
      "  totalDf = totalDf.append(json_normalize(body), ignore_index=True)\n"
     ]
    },
    {
     "name": "stdout",
     "output_type": "stream",
     "text": [
      "395001\n"
     ]
    },
    {
     "name": "stderr",
     "output_type": "stream",
     "text": [
      "C:\\Users\\ohy\\AppData\\Local\\Temp\\ipykernel_17400\\3983351454.py:33: FutureWarning: pandas.io.json.json_normalize is deprecated, use pandas.json_normalize instead.\n",
      "  totalDf = totalDf.append(json_normalize(body), ignore_index=True)\n",
      "C:\\Users\\ohy\\AppData\\Local\\Temp\\ipykernel_17400\\3983351454.py:33: FutureWarning: The frame.append method is deprecated and will be removed from pandas in a future version. Use pandas.concat instead.\n",
      "  totalDf = totalDf.append(json_normalize(body), ignore_index=True)\n"
     ]
    },
    {
     "name": "stdout",
     "output_type": "stream",
     "text": [
      "396001\n"
     ]
    },
    {
     "name": "stderr",
     "output_type": "stream",
     "text": [
      "C:\\Users\\ohy\\AppData\\Local\\Temp\\ipykernel_17400\\3983351454.py:33: FutureWarning: pandas.io.json.json_normalize is deprecated, use pandas.json_normalize instead.\n",
      "  totalDf = totalDf.append(json_normalize(body), ignore_index=True)\n",
      "C:\\Users\\ohy\\AppData\\Local\\Temp\\ipykernel_17400\\3983351454.py:33: FutureWarning: The frame.append method is deprecated and will be removed from pandas in a future version. Use pandas.concat instead.\n",
      "  totalDf = totalDf.append(json_normalize(body), ignore_index=True)\n"
     ]
    },
    {
     "name": "stdout",
     "output_type": "stream",
     "text": [
      "397001\n"
     ]
    },
    {
     "name": "stderr",
     "output_type": "stream",
     "text": [
      "C:\\Users\\ohy\\AppData\\Local\\Temp\\ipykernel_17400\\3983351454.py:33: FutureWarning: pandas.io.json.json_normalize is deprecated, use pandas.json_normalize instead.\n",
      "  totalDf = totalDf.append(json_normalize(body), ignore_index=True)\n",
      "C:\\Users\\ohy\\AppData\\Local\\Temp\\ipykernel_17400\\3983351454.py:33: FutureWarning: The frame.append method is deprecated and will be removed from pandas in a future version. Use pandas.concat instead.\n",
      "  totalDf = totalDf.append(json_normalize(body), ignore_index=True)\n"
     ]
    },
    {
     "name": "stdout",
     "output_type": "stream",
     "text": [
      "398001\n"
     ]
    },
    {
     "name": "stderr",
     "output_type": "stream",
     "text": [
      "C:\\Users\\ohy\\AppData\\Local\\Temp\\ipykernel_17400\\3983351454.py:33: FutureWarning: pandas.io.json.json_normalize is deprecated, use pandas.json_normalize instead.\n",
      "  totalDf = totalDf.append(json_normalize(body), ignore_index=True)\n",
      "C:\\Users\\ohy\\AppData\\Local\\Temp\\ipykernel_17400\\3983351454.py:33: FutureWarning: The frame.append method is deprecated and will be removed from pandas in a future version. Use pandas.concat instead.\n",
      "  totalDf = totalDf.append(json_normalize(body), ignore_index=True)\n"
     ]
    },
    {
     "name": "stdout",
     "output_type": "stream",
     "text": [
      "399001\n"
     ]
    },
    {
     "name": "stderr",
     "output_type": "stream",
     "text": [
      "C:\\Users\\ohy\\AppData\\Local\\Temp\\ipykernel_17400\\3983351454.py:33: FutureWarning: pandas.io.json.json_normalize is deprecated, use pandas.json_normalize instead.\n",
      "  totalDf = totalDf.append(json_normalize(body), ignore_index=True)\n",
      "C:\\Users\\ohy\\AppData\\Local\\Temp\\ipykernel_17400\\3983351454.py:33: FutureWarning: The frame.append method is deprecated and will be removed from pandas in a future version. Use pandas.concat instead.\n",
      "  totalDf = totalDf.append(json_normalize(body), ignore_index=True)\n"
     ]
    },
    {
     "name": "stdout",
     "output_type": "stream",
     "text": [
      "400001\n"
     ]
    },
    {
     "name": "stderr",
     "output_type": "stream",
     "text": [
      "C:\\Users\\ohy\\AppData\\Local\\Temp\\ipykernel_17400\\3983351454.py:33: FutureWarning: pandas.io.json.json_normalize is deprecated, use pandas.json_normalize instead.\n",
      "  totalDf = totalDf.append(json_normalize(body), ignore_index=True)\n",
      "C:\\Users\\ohy\\AppData\\Local\\Temp\\ipykernel_17400\\3983351454.py:33: FutureWarning: The frame.append method is deprecated and will be removed from pandas in a future version. Use pandas.concat instead.\n",
      "  totalDf = totalDf.append(json_normalize(body), ignore_index=True)\n"
     ]
    },
    {
     "name": "stdout",
     "output_type": "stream",
     "text": [
      "401001\n"
     ]
    },
    {
     "name": "stderr",
     "output_type": "stream",
     "text": [
      "C:\\Users\\ohy\\AppData\\Local\\Temp\\ipykernel_17400\\3983351454.py:33: FutureWarning: pandas.io.json.json_normalize is deprecated, use pandas.json_normalize instead.\n",
      "  totalDf = totalDf.append(json_normalize(body), ignore_index=True)\n",
      "C:\\Users\\ohy\\AppData\\Local\\Temp\\ipykernel_17400\\3983351454.py:33: FutureWarning: The frame.append method is deprecated and will be removed from pandas in a future version. Use pandas.concat instead.\n",
      "  totalDf = totalDf.append(json_normalize(body), ignore_index=True)\n"
     ]
    },
    {
     "name": "stdout",
     "output_type": "stream",
     "text": [
      "402001\n"
     ]
    },
    {
     "name": "stderr",
     "output_type": "stream",
     "text": [
      "C:\\Users\\ohy\\AppData\\Local\\Temp\\ipykernel_17400\\3983351454.py:33: FutureWarning: pandas.io.json.json_normalize is deprecated, use pandas.json_normalize instead.\n",
      "  totalDf = totalDf.append(json_normalize(body), ignore_index=True)\n",
      "C:\\Users\\ohy\\AppData\\Local\\Temp\\ipykernel_17400\\3983351454.py:33: FutureWarning: The frame.append method is deprecated and will be removed from pandas in a future version. Use pandas.concat instead.\n",
      "  totalDf = totalDf.append(json_normalize(body), ignore_index=True)\n"
     ]
    },
    {
     "name": "stdout",
     "output_type": "stream",
     "text": [
      "403001\n"
     ]
    },
    {
     "name": "stderr",
     "output_type": "stream",
     "text": [
      "C:\\Users\\ohy\\AppData\\Local\\Temp\\ipykernel_17400\\3983351454.py:33: FutureWarning: pandas.io.json.json_normalize is deprecated, use pandas.json_normalize instead.\n",
      "  totalDf = totalDf.append(json_normalize(body), ignore_index=True)\n",
      "C:\\Users\\ohy\\AppData\\Local\\Temp\\ipykernel_17400\\3983351454.py:33: FutureWarning: The frame.append method is deprecated and will be removed from pandas in a future version. Use pandas.concat instead.\n",
      "  totalDf = totalDf.append(json_normalize(body), ignore_index=True)\n"
     ]
    },
    {
     "name": "stdout",
     "output_type": "stream",
     "text": [
      "404001\n"
     ]
    },
    {
     "name": "stderr",
     "output_type": "stream",
     "text": [
      "C:\\Users\\ohy\\AppData\\Local\\Temp\\ipykernel_17400\\3983351454.py:33: FutureWarning: pandas.io.json.json_normalize is deprecated, use pandas.json_normalize instead.\n",
      "  totalDf = totalDf.append(json_normalize(body), ignore_index=True)\n",
      "C:\\Users\\ohy\\AppData\\Local\\Temp\\ipykernel_17400\\3983351454.py:33: FutureWarning: The frame.append method is deprecated and will be removed from pandas in a future version. Use pandas.concat instead.\n",
      "  totalDf = totalDf.append(json_normalize(body), ignore_index=True)\n"
     ]
    },
    {
     "name": "stdout",
     "output_type": "stream",
     "text": [
      "405001\n"
     ]
    },
    {
     "name": "stderr",
     "output_type": "stream",
     "text": [
      "C:\\Users\\ohy\\AppData\\Local\\Temp\\ipykernel_17400\\3983351454.py:33: FutureWarning: pandas.io.json.json_normalize is deprecated, use pandas.json_normalize instead.\n",
      "  totalDf = totalDf.append(json_normalize(body), ignore_index=True)\n",
      "C:\\Users\\ohy\\AppData\\Local\\Temp\\ipykernel_17400\\3983351454.py:33: FutureWarning: The frame.append method is deprecated and will be removed from pandas in a future version. Use pandas.concat instead.\n",
      "  totalDf = totalDf.append(json_normalize(body), ignore_index=True)\n"
     ]
    },
    {
     "name": "stdout",
     "output_type": "stream",
     "text": [
      "406001\n"
     ]
    },
    {
     "name": "stderr",
     "output_type": "stream",
     "text": [
      "C:\\Users\\ohy\\AppData\\Local\\Temp\\ipykernel_17400\\3983351454.py:33: FutureWarning: pandas.io.json.json_normalize is deprecated, use pandas.json_normalize instead.\n",
      "  totalDf = totalDf.append(json_normalize(body), ignore_index=True)\n",
      "C:\\Users\\ohy\\AppData\\Local\\Temp\\ipykernel_17400\\3983351454.py:33: FutureWarning: The frame.append method is deprecated and will be removed from pandas in a future version. Use pandas.concat instead.\n",
      "  totalDf = totalDf.append(json_normalize(body), ignore_index=True)\n"
     ]
    },
    {
     "name": "stdout",
     "output_type": "stream",
     "text": [
      "407001\n"
     ]
    },
    {
     "name": "stderr",
     "output_type": "stream",
     "text": [
      "C:\\Users\\ohy\\AppData\\Local\\Temp\\ipykernel_17400\\3983351454.py:33: FutureWarning: pandas.io.json.json_normalize is deprecated, use pandas.json_normalize instead.\n",
      "  totalDf = totalDf.append(json_normalize(body), ignore_index=True)\n",
      "C:\\Users\\ohy\\AppData\\Local\\Temp\\ipykernel_17400\\3983351454.py:33: FutureWarning: The frame.append method is deprecated and will be removed from pandas in a future version. Use pandas.concat instead.\n",
      "  totalDf = totalDf.append(json_normalize(body), ignore_index=True)\n"
     ]
    },
    {
     "name": "stdout",
     "output_type": "stream",
     "text": [
      "408001\n"
     ]
    },
    {
     "name": "stderr",
     "output_type": "stream",
     "text": [
      "C:\\Users\\ohy\\AppData\\Local\\Temp\\ipykernel_17400\\3983351454.py:33: FutureWarning: pandas.io.json.json_normalize is deprecated, use pandas.json_normalize instead.\n",
      "  totalDf = totalDf.append(json_normalize(body), ignore_index=True)\n",
      "C:\\Users\\ohy\\AppData\\Local\\Temp\\ipykernel_17400\\3983351454.py:33: FutureWarning: The frame.append method is deprecated and will be removed from pandas in a future version. Use pandas.concat instead.\n",
      "  totalDf = totalDf.append(json_normalize(body), ignore_index=True)\n"
     ]
    },
    {
     "name": "stdout",
     "output_type": "stream",
     "text": [
      "409001\n"
     ]
    },
    {
     "name": "stderr",
     "output_type": "stream",
     "text": [
      "C:\\Users\\ohy\\AppData\\Local\\Temp\\ipykernel_17400\\3983351454.py:33: FutureWarning: pandas.io.json.json_normalize is deprecated, use pandas.json_normalize instead.\n",
      "  totalDf = totalDf.append(json_normalize(body), ignore_index=True)\n",
      "C:\\Users\\ohy\\AppData\\Local\\Temp\\ipykernel_17400\\3983351454.py:33: FutureWarning: The frame.append method is deprecated and will be removed from pandas in a future version. Use pandas.concat instead.\n",
      "  totalDf = totalDf.append(json_normalize(body), ignore_index=True)\n"
     ]
    },
    {
     "name": "stdout",
     "output_type": "stream",
     "text": [
      "410001\n"
     ]
    },
    {
     "name": "stderr",
     "output_type": "stream",
     "text": [
      "C:\\Users\\ohy\\AppData\\Local\\Temp\\ipykernel_17400\\3983351454.py:33: FutureWarning: pandas.io.json.json_normalize is deprecated, use pandas.json_normalize instead.\n",
      "  totalDf = totalDf.append(json_normalize(body), ignore_index=True)\n",
      "C:\\Users\\ohy\\AppData\\Local\\Temp\\ipykernel_17400\\3983351454.py:33: FutureWarning: The frame.append method is deprecated and will be removed from pandas in a future version. Use pandas.concat instead.\n",
      "  totalDf = totalDf.append(json_normalize(body), ignore_index=True)\n"
     ]
    },
    {
     "name": "stdout",
     "output_type": "stream",
     "text": [
      "411001\n"
     ]
    },
    {
     "name": "stderr",
     "output_type": "stream",
     "text": [
      "C:\\Users\\ohy\\AppData\\Local\\Temp\\ipykernel_17400\\3983351454.py:33: FutureWarning: pandas.io.json.json_normalize is deprecated, use pandas.json_normalize instead.\n",
      "  totalDf = totalDf.append(json_normalize(body), ignore_index=True)\n",
      "C:\\Users\\ohy\\AppData\\Local\\Temp\\ipykernel_17400\\3983351454.py:33: FutureWarning: The frame.append method is deprecated and will be removed from pandas in a future version. Use pandas.concat instead.\n",
      "  totalDf = totalDf.append(json_normalize(body), ignore_index=True)\n"
     ]
    },
    {
     "name": "stdout",
     "output_type": "stream",
     "text": [
      "412001\n"
     ]
    },
    {
     "name": "stderr",
     "output_type": "stream",
     "text": [
      "C:\\Users\\ohy\\AppData\\Local\\Temp\\ipykernel_17400\\3983351454.py:33: FutureWarning: pandas.io.json.json_normalize is deprecated, use pandas.json_normalize instead.\n",
      "  totalDf = totalDf.append(json_normalize(body), ignore_index=True)\n",
      "C:\\Users\\ohy\\AppData\\Local\\Temp\\ipykernel_17400\\3983351454.py:33: FutureWarning: The frame.append method is deprecated and will be removed from pandas in a future version. Use pandas.concat instead.\n",
      "  totalDf = totalDf.append(json_normalize(body), ignore_index=True)\n"
     ]
    },
    {
     "name": "stdout",
     "output_type": "stream",
     "text": [
      "413001\n"
     ]
    },
    {
     "name": "stderr",
     "output_type": "stream",
     "text": [
      "C:\\Users\\ohy\\AppData\\Local\\Temp\\ipykernel_17400\\3983351454.py:33: FutureWarning: pandas.io.json.json_normalize is deprecated, use pandas.json_normalize instead.\n",
      "  totalDf = totalDf.append(json_normalize(body), ignore_index=True)\n",
      "C:\\Users\\ohy\\AppData\\Local\\Temp\\ipykernel_17400\\3983351454.py:33: FutureWarning: The frame.append method is deprecated and will be removed from pandas in a future version. Use pandas.concat instead.\n",
      "  totalDf = totalDf.append(json_normalize(body), ignore_index=True)\n"
     ]
    },
    {
     "name": "stdout",
     "output_type": "stream",
     "text": [
      "414001\n"
     ]
    },
    {
     "name": "stderr",
     "output_type": "stream",
     "text": [
      "C:\\Users\\ohy\\AppData\\Local\\Temp\\ipykernel_17400\\3983351454.py:33: FutureWarning: pandas.io.json.json_normalize is deprecated, use pandas.json_normalize instead.\n",
      "  totalDf = totalDf.append(json_normalize(body), ignore_index=True)\n",
      "C:\\Users\\ohy\\AppData\\Local\\Temp\\ipykernel_17400\\3983351454.py:33: FutureWarning: The frame.append method is deprecated and will be removed from pandas in a future version. Use pandas.concat instead.\n",
      "  totalDf = totalDf.append(json_normalize(body), ignore_index=True)\n"
     ]
    },
    {
     "name": "stdout",
     "output_type": "stream",
     "text": [
      "415001\n"
     ]
    },
    {
     "name": "stderr",
     "output_type": "stream",
     "text": [
      "C:\\Users\\ohy\\AppData\\Local\\Temp\\ipykernel_17400\\3983351454.py:33: FutureWarning: pandas.io.json.json_normalize is deprecated, use pandas.json_normalize instead.\n",
      "  totalDf = totalDf.append(json_normalize(body), ignore_index=True)\n",
      "C:\\Users\\ohy\\AppData\\Local\\Temp\\ipykernel_17400\\3983351454.py:33: FutureWarning: The frame.append method is deprecated and will be removed from pandas in a future version. Use pandas.concat instead.\n",
      "  totalDf = totalDf.append(json_normalize(body), ignore_index=True)\n"
     ]
    },
    {
     "name": "stdout",
     "output_type": "stream",
     "text": [
      "416001\n"
     ]
    },
    {
     "name": "stderr",
     "output_type": "stream",
     "text": [
      "C:\\Users\\ohy\\AppData\\Local\\Temp\\ipykernel_17400\\3983351454.py:33: FutureWarning: pandas.io.json.json_normalize is deprecated, use pandas.json_normalize instead.\n",
      "  totalDf = totalDf.append(json_normalize(body), ignore_index=True)\n",
      "C:\\Users\\ohy\\AppData\\Local\\Temp\\ipykernel_17400\\3983351454.py:33: FutureWarning: The frame.append method is deprecated and will be removed from pandas in a future version. Use pandas.concat instead.\n",
      "  totalDf = totalDf.append(json_normalize(body), ignore_index=True)\n"
     ]
    },
    {
     "name": "stdout",
     "output_type": "stream",
     "text": [
      "417001\n"
     ]
    },
    {
     "name": "stderr",
     "output_type": "stream",
     "text": [
      "C:\\Users\\ohy\\AppData\\Local\\Temp\\ipykernel_17400\\3983351454.py:33: FutureWarning: pandas.io.json.json_normalize is deprecated, use pandas.json_normalize instead.\n",
      "  totalDf = totalDf.append(json_normalize(body), ignore_index=True)\n",
      "C:\\Users\\ohy\\AppData\\Local\\Temp\\ipykernel_17400\\3983351454.py:33: FutureWarning: The frame.append method is deprecated and will be removed from pandas in a future version. Use pandas.concat instead.\n",
      "  totalDf = totalDf.append(json_normalize(body), ignore_index=True)\n"
     ]
    },
    {
     "name": "stdout",
     "output_type": "stream",
     "text": [
      "418001\n"
     ]
    },
    {
     "name": "stderr",
     "output_type": "stream",
     "text": [
      "C:\\Users\\ohy\\AppData\\Local\\Temp\\ipykernel_17400\\3983351454.py:33: FutureWarning: pandas.io.json.json_normalize is deprecated, use pandas.json_normalize instead.\n",
      "  totalDf = totalDf.append(json_normalize(body), ignore_index=True)\n",
      "C:\\Users\\ohy\\AppData\\Local\\Temp\\ipykernel_17400\\3983351454.py:33: FutureWarning: The frame.append method is deprecated and will be removed from pandas in a future version. Use pandas.concat instead.\n",
      "  totalDf = totalDf.append(json_normalize(body), ignore_index=True)\n"
     ]
    },
    {
     "name": "stdout",
     "output_type": "stream",
     "text": [
      "419001\n"
     ]
    },
    {
     "name": "stderr",
     "output_type": "stream",
     "text": [
      "C:\\Users\\ohy\\AppData\\Local\\Temp\\ipykernel_17400\\3983351454.py:33: FutureWarning: pandas.io.json.json_normalize is deprecated, use pandas.json_normalize instead.\n",
      "  totalDf = totalDf.append(json_normalize(body), ignore_index=True)\n",
      "C:\\Users\\ohy\\AppData\\Local\\Temp\\ipykernel_17400\\3983351454.py:33: FutureWarning: The frame.append method is deprecated and will be removed from pandas in a future version. Use pandas.concat instead.\n",
      "  totalDf = totalDf.append(json_normalize(body), ignore_index=True)\n"
     ]
    },
    {
     "name": "stdout",
     "output_type": "stream",
     "text": [
      "420001\n"
     ]
    },
    {
     "name": "stderr",
     "output_type": "stream",
     "text": [
      "C:\\Users\\ohy\\AppData\\Local\\Temp\\ipykernel_17400\\3983351454.py:33: FutureWarning: pandas.io.json.json_normalize is deprecated, use pandas.json_normalize instead.\n",
      "  totalDf = totalDf.append(json_normalize(body), ignore_index=True)\n",
      "C:\\Users\\ohy\\AppData\\Local\\Temp\\ipykernel_17400\\3983351454.py:33: FutureWarning: The frame.append method is deprecated and will be removed from pandas in a future version. Use pandas.concat instead.\n",
      "  totalDf = totalDf.append(json_normalize(body), ignore_index=True)\n"
     ]
    },
    {
     "name": "stdout",
     "output_type": "stream",
     "text": [
      "421001\n"
     ]
    },
    {
     "name": "stderr",
     "output_type": "stream",
     "text": [
      "C:\\Users\\ohy\\AppData\\Local\\Temp\\ipykernel_17400\\3983351454.py:33: FutureWarning: pandas.io.json.json_normalize is deprecated, use pandas.json_normalize instead.\n",
      "  totalDf = totalDf.append(json_normalize(body), ignore_index=True)\n",
      "C:\\Users\\ohy\\AppData\\Local\\Temp\\ipykernel_17400\\3983351454.py:33: FutureWarning: The frame.append method is deprecated and will be removed from pandas in a future version. Use pandas.concat instead.\n",
      "  totalDf = totalDf.append(json_normalize(body), ignore_index=True)\n"
     ]
    },
    {
     "name": "stdout",
     "output_type": "stream",
     "text": [
      "422001\n"
     ]
    },
    {
     "name": "stderr",
     "output_type": "stream",
     "text": [
      "C:\\Users\\ohy\\AppData\\Local\\Temp\\ipykernel_17400\\3983351454.py:33: FutureWarning: pandas.io.json.json_normalize is deprecated, use pandas.json_normalize instead.\n",
      "  totalDf = totalDf.append(json_normalize(body), ignore_index=True)\n",
      "C:\\Users\\ohy\\AppData\\Local\\Temp\\ipykernel_17400\\3983351454.py:33: FutureWarning: The frame.append method is deprecated and will be removed from pandas in a future version. Use pandas.concat instead.\n",
      "  totalDf = totalDf.append(json_normalize(body), ignore_index=True)\n"
     ]
    },
    {
     "name": "stdout",
     "output_type": "stream",
     "text": [
      "423001\n"
     ]
    },
    {
     "name": "stderr",
     "output_type": "stream",
     "text": [
      "C:\\Users\\ohy\\AppData\\Local\\Temp\\ipykernel_17400\\3983351454.py:33: FutureWarning: pandas.io.json.json_normalize is deprecated, use pandas.json_normalize instead.\n",
      "  totalDf = totalDf.append(json_normalize(body), ignore_index=True)\n",
      "C:\\Users\\ohy\\AppData\\Local\\Temp\\ipykernel_17400\\3983351454.py:33: FutureWarning: The frame.append method is deprecated and will be removed from pandas in a future version. Use pandas.concat instead.\n",
      "  totalDf = totalDf.append(json_normalize(body), ignore_index=True)\n"
     ]
    },
    {
     "name": "stdout",
     "output_type": "stream",
     "text": [
      "424001\n"
     ]
    },
    {
     "name": "stderr",
     "output_type": "stream",
     "text": [
      "C:\\Users\\ohy\\AppData\\Local\\Temp\\ipykernel_17400\\3983351454.py:33: FutureWarning: pandas.io.json.json_normalize is deprecated, use pandas.json_normalize instead.\n",
      "  totalDf = totalDf.append(json_normalize(body), ignore_index=True)\n",
      "C:\\Users\\ohy\\AppData\\Local\\Temp\\ipykernel_17400\\3983351454.py:33: FutureWarning: The frame.append method is deprecated and will be removed from pandas in a future version. Use pandas.concat instead.\n",
      "  totalDf = totalDf.append(json_normalize(body), ignore_index=True)\n"
     ]
    },
    {
     "name": "stdout",
     "output_type": "stream",
     "text": [
      "425001\n"
     ]
    },
    {
     "name": "stderr",
     "output_type": "stream",
     "text": [
      "C:\\Users\\ohy\\AppData\\Local\\Temp\\ipykernel_17400\\3983351454.py:33: FutureWarning: pandas.io.json.json_normalize is deprecated, use pandas.json_normalize instead.\n",
      "  totalDf = totalDf.append(json_normalize(body), ignore_index=True)\n",
      "C:\\Users\\ohy\\AppData\\Local\\Temp\\ipykernel_17400\\3983351454.py:33: FutureWarning: The frame.append method is deprecated and will be removed from pandas in a future version. Use pandas.concat instead.\n",
      "  totalDf = totalDf.append(json_normalize(body), ignore_index=True)\n"
     ]
    },
    {
     "name": "stdout",
     "output_type": "stream",
     "text": [
      "426001\n"
     ]
    },
    {
     "name": "stderr",
     "output_type": "stream",
     "text": [
      "C:\\Users\\ohy\\AppData\\Local\\Temp\\ipykernel_17400\\3983351454.py:33: FutureWarning: pandas.io.json.json_normalize is deprecated, use pandas.json_normalize instead.\n",
      "  totalDf = totalDf.append(json_normalize(body), ignore_index=True)\n",
      "C:\\Users\\ohy\\AppData\\Local\\Temp\\ipykernel_17400\\3983351454.py:33: FutureWarning: The frame.append method is deprecated and will be removed from pandas in a future version. Use pandas.concat instead.\n",
      "  totalDf = totalDf.append(json_normalize(body), ignore_index=True)\n"
     ]
    },
    {
     "name": "stdout",
     "output_type": "stream",
     "text": [
      "427001\n"
     ]
    },
    {
     "name": "stderr",
     "output_type": "stream",
     "text": [
      "C:\\Users\\ohy\\AppData\\Local\\Temp\\ipykernel_17400\\3983351454.py:33: FutureWarning: pandas.io.json.json_normalize is deprecated, use pandas.json_normalize instead.\n",
      "  totalDf = totalDf.append(json_normalize(body), ignore_index=True)\n",
      "C:\\Users\\ohy\\AppData\\Local\\Temp\\ipykernel_17400\\3983351454.py:33: FutureWarning: The frame.append method is deprecated and will be removed from pandas in a future version. Use pandas.concat instead.\n",
      "  totalDf = totalDf.append(json_normalize(body), ignore_index=True)\n"
     ]
    },
    {
     "name": "stdout",
     "output_type": "stream",
     "text": [
      "428001\n"
     ]
    },
    {
     "name": "stderr",
     "output_type": "stream",
     "text": [
      "C:\\Users\\ohy\\AppData\\Local\\Temp\\ipykernel_17400\\3983351454.py:33: FutureWarning: pandas.io.json.json_normalize is deprecated, use pandas.json_normalize instead.\n",
      "  totalDf = totalDf.append(json_normalize(body), ignore_index=True)\n",
      "C:\\Users\\ohy\\AppData\\Local\\Temp\\ipykernel_17400\\3983351454.py:33: FutureWarning: The frame.append method is deprecated and will be removed from pandas in a future version. Use pandas.concat instead.\n",
      "  totalDf = totalDf.append(json_normalize(body), ignore_index=True)\n"
     ]
    },
    {
     "name": "stdout",
     "output_type": "stream",
     "text": [
      "429001\n"
     ]
    },
    {
     "name": "stderr",
     "output_type": "stream",
     "text": [
      "C:\\Users\\ohy\\AppData\\Local\\Temp\\ipykernel_17400\\3983351454.py:33: FutureWarning: pandas.io.json.json_normalize is deprecated, use pandas.json_normalize instead.\n",
      "  totalDf = totalDf.append(json_normalize(body), ignore_index=True)\n",
      "C:\\Users\\ohy\\AppData\\Local\\Temp\\ipykernel_17400\\3983351454.py:33: FutureWarning: The frame.append method is deprecated and will be removed from pandas in a future version. Use pandas.concat instead.\n",
      "  totalDf = totalDf.append(json_normalize(body), ignore_index=True)\n"
     ]
    },
    {
     "name": "stdout",
     "output_type": "stream",
     "text": [
      "430001\n"
     ]
    },
    {
     "name": "stderr",
     "output_type": "stream",
     "text": [
      "C:\\Users\\ohy\\AppData\\Local\\Temp\\ipykernel_17400\\3983351454.py:33: FutureWarning: pandas.io.json.json_normalize is deprecated, use pandas.json_normalize instead.\n",
      "  totalDf = totalDf.append(json_normalize(body), ignore_index=True)\n",
      "C:\\Users\\ohy\\AppData\\Local\\Temp\\ipykernel_17400\\3983351454.py:33: FutureWarning: The frame.append method is deprecated and will be removed from pandas in a future version. Use pandas.concat instead.\n",
      "  totalDf = totalDf.append(json_normalize(body), ignore_index=True)\n"
     ]
    },
    {
     "name": "stdout",
     "output_type": "stream",
     "text": [
      "431001\n"
     ]
    },
    {
     "name": "stderr",
     "output_type": "stream",
     "text": [
      "C:\\Users\\ohy\\AppData\\Local\\Temp\\ipykernel_17400\\3983351454.py:33: FutureWarning: pandas.io.json.json_normalize is deprecated, use pandas.json_normalize instead.\n",
      "  totalDf = totalDf.append(json_normalize(body), ignore_index=True)\n",
      "C:\\Users\\ohy\\AppData\\Local\\Temp\\ipykernel_17400\\3983351454.py:33: FutureWarning: The frame.append method is deprecated and will be removed from pandas in a future version. Use pandas.concat instead.\n",
      "  totalDf = totalDf.append(json_normalize(body), ignore_index=True)\n"
     ]
    },
    {
     "name": "stdout",
     "output_type": "stream",
     "text": [
      "432001\n"
     ]
    },
    {
     "name": "stderr",
     "output_type": "stream",
     "text": [
      "C:\\Users\\ohy\\AppData\\Local\\Temp\\ipykernel_17400\\3983351454.py:33: FutureWarning: pandas.io.json.json_normalize is deprecated, use pandas.json_normalize instead.\n",
      "  totalDf = totalDf.append(json_normalize(body), ignore_index=True)\n",
      "C:\\Users\\ohy\\AppData\\Local\\Temp\\ipykernel_17400\\3983351454.py:33: FutureWarning: The frame.append method is deprecated and will be removed from pandas in a future version. Use pandas.concat instead.\n",
      "  totalDf = totalDf.append(json_normalize(body), ignore_index=True)\n"
     ]
    },
    {
     "name": "stdout",
     "output_type": "stream",
     "text": [
      "433001\n"
     ]
    },
    {
     "name": "stderr",
     "output_type": "stream",
     "text": [
      "C:\\Users\\ohy\\AppData\\Local\\Temp\\ipykernel_17400\\3983351454.py:33: FutureWarning: pandas.io.json.json_normalize is deprecated, use pandas.json_normalize instead.\n",
      "  totalDf = totalDf.append(json_normalize(body), ignore_index=True)\n",
      "C:\\Users\\ohy\\AppData\\Local\\Temp\\ipykernel_17400\\3983351454.py:33: FutureWarning: The frame.append method is deprecated and will be removed from pandas in a future version. Use pandas.concat instead.\n",
      "  totalDf = totalDf.append(json_normalize(body), ignore_index=True)\n"
     ]
    },
    {
     "name": "stdout",
     "output_type": "stream",
     "text": [
      "434001\n"
     ]
    },
    {
     "name": "stderr",
     "output_type": "stream",
     "text": [
      "C:\\Users\\ohy\\AppData\\Local\\Temp\\ipykernel_17400\\3983351454.py:33: FutureWarning: pandas.io.json.json_normalize is deprecated, use pandas.json_normalize instead.\n",
      "  totalDf = totalDf.append(json_normalize(body), ignore_index=True)\n",
      "C:\\Users\\ohy\\AppData\\Local\\Temp\\ipykernel_17400\\3983351454.py:33: FutureWarning: The frame.append method is deprecated and will be removed from pandas in a future version. Use pandas.concat instead.\n",
      "  totalDf = totalDf.append(json_normalize(body), ignore_index=True)\n"
     ]
    },
    {
     "name": "stdout",
     "output_type": "stream",
     "text": [
      "435001\n"
     ]
    },
    {
     "name": "stderr",
     "output_type": "stream",
     "text": [
      "C:\\Users\\ohy\\AppData\\Local\\Temp\\ipykernel_17400\\3983351454.py:33: FutureWarning: pandas.io.json.json_normalize is deprecated, use pandas.json_normalize instead.\n",
      "  totalDf = totalDf.append(json_normalize(body), ignore_index=True)\n",
      "C:\\Users\\ohy\\AppData\\Local\\Temp\\ipykernel_17400\\3983351454.py:33: FutureWarning: The frame.append method is deprecated and will be removed from pandas in a future version. Use pandas.concat instead.\n",
      "  totalDf = totalDf.append(json_normalize(body), ignore_index=True)\n"
     ]
    },
    {
     "name": "stdout",
     "output_type": "stream",
     "text": [
      "436001\n"
     ]
    },
    {
     "name": "stderr",
     "output_type": "stream",
     "text": [
      "C:\\Users\\ohy\\AppData\\Local\\Temp\\ipykernel_17400\\3983351454.py:33: FutureWarning: pandas.io.json.json_normalize is deprecated, use pandas.json_normalize instead.\n",
      "  totalDf = totalDf.append(json_normalize(body), ignore_index=True)\n",
      "C:\\Users\\ohy\\AppData\\Local\\Temp\\ipykernel_17400\\3983351454.py:33: FutureWarning: The frame.append method is deprecated and will be removed from pandas in a future version. Use pandas.concat instead.\n",
      "  totalDf = totalDf.append(json_normalize(body), ignore_index=True)\n"
     ]
    },
    {
     "name": "stdout",
     "output_type": "stream",
     "text": [
      "437001\n"
     ]
    },
    {
     "name": "stderr",
     "output_type": "stream",
     "text": [
      "C:\\Users\\ohy\\AppData\\Local\\Temp\\ipykernel_17400\\3983351454.py:33: FutureWarning: pandas.io.json.json_normalize is deprecated, use pandas.json_normalize instead.\n",
      "  totalDf = totalDf.append(json_normalize(body), ignore_index=True)\n",
      "C:\\Users\\ohy\\AppData\\Local\\Temp\\ipykernel_17400\\3983351454.py:33: FutureWarning: The frame.append method is deprecated and will be removed from pandas in a future version. Use pandas.concat instead.\n",
      "  totalDf = totalDf.append(json_normalize(body), ignore_index=True)\n"
     ]
    },
    {
     "name": "stdout",
     "output_type": "stream",
     "text": [
      "438001\n"
     ]
    },
    {
     "name": "stderr",
     "output_type": "stream",
     "text": [
      "C:\\Users\\ohy\\AppData\\Local\\Temp\\ipykernel_17400\\3983351454.py:33: FutureWarning: pandas.io.json.json_normalize is deprecated, use pandas.json_normalize instead.\n",
      "  totalDf = totalDf.append(json_normalize(body), ignore_index=True)\n",
      "C:\\Users\\ohy\\AppData\\Local\\Temp\\ipykernel_17400\\3983351454.py:33: FutureWarning: The frame.append method is deprecated and will be removed from pandas in a future version. Use pandas.concat instead.\n",
      "  totalDf = totalDf.append(json_normalize(body), ignore_index=True)\n"
     ]
    },
    {
     "name": "stdout",
     "output_type": "stream",
     "text": [
      "439001\n"
     ]
    },
    {
     "name": "stderr",
     "output_type": "stream",
     "text": [
      "C:\\Users\\ohy\\AppData\\Local\\Temp\\ipykernel_17400\\3983351454.py:33: FutureWarning: pandas.io.json.json_normalize is deprecated, use pandas.json_normalize instead.\n",
      "  totalDf = totalDf.append(json_normalize(body), ignore_index=True)\n",
      "C:\\Users\\ohy\\AppData\\Local\\Temp\\ipykernel_17400\\3983351454.py:33: FutureWarning: The frame.append method is deprecated and will be removed from pandas in a future version. Use pandas.concat instead.\n",
      "  totalDf = totalDf.append(json_normalize(body), ignore_index=True)\n"
     ]
    },
    {
     "name": "stdout",
     "output_type": "stream",
     "text": [
      "440001\n"
     ]
    },
    {
     "name": "stderr",
     "output_type": "stream",
     "text": [
      "C:\\Users\\ohy\\AppData\\Local\\Temp\\ipykernel_17400\\3983351454.py:33: FutureWarning: pandas.io.json.json_normalize is deprecated, use pandas.json_normalize instead.\n",
      "  totalDf = totalDf.append(json_normalize(body), ignore_index=True)\n",
      "C:\\Users\\ohy\\AppData\\Local\\Temp\\ipykernel_17400\\3983351454.py:33: FutureWarning: The frame.append method is deprecated and will be removed from pandas in a future version. Use pandas.concat instead.\n",
      "  totalDf = totalDf.append(json_normalize(body), ignore_index=True)\n"
     ]
    },
    {
     "name": "stdout",
     "output_type": "stream",
     "text": [
      "441001\n"
     ]
    },
    {
     "name": "stderr",
     "output_type": "stream",
     "text": [
      "C:\\Users\\ohy\\AppData\\Local\\Temp\\ipykernel_17400\\3983351454.py:33: FutureWarning: pandas.io.json.json_normalize is deprecated, use pandas.json_normalize instead.\n",
      "  totalDf = totalDf.append(json_normalize(body), ignore_index=True)\n",
      "C:\\Users\\ohy\\AppData\\Local\\Temp\\ipykernel_17400\\3983351454.py:33: FutureWarning: The frame.append method is deprecated and will be removed from pandas in a future version. Use pandas.concat instead.\n",
      "  totalDf = totalDf.append(json_normalize(body), ignore_index=True)\n"
     ]
    },
    {
     "name": "stdout",
     "output_type": "stream",
     "text": [
      "442001\n"
     ]
    },
    {
     "name": "stderr",
     "output_type": "stream",
     "text": [
      "C:\\Users\\ohy\\AppData\\Local\\Temp\\ipykernel_17400\\3983351454.py:33: FutureWarning: pandas.io.json.json_normalize is deprecated, use pandas.json_normalize instead.\n",
      "  totalDf = totalDf.append(json_normalize(body), ignore_index=True)\n",
      "C:\\Users\\ohy\\AppData\\Local\\Temp\\ipykernel_17400\\3983351454.py:33: FutureWarning: The frame.append method is deprecated and will be removed from pandas in a future version. Use pandas.concat instead.\n",
      "  totalDf = totalDf.append(json_normalize(body), ignore_index=True)\n"
     ]
    },
    {
     "name": "stdout",
     "output_type": "stream",
     "text": [
      "443001\n"
     ]
    },
    {
     "name": "stderr",
     "output_type": "stream",
     "text": [
      "C:\\Users\\ohy\\AppData\\Local\\Temp\\ipykernel_17400\\3983351454.py:33: FutureWarning: pandas.io.json.json_normalize is deprecated, use pandas.json_normalize instead.\n",
      "  totalDf = totalDf.append(json_normalize(body), ignore_index=True)\n",
      "C:\\Users\\ohy\\AppData\\Local\\Temp\\ipykernel_17400\\3983351454.py:33: FutureWarning: The frame.append method is deprecated and will be removed from pandas in a future version. Use pandas.concat instead.\n",
      "  totalDf = totalDf.append(json_normalize(body), ignore_index=True)\n"
     ]
    },
    {
     "name": "stdout",
     "output_type": "stream",
     "text": [
      "444001\n"
     ]
    },
    {
     "name": "stderr",
     "output_type": "stream",
     "text": [
      "C:\\Users\\ohy\\AppData\\Local\\Temp\\ipykernel_17400\\3983351454.py:33: FutureWarning: pandas.io.json.json_normalize is deprecated, use pandas.json_normalize instead.\n",
      "  totalDf = totalDf.append(json_normalize(body), ignore_index=True)\n",
      "C:\\Users\\ohy\\AppData\\Local\\Temp\\ipykernel_17400\\3983351454.py:33: FutureWarning: The frame.append method is deprecated and will be removed from pandas in a future version. Use pandas.concat instead.\n",
      "  totalDf = totalDf.append(json_normalize(body), ignore_index=True)\n"
     ]
    },
    {
     "name": "stdout",
     "output_type": "stream",
     "text": [
      "445001\n"
     ]
    },
    {
     "name": "stderr",
     "output_type": "stream",
     "text": [
      "C:\\Users\\ohy\\AppData\\Local\\Temp\\ipykernel_17400\\3983351454.py:33: FutureWarning: pandas.io.json.json_normalize is deprecated, use pandas.json_normalize instead.\n",
      "  totalDf = totalDf.append(json_normalize(body), ignore_index=True)\n",
      "C:\\Users\\ohy\\AppData\\Local\\Temp\\ipykernel_17400\\3983351454.py:33: FutureWarning: The frame.append method is deprecated and will be removed from pandas in a future version. Use pandas.concat instead.\n",
      "  totalDf = totalDf.append(json_normalize(body), ignore_index=True)\n"
     ]
    },
    {
     "name": "stdout",
     "output_type": "stream",
     "text": [
      "446001\n"
     ]
    },
    {
     "name": "stderr",
     "output_type": "stream",
     "text": [
      "C:\\Users\\ohy\\AppData\\Local\\Temp\\ipykernel_17400\\3983351454.py:33: FutureWarning: pandas.io.json.json_normalize is deprecated, use pandas.json_normalize instead.\n",
      "  totalDf = totalDf.append(json_normalize(body), ignore_index=True)\n",
      "C:\\Users\\ohy\\AppData\\Local\\Temp\\ipykernel_17400\\3983351454.py:33: FutureWarning: The frame.append method is deprecated and will be removed from pandas in a future version. Use pandas.concat instead.\n",
      "  totalDf = totalDf.append(json_normalize(body), ignore_index=True)\n"
     ]
    },
    {
     "name": "stdout",
     "output_type": "stream",
     "text": [
      "447001\n"
     ]
    },
    {
     "name": "stderr",
     "output_type": "stream",
     "text": [
      "C:\\Users\\ohy\\AppData\\Local\\Temp\\ipykernel_17400\\3983351454.py:33: FutureWarning: pandas.io.json.json_normalize is deprecated, use pandas.json_normalize instead.\n",
      "  totalDf = totalDf.append(json_normalize(body), ignore_index=True)\n",
      "C:\\Users\\ohy\\AppData\\Local\\Temp\\ipykernel_17400\\3983351454.py:33: FutureWarning: The frame.append method is deprecated and will be removed from pandas in a future version. Use pandas.concat instead.\n",
      "  totalDf = totalDf.append(json_normalize(body), ignore_index=True)\n"
     ]
    },
    {
     "name": "stdout",
     "output_type": "stream",
     "text": [
      "448001\n"
     ]
    },
    {
     "name": "stderr",
     "output_type": "stream",
     "text": [
      "C:\\Users\\ohy\\AppData\\Local\\Temp\\ipykernel_17400\\3983351454.py:33: FutureWarning: pandas.io.json.json_normalize is deprecated, use pandas.json_normalize instead.\n",
      "  totalDf = totalDf.append(json_normalize(body), ignore_index=True)\n",
      "C:\\Users\\ohy\\AppData\\Local\\Temp\\ipykernel_17400\\3983351454.py:33: FutureWarning: The frame.append method is deprecated and will be removed from pandas in a future version. Use pandas.concat instead.\n",
      "  totalDf = totalDf.append(json_normalize(body), ignore_index=True)\n"
     ]
    },
    {
     "name": "stdout",
     "output_type": "stream",
     "text": [
      "449001\n"
     ]
    },
    {
     "name": "stderr",
     "output_type": "stream",
     "text": [
      "C:\\Users\\ohy\\AppData\\Local\\Temp\\ipykernel_17400\\3983351454.py:33: FutureWarning: pandas.io.json.json_normalize is deprecated, use pandas.json_normalize instead.\n",
      "  totalDf = totalDf.append(json_normalize(body), ignore_index=True)\n",
      "C:\\Users\\ohy\\AppData\\Local\\Temp\\ipykernel_17400\\3983351454.py:33: FutureWarning: The frame.append method is deprecated and will be removed from pandas in a future version. Use pandas.concat instead.\n",
      "  totalDf = totalDf.append(json_normalize(body), ignore_index=True)\n"
     ]
    },
    {
     "name": "stdout",
     "output_type": "stream",
     "text": [
      "450001\n"
     ]
    },
    {
     "name": "stderr",
     "output_type": "stream",
     "text": [
      "C:\\Users\\ohy\\AppData\\Local\\Temp\\ipykernel_17400\\3983351454.py:33: FutureWarning: pandas.io.json.json_normalize is deprecated, use pandas.json_normalize instead.\n",
      "  totalDf = totalDf.append(json_normalize(body), ignore_index=True)\n",
      "C:\\Users\\ohy\\AppData\\Local\\Temp\\ipykernel_17400\\3983351454.py:33: FutureWarning: The frame.append method is deprecated and will be removed from pandas in a future version. Use pandas.concat instead.\n",
      "  totalDf = totalDf.append(json_normalize(body), ignore_index=True)\n"
     ]
    },
    {
     "name": "stdout",
     "output_type": "stream",
     "text": [
      "451001\n"
     ]
    },
    {
     "name": "stderr",
     "output_type": "stream",
     "text": [
      "C:\\Users\\ohy\\AppData\\Local\\Temp\\ipykernel_17400\\3983351454.py:33: FutureWarning: pandas.io.json.json_normalize is deprecated, use pandas.json_normalize instead.\n",
      "  totalDf = totalDf.append(json_normalize(body), ignore_index=True)\n",
      "C:\\Users\\ohy\\AppData\\Local\\Temp\\ipykernel_17400\\3983351454.py:33: FutureWarning: The frame.append method is deprecated and will be removed from pandas in a future version. Use pandas.concat instead.\n",
      "  totalDf = totalDf.append(json_normalize(body), ignore_index=True)\n"
     ]
    },
    {
     "name": "stdout",
     "output_type": "stream",
     "text": [
      "452001\n"
     ]
    },
    {
     "name": "stderr",
     "output_type": "stream",
     "text": [
      "C:\\Users\\ohy\\AppData\\Local\\Temp\\ipykernel_17400\\3983351454.py:33: FutureWarning: pandas.io.json.json_normalize is deprecated, use pandas.json_normalize instead.\n",
      "  totalDf = totalDf.append(json_normalize(body), ignore_index=True)\n",
      "C:\\Users\\ohy\\AppData\\Local\\Temp\\ipykernel_17400\\3983351454.py:33: FutureWarning: The frame.append method is deprecated and will be removed from pandas in a future version. Use pandas.concat instead.\n",
      "  totalDf = totalDf.append(json_normalize(body), ignore_index=True)\n"
     ]
    },
    {
     "name": "stdout",
     "output_type": "stream",
     "text": [
      "453001\n"
     ]
    },
    {
     "name": "stderr",
     "output_type": "stream",
     "text": [
      "C:\\Users\\ohy\\AppData\\Local\\Temp\\ipykernel_17400\\3983351454.py:33: FutureWarning: pandas.io.json.json_normalize is deprecated, use pandas.json_normalize instead.\n",
      "  totalDf = totalDf.append(json_normalize(body), ignore_index=True)\n",
      "C:\\Users\\ohy\\AppData\\Local\\Temp\\ipykernel_17400\\3983351454.py:33: FutureWarning: The frame.append method is deprecated and will be removed from pandas in a future version. Use pandas.concat instead.\n",
      "  totalDf = totalDf.append(json_normalize(body), ignore_index=True)\n"
     ]
    },
    {
     "name": "stdout",
     "output_type": "stream",
     "text": [
      "454001\n"
     ]
    },
    {
     "name": "stderr",
     "output_type": "stream",
     "text": [
      "C:\\Users\\ohy\\AppData\\Local\\Temp\\ipykernel_17400\\3983351454.py:33: FutureWarning: pandas.io.json.json_normalize is deprecated, use pandas.json_normalize instead.\n",
      "  totalDf = totalDf.append(json_normalize(body), ignore_index=True)\n",
      "C:\\Users\\ohy\\AppData\\Local\\Temp\\ipykernel_17400\\3983351454.py:33: FutureWarning: The frame.append method is deprecated and will be removed from pandas in a future version. Use pandas.concat instead.\n",
      "  totalDf = totalDf.append(json_normalize(body), ignore_index=True)\n"
     ]
    },
    {
     "name": "stdout",
     "output_type": "stream",
     "text": [
      "455001\n"
     ]
    },
    {
     "name": "stderr",
     "output_type": "stream",
     "text": [
      "C:\\Users\\ohy\\AppData\\Local\\Temp\\ipykernel_17400\\3983351454.py:33: FutureWarning: pandas.io.json.json_normalize is deprecated, use pandas.json_normalize instead.\n",
      "  totalDf = totalDf.append(json_normalize(body), ignore_index=True)\n",
      "C:\\Users\\ohy\\AppData\\Local\\Temp\\ipykernel_17400\\3983351454.py:33: FutureWarning: The frame.append method is deprecated and will be removed from pandas in a future version. Use pandas.concat instead.\n",
      "  totalDf = totalDf.append(json_normalize(body), ignore_index=True)\n"
     ]
    },
    {
     "name": "stdout",
     "output_type": "stream",
     "text": [
      "456001\n"
     ]
    },
    {
     "name": "stderr",
     "output_type": "stream",
     "text": [
      "C:\\Users\\ohy\\AppData\\Local\\Temp\\ipykernel_17400\\3983351454.py:33: FutureWarning: pandas.io.json.json_normalize is deprecated, use pandas.json_normalize instead.\n",
      "  totalDf = totalDf.append(json_normalize(body), ignore_index=True)\n",
      "C:\\Users\\ohy\\AppData\\Local\\Temp\\ipykernel_17400\\3983351454.py:33: FutureWarning: The frame.append method is deprecated and will be removed from pandas in a future version. Use pandas.concat instead.\n",
      "  totalDf = totalDf.append(json_normalize(body), ignore_index=True)\n"
     ]
    },
    {
     "name": "stdout",
     "output_type": "stream",
     "text": [
      "457001\n"
     ]
    },
    {
     "name": "stderr",
     "output_type": "stream",
     "text": [
      "C:\\Users\\ohy\\AppData\\Local\\Temp\\ipykernel_17400\\3983351454.py:33: FutureWarning: pandas.io.json.json_normalize is deprecated, use pandas.json_normalize instead.\n",
      "  totalDf = totalDf.append(json_normalize(body), ignore_index=True)\n",
      "C:\\Users\\ohy\\AppData\\Local\\Temp\\ipykernel_17400\\3983351454.py:33: FutureWarning: The frame.append method is deprecated and will be removed from pandas in a future version. Use pandas.concat instead.\n",
      "  totalDf = totalDf.append(json_normalize(body), ignore_index=True)\n"
     ]
    },
    {
     "name": "stdout",
     "output_type": "stream",
     "text": [
      "458001\n"
     ]
    },
    {
     "name": "stderr",
     "output_type": "stream",
     "text": [
      "C:\\Users\\ohy\\AppData\\Local\\Temp\\ipykernel_17400\\3983351454.py:33: FutureWarning: pandas.io.json.json_normalize is deprecated, use pandas.json_normalize instead.\n",
      "  totalDf = totalDf.append(json_normalize(body), ignore_index=True)\n",
      "C:\\Users\\ohy\\AppData\\Local\\Temp\\ipykernel_17400\\3983351454.py:33: FutureWarning: The frame.append method is deprecated and will be removed from pandas in a future version. Use pandas.concat instead.\n",
      "  totalDf = totalDf.append(json_normalize(body), ignore_index=True)\n"
     ]
    },
    {
     "name": "stdout",
     "output_type": "stream",
     "text": [
      "459001\n"
     ]
    },
    {
     "name": "stderr",
     "output_type": "stream",
     "text": [
      "C:\\Users\\ohy\\AppData\\Local\\Temp\\ipykernel_17400\\3983351454.py:33: FutureWarning: pandas.io.json.json_normalize is deprecated, use pandas.json_normalize instead.\n",
      "  totalDf = totalDf.append(json_normalize(body), ignore_index=True)\n",
      "C:\\Users\\ohy\\AppData\\Local\\Temp\\ipykernel_17400\\3983351454.py:33: FutureWarning: The frame.append method is deprecated and will be removed from pandas in a future version. Use pandas.concat instead.\n",
      "  totalDf = totalDf.append(json_normalize(body), ignore_index=True)\n"
     ]
    },
    {
     "name": "stdout",
     "output_type": "stream",
     "text": [
      "460001\n"
     ]
    },
    {
     "name": "stderr",
     "output_type": "stream",
     "text": [
      "C:\\Users\\ohy\\AppData\\Local\\Temp\\ipykernel_17400\\3983351454.py:33: FutureWarning: pandas.io.json.json_normalize is deprecated, use pandas.json_normalize instead.\n",
      "  totalDf = totalDf.append(json_normalize(body), ignore_index=True)\n",
      "C:\\Users\\ohy\\AppData\\Local\\Temp\\ipykernel_17400\\3983351454.py:33: FutureWarning: The frame.append method is deprecated and will be removed from pandas in a future version. Use pandas.concat instead.\n",
      "  totalDf = totalDf.append(json_normalize(body), ignore_index=True)\n"
     ]
    },
    {
     "name": "stdout",
     "output_type": "stream",
     "text": [
      "461001\n"
     ]
    },
    {
     "name": "stderr",
     "output_type": "stream",
     "text": [
      "C:\\Users\\ohy\\AppData\\Local\\Temp\\ipykernel_17400\\3983351454.py:33: FutureWarning: pandas.io.json.json_normalize is deprecated, use pandas.json_normalize instead.\n",
      "  totalDf = totalDf.append(json_normalize(body), ignore_index=True)\n",
      "C:\\Users\\ohy\\AppData\\Local\\Temp\\ipykernel_17400\\3983351454.py:33: FutureWarning: The frame.append method is deprecated and will be removed from pandas in a future version. Use pandas.concat instead.\n",
      "  totalDf = totalDf.append(json_normalize(body), ignore_index=True)\n"
     ]
    },
    {
     "name": "stdout",
     "output_type": "stream",
     "text": [
      "462001\n"
     ]
    },
    {
     "name": "stderr",
     "output_type": "stream",
     "text": [
      "C:\\Users\\ohy\\AppData\\Local\\Temp\\ipykernel_17400\\3983351454.py:33: FutureWarning: pandas.io.json.json_normalize is deprecated, use pandas.json_normalize instead.\n",
      "  totalDf = totalDf.append(json_normalize(body), ignore_index=True)\n",
      "C:\\Users\\ohy\\AppData\\Local\\Temp\\ipykernel_17400\\3983351454.py:33: FutureWarning: The frame.append method is deprecated and will be removed from pandas in a future version. Use pandas.concat instead.\n",
      "  totalDf = totalDf.append(json_normalize(body), ignore_index=True)\n"
     ]
    },
    {
     "name": "stdout",
     "output_type": "stream",
     "text": [
      "463001\n"
     ]
    },
    {
     "name": "stderr",
     "output_type": "stream",
     "text": [
      "C:\\Users\\ohy\\AppData\\Local\\Temp\\ipykernel_17400\\3983351454.py:33: FutureWarning: pandas.io.json.json_normalize is deprecated, use pandas.json_normalize instead.\n",
      "  totalDf = totalDf.append(json_normalize(body), ignore_index=True)\n",
      "C:\\Users\\ohy\\AppData\\Local\\Temp\\ipykernel_17400\\3983351454.py:33: FutureWarning: The frame.append method is deprecated and will be removed from pandas in a future version. Use pandas.concat instead.\n",
      "  totalDf = totalDf.append(json_normalize(body), ignore_index=True)\n"
     ]
    },
    {
     "name": "stdout",
     "output_type": "stream",
     "text": [
      "464001\n"
     ]
    },
    {
     "name": "stderr",
     "output_type": "stream",
     "text": [
      "C:\\Users\\ohy\\AppData\\Local\\Temp\\ipykernel_17400\\3983351454.py:33: FutureWarning: pandas.io.json.json_normalize is deprecated, use pandas.json_normalize instead.\n",
      "  totalDf = totalDf.append(json_normalize(body), ignore_index=True)\n",
      "C:\\Users\\ohy\\AppData\\Local\\Temp\\ipykernel_17400\\3983351454.py:33: FutureWarning: The frame.append method is deprecated and will be removed from pandas in a future version. Use pandas.concat instead.\n",
      "  totalDf = totalDf.append(json_normalize(body), ignore_index=True)\n"
     ]
    },
    {
     "name": "stdout",
     "output_type": "stream",
     "text": [
      "465001\n"
     ]
    },
    {
     "name": "stderr",
     "output_type": "stream",
     "text": [
      "C:\\Users\\ohy\\AppData\\Local\\Temp\\ipykernel_17400\\3983351454.py:33: FutureWarning: pandas.io.json.json_normalize is deprecated, use pandas.json_normalize instead.\n",
      "  totalDf = totalDf.append(json_normalize(body), ignore_index=True)\n",
      "C:\\Users\\ohy\\AppData\\Local\\Temp\\ipykernel_17400\\3983351454.py:33: FutureWarning: The frame.append method is deprecated and will be removed from pandas in a future version. Use pandas.concat instead.\n",
      "  totalDf = totalDf.append(json_normalize(body), ignore_index=True)\n"
     ]
    },
    {
     "name": "stdout",
     "output_type": "stream",
     "text": [
      "466001\n"
     ]
    },
    {
     "name": "stderr",
     "output_type": "stream",
     "text": [
      "C:\\Users\\ohy\\AppData\\Local\\Temp\\ipykernel_17400\\3983351454.py:33: FutureWarning: pandas.io.json.json_normalize is deprecated, use pandas.json_normalize instead.\n",
      "  totalDf = totalDf.append(json_normalize(body), ignore_index=True)\n",
      "C:\\Users\\ohy\\AppData\\Local\\Temp\\ipykernel_17400\\3983351454.py:33: FutureWarning: The frame.append method is deprecated and will be removed from pandas in a future version. Use pandas.concat instead.\n",
      "  totalDf = totalDf.append(json_normalize(body), ignore_index=True)\n"
     ]
    },
    {
     "name": "stdout",
     "output_type": "stream",
     "text": [
      "467001\n"
     ]
    },
    {
     "name": "stderr",
     "output_type": "stream",
     "text": [
      "C:\\Users\\ohy\\AppData\\Local\\Temp\\ipykernel_17400\\3983351454.py:33: FutureWarning: pandas.io.json.json_normalize is deprecated, use pandas.json_normalize instead.\n",
      "  totalDf = totalDf.append(json_normalize(body), ignore_index=True)\n",
      "C:\\Users\\ohy\\AppData\\Local\\Temp\\ipykernel_17400\\3983351454.py:33: FutureWarning: The frame.append method is deprecated and will be removed from pandas in a future version. Use pandas.concat instead.\n",
      "  totalDf = totalDf.append(json_normalize(body), ignore_index=True)\n"
     ]
    },
    {
     "name": "stdout",
     "output_type": "stream",
     "text": [
      "468001\n"
     ]
    },
    {
     "name": "stderr",
     "output_type": "stream",
     "text": [
      "C:\\Users\\ohy\\AppData\\Local\\Temp\\ipykernel_17400\\3983351454.py:33: FutureWarning: pandas.io.json.json_normalize is deprecated, use pandas.json_normalize instead.\n",
      "  totalDf = totalDf.append(json_normalize(body), ignore_index=True)\n",
      "C:\\Users\\ohy\\AppData\\Local\\Temp\\ipykernel_17400\\3983351454.py:33: FutureWarning: The frame.append method is deprecated and will be removed from pandas in a future version. Use pandas.concat instead.\n",
      "  totalDf = totalDf.append(json_normalize(body), ignore_index=True)\n"
     ]
    },
    {
     "name": "stdout",
     "output_type": "stream",
     "text": [
      "469001\n"
     ]
    },
    {
     "name": "stderr",
     "output_type": "stream",
     "text": [
      "C:\\Users\\ohy\\AppData\\Local\\Temp\\ipykernel_17400\\3983351454.py:33: FutureWarning: pandas.io.json.json_normalize is deprecated, use pandas.json_normalize instead.\n",
      "  totalDf = totalDf.append(json_normalize(body), ignore_index=True)\n",
      "C:\\Users\\ohy\\AppData\\Local\\Temp\\ipykernel_17400\\3983351454.py:33: FutureWarning: The frame.append method is deprecated and will be removed from pandas in a future version. Use pandas.concat instead.\n",
      "  totalDf = totalDf.append(json_normalize(body), ignore_index=True)\n"
     ]
    },
    {
     "name": "stdout",
     "output_type": "stream",
     "text": [
      "470001\n"
     ]
    },
    {
     "name": "stderr",
     "output_type": "stream",
     "text": [
      "C:\\Users\\ohy\\AppData\\Local\\Temp\\ipykernel_17400\\3983351454.py:33: FutureWarning: pandas.io.json.json_normalize is deprecated, use pandas.json_normalize instead.\n",
      "  totalDf = totalDf.append(json_normalize(body), ignore_index=True)\n",
      "C:\\Users\\ohy\\AppData\\Local\\Temp\\ipykernel_17400\\3983351454.py:33: FutureWarning: The frame.append method is deprecated and will be removed from pandas in a future version. Use pandas.concat instead.\n",
      "  totalDf = totalDf.append(json_normalize(body), ignore_index=True)\n"
     ]
    },
    {
     "name": "stdout",
     "output_type": "stream",
     "text": [
      "471001\n"
     ]
    },
    {
     "name": "stderr",
     "output_type": "stream",
     "text": [
      "C:\\Users\\ohy\\AppData\\Local\\Temp\\ipykernel_17400\\3983351454.py:33: FutureWarning: pandas.io.json.json_normalize is deprecated, use pandas.json_normalize instead.\n",
      "  totalDf = totalDf.append(json_normalize(body), ignore_index=True)\n",
      "C:\\Users\\ohy\\AppData\\Local\\Temp\\ipykernel_17400\\3983351454.py:33: FutureWarning: The frame.append method is deprecated and will be removed from pandas in a future version. Use pandas.concat instead.\n",
      "  totalDf = totalDf.append(json_normalize(body), ignore_index=True)\n"
     ]
    },
    {
     "name": "stdout",
     "output_type": "stream",
     "text": [
      "472001\n"
     ]
    },
    {
     "name": "stderr",
     "output_type": "stream",
     "text": [
      "C:\\Users\\ohy\\AppData\\Local\\Temp\\ipykernel_17400\\3983351454.py:33: FutureWarning: pandas.io.json.json_normalize is deprecated, use pandas.json_normalize instead.\n",
      "  totalDf = totalDf.append(json_normalize(body), ignore_index=True)\n",
      "C:\\Users\\ohy\\AppData\\Local\\Temp\\ipykernel_17400\\3983351454.py:33: FutureWarning: The frame.append method is deprecated and will be removed from pandas in a future version. Use pandas.concat instead.\n",
      "  totalDf = totalDf.append(json_normalize(body), ignore_index=True)\n"
     ]
    },
    {
     "name": "stdout",
     "output_type": "stream",
     "text": [
      "473001\n"
     ]
    },
    {
     "name": "stderr",
     "output_type": "stream",
     "text": [
      "C:\\Users\\ohy\\AppData\\Local\\Temp\\ipykernel_17400\\3983351454.py:33: FutureWarning: pandas.io.json.json_normalize is deprecated, use pandas.json_normalize instead.\n",
      "  totalDf = totalDf.append(json_normalize(body), ignore_index=True)\n",
      "C:\\Users\\ohy\\AppData\\Local\\Temp\\ipykernel_17400\\3983351454.py:33: FutureWarning: The frame.append method is deprecated and will be removed from pandas in a future version. Use pandas.concat instead.\n",
      "  totalDf = totalDf.append(json_normalize(body), ignore_index=True)\n"
     ]
    },
    {
     "name": "stdout",
     "output_type": "stream",
     "text": [
      "474001\n"
     ]
    },
    {
     "name": "stderr",
     "output_type": "stream",
     "text": [
      "C:\\Users\\ohy\\AppData\\Local\\Temp\\ipykernel_17400\\3983351454.py:33: FutureWarning: pandas.io.json.json_normalize is deprecated, use pandas.json_normalize instead.\n",
      "  totalDf = totalDf.append(json_normalize(body), ignore_index=True)\n",
      "C:\\Users\\ohy\\AppData\\Local\\Temp\\ipykernel_17400\\3983351454.py:33: FutureWarning: The frame.append method is deprecated and will be removed from pandas in a future version. Use pandas.concat instead.\n",
      "  totalDf = totalDf.append(json_normalize(body), ignore_index=True)\n"
     ]
    },
    {
     "name": "stdout",
     "output_type": "stream",
     "text": [
      "475001\n"
     ]
    },
    {
     "name": "stderr",
     "output_type": "stream",
     "text": [
      "C:\\Users\\ohy\\AppData\\Local\\Temp\\ipykernel_17400\\3983351454.py:33: FutureWarning: pandas.io.json.json_normalize is deprecated, use pandas.json_normalize instead.\n",
      "  totalDf = totalDf.append(json_normalize(body), ignore_index=True)\n",
      "C:\\Users\\ohy\\AppData\\Local\\Temp\\ipykernel_17400\\3983351454.py:33: FutureWarning: The frame.append method is deprecated and will be removed from pandas in a future version. Use pandas.concat instead.\n",
      "  totalDf = totalDf.append(json_normalize(body), ignore_index=True)\n"
     ]
    },
    {
     "name": "stdout",
     "output_type": "stream",
     "text": [
      "476001\n"
     ]
    },
    {
     "name": "stderr",
     "output_type": "stream",
     "text": [
      "C:\\Users\\ohy\\AppData\\Local\\Temp\\ipykernel_17400\\3983351454.py:33: FutureWarning: pandas.io.json.json_normalize is deprecated, use pandas.json_normalize instead.\n",
      "  totalDf = totalDf.append(json_normalize(body), ignore_index=True)\n",
      "C:\\Users\\ohy\\AppData\\Local\\Temp\\ipykernel_17400\\3983351454.py:33: FutureWarning: The frame.append method is deprecated and will be removed from pandas in a future version. Use pandas.concat instead.\n",
      "  totalDf = totalDf.append(json_normalize(body), ignore_index=True)\n"
     ]
    },
    {
     "name": "stdout",
     "output_type": "stream",
     "text": [
      "477001\n"
     ]
    },
    {
     "name": "stderr",
     "output_type": "stream",
     "text": [
      "C:\\Users\\ohy\\AppData\\Local\\Temp\\ipykernel_17400\\3983351454.py:33: FutureWarning: pandas.io.json.json_normalize is deprecated, use pandas.json_normalize instead.\n",
      "  totalDf = totalDf.append(json_normalize(body), ignore_index=True)\n",
      "C:\\Users\\ohy\\AppData\\Local\\Temp\\ipykernel_17400\\3983351454.py:33: FutureWarning: The frame.append method is deprecated and will be removed from pandas in a future version. Use pandas.concat instead.\n",
      "  totalDf = totalDf.append(json_normalize(body), ignore_index=True)\n"
     ]
    },
    {
     "name": "stdout",
     "output_type": "stream",
     "text": [
      "478001\n"
     ]
    },
    {
     "name": "stderr",
     "output_type": "stream",
     "text": [
      "C:\\Users\\ohy\\AppData\\Local\\Temp\\ipykernel_17400\\3983351454.py:33: FutureWarning: pandas.io.json.json_normalize is deprecated, use pandas.json_normalize instead.\n",
      "  totalDf = totalDf.append(json_normalize(body), ignore_index=True)\n",
      "C:\\Users\\ohy\\AppData\\Local\\Temp\\ipykernel_17400\\3983351454.py:33: FutureWarning: The frame.append method is deprecated and will be removed from pandas in a future version. Use pandas.concat instead.\n",
      "  totalDf = totalDf.append(json_normalize(body), ignore_index=True)\n"
     ]
    },
    {
     "name": "stdout",
     "output_type": "stream",
     "text": [
      "479001\n"
     ]
    },
    {
     "name": "stderr",
     "output_type": "stream",
     "text": [
      "C:\\Users\\ohy\\AppData\\Local\\Temp\\ipykernel_17400\\3983351454.py:33: FutureWarning: pandas.io.json.json_normalize is deprecated, use pandas.json_normalize instead.\n",
      "  totalDf = totalDf.append(json_normalize(body), ignore_index=True)\n",
      "C:\\Users\\ohy\\AppData\\Local\\Temp\\ipykernel_17400\\3983351454.py:33: FutureWarning: The frame.append method is deprecated and will be removed from pandas in a future version. Use pandas.concat instead.\n",
      "  totalDf = totalDf.append(json_normalize(body), ignore_index=True)\n"
     ]
    },
    {
     "name": "stdout",
     "output_type": "stream",
     "text": [
      "480001\n"
     ]
    },
    {
     "name": "stderr",
     "output_type": "stream",
     "text": [
      "C:\\Users\\ohy\\AppData\\Local\\Temp\\ipykernel_17400\\3983351454.py:33: FutureWarning: pandas.io.json.json_normalize is deprecated, use pandas.json_normalize instead.\n",
      "  totalDf = totalDf.append(json_normalize(body), ignore_index=True)\n",
      "C:\\Users\\ohy\\AppData\\Local\\Temp\\ipykernel_17400\\3983351454.py:33: FutureWarning: The frame.append method is deprecated and will be removed from pandas in a future version. Use pandas.concat instead.\n",
      "  totalDf = totalDf.append(json_normalize(body), ignore_index=True)\n"
     ]
    },
    {
     "name": "stdout",
     "output_type": "stream",
     "text": [
      "481001\n"
     ]
    },
    {
     "name": "stderr",
     "output_type": "stream",
     "text": [
      "C:\\Users\\ohy\\AppData\\Local\\Temp\\ipykernel_17400\\3983351454.py:33: FutureWarning: pandas.io.json.json_normalize is deprecated, use pandas.json_normalize instead.\n",
      "  totalDf = totalDf.append(json_normalize(body), ignore_index=True)\n",
      "C:\\Users\\ohy\\AppData\\Local\\Temp\\ipykernel_17400\\3983351454.py:33: FutureWarning: The frame.append method is deprecated and will be removed from pandas in a future version. Use pandas.concat instead.\n",
      "  totalDf = totalDf.append(json_normalize(body), ignore_index=True)\n"
     ]
    },
    {
     "name": "stdout",
     "output_type": "stream",
     "text": [
      "482001\n"
     ]
    },
    {
     "name": "stderr",
     "output_type": "stream",
     "text": [
      "C:\\Users\\ohy\\AppData\\Local\\Temp\\ipykernel_17400\\3983351454.py:33: FutureWarning: pandas.io.json.json_normalize is deprecated, use pandas.json_normalize instead.\n",
      "  totalDf = totalDf.append(json_normalize(body), ignore_index=True)\n",
      "C:\\Users\\ohy\\AppData\\Local\\Temp\\ipykernel_17400\\3983351454.py:33: FutureWarning: The frame.append method is deprecated and will be removed from pandas in a future version. Use pandas.concat instead.\n",
      "  totalDf = totalDf.append(json_normalize(body), ignore_index=True)\n"
     ]
    },
    {
     "name": "stdout",
     "output_type": "stream",
     "text": [
      "483001\n"
     ]
    },
    {
     "name": "stderr",
     "output_type": "stream",
     "text": [
      "C:\\Users\\ohy\\AppData\\Local\\Temp\\ipykernel_17400\\3983351454.py:33: FutureWarning: pandas.io.json.json_normalize is deprecated, use pandas.json_normalize instead.\n",
      "  totalDf = totalDf.append(json_normalize(body), ignore_index=True)\n",
      "C:\\Users\\ohy\\AppData\\Local\\Temp\\ipykernel_17400\\3983351454.py:33: FutureWarning: The frame.append method is deprecated and will be removed from pandas in a future version. Use pandas.concat instead.\n",
      "  totalDf = totalDf.append(json_normalize(body), ignore_index=True)\n"
     ]
    },
    {
     "name": "stdout",
     "output_type": "stream",
     "text": [
      "484001\n"
     ]
    },
    {
     "name": "stderr",
     "output_type": "stream",
     "text": [
      "C:\\Users\\ohy\\AppData\\Local\\Temp\\ipykernel_17400\\3983351454.py:33: FutureWarning: pandas.io.json.json_normalize is deprecated, use pandas.json_normalize instead.\n",
      "  totalDf = totalDf.append(json_normalize(body), ignore_index=True)\n",
      "C:\\Users\\ohy\\AppData\\Local\\Temp\\ipykernel_17400\\3983351454.py:33: FutureWarning: The frame.append method is deprecated and will be removed from pandas in a future version. Use pandas.concat instead.\n",
      "  totalDf = totalDf.append(json_normalize(body), ignore_index=True)\n"
     ]
    },
    {
     "name": "stdout",
     "output_type": "stream",
     "text": [
      "485001\n"
     ]
    },
    {
     "name": "stderr",
     "output_type": "stream",
     "text": [
      "C:\\Users\\ohy\\AppData\\Local\\Temp\\ipykernel_17400\\3983351454.py:33: FutureWarning: pandas.io.json.json_normalize is deprecated, use pandas.json_normalize instead.\n",
      "  totalDf = totalDf.append(json_normalize(body), ignore_index=True)\n",
      "C:\\Users\\ohy\\AppData\\Local\\Temp\\ipykernel_17400\\3983351454.py:33: FutureWarning: The frame.append method is deprecated and will be removed from pandas in a future version. Use pandas.concat instead.\n",
      "  totalDf = totalDf.append(json_normalize(body), ignore_index=True)\n"
     ]
    },
    {
     "name": "stdout",
     "output_type": "stream",
     "text": [
      "486001\n"
     ]
    },
    {
     "name": "stderr",
     "output_type": "stream",
     "text": [
      "C:\\Users\\ohy\\AppData\\Local\\Temp\\ipykernel_17400\\3983351454.py:33: FutureWarning: pandas.io.json.json_normalize is deprecated, use pandas.json_normalize instead.\n",
      "  totalDf = totalDf.append(json_normalize(body), ignore_index=True)\n",
      "C:\\Users\\ohy\\AppData\\Local\\Temp\\ipykernel_17400\\3983351454.py:33: FutureWarning: The frame.append method is deprecated and will be removed from pandas in a future version. Use pandas.concat instead.\n",
      "  totalDf = totalDf.append(json_normalize(body), ignore_index=True)\n"
     ]
    },
    {
     "name": "stdout",
     "output_type": "stream",
     "text": [
      "487001\n"
     ]
    },
    {
     "name": "stderr",
     "output_type": "stream",
     "text": [
      "C:\\Users\\ohy\\AppData\\Local\\Temp\\ipykernel_17400\\3983351454.py:33: FutureWarning: pandas.io.json.json_normalize is deprecated, use pandas.json_normalize instead.\n",
      "  totalDf = totalDf.append(json_normalize(body), ignore_index=True)\n",
      "C:\\Users\\ohy\\AppData\\Local\\Temp\\ipykernel_17400\\3983351454.py:33: FutureWarning: The frame.append method is deprecated and will be removed from pandas in a future version. Use pandas.concat instead.\n",
      "  totalDf = totalDf.append(json_normalize(body), ignore_index=True)\n"
     ]
    },
    {
     "name": "stdout",
     "output_type": "stream",
     "text": [
      "488001\n"
     ]
    },
    {
     "name": "stderr",
     "output_type": "stream",
     "text": [
      "C:\\Users\\ohy\\AppData\\Local\\Temp\\ipykernel_17400\\3983351454.py:33: FutureWarning: pandas.io.json.json_normalize is deprecated, use pandas.json_normalize instead.\n",
      "  totalDf = totalDf.append(json_normalize(body), ignore_index=True)\n",
      "C:\\Users\\ohy\\AppData\\Local\\Temp\\ipykernel_17400\\3983351454.py:33: FutureWarning: The frame.append method is deprecated and will be removed from pandas in a future version. Use pandas.concat instead.\n",
      "  totalDf = totalDf.append(json_normalize(body), ignore_index=True)\n"
     ]
    },
    {
     "name": "stdout",
     "output_type": "stream",
     "text": [
      "489001\n"
     ]
    },
    {
     "name": "stderr",
     "output_type": "stream",
     "text": [
      "C:\\Users\\ohy\\AppData\\Local\\Temp\\ipykernel_17400\\3983351454.py:33: FutureWarning: pandas.io.json.json_normalize is deprecated, use pandas.json_normalize instead.\n",
      "  totalDf = totalDf.append(json_normalize(body), ignore_index=True)\n",
      "C:\\Users\\ohy\\AppData\\Local\\Temp\\ipykernel_17400\\3983351454.py:33: FutureWarning: The frame.append method is deprecated and will be removed from pandas in a future version. Use pandas.concat instead.\n",
      "  totalDf = totalDf.append(json_normalize(body), ignore_index=True)\n"
     ]
    },
    {
     "name": "stdout",
     "output_type": "stream",
     "text": [
      "490001\n"
     ]
    },
    {
     "name": "stderr",
     "output_type": "stream",
     "text": [
      "C:\\Users\\ohy\\AppData\\Local\\Temp\\ipykernel_17400\\3983351454.py:33: FutureWarning: pandas.io.json.json_normalize is deprecated, use pandas.json_normalize instead.\n",
      "  totalDf = totalDf.append(json_normalize(body), ignore_index=True)\n",
      "C:\\Users\\ohy\\AppData\\Local\\Temp\\ipykernel_17400\\3983351454.py:33: FutureWarning: The frame.append method is deprecated and will be removed from pandas in a future version. Use pandas.concat instead.\n",
      "  totalDf = totalDf.append(json_normalize(body), ignore_index=True)\n"
     ]
    },
    {
     "name": "stdout",
     "output_type": "stream",
     "text": [
      "491001\n"
     ]
    },
    {
     "name": "stderr",
     "output_type": "stream",
     "text": [
      "C:\\Users\\ohy\\AppData\\Local\\Temp\\ipykernel_17400\\3983351454.py:33: FutureWarning: pandas.io.json.json_normalize is deprecated, use pandas.json_normalize instead.\n",
      "  totalDf = totalDf.append(json_normalize(body), ignore_index=True)\n",
      "C:\\Users\\ohy\\AppData\\Local\\Temp\\ipykernel_17400\\3983351454.py:33: FutureWarning: The frame.append method is deprecated and will be removed from pandas in a future version. Use pandas.concat instead.\n",
      "  totalDf = totalDf.append(json_normalize(body), ignore_index=True)\n"
     ]
    },
    {
     "name": "stdout",
     "output_type": "stream",
     "text": [
      "492001\n"
     ]
    },
    {
     "name": "stderr",
     "output_type": "stream",
     "text": [
      "C:\\Users\\ohy\\AppData\\Local\\Temp\\ipykernel_17400\\3983351454.py:33: FutureWarning: pandas.io.json.json_normalize is deprecated, use pandas.json_normalize instead.\n",
      "  totalDf = totalDf.append(json_normalize(body), ignore_index=True)\n",
      "C:\\Users\\ohy\\AppData\\Local\\Temp\\ipykernel_17400\\3983351454.py:33: FutureWarning: The frame.append method is deprecated and will be removed from pandas in a future version. Use pandas.concat instead.\n",
      "  totalDf = totalDf.append(json_normalize(body), ignore_index=True)\n"
     ]
    },
    {
     "name": "stdout",
     "output_type": "stream",
     "text": [
      "493001\n"
     ]
    },
    {
     "name": "stderr",
     "output_type": "stream",
     "text": [
      "C:\\Users\\ohy\\AppData\\Local\\Temp\\ipykernel_17400\\3983351454.py:33: FutureWarning: pandas.io.json.json_normalize is deprecated, use pandas.json_normalize instead.\n",
      "  totalDf = totalDf.append(json_normalize(body), ignore_index=True)\n",
      "C:\\Users\\ohy\\AppData\\Local\\Temp\\ipykernel_17400\\3983351454.py:33: FutureWarning: The frame.append method is deprecated and will be removed from pandas in a future version. Use pandas.concat instead.\n",
      "  totalDf = totalDf.append(json_normalize(body), ignore_index=True)\n"
     ]
    },
    {
     "name": "stdout",
     "output_type": "stream",
     "text": [
      "494001\n"
     ]
    },
    {
     "name": "stderr",
     "output_type": "stream",
     "text": [
      "C:\\Users\\ohy\\AppData\\Local\\Temp\\ipykernel_17400\\3983351454.py:33: FutureWarning: pandas.io.json.json_normalize is deprecated, use pandas.json_normalize instead.\n",
      "  totalDf = totalDf.append(json_normalize(body), ignore_index=True)\n",
      "C:\\Users\\ohy\\AppData\\Local\\Temp\\ipykernel_17400\\3983351454.py:33: FutureWarning: The frame.append method is deprecated and will be removed from pandas in a future version. Use pandas.concat instead.\n",
      "  totalDf = totalDf.append(json_normalize(body), ignore_index=True)\n"
     ]
    },
    {
     "name": "stdout",
     "output_type": "stream",
     "text": [
      "495001\n"
     ]
    },
    {
     "name": "stderr",
     "output_type": "stream",
     "text": [
      "C:\\Users\\ohy\\AppData\\Local\\Temp\\ipykernel_17400\\3983351454.py:33: FutureWarning: pandas.io.json.json_normalize is deprecated, use pandas.json_normalize instead.\n",
      "  totalDf = totalDf.append(json_normalize(body), ignore_index=True)\n",
      "C:\\Users\\ohy\\AppData\\Local\\Temp\\ipykernel_17400\\3983351454.py:33: FutureWarning: The frame.append method is deprecated and will be removed from pandas in a future version. Use pandas.concat instead.\n",
      "  totalDf = totalDf.append(json_normalize(body), ignore_index=True)\n"
     ]
    },
    {
     "name": "stdout",
     "output_type": "stream",
     "text": [
      "496001\n"
     ]
    },
    {
     "name": "stderr",
     "output_type": "stream",
     "text": [
      "C:\\Users\\ohy\\AppData\\Local\\Temp\\ipykernel_17400\\3983351454.py:33: FutureWarning: pandas.io.json.json_normalize is deprecated, use pandas.json_normalize instead.\n",
      "  totalDf = totalDf.append(json_normalize(body), ignore_index=True)\n",
      "C:\\Users\\ohy\\AppData\\Local\\Temp\\ipykernel_17400\\3983351454.py:33: FutureWarning: The frame.append method is deprecated and will be removed from pandas in a future version. Use pandas.concat instead.\n",
      "  totalDf = totalDf.append(json_normalize(body), ignore_index=True)\n"
     ]
    },
    {
     "name": "stdout",
     "output_type": "stream",
     "text": [
      "497001\n"
     ]
    },
    {
     "name": "stderr",
     "output_type": "stream",
     "text": [
      "C:\\Users\\ohy\\AppData\\Local\\Temp\\ipykernel_17400\\3983351454.py:33: FutureWarning: pandas.io.json.json_normalize is deprecated, use pandas.json_normalize instead.\n",
      "  totalDf = totalDf.append(json_normalize(body), ignore_index=True)\n",
      "C:\\Users\\ohy\\AppData\\Local\\Temp\\ipykernel_17400\\3983351454.py:33: FutureWarning: The frame.append method is deprecated and will be removed from pandas in a future version. Use pandas.concat instead.\n",
      "  totalDf = totalDf.append(json_normalize(body), ignore_index=True)\n"
     ]
    },
    {
     "name": "stdout",
     "output_type": "stream",
     "text": [
      "498001\n"
     ]
    },
    {
     "name": "stderr",
     "output_type": "stream",
     "text": [
      "C:\\Users\\ohy\\AppData\\Local\\Temp\\ipykernel_17400\\3983351454.py:33: FutureWarning: pandas.io.json.json_normalize is deprecated, use pandas.json_normalize instead.\n",
      "  totalDf = totalDf.append(json_normalize(body), ignore_index=True)\n",
      "C:\\Users\\ohy\\AppData\\Local\\Temp\\ipykernel_17400\\3983351454.py:33: FutureWarning: The frame.append method is deprecated and will be removed from pandas in a future version. Use pandas.concat instead.\n",
      "  totalDf = totalDf.append(json_normalize(body), ignore_index=True)\n"
     ]
    },
    {
     "name": "stdout",
     "output_type": "stream",
     "text": [
      "499001\n"
     ]
    },
    {
     "name": "stderr",
     "output_type": "stream",
     "text": [
      "C:\\Users\\ohy\\AppData\\Local\\Temp\\ipykernel_17400\\3983351454.py:33: FutureWarning: pandas.io.json.json_normalize is deprecated, use pandas.json_normalize instead.\n",
      "  totalDf = totalDf.append(json_normalize(body), ignore_index=True)\n",
      "C:\\Users\\ohy\\AppData\\Local\\Temp\\ipykernel_17400\\3983351454.py:33: FutureWarning: The frame.append method is deprecated and will be removed from pandas in a future version. Use pandas.concat instead.\n",
      "  totalDf = totalDf.append(json_normalize(body), ignore_index=True)\n"
     ]
    },
    {
     "name": "stdout",
     "output_type": "stream",
     "text": [
      "500001\n"
     ]
    },
    {
     "name": "stderr",
     "output_type": "stream",
     "text": [
      "C:\\Users\\ohy\\AppData\\Local\\Temp\\ipykernel_17400\\3983351454.py:33: FutureWarning: pandas.io.json.json_normalize is deprecated, use pandas.json_normalize instead.\n",
      "  totalDf = totalDf.append(json_normalize(body), ignore_index=True)\n",
      "C:\\Users\\ohy\\AppData\\Local\\Temp\\ipykernel_17400\\3983351454.py:33: FutureWarning: The frame.append method is deprecated and will be removed from pandas in a future version. Use pandas.concat instead.\n",
      "  totalDf = totalDf.append(json_normalize(body), ignore_index=True)\n"
     ]
    },
    {
     "name": "stdout",
     "output_type": "stream",
     "text": [
      "501001\n"
     ]
    },
    {
     "name": "stderr",
     "output_type": "stream",
     "text": [
      "C:\\Users\\ohy\\AppData\\Local\\Temp\\ipykernel_17400\\3983351454.py:33: FutureWarning: pandas.io.json.json_normalize is deprecated, use pandas.json_normalize instead.\n",
      "  totalDf = totalDf.append(json_normalize(body), ignore_index=True)\n",
      "C:\\Users\\ohy\\AppData\\Local\\Temp\\ipykernel_17400\\3983351454.py:33: FutureWarning: The frame.append method is deprecated and will be removed from pandas in a future version. Use pandas.concat instead.\n",
      "  totalDf = totalDf.append(json_normalize(body), ignore_index=True)\n"
     ]
    },
    {
     "name": "stdout",
     "output_type": "stream",
     "text": [
      "502001\n"
     ]
    },
    {
     "name": "stderr",
     "output_type": "stream",
     "text": [
      "C:\\Users\\ohy\\AppData\\Local\\Temp\\ipykernel_17400\\3983351454.py:33: FutureWarning: pandas.io.json.json_normalize is deprecated, use pandas.json_normalize instead.\n",
      "  totalDf = totalDf.append(json_normalize(body), ignore_index=True)\n",
      "C:\\Users\\ohy\\AppData\\Local\\Temp\\ipykernel_17400\\3983351454.py:33: FutureWarning: The frame.append method is deprecated and will be removed from pandas in a future version. Use pandas.concat instead.\n",
      "  totalDf = totalDf.append(json_normalize(body), ignore_index=True)\n"
     ]
    },
    {
     "name": "stdout",
     "output_type": "stream",
     "text": [
      "503001\n"
     ]
    },
    {
     "name": "stderr",
     "output_type": "stream",
     "text": [
      "C:\\Users\\ohy\\AppData\\Local\\Temp\\ipykernel_17400\\3983351454.py:33: FutureWarning: pandas.io.json.json_normalize is deprecated, use pandas.json_normalize instead.\n",
      "  totalDf = totalDf.append(json_normalize(body), ignore_index=True)\n",
      "C:\\Users\\ohy\\AppData\\Local\\Temp\\ipykernel_17400\\3983351454.py:33: FutureWarning: The frame.append method is deprecated and will be removed from pandas in a future version. Use pandas.concat instead.\n",
      "  totalDf = totalDf.append(json_normalize(body), ignore_index=True)\n"
     ]
    },
    {
     "name": "stdout",
     "output_type": "stream",
     "text": [
      "504001\n"
     ]
    },
    {
     "name": "stderr",
     "output_type": "stream",
     "text": [
      "C:\\Users\\ohy\\AppData\\Local\\Temp\\ipykernel_17400\\3983351454.py:33: FutureWarning: pandas.io.json.json_normalize is deprecated, use pandas.json_normalize instead.\n",
      "  totalDf = totalDf.append(json_normalize(body), ignore_index=True)\n",
      "C:\\Users\\ohy\\AppData\\Local\\Temp\\ipykernel_17400\\3983351454.py:33: FutureWarning: The frame.append method is deprecated and will be removed from pandas in a future version. Use pandas.concat instead.\n",
      "  totalDf = totalDf.append(json_normalize(body), ignore_index=True)\n"
     ]
    },
    {
     "name": "stdout",
     "output_type": "stream",
     "text": [
      "505001\n"
     ]
    },
    {
     "name": "stderr",
     "output_type": "stream",
     "text": [
      "C:\\Users\\ohy\\AppData\\Local\\Temp\\ipykernel_17400\\3983351454.py:33: FutureWarning: pandas.io.json.json_normalize is deprecated, use pandas.json_normalize instead.\n",
      "  totalDf = totalDf.append(json_normalize(body), ignore_index=True)\n",
      "C:\\Users\\ohy\\AppData\\Local\\Temp\\ipykernel_17400\\3983351454.py:33: FutureWarning: The frame.append method is deprecated and will be removed from pandas in a future version. Use pandas.concat instead.\n",
      "  totalDf = totalDf.append(json_normalize(body), ignore_index=True)\n"
     ]
    },
    {
     "name": "stdout",
     "output_type": "stream",
     "text": [
      "506001\n"
     ]
    },
    {
     "name": "stderr",
     "output_type": "stream",
     "text": [
      "C:\\Users\\ohy\\AppData\\Local\\Temp\\ipykernel_17400\\3983351454.py:33: FutureWarning: pandas.io.json.json_normalize is deprecated, use pandas.json_normalize instead.\n",
      "  totalDf = totalDf.append(json_normalize(body), ignore_index=True)\n",
      "C:\\Users\\ohy\\AppData\\Local\\Temp\\ipykernel_17400\\3983351454.py:33: FutureWarning: The frame.append method is deprecated and will be removed from pandas in a future version. Use pandas.concat instead.\n",
      "  totalDf = totalDf.append(json_normalize(body), ignore_index=True)\n"
     ]
    },
    {
     "name": "stdout",
     "output_type": "stream",
     "text": [
      "507001\n"
     ]
    },
    {
     "name": "stderr",
     "output_type": "stream",
     "text": [
      "C:\\Users\\ohy\\AppData\\Local\\Temp\\ipykernel_17400\\3983351454.py:33: FutureWarning: pandas.io.json.json_normalize is deprecated, use pandas.json_normalize instead.\n",
      "  totalDf = totalDf.append(json_normalize(body), ignore_index=True)\n",
      "C:\\Users\\ohy\\AppData\\Local\\Temp\\ipykernel_17400\\3983351454.py:33: FutureWarning: The frame.append method is deprecated and will be removed from pandas in a future version. Use pandas.concat instead.\n",
      "  totalDf = totalDf.append(json_normalize(body), ignore_index=True)\n"
     ]
    },
    {
     "name": "stdout",
     "output_type": "stream",
     "text": [
      "508001\n"
     ]
    },
    {
     "name": "stderr",
     "output_type": "stream",
     "text": [
      "C:\\Users\\ohy\\AppData\\Local\\Temp\\ipykernel_17400\\3983351454.py:33: FutureWarning: pandas.io.json.json_normalize is deprecated, use pandas.json_normalize instead.\n",
      "  totalDf = totalDf.append(json_normalize(body), ignore_index=True)\n",
      "C:\\Users\\ohy\\AppData\\Local\\Temp\\ipykernel_17400\\3983351454.py:33: FutureWarning: The frame.append method is deprecated and will be removed from pandas in a future version. Use pandas.concat instead.\n",
      "  totalDf = totalDf.append(json_normalize(body), ignore_index=True)\n"
     ]
    },
    {
     "name": "stdout",
     "output_type": "stream",
     "text": [
      "509001\n"
     ]
    },
    {
     "name": "stderr",
     "output_type": "stream",
     "text": [
      "C:\\Users\\ohy\\AppData\\Local\\Temp\\ipykernel_17400\\3983351454.py:33: FutureWarning: pandas.io.json.json_normalize is deprecated, use pandas.json_normalize instead.\n",
      "  totalDf = totalDf.append(json_normalize(body), ignore_index=True)\n",
      "C:\\Users\\ohy\\AppData\\Local\\Temp\\ipykernel_17400\\3983351454.py:33: FutureWarning: The frame.append method is deprecated and will be removed from pandas in a future version. Use pandas.concat instead.\n",
      "  totalDf = totalDf.append(json_normalize(body), ignore_index=True)\n"
     ]
    },
    {
     "name": "stdout",
     "output_type": "stream",
     "text": [
      "510001\n"
     ]
    },
    {
     "name": "stderr",
     "output_type": "stream",
     "text": [
      "C:\\Users\\ohy\\AppData\\Local\\Temp\\ipykernel_17400\\3983351454.py:33: FutureWarning: pandas.io.json.json_normalize is deprecated, use pandas.json_normalize instead.\n",
      "  totalDf = totalDf.append(json_normalize(body), ignore_index=True)\n",
      "C:\\Users\\ohy\\AppData\\Local\\Temp\\ipykernel_17400\\3983351454.py:33: FutureWarning: The frame.append method is deprecated and will be removed from pandas in a future version. Use pandas.concat instead.\n",
      "  totalDf = totalDf.append(json_normalize(body), ignore_index=True)\n"
     ]
    },
    {
     "name": "stdout",
     "output_type": "stream",
     "text": [
      "511001\n"
     ]
    },
    {
     "name": "stderr",
     "output_type": "stream",
     "text": [
      "C:\\Users\\ohy\\AppData\\Local\\Temp\\ipykernel_17400\\3983351454.py:33: FutureWarning: pandas.io.json.json_normalize is deprecated, use pandas.json_normalize instead.\n",
      "  totalDf = totalDf.append(json_normalize(body), ignore_index=True)\n",
      "C:\\Users\\ohy\\AppData\\Local\\Temp\\ipykernel_17400\\3983351454.py:33: FutureWarning: The frame.append method is deprecated and will be removed from pandas in a future version. Use pandas.concat instead.\n",
      "  totalDf = totalDf.append(json_normalize(body), ignore_index=True)\n"
     ]
    },
    {
     "name": "stdout",
     "output_type": "stream",
     "text": [
      "512001\n"
     ]
    },
    {
     "name": "stderr",
     "output_type": "stream",
     "text": [
      "C:\\Users\\ohy\\AppData\\Local\\Temp\\ipykernel_17400\\3983351454.py:33: FutureWarning: pandas.io.json.json_normalize is deprecated, use pandas.json_normalize instead.\n",
      "  totalDf = totalDf.append(json_normalize(body), ignore_index=True)\n",
      "C:\\Users\\ohy\\AppData\\Local\\Temp\\ipykernel_17400\\3983351454.py:33: FutureWarning: The frame.append method is deprecated and will be removed from pandas in a future version. Use pandas.concat instead.\n",
      "  totalDf = totalDf.append(json_normalize(body), ignore_index=True)\n"
     ]
    },
    {
     "name": "stdout",
     "output_type": "stream",
     "text": [
      "513001\n"
     ]
    },
    {
     "name": "stderr",
     "output_type": "stream",
     "text": [
      "C:\\Users\\ohy\\AppData\\Local\\Temp\\ipykernel_17400\\3983351454.py:33: FutureWarning: pandas.io.json.json_normalize is deprecated, use pandas.json_normalize instead.\n",
      "  totalDf = totalDf.append(json_normalize(body), ignore_index=True)\n",
      "C:\\Users\\ohy\\AppData\\Local\\Temp\\ipykernel_17400\\3983351454.py:33: FutureWarning: The frame.append method is deprecated and will be removed from pandas in a future version. Use pandas.concat instead.\n",
      "  totalDf = totalDf.append(json_normalize(body), ignore_index=True)\n"
     ]
    },
    {
     "name": "stdout",
     "output_type": "stream",
     "text": [
      "514001\n"
     ]
    },
    {
     "name": "stderr",
     "output_type": "stream",
     "text": [
      "C:\\Users\\ohy\\AppData\\Local\\Temp\\ipykernel_17400\\3983351454.py:33: FutureWarning: pandas.io.json.json_normalize is deprecated, use pandas.json_normalize instead.\n",
      "  totalDf = totalDf.append(json_normalize(body), ignore_index=True)\n",
      "C:\\Users\\ohy\\AppData\\Local\\Temp\\ipykernel_17400\\3983351454.py:33: FutureWarning: The frame.append method is deprecated and will be removed from pandas in a future version. Use pandas.concat instead.\n",
      "  totalDf = totalDf.append(json_normalize(body), ignore_index=True)\n"
     ]
    },
    {
     "name": "stdout",
     "output_type": "stream",
     "text": [
      "515001\n"
     ]
    },
    {
     "name": "stderr",
     "output_type": "stream",
     "text": [
      "C:\\Users\\ohy\\AppData\\Local\\Temp\\ipykernel_17400\\3983351454.py:33: FutureWarning: pandas.io.json.json_normalize is deprecated, use pandas.json_normalize instead.\n",
      "  totalDf = totalDf.append(json_normalize(body), ignore_index=True)\n",
      "C:\\Users\\ohy\\AppData\\Local\\Temp\\ipykernel_17400\\3983351454.py:33: FutureWarning: The frame.append method is deprecated and will be removed from pandas in a future version. Use pandas.concat instead.\n",
      "  totalDf = totalDf.append(json_normalize(body), ignore_index=True)\n"
     ]
    },
    {
     "name": "stdout",
     "output_type": "stream",
     "text": [
      "516001\n"
     ]
    },
    {
     "name": "stderr",
     "output_type": "stream",
     "text": [
      "C:\\Users\\ohy\\AppData\\Local\\Temp\\ipykernel_17400\\3983351454.py:33: FutureWarning: pandas.io.json.json_normalize is deprecated, use pandas.json_normalize instead.\n",
      "  totalDf = totalDf.append(json_normalize(body), ignore_index=True)\n",
      "C:\\Users\\ohy\\AppData\\Local\\Temp\\ipykernel_17400\\3983351454.py:33: FutureWarning: The frame.append method is deprecated and will be removed from pandas in a future version. Use pandas.concat instead.\n",
      "  totalDf = totalDf.append(json_normalize(body), ignore_index=True)\n"
     ]
    },
    {
     "name": "stdout",
     "output_type": "stream",
     "text": [
      "517001\n"
     ]
    },
    {
     "name": "stderr",
     "output_type": "stream",
     "text": [
      "C:\\Users\\ohy\\AppData\\Local\\Temp\\ipykernel_17400\\3983351454.py:33: FutureWarning: pandas.io.json.json_normalize is deprecated, use pandas.json_normalize instead.\n",
      "  totalDf = totalDf.append(json_normalize(body), ignore_index=True)\n",
      "C:\\Users\\ohy\\AppData\\Local\\Temp\\ipykernel_17400\\3983351454.py:33: FutureWarning: The frame.append method is deprecated and will be removed from pandas in a future version. Use pandas.concat instead.\n",
      "  totalDf = totalDf.append(json_normalize(body), ignore_index=True)\n"
     ]
    },
    {
     "name": "stdout",
     "output_type": "stream",
     "text": [
      "518001\n"
     ]
    },
    {
     "name": "stderr",
     "output_type": "stream",
     "text": [
      "C:\\Users\\ohy\\AppData\\Local\\Temp\\ipykernel_17400\\3983351454.py:33: FutureWarning: pandas.io.json.json_normalize is deprecated, use pandas.json_normalize instead.\n",
      "  totalDf = totalDf.append(json_normalize(body), ignore_index=True)\n",
      "C:\\Users\\ohy\\AppData\\Local\\Temp\\ipykernel_17400\\3983351454.py:33: FutureWarning: The frame.append method is deprecated and will be removed from pandas in a future version. Use pandas.concat instead.\n",
      "  totalDf = totalDf.append(json_normalize(body), ignore_index=True)\n"
     ]
    },
    {
     "name": "stdout",
     "output_type": "stream",
     "text": [
      "519001\n"
     ]
    },
    {
     "name": "stderr",
     "output_type": "stream",
     "text": [
      "C:\\Users\\ohy\\AppData\\Local\\Temp\\ipykernel_17400\\3983351454.py:33: FutureWarning: pandas.io.json.json_normalize is deprecated, use pandas.json_normalize instead.\n",
      "  totalDf = totalDf.append(json_normalize(body), ignore_index=True)\n",
      "C:\\Users\\ohy\\AppData\\Local\\Temp\\ipykernel_17400\\3983351454.py:33: FutureWarning: The frame.append method is deprecated and will be removed from pandas in a future version. Use pandas.concat instead.\n",
      "  totalDf = totalDf.append(json_normalize(body), ignore_index=True)\n"
     ]
    },
    {
     "name": "stdout",
     "output_type": "stream",
     "text": [
      "520001\n"
     ]
    },
    {
     "name": "stderr",
     "output_type": "stream",
     "text": [
      "C:\\Users\\ohy\\AppData\\Local\\Temp\\ipykernel_17400\\3983351454.py:33: FutureWarning: pandas.io.json.json_normalize is deprecated, use pandas.json_normalize instead.\n",
      "  totalDf = totalDf.append(json_normalize(body), ignore_index=True)\n",
      "C:\\Users\\ohy\\AppData\\Local\\Temp\\ipykernel_17400\\3983351454.py:33: FutureWarning: The frame.append method is deprecated and will be removed from pandas in a future version. Use pandas.concat instead.\n",
      "  totalDf = totalDf.append(json_normalize(body), ignore_index=True)\n"
     ]
    },
    {
     "name": "stdout",
     "output_type": "stream",
     "text": [
      "521001\n"
     ]
    },
    {
     "name": "stderr",
     "output_type": "stream",
     "text": [
      "C:\\Users\\ohy\\AppData\\Local\\Temp\\ipykernel_17400\\3983351454.py:33: FutureWarning: pandas.io.json.json_normalize is deprecated, use pandas.json_normalize instead.\n",
      "  totalDf = totalDf.append(json_normalize(body), ignore_index=True)\n",
      "C:\\Users\\ohy\\AppData\\Local\\Temp\\ipykernel_17400\\3983351454.py:33: FutureWarning: The frame.append method is deprecated and will be removed from pandas in a future version. Use pandas.concat instead.\n",
      "  totalDf = totalDf.append(json_normalize(body), ignore_index=True)\n"
     ]
    },
    {
     "name": "stdout",
     "output_type": "stream",
     "text": [
      "522001\n"
     ]
    },
    {
     "name": "stderr",
     "output_type": "stream",
     "text": [
      "C:\\Users\\ohy\\AppData\\Local\\Temp\\ipykernel_17400\\3983351454.py:33: FutureWarning: pandas.io.json.json_normalize is deprecated, use pandas.json_normalize instead.\n",
      "  totalDf = totalDf.append(json_normalize(body), ignore_index=True)\n",
      "C:\\Users\\ohy\\AppData\\Local\\Temp\\ipykernel_17400\\3983351454.py:33: FutureWarning: The frame.append method is deprecated and will be removed from pandas in a future version. Use pandas.concat instead.\n",
      "  totalDf = totalDf.append(json_normalize(body), ignore_index=True)\n"
     ]
    },
    {
     "name": "stdout",
     "output_type": "stream",
     "text": [
      "523001\n"
     ]
    },
    {
     "name": "stderr",
     "output_type": "stream",
     "text": [
      "C:\\Users\\ohy\\AppData\\Local\\Temp\\ipykernel_17400\\3983351454.py:33: FutureWarning: pandas.io.json.json_normalize is deprecated, use pandas.json_normalize instead.\n",
      "  totalDf = totalDf.append(json_normalize(body), ignore_index=True)\n",
      "C:\\Users\\ohy\\AppData\\Local\\Temp\\ipykernel_17400\\3983351454.py:33: FutureWarning: The frame.append method is deprecated and will be removed from pandas in a future version. Use pandas.concat instead.\n",
      "  totalDf = totalDf.append(json_normalize(body), ignore_index=True)\n"
     ]
    },
    {
     "name": "stdout",
     "output_type": "stream",
     "text": [
      "524001\n"
     ]
    },
    {
     "name": "stderr",
     "output_type": "stream",
     "text": [
      "C:\\Users\\ohy\\AppData\\Local\\Temp\\ipykernel_17400\\3983351454.py:33: FutureWarning: pandas.io.json.json_normalize is deprecated, use pandas.json_normalize instead.\n",
      "  totalDf = totalDf.append(json_normalize(body), ignore_index=True)\n",
      "C:\\Users\\ohy\\AppData\\Local\\Temp\\ipykernel_17400\\3983351454.py:33: FutureWarning: The frame.append method is deprecated and will be removed from pandas in a future version. Use pandas.concat instead.\n",
      "  totalDf = totalDf.append(json_normalize(body), ignore_index=True)\n"
     ]
    },
    {
     "name": "stdout",
     "output_type": "stream",
     "text": [
      "525001\n"
     ]
    },
    {
     "name": "stderr",
     "output_type": "stream",
     "text": [
      "C:\\Users\\ohy\\AppData\\Local\\Temp\\ipykernel_17400\\3983351454.py:33: FutureWarning: pandas.io.json.json_normalize is deprecated, use pandas.json_normalize instead.\n",
      "  totalDf = totalDf.append(json_normalize(body), ignore_index=True)\n",
      "C:\\Users\\ohy\\AppData\\Local\\Temp\\ipykernel_17400\\3983351454.py:33: FutureWarning: The frame.append method is deprecated and will be removed from pandas in a future version. Use pandas.concat instead.\n",
      "  totalDf = totalDf.append(json_normalize(body), ignore_index=True)\n"
     ]
    },
    {
     "name": "stdout",
     "output_type": "stream",
     "text": [
      "526001\n"
     ]
    },
    {
     "name": "stderr",
     "output_type": "stream",
     "text": [
      "C:\\Users\\ohy\\AppData\\Local\\Temp\\ipykernel_17400\\3983351454.py:33: FutureWarning: pandas.io.json.json_normalize is deprecated, use pandas.json_normalize instead.\n",
      "  totalDf = totalDf.append(json_normalize(body), ignore_index=True)\n",
      "C:\\Users\\ohy\\AppData\\Local\\Temp\\ipykernel_17400\\3983351454.py:33: FutureWarning: The frame.append method is deprecated and will be removed from pandas in a future version. Use pandas.concat instead.\n",
      "  totalDf = totalDf.append(json_normalize(body), ignore_index=True)\n"
     ]
    },
    {
     "name": "stdout",
     "output_type": "stream",
     "text": [
      "527001\n"
     ]
    },
    {
     "name": "stderr",
     "output_type": "stream",
     "text": [
      "C:\\Users\\ohy\\AppData\\Local\\Temp\\ipykernel_17400\\3983351454.py:33: FutureWarning: pandas.io.json.json_normalize is deprecated, use pandas.json_normalize instead.\n",
      "  totalDf = totalDf.append(json_normalize(body), ignore_index=True)\n",
      "C:\\Users\\ohy\\AppData\\Local\\Temp\\ipykernel_17400\\3983351454.py:33: FutureWarning: The frame.append method is deprecated and will be removed from pandas in a future version. Use pandas.concat instead.\n",
      "  totalDf = totalDf.append(json_normalize(body), ignore_index=True)\n"
     ]
    },
    {
     "name": "stdout",
     "output_type": "stream",
     "text": [
      "528001\n"
     ]
    },
    {
     "name": "stderr",
     "output_type": "stream",
     "text": [
      "C:\\Users\\ohy\\AppData\\Local\\Temp\\ipykernel_17400\\3983351454.py:33: FutureWarning: pandas.io.json.json_normalize is deprecated, use pandas.json_normalize instead.\n",
      "  totalDf = totalDf.append(json_normalize(body), ignore_index=True)\n",
      "C:\\Users\\ohy\\AppData\\Local\\Temp\\ipykernel_17400\\3983351454.py:33: FutureWarning: The frame.append method is deprecated and will be removed from pandas in a future version. Use pandas.concat instead.\n",
      "  totalDf = totalDf.append(json_normalize(body), ignore_index=True)\n"
     ]
    },
    {
     "name": "stdout",
     "output_type": "stream",
     "text": [
      "529001\n"
     ]
    },
    {
     "name": "stderr",
     "output_type": "stream",
     "text": [
      "C:\\Users\\ohy\\AppData\\Local\\Temp\\ipykernel_17400\\3983351454.py:33: FutureWarning: pandas.io.json.json_normalize is deprecated, use pandas.json_normalize instead.\n",
      "  totalDf = totalDf.append(json_normalize(body), ignore_index=True)\n",
      "C:\\Users\\ohy\\AppData\\Local\\Temp\\ipykernel_17400\\3983351454.py:33: FutureWarning: The frame.append method is deprecated and will be removed from pandas in a future version. Use pandas.concat instead.\n",
      "  totalDf = totalDf.append(json_normalize(body), ignore_index=True)\n"
     ]
    },
    {
     "name": "stdout",
     "output_type": "stream",
     "text": [
      "530001\n"
     ]
    },
    {
     "name": "stderr",
     "output_type": "stream",
     "text": [
      "C:\\Users\\ohy\\AppData\\Local\\Temp\\ipykernel_17400\\3983351454.py:33: FutureWarning: pandas.io.json.json_normalize is deprecated, use pandas.json_normalize instead.\n",
      "  totalDf = totalDf.append(json_normalize(body), ignore_index=True)\n",
      "C:\\Users\\ohy\\AppData\\Local\\Temp\\ipykernel_17400\\3983351454.py:33: FutureWarning: The frame.append method is deprecated and will be removed from pandas in a future version. Use pandas.concat instead.\n",
      "  totalDf = totalDf.append(json_normalize(body), ignore_index=True)\n"
     ]
    },
    {
     "name": "stdout",
     "output_type": "stream",
     "text": [
      "531001\n"
     ]
    },
    {
     "name": "stderr",
     "output_type": "stream",
     "text": [
      "C:\\Users\\ohy\\AppData\\Local\\Temp\\ipykernel_17400\\3983351454.py:33: FutureWarning: pandas.io.json.json_normalize is deprecated, use pandas.json_normalize instead.\n",
      "  totalDf = totalDf.append(json_normalize(body), ignore_index=True)\n",
      "C:\\Users\\ohy\\AppData\\Local\\Temp\\ipykernel_17400\\3983351454.py:33: FutureWarning: The frame.append method is deprecated and will be removed from pandas in a future version. Use pandas.concat instead.\n",
      "  totalDf = totalDf.append(json_normalize(body), ignore_index=True)\n"
     ]
    },
    {
     "name": "stdout",
     "output_type": "stream",
     "text": [
      "532001\n"
     ]
    },
    {
     "name": "stderr",
     "output_type": "stream",
     "text": [
      "C:\\Users\\ohy\\AppData\\Local\\Temp\\ipykernel_17400\\3983351454.py:33: FutureWarning: pandas.io.json.json_normalize is deprecated, use pandas.json_normalize instead.\n",
      "  totalDf = totalDf.append(json_normalize(body), ignore_index=True)\n",
      "C:\\Users\\ohy\\AppData\\Local\\Temp\\ipykernel_17400\\3983351454.py:33: FutureWarning: The frame.append method is deprecated and will be removed from pandas in a future version. Use pandas.concat instead.\n",
      "  totalDf = totalDf.append(json_normalize(body), ignore_index=True)\n"
     ]
    },
    {
     "name": "stdout",
     "output_type": "stream",
     "text": [
      "533001\n"
     ]
    },
    {
     "name": "stderr",
     "output_type": "stream",
     "text": [
      "C:\\Users\\ohy\\AppData\\Local\\Temp\\ipykernel_17400\\3983351454.py:33: FutureWarning: pandas.io.json.json_normalize is deprecated, use pandas.json_normalize instead.\n",
      "  totalDf = totalDf.append(json_normalize(body), ignore_index=True)\n",
      "C:\\Users\\ohy\\AppData\\Local\\Temp\\ipykernel_17400\\3983351454.py:33: FutureWarning: The frame.append method is deprecated and will be removed from pandas in a future version. Use pandas.concat instead.\n",
      "  totalDf = totalDf.append(json_normalize(body), ignore_index=True)\n"
     ]
    },
    {
     "name": "stdout",
     "output_type": "stream",
     "text": [
      "534001\n"
     ]
    },
    {
     "name": "stderr",
     "output_type": "stream",
     "text": [
      "C:\\Users\\ohy\\AppData\\Local\\Temp\\ipykernel_17400\\3983351454.py:33: FutureWarning: pandas.io.json.json_normalize is deprecated, use pandas.json_normalize instead.\n",
      "  totalDf = totalDf.append(json_normalize(body), ignore_index=True)\n",
      "C:\\Users\\ohy\\AppData\\Local\\Temp\\ipykernel_17400\\3983351454.py:33: FutureWarning: The frame.append method is deprecated and will be removed from pandas in a future version. Use pandas.concat instead.\n",
      "  totalDf = totalDf.append(json_normalize(body), ignore_index=True)\n"
     ]
    },
    {
     "name": "stdout",
     "output_type": "stream",
     "text": [
      "535001\n"
     ]
    },
    {
     "name": "stderr",
     "output_type": "stream",
     "text": [
      "C:\\Users\\ohy\\AppData\\Local\\Temp\\ipykernel_17400\\3983351454.py:33: FutureWarning: pandas.io.json.json_normalize is deprecated, use pandas.json_normalize instead.\n",
      "  totalDf = totalDf.append(json_normalize(body), ignore_index=True)\n",
      "C:\\Users\\ohy\\AppData\\Local\\Temp\\ipykernel_17400\\3983351454.py:33: FutureWarning: The frame.append method is deprecated and will be removed from pandas in a future version. Use pandas.concat instead.\n",
      "  totalDf = totalDf.append(json_normalize(body), ignore_index=True)\n"
     ]
    },
    {
     "name": "stdout",
     "output_type": "stream",
     "text": [
      "536001\n"
     ]
    },
    {
     "name": "stderr",
     "output_type": "stream",
     "text": [
      "C:\\Users\\ohy\\AppData\\Local\\Temp\\ipykernel_17400\\3983351454.py:33: FutureWarning: pandas.io.json.json_normalize is deprecated, use pandas.json_normalize instead.\n",
      "  totalDf = totalDf.append(json_normalize(body), ignore_index=True)\n",
      "C:\\Users\\ohy\\AppData\\Local\\Temp\\ipykernel_17400\\3983351454.py:33: FutureWarning: The frame.append method is deprecated and will be removed from pandas in a future version. Use pandas.concat instead.\n",
      "  totalDf = totalDf.append(json_normalize(body), ignore_index=True)\n"
     ]
    },
    {
     "name": "stdout",
     "output_type": "stream",
     "text": [
      "537001\n"
     ]
    },
    {
     "name": "stderr",
     "output_type": "stream",
     "text": [
      "C:\\Users\\ohy\\AppData\\Local\\Temp\\ipykernel_17400\\3983351454.py:33: FutureWarning: pandas.io.json.json_normalize is deprecated, use pandas.json_normalize instead.\n",
      "  totalDf = totalDf.append(json_normalize(body), ignore_index=True)\n",
      "C:\\Users\\ohy\\AppData\\Local\\Temp\\ipykernel_17400\\3983351454.py:33: FutureWarning: The frame.append method is deprecated and will be removed from pandas in a future version. Use pandas.concat instead.\n",
      "  totalDf = totalDf.append(json_normalize(body), ignore_index=True)\n"
     ]
    },
    {
     "name": "stdout",
     "output_type": "stream",
     "text": [
      "538001\n"
     ]
    },
    {
     "name": "stderr",
     "output_type": "stream",
     "text": [
      "C:\\Users\\ohy\\AppData\\Local\\Temp\\ipykernel_17400\\3983351454.py:33: FutureWarning: pandas.io.json.json_normalize is deprecated, use pandas.json_normalize instead.\n",
      "  totalDf = totalDf.append(json_normalize(body), ignore_index=True)\n",
      "C:\\Users\\ohy\\AppData\\Local\\Temp\\ipykernel_17400\\3983351454.py:33: FutureWarning: The frame.append method is deprecated and will be removed from pandas in a future version. Use pandas.concat instead.\n",
      "  totalDf = totalDf.append(json_normalize(body), ignore_index=True)\n"
     ]
    },
    {
     "name": "stdout",
     "output_type": "stream",
     "text": [
      "539001\n"
     ]
    },
    {
     "name": "stderr",
     "output_type": "stream",
     "text": [
      "C:\\Users\\ohy\\AppData\\Local\\Temp\\ipykernel_17400\\3983351454.py:33: FutureWarning: pandas.io.json.json_normalize is deprecated, use pandas.json_normalize instead.\n",
      "  totalDf = totalDf.append(json_normalize(body), ignore_index=True)\n",
      "C:\\Users\\ohy\\AppData\\Local\\Temp\\ipykernel_17400\\3983351454.py:33: FutureWarning: The frame.append method is deprecated and will be removed from pandas in a future version. Use pandas.concat instead.\n",
      "  totalDf = totalDf.append(json_normalize(body), ignore_index=True)\n"
     ]
    },
    {
     "name": "stdout",
     "output_type": "stream",
     "text": [
      "540001\n"
     ]
    },
    {
     "name": "stderr",
     "output_type": "stream",
     "text": [
      "C:\\Users\\ohy\\AppData\\Local\\Temp\\ipykernel_17400\\3983351454.py:33: FutureWarning: pandas.io.json.json_normalize is deprecated, use pandas.json_normalize instead.\n",
      "  totalDf = totalDf.append(json_normalize(body), ignore_index=True)\n",
      "C:\\Users\\ohy\\AppData\\Local\\Temp\\ipykernel_17400\\3983351454.py:33: FutureWarning: The frame.append method is deprecated and will be removed from pandas in a future version. Use pandas.concat instead.\n",
      "  totalDf = totalDf.append(json_normalize(body), ignore_index=True)\n"
     ]
    },
    {
     "name": "stdout",
     "output_type": "stream",
     "text": [
      "541001\n"
     ]
    },
    {
     "name": "stderr",
     "output_type": "stream",
     "text": [
      "C:\\Users\\ohy\\AppData\\Local\\Temp\\ipykernel_17400\\3983351454.py:33: FutureWarning: pandas.io.json.json_normalize is deprecated, use pandas.json_normalize instead.\n",
      "  totalDf = totalDf.append(json_normalize(body), ignore_index=True)\n",
      "C:\\Users\\ohy\\AppData\\Local\\Temp\\ipykernel_17400\\3983351454.py:33: FutureWarning: The frame.append method is deprecated and will be removed from pandas in a future version. Use pandas.concat instead.\n",
      "  totalDf = totalDf.append(json_normalize(body), ignore_index=True)\n"
     ]
    },
    {
     "name": "stdout",
     "output_type": "stream",
     "text": [
      "542001\n"
     ]
    },
    {
     "name": "stderr",
     "output_type": "stream",
     "text": [
      "C:\\Users\\ohy\\AppData\\Local\\Temp\\ipykernel_17400\\3983351454.py:33: FutureWarning: pandas.io.json.json_normalize is deprecated, use pandas.json_normalize instead.\n",
      "  totalDf = totalDf.append(json_normalize(body), ignore_index=True)\n",
      "C:\\Users\\ohy\\AppData\\Local\\Temp\\ipykernel_17400\\3983351454.py:33: FutureWarning: The frame.append method is deprecated and will be removed from pandas in a future version. Use pandas.concat instead.\n",
      "  totalDf = totalDf.append(json_normalize(body), ignore_index=True)\n"
     ]
    },
    {
     "name": "stdout",
     "output_type": "stream",
     "text": [
      "543001\n"
     ]
    },
    {
     "name": "stderr",
     "output_type": "stream",
     "text": [
      "C:\\Users\\ohy\\AppData\\Local\\Temp\\ipykernel_17400\\3983351454.py:33: FutureWarning: pandas.io.json.json_normalize is deprecated, use pandas.json_normalize instead.\n",
      "  totalDf = totalDf.append(json_normalize(body), ignore_index=True)\n",
      "C:\\Users\\ohy\\AppData\\Local\\Temp\\ipykernel_17400\\3983351454.py:33: FutureWarning: The frame.append method is deprecated and will be removed from pandas in a future version. Use pandas.concat instead.\n",
      "  totalDf = totalDf.append(json_normalize(body), ignore_index=True)\n"
     ]
    },
    {
     "name": "stdout",
     "output_type": "stream",
     "text": [
      "544001\n"
     ]
    },
    {
     "name": "stderr",
     "output_type": "stream",
     "text": [
      "C:\\Users\\ohy\\AppData\\Local\\Temp\\ipykernel_17400\\3983351454.py:33: FutureWarning: pandas.io.json.json_normalize is deprecated, use pandas.json_normalize instead.\n",
      "  totalDf = totalDf.append(json_normalize(body), ignore_index=True)\n",
      "C:\\Users\\ohy\\AppData\\Local\\Temp\\ipykernel_17400\\3983351454.py:33: FutureWarning: The frame.append method is deprecated and will be removed from pandas in a future version. Use pandas.concat instead.\n",
      "  totalDf = totalDf.append(json_normalize(body), ignore_index=True)\n"
     ]
    },
    {
     "name": "stdout",
     "output_type": "stream",
     "text": [
      "545001\n"
     ]
    },
    {
     "name": "stderr",
     "output_type": "stream",
     "text": [
      "C:\\Users\\ohy\\AppData\\Local\\Temp\\ipykernel_17400\\3983351454.py:33: FutureWarning: pandas.io.json.json_normalize is deprecated, use pandas.json_normalize instead.\n",
      "  totalDf = totalDf.append(json_normalize(body), ignore_index=True)\n",
      "C:\\Users\\ohy\\AppData\\Local\\Temp\\ipykernel_17400\\3983351454.py:33: FutureWarning: The frame.append method is deprecated and will be removed from pandas in a future version. Use pandas.concat instead.\n",
      "  totalDf = totalDf.append(json_normalize(body), ignore_index=True)\n"
     ]
    },
    {
     "name": "stdout",
     "output_type": "stream",
     "text": [
      "546001\n"
     ]
    },
    {
     "name": "stderr",
     "output_type": "stream",
     "text": [
      "C:\\Users\\ohy\\AppData\\Local\\Temp\\ipykernel_17400\\3983351454.py:33: FutureWarning: pandas.io.json.json_normalize is deprecated, use pandas.json_normalize instead.\n",
      "  totalDf = totalDf.append(json_normalize(body), ignore_index=True)\n",
      "C:\\Users\\ohy\\AppData\\Local\\Temp\\ipykernel_17400\\3983351454.py:33: FutureWarning: The frame.append method is deprecated and will be removed from pandas in a future version. Use pandas.concat instead.\n",
      "  totalDf = totalDf.append(json_normalize(body), ignore_index=True)\n"
     ]
    },
    {
     "name": "stdout",
     "output_type": "stream",
     "text": [
      "547001\n"
     ]
    },
    {
     "name": "stderr",
     "output_type": "stream",
     "text": [
      "C:\\Users\\ohy\\AppData\\Local\\Temp\\ipykernel_17400\\3983351454.py:33: FutureWarning: pandas.io.json.json_normalize is deprecated, use pandas.json_normalize instead.\n",
      "  totalDf = totalDf.append(json_normalize(body), ignore_index=True)\n",
      "C:\\Users\\ohy\\AppData\\Local\\Temp\\ipykernel_17400\\3983351454.py:33: FutureWarning: The frame.append method is deprecated and will be removed from pandas in a future version. Use pandas.concat instead.\n",
      "  totalDf = totalDf.append(json_normalize(body), ignore_index=True)\n"
     ]
    },
    {
     "name": "stdout",
     "output_type": "stream",
     "text": [
      "548001\n"
     ]
    },
    {
     "name": "stderr",
     "output_type": "stream",
     "text": [
      "C:\\Users\\ohy\\AppData\\Local\\Temp\\ipykernel_17400\\3983351454.py:33: FutureWarning: pandas.io.json.json_normalize is deprecated, use pandas.json_normalize instead.\n",
      "  totalDf = totalDf.append(json_normalize(body), ignore_index=True)\n",
      "C:\\Users\\ohy\\AppData\\Local\\Temp\\ipykernel_17400\\3983351454.py:33: FutureWarning: The frame.append method is deprecated and will be removed from pandas in a future version. Use pandas.concat instead.\n",
      "  totalDf = totalDf.append(json_normalize(body), ignore_index=True)\n"
     ]
    },
    {
     "name": "stdout",
     "output_type": "stream",
     "text": [
      "549001\n"
     ]
    },
    {
     "name": "stderr",
     "output_type": "stream",
     "text": [
      "C:\\Users\\ohy\\AppData\\Local\\Temp\\ipykernel_17400\\3983351454.py:33: FutureWarning: pandas.io.json.json_normalize is deprecated, use pandas.json_normalize instead.\n",
      "  totalDf = totalDf.append(json_normalize(body), ignore_index=True)\n",
      "C:\\Users\\ohy\\AppData\\Local\\Temp\\ipykernel_17400\\3983351454.py:33: FutureWarning: The frame.append method is deprecated and will be removed from pandas in a future version. Use pandas.concat instead.\n",
      "  totalDf = totalDf.append(json_normalize(body), ignore_index=True)\n"
     ]
    },
    {
     "name": "stdout",
     "output_type": "stream",
     "text": [
      "550001\n"
     ]
    },
    {
     "name": "stderr",
     "output_type": "stream",
     "text": [
      "C:\\Users\\ohy\\AppData\\Local\\Temp\\ipykernel_17400\\3983351454.py:33: FutureWarning: pandas.io.json.json_normalize is deprecated, use pandas.json_normalize instead.\n",
      "  totalDf = totalDf.append(json_normalize(body), ignore_index=True)\n",
      "C:\\Users\\ohy\\AppData\\Local\\Temp\\ipykernel_17400\\3983351454.py:33: FutureWarning: The frame.append method is deprecated and will be removed from pandas in a future version. Use pandas.concat instead.\n",
      "  totalDf = totalDf.append(json_normalize(body), ignore_index=True)\n"
     ]
    },
    {
     "name": "stdout",
     "output_type": "stream",
     "text": [
      "551001\n"
     ]
    },
    {
     "name": "stderr",
     "output_type": "stream",
     "text": [
      "C:\\Users\\ohy\\AppData\\Local\\Temp\\ipykernel_17400\\3983351454.py:33: FutureWarning: pandas.io.json.json_normalize is deprecated, use pandas.json_normalize instead.\n",
      "  totalDf = totalDf.append(json_normalize(body), ignore_index=True)\n",
      "C:\\Users\\ohy\\AppData\\Local\\Temp\\ipykernel_17400\\3983351454.py:33: FutureWarning: The frame.append method is deprecated and will be removed from pandas in a future version. Use pandas.concat instead.\n",
      "  totalDf = totalDf.append(json_normalize(body), ignore_index=True)\n"
     ]
    },
    {
     "name": "stdout",
     "output_type": "stream",
     "text": [
      "552001\n"
     ]
    },
    {
     "name": "stderr",
     "output_type": "stream",
     "text": [
      "C:\\Users\\ohy\\AppData\\Local\\Temp\\ipykernel_17400\\3983351454.py:33: FutureWarning: pandas.io.json.json_normalize is deprecated, use pandas.json_normalize instead.\n",
      "  totalDf = totalDf.append(json_normalize(body), ignore_index=True)\n",
      "C:\\Users\\ohy\\AppData\\Local\\Temp\\ipykernel_17400\\3983351454.py:33: FutureWarning: The frame.append method is deprecated and will be removed from pandas in a future version. Use pandas.concat instead.\n",
      "  totalDf = totalDf.append(json_normalize(body), ignore_index=True)\n"
     ]
    },
    {
     "name": "stdout",
     "output_type": "stream",
     "text": [
      "553001\n"
     ]
    },
    {
     "name": "stderr",
     "output_type": "stream",
     "text": [
      "C:\\Users\\ohy\\AppData\\Local\\Temp\\ipykernel_17400\\3983351454.py:33: FutureWarning: pandas.io.json.json_normalize is deprecated, use pandas.json_normalize instead.\n",
      "  totalDf = totalDf.append(json_normalize(body), ignore_index=True)\n",
      "C:\\Users\\ohy\\AppData\\Local\\Temp\\ipykernel_17400\\3983351454.py:33: FutureWarning: The frame.append method is deprecated and will be removed from pandas in a future version. Use pandas.concat instead.\n",
      "  totalDf = totalDf.append(json_normalize(body), ignore_index=True)\n"
     ]
    },
    {
     "name": "stdout",
     "output_type": "stream",
     "text": [
      "554001\n"
     ]
    },
    {
     "name": "stderr",
     "output_type": "stream",
     "text": [
      "C:\\Users\\ohy\\AppData\\Local\\Temp\\ipykernel_17400\\3983351454.py:33: FutureWarning: pandas.io.json.json_normalize is deprecated, use pandas.json_normalize instead.\n",
      "  totalDf = totalDf.append(json_normalize(body), ignore_index=True)\n",
      "C:\\Users\\ohy\\AppData\\Local\\Temp\\ipykernel_17400\\3983351454.py:33: FutureWarning: The frame.append method is deprecated and will be removed from pandas in a future version. Use pandas.concat instead.\n",
      "  totalDf = totalDf.append(json_normalize(body), ignore_index=True)\n"
     ]
    },
    {
     "name": "stdout",
     "output_type": "stream",
     "text": [
      "555001\n"
     ]
    },
    {
     "name": "stderr",
     "output_type": "stream",
     "text": [
      "C:\\Users\\ohy\\AppData\\Local\\Temp\\ipykernel_17400\\3983351454.py:33: FutureWarning: pandas.io.json.json_normalize is deprecated, use pandas.json_normalize instead.\n",
      "  totalDf = totalDf.append(json_normalize(body), ignore_index=True)\n",
      "C:\\Users\\ohy\\AppData\\Local\\Temp\\ipykernel_17400\\3983351454.py:33: FutureWarning: The frame.append method is deprecated and will be removed from pandas in a future version. Use pandas.concat instead.\n",
      "  totalDf = totalDf.append(json_normalize(body), ignore_index=True)\n"
     ]
    },
    {
     "name": "stdout",
     "output_type": "stream",
     "text": [
      "556001\n"
     ]
    },
    {
     "name": "stderr",
     "output_type": "stream",
     "text": [
      "C:\\Users\\ohy\\AppData\\Local\\Temp\\ipykernel_17400\\3983351454.py:33: FutureWarning: pandas.io.json.json_normalize is deprecated, use pandas.json_normalize instead.\n",
      "  totalDf = totalDf.append(json_normalize(body), ignore_index=True)\n",
      "C:\\Users\\ohy\\AppData\\Local\\Temp\\ipykernel_17400\\3983351454.py:33: FutureWarning: The frame.append method is deprecated and will be removed from pandas in a future version. Use pandas.concat instead.\n",
      "  totalDf = totalDf.append(json_normalize(body), ignore_index=True)\n"
     ]
    },
    {
     "name": "stdout",
     "output_type": "stream",
     "text": [
      "557001\n"
     ]
    },
    {
     "name": "stderr",
     "output_type": "stream",
     "text": [
      "C:\\Users\\ohy\\AppData\\Local\\Temp\\ipykernel_17400\\3983351454.py:33: FutureWarning: pandas.io.json.json_normalize is deprecated, use pandas.json_normalize instead.\n",
      "  totalDf = totalDf.append(json_normalize(body), ignore_index=True)\n",
      "C:\\Users\\ohy\\AppData\\Local\\Temp\\ipykernel_17400\\3983351454.py:33: FutureWarning: The frame.append method is deprecated and will be removed from pandas in a future version. Use pandas.concat instead.\n",
      "  totalDf = totalDf.append(json_normalize(body), ignore_index=True)\n"
     ]
    },
    {
     "name": "stdout",
     "output_type": "stream",
     "text": [
      "558001\n"
     ]
    },
    {
     "name": "stderr",
     "output_type": "stream",
     "text": [
      "C:\\Users\\ohy\\AppData\\Local\\Temp\\ipykernel_17400\\3983351454.py:33: FutureWarning: pandas.io.json.json_normalize is deprecated, use pandas.json_normalize instead.\n",
      "  totalDf = totalDf.append(json_normalize(body), ignore_index=True)\n",
      "C:\\Users\\ohy\\AppData\\Local\\Temp\\ipykernel_17400\\3983351454.py:33: FutureWarning: The frame.append method is deprecated and will be removed from pandas in a future version. Use pandas.concat instead.\n",
      "  totalDf = totalDf.append(json_normalize(body), ignore_index=True)\n"
     ]
    },
    {
     "name": "stdout",
     "output_type": "stream",
     "text": [
      "559001\n"
     ]
    },
    {
     "name": "stderr",
     "output_type": "stream",
     "text": [
      "C:\\Users\\ohy\\AppData\\Local\\Temp\\ipykernel_17400\\3983351454.py:33: FutureWarning: pandas.io.json.json_normalize is deprecated, use pandas.json_normalize instead.\n",
      "  totalDf = totalDf.append(json_normalize(body), ignore_index=True)\n",
      "C:\\Users\\ohy\\AppData\\Local\\Temp\\ipykernel_17400\\3983351454.py:33: FutureWarning: The frame.append method is deprecated and will be removed from pandas in a future version. Use pandas.concat instead.\n",
      "  totalDf = totalDf.append(json_normalize(body), ignore_index=True)\n"
     ]
    },
    {
     "name": "stdout",
     "output_type": "stream",
     "text": [
      "560001\n"
     ]
    },
    {
     "name": "stderr",
     "output_type": "stream",
     "text": [
      "C:\\Users\\ohy\\AppData\\Local\\Temp\\ipykernel_17400\\3983351454.py:33: FutureWarning: pandas.io.json.json_normalize is deprecated, use pandas.json_normalize instead.\n",
      "  totalDf = totalDf.append(json_normalize(body), ignore_index=True)\n",
      "C:\\Users\\ohy\\AppData\\Local\\Temp\\ipykernel_17400\\3983351454.py:33: FutureWarning: The frame.append method is deprecated and will be removed from pandas in a future version. Use pandas.concat instead.\n",
      "  totalDf = totalDf.append(json_normalize(body), ignore_index=True)\n"
     ]
    },
    {
     "name": "stdout",
     "output_type": "stream",
     "text": [
      "561001\n"
     ]
    },
    {
     "name": "stderr",
     "output_type": "stream",
     "text": [
      "C:\\Users\\ohy\\AppData\\Local\\Temp\\ipykernel_17400\\3983351454.py:33: FutureWarning: pandas.io.json.json_normalize is deprecated, use pandas.json_normalize instead.\n",
      "  totalDf = totalDf.append(json_normalize(body), ignore_index=True)\n",
      "C:\\Users\\ohy\\AppData\\Local\\Temp\\ipykernel_17400\\3983351454.py:33: FutureWarning: The frame.append method is deprecated and will be removed from pandas in a future version. Use pandas.concat instead.\n",
      "  totalDf = totalDf.append(json_normalize(body), ignore_index=True)\n"
     ]
    },
    {
     "name": "stdout",
     "output_type": "stream",
     "text": [
      "562001\n"
     ]
    },
    {
     "name": "stderr",
     "output_type": "stream",
     "text": [
      "C:\\Users\\ohy\\AppData\\Local\\Temp\\ipykernel_17400\\3983351454.py:33: FutureWarning: pandas.io.json.json_normalize is deprecated, use pandas.json_normalize instead.\n",
      "  totalDf = totalDf.append(json_normalize(body), ignore_index=True)\n",
      "C:\\Users\\ohy\\AppData\\Local\\Temp\\ipykernel_17400\\3983351454.py:33: FutureWarning: The frame.append method is deprecated and will be removed from pandas in a future version. Use pandas.concat instead.\n",
      "  totalDf = totalDf.append(json_normalize(body), ignore_index=True)\n"
     ]
    },
    {
     "name": "stdout",
     "output_type": "stream",
     "text": [
      "563001\n"
     ]
    },
    {
     "name": "stderr",
     "output_type": "stream",
     "text": [
      "C:\\Users\\ohy\\AppData\\Local\\Temp\\ipykernel_17400\\3983351454.py:33: FutureWarning: pandas.io.json.json_normalize is deprecated, use pandas.json_normalize instead.\n",
      "  totalDf = totalDf.append(json_normalize(body), ignore_index=True)\n",
      "C:\\Users\\ohy\\AppData\\Local\\Temp\\ipykernel_17400\\3983351454.py:33: FutureWarning: The frame.append method is deprecated and will be removed from pandas in a future version. Use pandas.concat instead.\n",
      "  totalDf = totalDf.append(json_normalize(body), ignore_index=True)\n"
     ]
    },
    {
     "name": "stdout",
     "output_type": "stream",
     "text": [
      "564001\n"
     ]
    },
    {
     "name": "stderr",
     "output_type": "stream",
     "text": [
      "C:\\Users\\ohy\\AppData\\Local\\Temp\\ipykernel_17400\\3983351454.py:33: FutureWarning: pandas.io.json.json_normalize is deprecated, use pandas.json_normalize instead.\n",
      "  totalDf = totalDf.append(json_normalize(body), ignore_index=True)\n",
      "C:\\Users\\ohy\\AppData\\Local\\Temp\\ipykernel_17400\\3983351454.py:33: FutureWarning: The frame.append method is deprecated and will be removed from pandas in a future version. Use pandas.concat instead.\n",
      "  totalDf = totalDf.append(json_normalize(body), ignore_index=True)\n"
     ]
    },
    {
     "name": "stdout",
     "output_type": "stream",
     "text": [
      "565001\n"
     ]
    },
    {
     "name": "stderr",
     "output_type": "stream",
     "text": [
      "C:\\Users\\ohy\\AppData\\Local\\Temp\\ipykernel_17400\\3983351454.py:33: FutureWarning: pandas.io.json.json_normalize is deprecated, use pandas.json_normalize instead.\n",
      "  totalDf = totalDf.append(json_normalize(body), ignore_index=True)\n",
      "C:\\Users\\ohy\\AppData\\Local\\Temp\\ipykernel_17400\\3983351454.py:33: FutureWarning: The frame.append method is deprecated and will be removed from pandas in a future version. Use pandas.concat instead.\n",
      "  totalDf = totalDf.append(json_normalize(body), ignore_index=True)\n"
     ]
    },
    {
     "name": "stdout",
     "output_type": "stream",
     "text": [
      "566001\n"
     ]
    },
    {
     "name": "stderr",
     "output_type": "stream",
     "text": [
      "C:\\Users\\ohy\\AppData\\Local\\Temp\\ipykernel_17400\\3983351454.py:33: FutureWarning: pandas.io.json.json_normalize is deprecated, use pandas.json_normalize instead.\n",
      "  totalDf = totalDf.append(json_normalize(body), ignore_index=True)\n",
      "C:\\Users\\ohy\\AppData\\Local\\Temp\\ipykernel_17400\\3983351454.py:33: FutureWarning: The frame.append method is deprecated and will be removed from pandas in a future version. Use pandas.concat instead.\n",
      "  totalDf = totalDf.append(json_normalize(body), ignore_index=True)\n"
     ]
    },
    {
     "name": "stdout",
     "output_type": "stream",
     "text": [
      "567001\n"
     ]
    },
    {
     "name": "stderr",
     "output_type": "stream",
     "text": [
      "C:\\Users\\ohy\\AppData\\Local\\Temp\\ipykernel_17400\\3983351454.py:33: FutureWarning: pandas.io.json.json_normalize is deprecated, use pandas.json_normalize instead.\n",
      "  totalDf = totalDf.append(json_normalize(body), ignore_index=True)\n",
      "C:\\Users\\ohy\\AppData\\Local\\Temp\\ipykernel_17400\\3983351454.py:33: FutureWarning: The frame.append method is deprecated and will be removed from pandas in a future version. Use pandas.concat instead.\n",
      "  totalDf = totalDf.append(json_normalize(body), ignore_index=True)\n"
     ]
    },
    {
     "name": "stdout",
     "output_type": "stream",
     "text": [
      "568001\n"
     ]
    },
    {
     "name": "stderr",
     "output_type": "stream",
     "text": [
      "C:\\Users\\ohy\\AppData\\Local\\Temp\\ipykernel_17400\\3983351454.py:33: FutureWarning: pandas.io.json.json_normalize is deprecated, use pandas.json_normalize instead.\n",
      "  totalDf = totalDf.append(json_normalize(body), ignore_index=True)\n",
      "C:\\Users\\ohy\\AppData\\Local\\Temp\\ipykernel_17400\\3983351454.py:33: FutureWarning: The frame.append method is deprecated and will be removed from pandas in a future version. Use pandas.concat instead.\n",
      "  totalDf = totalDf.append(json_normalize(body), ignore_index=True)\n"
     ]
    },
    {
     "name": "stdout",
     "output_type": "stream",
     "text": [
      "569001\n"
     ]
    },
    {
     "name": "stderr",
     "output_type": "stream",
     "text": [
      "C:\\Users\\ohy\\AppData\\Local\\Temp\\ipykernel_17400\\3983351454.py:33: FutureWarning: pandas.io.json.json_normalize is deprecated, use pandas.json_normalize instead.\n",
      "  totalDf = totalDf.append(json_normalize(body), ignore_index=True)\n",
      "C:\\Users\\ohy\\AppData\\Local\\Temp\\ipykernel_17400\\3983351454.py:33: FutureWarning: The frame.append method is deprecated and will be removed from pandas in a future version. Use pandas.concat instead.\n",
      "  totalDf = totalDf.append(json_normalize(body), ignore_index=True)\n"
     ]
    },
    {
     "name": "stdout",
     "output_type": "stream",
     "text": [
      "570001\n"
     ]
    },
    {
     "name": "stderr",
     "output_type": "stream",
     "text": [
      "C:\\Users\\ohy\\AppData\\Local\\Temp\\ipykernel_17400\\3983351454.py:33: FutureWarning: pandas.io.json.json_normalize is deprecated, use pandas.json_normalize instead.\n",
      "  totalDf = totalDf.append(json_normalize(body), ignore_index=True)\n",
      "C:\\Users\\ohy\\AppData\\Local\\Temp\\ipykernel_17400\\3983351454.py:33: FutureWarning: The frame.append method is deprecated and will be removed from pandas in a future version. Use pandas.concat instead.\n",
      "  totalDf = totalDf.append(json_normalize(body), ignore_index=True)\n"
     ]
    },
    {
     "name": "stdout",
     "output_type": "stream",
     "text": [
      "571001\n"
     ]
    },
    {
     "name": "stderr",
     "output_type": "stream",
     "text": [
      "C:\\Users\\ohy\\AppData\\Local\\Temp\\ipykernel_17400\\3983351454.py:33: FutureWarning: pandas.io.json.json_normalize is deprecated, use pandas.json_normalize instead.\n",
      "  totalDf = totalDf.append(json_normalize(body), ignore_index=True)\n",
      "C:\\Users\\ohy\\AppData\\Local\\Temp\\ipykernel_17400\\3983351454.py:33: FutureWarning: The frame.append method is deprecated and will be removed from pandas in a future version. Use pandas.concat instead.\n",
      "  totalDf = totalDf.append(json_normalize(body), ignore_index=True)\n"
     ]
    },
    {
     "name": "stdout",
     "output_type": "stream",
     "text": [
      "572001\n"
     ]
    },
    {
     "name": "stderr",
     "output_type": "stream",
     "text": [
      "C:\\Users\\ohy\\AppData\\Local\\Temp\\ipykernel_17400\\3983351454.py:33: FutureWarning: pandas.io.json.json_normalize is deprecated, use pandas.json_normalize instead.\n",
      "  totalDf = totalDf.append(json_normalize(body), ignore_index=True)\n",
      "C:\\Users\\ohy\\AppData\\Local\\Temp\\ipykernel_17400\\3983351454.py:33: FutureWarning: The frame.append method is deprecated and will be removed from pandas in a future version. Use pandas.concat instead.\n",
      "  totalDf = totalDf.append(json_normalize(body), ignore_index=True)\n"
     ]
    },
    {
     "name": "stdout",
     "output_type": "stream",
     "text": [
      "573001\n"
     ]
    },
    {
     "name": "stderr",
     "output_type": "stream",
     "text": [
      "C:\\Users\\ohy\\AppData\\Local\\Temp\\ipykernel_17400\\3983351454.py:33: FutureWarning: pandas.io.json.json_normalize is deprecated, use pandas.json_normalize instead.\n",
      "  totalDf = totalDf.append(json_normalize(body), ignore_index=True)\n",
      "C:\\Users\\ohy\\AppData\\Local\\Temp\\ipykernel_17400\\3983351454.py:33: FutureWarning: The frame.append method is deprecated and will be removed from pandas in a future version. Use pandas.concat instead.\n",
      "  totalDf = totalDf.append(json_normalize(body), ignore_index=True)\n"
     ]
    },
    {
     "name": "stdout",
     "output_type": "stream",
     "text": [
      "574001\n"
     ]
    },
    {
     "name": "stderr",
     "output_type": "stream",
     "text": [
      "C:\\Users\\ohy\\AppData\\Local\\Temp\\ipykernel_17400\\3983351454.py:33: FutureWarning: pandas.io.json.json_normalize is deprecated, use pandas.json_normalize instead.\n",
      "  totalDf = totalDf.append(json_normalize(body), ignore_index=True)\n",
      "C:\\Users\\ohy\\AppData\\Local\\Temp\\ipykernel_17400\\3983351454.py:33: FutureWarning: The frame.append method is deprecated and will be removed from pandas in a future version. Use pandas.concat instead.\n",
      "  totalDf = totalDf.append(json_normalize(body), ignore_index=True)\n"
     ]
    },
    {
     "name": "stdout",
     "output_type": "stream",
     "text": [
      "575001\n"
     ]
    },
    {
     "name": "stderr",
     "output_type": "stream",
     "text": [
      "C:\\Users\\ohy\\AppData\\Local\\Temp\\ipykernel_17400\\3983351454.py:33: FutureWarning: pandas.io.json.json_normalize is deprecated, use pandas.json_normalize instead.\n",
      "  totalDf = totalDf.append(json_normalize(body), ignore_index=True)\n",
      "C:\\Users\\ohy\\AppData\\Local\\Temp\\ipykernel_17400\\3983351454.py:33: FutureWarning: The frame.append method is deprecated and will be removed from pandas in a future version. Use pandas.concat instead.\n",
      "  totalDf = totalDf.append(json_normalize(body), ignore_index=True)\n"
     ]
    },
    {
     "name": "stdout",
     "output_type": "stream",
     "text": [
      "576001\n"
     ]
    },
    {
     "name": "stderr",
     "output_type": "stream",
     "text": [
      "C:\\Users\\ohy\\AppData\\Local\\Temp\\ipykernel_17400\\3983351454.py:33: FutureWarning: pandas.io.json.json_normalize is deprecated, use pandas.json_normalize instead.\n",
      "  totalDf = totalDf.append(json_normalize(body), ignore_index=True)\n",
      "C:\\Users\\ohy\\AppData\\Local\\Temp\\ipykernel_17400\\3983351454.py:33: FutureWarning: The frame.append method is deprecated and will be removed from pandas in a future version. Use pandas.concat instead.\n",
      "  totalDf = totalDf.append(json_normalize(body), ignore_index=True)\n"
     ]
    },
    {
     "name": "stdout",
     "output_type": "stream",
     "text": [
      "577001\n"
     ]
    },
    {
     "name": "stderr",
     "output_type": "stream",
     "text": [
      "C:\\Users\\ohy\\AppData\\Local\\Temp\\ipykernel_17400\\3983351454.py:33: FutureWarning: pandas.io.json.json_normalize is deprecated, use pandas.json_normalize instead.\n",
      "  totalDf = totalDf.append(json_normalize(body), ignore_index=True)\n",
      "C:\\Users\\ohy\\AppData\\Local\\Temp\\ipykernel_17400\\3983351454.py:33: FutureWarning: The frame.append method is deprecated and will be removed from pandas in a future version. Use pandas.concat instead.\n",
      "  totalDf = totalDf.append(json_normalize(body), ignore_index=True)\n"
     ]
    },
    {
     "name": "stdout",
     "output_type": "stream",
     "text": [
      "578001\n"
     ]
    },
    {
     "name": "stderr",
     "output_type": "stream",
     "text": [
      "C:\\Users\\ohy\\AppData\\Local\\Temp\\ipykernel_17400\\3983351454.py:33: FutureWarning: pandas.io.json.json_normalize is deprecated, use pandas.json_normalize instead.\n",
      "  totalDf = totalDf.append(json_normalize(body), ignore_index=True)\n",
      "C:\\Users\\ohy\\AppData\\Local\\Temp\\ipykernel_17400\\3983351454.py:33: FutureWarning: The frame.append method is deprecated and will be removed from pandas in a future version. Use pandas.concat instead.\n",
      "  totalDf = totalDf.append(json_normalize(body), ignore_index=True)\n"
     ]
    },
    {
     "name": "stdout",
     "output_type": "stream",
     "text": [
      "579001\n"
     ]
    },
    {
     "name": "stderr",
     "output_type": "stream",
     "text": [
      "C:\\Users\\ohy\\AppData\\Local\\Temp\\ipykernel_17400\\3983351454.py:33: FutureWarning: pandas.io.json.json_normalize is deprecated, use pandas.json_normalize instead.\n",
      "  totalDf = totalDf.append(json_normalize(body), ignore_index=True)\n",
      "C:\\Users\\ohy\\AppData\\Local\\Temp\\ipykernel_17400\\3983351454.py:33: FutureWarning: The frame.append method is deprecated and will be removed from pandas in a future version. Use pandas.concat instead.\n",
      "  totalDf = totalDf.append(json_normalize(body), ignore_index=True)\n"
     ]
    },
    {
     "name": "stdout",
     "output_type": "stream",
     "text": [
      "580001\n"
     ]
    },
    {
     "name": "stderr",
     "output_type": "stream",
     "text": [
      "C:\\Users\\ohy\\AppData\\Local\\Temp\\ipykernel_17400\\3983351454.py:33: FutureWarning: pandas.io.json.json_normalize is deprecated, use pandas.json_normalize instead.\n",
      "  totalDf = totalDf.append(json_normalize(body), ignore_index=True)\n",
      "C:\\Users\\ohy\\AppData\\Local\\Temp\\ipykernel_17400\\3983351454.py:33: FutureWarning: The frame.append method is deprecated and will be removed from pandas in a future version. Use pandas.concat instead.\n",
      "  totalDf = totalDf.append(json_normalize(body), ignore_index=True)\n"
     ]
    },
    {
     "name": "stdout",
     "output_type": "stream",
     "text": [
      "581001\n"
     ]
    },
    {
     "name": "stderr",
     "output_type": "stream",
     "text": [
      "C:\\Users\\ohy\\AppData\\Local\\Temp\\ipykernel_17400\\3983351454.py:33: FutureWarning: pandas.io.json.json_normalize is deprecated, use pandas.json_normalize instead.\n",
      "  totalDf = totalDf.append(json_normalize(body), ignore_index=True)\n",
      "C:\\Users\\ohy\\AppData\\Local\\Temp\\ipykernel_17400\\3983351454.py:33: FutureWarning: The frame.append method is deprecated and will be removed from pandas in a future version. Use pandas.concat instead.\n",
      "  totalDf = totalDf.append(json_normalize(body), ignore_index=True)\n"
     ]
    },
    {
     "name": "stdout",
     "output_type": "stream",
     "text": [
      "582001\n"
     ]
    },
    {
     "name": "stderr",
     "output_type": "stream",
     "text": [
      "C:\\Users\\ohy\\AppData\\Local\\Temp\\ipykernel_17400\\3983351454.py:33: FutureWarning: pandas.io.json.json_normalize is deprecated, use pandas.json_normalize instead.\n",
      "  totalDf = totalDf.append(json_normalize(body), ignore_index=True)\n",
      "C:\\Users\\ohy\\AppData\\Local\\Temp\\ipykernel_17400\\3983351454.py:33: FutureWarning: The frame.append method is deprecated and will be removed from pandas in a future version. Use pandas.concat instead.\n",
      "  totalDf = totalDf.append(json_normalize(body), ignore_index=True)\n"
     ]
    },
    {
     "name": "stdout",
     "output_type": "stream",
     "text": [
      "583001\n"
     ]
    },
    {
     "name": "stderr",
     "output_type": "stream",
     "text": [
      "C:\\Users\\ohy\\AppData\\Local\\Temp\\ipykernel_17400\\3983351454.py:33: FutureWarning: pandas.io.json.json_normalize is deprecated, use pandas.json_normalize instead.\n",
      "  totalDf = totalDf.append(json_normalize(body), ignore_index=True)\n",
      "C:\\Users\\ohy\\AppData\\Local\\Temp\\ipykernel_17400\\3983351454.py:33: FutureWarning: The frame.append method is deprecated and will be removed from pandas in a future version. Use pandas.concat instead.\n",
      "  totalDf = totalDf.append(json_normalize(body), ignore_index=True)\n"
     ]
    },
    {
     "name": "stdout",
     "output_type": "stream",
     "text": [
      "584001\n"
     ]
    },
    {
     "name": "stderr",
     "output_type": "stream",
     "text": [
      "C:\\Users\\ohy\\AppData\\Local\\Temp\\ipykernel_17400\\3983351454.py:33: FutureWarning: pandas.io.json.json_normalize is deprecated, use pandas.json_normalize instead.\n",
      "  totalDf = totalDf.append(json_normalize(body), ignore_index=True)\n",
      "C:\\Users\\ohy\\AppData\\Local\\Temp\\ipykernel_17400\\3983351454.py:33: FutureWarning: The frame.append method is deprecated and will be removed from pandas in a future version. Use pandas.concat instead.\n",
      "  totalDf = totalDf.append(json_normalize(body), ignore_index=True)\n"
     ]
    },
    {
     "name": "stdout",
     "output_type": "stream",
     "text": [
      "585001\n"
     ]
    },
    {
     "name": "stderr",
     "output_type": "stream",
     "text": [
      "C:\\Users\\ohy\\AppData\\Local\\Temp\\ipykernel_17400\\3983351454.py:33: FutureWarning: pandas.io.json.json_normalize is deprecated, use pandas.json_normalize instead.\n",
      "  totalDf = totalDf.append(json_normalize(body), ignore_index=True)\n",
      "C:\\Users\\ohy\\AppData\\Local\\Temp\\ipykernel_17400\\3983351454.py:33: FutureWarning: The frame.append method is deprecated and will be removed from pandas in a future version. Use pandas.concat instead.\n",
      "  totalDf = totalDf.append(json_normalize(body), ignore_index=True)\n"
     ]
    },
    {
     "name": "stdout",
     "output_type": "stream",
     "text": [
      "586001\n"
     ]
    },
    {
     "name": "stderr",
     "output_type": "stream",
     "text": [
      "C:\\Users\\ohy\\AppData\\Local\\Temp\\ipykernel_17400\\3983351454.py:33: FutureWarning: pandas.io.json.json_normalize is deprecated, use pandas.json_normalize instead.\n",
      "  totalDf = totalDf.append(json_normalize(body), ignore_index=True)\n",
      "C:\\Users\\ohy\\AppData\\Local\\Temp\\ipykernel_17400\\3983351454.py:33: FutureWarning: The frame.append method is deprecated and will be removed from pandas in a future version. Use pandas.concat instead.\n",
      "  totalDf = totalDf.append(json_normalize(body), ignore_index=True)\n"
     ]
    },
    {
     "name": "stdout",
     "output_type": "stream",
     "text": [
      "587001\n"
     ]
    },
    {
     "name": "stderr",
     "output_type": "stream",
     "text": [
      "C:\\Users\\ohy\\AppData\\Local\\Temp\\ipykernel_17400\\3983351454.py:33: FutureWarning: pandas.io.json.json_normalize is deprecated, use pandas.json_normalize instead.\n",
      "  totalDf = totalDf.append(json_normalize(body), ignore_index=True)\n",
      "C:\\Users\\ohy\\AppData\\Local\\Temp\\ipykernel_17400\\3983351454.py:33: FutureWarning: The frame.append method is deprecated and will be removed from pandas in a future version. Use pandas.concat instead.\n",
      "  totalDf = totalDf.append(json_normalize(body), ignore_index=True)\n"
     ]
    },
    {
     "name": "stdout",
     "output_type": "stream",
     "text": [
      "588001\n"
     ]
    },
    {
     "name": "stderr",
     "output_type": "stream",
     "text": [
      "C:\\Users\\ohy\\AppData\\Local\\Temp\\ipykernel_17400\\3983351454.py:33: FutureWarning: pandas.io.json.json_normalize is deprecated, use pandas.json_normalize instead.\n",
      "  totalDf = totalDf.append(json_normalize(body), ignore_index=True)\n",
      "C:\\Users\\ohy\\AppData\\Local\\Temp\\ipykernel_17400\\3983351454.py:33: FutureWarning: The frame.append method is deprecated and will be removed from pandas in a future version. Use pandas.concat instead.\n",
      "  totalDf = totalDf.append(json_normalize(body), ignore_index=True)\n"
     ]
    },
    {
     "name": "stdout",
     "output_type": "stream",
     "text": [
      "589001\n"
     ]
    },
    {
     "name": "stderr",
     "output_type": "stream",
     "text": [
      "C:\\Users\\ohy\\AppData\\Local\\Temp\\ipykernel_17400\\3983351454.py:33: FutureWarning: pandas.io.json.json_normalize is deprecated, use pandas.json_normalize instead.\n",
      "  totalDf = totalDf.append(json_normalize(body), ignore_index=True)\n",
      "C:\\Users\\ohy\\AppData\\Local\\Temp\\ipykernel_17400\\3983351454.py:33: FutureWarning: The frame.append method is deprecated and will be removed from pandas in a future version. Use pandas.concat instead.\n",
      "  totalDf = totalDf.append(json_normalize(body), ignore_index=True)\n"
     ]
    },
    {
     "name": "stdout",
     "output_type": "stream",
     "text": [
      "590001\n"
     ]
    },
    {
     "name": "stderr",
     "output_type": "stream",
     "text": [
      "C:\\Users\\ohy\\AppData\\Local\\Temp\\ipykernel_17400\\3983351454.py:33: FutureWarning: pandas.io.json.json_normalize is deprecated, use pandas.json_normalize instead.\n",
      "  totalDf = totalDf.append(json_normalize(body), ignore_index=True)\n",
      "C:\\Users\\ohy\\AppData\\Local\\Temp\\ipykernel_17400\\3983351454.py:33: FutureWarning: The frame.append method is deprecated and will be removed from pandas in a future version. Use pandas.concat instead.\n",
      "  totalDf = totalDf.append(json_normalize(body), ignore_index=True)\n"
     ]
    },
    {
     "name": "stdout",
     "output_type": "stream",
     "text": [
      "591001\n"
     ]
    },
    {
     "name": "stderr",
     "output_type": "stream",
     "text": [
      "C:\\Users\\ohy\\AppData\\Local\\Temp\\ipykernel_17400\\3983351454.py:33: FutureWarning: pandas.io.json.json_normalize is deprecated, use pandas.json_normalize instead.\n",
      "  totalDf = totalDf.append(json_normalize(body), ignore_index=True)\n",
      "C:\\Users\\ohy\\AppData\\Local\\Temp\\ipykernel_17400\\3983351454.py:33: FutureWarning: The frame.append method is deprecated and will be removed from pandas in a future version. Use pandas.concat instead.\n",
      "  totalDf = totalDf.append(json_normalize(body), ignore_index=True)\n"
     ]
    },
    {
     "name": "stdout",
     "output_type": "stream",
     "text": [
      "592001\n"
     ]
    },
    {
     "name": "stderr",
     "output_type": "stream",
     "text": [
      "C:\\Users\\ohy\\AppData\\Local\\Temp\\ipykernel_17400\\3983351454.py:33: FutureWarning: pandas.io.json.json_normalize is deprecated, use pandas.json_normalize instead.\n",
      "  totalDf = totalDf.append(json_normalize(body), ignore_index=True)\n",
      "C:\\Users\\ohy\\AppData\\Local\\Temp\\ipykernel_17400\\3983351454.py:33: FutureWarning: The frame.append method is deprecated and will be removed from pandas in a future version. Use pandas.concat instead.\n",
      "  totalDf = totalDf.append(json_normalize(body), ignore_index=True)\n"
     ]
    },
    {
     "name": "stdout",
     "output_type": "stream",
     "text": [
      "593001\n"
     ]
    },
    {
     "name": "stderr",
     "output_type": "stream",
     "text": [
      "C:\\Users\\ohy\\AppData\\Local\\Temp\\ipykernel_17400\\3983351454.py:33: FutureWarning: pandas.io.json.json_normalize is deprecated, use pandas.json_normalize instead.\n",
      "  totalDf = totalDf.append(json_normalize(body), ignore_index=True)\n",
      "C:\\Users\\ohy\\AppData\\Local\\Temp\\ipykernel_17400\\3983351454.py:33: FutureWarning: The frame.append method is deprecated and will be removed from pandas in a future version. Use pandas.concat instead.\n",
      "  totalDf = totalDf.append(json_normalize(body), ignore_index=True)\n"
     ]
    },
    {
     "name": "stdout",
     "output_type": "stream",
     "text": [
      "594001\n"
     ]
    },
    {
     "name": "stderr",
     "output_type": "stream",
     "text": [
      "C:\\Users\\ohy\\AppData\\Local\\Temp\\ipykernel_17400\\3983351454.py:33: FutureWarning: pandas.io.json.json_normalize is deprecated, use pandas.json_normalize instead.\n",
      "  totalDf = totalDf.append(json_normalize(body), ignore_index=True)\n",
      "C:\\Users\\ohy\\AppData\\Local\\Temp\\ipykernel_17400\\3983351454.py:33: FutureWarning: The frame.append method is deprecated and will be removed from pandas in a future version. Use pandas.concat instead.\n",
      "  totalDf = totalDf.append(json_normalize(body), ignore_index=True)\n"
     ]
    },
    {
     "name": "stdout",
     "output_type": "stream",
     "text": [
      "595001\n"
     ]
    },
    {
     "name": "stderr",
     "output_type": "stream",
     "text": [
      "C:\\Users\\ohy\\AppData\\Local\\Temp\\ipykernel_17400\\3983351454.py:33: FutureWarning: pandas.io.json.json_normalize is deprecated, use pandas.json_normalize instead.\n",
      "  totalDf = totalDf.append(json_normalize(body), ignore_index=True)\n",
      "C:\\Users\\ohy\\AppData\\Local\\Temp\\ipykernel_17400\\3983351454.py:33: FutureWarning: The frame.append method is deprecated and will be removed from pandas in a future version. Use pandas.concat instead.\n",
      "  totalDf = totalDf.append(json_normalize(body), ignore_index=True)\n"
     ]
    },
    {
     "name": "stdout",
     "output_type": "stream",
     "text": [
      "596001\n"
     ]
    },
    {
     "name": "stderr",
     "output_type": "stream",
     "text": [
      "C:\\Users\\ohy\\AppData\\Local\\Temp\\ipykernel_17400\\3983351454.py:33: FutureWarning: pandas.io.json.json_normalize is deprecated, use pandas.json_normalize instead.\n",
      "  totalDf = totalDf.append(json_normalize(body), ignore_index=True)\n",
      "C:\\Users\\ohy\\AppData\\Local\\Temp\\ipykernel_17400\\3983351454.py:33: FutureWarning: The frame.append method is deprecated and will be removed from pandas in a future version. Use pandas.concat instead.\n",
      "  totalDf = totalDf.append(json_normalize(body), ignore_index=True)\n"
     ]
    },
    {
     "name": "stdout",
     "output_type": "stream",
     "text": [
      "597001\n"
     ]
    },
    {
     "name": "stderr",
     "output_type": "stream",
     "text": [
      "C:\\Users\\ohy\\AppData\\Local\\Temp\\ipykernel_17400\\3983351454.py:33: FutureWarning: pandas.io.json.json_normalize is deprecated, use pandas.json_normalize instead.\n",
      "  totalDf = totalDf.append(json_normalize(body), ignore_index=True)\n",
      "C:\\Users\\ohy\\AppData\\Local\\Temp\\ipykernel_17400\\3983351454.py:33: FutureWarning: The frame.append method is deprecated and will be removed from pandas in a future version. Use pandas.concat instead.\n",
      "  totalDf = totalDf.append(json_normalize(body), ignore_index=True)\n"
     ]
    },
    {
     "name": "stdout",
     "output_type": "stream",
     "text": [
      "598001\n"
     ]
    },
    {
     "name": "stderr",
     "output_type": "stream",
     "text": [
      "C:\\Users\\ohy\\AppData\\Local\\Temp\\ipykernel_17400\\3983351454.py:33: FutureWarning: pandas.io.json.json_normalize is deprecated, use pandas.json_normalize instead.\n",
      "  totalDf = totalDf.append(json_normalize(body), ignore_index=True)\n",
      "C:\\Users\\ohy\\AppData\\Local\\Temp\\ipykernel_17400\\3983351454.py:33: FutureWarning: The frame.append method is deprecated and will be removed from pandas in a future version. Use pandas.concat instead.\n",
      "  totalDf = totalDf.append(json_normalize(body), ignore_index=True)\n"
     ]
    },
    {
     "name": "stdout",
     "output_type": "stream",
     "text": [
      "599001\n"
     ]
    },
    {
     "name": "stderr",
     "output_type": "stream",
     "text": [
      "C:\\Users\\ohy\\AppData\\Local\\Temp\\ipykernel_17400\\3983351454.py:33: FutureWarning: pandas.io.json.json_normalize is deprecated, use pandas.json_normalize instead.\n",
      "  totalDf = totalDf.append(json_normalize(body), ignore_index=True)\n",
      "C:\\Users\\ohy\\AppData\\Local\\Temp\\ipykernel_17400\\3983351454.py:33: FutureWarning: The frame.append method is deprecated and will be removed from pandas in a future version. Use pandas.concat instead.\n",
      "  totalDf = totalDf.append(json_normalize(body), ignore_index=True)\n"
     ]
    },
    {
     "name": "stdout",
     "output_type": "stream",
     "text": [
      "600001\n"
     ]
    },
    {
     "name": "stderr",
     "output_type": "stream",
     "text": [
      "C:\\Users\\ohy\\AppData\\Local\\Temp\\ipykernel_17400\\3983351454.py:33: FutureWarning: pandas.io.json.json_normalize is deprecated, use pandas.json_normalize instead.\n",
      "  totalDf = totalDf.append(json_normalize(body), ignore_index=True)\n",
      "C:\\Users\\ohy\\AppData\\Local\\Temp\\ipykernel_17400\\3983351454.py:33: FutureWarning: The frame.append method is deprecated and will be removed from pandas in a future version. Use pandas.concat instead.\n",
      "  totalDf = totalDf.append(json_normalize(body), ignore_index=True)\n"
     ]
    },
    {
     "name": "stdout",
     "output_type": "stream",
     "text": [
      "601001\n"
     ]
    },
    {
     "name": "stderr",
     "output_type": "stream",
     "text": [
      "C:\\Users\\ohy\\AppData\\Local\\Temp\\ipykernel_17400\\3983351454.py:33: FutureWarning: pandas.io.json.json_normalize is deprecated, use pandas.json_normalize instead.\n",
      "  totalDf = totalDf.append(json_normalize(body), ignore_index=True)\n",
      "C:\\Users\\ohy\\AppData\\Local\\Temp\\ipykernel_17400\\3983351454.py:33: FutureWarning: The frame.append method is deprecated and will be removed from pandas in a future version. Use pandas.concat instead.\n",
      "  totalDf = totalDf.append(json_normalize(body), ignore_index=True)\n"
     ]
    },
    {
     "name": "stdout",
     "output_type": "stream",
     "text": [
      "602001\n"
     ]
    },
    {
     "name": "stderr",
     "output_type": "stream",
     "text": [
      "C:\\Users\\ohy\\AppData\\Local\\Temp\\ipykernel_17400\\3983351454.py:33: FutureWarning: pandas.io.json.json_normalize is deprecated, use pandas.json_normalize instead.\n",
      "  totalDf = totalDf.append(json_normalize(body), ignore_index=True)\n",
      "C:\\Users\\ohy\\AppData\\Local\\Temp\\ipykernel_17400\\3983351454.py:33: FutureWarning: The frame.append method is deprecated and will be removed from pandas in a future version. Use pandas.concat instead.\n",
      "  totalDf = totalDf.append(json_normalize(body), ignore_index=True)\n"
     ]
    },
    {
     "name": "stdout",
     "output_type": "stream",
     "text": [
      "603001\n"
     ]
    },
    {
     "name": "stderr",
     "output_type": "stream",
     "text": [
      "C:\\Users\\ohy\\AppData\\Local\\Temp\\ipykernel_17400\\3983351454.py:33: FutureWarning: pandas.io.json.json_normalize is deprecated, use pandas.json_normalize instead.\n",
      "  totalDf = totalDf.append(json_normalize(body), ignore_index=True)\n",
      "C:\\Users\\ohy\\AppData\\Local\\Temp\\ipykernel_17400\\3983351454.py:33: FutureWarning: The frame.append method is deprecated and will be removed from pandas in a future version. Use pandas.concat instead.\n",
      "  totalDf = totalDf.append(json_normalize(body), ignore_index=True)\n"
     ]
    },
    {
     "name": "stdout",
     "output_type": "stream",
     "text": [
      "604001\n"
     ]
    },
    {
     "name": "stderr",
     "output_type": "stream",
     "text": [
      "C:\\Users\\ohy\\AppData\\Local\\Temp\\ipykernel_17400\\3983351454.py:33: FutureWarning: pandas.io.json.json_normalize is deprecated, use pandas.json_normalize instead.\n",
      "  totalDf = totalDf.append(json_normalize(body), ignore_index=True)\n",
      "C:\\Users\\ohy\\AppData\\Local\\Temp\\ipykernel_17400\\3983351454.py:33: FutureWarning: The frame.append method is deprecated and will be removed from pandas in a future version. Use pandas.concat instead.\n",
      "  totalDf = totalDf.append(json_normalize(body), ignore_index=True)\n"
     ]
    },
    {
     "name": "stdout",
     "output_type": "stream",
     "text": [
      "605001\n"
     ]
    },
    {
     "name": "stderr",
     "output_type": "stream",
     "text": [
      "C:\\Users\\ohy\\AppData\\Local\\Temp\\ipykernel_17400\\3983351454.py:33: FutureWarning: pandas.io.json.json_normalize is deprecated, use pandas.json_normalize instead.\n",
      "  totalDf = totalDf.append(json_normalize(body), ignore_index=True)\n",
      "C:\\Users\\ohy\\AppData\\Local\\Temp\\ipykernel_17400\\3983351454.py:33: FutureWarning: The frame.append method is deprecated and will be removed from pandas in a future version. Use pandas.concat instead.\n",
      "  totalDf = totalDf.append(json_normalize(body), ignore_index=True)\n"
     ]
    },
    {
     "name": "stdout",
     "output_type": "stream",
     "text": [
      "606001\n"
     ]
    },
    {
     "name": "stderr",
     "output_type": "stream",
     "text": [
      "C:\\Users\\ohy\\AppData\\Local\\Temp\\ipykernel_17400\\3983351454.py:33: FutureWarning: pandas.io.json.json_normalize is deprecated, use pandas.json_normalize instead.\n",
      "  totalDf = totalDf.append(json_normalize(body), ignore_index=True)\n",
      "C:\\Users\\ohy\\AppData\\Local\\Temp\\ipykernel_17400\\3983351454.py:33: FutureWarning: The frame.append method is deprecated and will be removed from pandas in a future version. Use pandas.concat instead.\n",
      "  totalDf = totalDf.append(json_normalize(body), ignore_index=True)\n"
     ]
    },
    {
     "name": "stdout",
     "output_type": "stream",
     "text": [
      "607001\n"
     ]
    },
    {
     "name": "stderr",
     "output_type": "stream",
     "text": [
      "C:\\Users\\ohy\\AppData\\Local\\Temp\\ipykernel_17400\\3983351454.py:33: FutureWarning: pandas.io.json.json_normalize is deprecated, use pandas.json_normalize instead.\n",
      "  totalDf = totalDf.append(json_normalize(body), ignore_index=True)\n",
      "C:\\Users\\ohy\\AppData\\Local\\Temp\\ipykernel_17400\\3983351454.py:33: FutureWarning: The frame.append method is deprecated and will be removed from pandas in a future version. Use pandas.concat instead.\n",
      "  totalDf = totalDf.append(json_normalize(body), ignore_index=True)\n"
     ]
    },
    {
     "name": "stdout",
     "output_type": "stream",
     "text": [
      "608001\n"
     ]
    },
    {
     "name": "stderr",
     "output_type": "stream",
     "text": [
      "C:\\Users\\ohy\\AppData\\Local\\Temp\\ipykernel_17400\\3983351454.py:33: FutureWarning: pandas.io.json.json_normalize is deprecated, use pandas.json_normalize instead.\n",
      "  totalDf = totalDf.append(json_normalize(body), ignore_index=True)\n",
      "C:\\Users\\ohy\\AppData\\Local\\Temp\\ipykernel_17400\\3983351454.py:33: FutureWarning: The frame.append method is deprecated and will be removed from pandas in a future version. Use pandas.concat instead.\n",
      "  totalDf = totalDf.append(json_normalize(body), ignore_index=True)\n"
     ]
    },
    {
     "name": "stdout",
     "output_type": "stream",
     "text": [
      "609001\n"
     ]
    },
    {
     "name": "stderr",
     "output_type": "stream",
     "text": [
      "C:\\Users\\ohy\\AppData\\Local\\Temp\\ipykernel_17400\\3983351454.py:33: FutureWarning: pandas.io.json.json_normalize is deprecated, use pandas.json_normalize instead.\n",
      "  totalDf = totalDf.append(json_normalize(body), ignore_index=True)\n",
      "C:\\Users\\ohy\\AppData\\Local\\Temp\\ipykernel_17400\\3983351454.py:33: FutureWarning: The frame.append method is deprecated and will be removed from pandas in a future version. Use pandas.concat instead.\n",
      "  totalDf = totalDf.append(json_normalize(body), ignore_index=True)\n"
     ]
    },
    {
     "name": "stdout",
     "output_type": "stream",
     "text": [
      "610001\n"
     ]
    },
    {
     "name": "stderr",
     "output_type": "stream",
     "text": [
      "C:\\Users\\ohy\\AppData\\Local\\Temp\\ipykernel_17400\\3983351454.py:33: FutureWarning: pandas.io.json.json_normalize is deprecated, use pandas.json_normalize instead.\n",
      "  totalDf = totalDf.append(json_normalize(body), ignore_index=True)\n",
      "C:\\Users\\ohy\\AppData\\Local\\Temp\\ipykernel_17400\\3983351454.py:33: FutureWarning: The frame.append method is deprecated and will be removed from pandas in a future version. Use pandas.concat instead.\n",
      "  totalDf = totalDf.append(json_normalize(body), ignore_index=True)\n"
     ]
    },
    {
     "name": "stdout",
     "output_type": "stream",
     "text": [
      "611001\n"
     ]
    },
    {
     "name": "stderr",
     "output_type": "stream",
     "text": [
      "C:\\Users\\ohy\\AppData\\Local\\Temp\\ipykernel_17400\\3983351454.py:33: FutureWarning: pandas.io.json.json_normalize is deprecated, use pandas.json_normalize instead.\n",
      "  totalDf = totalDf.append(json_normalize(body), ignore_index=True)\n",
      "C:\\Users\\ohy\\AppData\\Local\\Temp\\ipykernel_17400\\3983351454.py:33: FutureWarning: The frame.append method is deprecated and will be removed from pandas in a future version. Use pandas.concat instead.\n",
      "  totalDf = totalDf.append(json_normalize(body), ignore_index=True)\n"
     ]
    },
    {
     "name": "stdout",
     "output_type": "stream",
     "text": [
      "612001\n"
     ]
    },
    {
     "name": "stderr",
     "output_type": "stream",
     "text": [
      "C:\\Users\\ohy\\AppData\\Local\\Temp\\ipykernel_17400\\3983351454.py:33: FutureWarning: pandas.io.json.json_normalize is deprecated, use pandas.json_normalize instead.\n",
      "  totalDf = totalDf.append(json_normalize(body), ignore_index=True)\n",
      "C:\\Users\\ohy\\AppData\\Local\\Temp\\ipykernel_17400\\3983351454.py:33: FutureWarning: The frame.append method is deprecated and will be removed from pandas in a future version. Use pandas.concat instead.\n",
      "  totalDf = totalDf.append(json_normalize(body), ignore_index=True)\n"
     ]
    },
    {
     "name": "stdout",
     "output_type": "stream",
     "text": [
      "613001\n"
     ]
    },
    {
     "name": "stderr",
     "output_type": "stream",
     "text": [
      "C:\\Users\\ohy\\AppData\\Local\\Temp\\ipykernel_17400\\3983351454.py:33: FutureWarning: pandas.io.json.json_normalize is deprecated, use pandas.json_normalize instead.\n",
      "  totalDf = totalDf.append(json_normalize(body), ignore_index=True)\n",
      "C:\\Users\\ohy\\AppData\\Local\\Temp\\ipykernel_17400\\3983351454.py:33: FutureWarning: The frame.append method is deprecated and will be removed from pandas in a future version. Use pandas.concat instead.\n",
      "  totalDf = totalDf.append(json_normalize(body), ignore_index=True)\n"
     ]
    },
    {
     "name": "stdout",
     "output_type": "stream",
     "text": [
      "614001\n"
     ]
    },
    {
     "name": "stderr",
     "output_type": "stream",
     "text": [
      "C:\\Users\\ohy\\AppData\\Local\\Temp\\ipykernel_17400\\3983351454.py:33: FutureWarning: pandas.io.json.json_normalize is deprecated, use pandas.json_normalize instead.\n",
      "  totalDf = totalDf.append(json_normalize(body), ignore_index=True)\n",
      "C:\\Users\\ohy\\AppData\\Local\\Temp\\ipykernel_17400\\3983351454.py:33: FutureWarning: The frame.append method is deprecated and will be removed from pandas in a future version. Use pandas.concat instead.\n",
      "  totalDf = totalDf.append(json_normalize(body), ignore_index=True)\n"
     ]
    },
    {
     "name": "stdout",
     "output_type": "stream",
     "text": [
      "615001\n"
     ]
    },
    {
     "name": "stderr",
     "output_type": "stream",
     "text": [
      "C:\\Users\\ohy\\AppData\\Local\\Temp\\ipykernel_17400\\3983351454.py:33: FutureWarning: pandas.io.json.json_normalize is deprecated, use pandas.json_normalize instead.\n",
      "  totalDf = totalDf.append(json_normalize(body), ignore_index=True)\n",
      "C:\\Users\\ohy\\AppData\\Local\\Temp\\ipykernel_17400\\3983351454.py:33: FutureWarning: The frame.append method is deprecated and will be removed from pandas in a future version. Use pandas.concat instead.\n",
      "  totalDf = totalDf.append(json_normalize(body), ignore_index=True)\n"
     ]
    },
    {
     "name": "stdout",
     "output_type": "stream",
     "text": [
      "616001\n"
     ]
    },
    {
     "name": "stderr",
     "output_type": "stream",
     "text": [
      "C:\\Users\\ohy\\AppData\\Local\\Temp\\ipykernel_17400\\3983351454.py:33: FutureWarning: pandas.io.json.json_normalize is deprecated, use pandas.json_normalize instead.\n",
      "  totalDf = totalDf.append(json_normalize(body), ignore_index=True)\n",
      "C:\\Users\\ohy\\AppData\\Local\\Temp\\ipykernel_17400\\3983351454.py:33: FutureWarning: The frame.append method is deprecated and will be removed from pandas in a future version. Use pandas.concat instead.\n",
      "  totalDf = totalDf.append(json_normalize(body), ignore_index=True)\n"
     ]
    },
    {
     "name": "stdout",
     "output_type": "stream",
     "text": [
      "617001\n"
     ]
    },
    {
     "name": "stderr",
     "output_type": "stream",
     "text": [
      "C:\\Users\\ohy\\AppData\\Local\\Temp\\ipykernel_17400\\3983351454.py:33: FutureWarning: pandas.io.json.json_normalize is deprecated, use pandas.json_normalize instead.\n",
      "  totalDf = totalDf.append(json_normalize(body), ignore_index=True)\n",
      "C:\\Users\\ohy\\AppData\\Local\\Temp\\ipykernel_17400\\3983351454.py:33: FutureWarning: The frame.append method is deprecated and will be removed from pandas in a future version. Use pandas.concat instead.\n",
      "  totalDf = totalDf.append(json_normalize(body), ignore_index=True)\n"
     ]
    },
    {
     "name": "stdout",
     "output_type": "stream",
     "text": [
      "618001\n"
     ]
    },
    {
     "name": "stderr",
     "output_type": "stream",
     "text": [
      "C:\\Users\\ohy\\AppData\\Local\\Temp\\ipykernel_17400\\3983351454.py:33: FutureWarning: pandas.io.json.json_normalize is deprecated, use pandas.json_normalize instead.\n",
      "  totalDf = totalDf.append(json_normalize(body), ignore_index=True)\n",
      "C:\\Users\\ohy\\AppData\\Local\\Temp\\ipykernel_17400\\3983351454.py:33: FutureWarning: The frame.append method is deprecated and will be removed from pandas in a future version. Use pandas.concat instead.\n",
      "  totalDf = totalDf.append(json_normalize(body), ignore_index=True)\n"
     ]
    },
    {
     "name": "stdout",
     "output_type": "stream",
     "text": [
      "619001\n"
     ]
    },
    {
     "name": "stderr",
     "output_type": "stream",
     "text": [
      "C:\\Users\\ohy\\AppData\\Local\\Temp\\ipykernel_17400\\3983351454.py:33: FutureWarning: pandas.io.json.json_normalize is deprecated, use pandas.json_normalize instead.\n",
      "  totalDf = totalDf.append(json_normalize(body), ignore_index=True)\n",
      "C:\\Users\\ohy\\AppData\\Local\\Temp\\ipykernel_17400\\3983351454.py:33: FutureWarning: The frame.append method is deprecated and will be removed from pandas in a future version. Use pandas.concat instead.\n",
      "  totalDf = totalDf.append(json_normalize(body), ignore_index=True)\n"
     ]
    },
    {
     "name": "stdout",
     "output_type": "stream",
     "text": [
      "620001\n"
     ]
    },
    {
     "name": "stderr",
     "output_type": "stream",
     "text": [
      "C:\\Users\\ohy\\AppData\\Local\\Temp\\ipykernel_17400\\3983351454.py:33: FutureWarning: pandas.io.json.json_normalize is deprecated, use pandas.json_normalize instead.\n",
      "  totalDf = totalDf.append(json_normalize(body), ignore_index=True)\n",
      "C:\\Users\\ohy\\AppData\\Local\\Temp\\ipykernel_17400\\3983351454.py:33: FutureWarning: The frame.append method is deprecated and will be removed from pandas in a future version. Use pandas.concat instead.\n",
      "  totalDf = totalDf.append(json_normalize(body), ignore_index=True)\n"
     ]
    },
    {
     "name": "stdout",
     "output_type": "stream",
     "text": [
      "621001\n"
     ]
    },
    {
     "name": "stderr",
     "output_type": "stream",
     "text": [
      "C:\\Users\\ohy\\AppData\\Local\\Temp\\ipykernel_17400\\3983351454.py:33: FutureWarning: pandas.io.json.json_normalize is deprecated, use pandas.json_normalize instead.\n",
      "  totalDf = totalDf.append(json_normalize(body), ignore_index=True)\n",
      "C:\\Users\\ohy\\AppData\\Local\\Temp\\ipykernel_17400\\3983351454.py:33: FutureWarning: The frame.append method is deprecated and will be removed from pandas in a future version. Use pandas.concat instead.\n",
      "  totalDf = totalDf.append(json_normalize(body), ignore_index=True)\n"
     ]
    },
    {
     "name": "stdout",
     "output_type": "stream",
     "text": [
      "622001\n"
     ]
    },
    {
     "name": "stderr",
     "output_type": "stream",
     "text": [
      "C:\\Users\\ohy\\AppData\\Local\\Temp\\ipykernel_17400\\3983351454.py:33: FutureWarning: pandas.io.json.json_normalize is deprecated, use pandas.json_normalize instead.\n",
      "  totalDf = totalDf.append(json_normalize(body), ignore_index=True)\n",
      "C:\\Users\\ohy\\AppData\\Local\\Temp\\ipykernel_17400\\3983351454.py:33: FutureWarning: The frame.append method is deprecated and will be removed from pandas in a future version. Use pandas.concat instead.\n",
      "  totalDf = totalDf.append(json_normalize(body), ignore_index=True)\n"
     ]
    },
    {
     "name": "stdout",
     "output_type": "stream",
     "text": [
      "623001\n"
     ]
    },
    {
     "name": "stderr",
     "output_type": "stream",
     "text": [
      "C:\\Users\\ohy\\AppData\\Local\\Temp\\ipykernel_17400\\3983351454.py:33: FutureWarning: pandas.io.json.json_normalize is deprecated, use pandas.json_normalize instead.\n",
      "  totalDf = totalDf.append(json_normalize(body), ignore_index=True)\n",
      "C:\\Users\\ohy\\AppData\\Local\\Temp\\ipykernel_17400\\3983351454.py:33: FutureWarning: The frame.append method is deprecated and will be removed from pandas in a future version. Use pandas.concat instead.\n",
      "  totalDf = totalDf.append(json_normalize(body), ignore_index=True)\n"
     ]
    },
    {
     "name": "stdout",
     "output_type": "stream",
     "text": [
      "624001\n"
     ]
    },
    {
     "name": "stderr",
     "output_type": "stream",
     "text": [
      "C:\\Users\\ohy\\AppData\\Local\\Temp\\ipykernel_17400\\3983351454.py:33: FutureWarning: pandas.io.json.json_normalize is deprecated, use pandas.json_normalize instead.\n",
      "  totalDf = totalDf.append(json_normalize(body), ignore_index=True)\n",
      "C:\\Users\\ohy\\AppData\\Local\\Temp\\ipykernel_17400\\3983351454.py:33: FutureWarning: The frame.append method is deprecated and will be removed from pandas in a future version. Use pandas.concat instead.\n",
      "  totalDf = totalDf.append(json_normalize(body), ignore_index=True)\n"
     ]
    },
    {
     "name": "stdout",
     "output_type": "stream",
     "text": [
      "625001\n"
     ]
    },
    {
     "name": "stderr",
     "output_type": "stream",
     "text": [
      "C:\\Users\\ohy\\AppData\\Local\\Temp\\ipykernel_17400\\3983351454.py:33: FutureWarning: pandas.io.json.json_normalize is deprecated, use pandas.json_normalize instead.\n",
      "  totalDf = totalDf.append(json_normalize(body), ignore_index=True)\n",
      "C:\\Users\\ohy\\AppData\\Local\\Temp\\ipykernel_17400\\3983351454.py:33: FutureWarning: The frame.append method is deprecated and will be removed from pandas in a future version. Use pandas.concat instead.\n",
      "  totalDf = totalDf.append(json_normalize(body), ignore_index=True)\n"
     ]
    },
    {
     "name": "stdout",
     "output_type": "stream",
     "text": [
      "626001\n"
     ]
    },
    {
     "name": "stderr",
     "output_type": "stream",
     "text": [
      "C:\\Users\\ohy\\AppData\\Local\\Temp\\ipykernel_17400\\3983351454.py:33: FutureWarning: pandas.io.json.json_normalize is deprecated, use pandas.json_normalize instead.\n",
      "  totalDf = totalDf.append(json_normalize(body), ignore_index=True)\n",
      "C:\\Users\\ohy\\AppData\\Local\\Temp\\ipykernel_17400\\3983351454.py:33: FutureWarning: The frame.append method is deprecated and will be removed from pandas in a future version. Use pandas.concat instead.\n",
      "  totalDf = totalDf.append(json_normalize(body), ignore_index=True)\n"
     ]
    },
    {
     "name": "stdout",
     "output_type": "stream",
     "text": [
      "627001\n"
     ]
    },
    {
     "name": "stderr",
     "output_type": "stream",
     "text": [
      "C:\\Users\\ohy\\AppData\\Local\\Temp\\ipykernel_17400\\3983351454.py:33: FutureWarning: pandas.io.json.json_normalize is deprecated, use pandas.json_normalize instead.\n",
      "  totalDf = totalDf.append(json_normalize(body), ignore_index=True)\n",
      "C:\\Users\\ohy\\AppData\\Local\\Temp\\ipykernel_17400\\3983351454.py:33: FutureWarning: The frame.append method is deprecated and will be removed from pandas in a future version. Use pandas.concat instead.\n",
      "  totalDf = totalDf.append(json_normalize(body), ignore_index=True)\n"
     ]
    },
    {
     "name": "stdout",
     "output_type": "stream",
     "text": [
      "628001\n"
     ]
    },
    {
     "name": "stderr",
     "output_type": "stream",
     "text": [
      "C:\\Users\\ohy\\AppData\\Local\\Temp\\ipykernel_17400\\3983351454.py:33: FutureWarning: pandas.io.json.json_normalize is deprecated, use pandas.json_normalize instead.\n",
      "  totalDf = totalDf.append(json_normalize(body), ignore_index=True)\n",
      "C:\\Users\\ohy\\AppData\\Local\\Temp\\ipykernel_17400\\3983351454.py:33: FutureWarning: The frame.append method is deprecated and will be removed from pandas in a future version. Use pandas.concat instead.\n",
      "  totalDf = totalDf.append(json_normalize(body), ignore_index=True)\n"
     ]
    },
    {
     "name": "stdout",
     "output_type": "stream",
     "text": [
      "629001\n"
     ]
    },
    {
     "name": "stderr",
     "output_type": "stream",
     "text": [
      "C:\\Users\\ohy\\AppData\\Local\\Temp\\ipykernel_17400\\3983351454.py:33: FutureWarning: pandas.io.json.json_normalize is deprecated, use pandas.json_normalize instead.\n",
      "  totalDf = totalDf.append(json_normalize(body), ignore_index=True)\n",
      "C:\\Users\\ohy\\AppData\\Local\\Temp\\ipykernel_17400\\3983351454.py:33: FutureWarning: The frame.append method is deprecated and will be removed from pandas in a future version. Use pandas.concat instead.\n",
      "  totalDf = totalDf.append(json_normalize(body), ignore_index=True)\n"
     ]
    },
    {
     "name": "stdout",
     "output_type": "stream",
     "text": [
      "630001\n"
     ]
    },
    {
     "name": "stderr",
     "output_type": "stream",
     "text": [
      "C:\\Users\\ohy\\AppData\\Local\\Temp\\ipykernel_17400\\3983351454.py:33: FutureWarning: pandas.io.json.json_normalize is deprecated, use pandas.json_normalize instead.\n",
      "  totalDf = totalDf.append(json_normalize(body), ignore_index=True)\n",
      "C:\\Users\\ohy\\AppData\\Local\\Temp\\ipykernel_17400\\3983351454.py:33: FutureWarning: The frame.append method is deprecated and will be removed from pandas in a future version. Use pandas.concat instead.\n",
      "  totalDf = totalDf.append(json_normalize(body), ignore_index=True)\n"
     ]
    },
    {
     "name": "stdout",
     "output_type": "stream",
     "text": [
      "631001\n"
     ]
    },
    {
     "name": "stderr",
     "output_type": "stream",
     "text": [
      "C:\\Users\\ohy\\AppData\\Local\\Temp\\ipykernel_17400\\3983351454.py:33: FutureWarning: pandas.io.json.json_normalize is deprecated, use pandas.json_normalize instead.\n",
      "  totalDf = totalDf.append(json_normalize(body), ignore_index=True)\n",
      "C:\\Users\\ohy\\AppData\\Local\\Temp\\ipykernel_17400\\3983351454.py:33: FutureWarning: The frame.append method is deprecated and will be removed from pandas in a future version. Use pandas.concat instead.\n",
      "  totalDf = totalDf.append(json_normalize(body), ignore_index=True)\n"
     ]
    },
    {
     "name": "stdout",
     "output_type": "stream",
     "text": [
      "632001\n"
     ]
    },
    {
     "name": "stderr",
     "output_type": "stream",
     "text": [
      "C:\\Users\\ohy\\AppData\\Local\\Temp\\ipykernel_17400\\3983351454.py:33: FutureWarning: pandas.io.json.json_normalize is deprecated, use pandas.json_normalize instead.\n",
      "  totalDf = totalDf.append(json_normalize(body), ignore_index=True)\n",
      "C:\\Users\\ohy\\AppData\\Local\\Temp\\ipykernel_17400\\3983351454.py:33: FutureWarning: The frame.append method is deprecated and will be removed from pandas in a future version. Use pandas.concat instead.\n",
      "  totalDf = totalDf.append(json_normalize(body), ignore_index=True)\n"
     ]
    },
    {
     "name": "stdout",
     "output_type": "stream",
     "text": [
      "633001\n"
     ]
    },
    {
     "name": "stderr",
     "output_type": "stream",
     "text": [
      "C:\\Users\\ohy\\AppData\\Local\\Temp\\ipykernel_17400\\3983351454.py:33: FutureWarning: pandas.io.json.json_normalize is deprecated, use pandas.json_normalize instead.\n",
      "  totalDf = totalDf.append(json_normalize(body), ignore_index=True)\n",
      "C:\\Users\\ohy\\AppData\\Local\\Temp\\ipykernel_17400\\3983351454.py:33: FutureWarning: The frame.append method is deprecated and will be removed from pandas in a future version. Use pandas.concat instead.\n",
      "  totalDf = totalDf.append(json_normalize(body), ignore_index=True)\n"
     ]
    },
    {
     "name": "stdout",
     "output_type": "stream",
     "text": [
      "634001\n"
     ]
    },
    {
     "name": "stderr",
     "output_type": "stream",
     "text": [
      "C:\\Users\\ohy\\AppData\\Local\\Temp\\ipykernel_17400\\3983351454.py:33: FutureWarning: pandas.io.json.json_normalize is deprecated, use pandas.json_normalize instead.\n",
      "  totalDf = totalDf.append(json_normalize(body), ignore_index=True)\n",
      "C:\\Users\\ohy\\AppData\\Local\\Temp\\ipykernel_17400\\3983351454.py:33: FutureWarning: The frame.append method is deprecated and will be removed from pandas in a future version. Use pandas.concat instead.\n",
      "  totalDf = totalDf.append(json_normalize(body), ignore_index=True)\n"
     ]
    },
    {
     "name": "stdout",
     "output_type": "stream",
     "text": [
      "635001\n"
     ]
    },
    {
     "name": "stderr",
     "output_type": "stream",
     "text": [
      "C:\\Users\\ohy\\AppData\\Local\\Temp\\ipykernel_17400\\3983351454.py:33: FutureWarning: pandas.io.json.json_normalize is deprecated, use pandas.json_normalize instead.\n",
      "  totalDf = totalDf.append(json_normalize(body), ignore_index=True)\n",
      "C:\\Users\\ohy\\AppData\\Local\\Temp\\ipykernel_17400\\3983351454.py:33: FutureWarning: The frame.append method is deprecated and will be removed from pandas in a future version. Use pandas.concat instead.\n",
      "  totalDf = totalDf.append(json_normalize(body), ignore_index=True)\n"
     ]
    },
    {
     "name": "stdout",
     "output_type": "stream",
     "text": [
      "636001\n"
     ]
    },
    {
     "name": "stderr",
     "output_type": "stream",
     "text": [
      "C:\\Users\\ohy\\AppData\\Local\\Temp\\ipykernel_17400\\3983351454.py:33: FutureWarning: pandas.io.json.json_normalize is deprecated, use pandas.json_normalize instead.\n",
      "  totalDf = totalDf.append(json_normalize(body), ignore_index=True)\n",
      "C:\\Users\\ohy\\AppData\\Local\\Temp\\ipykernel_17400\\3983351454.py:33: FutureWarning: The frame.append method is deprecated and will be removed from pandas in a future version. Use pandas.concat instead.\n",
      "  totalDf = totalDf.append(json_normalize(body), ignore_index=True)\n"
     ]
    },
    {
     "name": "stdout",
     "output_type": "stream",
     "text": [
      "637001\n"
     ]
    },
    {
     "name": "stderr",
     "output_type": "stream",
     "text": [
      "C:\\Users\\ohy\\AppData\\Local\\Temp\\ipykernel_17400\\3983351454.py:33: FutureWarning: pandas.io.json.json_normalize is deprecated, use pandas.json_normalize instead.\n",
      "  totalDf = totalDf.append(json_normalize(body), ignore_index=True)\n",
      "C:\\Users\\ohy\\AppData\\Local\\Temp\\ipykernel_17400\\3983351454.py:33: FutureWarning: The frame.append method is deprecated and will be removed from pandas in a future version. Use pandas.concat instead.\n",
      "  totalDf = totalDf.append(json_normalize(body), ignore_index=True)\n"
     ]
    },
    {
     "name": "stdout",
     "output_type": "stream",
     "text": [
      "638001\n"
     ]
    },
    {
     "name": "stderr",
     "output_type": "stream",
     "text": [
      "C:\\Users\\ohy\\AppData\\Local\\Temp\\ipykernel_17400\\3983351454.py:33: FutureWarning: pandas.io.json.json_normalize is deprecated, use pandas.json_normalize instead.\n",
      "  totalDf = totalDf.append(json_normalize(body), ignore_index=True)\n",
      "C:\\Users\\ohy\\AppData\\Local\\Temp\\ipykernel_17400\\3983351454.py:33: FutureWarning: The frame.append method is deprecated and will be removed from pandas in a future version. Use pandas.concat instead.\n",
      "  totalDf = totalDf.append(json_normalize(body), ignore_index=True)\n"
     ]
    },
    {
     "name": "stdout",
     "output_type": "stream",
     "text": [
      "639001\n"
     ]
    },
    {
     "name": "stderr",
     "output_type": "stream",
     "text": [
      "C:\\Users\\ohy\\AppData\\Local\\Temp\\ipykernel_17400\\3983351454.py:33: FutureWarning: pandas.io.json.json_normalize is deprecated, use pandas.json_normalize instead.\n",
      "  totalDf = totalDf.append(json_normalize(body), ignore_index=True)\n",
      "C:\\Users\\ohy\\AppData\\Local\\Temp\\ipykernel_17400\\3983351454.py:33: FutureWarning: The frame.append method is deprecated and will be removed from pandas in a future version. Use pandas.concat instead.\n",
      "  totalDf = totalDf.append(json_normalize(body), ignore_index=True)\n"
     ]
    },
    {
     "name": "stdout",
     "output_type": "stream",
     "text": [
      "640001\n"
     ]
    },
    {
     "name": "stderr",
     "output_type": "stream",
     "text": [
      "C:\\Users\\ohy\\AppData\\Local\\Temp\\ipykernel_17400\\3983351454.py:33: FutureWarning: pandas.io.json.json_normalize is deprecated, use pandas.json_normalize instead.\n",
      "  totalDf = totalDf.append(json_normalize(body), ignore_index=True)\n",
      "C:\\Users\\ohy\\AppData\\Local\\Temp\\ipykernel_17400\\3983351454.py:33: FutureWarning: The frame.append method is deprecated and will be removed from pandas in a future version. Use pandas.concat instead.\n",
      "  totalDf = totalDf.append(json_normalize(body), ignore_index=True)\n"
     ]
    },
    {
     "name": "stdout",
     "output_type": "stream",
     "text": [
      "641001\n"
     ]
    },
    {
     "name": "stderr",
     "output_type": "stream",
     "text": [
      "C:\\Users\\ohy\\AppData\\Local\\Temp\\ipykernel_17400\\3983351454.py:33: FutureWarning: pandas.io.json.json_normalize is deprecated, use pandas.json_normalize instead.\n",
      "  totalDf = totalDf.append(json_normalize(body), ignore_index=True)\n",
      "C:\\Users\\ohy\\AppData\\Local\\Temp\\ipykernel_17400\\3983351454.py:33: FutureWarning: The frame.append method is deprecated and will be removed from pandas in a future version. Use pandas.concat instead.\n",
      "  totalDf = totalDf.append(json_normalize(body), ignore_index=True)\n"
     ]
    },
    {
     "name": "stdout",
     "output_type": "stream",
     "text": [
      "642001\n"
     ]
    },
    {
     "name": "stderr",
     "output_type": "stream",
     "text": [
      "C:\\Users\\ohy\\AppData\\Local\\Temp\\ipykernel_17400\\3983351454.py:33: FutureWarning: pandas.io.json.json_normalize is deprecated, use pandas.json_normalize instead.\n",
      "  totalDf = totalDf.append(json_normalize(body), ignore_index=True)\n",
      "C:\\Users\\ohy\\AppData\\Local\\Temp\\ipykernel_17400\\3983351454.py:33: FutureWarning: The frame.append method is deprecated and will be removed from pandas in a future version. Use pandas.concat instead.\n",
      "  totalDf = totalDf.append(json_normalize(body), ignore_index=True)\n"
     ]
    },
    {
     "name": "stdout",
     "output_type": "stream",
     "text": [
      "643001\n"
     ]
    },
    {
     "name": "stderr",
     "output_type": "stream",
     "text": [
      "C:\\Users\\ohy\\AppData\\Local\\Temp\\ipykernel_17400\\3983351454.py:33: FutureWarning: pandas.io.json.json_normalize is deprecated, use pandas.json_normalize instead.\n",
      "  totalDf = totalDf.append(json_normalize(body), ignore_index=True)\n",
      "C:\\Users\\ohy\\AppData\\Local\\Temp\\ipykernel_17400\\3983351454.py:33: FutureWarning: The frame.append method is deprecated and will be removed from pandas in a future version. Use pandas.concat instead.\n",
      "  totalDf = totalDf.append(json_normalize(body), ignore_index=True)\n"
     ]
    },
    {
     "name": "stdout",
     "output_type": "stream",
     "text": [
      "644001\n"
     ]
    },
    {
     "name": "stderr",
     "output_type": "stream",
     "text": [
      "C:\\Users\\ohy\\AppData\\Local\\Temp\\ipykernel_17400\\3983351454.py:33: FutureWarning: pandas.io.json.json_normalize is deprecated, use pandas.json_normalize instead.\n",
      "  totalDf = totalDf.append(json_normalize(body), ignore_index=True)\n",
      "C:\\Users\\ohy\\AppData\\Local\\Temp\\ipykernel_17400\\3983351454.py:33: FutureWarning: The frame.append method is deprecated and will be removed from pandas in a future version. Use pandas.concat instead.\n",
      "  totalDf = totalDf.append(json_normalize(body), ignore_index=True)\n"
     ]
    },
    {
     "name": "stdout",
     "output_type": "stream",
     "text": [
      "645001\n"
     ]
    },
    {
     "name": "stderr",
     "output_type": "stream",
     "text": [
      "C:\\Users\\ohy\\AppData\\Local\\Temp\\ipykernel_17400\\3983351454.py:33: FutureWarning: pandas.io.json.json_normalize is deprecated, use pandas.json_normalize instead.\n",
      "  totalDf = totalDf.append(json_normalize(body), ignore_index=True)\n",
      "C:\\Users\\ohy\\AppData\\Local\\Temp\\ipykernel_17400\\3983351454.py:33: FutureWarning: The frame.append method is deprecated and will be removed from pandas in a future version. Use pandas.concat instead.\n",
      "  totalDf = totalDf.append(json_normalize(body), ignore_index=True)\n"
     ]
    },
    {
     "name": "stdout",
     "output_type": "stream",
     "text": [
      "646001\n"
     ]
    },
    {
     "name": "stderr",
     "output_type": "stream",
     "text": [
      "C:\\Users\\ohy\\AppData\\Local\\Temp\\ipykernel_17400\\3983351454.py:33: FutureWarning: pandas.io.json.json_normalize is deprecated, use pandas.json_normalize instead.\n",
      "  totalDf = totalDf.append(json_normalize(body), ignore_index=True)\n",
      "C:\\Users\\ohy\\AppData\\Local\\Temp\\ipykernel_17400\\3983351454.py:33: FutureWarning: The frame.append method is deprecated and will be removed from pandas in a future version. Use pandas.concat instead.\n",
      "  totalDf = totalDf.append(json_normalize(body), ignore_index=True)\n"
     ]
    },
    {
     "name": "stdout",
     "output_type": "stream",
     "text": [
      "647001\n"
     ]
    },
    {
     "name": "stderr",
     "output_type": "stream",
     "text": [
      "C:\\Users\\ohy\\AppData\\Local\\Temp\\ipykernel_17400\\3983351454.py:33: FutureWarning: pandas.io.json.json_normalize is deprecated, use pandas.json_normalize instead.\n",
      "  totalDf = totalDf.append(json_normalize(body), ignore_index=True)\n",
      "C:\\Users\\ohy\\AppData\\Local\\Temp\\ipykernel_17400\\3983351454.py:33: FutureWarning: The frame.append method is deprecated and will be removed from pandas in a future version. Use pandas.concat instead.\n",
      "  totalDf = totalDf.append(json_normalize(body), ignore_index=True)\n"
     ]
    },
    {
     "name": "stdout",
     "output_type": "stream",
     "text": [
      "648001\n"
     ]
    },
    {
     "name": "stderr",
     "output_type": "stream",
     "text": [
      "C:\\Users\\ohy\\AppData\\Local\\Temp\\ipykernel_17400\\3983351454.py:33: FutureWarning: pandas.io.json.json_normalize is deprecated, use pandas.json_normalize instead.\n",
      "  totalDf = totalDf.append(json_normalize(body), ignore_index=True)\n",
      "C:\\Users\\ohy\\AppData\\Local\\Temp\\ipykernel_17400\\3983351454.py:33: FutureWarning: The frame.append method is deprecated and will be removed from pandas in a future version. Use pandas.concat instead.\n",
      "  totalDf = totalDf.append(json_normalize(body), ignore_index=True)\n"
     ]
    },
    {
     "name": "stdout",
     "output_type": "stream",
     "text": [
      "649001\n"
     ]
    },
    {
     "name": "stderr",
     "output_type": "stream",
     "text": [
      "C:\\Users\\ohy\\AppData\\Local\\Temp\\ipykernel_17400\\3983351454.py:33: FutureWarning: pandas.io.json.json_normalize is deprecated, use pandas.json_normalize instead.\n",
      "  totalDf = totalDf.append(json_normalize(body), ignore_index=True)\n",
      "C:\\Users\\ohy\\AppData\\Local\\Temp\\ipykernel_17400\\3983351454.py:33: FutureWarning: The frame.append method is deprecated and will be removed from pandas in a future version. Use pandas.concat instead.\n",
      "  totalDf = totalDf.append(json_normalize(body), ignore_index=True)\n"
     ]
    },
    {
     "name": "stdout",
     "output_type": "stream",
     "text": [
      "650001\n"
     ]
    },
    {
     "name": "stderr",
     "output_type": "stream",
     "text": [
      "C:\\Users\\ohy\\AppData\\Local\\Temp\\ipykernel_17400\\3983351454.py:33: FutureWarning: pandas.io.json.json_normalize is deprecated, use pandas.json_normalize instead.\n",
      "  totalDf = totalDf.append(json_normalize(body), ignore_index=True)\n",
      "C:\\Users\\ohy\\AppData\\Local\\Temp\\ipykernel_17400\\3983351454.py:33: FutureWarning: The frame.append method is deprecated and will be removed from pandas in a future version. Use pandas.concat instead.\n",
      "  totalDf = totalDf.append(json_normalize(body), ignore_index=True)\n"
     ]
    },
    {
     "name": "stdout",
     "output_type": "stream",
     "text": [
      "651001\n"
     ]
    },
    {
     "name": "stderr",
     "output_type": "stream",
     "text": [
      "C:\\Users\\ohy\\AppData\\Local\\Temp\\ipykernel_17400\\3983351454.py:33: FutureWarning: pandas.io.json.json_normalize is deprecated, use pandas.json_normalize instead.\n",
      "  totalDf = totalDf.append(json_normalize(body), ignore_index=True)\n",
      "C:\\Users\\ohy\\AppData\\Local\\Temp\\ipykernel_17400\\3983351454.py:33: FutureWarning: The frame.append method is deprecated and will be removed from pandas in a future version. Use pandas.concat instead.\n",
      "  totalDf = totalDf.append(json_normalize(body), ignore_index=True)\n"
     ]
    },
    {
     "name": "stdout",
     "output_type": "stream",
     "text": [
      "652001\n"
     ]
    },
    {
     "name": "stderr",
     "output_type": "stream",
     "text": [
      "C:\\Users\\ohy\\AppData\\Local\\Temp\\ipykernel_17400\\3983351454.py:33: FutureWarning: pandas.io.json.json_normalize is deprecated, use pandas.json_normalize instead.\n",
      "  totalDf = totalDf.append(json_normalize(body), ignore_index=True)\n",
      "C:\\Users\\ohy\\AppData\\Local\\Temp\\ipykernel_17400\\3983351454.py:33: FutureWarning: The frame.append method is deprecated and will be removed from pandas in a future version. Use pandas.concat instead.\n",
      "  totalDf = totalDf.append(json_normalize(body), ignore_index=True)\n"
     ]
    },
    {
     "name": "stdout",
     "output_type": "stream",
     "text": [
      "653001\n"
     ]
    },
    {
     "name": "stderr",
     "output_type": "stream",
     "text": [
      "C:\\Users\\ohy\\AppData\\Local\\Temp\\ipykernel_17400\\3983351454.py:33: FutureWarning: pandas.io.json.json_normalize is deprecated, use pandas.json_normalize instead.\n",
      "  totalDf = totalDf.append(json_normalize(body), ignore_index=True)\n",
      "C:\\Users\\ohy\\AppData\\Local\\Temp\\ipykernel_17400\\3983351454.py:33: FutureWarning: The frame.append method is deprecated and will be removed from pandas in a future version. Use pandas.concat instead.\n",
      "  totalDf = totalDf.append(json_normalize(body), ignore_index=True)\n"
     ]
    },
    {
     "name": "stdout",
     "output_type": "stream",
     "text": [
      "654001\n"
     ]
    },
    {
     "name": "stderr",
     "output_type": "stream",
     "text": [
      "C:\\Users\\ohy\\AppData\\Local\\Temp\\ipykernel_17400\\3983351454.py:33: FutureWarning: pandas.io.json.json_normalize is deprecated, use pandas.json_normalize instead.\n",
      "  totalDf = totalDf.append(json_normalize(body), ignore_index=True)\n",
      "C:\\Users\\ohy\\AppData\\Local\\Temp\\ipykernel_17400\\3983351454.py:33: FutureWarning: The frame.append method is deprecated and will be removed from pandas in a future version. Use pandas.concat instead.\n",
      "  totalDf = totalDf.append(json_normalize(body), ignore_index=True)\n"
     ]
    },
    {
     "name": "stdout",
     "output_type": "stream",
     "text": [
      "655001\n"
     ]
    },
    {
     "name": "stderr",
     "output_type": "stream",
     "text": [
      "C:\\Users\\ohy\\AppData\\Local\\Temp\\ipykernel_17400\\3983351454.py:33: FutureWarning: pandas.io.json.json_normalize is deprecated, use pandas.json_normalize instead.\n",
      "  totalDf = totalDf.append(json_normalize(body), ignore_index=True)\n",
      "C:\\Users\\ohy\\AppData\\Local\\Temp\\ipykernel_17400\\3983351454.py:33: FutureWarning: The frame.append method is deprecated and will be removed from pandas in a future version. Use pandas.concat instead.\n",
      "  totalDf = totalDf.append(json_normalize(body), ignore_index=True)\n"
     ]
    },
    {
     "name": "stdout",
     "output_type": "stream",
     "text": [
      "656001\n"
     ]
    },
    {
     "name": "stderr",
     "output_type": "stream",
     "text": [
      "C:\\Users\\ohy\\AppData\\Local\\Temp\\ipykernel_17400\\3983351454.py:33: FutureWarning: pandas.io.json.json_normalize is deprecated, use pandas.json_normalize instead.\n",
      "  totalDf = totalDf.append(json_normalize(body), ignore_index=True)\n",
      "C:\\Users\\ohy\\AppData\\Local\\Temp\\ipykernel_17400\\3983351454.py:33: FutureWarning: The frame.append method is deprecated and will be removed from pandas in a future version. Use pandas.concat instead.\n",
      "  totalDf = totalDf.append(json_normalize(body), ignore_index=True)\n"
     ]
    },
    {
     "name": "stdout",
     "output_type": "stream",
     "text": [
      "657001\n"
     ]
    },
    {
     "name": "stderr",
     "output_type": "stream",
     "text": [
      "C:\\Users\\ohy\\AppData\\Local\\Temp\\ipykernel_17400\\3983351454.py:33: FutureWarning: pandas.io.json.json_normalize is deprecated, use pandas.json_normalize instead.\n",
      "  totalDf = totalDf.append(json_normalize(body), ignore_index=True)\n",
      "C:\\Users\\ohy\\AppData\\Local\\Temp\\ipykernel_17400\\3983351454.py:33: FutureWarning: The frame.append method is deprecated and will be removed from pandas in a future version. Use pandas.concat instead.\n",
      "  totalDf = totalDf.append(json_normalize(body), ignore_index=True)\n"
     ]
    },
    {
     "name": "stdout",
     "output_type": "stream",
     "text": [
      "658001\n"
     ]
    },
    {
     "name": "stderr",
     "output_type": "stream",
     "text": [
      "C:\\Users\\ohy\\AppData\\Local\\Temp\\ipykernel_17400\\3983351454.py:33: FutureWarning: pandas.io.json.json_normalize is deprecated, use pandas.json_normalize instead.\n",
      "  totalDf = totalDf.append(json_normalize(body), ignore_index=True)\n",
      "C:\\Users\\ohy\\AppData\\Local\\Temp\\ipykernel_17400\\3983351454.py:33: FutureWarning: The frame.append method is deprecated and will be removed from pandas in a future version. Use pandas.concat instead.\n",
      "  totalDf = totalDf.append(json_normalize(body), ignore_index=True)\n"
     ]
    },
    {
     "name": "stdout",
     "output_type": "stream",
     "text": [
      "659001\n"
     ]
    },
    {
     "name": "stderr",
     "output_type": "stream",
     "text": [
      "C:\\Users\\ohy\\AppData\\Local\\Temp\\ipykernel_17400\\3983351454.py:33: FutureWarning: pandas.io.json.json_normalize is deprecated, use pandas.json_normalize instead.\n",
      "  totalDf = totalDf.append(json_normalize(body), ignore_index=True)\n",
      "C:\\Users\\ohy\\AppData\\Local\\Temp\\ipykernel_17400\\3983351454.py:33: FutureWarning: The frame.append method is deprecated and will be removed from pandas in a future version. Use pandas.concat instead.\n",
      "  totalDf = totalDf.append(json_normalize(body), ignore_index=True)\n"
     ]
    },
    {
     "name": "stdout",
     "output_type": "stream",
     "text": [
      "660001\n"
     ]
    },
    {
     "name": "stderr",
     "output_type": "stream",
     "text": [
      "C:\\Users\\ohy\\AppData\\Local\\Temp\\ipykernel_17400\\3983351454.py:33: FutureWarning: pandas.io.json.json_normalize is deprecated, use pandas.json_normalize instead.\n",
      "  totalDf = totalDf.append(json_normalize(body), ignore_index=True)\n",
      "C:\\Users\\ohy\\AppData\\Local\\Temp\\ipykernel_17400\\3983351454.py:33: FutureWarning: The frame.append method is deprecated and will be removed from pandas in a future version. Use pandas.concat instead.\n",
      "  totalDf = totalDf.append(json_normalize(body), ignore_index=True)\n"
     ]
    },
    {
     "name": "stdout",
     "output_type": "stream",
     "text": [
      "661001\n"
     ]
    },
    {
     "name": "stderr",
     "output_type": "stream",
     "text": [
      "C:\\Users\\ohy\\AppData\\Local\\Temp\\ipykernel_17400\\3983351454.py:33: FutureWarning: pandas.io.json.json_normalize is deprecated, use pandas.json_normalize instead.\n",
      "  totalDf = totalDf.append(json_normalize(body), ignore_index=True)\n",
      "C:\\Users\\ohy\\AppData\\Local\\Temp\\ipykernel_17400\\3983351454.py:33: FutureWarning: The frame.append method is deprecated and will be removed from pandas in a future version. Use pandas.concat instead.\n",
      "  totalDf = totalDf.append(json_normalize(body), ignore_index=True)\n"
     ]
    },
    {
     "name": "stdout",
     "output_type": "stream",
     "text": [
      "662001\n"
     ]
    },
    {
     "name": "stderr",
     "output_type": "stream",
     "text": [
      "C:\\Users\\ohy\\AppData\\Local\\Temp\\ipykernel_17400\\3983351454.py:33: FutureWarning: pandas.io.json.json_normalize is deprecated, use pandas.json_normalize instead.\n",
      "  totalDf = totalDf.append(json_normalize(body), ignore_index=True)\n",
      "C:\\Users\\ohy\\AppData\\Local\\Temp\\ipykernel_17400\\3983351454.py:33: FutureWarning: The frame.append method is deprecated and will be removed from pandas in a future version. Use pandas.concat instead.\n",
      "  totalDf = totalDf.append(json_normalize(body), ignore_index=True)\n"
     ]
    },
    {
     "name": "stdout",
     "output_type": "stream",
     "text": [
      "663001\n"
     ]
    },
    {
     "name": "stderr",
     "output_type": "stream",
     "text": [
      "C:\\Users\\ohy\\AppData\\Local\\Temp\\ipykernel_17400\\3983351454.py:33: FutureWarning: pandas.io.json.json_normalize is deprecated, use pandas.json_normalize instead.\n",
      "  totalDf = totalDf.append(json_normalize(body), ignore_index=True)\n",
      "C:\\Users\\ohy\\AppData\\Local\\Temp\\ipykernel_17400\\3983351454.py:33: FutureWarning: The frame.append method is deprecated and will be removed from pandas in a future version. Use pandas.concat instead.\n",
      "  totalDf = totalDf.append(json_normalize(body), ignore_index=True)\n"
     ]
    },
    {
     "name": "stdout",
     "output_type": "stream",
     "text": [
      "664001\n"
     ]
    },
    {
     "name": "stderr",
     "output_type": "stream",
     "text": [
      "C:\\Users\\ohy\\AppData\\Local\\Temp\\ipykernel_17400\\3983351454.py:33: FutureWarning: pandas.io.json.json_normalize is deprecated, use pandas.json_normalize instead.\n",
      "  totalDf = totalDf.append(json_normalize(body), ignore_index=True)\n",
      "C:\\Users\\ohy\\AppData\\Local\\Temp\\ipykernel_17400\\3983351454.py:33: FutureWarning: The frame.append method is deprecated and will be removed from pandas in a future version. Use pandas.concat instead.\n",
      "  totalDf = totalDf.append(json_normalize(body), ignore_index=True)\n"
     ]
    },
    {
     "name": "stdout",
     "output_type": "stream",
     "text": [
      "665001\n"
     ]
    },
    {
     "name": "stderr",
     "output_type": "stream",
     "text": [
      "C:\\Users\\ohy\\AppData\\Local\\Temp\\ipykernel_17400\\3983351454.py:33: FutureWarning: pandas.io.json.json_normalize is deprecated, use pandas.json_normalize instead.\n",
      "  totalDf = totalDf.append(json_normalize(body), ignore_index=True)\n",
      "C:\\Users\\ohy\\AppData\\Local\\Temp\\ipykernel_17400\\3983351454.py:33: FutureWarning: The frame.append method is deprecated and will be removed from pandas in a future version. Use pandas.concat instead.\n",
      "  totalDf = totalDf.append(json_normalize(body), ignore_index=True)\n"
     ]
    },
    {
     "name": "stdout",
     "output_type": "stream",
     "text": [
      "666001\n"
     ]
    },
    {
     "name": "stderr",
     "output_type": "stream",
     "text": [
      "C:\\Users\\ohy\\AppData\\Local\\Temp\\ipykernel_17400\\3983351454.py:33: FutureWarning: pandas.io.json.json_normalize is deprecated, use pandas.json_normalize instead.\n",
      "  totalDf = totalDf.append(json_normalize(body), ignore_index=True)\n",
      "C:\\Users\\ohy\\AppData\\Local\\Temp\\ipykernel_17400\\3983351454.py:33: FutureWarning: The frame.append method is deprecated and will be removed from pandas in a future version. Use pandas.concat instead.\n",
      "  totalDf = totalDf.append(json_normalize(body), ignore_index=True)\n"
     ]
    },
    {
     "name": "stdout",
     "output_type": "stream",
     "text": [
      "667001\n"
     ]
    },
    {
     "name": "stderr",
     "output_type": "stream",
     "text": [
      "C:\\Users\\ohy\\AppData\\Local\\Temp\\ipykernel_17400\\3983351454.py:33: FutureWarning: pandas.io.json.json_normalize is deprecated, use pandas.json_normalize instead.\n",
      "  totalDf = totalDf.append(json_normalize(body), ignore_index=True)\n",
      "C:\\Users\\ohy\\AppData\\Local\\Temp\\ipykernel_17400\\3983351454.py:33: FutureWarning: The frame.append method is deprecated and will be removed from pandas in a future version. Use pandas.concat instead.\n",
      "  totalDf = totalDf.append(json_normalize(body), ignore_index=True)\n"
     ]
    },
    {
     "name": "stdout",
     "output_type": "stream",
     "text": [
      "668001\n"
     ]
    },
    {
     "name": "stderr",
     "output_type": "stream",
     "text": [
      "C:\\Users\\ohy\\AppData\\Local\\Temp\\ipykernel_17400\\3983351454.py:33: FutureWarning: pandas.io.json.json_normalize is deprecated, use pandas.json_normalize instead.\n",
      "  totalDf = totalDf.append(json_normalize(body), ignore_index=True)\n",
      "C:\\Users\\ohy\\AppData\\Local\\Temp\\ipykernel_17400\\3983351454.py:33: FutureWarning: The frame.append method is deprecated and will be removed from pandas in a future version. Use pandas.concat instead.\n",
      "  totalDf = totalDf.append(json_normalize(body), ignore_index=True)\n"
     ]
    },
    {
     "name": "stdout",
     "output_type": "stream",
     "text": [
      "669001\n"
     ]
    },
    {
     "name": "stderr",
     "output_type": "stream",
     "text": [
      "C:\\Users\\ohy\\AppData\\Local\\Temp\\ipykernel_17400\\3983351454.py:33: FutureWarning: pandas.io.json.json_normalize is deprecated, use pandas.json_normalize instead.\n",
      "  totalDf = totalDf.append(json_normalize(body), ignore_index=True)\n",
      "C:\\Users\\ohy\\AppData\\Local\\Temp\\ipykernel_17400\\3983351454.py:33: FutureWarning: The frame.append method is deprecated and will be removed from pandas in a future version. Use pandas.concat instead.\n",
      "  totalDf = totalDf.append(json_normalize(body), ignore_index=True)\n"
     ]
    },
    {
     "name": "stdout",
     "output_type": "stream",
     "text": [
      "670001\n"
     ]
    },
    {
     "name": "stderr",
     "output_type": "stream",
     "text": [
      "C:\\Users\\ohy\\AppData\\Local\\Temp\\ipykernel_17400\\3983351454.py:33: FutureWarning: pandas.io.json.json_normalize is deprecated, use pandas.json_normalize instead.\n",
      "  totalDf = totalDf.append(json_normalize(body), ignore_index=True)\n",
      "C:\\Users\\ohy\\AppData\\Local\\Temp\\ipykernel_17400\\3983351454.py:33: FutureWarning: The frame.append method is deprecated and will be removed from pandas in a future version. Use pandas.concat instead.\n",
      "  totalDf = totalDf.append(json_normalize(body), ignore_index=True)\n"
     ]
    },
    {
     "name": "stdout",
     "output_type": "stream",
     "text": [
      "671001\n"
     ]
    },
    {
     "name": "stderr",
     "output_type": "stream",
     "text": [
      "C:\\Users\\ohy\\AppData\\Local\\Temp\\ipykernel_17400\\3983351454.py:33: FutureWarning: pandas.io.json.json_normalize is deprecated, use pandas.json_normalize instead.\n",
      "  totalDf = totalDf.append(json_normalize(body), ignore_index=True)\n",
      "C:\\Users\\ohy\\AppData\\Local\\Temp\\ipykernel_17400\\3983351454.py:33: FutureWarning: The frame.append method is deprecated and will be removed from pandas in a future version. Use pandas.concat instead.\n",
      "  totalDf = totalDf.append(json_normalize(body), ignore_index=True)\n"
     ]
    },
    {
     "name": "stdout",
     "output_type": "stream",
     "text": [
      "672001\n"
     ]
    },
    {
     "name": "stderr",
     "output_type": "stream",
     "text": [
      "C:\\Users\\ohy\\AppData\\Local\\Temp\\ipykernel_17400\\3983351454.py:33: FutureWarning: pandas.io.json.json_normalize is deprecated, use pandas.json_normalize instead.\n",
      "  totalDf = totalDf.append(json_normalize(body), ignore_index=True)\n",
      "C:\\Users\\ohy\\AppData\\Local\\Temp\\ipykernel_17400\\3983351454.py:33: FutureWarning: The frame.append method is deprecated and will be removed from pandas in a future version. Use pandas.concat instead.\n",
      "  totalDf = totalDf.append(json_normalize(body), ignore_index=True)\n"
     ]
    },
    {
     "name": "stdout",
     "output_type": "stream",
     "text": [
      "673001\n"
     ]
    },
    {
     "name": "stderr",
     "output_type": "stream",
     "text": [
      "C:\\Users\\ohy\\AppData\\Local\\Temp\\ipykernel_17400\\3983351454.py:33: FutureWarning: pandas.io.json.json_normalize is deprecated, use pandas.json_normalize instead.\n",
      "  totalDf = totalDf.append(json_normalize(body), ignore_index=True)\n",
      "C:\\Users\\ohy\\AppData\\Local\\Temp\\ipykernel_17400\\3983351454.py:33: FutureWarning: The frame.append method is deprecated and will be removed from pandas in a future version. Use pandas.concat instead.\n",
      "  totalDf = totalDf.append(json_normalize(body), ignore_index=True)\n"
     ]
    },
    {
     "name": "stdout",
     "output_type": "stream",
     "text": [
      "674001\n"
     ]
    },
    {
     "name": "stderr",
     "output_type": "stream",
     "text": [
      "C:\\Users\\ohy\\AppData\\Local\\Temp\\ipykernel_17400\\3983351454.py:33: FutureWarning: pandas.io.json.json_normalize is deprecated, use pandas.json_normalize instead.\n",
      "  totalDf = totalDf.append(json_normalize(body), ignore_index=True)\n",
      "C:\\Users\\ohy\\AppData\\Local\\Temp\\ipykernel_17400\\3983351454.py:33: FutureWarning: The frame.append method is deprecated and will be removed from pandas in a future version. Use pandas.concat instead.\n",
      "  totalDf = totalDf.append(json_normalize(body), ignore_index=True)\n"
     ]
    },
    {
     "name": "stdout",
     "output_type": "stream",
     "text": [
      "675001\n"
     ]
    },
    {
     "name": "stderr",
     "output_type": "stream",
     "text": [
      "C:\\Users\\ohy\\AppData\\Local\\Temp\\ipykernel_17400\\3983351454.py:33: FutureWarning: pandas.io.json.json_normalize is deprecated, use pandas.json_normalize instead.\n",
      "  totalDf = totalDf.append(json_normalize(body), ignore_index=True)\n",
      "C:\\Users\\ohy\\AppData\\Local\\Temp\\ipykernel_17400\\3983351454.py:33: FutureWarning: The frame.append method is deprecated and will be removed from pandas in a future version. Use pandas.concat instead.\n",
      "  totalDf = totalDf.append(json_normalize(body), ignore_index=True)\n"
     ]
    },
    {
     "name": "stdout",
     "output_type": "stream",
     "text": [
      "676001\n"
     ]
    },
    {
     "name": "stderr",
     "output_type": "stream",
     "text": [
      "C:\\Users\\ohy\\AppData\\Local\\Temp\\ipykernel_17400\\3983351454.py:33: FutureWarning: pandas.io.json.json_normalize is deprecated, use pandas.json_normalize instead.\n",
      "  totalDf = totalDf.append(json_normalize(body), ignore_index=True)\n",
      "C:\\Users\\ohy\\AppData\\Local\\Temp\\ipykernel_17400\\3983351454.py:33: FutureWarning: The frame.append method is deprecated and will be removed from pandas in a future version. Use pandas.concat instead.\n",
      "  totalDf = totalDf.append(json_normalize(body), ignore_index=True)\n"
     ]
    },
    {
     "name": "stdout",
     "output_type": "stream",
     "text": [
      "677001\n"
     ]
    },
    {
     "name": "stderr",
     "output_type": "stream",
     "text": [
      "C:\\Users\\ohy\\AppData\\Local\\Temp\\ipykernel_17400\\3983351454.py:33: FutureWarning: pandas.io.json.json_normalize is deprecated, use pandas.json_normalize instead.\n",
      "  totalDf = totalDf.append(json_normalize(body), ignore_index=True)\n",
      "C:\\Users\\ohy\\AppData\\Local\\Temp\\ipykernel_17400\\3983351454.py:33: FutureWarning: The frame.append method is deprecated and will be removed from pandas in a future version. Use pandas.concat instead.\n",
      "  totalDf = totalDf.append(json_normalize(body), ignore_index=True)\n"
     ]
    },
    {
     "name": "stdout",
     "output_type": "stream",
     "text": [
      "678001\n"
     ]
    },
    {
     "name": "stderr",
     "output_type": "stream",
     "text": [
      "C:\\Users\\ohy\\AppData\\Local\\Temp\\ipykernel_17400\\3983351454.py:33: FutureWarning: pandas.io.json.json_normalize is deprecated, use pandas.json_normalize instead.\n",
      "  totalDf = totalDf.append(json_normalize(body), ignore_index=True)\n",
      "C:\\Users\\ohy\\AppData\\Local\\Temp\\ipykernel_17400\\3983351454.py:33: FutureWarning: The frame.append method is deprecated and will be removed from pandas in a future version. Use pandas.concat instead.\n",
      "  totalDf = totalDf.append(json_normalize(body), ignore_index=True)\n"
     ]
    },
    {
     "name": "stdout",
     "output_type": "stream",
     "text": [
      "679001\n"
     ]
    },
    {
     "name": "stderr",
     "output_type": "stream",
     "text": [
      "C:\\Users\\ohy\\AppData\\Local\\Temp\\ipykernel_17400\\3983351454.py:33: FutureWarning: pandas.io.json.json_normalize is deprecated, use pandas.json_normalize instead.\n",
      "  totalDf = totalDf.append(json_normalize(body), ignore_index=True)\n",
      "C:\\Users\\ohy\\AppData\\Local\\Temp\\ipykernel_17400\\3983351454.py:33: FutureWarning: The frame.append method is deprecated and will be removed from pandas in a future version. Use pandas.concat instead.\n",
      "  totalDf = totalDf.append(json_normalize(body), ignore_index=True)\n"
     ]
    },
    {
     "name": "stdout",
     "output_type": "stream",
     "text": [
      "680001\n"
     ]
    },
    {
     "name": "stderr",
     "output_type": "stream",
     "text": [
      "C:\\Users\\ohy\\AppData\\Local\\Temp\\ipykernel_17400\\3983351454.py:33: FutureWarning: pandas.io.json.json_normalize is deprecated, use pandas.json_normalize instead.\n",
      "  totalDf = totalDf.append(json_normalize(body), ignore_index=True)\n",
      "C:\\Users\\ohy\\AppData\\Local\\Temp\\ipykernel_17400\\3983351454.py:33: FutureWarning: The frame.append method is deprecated and will be removed from pandas in a future version. Use pandas.concat instead.\n",
      "  totalDf = totalDf.append(json_normalize(body), ignore_index=True)\n"
     ]
    },
    {
     "name": "stdout",
     "output_type": "stream",
     "text": [
      "681001\n"
     ]
    },
    {
     "name": "stderr",
     "output_type": "stream",
     "text": [
      "C:\\Users\\ohy\\AppData\\Local\\Temp\\ipykernel_17400\\3983351454.py:33: FutureWarning: pandas.io.json.json_normalize is deprecated, use pandas.json_normalize instead.\n",
      "  totalDf = totalDf.append(json_normalize(body), ignore_index=True)\n",
      "C:\\Users\\ohy\\AppData\\Local\\Temp\\ipykernel_17400\\3983351454.py:33: FutureWarning: The frame.append method is deprecated and will be removed from pandas in a future version. Use pandas.concat instead.\n",
      "  totalDf = totalDf.append(json_normalize(body), ignore_index=True)\n"
     ]
    },
    {
     "name": "stdout",
     "output_type": "stream",
     "text": [
      "682001\n"
     ]
    },
    {
     "name": "stderr",
     "output_type": "stream",
     "text": [
      "C:\\Users\\ohy\\AppData\\Local\\Temp\\ipykernel_17400\\3983351454.py:33: FutureWarning: pandas.io.json.json_normalize is deprecated, use pandas.json_normalize instead.\n",
      "  totalDf = totalDf.append(json_normalize(body), ignore_index=True)\n",
      "C:\\Users\\ohy\\AppData\\Local\\Temp\\ipykernel_17400\\3983351454.py:33: FutureWarning: The frame.append method is deprecated and will be removed from pandas in a future version. Use pandas.concat instead.\n",
      "  totalDf = totalDf.append(json_normalize(body), ignore_index=True)\n"
     ]
    },
    {
     "name": "stdout",
     "output_type": "stream",
     "text": [
      "683001\n"
     ]
    },
    {
     "name": "stderr",
     "output_type": "stream",
     "text": [
      "C:\\Users\\ohy\\AppData\\Local\\Temp\\ipykernel_17400\\3983351454.py:33: FutureWarning: pandas.io.json.json_normalize is deprecated, use pandas.json_normalize instead.\n",
      "  totalDf = totalDf.append(json_normalize(body), ignore_index=True)\n",
      "C:\\Users\\ohy\\AppData\\Local\\Temp\\ipykernel_17400\\3983351454.py:33: FutureWarning: The frame.append method is deprecated and will be removed from pandas in a future version. Use pandas.concat instead.\n",
      "  totalDf = totalDf.append(json_normalize(body), ignore_index=True)\n"
     ]
    },
    {
     "name": "stdout",
     "output_type": "stream",
     "text": [
      "684001\n"
     ]
    },
    {
     "name": "stderr",
     "output_type": "stream",
     "text": [
      "C:\\Users\\ohy\\AppData\\Local\\Temp\\ipykernel_17400\\3983351454.py:33: FutureWarning: pandas.io.json.json_normalize is deprecated, use pandas.json_normalize instead.\n",
      "  totalDf = totalDf.append(json_normalize(body), ignore_index=True)\n",
      "C:\\Users\\ohy\\AppData\\Local\\Temp\\ipykernel_17400\\3983351454.py:33: FutureWarning: The frame.append method is deprecated and will be removed from pandas in a future version. Use pandas.concat instead.\n",
      "  totalDf = totalDf.append(json_normalize(body), ignore_index=True)\n"
     ]
    },
    {
     "name": "stdout",
     "output_type": "stream",
     "text": [
      "685001\n"
     ]
    },
    {
     "name": "stderr",
     "output_type": "stream",
     "text": [
      "C:\\Users\\ohy\\AppData\\Local\\Temp\\ipykernel_17400\\3983351454.py:33: FutureWarning: pandas.io.json.json_normalize is deprecated, use pandas.json_normalize instead.\n",
      "  totalDf = totalDf.append(json_normalize(body), ignore_index=True)\n",
      "C:\\Users\\ohy\\AppData\\Local\\Temp\\ipykernel_17400\\3983351454.py:33: FutureWarning: The frame.append method is deprecated and will be removed from pandas in a future version. Use pandas.concat instead.\n",
      "  totalDf = totalDf.append(json_normalize(body), ignore_index=True)\n"
     ]
    },
    {
     "name": "stdout",
     "output_type": "stream",
     "text": [
      "686001\n"
     ]
    },
    {
     "name": "stderr",
     "output_type": "stream",
     "text": [
      "C:\\Users\\ohy\\AppData\\Local\\Temp\\ipykernel_17400\\3983351454.py:33: FutureWarning: pandas.io.json.json_normalize is deprecated, use pandas.json_normalize instead.\n",
      "  totalDf = totalDf.append(json_normalize(body), ignore_index=True)\n",
      "C:\\Users\\ohy\\AppData\\Local\\Temp\\ipykernel_17400\\3983351454.py:33: FutureWarning: The frame.append method is deprecated and will be removed from pandas in a future version. Use pandas.concat instead.\n",
      "  totalDf = totalDf.append(json_normalize(body), ignore_index=True)\n"
     ]
    },
    {
     "name": "stdout",
     "output_type": "stream",
     "text": [
      "687001\n"
     ]
    },
    {
     "name": "stderr",
     "output_type": "stream",
     "text": [
      "C:\\Users\\ohy\\AppData\\Local\\Temp\\ipykernel_17400\\3983351454.py:33: FutureWarning: pandas.io.json.json_normalize is deprecated, use pandas.json_normalize instead.\n",
      "  totalDf = totalDf.append(json_normalize(body), ignore_index=True)\n",
      "C:\\Users\\ohy\\AppData\\Local\\Temp\\ipykernel_17400\\3983351454.py:33: FutureWarning: The frame.append method is deprecated and will be removed from pandas in a future version. Use pandas.concat instead.\n",
      "  totalDf = totalDf.append(json_normalize(body), ignore_index=True)\n"
     ]
    },
    {
     "name": "stdout",
     "output_type": "stream",
     "text": [
      "688001\n"
     ]
    },
    {
     "name": "stderr",
     "output_type": "stream",
     "text": [
      "C:\\Users\\ohy\\AppData\\Local\\Temp\\ipykernel_17400\\3983351454.py:33: FutureWarning: pandas.io.json.json_normalize is deprecated, use pandas.json_normalize instead.\n",
      "  totalDf = totalDf.append(json_normalize(body), ignore_index=True)\n",
      "C:\\Users\\ohy\\AppData\\Local\\Temp\\ipykernel_17400\\3983351454.py:33: FutureWarning: The frame.append method is deprecated and will be removed from pandas in a future version. Use pandas.concat instead.\n",
      "  totalDf = totalDf.append(json_normalize(body), ignore_index=True)\n"
     ]
    },
    {
     "name": "stdout",
     "output_type": "stream",
     "text": [
      "689001\n"
     ]
    },
    {
     "name": "stderr",
     "output_type": "stream",
     "text": [
      "C:\\Users\\ohy\\AppData\\Local\\Temp\\ipykernel_17400\\3983351454.py:33: FutureWarning: pandas.io.json.json_normalize is deprecated, use pandas.json_normalize instead.\n",
      "  totalDf = totalDf.append(json_normalize(body), ignore_index=True)\n",
      "C:\\Users\\ohy\\AppData\\Local\\Temp\\ipykernel_17400\\3983351454.py:33: FutureWarning: The frame.append method is deprecated and will be removed from pandas in a future version. Use pandas.concat instead.\n",
      "  totalDf = totalDf.append(json_normalize(body), ignore_index=True)\n"
     ]
    },
    {
     "name": "stdout",
     "output_type": "stream",
     "text": [
      "690001\n"
     ]
    },
    {
     "name": "stderr",
     "output_type": "stream",
     "text": [
      "C:\\Users\\ohy\\AppData\\Local\\Temp\\ipykernel_17400\\3983351454.py:33: FutureWarning: pandas.io.json.json_normalize is deprecated, use pandas.json_normalize instead.\n",
      "  totalDf = totalDf.append(json_normalize(body), ignore_index=True)\n",
      "C:\\Users\\ohy\\AppData\\Local\\Temp\\ipykernel_17400\\3983351454.py:33: FutureWarning: The frame.append method is deprecated and will be removed from pandas in a future version. Use pandas.concat instead.\n",
      "  totalDf = totalDf.append(json_normalize(body), ignore_index=True)\n"
     ]
    },
    {
     "name": "stdout",
     "output_type": "stream",
     "text": [
      "691001\n"
     ]
    },
    {
     "name": "stderr",
     "output_type": "stream",
     "text": [
      "C:\\Users\\ohy\\AppData\\Local\\Temp\\ipykernel_17400\\3983351454.py:33: FutureWarning: pandas.io.json.json_normalize is deprecated, use pandas.json_normalize instead.\n",
      "  totalDf = totalDf.append(json_normalize(body), ignore_index=True)\n",
      "C:\\Users\\ohy\\AppData\\Local\\Temp\\ipykernel_17400\\3983351454.py:33: FutureWarning: The frame.append method is deprecated and will be removed from pandas in a future version. Use pandas.concat instead.\n",
      "  totalDf = totalDf.append(json_normalize(body), ignore_index=True)\n"
     ]
    },
    {
     "name": "stdout",
     "output_type": "stream",
     "text": [
      "692001\n"
     ]
    },
    {
     "name": "stderr",
     "output_type": "stream",
     "text": [
      "C:\\Users\\ohy\\AppData\\Local\\Temp\\ipykernel_17400\\3983351454.py:33: FutureWarning: pandas.io.json.json_normalize is deprecated, use pandas.json_normalize instead.\n",
      "  totalDf = totalDf.append(json_normalize(body), ignore_index=True)\n",
      "C:\\Users\\ohy\\AppData\\Local\\Temp\\ipykernel_17400\\3983351454.py:33: FutureWarning: The frame.append method is deprecated and will be removed from pandas in a future version. Use pandas.concat instead.\n",
      "  totalDf = totalDf.append(json_normalize(body), ignore_index=True)\n"
     ]
    },
    {
     "name": "stdout",
     "output_type": "stream",
     "text": [
      "693001\n"
     ]
    },
    {
     "name": "stderr",
     "output_type": "stream",
     "text": [
      "C:\\Users\\ohy\\AppData\\Local\\Temp\\ipykernel_17400\\3983351454.py:33: FutureWarning: pandas.io.json.json_normalize is deprecated, use pandas.json_normalize instead.\n",
      "  totalDf = totalDf.append(json_normalize(body), ignore_index=True)\n",
      "C:\\Users\\ohy\\AppData\\Local\\Temp\\ipykernel_17400\\3983351454.py:33: FutureWarning: The frame.append method is deprecated and will be removed from pandas in a future version. Use pandas.concat instead.\n",
      "  totalDf = totalDf.append(json_normalize(body), ignore_index=True)\n"
     ]
    },
    {
     "name": "stdout",
     "output_type": "stream",
     "text": [
      "694001\n"
     ]
    },
    {
     "name": "stderr",
     "output_type": "stream",
     "text": [
      "C:\\Users\\ohy\\AppData\\Local\\Temp\\ipykernel_17400\\3983351454.py:33: FutureWarning: pandas.io.json.json_normalize is deprecated, use pandas.json_normalize instead.\n",
      "  totalDf = totalDf.append(json_normalize(body), ignore_index=True)\n",
      "C:\\Users\\ohy\\AppData\\Local\\Temp\\ipykernel_17400\\3983351454.py:33: FutureWarning: The frame.append method is deprecated and will be removed from pandas in a future version. Use pandas.concat instead.\n",
      "  totalDf = totalDf.append(json_normalize(body), ignore_index=True)\n"
     ]
    },
    {
     "name": "stdout",
     "output_type": "stream",
     "text": [
      "695001\n"
     ]
    },
    {
     "name": "stderr",
     "output_type": "stream",
     "text": [
      "C:\\Users\\ohy\\AppData\\Local\\Temp\\ipykernel_17400\\3983351454.py:33: FutureWarning: pandas.io.json.json_normalize is deprecated, use pandas.json_normalize instead.\n",
      "  totalDf = totalDf.append(json_normalize(body), ignore_index=True)\n",
      "C:\\Users\\ohy\\AppData\\Local\\Temp\\ipykernel_17400\\3983351454.py:33: FutureWarning: The frame.append method is deprecated and will be removed from pandas in a future version. Use pandas.concat instead.\n",
      "  totalDf = totalDf.append(json_normalize(body), ignore_index=True)\n"
     ]
    },
    {
     "name": "stdout",
     "output_type": "stream",
     "text": [
      "696001\n"
     ]
    },
    {
     "name": "stderr",
     "output_type": "stream",
     "text": [
      "C:\\Users\\ohy\\AppData\\Local\\Temp\\ipykernel_17400\\3983351454.py:33: FutureWarning: pandas.io.json.json_normalize is deprecated, use pandas.json_normalize instead.\n",
      "  totalDf = totalDf.append(json_normalize(body), ignore_index=True)\n",
      "C:\\Users\\ohy\\AppData\\Local\\Temp\\ipykernel_17400\\3983351454.py:33: FutureWarning: The frame.append method is deprecated and will be removed from pandas in a future version. Use pandas.concat instead.\n",
      "  totalDf = totalDf.append(json_normalize(body), ignore_index=True)\n"
     ]
    },
    {
     "name": "stdout",
     "output_type": "stream",
     "text": [
      "697001\n"
     ]
    },
    {
     "name": "stderr",
     "output_type": "stream",
     "text": [
      "C:\\Users\\ohy\\AppData\\Local\\Temp\\ipykernel_17400\\3983351454.py:33: FutureWarning: pandas.io.json.json_normalize is deprecated, use pandas.json_normalize instead.\n",
      "  totalDf = totalDf.append(json_normalize(body), ignore_index=True)\n",
      "C:\\Users\\ohy\\AppData\\Local\\Temp\\ipykernel_17400\\3983351454.py:33: FutureWarning: The frame.append method is deprecated and will be removed from pandas in a future version. Use pandas.concat instead.\n",
      "  totalDf = totalDf.append(json_normalize(body), ignore_index=True)\n"
     ]
    },
    {
     "name": "stdout",
     "output_type": "stream",
     "text": [
      "698001\n"
     ]
    },
    {
     "name": "stderr",
     "output_type": "stream",
     "text": [
      "C:\\Users\\ohy\\AppData\\Local\\Temp\\ipykernel_17400\\3983351454.py:33: FutureWarning: pandas.io.json.json_normalize is deprecated, use pandas.json_normalize instead.\n",
      "  totalDf = totalDf.append(json_normalize(body), ignore_index=True)\n",
      "C:\\Users\\ohy\\AppData\\Local\\Temp\\ipykernel_17400\\3983351454.py:33: FutureWarning: The frame.append method is deprecated and will be removed from pandas in a future version. Use pandas.concat instead.\n",
      "  totalDf = totalDf.append(json_normalize(body), ignore_index=True)\n"
     ]
    },
    {
     "name": "stdout",
     "output_type": "stream",
     "text": [
      "699001\n"
     ]
    },
    {
     "name": "stderr",
     "output_type": "stream",
     "text": [
      "C:\\Users\\ohy\\AppData\\Local\\Temp\\ipykernel_17400\\3983351454.py:33: FutureWarning: pandas.io.json.json_normalize is deprecated, use pandas.json_normalize instead.\n",
      "  totalDf = totalDf.append(json_normalize(body), ignore_index=True)\n",
      "C:\\Users\\ohy\\AppData\\Local\\Temp\\ipykernel_17400\\3983351454.py:33: FutureWarning: The frame.append method is deprecated and will be removed from pandas in a future version. Use pandas.concat instead.\n",
      "  totalDf = totalDf.append(json_normalize(body), ignore_index=True)\n"
     ]
    },
    {
     "name": "stdout",
     "output_type": "stream",
     "text": [
      "700001\n"
     ]
    },
    {
     "name": "stderr",
     "output_type": "stream",
     "text": [
      "C:\\Users\\ohy\\AppData\\Local\\Temp\\ipykernel_17400\\3983351454.py:33: FutureWarning: pandas.io.json.json_normalize is deprecated, use pandas.json_normalize instead.\n",
      "  totalDf = totalDf.append(json_normalize(body), ignore_index=True)\n",
      "C:\\Users\\ohy\\AppData\\Local\\Temp\\ipykernel_17400\\3983351454.py:33: FutureWarning: The frame.append method is deprecated and will be removed from pandas in a future version. Use pandas.concat instead.\n",
      "  totalDf = totalDf.append(json_normalize(body), ignore_index=True)\n"
     ]
    },
    {
     "name": "stdout",
     "output_type": "stream",
     "text": [
      "701001\n"
     ]
    },
    {
     "name": "stderr",
     "output_type": "stream",
     "text": [
      "C:\\Users\\ohy\\AppData\\Local\\Temp\\ipykernel_17400\\3983351454.py:33: FutureWarning: pandas.io.json.json_normalize is deprecated, use pandas.json_normalize instead.\n",
      "  totalDf = totalDf.append(json_normalize(body), ignore_index=True)\n",
      "C:\\Users\\ohy\\AppData\\Local\\Temp\\ipykernel_17400\\3983351454.py:33: FutureWarning: The frame.append method is deprecated and will be removed from pandas in a future version. Use pandas.concat instead.\n",
      "  totalDf = totalDf.append(json_normalize(body), ignore_index=True)\n"
     ]
    },
    {
     "name": "stdout",
     "output_type": "stream",
     "text": [
      "702001\n"
     ]
    },
    {
     "name": "stderr",
     "output_type": "stream",
     "text": [
      "C:\\Users\\ohy\\AppData\\Local\\Temp\\ipykernel_17400\\3983351454.py:33: FutureWarning: pandas.io.json.json_normalize is deprecated, use pandas.json_normalize instead.\n",
      "  totalDf = totalDf.append(json_normalize(body), ignore_index=True)\n",
      "C:\\Users\\ohy\\AppData\\Local\\Temp\\ipykernel_17400\\3983351454.py:33: FutureWarning: The frame.append method is deprecated and will be removed from pandas in a future version. Use pandas.concat instead.\n",
      "  totalDf = totalDf.append(json_normalize(body), ignore_index=True)\n"
     ]
    },
    {
     "name": "stdout",
     "output_type": "stream",
     "text": [
      "703001\n"
     ]
    },
    {
     "name": "stderr",
     "output_type": "stream",
     "text": [
      "C:\\Users\\ohy\\AppData\\Local\\Temp\\ipykernel_17400\\3983351454.py:33: FutureWarning: pandas.io.json.json_normalize is deprecated, use pandas.json_normalize instead.\n",
      "  totalDf = totalDf.append(json_normalize(body), ignore_index=True)\n",
      "C:\\Users\\ohy\\AppData\\Local\\Temp\\ipykernel_17400\\3983351454.py:33: FutureWarning: The frame.append method is deprecated and will be removed from pandas in a future version. Use pandas.concat instead.\n",
      "  totalDf = totalDf.append(json_normalize(body), ignore_index=True)\n"
     ]
    },
    {
     "name": "stdout",
     "output_type": "stream",
     "text": [
      "704001\n"
     ]
    },
    {
     "name": "stderr",
     "output_type": "stream",
     "text": [
      "C:\\Users\\ohy\\AppData\\Local\\Temp\\ipykernel_17400\\3983351454.py:33: FutureWarning: pandas.io.json.json_normalize is deprecated, use pandas.json_normalize instead.\n",
      "  totalDf = totalDf.append(json_normalize(body), ignore_index=True)\n",
      "C:\\Users\\ohy\\AppData\\Local\\Temp\\ipykernel_17400\\3983351454.py:33: FutureWarning: The frame.append method is deprecated and will be removed from pandas in a future version. Use pandas.concat instead.\n",
      "  totalDf = totalDf.append(json_normalize(body), ignore_index=True)\n"
     ]
    },
    {
     "name": "stdout",
     "output_type": "stream",
     "text": [
      "705001\n"
     ]
    },
    {
     "name": "stderr",
     "output_type": "stream",
     "text": [
      "C:\\Users\\ohy\\AppData\\Local\\Temp\\ipykernel_17400\\3983351454.py:33: FutureWarning: pandas.io.json.json_normalize is deprecated, use pandas.json_normalize instead.\n",
      "  totalDf = totalDf.append(json_normalize(body), ignore_index=True)\n",
      "C:\\Users\\ohy\\AppData\\Local\\Temp\\ipykernel_17400\\3983351454.py:33: FutureWarning: The frame.append method is deprecated and will be removed from pandas in a future version. Use pandas.concat instead.\n",
      "  totalDf = totalDf.append(json_normalize(body), ignore_index=True)\n"
     ]
    },
    {
     "name": "stdout",
     "output_type": "stream",
     "text": [
      "706001\n"
     ]
    },
    {
     "name": "stderr",
     "output_type": "stream",
     "text": [
      "C:\\Users\\ohy\\AppData\\Local\\Temp\\ipykernel_17400\\3983351454.py:33: FutureWarning: pandas.io.json.json_normalize is deprecated, use pandas.json_normalize instead.\n",
      "  totalDf = totalDf.append(json_normalize(body), ignore_index=True)\n",
      "C:\\Users\\ohy\\AppData\\Local\\Temp\\ipykernel_17400\\3983351454.py:33: FutureWarning: The frame.append method is deprecated and will be removed from pandas in a future version. Use pandas.concat instead.\n",
      "  totalDf = totalDf.append(json_normalize(body), ignore_index=True)\n"
     ]
    },
    {
     "name": "stdout",
     "output_type": "stream",
     "text": [
      "707001\n"
     ]
    },
    {
     "name": "stderr",
     "output_type": "stream",
     "text": [
      "C:\\Users\\ohy\\AppData\\Local\\Temp\\ipykernel_17400\\3983351454.py:33: FutureWarning: pandas.io.json.json_normalize is deprecated, use pandas.json_normalize instead.\n",
      "  totalDf = totalDf.append(json_normalize(body), ignore_index=True)\n",
      "C:\\Users\\ohy\\AppData\\Local\\Temp\\ipykernel_17400\\3983351454.py:33: FutureWarning: The frame.append method is deprecated and will be removed from pandas in a future version. Use pandas.concat instead.\n",
      "  totalDf = totalDf.append(json_normalize(body), ignore_index=True)\n"
     ]
    },
    {
     "name": "stdout",
     "output_type": "stream",
     "text": [
      "708001\n"
     ]
    },
    {
     "name": "stderr",
     "output_type": "stream",
     "text": [
      "C:\\Users\\ohy\\AppData\\Local\\Temp\\ipykernel_17400\\3983351454.py:33: FutureWarning: pandas.io.json.json_normalize is deprecated, use pandas.json_normalize instead.\n",
      "  totalDf = totalDf.append(json_normalize(body), ignore_index=True)\n",
      "C:\\Users\\ohy\\AppData\\Local\\Temp\\ipykernel_17400\\3983351454.py:33: FutureWarning: The frame.append method is deprecated and will be removed from pandas in a future version. Use pandas.concat instead.\n",
      "  totalDf = totalDf.append(json_normalize(body), ignore_index=True)\n"
     ]
    },
    {
     "name": "stdout",
     "output_type": "stream",
     "text": [
      "709001\n"
     ]
    },
    {
     "name": "stderr",
     "output_type": "stream",
     "text": [
      "C:\\Users\\ohy\\AppData\\Local\\Temp\\ipykernel_17400\\3983351454.py:33: FutureWarning: pandas.io.json.json_normalize is deprecated, use pandas.json_normalize instead.\n",
      "  totalDf = totalDf.append(json_normalize(body), ignore_index=True)\n",
      "C:\\Users\\ohy\\AppData\\Local\\Temp\\ipykernel_17400\\3983351454.py:33: FutureWarning: The frame.append method is deprecated and will be removed from pandas in a future version. Use pandas.concat instead.\n",
      "  totalDf = totalDf.append(json_normalize(body), ignore_index=True)\n"
     ]
    },
    {
     "name": "stdout",
     "output_type": "stream",
     "text": [
      "710001\n"
     ]
    },
    {
     "name": "stderr",
     "output_type": "stream",
     "text": [
      "C:\\Users\\ohy\\AppData\\Local\\Temp\\ipykernel_17400\\3983351454.py:33: FutureWarning: pandas.io.json.json_normalize is deprecated, use pandas.json_normalize instead.\n",
      "  totalDf = totalDf.append(json_normalize(body), ignore_index=True)\n",
      "C:\\Users\\ohy\\AppData\\Local\\Temp\\ipykernel_17400\\3983351454.py:33: FutureWarning: The frame.append method is deprecated and will be removed from pandas in a future version. Use pandas.concat instead.\n",
      "  totalDf = totalDf.append(json_normalize(body), ignore_index=True)\n"
     ]
    },
    {
     "name": "stdout",
     "output_type": "stream",
     "text": [
      "711001\n"
     ]
    },
    {
     "name": "stderr",
     "output_type": "stream",
     "text": [
      "C:\\Users\\ohy\\AppData\\Local\\Temp\\ipykernel_17400\\3983351454.py:33: FutureWarning: pandas.io.json.json_normalize is deprecated, use pandas.json_normalize instead.\n",
      "  totalDf = totalDf.append(json_normalize(body), ignore_index=True)\n",
      "C:\\Users\\ohy\\AppData\\Local\\Temp\\ipykernel_17400\\3983351454.py:33: FutureWarning: The frame.append method is deprecated and will be removed from pandas in a future version. Use pandas.concat instead.\n",
      "  totalDf = totalDf.append(json_normalize(body), ignore_index=True)\n"
     ]
    },
    {
     "name": "stdout",
     "output_type": "stream",
     "text": [
      "712001\n"
     ]
    },
    {
     "name": "stderr",
     "output_type": "stream",
     "text": [
      "C:\\Users\\ohy\\AppData\\Local\\Temp\\ipykernel_17400\\3983351454.py:33: FutureWarning: pandas.io.json.json_normalize is deprecated, use pandas.json_normalize instead.\n",
      "  totalDf = totalDf.append(json_normalize(body), ignore_index=True)\n",
      "C:\\Users\\ohy\\AppData\\Local\\Temp\\ipykernel_17400\\3983351454.py:33: FutureWarning: The frame.append method is deprecated and will be removed from pandas in a future version. Use pandas.concat instead.\n",
      "  totalDf = totalDf.append(json_normalize(body), ignore_index=True)\n"
     ]
    },
    {
     "name": "stdout",
     "output_type": "stream",
     "text": [
      "713001\n"
     ]
    },
    {
     "name": "stderr",
     "output_type": "stream",
     "text": [
      "C:\\Users\\ohy\\AppData\\Local\\Temp\\ipykernel_17400\\3983351454.py:33: FutureWarning: pandas.io.json.json_normalize is deprecated, use pandas.json_normalize instead.\n",
      "  totalDf = totalDf.append(json_normalize(body), ignore_index=True)\n",
      "C:\\Users\\ohy\\AppData\\Local\\Temp\\ipykernel_17400\\3983351454.py:33: FutureWarning: The frame.append method is deprecated and will be removed from pandas in a future version. Use pandas.concat instead.\n",
      "  totalDf = totalDf.append(json_normalize(body), ignore_index=True)\n"
     ]
    },
    {
     "name": "stdout",
     "output_type": "stream",
     "text": [
      "714001\n"
     ]
    },
    {
     "name": "stderr",
     "output_type": "stream",
     "text": [
      "C:\\Users\\ohy\\AppData\\Local\\Temp\\ipykernel_17400\\3983351454.py:33: FutureWarning: pandas.io.json.json_normalize is deprecated, use pandas.json_normalize instead.\n",
      "  totalDf = totalDf.append(json_normalize(body), ignore_index=True)\n",
      "C:\\Users\\ohy\\AppData\\Local\\Temp\\ipykernel_17400\\3983351454.py:33: FutureWarning: The frame.append method is deprecated and will be removed from pandas in a future version. Use pandas.concat instead.\n",
      "  totalDf = totalDf.append(json_normalize(body), ignore_index=True)\n"
     ]
    },
    {
     "name": "stdout",
     "output_type": "stream",
     "text": [
      "715001\n"
     ]
    },
    {
     "name": "stderr",
     "output_type": "stream",
     "text": [
      "C:\\Users\\ohy\\AppData\\Local\\Temp\\ipykernel_17400\\3983351454.py:33: FutureWarning: pandas.io.json.json_normalize is deprecated, use pandas.json_normalize instead.\n",
      "  totalDf = totalDf.append(json_normalize(body), ignore_index=True)\n",
      "C:\\Users\\ohy\\AppData\\Local\\Temp\\ipykernel_17400\\3983351454.py:33: FutureWarning: The frame.append method is deprecated and will be removed from pandas in a future version. Use pandas.concat instead.\n",
      "  totalDf = totalDf.append(json_normalize(body), ignore_index=True)\n"
     ]
    },
    {
     "name": "stdout",
     "output_type": "stream",
     "text": [
      "716001\n"
     ]
    },
    {
     "name": "stderr",
     "output_type": "stream",
     "text": [
      "C:\\Users\\ohy\\AppData\\Local\\Temp\\ipykernel_17400\\3983351454.py:33: FutureWarning: pandas.io.json.json_normalize is deprecated, use pandas.json_normalize instead.\n",
      "  totalDf = totalDf.append(json_normalize(body), ignore_index=True)\n",
      "C:\\Users\\ohy\\AppData\\Local\\Temp\\ipykernel_17400\\3983351454.py:33: FutureWarning: The frame.append method is deprecated and will be removed from pandas in a future version. Use pandas.concat instead.\n",
      "  totalDf = totalDf.append(json_normalize(body), ignore_index=True)\n"
     ]
    },
    {
     "name": "stdout",
     "output_type": "stream",
     "text": [
      "717001\n"
     ]
    },
    {
     "name": "stderr",
     "output_type": "stream",
     "text": [
      "C:\\Users\\ohy\\AppData\\Local\\Temp\\ipykernel_17400\\3983351454.py:33: FutureWarning: pandas.io.json.json_normalize is deprecated, use pandas.json_normalize instead.\n",
      "  totalDf = totalDf.append(json_normalize(body), ignore_index=True)\n",
      "C:\\Users\\ohy\\AppData\\Local\\Temp\\ipykernel_17400\\3983351454.py:33: FutureWarning: The frame.append method is deprecated and will be removed from pandas in a future version. Use pandas.concat instead.\n",
      "  totalDf = totalDf.append(json_normalize(body), ignore_index=True)\n"
     ]
    },
    {
     "name": "stdout",
     "output_type": "stream",
     "text": [
      "718001\n"
     ]
    },
    {
     "name": "stderr",
     "output_type": "stream",
     "text": [
      "C:\\Users\\ohy\\AppData\\Local\\Temp\\ipykernel_17400\\3983351454.py:33: FutureWarning: pandas.io.json.json_normalize is deprecated, use pandas.json_normalize instead.\n",
      "  totalDf = totalDf.append(json_normalize(body), ignore_index=True)\n",
      "C:\\Users\\ohy\\AppData\\Local\\Temp\\ipykernel_17400\\3983351454.py:33: FutureWarning: The frame.append method is deprecated and will be removed from pandas in a future version. Use pandas.concat instead.\n",
      "  totalDf = totalDf.append(json_normalize(body), ignore_index=True)\n"
     ]
    },
    {
     "name": "stdout",
     "output_type": "stream",
     "text": [
      "719001\n"
     ]
    },
    {
     "name": "stderr",
     "output_type": "stream",
     "text": [
      "C:\\Users\\ohy\\AppData\\Local\\Temp\\ipykernel_17400\\3983351454.py:33: FutureWarning: pandas.io.json.json_normalize is deprecated, use pandas.json_normalize instead.\n",
      "  totalDf = totalDf.append(json_normalize(body), ignore_index=True)\n",
      "C:\\Users\\ohy\\AppData\\Local\\Temp\\ipykernel_17400\\3983351454.py:33: FutureWarning: The frame.append method is deprecated and will be removed from pandas in a future version. Use pandas.concat instead.\n",
      "  totalDf = totalDf.append(json_normalize(body), ignore_index=True)\n"
     ]
    },
    {
     "name": "stdout",
     "output_type": "stream",
     "text": [
      "720001\n"
     ]
    },
    {
     "name": "stderr",
     "output_type": "stream",
     "text": [
      "C:\\Users\\ohy\\AppData\\Local\\Temp\\ipykernel_17400\\3983351454.py:33: FutureWarning: pandas.io.json.json_normalize is deprecated, use pandas.json_normalize instead.\n",
      "  totalDf = totalDf.append(json_normalize(body), ignore_index=True)\n",
      "C:\\Users\\ohy\\AppData\\Local\\Temp\\ipykernel_17400\\3983351454.py:33: FutureWarning: The frame.append method is deprecated and will be removed from pandas in a future version. Use pandas.concat instead.\n",
      "  totalDf = totalDf.append(json_normalize(body), ignore_index=True)\n"
     ]
    },
    {
     "name": "stdout",
     "output_type": "stream",
     "text": [
      "721001\n"
     ]
    },
    {
     "name": "stderr",
     "output_type": "stream",
     "text": [
      "C:\\Users\\ohy\\AppData\\Local\\Temp\\ipykernel_17400\\3983351454.py:33: FutureWarning: pandas.io.json.json_normalize is deprecated, use pandas.json_normalize instead.\n",
      "  totalDf = totalDf.append(json_normalize(body), ignore_index=True)\n",
      "C:\\Users\\ohy\\AppData\\Local\\Temp\\ipykernel_17400\\3983351454.py:33: FutureWarning: The frame.append method is deprecated and will be removed from pandas in a future version. Use pandas.concat instead.\n",
      "  totalDf = totalDf.append(json_normalize(body), ignore_index=True)\n"
     ]
    },
    {
     "name": "stdout",
     "output_type": "stream",
     "text": [
      "722001\n"
     ]
    },
    {
     "name": "stderr",
     "output_type": "stream",
     "text": [
      "C:\\Users\\ohy\\AppData\\Local\\Temp\\ipykernel_17400\\3983351454.py:33: FutureWarning: pandas.io.json.json_normalize is deprecated, use pandas.json_normalize instead.\n",
      "  totalDf = totalDf.append(json_normalize(body), ignore_index=True)\n",
      "C:\\Users\\ohy\\AppData\\Local\\Temp\\ipykernel_17400\\3983351454.py:33: FutureWarning: The frame.append method is deprecated and will be removed from pandas in a future version. Use pandas.concat instead.\n",
      "  totalDf = totalDf.append(json_normalize(body), ignore_index=True)\n"
     ]
    },
    {
     "name": "stdout",
     "output_type": "stream",
     "text": [
      "723001\n"
     ]
    },
    {
     "name": "stderr",
     "output_type": "stream",
     "text": [
      "C:\\Users\\ohy\\AppData\\Local\\Temp\\ipykernel_17400\\3983351454.py:33: FutureWarning: pandas.io.json.json_normalize is deprecated, use pandas.json_normalize instead.\n",
      "  totalDf = totalDf.append(json_normalize(body), ignore_index=True)\n",
      "C:\\Users\\ohy\\AppData\\Local\\Temp\\ipykernel_17400\\3983351454.py:33: FutureWarning: The frame.append method is deprecated and will be removed from pandas in a future version. Use pandas.concat instead.\n",
      "  totalDf = totalDf.append(json_normalize(body), ignore_index=True)\n"
     ]
    },
    {
     "name": "stdout",
     "output_type": "stream",
     "text": [
      "724001\n"
     ]
    },
    {
     "name": "stderr",
     "output_type": "stream",
     "text": [
      "C:\\Users\\ohy\\AppData\\Local\\Temp\\ipykernel_17400\\3983351454.py:33: FutureWarning: pandas.io.json.json_normalize is deprecated, use pandas.json_normalize instead.\n",
      "  totalDf = totalDf.append(json_normalize(body), ignore_index=True)\n",
      "C:\\Users\\ohy\\AppData\\Local\\Temp\\ipykernel_17400\\3983351454.py:33: FutureWarning: The frame.append method is deprecated and will be removed from pandas in a future version. Use pandas.concat instead.\n",
      "  totalDf = totalDf.append(json_normalize(body), ignore_index=True)\n"
     ]
    },
    {
     "name": "stdout",
     "output_type": "stream",
     "text": [
      "725001\n"
     ]
    },
    {
     "name": "stderr",
     "output_type": "stream",
     "text": [
      "C:\\Users\\ohy\\AppData\\Local\\Temp\\ipykernel_17400\\3983351454.py:33: FutureWarning: pandas.io.json.json_normalize is deprecated, use pandas.json_normalize instead.\n",
      "  totalDf = totalDf.append(json_normalize(body), ignore_index=True)\n",
      "C:\\Users\\ohy\\AppData\\Local\\Temp\\ipykernel_17400\\3983351454.py:33: FutureWarning: The frame.append method is deprecated and will be removed from pandas in a future version. Use pandas.concat instead.\n",
      "  totalDf = totalDf.append(json_normalize(body), ignore_index=True)\n"
     ]
    },
    {
     "name": "stdout",
     "output_type": "stream",
     "text": [
      "726001\n"
     ]
    },
    {
     "name": "stderr",
     "output_type": "stream",
     "text": [
      "C:\\Users\\ohy\\AppData\\Local\\Temp\\ipykernel_17400\\3983351454.py:33: FutureWarning: pandas.io.json.json_normalize is deprecated, use pandas.json_normalize instead.\n",
      "  totalDf = totalDf.append(json_normalize(body), ignore_index=True)\n",
      "C:\\Users\\ohy\\AppData\\Local\\Temp\\ipykernel_17400\\3983351454.py:33: FutureWarning: The frame.append method is deprecated and will be removed from pandas in a future version. Use pandas.concat instead.\n",
      "  totalDf = totalDf.append(json_normalize(body), ignore_index=True)\n"
     ]
    },
    {
     "name": "stdout",
     "output_type": "stream",
     "text": [
      "727001\n"
     ]
    },
    {
     "name": "stderr",
     "output_type": "stream",
     "text": [
      "C:\\Users\\ohy\\AppData\\Local\\Temp\\ipykernel_17400\\3983351454.py:33: FutureWarning: pandas.io.json.json_normalize is deprecated, use pandas.json_normalize instead.\n",
      "  totalDf = totalDf.append(json_normalize(body), ignore_index=True)\n",
      "C:\\Users\\ohy\\AppData\\Local\\Temp\\ipykernel_17400\\3983351454.py:33: FutureWarning: The frame.append method is deprecated and will be removed from pandas in a future version. Use pandas.concat instead.\n",
      "  totalDf = totalDf.append(json_normalize(body), ignore_index=True)\n"
     ]
    },
    {
     "name": "stdout",
     "output_type": "stream",
     "text": [
      "728001\n"
     ]
    },
    {
     "name": "stderr",
     "output_type": "stream",
     "text": [
      "C:\\Users\\ohy\\AppData\\Local\\Temp\\ipykernel_17400\\3983351454.py:33: FutureWarning: pandas.io.json.json_normalize is deprecated, use pandas.json_normalize instead.\n",
      "  totalDf = totalDf.append(json_normalize(body), ignore_index=True)\n",
      "C:\\Users\\ohy\\AppData\\Local\\Temp\\ipykernel_17400\\3983351454.py:33: FutureWarning: The frame.append method is deprecated and will be removed from pandas in a future version. Use pandas.concat instead.\n",
      "  totalDf = totalDf.append(json_normalize(body), ignore_index=True)\n"
     ]
    },
    {
     "name": "stdout",
     "output_type": "stream",
     "text": [
      "729001\n"
     ]
    },
    {
     "name": "stderr",
     "output_type": "stream",
     "text": [
      "C:\\Users\\ohy\\AppData\\Local\\Temp\\ipykernel_17400\\3983351454.py:33: FutureWarning: pandas.io.json.json_normalize is deprecated, use pandas.json_normalize instead.\n",
      "  totalDf = totalDf.append(json_normalize(body), ignore_index=True)\n",
      "C:\\Users\\ohy\\AppData\\Local\\Temp\\ipykernel_17400\\3983351454.py:33: FutureWarning: The frame.append method is deprecated and will be removed from pandas in a future version. Use pandas.concat instead.\n",
      "  totalDf = totalDf.append(json_normalize(body), ignore_index=True)\n"
     ]
    },
    {
     "name": "stdout",
     "output_type": "stream",
     "text": [
      "730001\n"
     ]
    },
    {
     "name": "stderr",
     "output_type": "stream",
     "text": [
      "C:\\Users\\ohy\\AppData\\Local\\Temp\\ipykernel_17400\\3983351454.py:33: FutureWarning: pandas.io.json.json_normalize is deprecated, use pandas.json_normalize instead.\n",
      "  totalDf = totalDf.append(json_normalize(body), ignore_index=True)\n",
      "C:\\Users\\ohy\\AppData\\Local\\Temp\\ipykernel_17400\\3983351454.py:33: FutureWarning: The frame.append method is deprecated and will be removed from pandas in a future version. Use pandas.concat instead.\n",
      "  totalDf = totalDf.append(json_normalize(body), ignore_index=True)\n"
     ]
    },
    {
     "name": "stdout",
     "output_type": "stream",
     "text": [
      "731001\n"
     ]
    },
    {
     "name": "stderr",
     "output_type": "stream",
     "text": [
      "C:\\Users\\ohy\\AppData\\Local\\Temp\\ipykernel_17400\\3983351454.py:33: FutureWarning: pandas.io.json.json_normalize is deprecated, use pandas.json_normalize instead.\n",
      "  totalDf = totalDf.append(json_normalize(body), ignore_index=True)\n",
      "C:\\Users\\ohy\\AppData\\Local\\Temp\\ipykernel_17400\\3983351454.py:33: FutureWarning: The frame.append method is deprecated and will be removed from pandas in a future version. Use pandas.concat instead.\n",
      "  totalDf = totalDf.append(json_normalize(body), ignore_index=True)\n"
     ]
    },
    {
     "name": "stdout",
     "output_type": "stream",
     "text": [
      "732001\n"
     ]
    },
    {
     "name": "stderr",
     "output_type": "stream",
     "text": [
      "C:\\Users\\ohy\\AppData\\Local\\Temp\\ipykernel_17400\\3983351454.py:33: FutureWarning: pandas.io.json.json_normalize is deprecated, use pandas.json_normalize instead.\n",
      "  totalDf = totalDf.append(json_normalize(body), ignore_index=True)\n",
      "C:\\Users\\ohy\\AppData\\Local\\Temp\\ipykernel_17400\\3983351454.py:33: FutureWarning: The frame.append method is deprecated and will be removed from pandas in a future version. Use pandas.concat instead.\n",
      "  totalDf = totalDf.append(json_normalize(body), ignore_index=True)\n"
     ]
    },
    {
     "name": "stdout",
     "output_type": "stream",
     "text": [
      "733001\n"
     ]
    },
    {
     "name": "stderr",
     "output_type": "stream",
     "text": [
      "C:\\Users\\ohy\\AppData\\Local\\Temp\\ipykernel_17400\\3983351454.py:33: FutureWarning: pandas.io.json.json_normalize is deprecated, use pandas.json_normalize instead.\n",
      "  totalDf = totalDf.append(json_normalize(body), ignore_index=True)\n",
      "C:\\Users\\ohy\\AppData\\Local\\Temp\\ipykernel_17400\\3983351454.py:33: FutureWarning: The frame.append method is deprecated and will be removed from pandas in a future version. Use pandas.concat instead.\n",
      "  totalDf = totalDf.append(json_normalize(body), ignore_index=True)\n"
     ]
    },
    {
     "name": "stdout",
     "output_type": "stream",
     "text": [
      "734001\n"
     ]
    },
    {
     "name": "stderr",
     "output_type": "stream",
     "text": [
      "C:\\Users\\ohy\\AppData\\Local\\Temp\\ipykernel_17400\\3983351454.py:33: FutureWarning: pandas.io.json.json_normalize is deprecated, use pandas.json_normalize instead.\n",
      "  totalDf = totalDf.append(json_normalize(body), ignore_index=True)\n",
      "C:\\Users\\ohy\\AppData\\Local\\Temp\\ipykernel_17400\\3983351454.py:33: FutureWarning: The frame.append method is deprecated and will be removed from pandas in a future version. Use pandas.concat instead.\n",
      "  totalDf = totalDf.append(json_normalize(body), ignore_index=True)\n"
     ]
    },
    {
     "name": "stdout",
     "output_type": "stream",
     "text": [
      "735001\n"
     ]
    },
    {
     "name": "stderr",
     "output_type": "stream",
     "text": [
      "C:\\Users\\ohy\\AppData\\Local\\Temp\\ipykernel_17400\\3983351454.py:33: FutureWarning: pandas.io.json.json_normalize is deprecated, use pandas.json_normalize instead.\n",
      "  totalDf = totalDf.append(json_normalize(body), ignore_index=True)\n",
      "C:\\Users\\ohy\\AppData\\Local\\Temp\\ipykernel_17400\\3983351454.py:33: FutureWarning: The frame.append method is deprecated and will be removed from pandas in a future version. Use pandas.concat instead.\n",
      "  totalDf = totalDf.append(json_normalize(body), ignore_index=True)\n"
     ]
    },
    {
     "name": "stdout",
     "output_type": "stream",
     "text": [
      "736001\n"
     ]
    },
    {
     "name": "stderr",
     "output_type": "stream",
     "text": [
      "C:\\Users\\ohy\\AppData\\Local\\Temp\\ipykernel_17400\\3983351454.py:33: FutureWarning: pandas.io.json.json_normalize is deprecated, use pandas.json_normalize instead.\n",
      "  totalDf = totalDf.append(json_normalize(body), ignore_index=True)\n",
      "C:\\Users\\ohy\\AppData\\Local\\Temp\\ipykernel_17400\\3983351454.py:33: FutureWarning: The frame.append method is deprecated and will be removed from pandas in a future version. Use pandas.concat instead.\n",
      "  totalDf = totalDf.append(json_normalize(body), ignore_index=True)\n"
     ]
    },
    {
     "name": "stdout",
     "output_type": "stream",
     "text": [
      "737001\n"
     ]
    },
    {
     "name": "stderr",
     "output_type": "stream",
     "text": [
      "C:\\Users\\ohy\\AppData\\Local\\Temp\\ipykernel_17400\\3983351454.py:33: FutureWarning: pandas.io.json.json_normalize is deprecated, use pandas.json_normalize instead.\n",
      "  totalDf = totalDf.append(json_normalize(body), ignore_index=True)\n",
      "C:\\Users\\ohy\\AppData\\Local\\Temp\\ipykernel_17400\\3983351454.py:33: FutureWarning: The frame.append method is deprecated and will be removed from pandas in a future version. Use pandas.concat instead.\n",
      "  totalDf = totalDf.append(json_normalize(body), ignore_index=True)\n"
     ]
    },
    {
     "name": "stdout",
     "output_type": "stream",
     "text": [
      "738001\n"
     ]
    },
    {
     "name": "stderr",
     "output_type": "stream",
     "text": [
      "C:\\Users\\ohy\\AppData\\Local\\Temp\\ipykernel_17400\\3983351454.py:33: FutureWarning: pandas.io.json.json_normalize is deprecated, use pandas.json_normalize instead.\n",
      "  totalDf = totalDf.append(json_normalize(body), ignore_index=True)\n",
      "C:\\Users\\ohy\\AppData\\Local\\Temp\\ipykernel_17400\\3983351454.py:33: FutureWarning: The frame.append method is deprecated and will be removed from pandas in a future version. Use pandas.concat instead.\n",
      "  totalDf = totalDf.append(json_normalize(body), ignore_index=True)\n"
     ]
    },
    {
     "name": "stdout",
     "output_type": "stream",
     "text": [
      "739001\n"
     ]
    },
    {
     "name": "stderr",
     "output_type": "stream",
     "text": [
      "C:\\Users\\ohy\\AppData\\Local\\Temp\\ipykernel_17400\\3983351454.py:33: FutureWarning: pandas.io.json.json_normalize is deprecated, use pandas.json_normalize instead.\n",
      "  totalDf = totalDf.append(json_normalize(body), ignore_index=True)\n",
      "C:\\Users\\ohy\\AppData\\Local\\Temp\\ipykernel_17400\\3983351454.py:33: FutureWarning: The frame.append method is deprecated and will be removed from pandas in a future version. Use pandas.concat instead.\n",
      "  totalDf = totalDf.append(json_normalize(body), ignore_index=True)\n"
     ]
    },
    {
     "name": "stdout",
     "output_type": "stream",
     "text": [
      "740001\n"
     ]
    },
    {
     "name": "stderr",
     "output_type": "stream",
     "text": [
      "C:\\Users\\ohy\\AppData\\Local\\Temp\\ipykernel_17400\\3983351454.py:33: FutureWarning: pandas.io.json.json_normalize is deprecated, use pandas.json_normalize instead.\n",
      "  totalDf = totalDf.append(json_normalize(body), ignore_index=True)\n",
      "C:\\Users\\ohy\\AppData\\Local\\Temp\\ipykernel_17400\\3983351454.py:33: FutureWarning: The frame.append method is deprecated and will be removed from pandas in a future version. Use pandas.concat instead.\n",
      "  totalDf = totalDf.append(json_normalize(body), ignore_index=True)\n"
     ]
    },
    {
     "name": "stdout",
     "output_type": "stream",
     "text": [
      "741001\n"
     ]
    },
    {
     "name": "stderr",
     "output_type": "stream",
     "text": [
      "C:\\Users\\ohy\\AppData\\Local\\Temp\\ipykernel_17400\\3983351454.py:33: FutureWarning: pandas.io.json.json_normalize is deprecated, use pandas.json_normalize instead.\n",
      "  totalDf = totalDf.append(json_normalize(body), ignore_index=True)\n",
      "C:\\Users\\ohy\\AppData\\Local\\Temp\\ipykernel_17400\\3983351454.py:33: FutureWarning: The frame.append method is deprecated and will be removed from pandas in a future version. Use pandas.concat instead.\n",
      "  totalDf = totalDf.append(json_normalize(body), ignore_index=True)\n"
     ]
    },
    {
     "name": "stdout",
     "output_type": "stream",
     "text": [
      "742001\n"
     ]
    },
    {
     "name": "stderr",
     "output_type": "stream",
     "text": [
      "C:\\Users\\ohy\\AppData\\Local\\Temp\\ipykernel_17400\\3983351454.py:33: FutureWarning: pandas.io.json.json_normalize is deprecated, use pandas.json_normalize instead.\n",
      "  totalDf = totalDf.append(json_normalize(body), ignore_index=True)\n",
      "C:\\Users\\ohy\\AppData\\Local\\Temp\\ipykernel_17400\\3983351454.py:33: FutureWarning: The frame.append method is deprecated and will be removed from pandas in a future version. Use pandas.concat instead.\n",
      "  totalDf = totalDf.append(json_normalize(body), ignore_index=True)\n"
     ]
    },
    {
     "name": "stdout",
     "output_type": "stream",
     "text": [
      "743001\n"
     ]
    },
    {
     "name": "stderr",
     "output_type": "stream",
     "text": [
      "C:\\Users\\ohy\\AppData\\Local\\Temp\\ipykernel_17400\\3983351454.py:33: FutureWarning: pandas.io.json.json_normalize is deprecated, use pandas.json_normalize instead.\n",
      "  totalDf = totalDf.append(json_normalize(body), ignore_index=True)\n",
      "C:\\Users\\ohy\\AppData\\Local\\Temp\\ipykernel_17400\\3983351454.py:33: FutureWarning: The frame.append method is deprecated and will be removed from pandas in a future version. Use pandas.concat instead.\n",
      "  totalDf = totalDf.append(json_normalize(body), ignore_index=True)\n"
     ]
    },
    {
     "name": "stdout",
     "output_type": "stream",
     "text": [
      "744001\n"
     ]
    },
    {
     "name": "stderr",
     "output_type": "stream",
     "text": [
      "C:\\Users\\ohy\\AppData\\Local\\Temp\\ipykernel_17400\\3983351454.py:33: FutureWarning: pandas.io.json.json_normalize is deprecated, use pandas.json_normalize instead.\n",
      "  totalDf = totalDf.append(json_normalize(body), ignore_index=True)\n",
      "C:\\Users\\ohy\\AppData\\Local\\Temp\\ipykernel_17400\\3983351454.py:33: FutureWarning: The frame.append method is deprecated and will be removed from pandas in a future version. Use pandas.concat instead.\n",
      "  totalDf = totalDf.append(json_normalize(body), ignore_index=True)\n"
     ]
    },
    {
     "name": "stdout",
     "output_type": "stream",
     "text": [
      "745001\n"
     ]
    },
    {
     "name": "stderr",
     "output_type": "stream",
     "text": [
      "C:\\Users\\ohy\\AppData\\Local\\Temp\\ipykernel_17400\\3983351454.py:33: FutureWarning: pandas.io.json.json_normalize is deprecated, use pandas.json_normalize instead.\n",
      "  totalDf = totalDf.append(json_normalize(body), ignore_index=True)\n",
      "C:\\Users\\ohy\\AppData\\Local\\Temp\\ipykernel_17400\\3983351454.py:33: FutureWarning: The frame.append method is deprecated and will be removed from pandas in a future version. Use pandas.concat instead.\n",
      "  totalDf = totalDf.append(json_normalize(body), ignore_index=True)\n"
     ]
    },
    {
     "name": "stdout",
     "output_type": "stream",
     "text": [
      "746001\n"
     ]
    },
    {
     "name": "stderr",
     "output_type": "stream",
     "text": [
      "C:\\Users\\ohy\\AppData\\Local\\Temp\\ipykernel_17400\\3983351454.py:33: FutureWarning: pandas.io.json.json_normalize is deprecated, use pandas.json_normalize instead.\n",
      "  totalDf = totalDf.append(json_normalize(body), ignore_index=True)\n",
      "C:\\Users\\ohy\\AppData\\Local\\Temp\\ipykernel_17400\\3983351454.py:33: FutureWarning: The frame.append method is deprecated and will be removed from pandas in a future version. Use pandas.concat instead.\n",
      "  totalDf = totalDf.append(json_normalize(body), ignore_index=True)\n"
     ]
    },
    {
     "name": "stdout",
     "output_type": "stream",
     "text": [
      "747001\n"
     ]
    },
    {
     "name": "stderr",
     "output_type": "stream",
     "text": [
      "C:\\Users\\ohy\\AppData\\Local\\Temp\\ipykernel_17400\\3983351454.py:33: FutureWarning: pandas.io.json.json_normalize is deprecated, use pandas.json_normalize instead.\n",
      "  totalDf = totalDf.append(json_normalize(body), ignore_index=True)\n",
      "C:\\Users\\ohy\\AppData\\Local\\Temp\\ipykernel_17400\\3983351454.py:33: FutureWarning: The frame.append method is deprecated and will be removed from pandas in a future version. Use pandas.concat instead.\n",
      "  totalDf = totalDf.append(json_normalize(body), ignore_index=True)\n"
     ]
    },
    {
     "name": "stdout",
     "output_type": "stream",
     "text": [
      "748001\n"
     ]
    },
    {
     "name": "stderr",
     "output_type": "stream",
     "text": [
      "C:\\Users\\ohy\\AppData\\Local\\Temp\\ipykernel_17400\\3983351454.py:33: FutureWarning: pandas.io.json.json_normalize is deprecated, use pandas.json_normalize instead.\n",
      "  totalDf = totalDf.append(json_normalize(body), ignore_index=True)\n",
      "C:\\Users\\ohy\\AppData\\Local\\Temp\\ipykernel_17400\\3983351454.py:33: FutureWarning: The frame.append method is deprecated and will be removed from pandas in a future version. Use pandas.concat instead.\n",
      "  totalDf = totalDf.append(json_normalize(body), ignore_index=True)\n"
     ]
    },
    {
     "name": "stdout",
     "output_type": "stream",
     "text": [
      "749001\n"
     ]
    },
    {
     "name": "stderr",
     "output_type": "stream",
     "text": [
      "C:\\Users\\ohy\\AppData\\Local\\Temp\\ipykernel_17400\\3983351454.py:33: FutureWarning: pandas.io.json.json_normalize is deprecated, use pandas.json_normalize instead.\n",
      "  totalDf = totalDf.append(json_normalize(body), ignore_index=True)\n",
      "C:\\Users\\ohy\\AppData\\Local\\Temp\\ipykernel_17400\\3983351454.py:33: FutureWarning: The frame.append method is deprecated and will be removed from pandas in a future version. Use pandas.concat instead.\n",
      "  totalDf = totalDf.append(json_normalize(body), ignore_index=True)\n"
     ]
    },
    {
     "name": "stdout",
     "output_type": "stream",
     "text": [
      "750001\n"
     ]
    },
    {
     "name": "stderr",
     "output_type": "stream",
     "text": [
      "C:\\Users\\ohy\\AppData\\Local\\Temp\\ipykernel_17400\\3983351454.py:33: FutureWarning: pandas.io.json.json_normalize is deprecated, use pandas.json_normalize instead.\n",
      "  totalDf = totalDf.append(json_normalize(body), ignore_index=True)\n",
      "C:\\Users\\ohy\\AppData\\Local\\Temp\\ipykernel_17400\\3983351454.py:33: FutureWarning: The frame.append method is deprecated and will be removed from pandas in a future version. Use pandas.concat instead.\n",
      "  totalDf = totalDf.append(json_normalize(body), ignore_index=True)\n"
     ]
    },
    {
     "name": "stdout",
     "output_type": "stream",
     "text": [
      "751001\n"
     ]
    },
    {
     "name": "stderr",
     "output_type": "stream",
     "text": [
      "C:\\Users\\ohy\\AppData\\Local\\Temp\\ipykernel_17400\\3983351454.py:33: FutureWarning: pandas.io.json.json_normalize is deprecated, use pandas.json_normalize instead.\n",
      "  totalDf = totalDf.append(json_normalize(body), ignore_index=True)\n",
      "C:\\Users\\ohy\\AppData\\Local\\Temp\\ipykernel_17400\\3983351454.py:33: FutureWarning: The frame.append method is deprecated and will be removed from pandas in a future version. Use pandas.concat instead.\n",
      "  totalDf = totalDf.append(json_normalize(body), ignore_index=True)\n"
     ]
    },
    {
     "name": "stdout",
     "output_type": "stream",
     "text": [
      "752001\n"
     ]
    },
    {
     "name": "stderr",
     "output_type": "stream",
     "text": [
      "C:\\Users\\ohy\\AppData\\Local\\Temp\\ipykernel_17400\\3983351454.py:33: FutureWarning: pandas.io.json.json_normalize is deprecated, use pandas.json_normalize instead.\n",
      "  totalDf = totalDf.append(json_normalize(body), ignore_index=True)\n",
      "C:\\Users\\ohy\\AppData\\Local\\Temp\\ipykernel_17400\\3983351454.py:33: FutureWarning: The frame.append method is deprecated and will be removed from pandas in a future version. Use pandas.concat instead.\n",
      "  totalDf = totalDf.append(json_normalize(body), ignore_index=True)\n"
     ]
    },
    {
     "name": "stdout",
     "output_type": "stream",
     "text": [
      "753001\n"
     ]
    },
    {
     "name": "stderr",
     "output_type": "stream",
     "text": [
      "C:\\Users\\ohy\\AppData\\Local\\Temp\\ipykernel_17400\\3983351454.py:33: FutureWarning: pandas.io.json.json_normalize is deprecated, use pandas.json_normalize instead.\n",
      "  totalDf = totalDf.append(json_normalize(body), ignore_index=True)\n",
      "C:\\Users\\ohy\\AppData\\Local\\Temp\\ipykernel_17400\\3983351454.py:33: FutureWarning: The frame.append method is deprecated and will be removed from pandas in a future version. Use pandas.concat instead.\n",
      "  totalDf = totalDf.append(json_normalize(body), ignore_index=True)\n"
     ]
    },
    {
     "name": "stdout",
     "output_type": "stream",
     "text": [
      "754001\n"
     ]
    },
    {
     "name": "stderr",
     "output_type": "stream",
     "text": [
      "C:\\Users\\ohy\\AppData\\Local\\Temp\\ipykernel_17400\\3983351454.py:33: FutureWarning: pandas.io.json.json_normalize is deprecated, use pandas.json_normalize instead.\n",
      "  totalDf = totalDf.append(json_normalize(body), ignore_index=True)\n",
      "C:\\Users\\ohy\\AppData\\Local\\Temp\\ipykernel_17400\\3983351454.py:33: FutureWarning: The frame.append method is deprecated and will be removed from pandas in a future version. Use pandas.concat instead.\n",
      "  totalDf = totalDf.append(json_normalize(body), ignore_index=True)\n"
     ]
    },
    {
     "name": "stdout",
     "output_type": "stream",
     "text": [
      "755001\n"
     ]
    },
    {
     "name": "stderr",
     "output_type": "stream",
     "text": [
      "C:\\Users\\ohy\\AppData\\Local\\Temp\\ipykernel_17400\\3983351454.py:33: FutureWarning: pandas.io.json.json_normalize is deprecated, use pandas.json_normalize instead.\n",
      "  totalDf = totalDf.append(json_normalize(body), ignore_index=True)\n",
      "C:\\Users\\ohy\\AppData\\Local\\Temp\\ipykernel_17400\\3983351454.py:33: FutureWarning: The frame.append method is deprecated and will be removed from pandas in a future version. Use pandas.concat instead.\n",
      "  totalDf = totalDf.append(json_normalize(body), ignore_index=True)\n"
     ]
    },
    {
     "name": "stdout",
     "output_type": "stream",
     "text": [
      "756001\n"
     ]
    },
    {
     "name": "stderr",
     "output_type": "stream",
     "text": [
      "C:\\Users\\ohy\\AppData\\Local\\Temp\\ipykernel_17400\\3983351454.py:33: FutureWarning: pandas.io.json.json_normalize is deprecated, use pandas.json_normalize instead.\n",
      "  totalDf = totalDf.append(json_normalize(body), ignore_index=True)\n",
      "C:\\Users\\ohy\\AppData\\Local\\Temp\\ipykernel_17400\\3983351454.py:33: FutureWarning: The frame.append method is deprecated and will be removed from pandas in a future version. Use pandas.concat instead.\n",
      "  totalDf = totalDf.append(json_normalize(body), ignore_index=True)\n"
     ]
    },
    {
     "name": "stdout",
     "output_type": "stream",
     "text": [
      "757001\n"
     ]
    },
    {
     "name": "stderr",
     "output_type": "stream",
     "text": [
      "C:\\Users\\ohy\\AppData\\Local\\Temp\\ipykernel_17400\\3983351454.py:33: FutureWarning: pandas.io.json.json_normalize is deprecated, use pandas.json_normalize instead.\n",
      "  totalDf = totalDf.append(json_normalize(body), ignore_index=True)\n",
      "C:\\Users\\ohy\\AppData\\Local\\Temp\\ipykernel_17400\\3983351454.py:33: FutureWarning: The frame.append method is deprecated and will be removed from pandas in a future version. Use pandas.concat instead.\n",
      "  totalDf = totalDf.append(json_normalize(body), ignore_index=True)\n"
     ]
    },
    {
     "name": "stdout",
     "output_type": "stream",
     "text": [
      "758001\n"
     ]
    },
    {
     "name": "stderr",
     "output_type": "stream",
     "text": [
      "C:\\Users\\ohy\\AppData\\Local\\Temp\\ipykernel_17400\\3983351454.py:33: FutureWarning: pandas.io.json.json_normalize is deprecated, use pandas.json_normalize instead.\n",
      "  totalDf = totalDf.append(json_normalize(body), ignore_index=True)\n",
      "C:\\Users\\ohy\\AppData\\Local\\Temp\\ipykernel_17400\\3983351454.py:33: FutureWarning: The frame.append method is deprecated and will be removed from pandas in a future version. Use pandas.concat instead.\n",
      "  totalDf = totalDf.append(json_normalize(body), ignore_index=True)\n"
     ]
    },
    {
     "name": "stdout",
     "output_type": "stream",
     "text": [
      "759001\n"
     ]
    },
    {
     "name": "stderr",
     "output_type": "stream",
     "text": [
      "C:\\Users\\ohy\\AppData\\Local\\Temp\\ipykernel_17400\\3983351454.py:33: FutureWarning: pandas.io.json.json_normalize is deprecated, use pandas.json_normalize instead.\n",
      "  totalDf = totalDf.append(json_normalize(body), ignore_index=True)\n",
      "C:\\Users\\ohy\\AppData\\Local\\Temp\\ipykernel_17400\\3983351454.py:33: FutureWarning: The frame.append method is deprecated and will be removed from pandas in a future version. Use pandas.concat instead.\n",
      "  totalDf = totalDf.append(json_normalize(body), ignore_index=True)\n"
     ]
    },
    {
     "name": "stdout",
     "output_type": "stream",
     "text": [
      "760001\n"
     ]
    },
    {
     "name": "stderr",
     "output_type": "stream",
     "text": [
      "C:\\Users\\ohy\\AppData\\Local\\Temp\\ipykernel_17400\\3983351454.py:33: FutureWarning: pandas.io.json.json_normalize is deprecated, use pandas.json_normalize instead.\n",
      "  totalDf = totalDf.append(json_normalize(body), ignore_index=True)\n",
      "C:\\Users\\ohy\\AppData\\Local\\Temp\\ipykernel_17400\\3983351454.py:33: FutureWarning: The frame.append method is deprecated and will be removed from pandas in a future version. Use pandas.concat instead.\n",
      "  totalDf = totalDf.append(json_normalize(body), ignore_index=True)\n"
     ]
    },
    {
     "name": "stdout",
     "output_type": "stream",
     "text": [
      "761001\n"
     ]
    },
    {
     "name": "stderr",
     "output_type": "stream",
     "text": [
      "C:\\Users\\ohy\\AppData\\Local\\Temp\\ipykernel_17400\\3983351454.py:33: FutureWarning: pandas.io.json.json_normalize is deprecated, use pandas.json_normalize instead.\n",
      "  totalDf = totalDf.append(json_normalize(body), ignore_index=True)\n",
      "C:\\Users\\ohy\\AppData\\Local\\Temp\\ipykernel_17400\\3983351454.py:33: FutureWarning: The frame.append method is deprecated and will be removed from pandas in a future version. Use pandas.concat instead.\n",
      "  totalDf = totalDf.append(json_normalize(body), ignore_index=True)\n"
     ]
    },
    {
     "name": "stdout",
     "output_type": "stream",
     "text": [
      "762001\n"
     ]
    },
    {
     "name": "stderr",
     "output_type": "stream",
     "text": [
      "C:\\Users\\ohy\\AppData\\Local\\Temp\\ipykernel_17400\\3983351454.py:33: FutureWarning: pandas.io.json.json_normalize is deprecated, use pandas.json_normalize instead.\n",
      "  totalDf = totalDf.append(json_normalize(body), ignore_index=True)\n",
      "C:\\Users\\ohy\\AppData\\Local\\Temp\\ipykernel_17400\\3983351454.py:33: FutureWarning: The frame.append method is deprecated and will be removed from pandas in a future version. Use pandas.concat instead.\n",
      "  totalDf = totalDf.append(json_normalize(body), ignore_index=True)\n"
     ]
    },
    {
     "name": "stdout",
     "output_type": "stream",
     "text": [
      "763001\n"
     ]
    },
    {
     "name": "stderr",
     "output_type": "stream",
     "text": [
      "C:\\Users\\ohy\\AppData\\Local\\Temp\\ipykernel_17400\\3983351454.py:33: FutureWarning: pandas.io.json.json_normalize is deprecated, use pandas.json_normalize instead.\n",
      "  totalDf = totalDf.append(json_normalize(body), ignore_index=True)\n",
      "C:\\Users\\ohy\\AppData\\Local\\Temp\\ipykernel_17400\\3983351454.py:33: FutureWarning: The frame.append method is deprecated and will be removed from pandas in a future version. Use pandas.concat instead.\n",
      "  totalDf = totalDf.append(json_normalize(body), ignore_index=True)\n"
     ]
    },
    {
     "name": "stdout",
     "output_type": "stream",
     "text": [
      "764001\n"
     ]
    },
    {
     "name": "stderr",
     "output_type": "stream",
     "text": [
      "C:\\Users\\ohy\\AppData\\Local\\Temp\\ipykernel_17400\\3983351454.py:33: FutureWarning: pandas.io.json.json_normalize is deprecated, use pandas.json_normalize instead.\n",
      "  totalDf = totalDf.append(json_normalize(body), ignore_index=True)\n",
      "C:\\Users\\ohy\\AppData\\Local\\Temp\\ipykernel_17400\\3983351454.py:33: FutureWarning: The frame.append method is deprecated and will be removed from pandas in a future version. Use pandas.concat instead.\n",
      "  totalDf = totalDf.append(json_normalize(body), ignore_index=True)\n"
     ]
    },
    {
     "name": "stdout",
     "output_type": "stream",
     "text": [
      "765001\n"
     ]
    },
    {
     "name": "stderr",
     "output_type": "stream",
     "text": [
      "C:\\Users\\ohy\\AppData\\Local\\Temp\\ipykernel_17400\\3983351454.py:33: FutureWarning: pandas.io.json.json_normalize is deprecated, use pandas.json_normalize instead.\n",
      "  totalDf = totalDf.append(json_normalize(body), ignore_index=True)\n",
      "C:\\Users\\ohy\\AppData\\Local\\Temp\\ipykernel_17400\\3983351454.py:33: FutureWarning: The frame.append method is deprecated and will be removed from pandas in a future version. Use pandas.concat instead.\n",
      "  totalDf = totalDf.append(json_normalize(body), ignore_index=True)\n"
     ]
    },
    {
     "name": "stdout",
     "output_type": "stream",
     "text": [
      "766001\n"
     ]
    },
    {
     "name": "stderr",
     "output_type": "stream",
     "text": [
      "C:\\Users\\ohy\\AppData\\Local\\Temp\\ipykernel_17400\\3983351454.py:33: FutureWarning: pandas.io.json.json_normalize is deprecated, use pandas.json_normalize instead.\n",
      "  totalDf = totalDf.append(json_normalize(body), ignore_index=True)\n",
      "C:\\Users\\ohy\\AppData\\Local\\Temp\\ipykernel_17400\\3983351454.py:33: FutureWarning: The frame.append method is deprecated and will be removed from pandas in a future version. Use pandas.concat instead.\n",
      "  totalDf = totalDf.append(json_normalize(body), ignore_index=True)\n"
     ]
    },
    {
     "name": "stdout",
     "output_type": "stream",
     "text": [
      "767001\n"
     ]
    },
    {
     "name": "stderr",
     "output_type": "stream",
     "text": [
      "C:\\Users\\ohy\\AppData\\Local\\Temp\\ipykernel_17400\\3983351454.py:33: FutureWarning: pandas.io.json.json_normalize is deprecated, use pandas.json_normalize instead.\n",
      "  totalDf = totalDf.append(json_normalize(body), ignore_index=True)\n",
      "C:\\Users\\ohy\\AppData\\Local\\Temp\\ipykernel_17400\\3983351454.py:33: FutureWarning: The frame.append method is deprecated and will be removed from pandas in a future version. Use pandas.concat instead.\n",
      "  totalDf = totalDf.append(json_normalize(body), ignore_index=True)\n"
     ]
    },
    {
     "name": "stdout",
     "output_type": "stream",
     "text": [
      "768001\n"
     ]
    },
    {
     "name": "stderr",
     "output_type": "stream",
     "text": [
      "C:\\Users\\ohy\\AppData\\Local\\Temp\\ipykernel_17400\\3983351454.py:33: FutureWarning: pandas.io.json.json_normalize is deprecated, use pandas.json_normalize instead.\n",
      "  totalDf = totalDf.append(json_normalize(body), ignore_index=True)\n",
      "C:\\Users\\ohy\\AppData\\Local\\Temp\\ipykernel_17400\\3983351454.py:33: FutureWarning: The frame.append method is deprecated and will be removed from pandas in a future version. Use pandas.concat instead.\n",
      "  totalDf = totalDf.append(json_normalize(body), ignore_index=True)\n"
     ]
    },
    {
     "name": "stdout",
     "output_type": "stream",
     "text": [
      "769001\n"
     ]
    },
    {
     "name": "stderr",
     "output_type": "stream",
     "text": [
      "C:\\Users\\ohy\\AppData\\Local\\Temp\\ipykernel_17400\\3983351454.py:33: FutureWarning: pandas.io.json.json_normalize is deprecated, use pandas.json_normalize instead.\n",
      "  totalDf = totalDf.append(json_normalize(body), ignore_index=True)\n",
      "C:\\Users\\ohy\\AppData\\Local\\Temp\\ipykernel_17400\\3983351454.py:33: FutureWarning: The frame.append method is deprecated and will be removed from pandas in a future version. Use pandas.concat instead.\n",
      "  totalDf = totalDf.append(json_normalize(body), ignore_index=True)\n"
     ]
    },
    {
     "name": "stdout",
     "output_type": "stream",
     "text": [
      "770001\n"
     ]
    },
    {
     "name": "stderr",
     "output_type": "stream",
     "text": [
      "C:\\Users\\ohy\\AppData\\Local\\Temp\\ipykernel_17400\\3983351454.py:33: FutureWarning: pandas.io.json.json_normalize is deprecated, use pandas.json_normalize instead.\n",
      "  totalDf = totalDf.append(json_normalize(body), ignore_index=True)\n",
      "C:\\Users\\ohy\\AppData\\Local\\Temp\\ipykernel_17400\\3983351454.py:33: FutureWarning: The frame.append method is deprecated and will be removed from pandas in a future version. Use pandas.concat instead.\n",
      "  totalDf = totalDf.append(json_normalize(body), ignore_index=True)\n"
     ]
    },
    {
     "name": "stdout",
     "output_type": "stream",
     "text": [
      "771001\n"
     ]
    },
    {
     "name": "stderr",
     "output_type": "stream",
     "text": [
      "C:\\Users\\ohy\\AppData\\Local\\Temp\\ipykernel_17400\\3983351454.py:33: FutureWarning: pandas.io.json.json_normalize is deprecated, use pandas.json_normalize instead.\n",
      "  totalDf = totalDf.append(json_normalize(body), ignore_index=True)\n",
      "C:\\Users\\ohy\\AppData\\Local\\Temp\\ipykernel_17400\\3983351454.py:33: FutureWarning: The frame.append method is deprecated and will be removed from pandas in a future version. Use pandas.concat instead.\n",
      "  totalDf = totalDf.append(json_normalize(body), ignore_index=True)\n"
     ]
    },
    {
     "name": "stdout",
     "output_type": "stream",
     "text": [
      "772001\n"
     ]
    },
    {
     "name": "stderr",
     "output_type": "stream",
     "text": [
      "C:\\Users\\ohy\\AppData\\Local\\Temp\\ipykernel_17400\\3983351454.py:33: FutureWarning: pandas.io.json.json_normalize is deprecated, use pandas.json_normalize instead.\n",
      "  totalDf = totalDf.append(json_normalize(body), ignore_index=True)\n",
      "C:\\Users\\ohy\\AppData\\Local\\Temp\\ipykernel_17400\\3983351454.py:33: FutureWarning: The frame.append method is deprecated and will be removed from pandas in a future version. Use pandas.concat instead.\n",
      "  totalDf = totalDf.append(json_normalize(body), ignore_index=True)\n"
     ]
    },
    {
     "name": "stdout",
     "output_type": "stream",
     "text": [
      "773001\n"
     ]
    },
    {
     "name": "stderr",
     "output_type": "stream",
     "text": [
      "C:\\Users\\ohy\\AppData\\Local\\Temp\\ipykernel_17400\\3983351454.py:33: FutureWarning: pandas.io.json.json_normalize is deprecated, use pandas.json_normalize instead.\n",
      "  totalDf = totalDf.append(json_normalize(body), ignore_index=True)\n",
      "C:\\Users\\ohy\\AppData\\Local\\Temp\\ipykernel_17400\\3983351454.py:33: FutureWarning: The frame.append method is deprecated and will be removed from pandas in a future version. Use pandas.concat instead.\n",
      "  totalDf = totalDf.append(json_normalize(body), ignore_index=True)\n"
     ]
    },
    {
     "name": "stdout",
     "output_type": "stream",
     "text": [
      "774001\n"
     ]
    },
    {
     "name": "stderr",
     "output_type": "stream",
     "text": [
      "C:\\Users\\ohy\\AppData\\Local\\Temp\\ipykernel_17400\\3983351454.py:33: FutureWarning: pandas.io.json.json_normalize is deprecated, use pandas.json_normalize instead.\n",
      "  totalDf = totalDf.append(json_normalize(body), ignore_index=True)\n",
      "C:\\Users\\ohy\\AppData\\Local\\Temp\\ipykernel_17400\\3983351454.py:33: FutureWarning: The frame.append method is deprecated and will be removed from pandas in a future version. Use pandas.concat instead.\n",
      "  totalDf = totalDf.append(json_normalize(body), ignore_index=True)\n"
     ]
    },
    {
     "name": "stdout",
     "output_type": "stream",
     "text": [
      "775001\n"
     ]
    },
    {
     "name": "stderr",
     "output_type": "stream",
     "text": [
      "C:\\Users\\ohy\\AppData\\Local\\Temp\\ipykernel_17400\\3983351454.py:33: FutureWarning: pandas.io.json.json_normalize is deprecated, use pandas.json_normalize instead.\n",
      "  totalDf = totalDf.append(json_normalize(body), ignore_index=True)\n",
      "C:\\Users\\ohy\\AppData\\Local\\Temp\\ipykernel_17400\\3983351454.py:33: FutureWarning: The frame.append method is deprecated and will be removed from pandas in a future version. Use pandas.concat instead.\n",
      "  totalDf = totalDf.append(json_normalize(body), ignore_index=True)\n"
     ]
    },
    {
     "name": "stdout",
     "output_type": "stream",
     "text": [
      "776001\n"
     ]
    },
    {
     "name": "stderr",
     "output_type": "stream",
     "text": [
      "C:\\Users\\ohy\\AppData\\Local\\Temp\\ipykernel_17400\\3983351454.py:33: FutureWarning: pandas.io.json.json_normalize is deprecated, use pandas.json_normalize instead.\n",
      "  totalDf = totalDf.append(json_normalize(body), ignore_index=True)\n",
      "C:\\Users\\ohy\\AppData\\Local\\Temp\\ipykernel_17400\\3983351454.py:33: FutureWarning: The frame.append method is deprecated and will be removed from pandas in a future version. Use pandas.concat instead.\n",
      "  totalDf = totalDf.append(json_normalize(body), ignore_index=True)\n"
     ]
    },
    {
     "name": "stdout",
     "output_type": "stream",
     "text": [
      "777001\n"
     ]
    },
    {
     "name": "stderr",
     "output_type": "stream",
     "text": [
      "C:\\Users\\ohy\\AppData\\Local\\Temp\\ipykernel_17400\\3983351454.py:33: FutureWarning: pandas.io.json.json_normalize is deprecated, use pandas.json_normalize instead.\n",
      "  totalDf = totalDf.append(json_normalize(body), ignore_index=True)\n",
      "C:\\Users\\ohy\\AppData\\Local\\Temp\\ipykernel_17400\\3983351454.py:33: FutureWarning: The frame.append method is deprecated and will be removed from pandas in a future version. Use pandas.concat instead.\n",
      "  totalDf = totalDf.append(json_normalize(body), ignore_index=True)\n"
     ]
    },
    {
     "name": "stdout",
     "output_type": "stream",
     "text": [
      "778001\n"
     ]
    },
    {
     "name": "stderr",
     "output_type": "stream",
     "text": [
      "C:\\Users\\ohy\\AppData\\Local\\Temp\\ipykernel_17400\\3983351454.py:33: FutureWarning: pandas.io.json.json_normalize is deprecated, use pandas.json_normalize instead.\n",
      "  totalDf = totalDf.append(json_normalize(body), ignore_index=True)\n",
      "C:\\Users\\ohy\\AppData\\Local\\Temp\\ipykernel_17400\\3983351454.py:33: FutureWarning: The frame.append method is deprecated and will be removed from pandas in a future version. Use pandas.concat instead.\n",
      "  totalDf = totalDf.append(json_normalize(body), ignore_index=True)\n"
     ]
    },
    {
     "name": "stdout",
     "output_type": "stream",
     "text": [
      "779001\n"
     ]
    },
    {
     "name": "stderr",
     "output_type": "stream",
     "text": [
      "C:\\Users\\ohy\\AppData\\Local\\Temp\\ipykernel_17400\\3983351454.py:33: FutureWarning: pandas.io.json.json_normalize is deprecated, use pandas.json_normalize instead.\n",
      "  totalDf = totalDf.append(json_normalize(body), ignore_index=True)\n",
      "C:\\Users\\ohy\\AppData\\Local\\Temp\\ipykernel_17400\\3983351454.py:33: FutureWarning: The frame.append method is deprecated and will be removed from pandas in a future version. Use pandas.concat instead.\n",
      "  totalDf = totalDf.append(json_normalize(body), ignore_index=True)\n"
     ]
    },
    {
     "name": "stdout",
     "output_type": "stream",
     "text": [
      "780001\n"
     ]
    },
    {
     "name": "stderr",
     "output_type": "stream",
     "text": [
      "C:\\Users\\ohy\\AppData\\Local\\Temp\\ipykernel_17400\\3983351454.py:33: FutureWarning: pandas.io.json.json_normalize is deprecated, use pandas.json_normalize instead.\n",
      "  totalDf = totalDf.append(json_normalize(body), ignore_index=True)\n",
      "C:\\Users\\ohy\\AppData\\Local\\Temp\\ipykernel_17400\\3983351454.py:33: FutureWarning: The frame.append method is deprecated and will be removed from pandas in a future version. Use pandas.concat instead.\n",
      "  totalDf = totalDf.append(json_normalize(body), ignore_index=True)\n"
     ]
    },
    {
     "name": "stdout",
     "output_type": "stream",
     "text": [
      "781001\n"
     ]
    },
    {
     "name": "stderr",
     "output_type": "stream",
     "text": [
      "C:\\Users\\ohy\\AppData\\Local\\Temp\\ipykernel_17400\\3983351454.py:33: FutureWarning: pandas.io.json.json_normalize is deprecated, use pandas.json_normalize instead.\n",
      "  totalDf = totalDf.append(json_normalize(body), ignore_index=True)\n",
      "C:\\Users\\ohy\\AppData\\Local\\Temp\\ipykernel_17400\\3983351454.py:33: FutureWarning: The frame.append method is deprecated and will be removed from pandas in a future version. Use pandas.concat instead.\n",
      "  totalDf = totalDf.append(json_normalize(body), ignore_index=True)\n"
     ]
    },
    {
     "name": "stdout",
     "output_type": "stream",
     "text": [
      "782001\n"
     ]
    },
    {
     "name": "stderr",
     "output_type": "stream",
     "text": [
      "C:\\Users\\ohy\\AppData\\Local\\Temp\\ipykernel_17400\\3983351454.py:33: FutureWarning: pandas.io.json.json_normalize is deprecated, use pandas.json_normalize instead.\n",
      "  totalDf = totalDf.append(json_normalize(body), ignore_index=True)\n",
      "C:\\Users\\ohy\\AppData\\Local\\Temp\\ipykernel_17400\\3983351454.py:33: FutureWarning: The frame.append method is deprecated and will be removed from pandas in a future version. Use pandas.concat instead.\n",
      "  totalDf = totalDf.append(json_normalize(body), ignore_index=True)\n"
     ]
    },
    {
     "name": "stdout",
     "output_type": "stream",
     "text": [
      "783001\n"
     ]
    },
    {
     "name": "stderr",
     "output_type": "stream",
     "text": [
      "C:\\Users\\ohy\\AppData\\Local\\Temp\\ipykernel_17400\\3983351454.py:33: FutureWarning: pandas.io.json.json_normalize is deprecated, use pandas.json_normalize instead.\n",
      "  totalDf = totalDf.append(json_normalize(body), ignore_index=True)\n",
      "C:\\Users\\ohy\\AppData\\Local\\Temp\\ipykernel_17400\\3983351454.py:33: FutureWarning: The frame.append method is deprecated and will be removed from pandas in a future version. Use pandas.concat instead.\n",
      "  totalDf = totalDf.append(json_normalize(body), ignore_index=True)\n"
     ]
    },
    {
     "name": "stdout",
     "output_type": "stream",
     "text": [
      "784001\n"
     ]
    },
    {
     "name": "stderr",
     "output_type": "stream",
     "text": [
      "C:\\Users\\ohy\\AppData\\Local\\Temp\\ipykernel_17400\\3983351454.py:33: FutureWarning: pandas.io.json.json_normalize is deprecated, use pandas.json_normalize instead.\n",
      "  totalDf = totalDf.append(json_normalize(body), ignore_index=True)\n",
      "C:\\Users\\ohy\\AppData\\Local\\Temp\\ipykernel_17400\\3983351454.py:33: FutureWarning: The frame.append method is deprecated and will be removed from pandas in a future version. Use pandas.concat instead.\n",
      "  totalDf = totalDf.append(json_normalize(body), ignore_index=True)\n"
     ]
    },
    {
     "name": "stdout",
     "output_type": "stream",
     "text": [
      "785001\n"
     ]
    },
    {
     "name": "stderr",
     "output_type": "stream",
     "text": [
      "C:\\Users\\ohy\\AppData\\Local\\Temp\\ipykernel_17400\\3983351454.py:33: FutureWarning: pandas.io.json.json_normalize is deprecated, use pandas.json_normalize instead.\n",
      "  totalDf = totalDf.append(json_normalize(body), ignore_index=True)\n",
      "C:\\Users\\ohy\\AppData\\Local\\Temp\\ipykernel_17400\\3983351454.py:33: FutureWarning: The frame.append method is deprecated and will be removed from pandas in a future version. Use pandas.concat instead.\n",
      "  totalDf = totalDf.append(json_normalize(body), ignore_index=True)\n"
     ]
    },
    {
     "name": "stdout",
     "output_type": "stream",
     "text": [
      "786001\n"
     ]
    },
    {
     "name": "stderr",
     "output_type": "stream",
     "text": [
      "C:\\Users\\ohy\\AppData\\Local\\Temp\\ipykernel_17400\\3983351454.py:33: FutureWarning: pandas.io.json.json_normalize is deprecated, use pandas.json_normalize instead.\n",
      "  totalDf = totalDf.append(json_normalize(body), ignore_index=True)\n",
      "C:\\Users\\ohy\\AppData\\Local\\Temp\\ipykernel_17400\\3983351454.py:33: FutureWarning: The frame.append method is deprecated and will be removed from pandas in a future version. Use pandas.concat instead.\n",
      "  totalDf = totalDf.append(json_normalize(body), ignore_index=True)\n"
     ]
    },
    {
     "name": "stdout",
     "output_type": "stream",
     "text": [
      "787001\n"
     ]
    },
    {
     "name": "stderr",
     "output_type": "stream",
     "text": [
      "C:\\Users\\ohy\\AppData\\Local\\Temp\\ipykernel_17400\\3983351454.py:33: FutureWarning: pandas.io.json.json_normalize is deprecated, use pandas.json_normalize instead.\n",
      "  totalDf = totalDf.append(json_normalize(body), ignore_index=True)\n",
      "C:\\Users\\ohy\\AppData\\Local\\Temp\\ipykernel_17400\\3983351454.py:33: FutureWarning: The frame.append method is deprecated and will be removed from pandas in a future version. Use pandas.concat instead.\n",
      "  totalDf = totalDf.append(json_normalize(body), ignore_index=True)\n"
     ]
    },
    {
     "name": "stdout",
     "output_type": "stream",
     "text": [
      "788001\n"
     ]
    },
    {
     "name": "stderr",
     "output_type": "stream",
     "text": [
      "C:\\Users\\ohy\\AppData\\Local\\Temp\\ipykernel_17400\\3983351454.py:33: FutureWarning: pandas.io.json.json_normalize is deprecated, use pandas.json_normalize instead.\n",
      "  totalDf = totalDf.append(json_normalize(body), ignore_index=True)\n",
      "C:\\Users\\ohy\\AppData\\Local\\Temp\\ipykernel_17400\\3983351454.py:33: FutureWarning: The frame.append method is deprecated and will be removed from pandas in a future version. Use pandas.concat instead.\n",
      "  totalDf = totalDf.append(json_normalize(body), ignore_index=True)\n"
     ]
    },
    {
     "name": "stdout",
     "output_type": "stream",
     "text": [
      "789001\n"
     ]
    },
    {
     "name": "stderr",
     "output_type": "stream",
     "text": [
      "C:\\Users\\ohy\\AppData\\Local\\Temp\\ipykernel_17400\\3983351454.py:33: FutureWarning: pandas.io.json.json_normalize is deprecated, use pandas.json_normalize instead.\n",
      "  totalDf = totalDf.append(json_normalize(body), ignore_index=True)\n",
      "C:\\Users\\ohy\\AppData\\Local\\Temp\\ipykernel_17400\\3983351454.py:33: FutureWarning: The frame.append method is deprecated and will be removed from pandas in a future version. Use pandas.concat instead.\n",
      "  totalDf = totalDf.append(json_normalize(body), ignore_index=True)\n"
     ]
    },
    {
     "name": "stdout",
     "output_type": "stream",
     "text": [
      "790001\n"
     ]
    },
    {
     "name": "stderr",
     "output_type": "stream",
     "text": [
      "C:\\Users\\ohy\\AppData\\Local\\Temp\\ipykernel_17400\\3983351454.py:33: FutureWarning: pandas.io.json.json_normalize is deprecated, use pandas.json_normalize instead.\n",
      "  totalDf = totalDf.append(json_normalize(body), ignore_index=True)\n",
      "C:\\Users\\ohy\\AppData\\Local\\Temp\\ipykernel_17400\\3983351454.py:33: FutureWarning: The frame.append method is deprecated and will be removed from pandas in a future version. Use pandas.concat instead.\n",
      "  totalDf = totalDf.append(json_normalize(body), ignore_index=True)\n"
     ]
    },
    {
     "name": "stdout",
     "output_type": "stream",
     "text": [
      "791001\n"
     ]
    },
    {
     "name": "stderr",
     "output_type": "stream",
     "text": [
      "C:\\Users\\ohy\\AppData\\Local\\Temp\\ipykernel_17400\\3983351454.py:33: FutureWarning: pandas.io.json.json_normalize is deprecated, use pandas.json_normalize instead.\n",
      "  totalDf = totalDf.append(json_normalize(body), ignore_index=True)\n",
      "C:\\Users\\ohy\\AppData\\Local\\Temp\\ipykernel_17400\\3983351454.py:33: FutureWarning: The frame.append method is deprecated and will be removed from pandas in a future version. Use pandas.concat instead.\n",
      "  totalDf = totalDf.append(json_normalize(body), ignore_index=True)\n"
     ]
    },
    {
     "name": "stdout",
     "output_type": "stream",
     "text": [
      "792001\n"
     ]
    },
    {
     "name": "stderr",
     "output_type": "stream",
     "text": [
      "C:\\Users\\ohy\\AppData\\Local\\Temp\\ipykernel_17400\\3983351454.py:33: FutureWarning: pandas.io.json.json_normalize is deprecated, use pandas.json_normalize instead.\n",
      "  totalDf = totalDf.append(json_normalize(body), ignore_index=True)\n",
      "C:\\Users\\ohy\\AppData\\Local\\Temp\\ipykernel_17400\\3983351454.py:33: FutureWarning: The frame.append method is deprecated and will be removed from pandas in a future version. Use pandas.concat instead.\n",
      "  totalDf = totalDf.append(json_normalize(body), ignore_index=True)\n"
     ]
    },
    {
     "name": "stdout",
     "output_type": "stream",
     "text": [
      "793001\n"
     ]
    },
    {
     "name": "stderr",
     "output_type": "stream",
     "text": [
      "C:\\Users\\ohy\\AppData\\Local\\Temp\\ipykernel_17400\\3983351454.py:33: FutureWarning: pandas.io.json.json_normalize is deprecated, use pandas.json_normalize instead.\n",
      "  totalDf = totalDf.append(json_normalize(body), ignore_index=True)\n",
      "C:\\Users\\ohy\\AppData\\Local\\Temp\\ipykernel_17400\\3983351454.py:33: FutureWarning: The frame.append method is deprecated and will be removed from pandas in a future version. Use pandas.concat instead.\n",
      "  totalDf = totalDf.append(json_normalize(body), ignore_index=True)\n"
     ]
    },
    {
     "name": "stdout",
     "output_type": "stream",
     "text": [
      "794001\n"
     ]
    },
    {
     "name": "stderr",
     "output_type": "stream",
     "text": [
      "C:\\Users\\ohy\\AppData\\Local\\Temp\\ipykernel_17400\\3983351454.py:33: FutureWarning: pandas.io.json.json_normalize is deprecated, use pandas.json_normalize instead.\n",
      "  totalDf = totalDf.append(json_normalize(body), ignore_index=True)\n",
      "C:\\Users\\ohy\\AppData\\Local\\Temp\\ipykernel_17400\\3983351454.py:33: FutureWarning: The frame.append method is deprecated and will be removed from pandas in a future version. Use pandas.concat instead.\n",
      "  totalDf = totalDf.append(json_normalize(body), ignore_index=True)\n"
     ]
    },
    {
     "name": "stdout",
     "output_type": "stream",
     "text": [
      "795001\n"
     ]
    },
    {
     "name": "stderr",
     "output_type": "stream",
     "text": [
      "C:\\Users\\ohy\\AppData\\Local\\Temp\\ipykernel_17400\\3983351454.py:33: FutureWarning: pandas.io.json.json_normalize is deprecated, use pandas.json_normalize instead.\n",
      "  totalDf = totalDf.append(json_normalize(body), ignore_index=True)\n",
      "C:\\Users\\ohy\\AppData\\Local\\Temp\\ipykernel_17400\\3983351454.py:33: FutureWarning: The frame.append method is deprecated and will be removed from pandas in a future version. Use pandas.concat instead.\n",
      "  totalDf = totalDf.append(json_normalize(body), ignore_index=True)\n"
     ]
    },
    {
     "name": "stdout",
     "output_type": "stream",
     "text": [
      "796001\n"
     ]
    },
    {
     "name": "stderr",
     "output_type": "stream",
     "text": [
      "C:\\Users\\ohy\\AppData\\Local\\Temp\\ipykernel_17400\\3983351454.py:33: FutureWarning: pandas.io.json.json_normalize is deprecated, use pandas.json_normalize instead.\n",
      "  totalDf = totalDf.append(json_normalize(body), ignore_index=True)\n",
      "C:\\Users\\ohy\\AppData\\Local\\Temp\\ipykernel_17400\\3983351454.py:33: FutureWarning: The frame.append method is deprecated and will be removed from pandas in a future version. Use pandas.concat instead.\n",
      "  totalDf = totalDf.append(json_normalize(body), ignore_index=True)\n"
     ]
    },
    {
     "name": "stdout",
     "output_type": "stream",
     "text": [
      "797001\n"
     ]
    },
    {
     "name": "stderr",
     "output_type": "stream",
     "text": [
      "C:\\Users\\ohy\\AppData\\Local\\Temp\\ipykernel_17400\\3983351454.py:33: FutureWarning: pandas.io.json.json_normalize is deprecated, use pandas.json_normalize instead.\n",
      "  totalDf = totalDf.append(json_normalize(body), ignore_index=True)\n",
      "C:\\Users\\ohy\\AppData\\Local\\Temp\\ipykernel_17400\\3983351454.py:33: FutureWarning: The frame.append method is deprecated and will be removed from pandas in a future version. Use pandas.concat instead.\n",
      "  totalDf = totalDf.append(json_normalize(body), ignore_index=True)\n"
     ]
    },
    {
     "name": "stdout",
     "output_type": "stream",
     "text": [
      "798001\n"
     ]
    },
    {
     "name": "stderr",
     "output_type": "stream",
     "text": [
      "C:\\Users\\ohy\\AppData\\Local\\Temp\\ipykernel_17400\\3983351454.py:33: FutureWarning: pandas.io.json.json_normalize is deprecated, use pandas.json_normalize instead.\n",
      "  totalDf = totalDf.append(json_normalize(body), ignore_index=True)\n",
      "C:\\Users\\ohy\\AppData\\Local\\Temp\\ipykernel_17400\\3983351454.py:33: FutureWarning: The frame.append method is deprecated and will be removed from pandas in a future version. Use pandas.concat instead.\n",
      "  totalDf = totalDf.append(json_normalize(body), ignore_index=True)\n"
     ]
    },
    {
     "name": "stdout",
     "output_type": "stream",
     "text": [
      "799001\n"
     ]
    },
    {
     "name": "stderr",
     "output_type": "stream",
     "text": [
      "C:\\Users\\ohy\\AppData\\Local\\Temp\\ipykernel_17400\\3983351454.py:33: FutureWarning: pandas.io.json.json_normalize is deprecated, use pandas.json_normalize instead.\n",
      "  totalDf = totalDf.append(json_normalize(body), ignore_index=True)\n",
      "C:\\Users\\ohy\\AppData\\Local\\Temp\\ipykernel_17400\\3983351454.py:33: FutureWarning: The frame.append method is deprecated and will be removed from pandas in a future version. Use pandas.concat instead.\n",
      "  totalDf = totalDf.append(json_normalize(body), ignore_index=True)\n"
     ]
    },
    {
     "name": "stdout",
     "output_type": "stream",
     "text": [
      "800001\n"
     ]
    },
    {
     "name": "stderr",
     "output_type": "stream",
     "text": [
      "C:\\Users\\ohy\\AppData\\Local\\Temp\\ipykernel_17400\\3983351454.py:33: FutureWarning: pandas.io.json.json_normalize is deprecated, use pandas.json_normalize instead.\n",
      "  totalDf = totalDf.append(json_normalize(body), ignore_index=True)\n",
      "C:\\Users\\ohy\\AppData\\Local\\Temp\\ipykernel_17400\\3983351454.py:33: FutureWarning: The frame.append method is deprecated and will be removed from pandas in a future version. Use pandas.concat instead.\n",
      "  totalDf = totalDf.append(json_normalize(body), ignore_index=True)\n"
     ]
    },
    {
     "name": "stdout",
     "output_type": "stream",
     "text": [
      "801001\n"
     ]
    },
    {
     "name": "stderr",
     "output_type": "stream",
     "text": [
      "C:\\Users\\ohy\\AppData\\Local\\Temp\\ipykernel_17400\\3983351454.py:33: FutureWarning: pandas.io.json.json_normalize is deprecated, use pandas.json_normalize instead.\n",
      "  totalDf = totalDf.append(json_normalize(body), ignore_index=True)\n",
      "C:\\Users\\ohy\\AppData\\Local\\Temp\\ipykernel_17400\\3983351454.py:33: FutureWarning: The frame.append method is deprecated and will be removed from pandas in a future version. Use pandas.concat instead.\n",
      "  totalDf = totalDf.append(json_normalize(body), ignore_index=True)\n"
     ]
    },
    {
     "name": "stdout",
     "output_type": "stream",
     "text": [
      "802001\n"
     ]
    },
    {
     "name": "stderr",
     "output_type": "stream",
     "text": [
      "C:\\Users\\ohy\\AppData\\Local\\Temp\\ipykernel_17400\\3983351454.py:33: FutureWarning: pandas.io.json.json_normalize is deprecated, use pandas.json_normalize instead.\n",
      "  totalDf = totalDf.append(json_normalize(body), ignore_index=True)\n",
      "C:\\Users\\ohy\\AppData\\Local\\Temp\\ipykernel_17400\\3983351454.py:33: FutureWarning: The frame.append method is deprecated and will be removed from pandas in a future version. Use pandas.concat instead.\n",
      "  totalDf = totalDf.append(json_normalize(body), ignore_index=True)\n"
     ]
    },
    {
     "name": "stdout",
     "output_type": "stream",
     "text": [
      "803001\n"
     ]
    },
    {
     "name": "stderr",
     "output_type": "stream",
     "text": [
      "C:\\Users\\ohy\\AppData\\Local\\Temp\\ipykernel_17400\\3983351454.py:33: FutureWarning: pandas.io.json.json_normalize is deprecated, use pandas.json_normalize instead.\n",
      "  totalDf = totalDf.append(json_normalize(body), ignore_index=True)\n",
      "C:\\Users\\ohy\\AppData\\Local\\Temp\\ipykernel_17400\\3983351454.py:33: FutureWarning: The frame.append method is deprecated and will be removed from pandas in a future version. Use pandas.concat instead.\n",
      "  totalDf = totalDf.append(json_normalize(body), ignore_index=True)\n"
     ]
    },
    {
     "name": "stdout",
     "output_type": "stream",
     "text": [
      "804001\n"
     ]
    },
    {
     "name": "stderr",
     "output_type": "stream",
     "text": [
      "C:\\Users\\ohy\\AppData\\Local\\Temp\\ipykernel_17400\\3983351454.py:33: FutureWarning: pandas.io.json.json_normalize is deprecated, use pandas.json_normalize instead.\n",
      "  totalDf = totalDf.append(json_normalize(body), ignore_index=True)\n",
      "C:\\Users\\ohy\\AppData\\Local\\Temp\\ipykernel_17400\\3983351454.py:33: FutureWarning: The frame.append method is deprecated and will be removed from pandas in a future version. Use pandas.concat instead.\n",
      "  totalDf = totalDf.append(json_normalize(body), ignore_index=True)\n"
     ]
    },
    {
     "name": "stdout",
     "output_type": "stream",
     "text": [
      "805001\n"
     ]
    },
    {
     "name": "stderr",
     "output_type": "stream",
     "text": [
      "C:\\Users\\ohy\\AppData\\Local\\Temp\\ipykernel_17400\\3983351454.py:33: FutureWarning: pandas.io.json.json_normalize is deprecated, use pandas.json_normalize instead.\n",
      "  totalDf = totalDf.append(json_normalize(body), ignore_index=True)\n",
      "C:\\Users\\ohy\\AppData\\Local\\Temp\\ipykernel_17400\\3983351454.py:33: FutureWarning: The frame.append method is deprecated and will be removed from pandas in a future version. Use pandas.concat instead.\n",
      "  totalDf = totalDf.append(json_normalize(body), ignore_index=True)\n"
     ]
    },
    {
     "name": "stdout",
     "output_type": "stream",
     "text": [
      "806001\n"
     ]
    },
    {
     "name": "stderr",
     "output_type": "stream",
     "text": [
      "C:\\Users\\ohy\\AppData\\Local\\Temp\\ipykernel_17400\\3983351454.py:33: FutureWarning: pandas.io.json.json_normalize is deprecated, use pandas.json_normalize instead.\n",
      "  totalDf = totalDf.append(json_normalize(body), ignore_index=True)\n",
      "C:\\Users\\ohy\\AppData\\Local\\Temp\\ipykernel_17400\\3983351454.py:33: FutureWarning: The frame.append method is deprecated and will be removed from pandas in a future version. Use pandas.concat instead.\n",
      "  totalDf = totalDf.append(json_normalize(body), ignore_index=True)\n"
     ]
    },
    {
     "name": "stdout",
     "output_type": "stream",
     "text": [
      "807001\n"
     ]
    },
    {
     "name": "stderr",
     "output_type": "stream",
     "text": [
      "C:\\Users\\ohy\\AppData\\Local\\Temp\\ipykernel_17400\\3983351454.py:33: FutureWarning: pandas.io.json.json_normalize is deprecated, use pandas.json_normalize instead.\n",
      "  totalDf = totalDf.append(json_normalize(body), ignore_index=True)\n",
      "C:\\Users\\ohy\\AppData\\Local\\Temp\\ipykernel_17400\\3983351454.py:33: FutureWarning: The frame.append method is deprecated and will be removed from pandas in a future version. Use pandas.concat instead.\n",
      "  totalDf = totalDf.append(json_normalize(body), ignore_index=True)\n"
     ]
    },
    {
     "name": "stdout",
     "output_type": "stream",
     "text": [
      "808001\n"
     ]
    },
    {
     "name": "stderr",
     "output_type": "stream",
     "text": [
      "C:\\Users\\ohy\\AppData\\Local\\Temp\\ipykernel_17400\\3983351454.py:33: FutureWarning: pandas.io.json.json_normalize is deprecated, use pandas.json_normalize instead.\n",
      "  totalDf = totalDf.append(json_normalize(body), ignore_index=True)\n",
      "C:\\Users\\ohy\\AppData\\Local\\Temp\\ipykernel_17400\\3983351454.py:33: FutureWarning: The frame.append method is deprecated and will be removed from pandas in a future version. Use pandas.concat instead.\n",
      "  totalDf = totalDf.append(json_normalize(body), ignore_index=True)\n"
     ]
    },
    {
     "name": "stdout",
     "output_type": "stream",
     "text": [
      "809001\n"
     ]
    },
    {
     "name": "stderr",
     "output_type": "stream",
     "text": [
      "C:\\Users\\ohy\\AppData\\Local\\Temp\\ipykernel_17400\\3983351454.py:33: FutureWarning: pandas.io.json.json_normalize is deprecated, use pandas.json_normalize instead.\n",
      "  totalDf = totalDf.append(json_normalize(body), ignore_index=True)\n",
      "C:\\Users\\ohy\\AppData\\Local\\Temp\\ipykernel_17400\\3983351454.py:33: FutureWarning: The frame.append method is deprecated and will be removed from pandas in a future version. Use pandas.concat instead.\n",
      "  totalDf = totalDf.append(json_normalize(body), ignore_index=True)\n"
     ]
    },
    {
     "name": "stdout",
     "output_type": "stream",
     "text": [
      "810001\n"
     ]
    },
    {
     "name": "stderr",
     "output_type": "stream",
     "text": [
      "C:\\Users\\ohy\\AppData\\Local\\Temp\\ipykernel_17400\\3983351454.py:33: FutureWarning: pandas.io.json.json_normalize is deprecated, use pandas.json_normalize instead.\n",
      "  totalDf = totalDf.append(json_normalize(body), ignore_index=True)\n",
      "C:\\Users\\ohy\\AppData\\Local\\Temp\\ipykernel_17400\\3983351454.py:33: FutureWarning: The frame.append method is deprecated and will be removed from pandas in a future version. Use pandas.concat instead.\n",
      "  totalDf = totalDf.append(json_normalize(body), ignore_index=True)\n"
     ]
    },
    {
     "name": "stdout",
     "output_type": "stream",
     "text": [
      "811001\n"
     ]
    },
    {
     "name": "stderr",
     "output_type": "stream",
     "text": [
      "C:\\Users\\ohy\\AppData\\Local\\Temp\\ipykernel_17400\\3983351454.py:33: FutureWarning: pandas.io.json.json_normalize is deprecated, use pandas.json_normalize instead.\n",
      "  totalDf = totalDf.append(json_normalize(body), ignore_index=True)\n",
      "C:\\Users\\ohy\\AppData\\Local\\Temp\\ipykernel_17400\\3983351454.py:33: FutureWarning: The frame.append method is deprecated and will be removed from pandas in a future version. Use pandas.concat instead.\n",
      "  totalDf = totalDf.append(json_normalize(body), ignore_index=True)\n"
     ]
    },
    {
     "name": "stdout",
     "output_type": "stream",
     "text": [
      "812001\n"
     ]
    },
    {
     "name": "stderr",
     "output_type": "stream",
     "text": [
      "C:\\Users\\ohy\\AppData\\Local\\Temp\\ipykernel_17400\\3983351454.py:33: FutureWarning: pandas.io.json.json_normalize is deprecated, use pandas.json_normalize instead.\n",
      "  totalDf = totalDf.append(json_normalize(body), ignore_index=True)\n",
      "C:\\Users\\ohy\\AppData\\Local\\Temp\\ipykernel_17400\\3983351454.py:33: FutureWarning: The frame.append method is deprecated and will be removed from pandas in a future version. Use pandas.concat instead.\n",
      "  totalDf = totalDf.append(json_normalize(body), ignore_index=True)\n"
     ]
    },
    {
     "name": "stdout",
     "output_type": "stream",
     "text": [
      "813001\n"
     ]
    },
    {
     "name": "stderr",
     "output_type": "stream",
     "text": [
      "C:\\Users\\ohy\\AppData\\Local\\Temp\\ipykernel_17400\\3983351454.py:33: FutureWarning: pandas.io.json.json_normalize is deprecated, use pandas.json_normalize instead.\n",
      "  totalDf = totalDf.append(json_normalize(body), ignore_index=True)\n",
      "C:\\Users\\ohy\\AppData\\Local\\Temp\\ipykernel_17400\\3983351454.py:33: FutureWarning: The frame.append method is deprecated and will be removed from pandas in a future version. Use pandas.concat instead.\n",
      "  totalDf = totalDf.append(json_normalize(body), ignore_index=True)\n"
     ]
    },
    {
     "name": "stdout",
     "output_type": "stream",
     "text": [
      "814001\n"
     ]
    },
    {
     "name": "stderr",
     "output_type": "stream",
     "text": [
      "C:\\Users\\ohy\\AppData\\Local\\Temp\\ipykernel_17400\\3983351454.py:33: FutureWarning: pandas.io.json.json_normalize is deprecated, use pandas.json_normalize instead.\n",
      "  totalDf = totalDf.append(json_normalize(body), ignore_index=True)\n",
      "C:\\Users\\ohy\\AppData\\Local\\Temp\\ipykernel_17400\\3983351454.py:33: FutureWarning: The frame.append method is deprecated and will be removed from pandas in a future version. Use pandas.concat instead.\n",
      "  totalDf = totalDf.append(json_normalize(body), ignore_index=True)\n"
     ]
    },
    {
     "name": "stdout",
     "output_type": "stream",
     "text": [
      "815001\n"
     ]
    },
    {
     "name": "stderr",
     "output_type": "stream",
     "text": [
      "C:\\Users\\ohy\\AppData\\Local\\Temp\\ipykernel_17400\\3983351454.py:33: FutureWarning: pandas.io.json.json_normalize is deprecated, use pandas.json_normalize instead.\n",
      "  totalDf = totalDf.append(json_normalize(body), ignore_index=True)\n",
      "C:\\Users\\ohy\\AppData\\Local\\Temp\\ipykernel_17400\\3983351454.py:33: FutureWarning: The frame.append method is deprecated and will be removed from pandas in a future version. Use pandas.concat instead.\n",
      "  totalDf = totalDf.append(json_normalize(body), ignore_index=True)\n"
     ]
    },
    {
     "name": "stdout",
     "output_type": "stream",
     "text": [
      "816001\n"
     ]
    },
    {
     "name": "stderr",
     "output_type": "stream",
     "text": [
      "C:\\Users\\ohy\\AppData\\Local\\Temp\\ipykernel_17400\\3983351454.py:33: FutureWarning: pandas.io.json.json_normalize is deprecated, use pandas.json_normalize instead.\n",
      "  totalDf = totalDf.append(json_normalize(body), ignore_index=True)\n",
      "C:\\Users\\ohy\\AppData\\Local\\Temp\\ipykernel_17400\\3983351454.py:33: FutureWarning: The frame.append method is deprecated and will be removed from pandas in a future version. Use pandas.concat instead.\n",
      "  totalDf = totalDf.append(json_normalize(body), ignore_index=True)\n"
     ]
    },
    {
     "name": "stdout",
     "output_type": "stream",
     "text": [
      "817001\n"
     ]
    },
    {
     "name": "stderr",
     "output_type": "stream",
     "text": [
      "C:\\Users\\ohy\\AppData\\Local\\Temp\\ipykernel_17400\\3983351454.py:33: FutureWarning: pandas.io.json.json_normalize is deprecated, use pandas.json_normalize instead.\n",
      "  totalDf = totalDf.append(json_normalize(body), ignore_index=True)\n",
      "C:\\Users\\ohy\\AppData\\Local\\Temp\\ipykernel_17400\\3983351454.py:33: FutureWarning: The frame.append method is deprecated and will be removed from pandas in a future version. Use pandas.concat instead.\n",
      "  totalDf = totalDf.append(json_normalize(body), ignore_index=True)\n"
     ]
    },
    {
     "name": "stdout",
     "output_type": "stream",
     "text": [
      "818001\n"
     ]
    },
    {
     "name": "stderr",
     "output_type": "stream",
     "text": [
      "C:\\Users\\ohy\\AppData\\Local\\Temp\\ipykernel_17400\\3983351454.py:33: FutureWarning: pandas.io.json.json_normalize is deprecated, use pandas.json_normalize instead.\n",
      "  totalDf = totalDf.append(json_normalize(body), ignore_index=True)\n",
      "C:\\Users\\ohy\\AppData\\Local\\Temp\\ipykernel_17400\\3983351454.py:33: FutureWarning: The frame.append method is deprecated and will be removed from pandas in a future version. Use pandas.concat instead.\n",
      "  totalDf = totalDf.append(json_normalize(body), ignore_index=True)\n"
     ]
    },
    {
     "name": "stdout",
     "output_type": "stream",
     "text": [
      "819001\n"
     ]
    },
    {
     "name": "stderr",
     "output_type": "stream",
     "text": [
      "C:\\Users\\ohy\\AppData\\Local\\Temp\\ipykernel_17400\\3983351454.py:33: FutureWarning: pandas.io.json.json_normalize is deprecated, use pandas.json_normalize instead.\n",
      "  totalDf = totalDf.append(json_normalize(body), ignore_index=True)\n",
      "C:\\Users\\ohy\\AppData\\Local\\Temp\\ipykernel_17400\\3983351454.py:33: FutureWarning: The frame.append method is deprecated and will be removed from pandas in a future version. Use pandas.concat instead.\n",
      "  totalDf = totalDf.append(json_normalize(body), ignore_index=True)\n"
     ]
    },
    {
     "name": "stdout",
     "output_type": "stream",
     "text": [
      "820001\n"
     ]
    },
    {
     "name": "stderr",
     "output_type": "stream",
     "text": [
      "C:\\Users\\ohy\\AppData\\Local\\Temp\\ipykernel_17400\\3983351454.py:33: FutureWarning: pandas.io.json.json_normalize is deprecated, use pandas.json_normalize instead.\n",
      "  totalDf = totalDf.append(json_normalize(body), ignore_index=True)\n",
      "C:\\Users\\ohy\\AppData\\Local\\Temp\\ipykernel_17400\\3983351454.py:33: FutureWarning: The frame.append method is deprecated and will be removed from pandas in a future version. Use pandas.concat instead.\n",
      "  totalDf = totalDf.append(json_normalize(body), ignore_index=True)\n"
     ]
    },
    {
     "name": "stdout",
     "output_type": "stream",
     "text": [
      "821001\n"
     ]
    },
    {
     "name": "stderr",
     "output_type": "stream",
     "text": [
      "C:\\Users\\ohy\\AppData\\Local\\Temp\\ipykernel_17400\\3983351454.py:33: FutureWarning: pandas.io.json.json_normalize is deprecated, use pandas.json_normalize instead.\n",
      "  totalDf = totalDf.append(json_normalize(body), ignore_index=True)\n",
      "C:\\Users\\ohy\\AppData\\Local\\Temp\\ipykernel_17400\\3983351454.py:33: FutureWarning: The frame.append method is deprecated and will be removed from pandas in a future version. Use pandas.concat instead.\n",
      "  totalDf = totalDf.append(json_normalize(body), ignore_index=True)\n"
     ]
    },
    {
     "name": "stdout",
     "output_type": "stream",
     "text": [
      "822001\n"
     ]
    },
    {
     "name": "stderr",
     "output_type": "stream",
     "text": [
      "C:\\Users\\ohy\\AppData\\Local\\Temp\\ipykernel_17400\\3983351454.py:33: FutureWarning: pandas.io.json.json_normalize is deprecated, use pandas.json_normalize instead.\n",
      "  totalDf = totalDf.append(json_normalize(body), ignore_index=True)\n",
      "C:\\Users\\ohy\\AppData\\Local\\Temp\\ipykernel_17400\\3983351454.py:33: FutureWarning: The frame.append method is deprecated and will be removed from pandas in a future version. Use pandas.concat instead.\n",
      "  totalDf = totalDf.append(json_normalize(body), ignore_index=True)\n"
     ]
    },
    {
     "name": "stdout",
     "output_type": "stream",
     "text": [
      "823001\n"
     ]
    },
    {
     "name": "stderr",
     "output_type": "stream",
     "text": [
      "C:\\Users\\ohy\\AppData\\Local\\Temp\\ipykernel_17400\\3983351454.py:33: FutureWarning: pandas.io.json.json_normalize is deprecated, use pandas.json_normalize instead.\n",
      "  totalDf = totalDf.append(json_normalize(body), ignore_index=True)\n",
      "C:\\Users\\ohy\\AppData\\Local\\Temp\\ipykernel_17400\\3983351454.py:33: FutureWarning: The frame.append method is deprecated and will be removed from pandas in a future version. Use pandas.concat instead.\n",
      "  totalDf = totalDf.append(json_normalize(body), ignore_index=True)\n"
     ]
    },
    {
     "name": "stdout",
     "output_type": "stream",
     "text": [
      "824001\n"
     ]
    },
    {
     "name": "stderr",
     "output_type": "stream",
     "text": [
      "C:\\Users\\ohy\\AppData\\Local\\Temp\\ipykernel_17400\\3983351454.py:33: FutureWarning: pandas.io.json.json_normalize is deprecated, use pandas.json_normalize instead.\n",
      "  totalDf = totalDf.append(json_normalize(body), ignore_index=True)\n",
      "C:\\Users\\ohy\\AppData\\Local\\Temp\\ipykernel_17400\\3983351454.py:33: FutureWarning: The frame.append method is deprecated and will be removed from pandas in a future version. Use pandas.concat instead.\n",
      "  totalDf = totalDf.append(json_normalize(body), ignore_index=True)\n"
     ]
    },
    {
     "name": "stdout",
     "output_type": "stream",
     "text": [
      "825001\n"
     ]
    },
    {
     "name": "stderr",
     "output_type": "stream",
     "text": [
      "C:\\Users\\ohy\\AppData\\Local\\Temp\\ipykernel_17400\\3983351454.py:33: FutureWarning: pandas.io.json.json_normalize is deprecated, use pandas.json_normalize instead.\n",
      "  totalDf = totalDf.append(json_normalize(body), ignore_index=True)\n",
      "C:\\Users\\ohy\\AppData\\Local\\Temp\\ipykernel_17400\\3983351454.py:33: FutureWarning: The frame.append method is deprecated and will be removed from pandas in a future version. Use pandas.concat instead.\n",
      "  totalDf = totalDf.append(json_normalize(body), ignore_index=True)\n"
     ]
    },
    {
     "name": "stdout",
     "output_type": "stream",
     "text": [
      "826001\n"
     ]
    },
    {
     "name": "stderr",
     "output_type": "stream",
     "text": [
      "C:\\Users\\ohy\\AppData\\Local\\Temp\\ipykernel_17400\\3983351454.py:33: FutureWarning: pandas.io.json.json_normalize is deprecated, use pandas.json_normalize instead.\n",
      "  totalDf = totalDf.append(json_normalize(body), ignore_index=True)\n",
      "C:\\Users\\ohy\\AppData\\Local\\Temp\\ipykernel_17400\\3983351454.py:33: FutureWarning: The frame.append method is deprecated and will be removed from pandas in a future version. Use pandas.concat instead.\n",
      "  totalDf = totalDf.append(json_normalize(body), ignore_index=True)\n"
     ]
    },
    {
     "name": "stdout",
     "output_type": "stream",
     "text": [
      "827001\n"
     ]
    },
    {
     "name": "stderr",
     "output_type": "stream",
     "text": [
      "C:\\Users\\ohy\\AppData\\Local\\Temp\\ipykernel_17400\\3983351454.py:33: FutureWarning: pandas.io.json.json_normalize is deprecated, use pandas.json_normalize instead.\n",
      "  totalDf = totalDf.append(json_normalize(body), ignore_index=True)\n",
      "C:\\Users\\ohy\\AppData\\Local\\Temp\\ipykernel_17400\\3983351454.py:33: FutureWarning: The frame.append method is deprecated and will be removed from pandas in a future version. Use pandas.concat instead.\n",
      "  totalDf = totalDf.append(json_normalize(body), ignore_index=True)\n"
     ]
    },
    {
     "name": "stdout",
     "output_type": "stream",
     "text": [
      "828001\n"
     ]
    },
    {
     "name": "stderr",
     "output_type": "stream",
     "text": [
      "C:\\Users\\ohy\\AppData\\Local\\Temp\\ipykernel_17400\\3983351454.py:33: FutureWarning: pandas.io.json.json_normalize is deprecated, use pandas.json_normalize instead.\n",
      "  totalDf = totalDf.append(json_normalize(body), ignore_index=True)\n",
      "C:\\Users\\ohy\\AppData\\Local\\Temp\\ipykernel_17400\\3983351454.py:33: FutureWarning: The frame.append method is deprecated and will be removed from pandas in a future version. Use pandas.concat instead.\n",
      "  totalDf = totalDf.append(json_normalize(body), ignore_index=True)\n"
     ]
    },
    {
     "name": "stdout",
     "output_type": "stream",
     "text": [
      "829001\n"
     ]
    },
    {
     "name": "stderr",
     "output_type": "stream",
     "text": [
      "C:\\Users\\ohy\\AppData\\Local\\Temp\\ipykernel_17400\\3983351454.py:33: FutureWarning: pandas.io.json.json_normalize is deprecated, use pandas.json_normalize instead.\n",
      "  totalDf = totalDf.append(json_normalize(body), ignore_index=True)\n",
      "C:\\Users\\ohy\\AppData\\Local\\Temp\\ipykernel_17400\\3983351454.py:33: FutureWarning: The frame.append method is deprecated and will be removed from pandas in a future version. Use pandas.concat instead.\n",
      "  totalDf = totalDf.append(json_normalize(body), ignore_index=True)\n"
     ]
    },
    {
     "name": "stdout",
     "output_type": "stream",
     "text": [
      "830001\n"
     ]
    },
    {
     "name": "stderr",
     "output_type": "stream",
     "text": [
      "C:\\Users\\ohy\\AppData\\Local\\Temp\\ipykernel_17400\\3983351454.py:33: FutureWarning: pandas.io.json.json_normalize is deprecated, use pandas.json_normalize instead.\n",
      "  totalDf = totalDf.append(json_normalize(body), ignore_index=True)\n",
      "C:\\Users\\ohy\\AppData\\Local\\Temp\\ipykernel_17400\\3983351454.py:33: FutureWarning: The frame.append method is deprecated and will be removed from pandas in a future version. Use pandas.concat instead.\n",
      "  totalDf = totalDf.append(json_normalize(body), ignore_index=True)\n"
     ]
    },
    {
     "name": "stdout",
     "output_type": "stream",
     "text": [
      "831001\n"
     ]
    },
    {
     "name": "stderr",
     "output_type": "stream",
     "text": [
      "C:\\Users\\ohy\\AppData\\Local\\Temp\\ipykernel_17400\\3983351454.py:33: FutureWarning: pandas.io.json.json_normalize is deprecated, use pandas.json_normalize instead.\n",
      "  totalDf = totalDf.append(json_normalize(body), ignore_index=True)\n",
      "C:\\Users\\ohy\\AppData\\Local\\Temp\\ipykernel_17400\\3983351454.py:33: FutureWarning: The frame.append method is deprecated and will be removed from pandas in a future version. Use pandas.concat instead.\n",
      "  totalDf = totalDf.append(json_normalize(body), ignore_index=True)\n"
     ]
    },
    {
     "name": "stdout",
     "output_type": "stream",
     "text": [
      "832001\n"
     ]
    },
    {
     "name": "stderr",
     "output_type": "stream",
     "text": [
      "C:\\Users\\ohy\\AppData\\Local\\Temp\\ipykernel_17400\\3983351454.py:33: FutureWarning: pandas.io.json.json_normalize is deprecated, use pandas.json_normalize instead.\n",
      "  totalDf = totalDf.append(json_normalize(body), ignore_index=True)\n",
      "C:\\Users\\ohy\\AppData\\Local\\Temp\\ipykernel_17400\\3983351454.py:33: FutureWarning: The frame.append method is deprecated and will be removed from pandas in a future version. Use pandas.concat instead.\n",
      "  totalDf = totalDf.append(json_normalize(body), ignore_index=True)\n"
     ]
    },
    {
     "name": "stdout",
     "output_type": "stream",
     "text": [
      "833001\n"
     ]
    },
    {
     "name": "stderr",
     "output_type": "stream",
     "text": [
      "C:\\Users\\ohy\\AppData\\Local\\Temp\\ipykernel_17400\\3983351454.py:33: FutureWarning: pandas.io.json.json_normalize is deprecated, use pandas.json_normalize instead.\n",
      "  totalDf = totalDf.append(json_normalize(body), ignore_index=True)\n",
      "C:\\Users\\ohy\\AppData\\Local\\Temp\\ipykernel_17400\\3983351454.py:33: FutureWarning: The frame.append method is deprecated and will be removed from pandas in a future version. Use pandas.concat instead.\n",
      "  totalDf = totalDf.append(json_normalize(body), ignore_index=True)\n"
     ]
    },
    {
     "name": "stdout",
     "output_type": "stream",
     "text": [
      "834001\n"
     ]
    },
    {
     "name": "stderr",
     "output_type": "stream",
     "text": [
      "C:\\Users\\ohy\\AppData\\Local\\Temp\\ipykernel_17400\\3983351454.py:33: FutureWarning: pandas.io.json.json_normalize is deprecated, use pandas.json_normalize instead.\n",
      "  totalDf = totalDf.append(json_normalize(body), ignore_index=True)\n",
      "C:\\Users\\ohy\\AppData\\Local\\Temp\\ipykernel_17400\\3983351454.py:33: FutureWarning: The frame.append method is deprecated and will be removed from pandas in a future version. Use pandas.concat instead.\n",
      "  totalDf = totalDf.append(json_normalize(body), ignore_index=True)\n"
     ]
    },
    {
     "name": "stdout",
     "output_type": "stream",
     "text": [
      "835001\n"
     ]
    },
    {
     "name": "stderr",
     "output_type": "stream",
     "text": [
      "C:\\Users\\ohy\\AppData\\Local\\Temp\\ipykernel_17400\\3983351454.py:33: FutureWarning: pandas.io.json.json_normalize is deprecated, use pandas.json_normalize instead.\n",
      "  totalDf = totalDf.append(json_normalize(body), ignore_index=True)\n",
      "C:\\Users\\ohy\\AppData\\Local\\Temp\\ipykernel_17400\\3983351454.py:33: FutureWarning: The frame.append method is deprecated and will be removed from pandas in a future version. Use pandas.concat instead.\n",
      "  totalDf = totalDf.append(json_normalize(body), ignore_index=True)\n"
     ]
    },
    {
     "name": "stdout",
     "output_type": "stream",
     "text": [
      "836001\n"
     ]
    },
    {
     "name": "stderr",
     "output_type": "stream",
     "text": [
      "C:\\Users\\ohy\\AppData\\Local\\Temp\\ipykernel_17400\\3983351454.py:33: FutureWarning: pandas.io.json.json_normalize is deprecated, use pandas.json_normalize instead.\n",
      "  totalDf = totalDf.append(json_normalize(body), ignore_index=True)\n",
      "C:\\Users\\ohy\\AppData\\Local\\Temp\\ipykernel_17400\\3983351454.py:33: FutureWarning: The frame.append method is deprecated and will be removed from pandas in a future version. Use pandas.concat instead.\n",
      "  totalDf = totalDf.append(json_normalize(body), ignore_index=True)\n"
     ]
    },
    {
     "name": "stdout",
     "output_type": "stream",
     "text": [
      "837001\n"
     ]
    },
    {
     "name": "stderr",
     "output_type": "stream",
     "text": [
      "C:\\Users\\ohy\\AppData\\Local\\Temp\\ipykernel_17400\\3983351454.py:33: FutureWarning: pandas.io.json.json_normalize is deprecated, use pandas.json_normalize instead.\n",
      "  totalDf = totalDf.append(json_normalize(body), ignore_index=True)\n",
      "C:\\Users\\ohy\\AppData\\Local\\Temp\\ipykernel_17400\\3983351454.py:33: FutureWarning: The frame.append method is deprecated and will be removed from pandas in a future version. Use pandas.concat instead.\n",
      "  totalDf = totalDf.append(json_normalize(body), ignore_index=True)\n"
     ]
    },
    {
     "name": "stdout",
     "output_type": "stream",
     "text": [
      "838001\n"
     ]
    },
    {
     "name": "stderr",
     "output_type": "stream",
     "text": [
      "C:\\Users\\ohy\\AppData\\Local\\Temp\\ipykernel_17400\\3983351454.py:33: FutureWarning: pandas.io.json.json_normalize is deprecated, use pandas.json_normalize instead.\n",
      "  totalDf = totalDf.append(json_normalize(body), ignore_index=True)\n",
      "C:\\Users\\ohy\\AppData\\Local\\Temp\\ipykernel_17400\\3983351454.py:33: FutureWarning: The frame.append method is deprecated and will be removed from pandas in a future version. Use pandas.concat instead.\n",
      "  totalDf = totalDf.append(json_normalize(body), ignore_index=True)\n"
     ]
    },
    {
     "name": "stdout",
     "output_type": "stream",
     "text": [
      "839001\n"
     ]
    },
    {
     "name": "stderr",
     "output_type": "stream",
     "text": [
      "C:\\Users\\ohy\\AppData\\Local\\Temp\\ipykernel_17400\\3983351454.py:33: FutureWarning: pandas.io.json.json_normalize is deprecated, use pandas.json_normalize instead.\n",
      "  totalDf = totalDf.append(json_normalize(body), ignore_index=True)\n",
      "C:\\Users\\ohy\\AppData\\Local\\Temp\\ipykernel_17400\\3983351454.py:33: FutureWarning: The frame.append method is deprecated and will be removed from pandas in a future version. Use pandas.concat instead.\n",
      "  totalDf = totalDf.append(json_normalize(body), ignore_index=True)\n"
     ]
    },
    {
     "name": "stdout",
     "output_type": "stream",
     "text": [
      "840001\n"
     ]
    },
    {
     "name": "stderr",
     "output_type": "stream",
     "text": [
      "C:\\Users\\ohy\\AppData\\Local\\Temp\\ipykernel_17400\\3983351454.py:33: FutureWarning: pandas.io.json.json_normalize is deprecated, use pandas.json_normalize instead.\n",
      "  totalDf = totalDf.append(json_normalize(body), ignore_index=True)\n",
      "C:\\Users\\ohy\\AppData\\Local\\Temp\\ipykernel_17400\\3983351454.py:33: FutureWarning: The frame.append method is deprecated and will be removed from pandas in a future version. Use pandas.concat instead.\n",
      "  totalDf = totalDf.append(json_normalize(body), ignore_index=True)\n"
     ]
    },
    {
     "name": "stdout",
     "output_type": "stream",
     "text": [
      "841001\n"
     ]
    },
    {
     "name": "stderr",
     "output_type": "stream",
     "text": [
      "C:\\Users\\ohy\\AppData\\Local\\Temp\\ipykernel_17400\\3983351454.py:33: FutureWarning: pandas.io.json.json_normalize is deprecated, use pandas.json_normalize instead.\n",
      "  totalDf = totalDf.append(json_normalize(body), ignore_index=True)\n",
      "C:\\Users\\ohy\\AppData\\Local\\Temp\\ipykernel_17400\\3983351454.py:33: FutureWarning: The frame.append method is deprecated and will be removed from pandas in a future version. Use pandas.concat instead.\n",
      "  totalDf = totalDf.append(json_normalize(body), ignore_index=True)\n"
     ]
    },
    {
     "name": "stdout",
     "output_type": "stream",
     "text": [
      "842001\n"
     ]
    },
    {
     "name": "stderr",
     "output_type": "stream",
     "text": [
      "C:\\Users\\ohy\\AppData\\Local\\Temp\\ipykernel_17400\\3983351454.py:33: FutureWarning: pandas.io.json.json_normalize is deprecated, use pandas.json_normalize instead.\n",
      "  totalDf = totalDf.append(json_normalize(body), ignore_index=True)\n",
      "C:\\Users\\ohy\\AppData\\Local\\Temp\\ipykernel_17400\\3983351454.py:33: FutureWarning: The frame.append method is deprecated and will be removed from pandas in a future version. Use pandas.concat instead.\n",
      "  totalDf = totalDf.append(json_normalize(body), ignore_index=True)\n"
     ]
    },
    {
     "name": "stdout",
     "output_type": "stream",
     "text": [
      "843001\n"
     ]
    },
    {
     "name": "stderr",
     "output_type": "stream",
     "text": [
      "C:\\Users\\ohy\\AppData\\Local\\Temp\\ipykernel_17400\\3983351454.py:33: FutureWarning: pandas.io.json.json_normalize is deprecated, use pandas.json_normalize instead.\n",
      "  totalDf = totalDf.append(json_normalize(body), ignore_index=True)\n",
      "C:\\Users\\ohy\\AppData\\Local\\Temp\\ipykernel_17400\\3983351454.py:33: FutureWarning: The frame.append method is deprecated and will be removed from pandas in a future version. Use pandas.concat instead.\n",
      "  totalDf = totalDf.append(json_normalize(body), ignore_index=True)\n"
     ]
    },
    {
     "name": "stdout",
     "output_type": "stream",
     "text": [
      "844001\n"
     ]
    },
    {
     "name": "stderr",
     "output_type": "stream",
     "text": [
      "C:\\Users\\ohy\\AppData\\Local\\Temp\\ipykernel_17400\\3983351454.py:33: FutureWarning: pandas.io.json.json_normalize is deprecated, use pandas.json_normalize instead.\n",
      "  totalDf = totalDf.append(json_normalize(body), ignore_index=True)\n",
      "C:\\Users\\ohy\\AppData\\Local\\Temp\\ipykernel_17400\\3983351454.py:33: FutureWarning: The frame.append method is deprecated and will be removed from pandas in a future version. Use pandas.concat instead.\n",
      "  totalDf = totalDf.append(json_normalize(body), ignore_index=True)\n"
     ]
    },
    {
     "name": "stdout",
     "output_type": "stream",
     "text": [
      "845001\n"
     ]
    },
    {
     "name": "stderr",
     "output_type": "stream",
     "text": [
      "C:\\Users\\ohy\\AppData\\Local\\Temp\\ipykernel_17400\\3983351454.py:33: FutureWarning: pandas.io.json.json_normalize is deprecated, use pandas.json_normalize instead.\n",
      "  totalDf = totalDf.append(json_normalize(body), ignore_index=True)\n",
      "C:\\Users\\ohy\\AppData\\Local\\Temp\\ipykernel_17400\\3983351454.py:33: FutureWarning: The frame.append method is deprecated and will be removed from pandas in a future version. Use pandas.concat instead.\n",
      "  totalDf = totalDf.append(json_normalize(body), ignore_index=True)\n"
     ]
    },
    {
     "name": "stdout",
     "output_type": "stream",
     "text": [
      "846001\n"
     ]
    },
    {
     "name": "stderr",
     "output_type": "stream",
     "text": [
      "C:\\Users\\ohy\\AppData\\Local\\Temp\\ipykernel_17400\\3983351454.py:33: FutureWarning: pandas.io.json.json_normalize is deprecated, use pandas.json_normalize instead.\n",
      "  totalDf = totalDf.append(json_normalize(body), ignore_index=True)\n",
      "C:\\Users\\ohy\\AppData\\Local\\Temp\\ipykernel_17400\\3983351454.py:33: FutureWarning: The frame.append method is deprecated and will be removed from pandas in a future version. Use pandas.concat instead.\n",
      "  totalDf = totalDf.append(json_normalize(body), ignore_index=True)\n"
     ]
    },
    {
     "name": "stdout",
     "output_type": "stream",
     "text": [
      "847001\n"
     ]
    },
    {
     "name": "stderr",
     "output_type": "stream",
     "text": [
      "C:\\Users\\ohy\\AppData\\Local\\Temp\\ipykernel_17400\\3983351454.py:33: FutureWarning: pandas.io.json.json_normalize is deprecated, use pandas.json_normalize instead.\n",
      "  totalDf = totalDf.append(json_normalize(body), ignore_index=True)\n",
      "C:\\Users\\ohy\\AppData\\Local\\Temp\\ipykernel_17400\\3983351454.py:33: FutureWarning: The frame.append method is deprecated and will be removed from pandas in a future version. Use pandas.concat instead.\n",
      "  totalDf = totalDf.append(json_normalize(body), ignore_index=True)\n"
     ]
    },
    {
     "name": "stdout",
     "output_type": "stream",
     "text": [
      "848001\n"
     ]
    },
    {
     "name": "stderr",
     "output_type": "stream",
     "text": [
      "C:\\Users\\ohy\\AppData\\Local\\Temp\\ipykernel_17400\\3983351454.py:33: FutureWarning: pandas.io.json.json_normalize is deprecated, use pandas.json_normalize instead.\n",
      "  totalDf = totalDf.append(json_normalize(body), ignore_index=True)\n",
      "C:\\Users\\ohy\\AppData\\Local\\Temp\\ipykernel_17400\\3983351454.py:33: FutureWarning: The frame.append method is deprecated and will be removed from pandas in a future version. Use pandas.concat instead.\n",
      "  totalDf = totalDf.append(json_normalize(body), ignore_index=True)\n"
     ]
    },
    {
     "name": "stdout",
     "output_type": "stream",
     "text": [
      "849001\n"
     ]
    },
    {
     "name": "stderr",
     "output_type": "stream",
     "text": [
      "C:\\Users\\ohy\\AppData\\Local\\Temp\\ipykernel_17400\\3983351454.py:33: FutureWarning: pandas.io.json.json_normalize is deprecated, use pandas.json_normalize instead.\n",
      "  totalDf = totalDf.append(json_normalize(body), ignore_index=True)\n",
      "C:\\Users\\ohy\\AppData\\Local\\Temp\\ipykernel_17400\\3983351454.py:33: FutureWarning: The frame.append method is deprecated and will be removed from pandas in a future version. Use pandas.concat instead.\n",
      "  totalDf = totalDf.append(json_normalize(body), ignore_index=True)\n"
     ]
    },
    {
     "name": "stdout",
     "output_type": "stream",
     "text": [
      "850001\n"
     ]
    },
    {
     "name": "stderr",
     "output_type": "stream",
     "text": [
      "C:\\Users\\ohy\\AppData\\Local\\Temp\\ipykernel_17400\\3983351454.py:33: FutureWarning: pandas.io.json.json_normalize is deprecated, use pandas.json_normalize instead.\n",
      "  totalDf = totalDf.append(json_normalize(body), ignore_index=True)\n",
      "C:\\Users\\ohy\\AppData\\Local\\Temp\\ipykernel_17400\\3983351454.py:33: FutureWarning: The frame.append method is deprecated and will be removed from pandas in a future version. Use pandas.concat instead.\n",
      "  totalDf = totalDf.append(json_normalize(body), ignore_index=True)\n"
     ]
    },
    {
     "name": "stdout",
     "output_type": "stream",
     "text": [
      "851001\n"
     ]
    },
    {
     "name": "stderr",
     "output_type": "stream",
     "text": [
      "C:\\Users\\ohy\\AppData\\Local\\Temp\\ipykernel_17400\\3983351454.py:33: FutureWarning: pandas.io.json.json_normalize is deprecated, use pandas.json_normalize instead.\n",
      "  totalDf = totalDf.append(json_normalize(body), ignore_index=True)\n",
      "C:\\Users\\ohy\\AppData\\Local\\Temp\\ipykernel_17400\\3983351454.py:33: FutureWarning: The frame.append method is deprecated and will be removed from pandas in a future version. Use pandas.concat instead.\n",
      "  totalDf = totalDf.append(json_normalize(body), ignore_index=True)\n"
     ]
    },
    {
     "name": "stdout",
     "output_type": "stream",
     "text": [
      "852001\n"
     ]
    },
    {
     "name": "stderr",
     "output_type": "stream",
     "text": [
      "C:\\Users\\ohy\\AppData\\Local\\Temp\\ipykernel_17400\\3983351454.py:33: FutureWarning: pandas.io.json.json_normalize is deprecated, use pandas.json_normalize instead.\n",
      "  totalDf = totalDf.append(json_normalize(body), ignore_index=True)\n",
      "C:\\Users\\ohy\\AppData\\Local\\Temp\\ipykernel_17400\\3983351454.py:33: FutureWarning: The frame.append method is deprecated and will be removed from pandas in a future version. Use pandas.concat instead.\n",
      "  totalDf = totalDf.append(json_normalize(body), ignore_index=True)\n"
     ]
    },
    {
     "name": "stdout",
     "output_type": "stream",
     "text": [
      "853001\n"
     ]
    },
    {
     "name": "stderr",
     "output_type": "stream",
     "text": [
      "C:\\Users\\ohy\\AppData\\Local\\Temp\\ipykernel_17400\\3983351454.py:33: FutureWarning: pandas.io.json.json_normalize is deprecated, use pandas.json_normalize instead.\n",
      "  totalDf = totalDf.append(json_normalize(body), ignore_index=True)\n",
      "C:\\Users\\ohy\\AppData\\Local\\Temp\\ipykernel_17400\\3983351454.py:33: FutureWarning: The frame.append method is deprecated and will be removed from pandas in a future version. Use pandas.concat instead.\n",
      "  totalDf = totalDf.append(json_normalize(body), ignore_index=True)\n"
     ]
    },
    {
     "name": "stdout",
     "output_type": "stream",
     "text": [
      "854001\n"
     ]
    },
    {
     "name": "stderr",
     "output_type": "stream",
     "text": [
      "C:\\Users\\ohy\\AppData\\Local\\Temp\\ipykernel_17400\\3983351454.py:33: FutureWarning: pandas.io.json.json_normalize is deprecated, use pandas.json_normalize instead.\n",
      "  totalDf = totalDf.append(json_normalize(body), ignore_index=True)\n",
      "C:\\Users\\ohy\\AppData\\Local\\Temp\\ipykernel_17400\\3983351454.py:33: FutureWarning: The frame.append method is deprecated and will be removed from pandas in a future version. Use pandas.concat instead.\n",
      "  totalDf = totalDf.append(json_normalize(body), ignore_index=True)\n"
     ]
    },
    {
     "name": "stdout",
     "output_type": "stream",
     "text": [
      "855001\n"
     ]
    },
    {
     "name": "stderr",
     "output_type": "stream",
     "text": [
      "C:\\Users\\ohy\\AppData\\Local\\Temp\\ipykernel_17400\\3983351454.py:33: FutureWarning: pandas.io.json.json_normalize is deprecated, use pandas.json_normalize instead.\n",
      "  totalDf = totalDf.append(json_normalize(body), ignore_index=True)\n",
      "C:\\Users\\ohy\\AppData\\Local\\Temp\\ipykernel_17400\\3983351454.py:33: FutureWarning: The frame.append method is deprecated and will be removed from pandas in a future version. Use pandas.concat instead.\n",
      "  totalDf = totalDf.append(json_normalize(body), ignore_index=True)\n"
     ]
    },
    {
     "name": "stdout",
     "output_type": "stream",
     "text": [
      "856001\n"
     ]
    },
    {
     "name": "stderr",
     "output_type": "stream",
     "text": [
      "C:\\Users\\ohy\\AppData\\Local\\Temp\\ipykernel_17400\\3983351454.py:33: FutureWarning: pandas.io.json.json_normalize is deprecated, use pandas.json_normalize instead.\n",
      "  totalDf = totalDf.append(json_normalize(body), ignore_index=True)\n",
      "C:\\Users\\ohy\\AppData\\Local\\Temp\\ipykernel_17400\\3983351454.py:33: FutureWarning: The frame.append method is deprecated and will be removed from pandas in a future version. Use pandas.concat instead.\n",
      "  totalDf = totalDf.append(json_normalize(body), ignore_index=True)\n"
     ]
    },
    {
     "name": "stdout",
     "output_type": "stream",
     "text": [
      "857001\n"
     ]
    },
    {
     "name": "stderr",
     "output_type": "stream",
     "text": [
      "C:\\Users\\ohy\\AppData\\Local\\Temp\\ipykernel_17400\\3983351454.py:33: FutureWarning: pandas.io.json.json_normalize is deprecated, use pandas.json_normalize instead.\n",
      "  totalDf = totalDf.append(json_normalize(body), ignore_index=True)\n",
      "C:\\Users\\ohy\\AppData\\Local\\Temp\\ipykernel_17400\\3983351454.py:33: FutureWarning: The frame.append method is deprecated and will be removed from pandas in a future version. Use pandas.concat instead.\n",
      "  totalDf = totalDf.append(json_normalize(body), ignore_index=True)\n"
     ]
    },
    {
     "name": "stdout",
     "output_type": "stream",
     "text": [
      "858001\n"
     ]
    },
    {
     "name": "stderr",
     "output_type": "stream",
     "text": [
      "C:\\Users\\ohy\\AppData\\Local\\Temp\\ipykernel_17400\\3983351454.py:33: FutureWarning: pandas.io.json.json_normalize is deprecated, use pandas.json_normalize instead.\n",
      "  totalDf = totalDf.append(json_normalize(body), ignore_index=True)\n",
      "C:\\Users\\ohy\\AppData\\Local\\Temp\\ipykernel_17400\\3983351454.py:33: FutureWarning: The frame.append method is deprecated and will be removed from pandas in a future version. Use pandas.concat instead.\n",
      "  totalDf = totalDf.append(json_normalize(body), ignore_index=True)\n"
     ]
    },
    {
     "name": "stdout",
     "output_type": "stream",
     "text": [
      "859001\n"
     ]
    },
    {
     "name": "stderr",
     "output_type": "stream",
     "text": [
      "C:\\Users\\ohy\\AppData\\Local\\Temp\\ipykernel_17400\\3983351454.py:33: FutureWarning: pandas.io.json.json_normalize is deprecated, use pandas.json_normalize instead.\n",
      "  totalDf = totalDf.append(json_normalize(body), ignore_index=True)\n",
      "C:\\Users\\ohy\\AppData\\Local\\Temp\\ipykernel_17400\\3983351454.py:33: FutureWarning: The frame.append method is deprecated and will be removed from pandas in a future version. Use pandas.concat instead.\n",
      "  totalDf = totalDf.append(json_normalize(body), ignore_index=True)\n"
     ]
    },
    {
     "name": "stdout",
     "output_type": "stream",
     "text": [
      "860001\n"
     ]
    },
    {
     "name": "stderr",
     "output_type": "stream",
     "text": [
      "C:\\Users\\ohy\\AppData\\Local\\Temp\\ipykernel_17400\\3983351454.py:33: FutureWarning: pandas.io.json.json_normalize is deprecated, use pandas.json_normalize instead.\n",
      "  totalDf = totalDf.append(json_normalize(body), ignore_index=True)\n",
      "C:\\Users\\ohy\\AppData\\Local\\Temp\\ipykernel_17400\\3983351454.py:33: FutureWarning: The frame.append method is deprecated and will be removed from pandas in a future version. Use pandas.concat instead.\n",
      "  totalDf = totalDf.append(json_normalize(body), ignore_index=True)\n"
     ]
    },
    {
     "name": "stdout",
     "output_type": "stream",
     "text": [
      "861001\n"
     ]
    },
    {
     "name": "stderr",
     "output_type": "stream",
     "text": [
      "C:\\Users\\ohy\\AppData\\Local\\Temp\\ipykernel_17400\\3983351454.py:33: FutureWarning: pandas.io.json.json_normalize is deprecated, use pandas.json_normalize instead.\n",
      "  totalDf = totalDf.append(json_normalize(body), ignore_index=True)\n",
      "C:\\Users\\ohy\\AppData\\Local\\Temp\\ipykernel_17400\\3983351454.py:33: FutureWarning: The frame.append method is deprecated and will be removed from pandas in a future version. Use pandas.concat instead.\n",
      "  totalDf = totalDf.append(json_normalize(body), ignore_index=True)\n"
     ]
    },
    {
     "name": "stdout",
     "output_type": "stream",
     "text": [
      "862001\n"
     ]
    },
    {
     "name": "stderr",
     "output_type": "stream",
     "text": [
      "C:\\Users\\ohy\\AppData\\Local\\Temp\\ipykernel_17400\\3983351454.py:33: FutureWarning: pandas.io.json.json_normalize is deprecated, use pandas.json_normalize instead.\n",
      "  totalDf = totalDf.append(json_normalize(body), ignore_index=True)\n",
      "C:\\Users\\ohy\\AppData\\Local\\Temp\\ipykernel_17400\\3983351454.py:33: FutureWarning: The frame.append method is deprecated and will be removed from pandas in a future version. Use pandas.concat instead.\n",
      "  totalDf = totalDf.append(json_normalize(body), ignore_index=True)\n"
     ]
    },
    {
     "name": "stdout",
     "output_type": "stream",
     "text": [
      "863001\n"
     ]
    },
    {
     "name": "stderr",
     "output_type": "stream",
     "text": [
      "C:\\Users\\ohy\\AppData\\Local\\Temp\\ipykernel_17400\\3983351454.py:33: FutureWarning: pandas.io.json.json_normalize is deprecated, use pandas.json_normalize instead.\n",
      "  totalDf = totalDf.append(json_normalize(body), ignore_index=True)\n",
      "C:\\Users\\ohy\\AppData\\Local\\Temp\\ipykernel_17400\\3983351454.py:33: FutureWarning: The frame.append method is deprecated and will be removed from pandas in a future version. Use pandas.concat instead.\n",
      "  totalDf = totalDf.append(json_normalize(body), ignore_index=True)\n"
     ]
    },
    {
     "name": "stdout",
     "output_type": "stream",
     "text": [
      "864001\n"
     ]
    },
    {
     "name": "stderr",
     "output_type": "stream",
     "text": [
      "C:\\Users\\ohy\\AppData\\Local\\Temp\\ipykernel_17400\\3983351454.py:33: FutureWarning: pandas.io.json.json_normalize is deprecated, use pandas.json_normalize instead.\n",
      "  totalDf = totalDf.append(json_normalize(body), ignore_index=True)\n",
      "C:\\Users\\ohy\\AppData\\Local\\Temp\\ipykernel_17400\\3983351454.py:33: FutureWarning: The frame.append method is deprecated and will be removed from pandas in a future version. Use pandas.concat instead.\n",
      "  totalDf = totalDf.append(json_normalize(body), ignore_index=True)\n"
     ]
    },
    {
     "name": "stdout",
     "output_type": "stream",
     "text": [
      "865001\n"
     ]
    },
    {
     "name": "stderr",
     "output_type": "stream",
     "text": [
      "C:\\Users\\ohy\\AppData\\Local\\Temp\\ipykernel_17400\\3983351454.py:33: FutureWarning: pandas.io.json.json_normalize is deprecated, use pandas.json_normalize instead.\n",
      "  totalDf = totalDf.append(json_normalize(body), ignore_index=True)\n",
      "C:\\Users\\ohy\\AppData\\Local\\Temp\\ipykernel_17400\\3983351454.py:33: FutureWarning: The frame.append method is deprecated and will be removed from pandas in a future version. Use pandas.concat instead.\n",
      "  totalDf = totalDf.append(json_normalize(body), ignore_index=True)\n"
     ]
    },
    {
     "name": "stdout",
     "output_type": "stream",
     "text": [
      "866001\n"
     ]
    },
    {
     "name": "stderr",
     "output_type": "stream",
     "text": [
      "C:\\Users\\ohy\\AppData\\Local\\Temp\\ipykernel_17400\\3983351454.py:33: FutureWarning: pandas.io.json.json_normalize is deprecated, use pandas.json_normalize instead.\n",
      "  totalDf = totalDf.append(json_normalize(body), ignore_index=True)\n",
      "C:\\Users\\ohy\\AppData\\Local\\Temp\\ipykernel_17400\\3983351454.py:33: FutureWarning: The frame.append method is deprecated and will be removed from pandas in a future version. Use pandas.concat instead.\n",
      "  totalDf = totalDf.append(json_normalize(body), ignore_index=True)\n"
     ]
    },
    {
     "name": "stdout",
     "output_type": "stream",
     "text": [
      "867001\n"
     ]
    },
    {
     "name": "stderr",
     "output_type": "stream",
     "text": [
      "C:\\Users\\ohy\\AppData\\Local\\Temp\\ipykernel_17400\\3983351454.py:33: FutureWarning: pandas.io.json.json_normalize is deprecated, use pandas.json_normalize instead.\n",
      "  totalDf = totalDf.append(json_normalize(body), ignore_index=True)\n",
      "C:\\Users\\ohy\\AppData\\Local\\Temp\\ipykernel_17400\\3983351454.py:33: FutureWarning: The frame.append method is deprecated and will be removed from pandas in a future version. Use pandas.concat instead.\n",
      "  totalDf = totalDf.append(json_normalize(body), ignore_index=True)\n"
     ]
    },
    {
     "name": "stdout",
     "output_type": "stream",
     "text": [
      "868001\n"
     ]
    },
    {
     "name": "stderr",
     "output_type": "stream",
     "text": [
      "C:\\Users\\ohy\\AppData\\Local\\Temp\\ipykernel_17400\\3983351454.py:33: FutureWarning: pandas.io.json.json_normalize is deprecated, use pandas.json_normalize instead.\n",
      "  totalDf = totalDf.append(json_normalize(body), ignore_index=True)\n",
      "C:\\Users\\ohy\\AppData\\Local\\Temp\\ipykernel_17400\\3983351454.py:33: FutureWarning: The frame.append method is deprecated and will be removed from pandas in a future version. Use pandas.concat instead.\n",
      "  totalDf = totalDf.append(json_normalize(body), ignore_index=True)\n"
     ]
    },
    {
     "name": "stdout",
     "output_type": "stream",
     "text": [
      "869001\n"
     ]
    },
    {
     "name": "stderr",
     "output_type": "stream",
     "text": [
      "C:\\Users\\ohy\\AppData\\Local\\Temp\\ipykernel_17400\\3983351454.py:33: FutureWarning: pandas.io.json.json_normalize is deprecated, use pandas.json_normalize instead.\n",
      "  totalDf = totalDf.append(json_normalize(body), ignore_index=True)\n",
      "C:\\Users\\ohy\\AppData\\Local\\Temp\\ipykernel_17400\\3983351454.py:33: FutureWarning: The frame.append method is deprecated and will be removed from pandas in a future version. Use pandas.concat instead.\n",
      "  totalDf = totalDf.append(json_normalize(body), ignore_index=True)\n"
     ]
    },
    {
     "name": "stdout",
     "output_type": "stream",
     "text": [
      "870001\n"
     ]
    },
    {
     "name": "stderr",
     "output_type": "stream",
     "text": [
      "C:\\Users\\ohy\\AppData\\Local\\Temp\\ipykernel_17400\\3983351454.py:33: FutureWarning: pandas.io.json.json_normalize is deprecated, use pandas.json_normalize instead.\n",
      "  totalDf = totalDf.append(json_normalize(body), ignore_index=True)\n",
      "C:\\Users\\ohy\\AppData\\Local\\Temp\\ipykernel_17400\\3983351454.py:33: FutureWarning: The frame.append method is deprecated and will be removed from pandas in a future version. Use pandas.concat instead.\n",
      "  totalDf = totalDf.append(json_normalize(body), ignore_index=True)\n"
     ]
    },
    {
     "name": "stdout",
     "output_type": "stream",
     "text": [
      "871001\n"
     ]
    },
    {
     "name": "stderr",
     "output_type": "stream",
     "text": [
      "C:\\Users\\ohy\\AppData\\Local\\Temp\\ipykernel_17400\\3983351454.py:33: FutureWarning: pandas.io.json.json_normalize is deprecated, use pandas.json_normalize instead.\n",
      "  totalDf = totalDf.append(json_normalize(body), ignore_index=True)\n",
      "C:\\Users\\ohy\\AppData\\Local\\Temp\\ipykernel_17400\\3983351454.py:33: FutureWarning: The frame.append method is deprecated and will be removed from pandas in a future version. Use pandas.concat instead.\n",
      "  totalDf = totalDf.append(json_normalize(body), ignore_index=True)\n"
     ]
    },
    {
     "name": "stdout",
     "output_type": "stream",
     "text": [
      "872001\n"
     ]
    },
    {
     "name": "stderr",
     "output_type": "stream",
     "text": [
      "C:\\Users\\ohy\\AppData\\Local\\Temp\\ipykernel_17400\\3983351454.py:33: FutureWarning: pandas.io.json.json_normalize is deprecated, use pandas.json_normalize instead.\n",
      "  totalDf = totalDf.append(json_normalize(body), ignore_index=True)\n",
      "C:\\Users\\ohy\\AppData\\Local\\Temp\\ipykernel_17400\\3983351454.py:33: FutureWarning: The frame.append method is deprecated and will be removed from pandas in a future version. Use pandas.concat instead.\n",
      "  totalDf = totalDf.append(json_normalize(body), ignore_index=True)\n"
     ]
    },
    {
     "name": "stdout",
     "output_type": "stream",
     "text": [
      "873001\n"
     ]
    },
    {
     "name": "stderr",
     "output_type": "stream",
     "text": [
      "C:\\Users\\ohy\\AppData\\Local\\Temp\\ipykernel_17400\\3983351454.py:33: FutureWarning: pandas.io.json.json_normalize is deprecated, use pandas.json_normalize instead.\n",
      "  totalDf = totalDf.append(json_normalize(body), ignore_index=True)\n",
      "C:\\Users\\ohy\\AppData\\Local\\Temp\\ipykernel_17400\\3983351454.py:33: FutureWarning: The frame.append method is deprecated and will be removed from pandas in a future version. Use pandas.concat instead.\n",
      "  totalDf = totalDf.append(json_normalize(body), ignore_index=True)\n"
     ]
    },
    {
     "name": "stdout",
     "output_type": "stream",
     "text": [
      "874001\n"
     ]
    },
    {
     "name": "stderr",
     "output_type": "stream",
     "text": [
      "C:\\Users\\ohy\\AppData\\Local\\Temp\\ipykernel_17400\\3983351454.py:33: FutureWarning: pandas.io.json.json_normalize is deprecated, use pandas.json_normalize instead.\n",
      "  totalDf = totalDf.append(json_normalize(body), ignore_index=True)\n",
      "C:\\Users\\ohy\\AppData\\Local\\Temp\\ipykernel_17400\\3983351454.py:33: FutureWarning: The frame.append method is deprecated and will be removed from pandas in a future version. Use pandas.concat instead.\n",
      "  totalDf = totalDf.append(json_normalize(body), ignore_index=True)\n"
     ]
    },
    {
     "name": "stdout",
     "output_type": "stream",
     "text": [
      "875001\n"
     ]
    },
    {
     "name": "stderr",
     "output_type": "stream",
     "text": [
      "C:\\Users\\ohy\\AppData\\Local\\Temp\\ipykernel_17400\\3983351454.py:33: FutureWarning: pandas.io.json.json_normalize is deprecated, use pandas.json_normalize instead.\n",
      "  totalDf = totalDf.append(json_normalize(body), ignore_index=True)\n",
      "C:\\Users\\ohy\\AppData\\Local\\Temp\\ipykernel_17400\\3983351454.py:33: FutureWarning: The frame.append method is deprecated and will be removed from pandas in a future version. Use pandas.concat instead.\n",
      "  totalDf = totalDf.append(json_normalize(body), ignore_index=True)\n"
     ]
    },
    {
     "name": "stdout",
     "output_type": "stream",
     "text": [
      "876001\n"
     ]
    },
    {
     "name": "stderr",
     "output_type": "stream",
     "text": [
      "C:\\Users\\ohy\\AppData\\Local\\Temp\\ipykernel_17400\\3983351454.py:33: FutureWarning: pandas.io.json.json_normalize is deprecated, use pandas.json_normalize instead.\n",
      "  totalDf = totalDf.append(json_normalize(body), ignore_index=True)\n",
      "C:\\Users\\ohy\\AppData\\Local\\Temp\\ipykernel_17400\\3983351454.py:33: FutureWarning: The frame.append method is deprecated and will be removed from pandas in a future version. Use pandas.concat instead.\n",
      "  totalDf = totalDf.append(json_normalize(body), ignore_index=True)\n"
     ]
    },
    {
     "name": "stdout",
     "output_type": "stream",
     "text": [
      "877001\n"
     ]
    },
    {
     "name": "stderr",
     "output_type": "stream",
     "text": [
      "C:\\Users\\ohy\\AppData\\Local\\Temp\\ipykernel_17400\\3983351454.py:33: FutureWarning: pandas.io.json.json_normalize is deprecated, use pandas.json_normalize instead.\n",
      "  totalDf = totalDf.append(json_normalize(body), ignore_index=True)\n",
      "C:\\Users\\ohy\\AppData\\Local\\Temp\\ipykernel_17400\\3983351454.py:33: FutureWarning: The frame.append method is deprecated and will be removed from pandas in a future version. Use pandas.concat instead.\n",
      "  totalDf = totalDf.append(json_normalize(body), ignore_index=True)\n"
     ]
    },
    {
     "name": "stdout",
     "output_type": "stream",
     "text": [
      "878001\n"
     ]
    },
    {
     "name": "stderr",
     "output_type": "stream",
     "text": [
      "C:\\Users\\ohy\\AppData\\Local\\Temp\\ipykernel_17400\\3983351454.py:33: FutureWarning: pandas.io.json.json_normalize is deprecated, use pandas.json_normalize instead.\n",
      "  totalDf = totalDf.append(json_normalize(body), ignore_index=True)\n",
      "C:\\Users\\ohy\\AppData\\Local\\Temp\\ipykernel_17400\\3983351454.py:33: FutureWarning: The frame.append method is deprecated and will be removed from pandas in a future version. Use pandas.concat instead.\n",
      "  totalDf = totalDf.append(json_normalize(body), ignore_index=True)\n"
     ]
    },
    {
     "name": "stdout",
     "output_type": "stream",
     "text": [
      "879001\n"
     ]
    },
    {
     "name": "stderr",
     "output_type": "stream",
     "text": [
      "C:\\Users\\ohy\\AppData\\Local\\Temp\\ipykernel_17400\\3983351454.py:33: FutureWarning: pandas.io.json.json_normalize is deprecated, use pandas.json_normalize instead.\n",
      "  totalDf = totalDf.append(json_normalize(body), ignore_index=True)\n",
      "C:\\Users\\ohy\\AppData\\Local\\Temp\\ipykernel_17400\\3983351454.py:33: FutureWarning: The frame.append method is deprecated and will be removed from pandas in a future version. Use pandas.concat instead.\n",
      "  totalDf = totalDf.append(json_normalize(body), ignore_index=True)\n"
     ]
    },
    {
     "name": "stdout",
     "output_type": "stream",
     "text": [
      "880001\n"
     ]
    },
    {
     "name": "stderr",
     "output_type": "stream",
     "text": [
      "C:\\Users\\ohy\\AppData\\Local\\Temp\\ipykernel_17400\\3983351454.py:33: FutureWarning: pandas.io.json.json_normalize is deprecated, use pandas.json_normalize instead.\n",
      "  totalDf = totalDf.append(json_normalize(body), ignore_index=True)\n",
      "C:\\Users\\ohy\\AppData\\Local\\Temp\\ipykernel_17400\\3983351454.py:33: FutureWarning: The frame.append method is deprecated and will be removed from pandas in a future version. Use pandas.concat instead.\n",
      "  totalDf = totalDf.append(json_normalize(body), ignore_index=True)\n"
     ]
    },
    {
     "name": "stdout",
     "output_type": "stream",
     "text": [
      "881001\n"
     ]
    },
    {
     "name": "stderr",
     "output_type": "stream",
     "text": [
      "C:\\Users\\ohy\\AppData\\Local\\Temp\\ipykernel_17400\\3983351454.py:33: FutureWarning: pandas.io.json.json_normalize is deprecated, use pandas.json_normalize instead.\n",
      "  totalDf = totalDf.append(json_normalize(body), ignore_index=True)\n",
      "C:\\Users\\ohy\\AppData\\Local\\Temp\\ipykernel_17400\\3983351454.py:33: FutureWarning: The frame.append method is deprecated and will be removed from pandas in a future version. Use pandas.concat instead.\n",
      "  totalDf = totalDf.append(json_normalize(body), ignore_index=True)\n"
     ]
    },
    {
     "name": "stdout",
     "output_type": "stream",
     "text": [
      "882001\n"
     ]
    },
    {
     "name": "stderr",
     "output_type": "stream",
     "text": [
      "C:\\Users\\ohy\\AppData\\Local\\Temp\\ipykernel_17400\\3983351454.py:33: FutureWarning: pandas.io.json.json_normalize is deprecated, use pandas.json_normalize instead.\n",
      "  totalDf = totalDf.append(json_normalize(body), ignore_index=True)\n",
      "C:\\Users\\ohy\\AppData\\Local\\Temp\\ipykernel_17400\\3983351454.py:33: FutureWarning: The frame.append method is deprecated and will be removed from pandas in a future version. Use pandas.concat instead.\n",
      "  totalDf = totalDf.append(json_normalize(body), ignore_index=True)\n"
     ]
    },
    {
     "name": "stdout",
     "output_type": "stream",
     "text": [
      "883001\n"
     ]
    },
    {
     "name": "stderr",
     "output_type": "stream",
     "text": [
      "C:\\Users\\ohy\\AppData\\Local\\Temp\\ipykernel_17400\\3983351454.py:33: FutureWarning: pandas.io.json.json_normalize is deprecated, use pandas.json_normalize instead.\n",
      "  totalDf = totalDf.append(json_normalize(body), ignore_index=True)\n",
      "C:\\Users\\ohy\\AppData\\Local\\Temp\\ipykernel_17400\\3983351454.py:33: FutureWarning: The frame.append method is deprecated and will be removed from pandas in a future version. Use pandas.concat instead.\n",
      "  totalDf = totalDf.append(json_normalize(body), ignore_index=True)\n"
     ]
    },
    {
     "name": "stdout",
     "output_type": "stream",
     "text": [
      "884001\n"
     ]
    },
    {
     "name": "stderr",
     "output_type": "stream",
     "text": [
      "C:\\Users\\ohy\\AppData\\Local\\Temp\\ipykernel_17400\\3983351454.py:33: FutureWarning: pandas.io.json.json_normalize is deprecated, use pandas.json_normalize instead.\n",
      "  totalDf = totalDf.append(json_normalize(body), ignore_index=True)\n",
      "C:\\Users\\ohy\\AppData\\Local\\Temp\\ipykernel_17400\\3983351454.py:33: FutureWarning: The frame.append method is deprecated and will be removed from pandas in a future version. Use pandas.concat instead.\n",
      "  totalDf = totalDf.append(json_normalize(body), ignore_index=True)\n"
     ]
    },
    {
     "name": "stdout",
     "output_type": "stream",
     "text": [
      "885001\n"
     ]
    },
    {
     "name": "stderr",
     "output_type": "stream",
     "text": [
      "C:\\Users\\ohy\\AppData\\Local\\Temp\\ipykernel_17400\\3983351454.py:33: FutureWarning: pandas.io.json.json_normalize is deprecated, use pandas.json_normalize instead.\n",
      "  totalDf = totalDf.append(json_normalize(body), ignore_index=True)\n",
      "C:\\Users\\ohy\\AppData\\Local\\Temp\\ipykernel_17400\\3983351454.py:33: FutureWarning: The frame.append method is deprecated and will be removed from pandas in a future version. Use pandas.concat instead.\n",
      "  totalDf = totalDf.append(json_normalize(body), ignore_index=True)\n"
     ]
    },
    {
     "name": "stdout",
     "output_type": "stream",
     "text": [
      "886001\n"
     ]
    },
    {
     "name": "stderr",
     "output_type": "stream",
     "text": [
      "C:\\Users\\ohy\\AppData\\Local\\Temp\\ipykernel_17400\\3983351454.py:33: FutureWarning: pandas.io.json.json_normalize is deprecated, use pandas.json_normalize instead.\n",
      "  totalDf = totalDf.append(json_normalize(body), ignore_index=True)\n",
      "C:\\Users\\ohy\\AppData\\Local\\Temp\\ipykernel_17400\\3983351454.py:33: FutureWarning: The frame.append method is deprecated and will be removed from pandas in a future version. Use pandas.concat instead.\n",
      "  totalDf = totalDf.append(json_normalize(body), ignore_index=True)\n"
     ]
    },
    {
     "name": "stdout",
     "output_type": "stream",
     "text": [
      "887001\n"
     ]
    },
    {
     "name": "stderr",
     "output_type": "stream",
     "text": [
      "C:\\Users\\ohy\\AppData\\Local\\Temp\\ipykernel_17400\\3983351454.py:33: FutureWarning: pandas.io.json.json_normalize is deprecated, use pandas.json_normalize instead.\n",
      "  totalDf = totalDf.append(json_normalize(body), ignore_index=True)\n",
      "C:\\Users\\ohy\\AppData\\Local\\Temp\\ipykernel_17400\\3983351454.py:33: FutureWarning: The frame.append method is deprecated and will be removed from pandas in a future version. Use pandas.concat instead.\n",
      "  totalDf = totalDf.append(json_normalize(body), ignore_index=True)\n"
     ]
    },
    {
     "name": "stdout",
     "output_type": "stream",
     "text": [
      "888001\n"
     ]
    },
    {
     "name": "stderr",
     "output_type": "stream",
     "text": [
      "C:\\Users\\ohy\\AppData\\Local\\Temp\\ipykernel_17400\\3983351454.py:33: FutureWarning: pandas.io.json.json_normalize is deprecated, use pandas.json_normalize instead.\n",
      "  totalDf = totalDf.append(json_normalize(body), ignore_index=True)\n",
      "C:\\Users\\ohy\\AppData\\Local\\Temp\\ipykernel_17400\\3983351454.py:33: FutureWarning: The frame.append method is deprecated and will be removed from pandas in a future version. Use pandas.concat instead.\n",
      "  totalDf = totalDf.append(json_normalize(body), ignore_index=True)\n"
     ]
    },
    {
     "name": "stdout",
     "output_type": "stream",
     "text": [
      "889001\n"
     ]
    },
    {
     "name": "stderr",
     "output_type": "stream",
     "text": [
      "C:\\Users\\ohy\\AppData\\Local\\Temp\\ipykernel_17400\\3983351454.py:33: FutureWarning: pandas.io.json.json_normalize is deprecated, use pandas.json_normalize instead.\n",
      "  totalDf = totalDf.append(json_normalize(body), ignore_index=True)\n",
      "C:\\Users\\ohy\\AppData\\Local\\Temp\\ipykernel_17400\\3983351454.py:33: FutureWarning: The frame.append method is deprecated and will be removed from pandas in a future version. Use pandas.concat instead.\n",
      "  totalDf = totalDf.append(json_normalize(body), ignore_index=True)\n"
     ]
    },
    {
     "name": "stdout",
     "output_type": "stream",
     "text": [
      "890001\n"
     ]
    },
    {
     "name": "stderr",
     "output_type": "stream",
     "text": [
      "C:\\Users\\ohy\\AppData\\Local\\Temp\\ipykernel_17400\\3983351454.py:33: FutureWarning: pandas.io.json.json_normalize is deprecated, use pandas.json_normalize instead.\n",
      "  totalDf = totalDf.append(json_normalize(body), ignore_index=True)\n",
      "C:\\Users\\ohy\\AppData\\Local\\Temp\\ipykernel_17400\\3983351454.py:33: FutureWarning: The frame.append method is deprecated and will be removed from pandas in a future version. Use pandas.concat instead.\n",
      "  totalDf = totalDf.append(json_normalize(body), ignore_index=True)\n"
     ]
    },
    {
     "name": "stdout",
     "output_type": "stream",
     "text": [
      "891001\n"
     ]
    },
    {
     "name": "stderr",
     "output_type": "stream",
     "text": [
      "C:\\Users\\ohy\\AppData\\Local\\Temp\\ipykernel_17400\\3983351454.py:33: FutureWarning: pandas.io.json.json_normalize is deprecated, use pandas.json_normalize instead.\n",
      "  totalDf = totalDf.append(json_normalize(body), ignore_index=True)\n",
      "C:\\Users\\ohy\\AppData\\Local\\Temp\\ipykernel_17400\\3983351454.py:33: FutureWarning: The frame.append method is deprecated and will be removed from pandas in a future version. Use pandas.concat instead.\n",
      "  totalDf = totalDf.append(json_normalize(body), ignore_index=True)\n"
     ]
    },
    {
     "name": "stdout",
     "output_type": "stream",
     "text": [
      "892001\n"
     ]
    },
    {
     "name": "stderr",
     "output_type": "stream",
     "text": [
      "C:\\Users\\ohy\\AppData\\Local\\Temp\\ipykernel_17400\\3983351454.py:33: FutureWarning: pandas.io.json.json_normalize is deprecated, use pandas.json_normalize instead.\n",
      "  totalDf = totalDf.append(json_normalize(body), ignore_index=True)\n",
      "C:\\Users\\ohy\\AppData\\Local\\Temp\\ipykernel_17400\\3983351454.py:33: FutureWarning: The frame.append method is deprecated and will be removed from pandas in a future version. Use pandas.concat instead.\n",
      "  totalDf = totalDf.append(json_normalize(body), ignore_index=True)\n"
     ]
    },
    {
     "name": "stdout",
     "output_type": "stream",
     "text": [
      "893001\n"
     ]
    },
    {
     "name": "stderr",
     "output_type": "stream",
     "text": [
      "C:\\Users\\ohy\\AppData\\Local\\Temp\\ipykernel_17400\\3983351454.py:33: FutureWarning: pandas.io.json.json_normalize is deprecated, use pandas.json_normalize instead.\n",
      "  totalDf = totalDf.append(json_normalize(body), ignore_index=True)\n",
      "C:\\Users\\ohy\\AppData\\Local\\Temp\\ipykernel_17400\\3983351454.py:33: FutureWarning: The frame.append method is deprecated and will be removed from pandas in a future version. Use pandas.concat instead.\n",
      "  totalDf = totalDf.append(json_normalize(body), ignore_index=True)\n"
     ]
    },
    {
     "name": "stdout",
     "output_type": "stream",
     "text": [
      "894001\n"
     ]
    },
    {
     "name": "stderr",
     "output_type": "stream",
     "text": [
      "C:\\Users\\ohy\\AppData\\Local\\Temp\\ipykernel_17400\\3983351454.py:33: FutureWarning: pandas.io.json.json_normalize is deprecated, use pandas.json_normalize instead.\n",
      "  totalDf = totalDf.append(json_normalize(body), ignore_index=True)\n",
      "C:\\Users\\ohy\\AppData\\Local\\Temp\\ipykernel_17400\\3983351454.py:33: FutureWarning: The frame.append method is deprecated and will be removed from pandas in a future version. Use pandas.concat instead.\n",
      "  totalDf = totalDf.append(json_normalize(body), ignore_index=True)\n"
     ]
    },
    {
     "name": "stdout",
     "output_type": "stream",
     "text": [
      "895001\n"
     ]
    },
    {
     "name": "stderr",
     "output_type": "stream",
     "text": [
      "C:\\Users\\ohy\\AppData\\Local\\Temp\\ipykernel_17400\\3983351454.py:33: FutureWarning: pandas.io.json.json_normalize is deprecated, use pandas.json_normalize instead.\n",
      "  totalDf = totalDf.append(json_normalize(body), ignore_index=True)\n",
      "C:\\Users\\ohy\\AppData\\Local\\Temp\\ipykernel_17400\\3983351454.py:33: FutureWarning: The frame.append method is deprecated and will be removed from pandas in a future version. Use pandas.concat instead.\n",
      "  totalDf = totalDf.append(json_normalize(body), ignore_index=True)\n"
     ]
    },
    {
     "name": "stdout",
     "output_type": "stream",
     "text": [
      "896001\n"
     ]
    },
    {
     "name": "stderr",
     "output_type": "stream",
     "text": [
      "C:\\Users\\ohy\\AppData\\Local\\Temp\\ipykernel_17400\\3983351454.py:33: FutureWarning: pandas.io.json.json_normalize is deprecated, use pandas.json_normalize instead.\n",
      "  totalDf = totalDf.append(json_normalize(body), ignore_index=True)\n",
      "C:\\Users\\ohy\\AppData\\Local\\Temp\\ipykernel_17400\\3983351454.py:33: FutureWarning: The frame.append method is deprecated and will be removed from pandas in a future version. Use pandas.concat instead.\n",
      "  totalDf = totalDf.append(json_normalize(body), ignore_index=True)\n"
     ]
    },
    {
     "name": "stdout",
     "output_type": "stream",
     "text": [
      "897001\n"
     ]
    },
    {
     "name": "stderr",
     "output_type": "stream",
     "text": [
      "C:\\Users\\ohy\\AppData\\Local\\Temp\\ipykernel_17400\\3983351454.py:33: FutureWarning: pandas.io.json.json_normalize is deprecated, use pandas.json_normalize instead.\n",
      "  totalDf = totalDf.append(json_normalize(body), ignore_index=True)\n",
      "C:\\Users\\ohy\\AppData\\Local\\Temp\\ipykernel_17400\\3983351454.py:33: FutureWarning: The frame.append method is deprecated and will be removed from pandas in a future version. Use pandas.concat instead.\n",
      "  totalDf = totalDf.append(json_normalize(body), ignore_index=True)\n"
     ]
    },
    {
     "name": "stdout",
     "output_type": "stream",
     "text": [
      "898001\n"
     ]
    },
    {
     "name": "stderr",
     "output_type": "stream",
     "text": [
      "C:\\Users\\ohy\\AppData\\Local\\Temp\\ipykernel_17400\\3983351454.py:33: FutureWarning: pandas.io.json.json_normalize is deprecated, use pandas.json_normalize instead.\n",
      "  totalDf = totalDf.append(json_normalize(body), ignore_index=True)\n",
      "C:\\Users\\ohy\\AppData\\Local\\Temp\\ipykernel_17400\\3983351454.py:33: FutureWarning: The frame.append method is deprecated and will be removed from pandas in a future version. Use pandas.concat instead.\n",
      "  totalDf = totalDf.append(json_normalize(body), ignore_index=True)\n"
     ]
    },
    {
     "name": "stdout",
     "output_type": "stream",
     "text": [
      "899001\n"
     ]
    },
    {
     "name": "stderr",
     "output_type": "stream",
     "text": [
      "C:\\Users\\ohy\\AppData\\Local\\Temp\\ipykernel_17400\\3983351454.py:33: FutureWarning: pandas.io.json.json_normalize is deprecated, use pandas.json_normalize instead.\n",
      "  totalDf = totalDf.append(json_normalize(body), ignore_index=True)\n",
      "C:\\Users\\ohy\\AppData\\Local\\Temp\\ipykernel_17400\\3983351454.py:33: FutureWarning: The frame.append method is deprecated and will be removed from pandas in a future version. Use pandas.concat instead.\n",
      "  totalDf = totalDf.append(json_normalize(body), ignore_index=True)\n"
     ]
    },
    {
     "name": "stdout",
     "output_type": "stream",
     "text": [
      "900001\n"
     ]
    },
    {
     "name": "stderr",
     "output_type": "stream",
     "text": [
      "C:\\Users\\ohy\\AppData\\Local\\Temp\\ipykernel_17400\\3983351454.py:33: FutureWarning: pandas.io.json.json_normalize is deprecated, use pandas.json_normalize instead.\n",
      "  totalDf = totalDf.append(json_normalize(body), ignore_index=True)\n",
      "C:\\Users\\ohy\\AppData\\Local\\Temp\\ipykernel_17400\\3983351454.py:33: FutureWarning: The frame.append method is deprecated and will be removed from pandas in a future version. Use pandas.concat instead.\n",
      "  totalDf = totalDf.append(json_normalize(body), ignore_index=True)\n"
     ]
    },
    {
     "name": "stdout",
     "output_type": "stream",
     "text": [
      "901001\n"
     ]
    },
    {
     "name": "stderr",
     "output_type": "stream",
     "text": [
      "C:\\Users\\ohy\\AppData\\Local\\Temp\\ipykernel_17400\\3983351454.py:33: FutureWarning: pandas.io.json.json_normalize is deprecated, use pandas.json_normalize instead.\n",
      "  totalDf = totalDf.append(json_normalize(body), ignore_index=True)\n",
      "C:\\Users\\ohy\\AppData\\Local\\Temp\\ipykernel_17400\\3983351454.py:33: FutureWarning: The frame.append method is deprecated and will be removed from pandas in a future version. Use pandas.concat instead.\n",
      "  totalDf = totalDf.append(json_normalize(body), ignore_index=True)\n"
     ]
    },
    {
     "name": "stdout",
     "output_type": "stream",
     "text": [
      "902001\n"
     ]
    },
    {
     "name": "stderr",
     "output_type": "stream",
     "text": [
      "C:\\Users\\ohy\\AppData\\Local\\Temp\\ipykernel_17400\\3983351454.py:33: FutureWarning: pandas.io.json.json_normalize is deprecated, use pandas.json_normalize instead.\n",
      "  totalDf = totalDf.append(json_normalize(body), ignore_index=True)\n",
      "C:\\Users\\ohy\\AppData\\Local\\Temp\\ipykernel_17400\\3983351454.py:33: FutureWarning: The frame.append method is deprecated and will be removed from pandas in a future version. Use pandas.concat instead.\n",
      "  totalDf = totalDf.append(json_normalize(body), ignore_index=True)\n"
     ]
    },
    {
     "name": "stdout",
     "output_type": "stream",
     "text": [
      "903001\n"
     ]
    },
    {
     "name": "stderr",
     "output_type": "stream",
     "text": [
      "C:\\Users\\ohy\\AppData\\Local\\Temp\\ipykernel_17400\\3983351454.py:33: FutureWarning: pandas.io.json.json_normalize is deprecated, use pandas.json_normalize instead.\n",
      "  totalDf = totalDf.append(json_normalize(body), ignore_index=True)\n",
      "C:\\Users\\ohy\\AppData\\Local\\Temp\\ipykernel_17400\\3983351454.py:33: FutureWarning: The frame.append method is deprecated and will be removed from pandas in a future version. Use pandas.concat instead.\n",
      "  totalDf = totalDf.append(json_normalize(body), ignore_index=True)\n"
     ]
    },
    {
     "name": "stdout",
     "output_type": "stream",
     "text": [
      "904001\n"
     ]
    },
    {
     "name": "stderr",
     "output_type": "stream",
     "text": [
      "C:\\Users\\ohy\\AppData\\Local\\Temp\\ipykernel_17400\\3983351454.py:33: FutureWarning: pandas.io.json.json_normalize is deprecated, use pandas.json_normalize instead.\n",
      "  totalDf = totalDf.append(json_normalize(body), ignore_index=True)\n",
      "C:\\Users\\ohy\\AppData\\Local\\Temp\\ipykernel_17400\\3983351454.py:33: FutureWarning: The frame.append method is deprecated and will be removed from pandas in a future version. Use pandas.concat instead.\n",
      "  totalDf = totalDf.append(json_normalize(body), ignore_index=True)\n"
     ]
    },
    {
     "name": "stdout",
     "output_type": "stream",
     "text": [
      "905001\n"
     ]
    },
    {
     "name": "stderr",
     "output_type": "stream",
     "text": [
      "C:\\Users\\ohy\\AppData\\Local\\Temp\\ipykernel_17400\\3983351454.py:33: FutureWarning: pandas.io.json.json_normalize is deprecated, use pandas.json_normalize instead.\n",
      "  totalDf = totalDf.append(json_normalize(body), ignore_index=True)\n",
      "C:\\Users\\ohy\\AppData\\Local\\Temp\\ipykernel_17400\\3983351454.py:33: FutureWarning: The frame.append method is deprecated and will be removed from pandas in a future version. Use pandas.concat instead.\n",
      "  totalDf = totalDf.append(json_normalize(body), ignore_index=True)\n"
     ]
    },
    {
     "name": "stdout",
     "output_type": "stream",
     "text": [
      "906001\n"
     ]
    },
    {
     "name": "stderr",
     "output_type": "stream",
     "text": [
      "C:\\Users\\ohy\\AppData\\Local\\Temp\\ipykernel_17400\\3983351454.py:33: FutureWarning: pandas.io.json.json_normalize is deprecated, use pandas.json_normalize instead.\n",
      "  totalDf = totalDf.append(json_normalize(body), ignore_index=True)\n",
      "C:\\Users\\ohy\\AppData\\Local\\Temp\\ipykernel_17400\\3983351454.py:33: FutureWarning: The frame.append method is deprecated and will be removed from pandas in a future version. Use pandas.concat instead.\n",
      "  totalDf = totalDf.append(json_normalize(body), ignore_index=True)\n"
     ]
    },
    {
     "name": "stdout",
     "output_type": "stream",
     "text": [
      "907001\n"
     ]
    },
    {
     "name": "stderr",
     "output_type": "stream",
     "text": [
      "C:\\Users\\ohy\\AppData\\Local\\Temp\\ipykernel_17400\\3983351454.py:33: FutureWarning: pandas.io.json.json_normalize is deprecated, use pandas.json_normalize instead.\n",
      "  totalDf = totalDf.append(json_normalize(body), ignore_index=True)\n",
      "C:\\Users\\ohy\\AppData\\Local\\Temp\\ipykernel_17400\\3983351454.py:33: FutureWarning: The frame.append method is deprecated and will be removed from pandas in a future version. Use pandas.concat instead.\n",
      "  totalDf = totalDf.append(json_normalize(body), ignore_index=True)\n"
     ]
    },
    {
     "name": "stdout",
     "output_type": "stream",
     "text": [
      "908001\n"
     ]
    },
    {
     "name": "stderr",
     "output_type": "stream",
     "text": [
      "C:\\Users\\ohy\\AppData\\Local\\Temp\\ipykernel_17400\\3983351454.py:33: FutureWarning: pandas.io.json.json_normalize is deprecated, use pandas.json_normalize instead.\n",
      "  totalDf = totalDf.append(json_normalize(body), ignore_index=True)\n",
      "C:\\Users\\ohy\\AppData\\Local\\Temp\\ipykernel_17400\\3983351454.py:33: FutureWarning: The frame.append method is deprecated and will be removed from pandas in a future version. Use pandas.concat instead.\n",
      "  totalDf = totalDf.append(json_normalize(body), ignore_index=True)\n"
     ]
    },
    {
     "name": "stdout",
     "output_type": "stream",
     "text": [
      "909001\n"
     ]
    },
    {
     "name": "stderr",
     "output_type": "stream",
     "text": [
      "C:\\Users\\ohy\\AppData\\Local\\Temp\\ipykernel_17400\\3983351454.py:33: FutureWarning: pandas.io.json.json_normalize is deprecated, use pandas.json_normalize instead.\n",
      "  totalDf = totalDf.append(json_normalize(body), ignore_index=True)\n",
      "C:\\Users\\ohy\\AppData\\Local\\Temp\\ipykernel_17400\\3983351454.py:33: FutureWarning: The frame.append method is deprecated and will be removed from pandas in a future version. Use pandas.concat instead.\n",
      "  totalDf = totalDf.append(json_normalize(body), ignore_index=True)\n"
     ]
    },
    {
     "name": "stdout",
     "output_type": "stream",
     "text": [
      "910001\n"
     ]
    },
    {
     "name": "stderr",
     "output_type": "stream",
     "text": [
      "C:\\Users\\ohy\\AppData\\Local\\Temp\\ipykernel_17400\\3983351454.py:33: FutureWarning: pandas.io.json.json_normalize is deprecated, use pandas.json_normalize instead.\n",
      "  totalDf = totalDf.append(json_normalize(body), ignore_index=True)\n",
      "C:\\Users\\ohy\\AppData\\Local\\Temp\\ipykernel_17400\\3983351454.py:33: FutureWarning: The frame.append method is deprecated and will be removed from pandas in a future version. Use pandas.concat instead.\n",
      "  totalDf = totalDf.append(json_normalize(body), ignore_index=True)\n"
     ]
    },
    {
     "name": "stdout",
     "output_type": "stream",
     "text": [
      "911001\n"
     ]
    },
    {
     "name": "stderr",
     "output_type": "stream",
     "text": [
      "C:\\Users\\ohy\\AppData\\Local\\Temp\\ipykernel_17400\\3983351454.py:33: FutureWarning: pandas.io.json.json_normalize is deprecated, use pandas.json_normalize instead.\n",
      "  totalDf = totalDf.append(json_normalize(body), ignore_index=True)\n",
      "C:\\Users\\ohy\\AppData\\Local\\Temp\\ipykernel_17400\\3983351454.py:33: FutureWarning: The frame.append method is deprecated and will be removed from pandas in a future version. Use pandas.concat instead.\n",
      "  totalDf = totalDf.append(json_normalize(body), ignore_index=True)\n"
     ]
    },
    {
     "name": "stdout",
     "output_type": "stream",
     "text": [
      "912001\n"
     ]
    },
    {
     "name": "stderr",
     "output_type": "stream",
     "text": [
      "C:\\Users\\ohy\\AppData\\Local\\Temp\\ipykernel_17400\\3983351454.py:33: FutureWarning: pandas.io.json.json_normalize is deprecated, use pandas.json_normalize instead.\n",
      "  totalDf = totalDf.append(json_normalize(body), ignore_index=True)\n",
      "C:\\Users\\ohy\\AppData\\Local\\Temp\\ipykernel_17400\\3983351454.py:33: FutureWarning: The frame.append method is deprecated and will be removed from pandas in a future version. Use pandas.concat instead.\n",
      "  totalDf = totalDf.append(json_normalize(body), ignore_index=True)\n"
     ]
    },
    {
     "name": "stdout",
     "output_type": "stream",
     "text": [
      "913001\n"
     ]
    },
    {
     "name": "stderr",
     "output_type": "stream",
     "text": [
      "C:\\Users\\ohy\\AppData\\Local\\Temp\\ipykernel_17400\\3983351454.py:33: FutureWarning: pandas.io.json.json_normalize is deprecated, use pandas.json_normalize instead.\n",
      "  totalDf = totalDf.append(json_normalize(body), ignore_index=True)\n",
      "C:\\Users\\ohy\\AppData\\Local\\Temp\\ipykernel_17400\\3983351454.py:33: FutureWarning: The frame.append method is deprecated and will be removed from pandas in a future version. Use pandas.concat instead.\n",
      "  totalDf = totalDf.append(json_normalize(body), ignore_index=True)\n"
     ]
    },
    {
     "name": "stdout",
     "output_type": "stream",
     "text": [
      "914001\n"
     ]
    },
    {
     "name": "stderr",
     "output_type": "stream",
     "text": [
      "C:\\Users\\ohy\\AppData\\Local\\Temp\\ipykernel_17400\\3983351454.py:33: FutureWarning: pandas.io.json.json_normalize is deprecated, use pandas.json_normalize instead.\n",
      "  totalDf = totalDf.append(json_normalize(body), ignore_index=True)\n",
      "C:\\Users\\ohy\\AppData\\Local\\Temp\\ipykernel_17400\\3983351454.py:33: FutureWarning: The frame.append method is deprecated and will be removed from pandas in a future version. Use pandas.concat instead.\n",
      "  totalDf = totalDf.append(json_normalize(body), ignore_index=True)\n"
     ]
    },
    {
     "name": "stdout",
     "output_type": "stream",
     "text": [
      "915001\n"
     ]
    },
    {
     "name": "stderr",
     "output_type": "stream",
     "text": [
      "C:\\Users\\ohy\\AppData\\Local\\Temp\\ipykernel_17400\\3983351454.py:33: FutureWarning: pandas.io.json.json_normalize is deprecated, use pandas.json_normalize instead.\n",
      "  totalDf = totalDf.append(json_normalize(body), ignore_index=True)\n",
      "C:\\Users\\ohy\\AppData\\Local\\Temp\\ipykernel_17400\\3983351454.py:33: FutureWarning: The frame.append method is deprecated and will be removed from pandas in a future version. Use pandas.concat instead.\n",
      "  totalDf = totalDf.append(json_normalize(body), ignore_index=True)\n"
     ]
    },
    {
     "name": "stdout",
     "output_type": "stream",
     "text": [
      "916001\n"
     ]
    },
    {
     "name": "stderr",
     "output_type": "stream",
     "text": [
      "C:\\Users\\ohy\\AppData\\Local\\Temp\\ipykernel_17400\\3983351454.py:33: FutureWarning: pandas.io.json.json_normalize is deprecated, use pandas.json_normalize instead.\n",
      "  totalDf = totalDf.append(json_normalize(body), ignore_index=True)\n",
      "C:\\Users\\ohy\\AppData\\Local\\Temp\\ipykernel_17400\\3983351454.py:33: FutureWarning: The frame.append method is deprecated and will be removed from pandas in a future version. Use pandas.concat instead.\n",
      "  totalDf = totalDf.append(json_normalize(body), ignore_index=True)\n"
     ]
    },
    {
     "name": "stdout",
     "output_type": "stream",
     "text": [
      "917001\n"
     ]
    },
    {
     "name": "stderr",
     "output_type": "stream",
     "text": [
      "C:\\Users\\ohy\\AppData\\Local\\Temp\\ipykernel_17400\\3983351454.py:33: FutureWarning: pandas.io.json.json_normalize is deprecated, use pandas.json_normalize instead.\n",
      "  totalDf = totalDf.append(json_normalize(body), ignore_index=True)\n",
      "C:\\Users\\ohy\\AppData\\Local\\Temp\\ipykernel_17400\\3983351454.py:33: FutureWarning: The frame.append method is deprecated and will be removed from pandas in a future version. Use pandas.concat instead.\n",
      "  totalDf = totalDf.append(json_normalize(body), ignore_index=True)\n"
     ]
    },
    {
     "name": "stdout",
     "output_type": "stream",
     "text": [
      "918001\n"
     ]
    },
    {
     "name": "stderr",
     "output_type": "stream",
     "text": [
      "C:\\Users\\ohy\\AppData\\Local\\Temp\\ipykernel_17400\\3983351454.py:33: FutureWarning: pandas.io.json.json_normalize is deprecated, use pandas.json_normalize instead.\n",
      "  totalDf = totalDf.append(json_normalize(body), ignore_index=True)\n",
      "C:\\Users\\ohy\\AppData\\Local\\Temp\\ipykernel_17400\\3983351454.py:33: FutureWarning: The frame.append method is deprecated and will be removed from pandas in a future version. Use pandas.concat instead.\n",
      "  totalDf = totalDf.append(json_normalize(body), ignore_index=True)\n"
     ]
    },
    {
     "name": "stdout",
     "output_type": "stream",
     "text": [
      "919001\n"
     ]
    },
    {
     "name": "stderr",
     "output_type": "stream",
     "text": [
      "C:\\Users\\ohy\\AppData\\Local\\Temp\\ipykernel_17400\\3983351454.py:33: FutureWarning: pandas.io.json.json_normalize is deprecated, use pandas.json_normalize instead.\n",
      "  totalDf = totalDf.append(json_normalize(body), ignore_index=True)\n",
      "C:\\Users\\ohy\\AppData\\Local\\Temp\\ipykernel_17400\\3983351454.py:33: FutureWarning: The frame.append method is deprecated and will be removed from pandas in a future version. Use pandas.concat instead.\n",
      "  totalDf = totalDf.append(json_normalize(body), ignore_index=True)\n"
     ]
    },
    {
     "name": "stdout",
     "output_type": "stream",
     "text": [
      "920001\n"
     ]
    },
    {
     "name": "stderr",
     "output_type": "stream",
     "text": [
      "C:\\Users\\ohy\\AppData\\Local\\Temp\\ipykernel_17400\\3983351454.py:33: FutureWarning: pandas.io.json.json_normalize is deprecated, use pandas.json_normalize instead.\n",
      "  totalDf = totalDf.append(json_normalize(body), ignore_index=True)\n",
      "C:\\Users\\ohy\\AppData\\Local\\Temp\\ipykernel_17400\\3983351454.py:33: FutureWarning: The frame.append method is deprecated and will be removed from pandas in a future version. Use pandas.concat instead.\n",
      "  totalDf = totalDf.append(json_normalize(body), ignore_index=True)\n"
     ]
    },
    {
     "name": "stdout",
     "output_type": "stream",
     "text": [
      "921001\n"
     ]
    },
    {
     "name": "stderr",
     "output_type": "stream",
     "text": [
      "C:\\Users\\ohy\\AppData\\Local\\Temp\\ipykernel_17400\\3983351454.py:33: FutureWarning: pandas.io.json.json_normalize is deprecated, use pandas.json_normalize instead.\n",
      "  totalDf = totalDf.append(json_normalize(body), ignore_index=True)\n",
      "C:\\Users\\ohy\\AppData\\Local\\Temp\\ipykernel_17400\\3983351454.py:33: FutureWarning: The frame.append method is deprecated and will be removed from pandas in a future version. Use pandas.concat instead.\n",
      "  totalDf = totalDf.append(json_normalize(body), ignore_index=True)\n"
     ]
    },
    {
     "name": "stdout",
     "output_type": "stream",
     "text": [
      "922001\n"
     ]
    },
    {
     "name": "stderr",
     "output_type": "stream",
     "text": [
      "C:\\Users\\ohy\\AppData\\Local\\Temp\\ipykernel_17400\\3983351454.py:33: FutureWarning: pandas.io.json.json_normalize is deprecated, use pandas.json_normalize instead.\n",
      "  totalDf = totalDf.append(json_normalize(body), ignore_index=True)\n",
      "C:\\Users\\ohy\\AppData\\Local\\Temp\\ipykernel_17400\\3983351454.py:33: FutureWarning: The frame.append method is deprecated and will be removed from pandas in a future version. Use pandas.concat instead.\n",
      "  totalDf = totalDf.append(json_normalize(body), ignore_index=True)\n"
     ]
    },
    {
     "name": "stdout",
     "output_type": "stream",
     "text": [
      "923001\n"
     ]
    },
    {
     "name": "stderr",
     "output_type": "stream",
     "text": [
      "C:\\Users\\ohy\\AppData\\Local\\Temp\\ipykernel_17400\\3983351454.py:33: FutureWarning: pandas.io.json.json_normalize is deprecated, use pandas.json_normalize instead.\n",
      "  totalDf = totalDf.append(json_normalize(body), ignore_index=True)\n",
      "C:\\Users\\ohy\\AppData\\Local\\Temp\\ipykernel_17400\\3983351454.py:33: FutureWarning: The frame.append method is deprecated and will be removed from pandas in a future version. Use pandas.concat instead.\n",
      "  totalDf = totalDf.append(json_normalize(body), ignore_index=True)\n"
     ]
    },
    {
     "name": "stdout",
     "output_type": "stream",
     "text": [
      "924001\n"
     ]
    },
    {
     "name": "stderr",
     "output_type": "stream",
     "text": [
      "C:\\Users\\ohy\\AppData\\Local\\Temp\\ipykernel_17400\\3983351454.py:33: FutureWarning: pandas.io.json.json_normalize is deprecated, use pandas.json_normalize instead.\n",
      "  totalDf = totalDf.append(json_normalize(body), ignore_index=True)\n",
      "C:\\Users\\ohy\\AppData\\Local\\Temp\\ipykernel_17400\\3983351454.py:33: FutureWarning: The frame.append method is deprecated and will be removed from pandas in a future version. Use pandas.concat instead.\n",
      "  totalDf = totalDf.append(json_normalize(body), ignore_index=True)\n"
     ]
    },
    {
     "name": "stdout",
     "output_type": "stream",
     "text": [
      "925001\n"
     ]
    },
    {
     "name": "stderr",
     "output_type": "stream",
     "text": [
      "C:\\Users\\ohy\\AppData\\Local\\Temp\\ipykernel_17400\\3983351454.py:33: FutureWarning: pandas.io.json.json_normalize is deprecated, use pandas.json_normalize instead.\n",
      "  totalDf = totalDf.append(json_normalize(body), ignore_index=True)\n",
      "C:\\Users\\ohy\\AppData\\Local\\Temp\\ipykernel_17400\\3983351454.py:33: FutureWarning: The frame.append method is deprecated and will be removed from pandas in a future version. Use pandas.concat instead.\n",
      "  totalDf = totalDf.append(json_normalize(body), ignore_index=True)\n"
     ]
    },
    {
     "name": "stdout",
     "output_type": "stream",
     "text": [
      "926001\n"
     ]
    },
    {
     "name": "stderr",
     "output_type": "stream",
     "text": [
      "C:\\Users\\ohy\\AppData\\Local\\Temp\\ipykernel_17400\\3983351454.py:33: FutureWarning: pandas.io.json.json_normalize is deprecated, use pandas.json_normalize instead.\n",
      "  totalDf = totalDf.append(json_normalize(body), ignore_index=True)\n",
      "C:\\Users\\ohy\\AppData\\Local\\Temp\\ipykernel_17400\\3983351454.py:33: FutureWarning: The frame.append method is deprecated and will be removed from pandas in a future version. Use pandas.concat instead.\n",
      "  totalDf = totalDf.append(json_normalize(body), ignore_index=True)\n"
     ]
    },
    {
     "name": "stdout",
     "output_type": "stream",
     "text": [
      "927001\n"
     ]
    },
    {
     "name": "stderr",
     "output_type": "stream",
     "text": [
      "C:\\Users\\ohy\\AppData\\Local\\Temp\\ipykernel_17400\\3983351454.py:33: FutureWarning: pandas.io.json.json_normalize is deprecated, use pandas.json_normalize instead.\n",
      "  totalDf = totalDf.append(json_normalize(body), ignore_index=True)\n",
      "C:\\Users\\ohy\\AppData\\Local\\Temp\\ipykernel_17400\\3983351454.py:33: FutureWarning: The frame.append method is deprecated and will be removed from pandas in a future version. Use pandas.concat instead.\n",
      "  totalDf = totalDf.append(json_normalize(body), ignore_index=True)\n"
     ]
    },
    {
     "name": "stdout",
     "output_type": "stream",
     "text": [
      "928001\n"
     ]
    },
    {
     "name": "stderr",
     "output_type": "stream",
     "text": [
      "C:\\Users\\ohy\\AppData\\Local\\Temp\\ipykernel_17400\\3983351454.py:33: FutureWarning: pandas.io.json.json_normalize is deprecated, use pandas.json_normalize instead.\n",
      "  totalDf = totalDf.append(json_normalize(body), ignore_index=True)\n",
      "C:\\Users\\ohy\\AppData\\Local\\Temp\\ipykernel_17400\\3983351454.py:33: FutureWarning: The frame.append method is deprecated and will be removed from pandas in a future version. Use pandas.concat instead.\n",
      "  totalDf = totalDf.append(json_normalize(body), ignore_index=True)\n"
     ]
    },
    {
     "name": "stdout",
     "output_type": "stream",
     "text": [
      "929001\n"
     ]
    },
    {
     "name": "stderr",
     "output_type": "stream",
     "text": [
      "C:\\Users\\ohy\\AppData\\Local\\Temp\\ipykernel_17400\\3983351454.py:33: FutureWarning: pandas.io.json.json_normalize is deprecated, use pandas.json_normalize instead.\n",
      "  totalDf = totalDf.append(json_normalize(body), ignore_index=True)\n",
      "C:\\Users\\ohy\\AppData\\Local\\Temp\\ipykernel_17400\\3983351454.py:33: FutureWarning: The frame.append method is deprecated and will be removed from pandas in a future version. Use pandas.concat instead.\n",
      "  totalDf = totalDf.append(json_normalize(body), ignore_index=True)\n"
     ]
    },
    {
     "name": "stdout",
     "output_type": "stream",
     "text": [
      "930001\n"
     ]
    },
    {
     "name": "stderr",
     "output_type": "stream",
     "text": [
      "C:\\Users\\ohy\\AppData\\Local\\Temp\\ipykernel_17400\\3983351454.py:33: FutureWarning: pandas.io.json.json_normalize is deprecated, use pandas.json_normalize instead.\n",
      "  totalDf = totalDf.append(json_normalize(body), ignore_index=True)\n",
      "C:\\Users\\ohy\\AppData\\Local\\Temp\\ipykernel_17400\\3983351454.py:33: FutureWarning: The frame.append method is deprecated and will be removed from pandas in a future version. Use pandas.concat instead.\n",
      "  totalDf = totalDf.append(json_normalize(body), ignore_index=True)\n"
     ]
    },
    {
     "name": "stdout",
     "output_type": "stream",
     "text": [
      "931001\n"
     ]
    },
    {
     "name": "stderr",
     "output_type": "stream",
     "text": [
      "C:\\Users\\ohy\\AppData\\Local\\Temp\\ipykernel_17400\\3983351454.py:33: FutureWarning: pandas.io.json.json_normalize is deprecated, use pandas.json_normalize instead.\n",
      "  totalDf = totalDf.append(json_normalize(body), ignore_index=True)\n",
      "C:\\Users\\ohy\\AppData\\Local\\Temp\\ipykernel_17400\\3983351454.py:33: FutureWarning: The frame.append method is deprecated and will be removed from pandas in a future version. Use pandas.concat instead.\n",
      "  totalDf = totalDf.append(json_normalize(body), ignore_index=True)\n"
     ]
    },
    {
     "name": "stdout",
     "output_type": "stream",
     "text": [
      "932001\n"
     ]
    },
    {
     "name": "stderr",
     "output_type": "stream",
     "text": [
      "C:\\Users\\ohy\\AppData\\Local\\Temp\\ipykernel_17400\\3983351454.py:33: FutureWarning: pandas.io.json.json_normalize is deprecated, use pandas.json_normalize instead.\n",
      "  totalDf = totalDf.append(json_normalize(body), ignore_index=True)\n",
      "C:\\Users\\ohy\\AppData\\Local\\Temp\\ipykernel_17400\\3983351454.py:33: FutureWarning: The frame.append method is deprecated and will be removed from pandas in a future version. Use pandas.concat instead.\n",
      "  totalDf = totalDf.append(json_normalize(body), ignore_index=True)\n"
     ]
    },
    {
     "name": "stdout",
     "output_type": "stream",
     "text": [
      "933001\n"
     ]
    },
    {
     "name": "stderr",
     "output_type": "stream",
     "text": [
      "C:\\Users\\ohy\\AppData\\Local\\Temp\\ipykernel_17400\\3983351454.py:33: FutureWarning: pandas.io.json.json_normalize is deprecated, use pandas.json_normalize instead.\n",
      "  totalDf = totalDf.append(json_normalize(body), ignore_index=True)\n",
      "C:\\Users\\ohy\\AppData\\Local\\Temp\\ipykernel_17400\\3983351454.py:33: FutureWarning: The frame.append method is deprecated and will be removed from pandas in a future version. Use pandas.concat instead.\n",
      "  totalDf = totalDf.append(json_normalize(body), ignore_index=True)\n"
     ]
    },
    {
     "name": "stdout",
     "output_type": "stream",
     "text": [
      "934001\n"
     ]
    },
    {
     "name": "stderr",
     "output_type": "stream",
     "text": [
      "C:\\Users\\ohy\\AppData\\Local\\Temp\\ipykernel_17400\\3983351454.py:33: FutureWarning: pandas.io.json.json_normalize is deprecated, use pandas.json_normalize instead.\n",
      "  totalDf = totalDf.append(json_normalize(body), ignore_index=True)\n",
      "C:\\Users\\ohy\\AppData\\Local\\Temp\\ipykernel_17400\\3983351454.py:33: FutureWarning: The frame.append method is deprecated and will be removed from pandas in a future version. Use pandas.concat instead.\n",
      "  totalDf = totalDf.append(json_normalize(body), ignore_index=True)\n"
     ]
    },
    {
     "name": "stdout",
     "output_type": "stream",
     "text": [
      "935001\n"
     ]
    },
    {
     "name": "stderr",
     "output_type": "stream",
     "text": [
      "C:\\Users\\ohy\\AppData\\Local\\Temp\\ipykernel_17400\\3983351454.py:33: FutureWarning: pandas.io.json.json_normalize is deprecated, use pandas.json_normalize instead.\n",
      "  totalDf = totalDf.append(json_normalize(body), ignore_index=True)\n",
      "C:\\Users\\ohy\\AppData\\Local\\Temp\\ipykernel_17400\\3983351454.py:33: FutureWarning: The frame.append method is deprecated and will be removed from pandas in a future version. Use pandas.concat instead.\n",
      "  totalDf = totalDf.append(json_normalize(body), ignore_index=True)\n"
     ]
    },
    {
     "name": "stdout",
     "output_type": "stream",
     "text": [
      "936001\n"
     ]
    },
    {
     "name": "stderr",
     "output_type": "stream",
     "text": [
      "C:\\Users\\ohy\\AppData\\Local\\Temp\\ipykernel_17400\\3983351454.py:33: FutureWarning: pandas.io.json.json_normalize is deprecated, use pandas.json_normalize instead.\n",
      "  totalDf = totalDf.append(json_normalize(body), ignore_index=True)\n",
      "C:\\Users\\ohy\\AppData\\Local\\Temp\\ipykernel_17400\\3983351454.py:33: FutureWarning: The frame.append method is deprecated and will be removed from pandas in a future version. Use pandas.concat instead.\n",
      "  totalDf = totalDf.append(json_normalize(body), ignore_index=True)\n"
     ]
    },
    {
     "name": "stdout",
     "output_type": "stream",
     "text": [
      "937001\n"
     ]
    },
    {
     "name": "stderr",
     "output_type": "stream",
     "text": [
      "C:\\Users\\ohy\\AppData\\Local\\Temp\\ipykernel_17400\\3983351454.py:33: FutureWarning: pandas.io.json.json_normalize is deprecated, use pandas.json_normalize instead.\n",
      "  totalDf = totalDf.append(json_normalize(body), ignore_index=True)\n",
      "C:\\Users\\ohy\\AppData\\Local\\Temp\\ipykernel_17400\\3983351454.py:33: FutureWarning: The frame.append method is deprecated and will be removed from pandas in a future version. Use pandas.concat instead.\n",
      "  totalDf = totalDf.append(json_normalize(body), ignore_index=True)\n"
     ]
    },
    {
     "name": "stdout",
     "output_type": "stream",
     "text": [
      "938001\n"
     ]
    },
    {
     "name": "stderr",
     "output_type": "stream",
     "text": [
      "C:\\Users\\ohy\\AppData\\Local\\Temp\\ipykernel_17400\\3983351454.py:33: FutureWarning: pandas.io.json.json_normalize is deprecated, use pandas.json_normalize instead.\n",
      "  totalDf = totalDf.append(json_normalize(body), ignore_index=True)\n",
      "C:\\Users\\ohy\\AppData\\Local\\Temp\\ipykernel_17400\\3983351454.py:33: FutureWarning: The frame.append method is deprecated and will be removed from pandas in a future version. Use pandas.concat instead.\n",
      "  totalDf = totalDf.append(json_normalize(body), ignore_index=True)\n"
     ]
    },
    {
     "name": "stdout",
     "output_type": "stream",
     "text": [
      "939001\n"
     ]
    },
    {
     "name": "stderr",
     "output_type": "stream",
     "text": [
      "C:\\Users\\ohy\\AppData\\Local\\Temp\\ipykernel_17400\\3983351454.py:33: FutureWarning: pandas.io.json.json_normalize is deprecated, use pandas.json_normalize instead.\n",
      "  totalDf = totalDf.append(json_normalize(body), ignore_index=True)\n",
      "C:\\Users\\ohy\\AppData\\Local\\Temp\\ipykernel_17400\\3983351454.py:33: FutureWarning: The frame.append method is deprecated and will be removed from pandas in a future version. Use pandas.concat instead.\n",
      "  totalDf = totalDf.append(json_normalize(body), ignore_index=True)\n"
     ]
    },
    {
     "name": "stdout",
     "output_type": "stream",
     "text": [
      "940001\n"
     ]
    },
    {
     "name": "stderr",
     "output_type": "stream",
     "text": [
      "C:\\Users\\ohy\\AppData\\Local\\Temp\\ipykernel_17400\\3983351454.py:33: FutureWarning: pandas.io.json.json_normalize is deprecated, use pandas.json_normalize instead.\n",
      "  totalDf = totalDf.append(json_normalize(body), ignore_index=True)\n",
      "C:\\Users\\ohy\\AppData\\Local\\Temp\\ipykernel_17400\\3983351454.py:33: FutureWarning: The frame.append method is deprecated and will be removed from pandas in a future version. Use pandas.concat instead.\n",
      "  totalDf = totalDf.append(json_normalize(body), ignore_index=True)\n"
     ]
    },
    {
     "name": "stdout",
     "output_type": "stream",
     "text": [
      "941001\n"
     ]
    },
    {
     "name": "stderr",
     "output_type": "stream",
     "text": [
      "C:\\Users\\ohy\\AppData\\Local\\Temp\\ipykernel_17400\\3983351454.py:33: FutureWarning: pandas.io.json.json_normalize is deprecated, use pandas.json_normalize instead.\n",
      "  totalDf = totalDf.append(json_normalize(body), ignore_index=True)\n",
      "C:\\Users\\ohy\\AppData\\Local\\Temp\\ipykernel_17400\\3983351454.py:33: FutureWarning: The frame.append method is deprecated and will be removed from pandas in a future version. Use pandas.concat instead.\n",
      "  totalDf = totalDf.append(json_normalize(body), ignore_index=True)\n"
     ]
    },
    {
     "name": "stdout",
     "output_type": "stream",
     "text": [
      "942001\n"
     ]
    },
    {
     "name": "stderr",
     "output_type": "stream",
     "text": [
      "C:\\Users\\ohy\\AppData\\Local\\Temp\\ipykernel_17400\\3983351454.py:33: FutureWarning: pandas.io.json.json_normalize is deprecated, use pandas.json_normalize instead.\n",
      "  totalDf = totalDf.append(json_normalize(body), ignore_index=True)\n",
      "C:\\Users\\ohy\\AppData\\Local\\Temp\\ipykernel_17400\\3983351454.py:33: FutureWarning: The frame.append method is deprecated and will be removed from pandas in a future version. Use pandas.concat instead.\n",
      "  totalDf = totalDf.append(json_normalize(body), ignore_index=True)\n"
     ]
    },
    {
     "name": "stdout",
     "output_type": "stream",
     "text": [
      "943001\n"
     ]
    },
    {
     "name": "stderr",
     "output_type": "stream",
     "text": [
      "C:\\Users\\ohy\\AppData\\Local\\Temp\\ipykernel_17400\\3983351454.py:33: FutureWarning: pandas.io.json.json_normalize is deprecated, use pandas.json_normalize instead.\n",
      "  totalDf = totalDf.append(json_normalize(body), ignore_index=True)\n",
      "C:\\Users\\ohy\\AppData\\Local\\Temp\\ipykernel_17400\\3983351454.py:33: FutureWarning: The frame.append method is deprecated and will be removed from pandas in a future version. Use pandas.concat instead.\n",
      "  totalDf = totalDf.append(json_normalize(body), ignore_index=True)\n"
     ]
    },
    {
     "name": "stdout",
     "output_type": "stream",
     "text": [
      "944001\n"
     ]
    },
    {
     "name": "stderr",
     "output_type": "stream",
     "text": [
      "C:\\Users\\ohy\\AppData\\Local\\Temp\\ipykernel_17400\\3983351454.py:33: FutureWarning: pandas.io.json.json_normalize is deprecated, use pandas.json_normalize instead.\n",
      "  totalDf = totalDf.append(json_normalize(body), ignore_index=True)\n",
      "C:\\Users\\ohy\\AppData\\Local\\Temp\\ipykernel_17400\\3983351454.py:33: FutureWarning: The frame.append method is deprecated and will be removed from pandas in a future version. Use pandas.concat instead.\n",
      "  totalDf = totalDf.append(json_normalize(body), ignore_index=True)\n"
     ]
    },
    {
     "name": "stdout",
     "output_type": "stream",
     "text": [
      "945001\n"
     ]
    },
    {
     "name": "stderr",
     "output_type": "stream",
     "text": [
      "C:\\Users\\ohy\\AppData\\Local\\Temp\\ipykernel_17400\\3983351454.py:33: FutureWarning: pandas.io.json.json_normalize is deprecated, use pandas.json_normalize instead.\n",
      "  totalDf = totalDf.append(json_normalize(body), ignore_index=True)\n",
      "C:\\Users\\ohy\\AppData\\Local\\Temp\\ipykernel_17400\\3983351454.py:33: FutureWarning: The frame.append method is deprecated and will be removed from pandas in a future version. Use pandas.concat instead.\n",
      "  totalDf = totalDf.append(json_normalize(body), ignore_index=True)\n"
     ]
    },
    {
     "name": "stdout",
     "output_type": "stream",
     "text": [
      "946001\n"
     ]
    },
    {
     "name": "stderr",
     "output_type": "stream",
     "text": [
      "C:\\Users\\ohy\\AppData\\Local\\Temp\\ipykernel_17400\\3983351454.py:33: FutureWarning: pandas.io.json.json_normalize is deprecated, use pandas.json_normalize instead.\n",
      "  totalDf = totalDf.append(json_normalize(body), ignore_index=True)\n",
      "C:\\Users\\ohy\\AppData\\Local\\Temp\\ipykernel_17400\\3983351454.py:33: FutureWarning: The frame.append method is deprecated and will be removed from pandas in a future version. Use pandas.concat instead.\n",
      "  totalDf = totalDf.append(json_normalize(body), ignore_index=True)\n"
     ]
    },
    {
     "name": "stdout",
     "output_type": "stream",
     "text": [
      "947001\n"
     ]
    },
    {
     "name": "stderr",
     "output_type": "stream",
     "text": [
      "C:\\Users\\ohy\\AppData\\Local\\Temp\\ipykernel_17400\\3983351454.py:33: FutureWarning: pandas.io.json.json_normalize is deprecated, use pandas.json_normalize instead.\n",
      "  totalDf = totalDf.append(json_normalize(body), ignore_index=True)\n",
      "C:\\Users\\ohy\\AppData\\Local\\Temp\\ipykernel_17400\\3983351454.py:33: FutureWarning: The frame.append method is deprecated and will be removed from pandas in a future version. Use pandas.concat instead.\n",
      "  totalDf = totalDf.append(json_normalize(body), ignore_index=True)\n"
     ]
    },
    {
     "name": "stdout",
     "output_type": "stream",
     "text": [
      "948001\n"
     ]
    },
    {
     "name": "stderr",
     "output_type": "stream",
     "text": [
      "C:\\Users\\ohy\\AppData\\Local\\Temp\\ipykernel_17400\\3983351454.py:33: FutureWarning: pandas.io.json.json_normalize is deprecated, use pandas.json_normalize instead.\n",
      "  totalDf = totalDf.append(json_normalize(body), ignore_index=True)\n",
      "C:\\Users\\ohy\\AppData\\Local\\Temp\\ipykernel_17400\\3983351454.py:33: FutureWarning: The frame.append method is deprecated and will be removed from pandas in a future version. Use pandas.concat instead.\n",
      "  totalDf = totalDf.append(json_normalize(body), ignore_index=True)\n"
     ]
    },
    {
     "name": "stdout",
     "output_type": "stream",
     "text": [
      "949001\n"
     ]
    },
    {
     "name": "stderr",
     "output_type": "stream",
     "text": [
      "C:\\Users\\ohy\\AppData\\Local\\Temp\\ipykernel_17400\\3983351454.py:33: FutureWarning: pandas.io.json.json_normalize is deprecated, use pandas.json_normalize instead.\n",
      "  totalDf = totalDf.append(json_normalize(body), ignore_index=True)\n",
      "C:\\Users\\ohy\\AppData\\Local\\Temp\\ipykernel_17400\\3983351454.py:33: FutureWarning: The frame.append method is deprecated and will be removed from pandas in a future version. Use pandas.concat instead.\n",
      "  totalDf = totalDf.append(json_normalize(body), ignore_index=True)\n"
     ]
    },
    {
     "name": "stdout",
     "output_type": "stream",
     "text": [
      "950001\n"
     ]
    },
    {
     "name": "stderr",
     "output_type": "stream",
     "text": [
      "C:\\Users\\ohy\\AppData\\Local\\Temp\\ipykernel_17400\\3983351454.py:33: FutureWarning: pandas.io.json.json_normalize is deprecated, use pandas.json_normalize instead.\n",
      "  totalDf = totalDf.append(json_normalize(body), ignore_index=True)\n",
      "C:\\Users\\ohy\\AppData\\Local\\Temp\\ipykernel_17400\\3983351454.py:33: FutureWarning: The frame.append method is deprecated and will be removed from pandas in a future version. Use pandas.concat instead.\n",
      "  totalDf = totalDf.append(json_normalize(body), ignore_index=True)\n"
     ]
    },
    {
     "name": "stdout",
     "output_type": "stream",
     "text": [
      "951001\n"
     ]
    },
    {
     "name": "stderr",
     "output_type": "stream",
     "text": [
      "C:\\Users\\ohy\\AppData\\Local\\Temp\\ipykernel_17400\\3983351454.py:33: FutureWarning: pandas.io.json.json_normalize is deprecated, use pandas.json_normalize instead.\n",
      "  totalDf = totalDf.append(json_normalize(body), ignore_index=True)\n",
      "C:\\Users\\ohy\\AppData\\Local\\Temp\\ipykernel_17400\\3983351454.py:33: FutureWarning: The frame.append method is deprecated and will be removed from pandas in a future version. Use pandas.concat instead.\n",
      "  totalDf = totalDf.append(json_normalize(body), ignore_index=True)\n"
     ]
    },
    {
     "name": "stdout",
     "output_type": "stream",
     "text": [
      "952001\n"
     ]
    },
    {
     "name": "stderr",
     "output_type": "stream",
     "text": [
      "C:\\Users\\ohy\\AppData\\Local\\Temp\\ipykernel_17400\\3983351454.py:33: FutureWarning: pandas.io.json.json_normalize is deprecated, use pandas.json_normalize instead.\n",
      "  totalDf = totalDf.append(json_normalize(body), ignore_index=True)\n",
      "C:\\Users\\ohy\\AppData\\Local\\Temp\\ipykernel_17400\\3983351454.py:33: FutureWarning: The frame.append method is deprecated and will be removed from pandas in a future version. Use pandas.concat instead.\n",
      "  totalDf = totalDf.append(json_normalize(body), ignore_index=True)\n"
     ]
    },
    {
     "name": "stdout",
     "output_type": "stream",
     "text": [
      "953001\n"
     ]
    },
    {
     "name": "stderr",
     "output_type": "stream",
     "text": [
      "C:\\Users\\ohy\\AppData\\Local\\Temp\\ipykernel_17400\\3983351454.py:33: FutureWarning: pandas.io.json.json_normalize is deprecated, use pandas.json_normalize instead.\n",
      "  totalDf = totalDf.append(json_normalize(body), ignore_index=True)\n",
      "C:\\Users\\ohy\\AppData\\Local\\Temp\\ipykernel_17400\\3983351454.py:33: FutureWarning: The frame.append method is deprecated and will be removed from pandas in a future version. Use pandas.concat instead.\n",
      "  totalDf = totalDf.append(json_normalize(body), ignore_index=True)\n"
     ]
    },
    {
     "name": "stdout",
     "output_type": "stream",
     "text": [
      "954001\n"
     ]
    },
    {
     "name": "stderr",
     "output_type": "stream",
     "text": [
      "C:\\Users\\ohy\\AppData\\Local\\Temp\\ipykernel_17400\\3983351454.py:33: FutureWarning: pandas.io.json.json_normalize is deprecated, use pandas.json_normalize instead.\n",
      "  totalDf = totalDf.append(json_normalize(body), ignore_index=True)\n",
      "C:\\Users\\ohy\\AppData\\Local\\Temp\\ipykernel_17400\\3983351454.py:33: FutureWarning: The frame.append method is deprecated and will be removed from pandas in a future version. Use pandas.concat instead.\n",
      "  totalDf = totalDf.append(json_normalize(body), ignore_index=True)\n"
     ]
    },
    {
     "name": "stdout",
     "output_type": "stream",
     "text": [
      "955001\n"
     ]
    },
    {
     "name": "stderr",
     "output_type": "stream",
     "text": [
      "C:\\Users\\ohy\\AppData\\Local\\Temp\\ipykernel_17400\\3983351454.py:33: FutureWarning: pandas.io.json.json_normalize is deprecated, use pandas.json_normalize instead.\n",
      "  totalDf = totalDf.append(json_normalize(body), ignore_index=True)\n",
      "C:\\Users\\ohy\\AppData\\Local\\Temp\\ipykernel_17400\\3983351454.py:33: FutureWarning: The frame.append method is deprecated and will be removed from pandas in a future version. Use pandas.concat instead.\n",
      "  totalDf = totalDf.append(json_normalize(body), ignore_index=True)\n"
     ]
    },
    {
     "name": "stdout",
     "output_type": "stream",
     "text": [
      "956001\n"
     ]
    },
    {
     "name": "stderr",
     "output_type": "stream",
     "text": [
      "C:\\Users\\ohy\\AppData\\Local\\Temp\\ipykernel_17400\\3983351454.py:33: FutureWarning: pandas.io.json.json_normalize is deprecated, use pandas.json_normalize instead.\n",
      "  totalDf = totalDf.append(json_normalize(body), ignore_index=True)\n",
      "C:\\Users\\ohy\\AppData\\Local\\Temp\\ipykernel_17400\\3983351454.py:33: FutureWarning: The frame.append method is deprecated and will be removed from pandas in a future version. Use pandas.concat instead.\n",
      "  totalDf = totalDf.append(json_normalize(body), ignore_index=True)\n"
     ]
    },
    {
     "name": "stdout",
     "output_type": "stream",
     "text": [
      "957001\n"
     ]
    },
    {
     "name": "stderr",
     "output_type": "stream",
     "text": [
      "C:\\Users\\ohy\\AppData\\Local\\Temp\\ipykernel_17400\\3983351454.py:33: FutureWarning: pandas.io.json.json_normalize is deprecated, use pandas.json_normalize instead.\n",
      "  totalDf = totalDf.append(json_normalize(body), ignore_index=True)\n",
      "C:\\Users\\ohy\\AppData\\Local\\Temp\\ipykernel_17400\\3983351454.py:33: FutureWarning: The frame.append method is deprecated and will be removed from pandas in a future version. Use pandas.concat instead.\n",
      "  totalDf = totalDf.append(json_normalize(body), ignore_index=True)\n"
     ]
    },
    {
     "name": "stdout",
     "output_type": "stream",
     "text": [
      "958001\n"
     ]
    },
    {
     "name": "stderr",
     "output_type": "stream",
     "text": [
      "C:\\Users\\ohy\\AppData\\Local\\Temp\\ipykernel_17400\\3983351454.py:33: FutureWarning: pandas.io.json.json_normalize is deprecated, use pandas.json_normalize instead.\n",
      "  totalDf = totalDf.append(json_normalize(body), ignore_index=True)\n",
      "C:\\Users\\ohy\\AppData\\Local\\Temp\\ipykernel_17400\\3983351454.py:33: FutureWarning: The frame.append method is deprecated and will be removed from pandas in a future version. Use pandas.concat instead.\n",
      "  totalDf = totalDf.append(json_normalize(body), ignore_index=True)\n"
     ]
    },
    {
     "name": "stdout",
     "output_type": "stream",
     "text": [
      "959001\n"
     ]
    },
    {
     "name": "stderr",
     "output_type": "stream",
     "text": [
      "C:\\Users\\ohy\\AppData\\Local\\Temp\\ipykernel_17400\\3983351454.py:33: FutureWarning: pandas.io.json.json_normalize is deprecated, use pandas.json_normalize instead.\n",
      "  totalDf = totalDf.append(json_normalize(body), ignore_index=True)\n",
      "C:\\Users\\ohy\\AppData\\Local\\Temp\\ipykernel_17400\\3983351454.py:33: FutureWarning: The frame.append method is deprecated and will be removed from pandas in a future version. Use pandas.concat instead.\n",
      "  totalDf = totalDf.append(json_normalize(body), ignore_index=True)\n"
     ]
    },
    {
     "name": "stdout",
     "output_type": "stream",
     "text": [
      "960001\n"
     ]
    },
    {
     "name": "stderr",
     "output_type": "stream",
     "text": [
      "C:\\Users\\ohy\\AppData\\Local\\Temp\\ipykernel_17400\\3983351454.py:33: FutureWarning: pandas.io.json.json_normalize is deprecated, use pandas.json_normalize instead.\n",
      "  totalDf = totalDf.append(json_normalize(body), ignore_index=True)\n",
      "C:\\Users\\ohy\\AppData\\Local\\Temp\\ipykernel_17400\\3983351454.py:33: FutureWarning: The frame.append method is deprecated and will be removed from pandas in a future version. Use pandas.concat instead.\n",
      "  totalDf = totalDf.append(json_normalize(body), ignore_index=True)\n"
     ]
    },
    {
     "name": "stdout",
     "output_type": "stream",
     "text": [
      "961001\n"
     ]
    },
    {
     "name": "stderr",
     "output_type": "stream",
     "text": [
      "C:\\Users\\ohy\\AppData\\Local\\Temp\\ipykernel_17400\\3983351454.py:33: FutureWarning: pandas.io.json.json_normalize is deprecated, use pandas.json_normalize instead.\n",
      "  totalDf = totalDf.append(json_normalize(body), ignore_index=True)\n",
      "C:\\Users\\ohy\\AppData\\Local\\Temp\\ipykernel_17400\\3983351454.py:33: FutureWarning: The frame.append method is deprecated and will be removed from pandas in a future version. Use pandas.concat instead.\n",
      "  totalDf = totalDf.append(json_normalize(body), ignore_index=True)\n"
     ]
    },
    {
     "name": "stdout",
     "output_type": "stream",
     "text": [
      "962001\n"
     ]
    },
    {
     "name": "stderr",
     "output_type": "stream",
     "text": [
      "C:\\Users\\ohy\\AppData\\Local\\Temp\\ipykernel_17400\\3983351454.py:33: FutureWarning: pandas.io.json.json_normalize is deprecated, use pandas.json_normalize instead.\n",
      "  totalDf = totalDf.append(json_normalize(body), ignore_index=True)\n",
      "C:\\Users\\ohy\\AppData\\Local\\Temp\\ipykernel_17400\\3983351454.py:33: FutureWarning: The frame.append method is deprecated and will be removed from pandas in a future version. Use pandas.concat instead.\n",
      "  totalDf = totalDf.append(json_normalize(body), ignore_index=True)\n"
     ]
    },
    {
     "name": "stdout",
     "output_type": "stream",
     "text": [
      "963001\n"
     ]
    },
    {
     "name": "stderr",
     "output_type": "stream",
     "text": [
      "C:\\Users\\ohy\\AppData\\Local\\Temp\\ipykernel_17400\\3983351454.py:33: FutureWarning: pandas.io.json.json_normalize is deprecated, use pandas.json_normalize instead.\n",
      "  totalDf = totalDf.append(json_normalize(body), ignore_index=True)\n",
      "C:\\Users\\ohy\\AppData\\Local\\Temp\\ipykernel_17400\\3983351454.py:33: FutureWarning: The frame.append method is deprecated and will be removed from pandas in a future version. Use pandas.concat instead.\n",
      "  totalDf = totalDf.append(json_normalize(body), ignore_index=True)\n"
     ]
    },
    {
     "name": "stdout",
     "output_type": "stream",
     "text": [
      "964001\n"
     ]
    },
    {
     "name": "stderr",
     "output_type": "stream",
     "text": [
      "C:\\Users\\ohy\\AppData\\Local\\Temp\\ipykernel_17400\\3983351454.py:33: FutureWarning: pandas.io.json.json_normalize is deprecated, use pandas.json_normalize instead.\n",
      "  totalDf = totalDf.append(json_normalize(body), ignore_index=True)\n",
      "C:\\Users\\ohy\\AppData\\Local\\Temp\\ipykernel_17400\\3983351454.py:33: FutureWarning: The frame.append method is deprecated and will be removed from pandas in a future version. Use pandas.concat instead.\n",
      "  totalDf = totalDf.append(json_normalize(body), ignore_index=True)\n"
     ]
    },
    {
     "name": "stdout",
     "output_type": "stream",
     "text": [
      "965001\n"
     ]
    },
    {
     "name": "stderr",
     "output_type": "stream",
     "text": [
      "C:\\Users\\ohy\\AppData\\Local\\Temp\\ipykernel_17400\\3983351454.py:33: FutureWarning: pandas.io.json.json_normalize is deprecated, use pandas.json_normalize instead.\n",
      "  totalDf = totalDf.append(json_normalize(body), ignore_index=True)\n",
      "C:\\Users\\ohy\\AppData\\Local\\Temp\\ipykernel_17400\\3983351454.py:33: FutureWarning: The frame.append method is deprecated and will be removed from pandas in a future version. Use pandas.concat instead.\n",
      "  totalDf = totalDf.append(json_normalize(body), ignore_index=True)\n"
     ]
    },
    {
     "name": "stdout",
     "output_type": "stream",
     "text": [
      "966001\n"
     ]
    },
    {
     "name": "stderr",
     "output_type": "stream",
     "text": [
      "C:\\Users\\ohy\\AppData\\Local\\Temp\\ipykernel_17400\\3983351454.py:33: FutureWarning: pandas.io.json.json_normalize is deprecated, use pandas.json_normalize instead.\n",
      "  totalDf = totalDf.append(json_normalize(body), ignore_index=True)\n",
      "C:\\Users\\ohy\\AppData\\Local\\Temp\\ipykernel_17400\\3983351454.py:33: FutureWarning: The frame.append method is deprecated and will be removed from pandas in a future version. Use pandas.concat instead.\n",
      "  totalDf = totalDf.append(json_normalize(body), ignore_index=True)\n"
     ]
    },
    {
     "name": "stdout",
     "output_type": "stream",
     "text": [
      "967001\n"
     ]
    },
    {
     "name": "stderr",
     "output_type": "stream",
     "text": [
      "C:\\Users\\ohy\\AppData\\Local\\Temp\\ipykernel_17400\\3983351454.py:33: FutureWarning: pandas.io.json.json_normalize is deprecated, use pandas.json_normalize instead.\n",
      "  totalDf = totalDf.append(json_normalize(body), ignore_index=True)\n",
      "C:\\Users\\ohy\\AppData\\Local\\Temp\\ipykernel_17400\\3983351454.py:33: FutureWarning: The frame.append method is deprecated and will be removed from pandas in a future version. Use pandas.concat instead.\n",
      "  totalDf = totalDf.append(json_normalize(body), ignore_index=True)\n"
     ]
    },
    {
     "name": "stdout",
     "output_type": "stream",
     "text": [
      "968001\n"
     ]
    },
    {
     "name": "stderr",
     "output_type": "stream",
     "text": [
      "C:\\Users\\ohy\\AppData\\Local\\Temp\\ipykernel_17400\\3983351454.py:33: FutureWarning: pandas.io.json.json_normalize is deprecated, use pandas.json_normalize instead.\n",
      "  totalDf = totalDf.append(json_normalize(body), ignore_index=True)\n",
      "C:\\Users\\ohy\\AppData\\Local\\Temp\\ipykernel_17400\\3983351454.py:33: FutureWarning: The frame.append method is deprecated and will be removed from pandas in a future version. Use pandas.concat instead.\n",
      "  totalDf = totalDf.append(json_normalize(body), ignore_index=True)\n"
     ]
    },
    {
     "name": "stdout",
     "output_type": "stream",
     "text": [
      "969001\n"
     ]
    },
    {
     "name": "stderr",
     "output_type": "stream",
     "text": [
      "C:\\Users\\ohy\\AppData\\Local\\Temp\\ipykernel_17400\\3983351454.py:33: FutureWarning: pandas.io.json.json_normalize is deprecated, use pandas.json_normalize instead.\n",
      "  totalDf = totalDf.append(json_normalize(body), ignore_index=True)\n",
      "C:\\Users\\ohy\\AppData\\Local\\Temp\\ipykernel_17400\\3983351454.py:33: FutureWarning: The frame.append method is deprecated and will be removed from pandas in a future version. Use pandas.concat instead.\n",
      "  totalDf = totalDf.append(json_normalize(body), ignore_index=True)\n"
     ]
    },
    {
     "name": "stdout",
     "output_type": "stream",
     "text": [
      "970001\n"
     ]
    },
    {
     "name": "stderr",
     "output_type": "stream",
     "text": [
      "C:\\Users\\ohy\\AppData\\Local\\Temp\\ipykernel_17400\\3983351454.py:33: FutureWarning: pandas.io.json.json_normalize is deprecated, use pandas.json_normalize instead.\n",
      "  totalDf = totalDf.append(json_normalize(body), ignore_index=True)\n",
      "C:\\Users\\ohy\\AppData\\Local\\Temp\\ipykernel_17400\\3983351454.py:33: FutureWarning: The frame.append method is deprecated and will be removed from pandas in a future version. Use pandas.concat instead.\n",
      "  totalDf = totalDf.append(json_normalize(body), ignore_index=True)\n"
     ]
    },
    {
     "name": "stdout",
     "output_type": "stream",
     "text": [
      "971001\n"
     ]
    },
    {
     "name": "stderr",
     "output_type": "stream",
     "text": [
      "C:\\Users\\ohy\\AppData\\Local\\Temp\\ipykernel_17400\\3983351454.py:33: FutureWarning: pandas.io.json.json_normalize is deprecated, use pandas.json_normalize instead.\n",
      "  totalDf = totalDf.append(json_normalize(body), ignore_index=True)\n",
      "C:\\Users\\ohy\\AppData\\Local\\Temp\\ipykernel_17400\\3983351454.py:33: FutureWarning: The frame.append method is deprecated and will be removed from pandas in a future version. Use pandas.concat instead.\n",
      "  totalDf = totalDf.append(json_normalize(body), ignore_index=True)\n"
     ]
    },
    {
     "name": "stdout",
     "output_type": "stream",
     "text": [
      "972001\n"
     ]
    },
    {
     "name": "stderr",
     "output_type": "stream",
     "text": [
      "C:\\Users\\ohy\\AppData\\Local\\Temp\\ipykernel_17400\\3983351454.py:33: FutureWarning: pandas.io.json.json_normalize is deprecated, use pandas.json_normalize instead.\n",
      "  totalDf = totalDf.append(json_normalize(body), ignore_index=True)\n",
      "C:\\Users\\ohy\\AppData\\Local\\Temp\\ipykernel_17400\\3983351454.py:33: FutureWarning: The frame.append method is deprecated and will be removed from pandas in a future version. Use pandas.concat instead.\n",
      "  totalDf = totalDf.append(json_normalize(body), ignore_index=True)\n"
     ]
    },
    {
     "name": "stdout",
     "output_type": "stream",
     "text": [
      "973001\n"
     ]
    },
    {
     "name": "stderr",
     "output_type": "stream",
     "text": [
      "C:\\Users\\ohy\\AppData\\Local\\Temp\\ipykernel_17400\\3983351454.py:33: FutureWarning: pandas.io.json.json_normalize is deprecated, use pandas.json_normalize instead.\n",
      "  totalDf = totalDf.append(json_normalize(body), ignore_index=True)\n",
      "C:\\Users\\ohy\\AppData\\Local\\Temp\\ipykernel_17400\\3983351454.py:33: FutureWarning: The frame.append method is deprecated and will be removed from pandas in a future version. Use pandas.concat instead.\n",
      "  totalDf = totalDf.append(json_normalize(body), ignore_index=True)\n"
     ]
    },
    {
     "name": "stdout",
     "output_type": "stream",
     "text": [
      "974001\n"
     ]
    },
    {
     "name": "stderr",
     "output_type": "stream",
     "text": [
      "C:\\Users\\ohy\\AppData\\Local\\Temp\\ipykernel_17400\\3983351454.py:33: FutureWarning: pandas.io.json.json_normalize is deprecated, use pandas.json_normalize instead.\n",
      "  totalDf = totalDf.append(json_normalize(body), ignore_index=True)\n",
      "C:\\Users\\ohy\\AppData\\Local\\Temp\\ipykernel_17400\\3983351454.py:33: FutureWarning: The frame.append method is deprecated and will be removed from pandas in a future version. Use pandas.concat instead.\n",
      "  totalDf = totalDf.append(json_normalize(body), ignore_index=True)\n"
     ]
    },
    {
     "name": "stdout",
     "output_type": "stream",
     "text": [
      "975001\n"
     ]
    },
    {
     "name": "stderr",
     "output_type": "stream",
     "text": [
      "C:\\Users\\ohy\\AppData\\Local\\Temp\\ipykernel_17400\\3983351454.py:33: FutureWarning: pandas.io.json.json_normalize is deprecated, use pandas.json_normalize instead.\n",
      "  totalDf = totalDf.append(json_normalize(body), ignore_index=True)\n",
      "C:\\Users\\ohy\\AppData\\Local\\Temp\\ipykernel_17400\\3983351454.py:33: FutureWarning: The frame.append method is deprecated and will be removed from pandas in a future version. Use pandas.concat instead.\n",
      "  totalDf = totalDf.append(json_normalize(body), ignore_index=True)\n"
     ]
    },
    {
     "name": "stdout",
     "output_type": "stream",
     "text": [
      "976001\n"
     ]
    },
    {
     "name": "stderr",
     "output_type": "stream",
     "text": [
      "C:\\Users\\ohy\\AppData\\Local\\Temp\\ipykernel_17400\\3983351454.py:33: FutureWarning: pandas.io.json.json_normalize is deprecated, use pandas.json_normalize instead.\n",
      "  totalDf = totalDf.append(json_normalize(body), ignore_index=True)\n",
      "C:\\Users\\ohy\\AppData\\Local\\Temp\\ipykernel_17400\\3983351454.py:33: FutureWarning: The frame.append method is deprecated and will be removed from pandas in a future version. Use pandas.concat instead.\n",
      "  totalDf = totalDf.append(json_normalize(body), ignore_index=True)\n"
     ]
    },
    {
     "name": "stdout",
     "output_type": "stream",
     "text": [
      "977001\n"
     ]
    },
    {
     "name": "stderr",
     "output_type": "stream",
     "text": [
      "C:\\Users\\ohy\\AppData\\Local\\Temp\\ipykernel_17400\\3983351454.py:33: FutureWarning: pandas.io.json.json_normalize is deprecated, use pandas.json_normalize instead.\n",
      "  totalDf = totalDf.append(json_normalize(body), ignore_index=True)\n",
      "C:\\Users\\ohy\\AppData\\Local\\Temp\\ipykernel_17400\\3983351454.py:33: FutureWarning: The frame.append method is deprecated and will be removed from pandas in a future version. Use pandas.concat instead.\n",
      "  totalDf = totalDf.append(json_normalize(body), ignore_index=True)\n"
     ]
    },
    {
     "name": "stdout",
     "output_type": "stream",
     "text": [
      "978001\n"
     ]
    },
    {
     "name": "stderr",
     "output_type": "stream",
     "text": [
      "C:\\Users\\ohy\\AppData\\Local\\Temp\\ipykernel_17400\\3983351454.py:33: FutureWarning: pandas.io.json.json_normalize is deprecated, use pandas.json_normalize instead.\n",
      "  totalDf = totalDf.append(json_normalize(body), ignore_index=True)\n",
      "C:\\Users\\ohy\\AppData\\Local\\Temp\\ipykernel_17400\\3983351454.py:33: FutureWarning: The frame.append method is deprecated and will be removed from pandas in a future version. Use pandas.concat instead.\n",
      "  totalDf = totalDf.append(json_normalize(body), ignore_index=True)\n"
     ]
    },
    {
     "name": "stdout",
     "output_type": "stream",
     "text": [
      "979001\n"
     ]
    },
    {
     "name": "stderr",
     "output_type": "stream",
     "text": [
      "C:\\Users\\ohy\\AppData\\Local\\Temp\\ipykernel_17400\\3983351454.py:33: FutureWarning: pandas.io.json.json_normalize is deprecated, use pandas.json_normalize instead.\n",
      "  totalDf = totalDf.append(json_normalize(body), ignore_index=True)\n",
      "C:\\Users\\ohy\\AppData\\Local\\Temp\\ipykernel_17400\\3983351454.py:33: FutureWarning: The frame.append method is deprecated and will be removed from pandas in a future version. Use pandas.concat instead.\n",
      "  totalDf = totalDf.append(json_normalize(body), ignore_index=True)\n"
     ]
    },
    {
     "name": "stdout",
     "output_type": "stream",
     "text": [
      "980001\n"
     ]
    },
    {
     "name": "stderr",
     "output_type": "stream",
     "text": [
      "C:\\Users\\ohy\\AppData\\Local\\Temp\\ipykernel_17400\\3983351454.py:33: FutureWarning: pandas.io.json.json_normalize is deprecated, use pandas.json_normalize instead.\n",
      "  totalDf = totalDf.append(json_normalize(body), ignore_index=True)\n",
      "C:\\Users\\ohy\\AppData\\Local\\Temp\\ipykernel_17400\\3983351454.py:33: FutureWarning: The frame.append method is deprecated and will be removed from pandas in a future version. Use pandas.concat instead.\n",
      "  totalDf = totalDf.append(json_normalize(body), ignore_index=True)\n"
     ]
    },
    {
     "name": "stdout",
     "output_type": "stream",
     "text": [
      "981001\n"
     ]
    },
    {
     "name": "stderr",
     "output_type": "stream",
     "text": [
      "C:\\Users\\ohy\\AppData\\Local\\Temp\\ipykernel_17400\\3983351454.py:33: FutureWarning: pandas.io.json.json_normalize is deprecated, use pandas.json_normalize instead.\n",
      "  totalDf = totalDf.append(json_normalize(body), ignore_index=True)\n",
      "C:\\Users\\ohy\\AppData\\Local\\Temp\\ipykernel_17400\\3983351454.py:33: FutureWarning: The frame.append method is deprecated and will be removed from pandas in a future version. Use pandas.concat instead.\n",
      "  totalDf = totalDf.append(json_normalize(body), ignore_index=True)\n"
     ]
    },
    {
     "name": "stdout",
     "output_type": "stream",
     "text": [
      "982001\n"
     ]
    },
    {
     "name": "stderr",
     "output_type": "stream",
     "text": [
      "C:\\Users\\ohy\\AppData\\Local\\Temp\\ipykernel_17400\\3983351454.py:33: FutureWarning: pandas.io.json.json_normalize is deprecated, use pandas.json_normalize instead.\n",
      "  totalDf = totalDf.append(json_normalize(body), ignore_index=True)\n",
      "C:\\Users\\ohy\\AppData\\Local\\Temp\\ipykernel_17400\\3983351454.py:33: FutureWarning: The frame.append method is deprecated and will be removed from pandas in a future version. Use pandas.concat instead.\n",
      "  totalDf = totalDf.append(json_normalize(body), ignore_index=True)\n"
     ]
    },
    {
     "name": "stdout",
     "output_type": "stream",
     "text": [
      "983001\n"
     ]
    },
    {
     "name": "stderr",
     "output_type": "stream",
     "text": [
      "C:\\Users\\ohy\\AppData\\Local\\Temp\\ipykernel_17400\\3983351454.py:33: FutureWarning: pandas.io.json.json_normalize is deprecated, use pandas.json_normalize instead.\n",
      "  totalDf = totalDf.append(json_normalize(body), ignore_index=True)\n",
      "C:\\Users\\ohy\\AppData\\Local\\Temp\\ipykernel_17400\\3983351454.py:33: FutureWarning: The frame.append method is deprecated and will be removed from pandas in a future version. Use pandas.concat instead.\n",
      "  totalDf = totalDf.append(json_normalize(body), ignore_index=True)\n"
     ]
    },
    {
     "name": "stdout",
     "output_type": "stream",
     "text": [
      "984001\n"
     ]
    },
    {
     "name": "stderr",
     "output_type": "stream",
     "text": [
      "C:\\Users\\ohy\\AppData\\Local\\Temp\\ipykernel_17400\\3983351454.py:33: FutureWarning: pandas.io.json.json_normalize is deprecated, use pandas.json_normalize instead.\n",
      "  totalDf = totalDf.append(json_normalize(body), ignore_index=True)\n",
      "C:\\Users\\ohy\\AppData\\Local\\Temp\\ipykernel_17400\\3983351454.py:33: FutureWarning: The frame.append method is deprecated and will be removed from pandas in a future version. Use pandas.concat instead.\n",
      "  totalDf = totalDf.append(json_normalize(body), ignore_index=True)\n"
     ]
    },
    {
     "name": "stdout",
     "output_type": "stream",
     "text": [
      "985001\n"
     ]
    },
    {
     "name": "stderr",
     "output_type": "stream",
     "text": [
      "C:\\Users\\ohy\\AppData\\Local\\Temp\\ipykernel_17400\\3983351454.py:33: FutureWarning: pandas.io.json.json_normalize is deprecated, use pandas.json_normalize instead.\n",
      "  totalDf = totalDf.append(json_normalize(body), ignore_index=True)\n",
      "C:\\Users\\ohy\\AppData\\Local\\Temp\\ipykernel_17400\\3983351454.py:33: FutureWarning: The frame.append method is deprecated and will be removed from pandas in a future version. Use pandas.concat instead.\n",
      "  totalDf = totalDf.append(json_normalize(body), ignore_index=True)\n"
     ]
    },
    {
     "name": "stdout",
     "output_type": "stream",
     "text": [
      "986001\n"
     ]
    },
    {
     "name": "stderr",
     "output_type": "stream",
     "text": [
      "C:\\Users\\ohy\\AppData\\Local\\Temp\\ipykernel_17400\\3983351454.py:33: FutureWarning: pandas.io.json.json_normalize is deprecated, use pandas.json_normalize instead.\n",
      "  totalDf = totalDf.append(json_normalize(body), ignore_index=True)\n",
      "C:\\Users\\ohy\\AppData\\Local\\Temp\\ipykernel_17400\\3983351454.py:33: FutureWarning: The frame.append method is deprecated and will be removed from pandas in a future version. Use pandas.concat instead.\n",
      "  totalDf = totalDf.append(json_normalize(body), ignore_index=True)\n"
     ]
    },
    {
     "name": "stdout",
     "output_type": "stream",
     "text": [
      "987001\n"
     ]
    },
    {
     "name": "stderr",
     "output_type": "stream",
     "text": [
      "C:\\Users\\ohy\\AppData\\Local\\Temp\\ipykernel_17400\\3983351454.py:33: FutureWarning: pandas.io.json.json_normalize is deprecated, use pandas.json_normalize instead.\n",
      "  totalDf = totalDf.append(json_normalize(body), ignore_index=True)\n",
      "C:\\Users\\ohy\\AppData\\Local\\Temp\\ipykernel_17400\\3983351454.py:33: FutureWarning: The frame.append method is deprecated and will be removed from pandas in a future version. Use pandas.concat instead.\n",
      "  totalDf = totalDf.append(json_normalize(body), ignore_index=True)\n"
     ]
    },
    {
     "name": "stdout",
     "output_type": "stream",
     "text": [
      "988001\n"
     ]
    },
    {
     "name": "stderr",
     "output_type": "stream",
     "text": [
      "C:\\Users\\ohy\\AppData\\Local\\Temp\\ipykernel_17400\\3983351454.py:33: FutureWarning: pandas.io.json.json_normalize is deprecated, use pandas.json_normalize instead.\n",
      "  totalDf = totalDf.append(json_normalize(body), ignore_index=True)\n",
      "C:\\Users\\ohy\\AppData\\Local\\Temp\\ipykernel_17400\\3983351454.py:33: FutureWarning: The frame.append method is deprecated and will be removed from pandas in a future version. Use pandas.concat instead.\n",
      "  totalDf = totalDf.append(json_normalize(body), ignore_index=True)\n"
     ]
    },
    {
     "name": "stdout",
     "output_type": "stream",
     "text": [
      "989001\n"
     ]
    },
    {
     "name": "stderr",
     "output_type": "stream",
     "text": [
      "C:\\Users\\ohy\\AppData\\Local\\Temp\\ipykernel_17400\\3983351454.py:33: FutureWarning: pandas.io.json.json_normalize is deprecated, use pandas.json_normalize instead.\n",
      "  totalDf = totalDf.append(json_normalize(body), ignore_index=True)\n",
      "C:\\Users\\ohy\\AppData\\Local\\Temp\\ipykernel_17400\\3983351454.py:33: FutureWarning: The frame.append method is deprecated and will be removed from pandas in a future version. Use pandas.concat instead.\n",
      "  totalDf = totalDf.append(json_normalize(body), ignore_index=True)\n"
     ]
    },
    {
     "name": "stdout",
     "output_type": "stream",
     "text": [
      "990001\n"
     ]
    },
    {
     "name": "stderr",
     "output_type": "stream",
     "text": [
      "C:\\Users\\ohy\\AppData\\Local\\Temp\\ipykernel_17400\\3983351454.py:33: FutureWarning: pandas.io.json.json_normalize is deprecated, use pandas.json_normalize instead.\n",
      "  totalDf = totalDf.append(json_normalize(body), ignore_index=True)\n",
      "C:\\Users\\ohy\\AppData\\Local\\Temp\\ipykernel_17400\\3983351454.py:33: FutureWarning: The frame.append method is deprecated and will be removed from pandas in a future version. Use pandas.concat instead.\n",
      "  totalDf = totalDf.append(json_normalize(body), ignore_index=True)\n"
     ]
    },
    {
     "name": "stdout",
     "output_type": "stream",
     "text": [
      "991001\n"
     ]
    },
    {
     "name": "stderr",
     "output_type": "stream",
     "text": [
      "C:\\Users\\ohy\\AppData\\Local\\Temp\\ipykernel_17400\\3983351454.py:33: FutureWarning: pandas.io.json.json_normalize is deprecated, use pandas.json_normalize instead.\n",
      "  totalDf = totalDf.append(json_normalize(body), ignore_index=True)\n",
      "C:\\Users\\ohy\\AppData\\Local\\Temp\\ipykernel_17400\\3983351454.py:33: FutureWarning: The frame.append method is deprecated and will be removed from pandas in a future version. Use pandas.concat instead.\n",
      "  totalDf = totalDf.append(json_normalize(body), ignore_index=True)\n"
     ]
    },
    {
     "name": "stdout",
     "output_type": "stream",
     "text": [
      "992001\n"
     ]
    },
    {
     "name": "stderr",
     "output_type": "stream",
     "text": [
      "C:\\Users\\ohy\\AppData\\Local\\Temp\\ipykernel_17400\\3983351454.py:33: FutureWarning: pandas.io.json.json_normalize is deprecated, use pandas.json_normalize instead.\n",
      "  totalDf = totalDf.append(json_normalize(body), ignore_index=True)\n",
      "C:\\Users\\ohy\\AppData\\Local\\Temp\\ipykernel_17400\\3983351454.py:33: FutureWarning: The frame.append method is deprecated and will be removed from pandas in a future version. Use pandas.concat instead.\n",
      "  totalDf = totalDf.append(json_normalize(body), ignore_index=True)\n"
     ]
    },
    {
     "name": "stdout",
     "output_type": "stream",
     "text": [
      "993001\n"
     ]
    },
    {
     "name": "stderr",
     "output_type": "stream",
     "text": [
      "C:\\Users\\ohy\\AppData\\Local\\Temp\\ipykernel_17400\\3983351454.py:33: FutureWarning: pandas.io.json.json_normalize is deprecated, use pandas.json_normalize instead.\n",
      "  totalDf = totalDf.append(json_normalize(body), ignore_index=True)\n",
      "C:\\Users\\ohy\\AppData\\Local\\Temp\\ipykernel_17400\\3983351454.py:33: FutureWarning: The frame.append method is deprecated and will be removed from pandas in a future version. Use pandas.concat instead.\n",
      "  totalDf = totalDf.append(json_normalize(body), ignore_index=True)\n"
     ]
    },
    {
     "name": "stdout",
     "output_type": "stream",
     "text": [
      "994001\n"
     ]
    },
    {
     "name": "stderr",
     "output_type": "stream",
     "text": [
      "C:\\Users\\ohy\\AppData\\Local\\Temp\\ipykernel_17400\\3983351454.py:33: FutureWarning: pandas.io.json.json_normalize is deprecated, use pandas.json_normalize instead.\n",
      "  totalDf = totalDf.append(json_normalize(body), ignore_index=True)\n",
      "C:\\Users\\ohy\\AppData\\Local\\Temp\\ipykernel_17400\\3983351454.py:33: FutureWarning: The frame.append method is deprecated and will be removed from pandas in a future version. Use pandas.concat instead.\n",
      "  totalDf = totalDf.append(json_normalize(body), ignore_index=True)\n"
     ]
    },
    {
     "name": "stdout",
     "output_type": "stream",
     "text": [
      "995001\n"
     ]
    },
    {
     "name": "stderr",
     "output_type": "stream",
     "text": [
      "C:\\Users\\ohy\\AppData\\Local\\Temp\\ipykernel_17400\\3983351454.py:33: FutureWarning: pandas.io.json.json_normalize is deprecated, use pandas.json_normalize instead.\n",
      "  totalDf = totalDf.append(json_normalize(body), ignore_index=True)\n",
      "C:\\Users\\ohy\\AppData\\Local\\Temp\\ipykernel_17400\\3983351454.py:33: FutureWarning: The frame.append method is deprecated and will be removed from pandas in a future version. Use pandas.concat instead.\n",
      "  totalDf = totalDf.append(json_normalize(body), ignore_index=True)\n"
     ]
    },
    {
     "name": "stdout",
     "output_type": "stream",
     "text": [
      "996001\n"
     ]
    },
    {
     "name": "stderr",
     "output_type": "stream",
     "text": [
      "C:\\Users\\ohy\\AppData\\Local\\Temp\\ipykernel_17400\\3983351454.py:33: FutureWarning: pandas.io.json.json_normalize is deprecated, use pandas.json_normalize instead.\n",
      "  totalDf = totalDf.append(json_normalize(body), ignore_index=True)\n",
      "C:\\Users\\ohy\\AppData\\Local\\Temp\\ipykernel_17400\\3983351454.py:33: FutureWarning: The frame.append method is deprecated and will be removed from pandas in a future version. Use pandas.concat instead.\n",
      "  totalDf = totalDf.append(json_normalize(body), ignore_index=True)\n"
     ]
    },
    {
     "name": "stdout",
     "output_type": "stream",
     "text": [
      "997001\n"
     ]
    },
    {
     "name": "stderr",
     "output_type": "stream",
     "text": [
      "C:\\Users\\ohy\\AppData\\Local\\Temp\\ipykernel_17400\\3983351454.py:33: FutureWarning: pandas.io.json.json_normalize is deprecated, use pandas.json_normalize instead.\n",
      "  totalDf = totalDf.append(json_normalize(body), ignore_index=True)\n",
      "C:\\Users\\ohy\\AppData\\Local\\Temp\\ipykernel_17400\\3983351454.py:33: FutureWarning: The frame.append method is deprecated and will be removed from pandas in a future version. Use pandas.concat instead.\n",
      "  totalDf = totalDf.append(json_normalize(body), ignore_index=True)\n"
     ]
    },
    {
     "name": "stdout",
     "output_type": "stream",
     "text": [
      "998001\n"
     ]
    },
    {
     "name": "stderr",
     "output_type": "stream",
     "text": [
      "C:\\Users\\ohy\\AppData\\Local\\Temp\\ipykernel_17400\\3983351454.py:33: FutureWarning: pandas.io.json.json_normalize is deprecated, use pandas.json_normalize instead.\n",
      "  totalDf = totalDf.append(json_normalize(body), ignore_index=True)\n",
      "C:\\Users\\ohy\\AppData\\Local\\Temp\\ipykernel_17400\\3983351454.py:33: FutureWarning: The frame.append method is deprecated and will be removed from pandas in a future version. Use pandas.concat instead.\n",
      "  totalDf = totalDf.append(json_normalize(body), ignore_index=True)\n"
     ]
    },
    {
     "name": "stdout",
     "output_type": "stream",
     "text": [
      "999001\n"
     ]
    },
    {
     "name": "stderr",
     "output_type": "stream",
     "text": [
      "C:\\Users\\ohy\\AppData\\Local\\Temp\\ipykernel_17400\\3983351454.py:33: FutureWarning: pandas.io.json.json_normalize is deprecated, use pandas.json_normalize instead.\n",
      "  totalDf = totalDf.append(json_normalize(body), ignore_index=True)\n",
      "C:\\Users\\ohy\\AppData\\Local\\Temp\\ipykernel_17400\\3983351454.py:33: FutureWarning: The frame.append method is deprecated and will be removed from pandas in a future version. Use pandas.concat instead.\n",
      "  totalDf = totalDf.append(json_normalize(body), ignore_index=True)\n"
     ]
    },
    {
     "name": "stdout",
     "output_type": "stream",
     "text": [
      "1000001\n"
     ]
    },
    {
     "name": "stderr",
     "output_type": "stream",
     "text": [
      "C:\\Users\\ohy\\AppData\\Local\\Temp\\ipykernel_17400\\3983351454.py:33: FutureWarning: pandas.io.json.json_normalize is deprecated, use pandas.json_normalize instead.\n",
      "  totalDf = totalDf.append(json_normalize(body), ignore_index=True)\n",
      "C:\\Users\\ohy\\AppData\\Local\\Temp\\ipykernel_17400\\3983351454.py:33: FutureWarning: The frame.append method is deprecated and will be removed from pandas in a future version. Use pandas.concat instead.\n",
      "  totalDf = totalDf.append(json_normalize(body), ignore_index=True)\n"
     ]
    },
    {
     "name": "stdout",
     "output_type": "stream",
     "text": [
      "1001001\n"
     ]
    },
    {
     "name": "stderr",
     "output_type": "stream",
     "text": [
      "C:\\Users\\ohy\\AppData\\Local\\Temp\\ipykernel_17400\\3983351454.py:33: FutureWarning: pandas.io.json.json_normalize is deprecated, use pandas.json_normalize instead.\n",
      "  totalDf = totalDf.append(json_normalize(body), ignore_index=True)\n",
      "C:\\Users\\ohy\\AppData\\Local\\Temp\\ipykernel_17400\\3983351454.py:33: FutureWarning: The frame.append method is deprecated and will be removed from pandas in a future version. Use pandas.concat instead.\n",
      "  totalDf = totalDf.append(json_normalize(body), ignore_index=True)\n"
     ]
    },
    {
     "name": "stdout",
     "output_type": "stream",
     "text": [
      "1002001\n"
     ]
    },
    {
     "name": "stderr",
     "output_type": "stream",
     "text": [
      "C:\\Users\\ohy\\AppData\\Local\\Temp\\ipykernel_17400\\3983351454.py:33: FutureWarning: pandas.io.json.json_normalize is deprecated, use pandas.json_normalize instead.\n",
      "  totalDf = totalDf.append(json_normalize(body), ignore_index=True)\n",
      "C:\\Users\\ohy\\AppData\\Local\\Temp\\ipykernel_17400\\3983351454.py:33: FutureWarning: The frame.append method is deprecated and will be removed from pandas in a future version. Use pandas.concat instead.\n",
      "  totalDf = totalDf.append(json_normalize(body), ignore_index=True)\n"
     ]
    },
    {
     "name": "stdout",
     "output_type": "stream",
     "text": [
      "1003001\n"
     ]
    },
    {
     "name": "stderr",
     "output_type": "stream",
     "text": [
      "C:\\Users\\ohy\\AppData\\Local\\Temp\\ipykernel_17400\\3983351454.py:33: FutureWarning: pandas.io.json.json_normalize is deprecated, use pandas.json_normalize instead.\n",
      "  totalDf = totalDf.append(json_normalize(body), ignore_index=True)\n",
      "C:\\Users\\ohy\\AppData\\Local\\Temp\\ipykernel_17400\\3983351454.py:33: FutureWarning: The frame.append method is deprecated and will be removed from pandas in a future version. Use pandas.concat instead.\n",
      "  totalDf = totalDf.append(json_normalize(body), ignore_index=True)\n"
     ]
    },
    {
     "name": "stdout",
     "output_type": "stream",
     "text": [
      "1004001\n"
     ]
    },
    {
     "name": "stderr",
     "output_type": "stream",
     "text": [
      "C:\\Users\\ohy\\AppData\\Local\\Temp\\ipykernel_17400\\3983351454.py:33: FutureWarning: pandas.io.json.json_normalize is deprecated, use pandas.json_normalize instead.\n",
      "  totalDf = totalDf.append(json_normalize(body), ignore_index=True)\n",
      "C:\\Users\\ohy\\AppData\\Local\\Temp\\ipykernel_17400\\3983351454.py:33: FutureWarning: The frame.append method is deprecated and will be removed from pandas in a future version. Use pandas.concat instead.\n",
      "  totalDf = totalDf.append(json_normalize(body), ignore_index=True)\n"
     ]
    },
    {
     "name": "stdout",
     "output_type": "stream",
     "text": [
      "1005001\n"
     ]
    },
    {
     "name": "stderr",
     "output_type": "stream",
     "text": [
      "C:\\Users\\ohy\\AppData\\Local\\Temp\\ipykernel_17400\\3983351454.py:33: FutureWarning: pandas.io.json.json_normalize is deprecated, use pandas.json_normalize instead.\n",
      "  totalDf = totalDf.append(json_normalize(body), ignore_index=True)\n",
      "C:\\Users\\ohy\\AppData\\Local\\Temp\\ipykernel_17400\\3983351454.py:33: FutureWarning: The frame.append method is deprecated and will be removed from pandas in a future version. Use pandas.concat instead.\n",
      "  totalDf = totalDf.append(json_normalize(body), ignore_index=True)\n"
     ]
    },
    {
     "name": "stdout",
     "output_type": "stream",
     "text": [
      "1006001\n"
     ]
    },
    {
     "name": "stderr",
     "output_type": "stream",
     "text": [
      "C:\\Users\\ohy\\AppData\\Local\\Temp\\ipykernel_17400\\3983351454.py:33: FutureWarning: pandas.io.json.json_normalize is deprecated, use pandas.json_normalize instead.\n",
      "  totalDf = totalDf.append(json_normalize(body), ignore_index=True)\n",
      "C:\\Users\\ohy\\AppData\\Local\\Temp\\ipykernel_17400\\3983351454.py:33: FutureWarning: The frame.append method is deprecated and will be removed from pandas in a future version. Use pandas.concat instead.\n",
      "  totalDf = totalDf.append(json_normalize(body), ignore_index=True)\n"
     ]
    },
    {
     "name": "stdout",
     "output_type": "stream",
     "text": [
      "1007001\n"
     ]
    },
    {
     "name": "stderr",
     "output_type": "stream",
     "text": [
      "C:\\Users\\ohy\\AppData\\Local\\Temp\\ipykernel_17400\\3983351454.py:33: FutureWarning: pandas.io.json.json_normalize is deprecated, use pandas.json_normalize instead.\n",
      "  totalDf = totalDf.append(json_normalize(body), ignore_index=True)\n",
      "C:\\Users\\ohy\\AppData\\Local\\Temp\\ipykernel_17400\\3983351454.py:33: FutureWarning: The frame.append method is deprecated and will be removed from pandas in a future version. Use pandas.concat instead.\n",
      "  totalDf = totalDf.append(json_normalize(body), ignore_index=True)\n"
     ]
    },
    {
     "name": "stdout",
     "output_type": "stream",
     "text": [
      "1008001\n"
     ]
    },
    {
     "name": "stderr",
     "output_type": "stream",
     "text": [
      "C:\\Users\\ohy\\AppData\\Local\\Temp\\ipykernel_17400\\3983351454.py:33: FutureWarning: pandas.io.json.json_normalize is deprecated, use pandas.json_normalize instead.\n",
      "  totalDf = totalDf.append(json_normalize(body), ignore_index=True)\n",
      "C:\\Users\\ohy\\AppData\\Local\\Temp\\ipykernel_17400\\3983351454.py:33: FutureWarning: The frame.append method is deprecated and will be removed from pandas in a future version. Use pandas.concat instead.\n",
      "  totalDf = totalDf.append(json_normalize(body), ignore_index=True)\n"
     ]
    },
    {
     "name": "stdout",
     "output_type": "stream",
     "text": [
      "1009001\n"
     ]
    },
    {
     "name": "stderr",
     "output_type": "stream",
     "text": [
      "C:\\Users\\ohy\\AppData\\Local\\Temp\\ipykernel_17400\\3983351454.py:33: FutureWarning: pandas.io.json.json_normalize is deprecated, use pandas.json_normalize instead.\n",
      "  totalDf = totalDf.append(json_normalize(body), ignore_index=True)\n",
      "C:\\Users\\ohy\\AppData\\Local\\Temp\\ipykernel_17400\\3983351454.py:33: FutureWarning: The frame.append method is deprecated and will be removed from pandas in a future version. Use pandas.concat instead.\n",
      "  totalDf = totalDf.append(json_normalize(body), ignore_index=True)\n"
     ]
    },
    {
     "name": "stdout",
     "output_type": "stream",
     "text": [
      "1010001\n"
     ]
    },
    {
     "name": "stderr",
     "output_type": "stream",
     "text": [
      "C:\\Users\\ohy\\AppData\\Local\\Temp\\ipykernel_17400\\3983351454.py:33: FutureWarning: pandas.io.json.json_normalize is deprecated, use pandas.json_normalize instead.\n",
      "  totalDf = totalDf.append(json_normalize(body), ignore_index=True)\n",
      "C:\\Users\\ohy\\AppData\\Local\\Temp\\ipykernel_17400\\3983351454.py:33: FutureWarning: The frame.append method is deprecated and will be removed from pandas in a future version. Use pandas.concat instead.\n",
      "  totalDf = totalDf.append(json_normalize(body), ignore_index=True)\n"
     ]
    },
    {
     "name": "stdout",
     "output_type": "stream",
     "text": [
      "1011001\n"
     ]
    },
    {
     "name": "stderr",
     "output_type": "stream",
     "text": [
      "C:\\Users\\ohy\\AppData\\Local\\Temp\\ipykernel_17400\\3983351454.py:33: FutureWarning: pandas.io.json.json_normalize is deprecated, use pandas.json_normalize instead.\n",
      "  totalDf = totalDf.append(json_normalize(body), ignore_index=True)\n",
      "C:\\Users\\ohy\\AppData\\Local\\Temp\\ipykernel_17400\\3983351454.py:33: FutureWarning: The frame.append method is deprecated and will be removed from pandas in a future version. Use pandas.concat instead.\n",
      "  totalDf = totalDf.append(json_normalize(body), ignore_index=True)\n"
     ]
    },
    {
     "name": "stdout",
     "output_type": "stream",
     "text": [
      "1012001\n"
     ]
    },
    {
     "name": "stderr",
     "output_type": "stream",
     "text": [
      "C:\\Users\\ohy\\AppData\\Local\\Temp\\ipykernel_17400\\3983351454.py:33: FutureWarning: pandas.io.json.json_normalize is deprecated, use pandas.json_normalize instead.\n",
      "  totalDf = totalDf.append(json_normalize(body), ignore_index=True)\n",
      "C:\\Users\\ohy\\AppData\\Local\\Temp\\ipykernel_17400\\3983351454.py:33: FutureWarning: The frame.append method is deprecated and will be removed from pandas in a future version. Use pandas.concat instead.\n",
      "  totalDf = totalDf.append(json_normalize(body), ignore_index=True)\n"
     ]
    },
    {
     "name": "stdout",
     "output_type": "stream",
     "text": [
      "1013001\n"
     ]
    },
    {
     "name": "stderr",
     "output_type": "stream",
     "text": [
      "C:\\Users\\ohy\\AppData\\Local\\Temp\\ipykernel_17400\\3983351454.py:33: FutureWarning: pandas.io.json.json_normalize is deprecated, use pandas.json_normalize instead.\n",
      "  totalDf = totalDf.append(json_normalize(body), ignore_index=True)\n",
      "C:\\Users\\ohy\\AppData\\Local\\Temp\\ipykernel_17400\\3983351454.py:33: FutureWarning: The frame.append method is deprecated and will be removed from pandas in a future version. Use pandas.concat instead.\n",
      "  totalDf = totalDf.append(json_normalize(body), ignore_index=True)\n"
     ]
    },
    {
     "name": "stdout",
     "output_type": "stream",
     "text": [
      "1014001\n"
     ]
    },
    {
     "name": "stderr",
     "output_type": "stream",
     "text": [
      "C:\\Users\\ohy\\AppData\\Local\\Temp\\ipykernel_17400\\3983351454.py:33: FutureWarning: pandas.io.json.json_normalize is deprecated, use pandas.json_normalize instead.\n",
      "  totalDf = totalDf.append(json_normalize(body), ignore_index=True)\n",
      "C:\\Users\\ohy\\AppData\\Local\\Temp\\ipykernel_17400\\3983351454.py:33: FutureWarning: The frame.append method is deprecated and will be removed from pandas in a future version. Use pandas.concat instead.\n",
      "  totalDf = totalDf.append(json_normalize(body), ignore_index=True)\n"
     ]
    },
    {
     "name": "stdout",
     "output_type": "stream",
     "text": [
      "1015001\n"
     ]
    },
    {
     "name": "stderr",
     "output_type": "stream",
     "text": [
      "C:\\Users\\ohy\\AppData\\Local\\Temp\\ipykernel_17400\\3983351454.py:33: FutureWarning: pandas.io.json.json_normalize is deprecated, use pandas.json_normalize instead.\n",
      "  totalDf = totalDf.append(json_normalize(body), ignore_index=True)\n",
      "C:\\Users\\ohy\\AppData\\Local\\Temp\\ipykernel_17400\\3983351454.py:33: FutureWarning: The frame.append method is deprecated and will be removed from pandas in a future version. Use pandas.concat instead.\n",
      "  totalDf = totalDf.append(json_normalize(body), ignore_index=True)\n"
     ]
    },
    {
     "name": "stdout",
     "output_type": "stream",
     "text": [
      "1016001\n"
     ]
    },
    {
     "name": "stderr",
     "output_type": "stream",
     "text": [
      "C:\\Users\\ohy\\AppData\\Local\\Temp\\ipykernel_17400\\3983351454.py:33: FutureWarning: pandas.io.json.json_normalize is deprecated, use pandas.json_normalize instead.\n",
      "  totalDf = totalDf.append(json_normalize(body), ignore_index=True)\n",
      "C:\\Users\\ohy\\AppData\\Local\\Temp\\ipykernel_17400\\3983351454.py:33: FutureWarning: The frame.append method is deprecated and will be removed from pandas in a future version. Use pandas.concat instead.\n",
      "  totalDf = totalDf.append(json_normalize(body), ignore_index=True)\n"
     ]
    },
    {
     "name": "stdout",
     "output_type": "stream",
     "text": [
      "1017001\n"
     ]
    },
    {
     "name": "stderr",
     "output_type": "stream",
     "text": [
      "C:\\Users\\ohy\\AppData\\Local\\Temp\\ipykernel_17400\\3983351454.py:33: FutureWarning: pandas.io.json.json_normalize is deprecated, use pandas.json_normalize instead.\n",
      "  totalDf = totalDf.append(json_normalize(body), ignore_index=True)\n",
      "C:\\Users\\ohy\\AppData\\Local\\Temp\\ipykernel_17400\\3983351454.py:33: FutureWarning: The frame.append method is deprecated and will be removed from pandas in a future version. Use pandas.concat instead.\n",
      "  totalDf = totalDf.append(json_normalize(body), ignore_index=True)\n"
     ]
    },
    {
     "name": "stdout",
     "output_type": "stream",
     "text": [
      "1018001\n"
     ]
    },
    {
     "name": "stderr",
     "output_type": "stream",
     "text": [
      "C:\\Users\\ohy\\AppData\\Local\\Temp\\ipykernel_17400\\3983351454.py:33: FutureWarning: pandas.io.json.json_normalize is deprecated, use pandas.json_normalize instead.\n",
      "  totalDf = totalDf.append(json_normalize(body), ignore_index=True)\n",
      "C:\\Users\\ohy\\AppData\\Local\\Temp\\ipykernel_17400\\3983351454.py:33: FutureWarning: The frame.append method is deprecated and will be removed from pandas in a future version. Use pandas.concat instead.\n",
      "  totalDf = totalDf.append(json_normalize(body), ignore_index=True)\n"
     ]
    },
    {
     "name": "stdout",
     "output_type": "stream",
     "text": [
      "1019001\n"
     ]
    },
    {
     "name": "stderr",
     "output_type": "stream",
     "text": [
      "C:\\Users\\ohy\\AppData\\Local\\Temp\\ipykernel_17400\\3983351454.py:33: FutureWarning: pandas.io.json.json_normalize is deprecated, use pandas.json_normalize instead.\n",
      "  totalDf = totalDf.append(json_normalize(body), ignore_index=True)\n",
      "C:\\Users\\ohy\\AppData\\Local\\Temp\\ipykernel_17400\\3983351454.py:33: FutureWarning: The frame.append method is deprecated and will be removed from pandas in a future version. Use pandas.concat instead.\n",
      "  totalDf = totalDf.append(json_normalize(body), ignore_index=True)\n"
     ]
    },
    {
     "name": "stdout",
     "output_type": "stream",
     "text": [
      "1020001\n"
     ]
    },
    {
     "name": "stderr",
     "output_type": "stream",
     "text": [
      "C:\\Users\\ohy\\AppData\\Local\\Temp\\ipykernel_17400\\3983351454.py:33: FutureWarning: pandas.io.json.json_normalize is deprecated, use pandas.json_normalize instead.\n",
      "  totalDf = totalDf.append(json_normalize(body), ignore_index=True)\n",
      "C:\\Users\\ohy\\AppData\\Local\\Temp\\ipykernel_17400\\3983351454.py:33: FutureWarning: The frame.append method is deprecated and will be removed from pandas in a future version. Use pandas.concat instead.\n",
      "  totalDf = totalDf.append(json_normalize(body), ignore_index=True)\n"
     ]
    },
    {
     "name": "stdout",
     "output_type": "stream",
     "text": [
      "1021001\n"
     ]
    },
    {
     "name": "stderr",
     "output_type": "stream",
     "text": [
      "C:\\Users\\ohy\\AppData\\Local\\Temp\\ipykernel_17400\\3983351454.py:33: FutureWarning: pandas.io.json.json_normalize is deprecated, use pandas.json_normalize instead.\n",
      "  totalDf = totalDf.append(json_normalize(body), ignore_index=True)\n",
      "C:\\Users\\ohy\\AppData\\Local\\Temp\\ipykernel_17400\\3983351454.py:33: FutureWarning: The frame.append method is deprecated and will be removed from pandas in a future version. Use pandas.concat instead.\n",
      "  totalDf = totalDf.append(json_normalize(body), ignore_index=True)\n"
     ]
    },
    {
     "name": "stdout",
     "output_type": "stream",
     "text": [
      "1022001\n"
     ]
    },
    {
     "name": "stderr",
     "output_type": "stream",
     "text": [
      "C:\\Users\\ohy\\AppData\\Local\\Temp\\ipykernel_17400\\3983351454.py:33: FutureWarning: pandas.io.json.json_normalize is deprecated, use pandas.json_normalize instead.\n",
      "  totalDf = totalDf.append(json_normalize(body), ignore_index=True)\n",
      "C:\\Users\\ohy\\AppData\\Local\\Temp\\ipykernel_17400\\3983351454.py:33: FutureWarning: The frame.append method is deprecated and will be removed from pandas in a future version. Use pandas.concat instead.\n",
      "  totalDf = totalDf.append(json_normalize(body), ignore_index=True)\n"
     ]
    },
    {
     "name": "stdout",
     "output_type": "stream",
     "text": [
      "1023001\n"
     ]
    },
    {
     "name": "stderr",
     "output_type": "stream",
     "text": [
      "C:\\Users\\ohy\\AppData\\Local\\Temp\\ipykernel_17400\\3983351454.py:33: FutureWarning: pandas.io.json.json_normalize is deprecated, use pandas.json_normalize instead.\n",
      "  totalDf = totalDf.append(json_normalize(body), ignore_index=True)\n",
      "C:\\Users\\ohy\\AppData\\Local\\Temp\\ipykernel_17400\\3983351454.py:33: FutureWarning: The frame.append method is deprecated and will be removed from pandas in a future version. Use pandas.concat instead.\n",
      "  totalDf = totalDf.append(json_normalize(body), ignore_index=True)\n"
     ]
    },
    {
     "name": "stdout",
     "output_type": "stream",
     "text": [
      "1024001\n"
     ]
    },
    {
     "name": "stderr",
     "output_type": "stream",
     "text": [
      "C:\\Users\\ohy\\AppData\\Local\\Temp\\ipykernel_17400\\3983351454.py:33: FutureWarning: pandas.io.json.json_normalize is deprecated, use pandas.json_normalize instead.\n",
      "  totalDf = totalDf.append(json_normalize(body), ignore_index=True)\n",
      "C:\\Users\\ohy\\AppData\\Local\\Temp\\ipykernel_17400\\3983351454.py:33: FutureWarning: The frame.append method is deprecated and will be removed from pandas in a future version. Use pandas.concat instead.\n",
      "  totalDf = totalDf.append(json_normalize(body), ignore_index=True)\n"
     ]
    },
    {
     "name": "stdout",
     "output_type": "stream",
     "text": [
      "1025001\n"
     ]
    },
    {
     "name": "stderr",
     "output_type": "stream",
     "text": [
      "C:\\Users\\ohy\\AppData\\Local\\Temp\\ipykernel_17400\\3983351454.py:33: FutureWarning: pandas.io.json.json_normalize is deprecated, use pandas.json_normalize instead.\n",
      "  totalDf = totalDf.append(json_normalize(body), ignore_index=True)\n",
      "C:\\Users\\ohy\\AppData\\Local\\Temp\\ipykernel_17400\\3983351454.py:33: FutureWarning: The frame.append method is deprecated and will be removed from pandas in a future version. Use pandas.concat instead.\n",
      "  totalDf = totalDf.append(json_normalize(body), ignore_index=True)\n"
     ]
    },
    {
     "name": "stdout",
     "output_type": "stream",
     "text": [
      "1026001\n"
     ]
    },
    {
     "name": "stderr",
     "output_type": "stream",
     "text": [
      "C:\\Users\\ohy\\AppData\\Local\\Temp\\ipykernel_17400\\3983351454.py:33: FutureWarning: pandas.io.json.json_normalize is deprecated, use pandas.json_normalize instead.\n",
      "  totalDf = totalDf.append(json_normalize(body), ignore_index=True)\n",
      "C:\\Users\\ohy\\AppData\\Local\\Temp\\ipykernel_17400\\3983351454.py:33: FutureWarning: The frame.append method is deprecated and will be removed from pandas in a future version. Use pandas.concat instead.\n",
      "  totalDf = totalDf.append(json_normalize(body), ignore_index=True)\n"
     ]
    },
    {
     "name": "stdout",
     "output_type": "stream",
     "text": [
      "1027001\n"
     ]
    },
    {
     "name": "stderr",
     "output_type": "stream",
     "text": [
      "C:\\Users\\ohy\\AppData\\Local\\Temp\\ipykernel_17400\\3983351454.py:33: FutureWarning: pandas.io.json.json_normalize is deprecated, use pandas.json_normalize instead.\n",
      "  totalDf = totalDf.append(json_normalize(body), ignore_index=True)\n",
      "C:\\Users\\ohy\\AppData\\Local\\Temp\\ipykernel_17400\\3983351454.py:33: FutureWarning: The frame.append method is deprecated and will be removed from pandas in a future version. Use pandas.concat instead.\n",
      "  totalDf = totalDf.append(json_normalize(body), ignore_index=True)\n"
     ]
    },
    {
     "name": "stdout",
     "output_type": "stream",
     "text": [
      "1028001\n"
     ]
    },
    {
     "name": "stderr",
     "output_type": "stream",
     "text": [
      "C:\\Users\\ohy\\AppData\\Local\\Temp\\ipykernel_17400\\3983351454.py:33: FutureWarning: pandas.io.json.json_normalize is deprecated, use pandas.json_normalize instead.\n",
      "  totalDf = totalDf.append(json_normalize(body), ignore_index=True)\n",
      "C:\\Users\\ohy\\AppData\\Local\\Temp\\ipykernel_17400\\3983351454.py:33: FutureWarning: The frame.append method is deprecated and will be removed from pandas in a future version. Use pandas.concat instead.\n",
      "  totalDf = totalDf.append(json_normalize(body), ignore_index=True)\n"
     ]
    },
    {
     "name": "stdout",
     "output_type": "stream",
     "text": [
      "1029001\n"
     ]
    },
    {
     "name": "stderr",
     "output_type": "stream",
     "text": [
      "C:\\Users\\ohy\\AppData\\Local\\Temp\\ipykernel_17400\\3983351454.py:33: FutureWarning: pandas.io.json.json_normalize is deprecated, use pandas.json_normalize instead.\n",
      "  totalDf = totalDf.append(json_normalize(body), ignore_index=True)\n",
      "C:\\Users\\ohy\\AppData\\Local\\Temp\\ipykernel_17400\\3983351454.py:33: FutureWarning: The frame.append method is deprecated and will be removed from pandas in a future version. Use pandas.concat instead.\n",
      "  totalDf = totalDf.append(json_normalize(body), ignore_index=True)\n"
     ]
    },
    {
     "name": "stdout",
     "output_type": "stream",
     "text": [
      "1030001\n"
     ]
    },
    {
     "name": "stderr",
     "output_type": "stream",
     "text": [
      "C:\\Users\\ohy\\AppData\\Local\\Temp\\ipykernel_17400\\3983351454.py:33: FutureWarning: pandas.io.json.json_normalize is deprecated, use pandas.json_normalize instead.\n",
      "  totalDf = totalDf.append(json_normalize(body), ignore_index=True)\n",
      "C:\\Users\\ohy\\AppData\\Local\\Temp\\ipykernel_17400\\3983351454.py:33: FutureWarning: The frame.append method is deprecated and will be removed from pandas in a future version. Use pandas.concat instead.\n",
      "  totalDf = totalDf.append(json_normalize(body), ignore_index=True)\n"
     ]
    },
    {
     "name": "stdout",
     "output_type": "stream",
     "text": [
      "1031001\n"
     ]
    },
    {
     "name": "stderr",
     "output_type": "stream",
     "text": [
      "C:\\Users\\ohy\\AppData\\Local\\Temp\\ipykernel_17400\\3983351454.py:33: FutureWarning: pandas.io.json.json_normalize is deprecated, use pandas.json_normalize instead.\n",
      "  totalDf = totalDf.append(json_normalize(body), ignore_index=True)\n",
      "C:\\Users\\ohy\\AppData\\Local\\Temp\\ipykernel_17400\\3983351454.py:33: FutureWarning: The frame.append method is deprecated and will be removed from pandas in a future version. Use pandas.concat instead.\n",
      "  totalDf = totalDf.append(json_normalize(body), ignore_index=True)\n"
     ]
    },
    {
     "name": "stdout",
     "output_type": "stream",
     "text": [
      "1032001\n"
     ]
    },
    {
     "name": "stderr",
     "output_type": "stream",
     "text": [
      "C:\\Users\\ohy\\AppData\\Local\\Temp\\ipykernel_17400\\3983351454.py:33: FutureWarning: pandas.io.json.json_normalize is deprecated, use pandas.json_normalize instead.\n",
      "  totalDf = totalDf.append(json_normalize(body), ignore_index=True)\n",
      "C:\\Users\\ohy\\AppData\\Local\\Temp\\ipykernel_17400\\3983351454.py:33: FutureWarning: The frame.append method is deprecated and will be removed from pandas in a future version. Use pandas.concat instead.\n",
      "  totalDf = totalDf.append(json_normalize(body), ignore_index=True)\n"
     ]
    },
    {
     "name": "stdout",
     "output_type": "stream",
     "text": [
      "1033001\n"
     ]
    },
    {
     "name": "stderr",
     "output_type": "stream",
     "text": [
      "C:\\Users\\ohy\\AppData\\Local\\Temp\\ipykernel_17400\\3983351454.py:33: FutureWarning: pandas.io.json.json_normalize is deprecated, use pandas.json_normalize instead.\n",
      "  totalDf = totalDf.append(json_normalize(body), ignore_index=True)\n",
      "C:\\Users\\ohy\\AppData\\Local\\Temp\\ipykernel_17400\\3983351454.py:33: FutureWarning: The frame.append method is deprecated and will be removed from pandas in a future version. Use pandas.concat instead.\n",
      "  totalDf = totalDf.append(json_normalize(body), ignore_index=True)\n"
     ]
    },
    {
     "name": "stdout",
     "output_type": "stream",
     "text": [
      "1034001\n"
     ]
    },
    {
     "name": "stderr",
     "output_type": "stream",
     "text": [
      "C:\\Users\\ohy\\AppData\\Local\\Temp\\ipykernel_17400\\3983351454.py:33: FutureWarning: pandas.io.json.json_normalize is deprecated, use pandas.json_normalize instead.\n",
      "  totalDf = totalDf.append(json_normalize(body), ignore_index=True)\n",
      "C:\\Users\\ohy\\AppData\\Local\\Temp\\ipykernel_17400\\3983351454.py:33: FutureWarning: The frame.append method is deprecated and will be removed from pandas in a future version. Use pandas.concat instead.\n",
      "  totalDf = totalDf.append(json_normalize(body), ignore_index=True)\n"
     ]
    },
    {
     "name": "stdout",
     "output_type": "stream",
     "text": [
      "1035001\n"
     ]
    },
    {
     "name": "stderr",
     "output_type": "stream",
     "text": [
      "C:\\Users\\ohy\\AppData\\Local\\Temp\\ipykernel_17400\\3983351454.py:33: FutureWarning: pandas.io.json.json_normalize is deprecated, use pandas.json_normalize instead.\n",
      "  totalDf = totalDf.append(json_normalize(body), ignore_index=True)\n",
      "C:\\Users\\ohy\\AppData\\Local\\Temp\\ipykernel_17400\\3983351454.py:33: FutureWarning: The frame.append method is deprecated and will be removed from pandas in a future version. Use pandas.concat instead.\n",
      "  totalDf = totalDf.append(json_normalize(body), ignore_index=True)\n"
     ]
    },
    {
     "name": "stdout",
     "output_type": "stream",
     "text": [
      "1036001\n"
     ]
    },
    {
     "name": "stderr",
     "output_type": "stream",
     "text": [
      "C:\\Users\\ohy\\AppData\\Local\\Temp\\ipykernel_17400\\3983351454.py:33: FutureWarning: pandas.io.json.json_normalize is deprecated, use pandas.json_normalize instead.\n",
      "  totalDf = totalDf.append(json_normalize(body), ignore_index=True)\n",
      "C:\\Users\\ohy\\AppData\\Local\\Temp\\ipykernel_17400\\3983351454.py:33: FutureWarning: The frame.append method is deprecated and will be removed from pandas in a future version. Use pandas.concat instead.\n",
      "  totalDf = totalDf.append(json_normalize(body), ignore_index=True)\n"
     ]
    },
    {
     "name": "stdout",
     "output_type": "stream",
     "text": [
      "1037001\n"
     ]
    },
    {
     "name": "stderr",
     "output_type": "stream",
     "text": [
      "C:\\Users\\ohy\\AppData\\Local\\Temp\\ipykernel_17400\\3983351454.py:33: FutureWarning: pandas.io.json.json_normalize is deprecated, use pandas.json_normalize instead.\n",
      "  totalDf = totalDf.append(json_normalize(body), ignore_index=True)\n",
      "C:\\Users\\ohy\\AppData\\Local\\Temp\\ipykernel_17400\\3983351454.py:33: FutureWarning: The frame.append method is deprecated and will be removed from pandas in a future version. Use pandas.concat instead.\n",
      "  totalDf = totalDf.append(json_normalize(body), ignore_index=True)\n"
     ]
    },
    {
     "name": "stdout",
     "output_type": "stream",
     "text": [
      "1038001\n"
     ]
    },
    {
     "name": "stderr",
     "output_type": "stream",
     "text": [
      "C:\\Users\\ohy\\AppData\\Local\\Temp\\ipykernel_17400\\3983351454.py:33: FutureWarning: pandas.io.json.json_normalize is deprecated, use pandas.json_normalize instead.\n",
      "  totalDf = totalDf.append(json_normalize(body), ignore_index=True)\n",
      "C:\\Users\\ohy\\AppData\\Local\\Temp\\ipykernel_17400\\3983351454.py:33: FutureWarning: The frame.append method is deprecated and will be removed from pandas in a future version. Use pandas.concat instead.\n",
      "  totalDf = totalDf.append(json_normalize(body), ignore_index=True)\n"
     ]
    },
    {
     "name": "stdout",
     "output_type": "stream",
     "text": [
      "1039001\n"
     ]
    },
    {
     "name": "stderr",
     "output_type": "stream",
     "text": [
      "C:\\Users\\ohy\\AppData\\Local\\Temp\\ipykernel_17400\\3983351454.py:33: FutureWarning: pandas.io.json.json_normalize is deprecated, use pandas.json_normalize instead.\n",
      "  totalDf = totalDf.append(json_normalize(body), ignore_index=True)\n",
      "C:\\Users\\ohy\\AppData\\Local\\Temp\\ipykernel_17400\\3983351454.py:33: FutureWarning: The frame.append method is deprecated and will be removed from pandas in a future version. Use pandas.concat instead.\n",
      "  totalDf = totalDf.append(json_normalize(body), ignore_index=True)\n"
     ]
    },
    {
     "name": "stdout",
     "output_type": "stream",
     "text": [
      "1040001\n"
     ]
    },
    {
     "name": "stderr",
     "output_type": "stream",
     "text": [
      "C:\\Users\\ohy\\AppData\\Local\\Temp\\ipykernel_17400\\3983351454.py:33: FutureWarning: pandas.io.json.json_normalize is deprecated, use pandas.json_normalize instead.\n",
      "  totalDf = totalDf.append(json_normalize(body), ignore_index=True)\n",
      "C:\\Users\\ohy\\AppData\\Local\\Temp\\ipykernel_17400\\3983351454.py:33: FutureWarning: The frame.append method is deprecated and will be removed from pandas in a future version. Use pandas.concat instead.\n",
      "  totalDf = totalDf.append(json_normalize(body), ignore_index=True)\n"
     ]
    },
    {
     "name": "stdout",
     "output_type": "stream",
     "text": [
      "1041001\n"
     ]
    },
    {
     "name": "stderr",
     "output_type": "stream",
     "text": [
      "C:\\Users\\ohy\\AppData\\Local\\Temp\\ipykernel_17400\\3983351454.py:33: FutureWarning: pandas.io.json.json_normalize is deprecated, use pandas.json_normalize instead.\n",
      "  totalDf = totalDf.append(json_normalize(body), ignore_index=True)\n",
      "C:\\Users\\ohy\\AppData\\Local\\Temp\\ipykernel_17400\\3983351454.py:33: FutureWarning: The frame.append method is deprecated and will be removed from pandas in a future version. Use pandas.concat instead.\n",
      "  totalDf = totalDf.append(json_normalize(body), ignore_index=True)\n"
     ]
    },
    {
     "name": "stdout",
     "output_type": "stream",
     "text": [
      "1042001\n"
     ]
    },
    {
     "name": "stderr",
     "output_type": "stream",
     "text": [
      "C:\\Users\\ohy\\AppData\\Local\\Temp\\ipykernel_17400\\3983351454.py:33: FutureWarning: pandas.io.json.json_normalize is deprecated, use pandas.json_normalize instead.\n",
      "  totalDf = totalDf.append(json_normalize(body), ignore_index=True)\n",
      "C:\\Users\\ohy\\AppData\\Local\\Temp\\ipykernel_17400\\3983351454.py:33: FutureWarning: The frame.append method is deprecated and will be removed from pandas in a future version. Use pandas.concat instead.\n",
      "  totalDf = totalDf.append(json_normalize(body), ignore_index=True)\n"
     ]
    },
    {
     "name": "stdout",
     "output_type": "stream",
     "text": [
      "1043001\n"
     ]
    },
    {
     "name": "stderr",
     "output_type": "stream",
     "text": [
      "C:\\Users\\ohy\\AppData\\Local\\Temp\\ipykernel_17400\\3983351454.py:33: FutureWarning: pandas.io.json.json_normalize is deprecated, use pandas.json_normalize instead.\n",
      "  totalDf = totalDf.append(json_normalize(body), ignore_index=True)\n",
      "C:\\Users\\ohy\\AppData\\Local\\Temp\\ipykernel_17400\\3983351454.py:33: FutureWarning: The frame.append method is deprecated and will be removed from pandas in a future version. Use pandas.concat instead.\n",
      "  totalDf = totalDf.append(json_normalize(body), ignore_index=True)\n"
     ]
    },
    {
     "name": "stdout",
     "output_type": "stream",
     "text": [
      "1044001\n"
     ]
    },
    {
     "name": "stderr",
     "output_type": "stream",
     "text": [
      "C:\\Users\\ohy\\AppData\\Local\\Temp\\ipykernel_17400\\3983351454.py:33: FutureWarning: pandas.io.json.json_normalize is deprecated, use pandas.json_normalize instead.\n",
      "  totalDf = totalDf.append(json_normalize(body), ignore_index=True)\n",
      "C:\\Users\\ohy\\AppData\\Local\\Temp\\ipykernel_17400\\3983351454.py:33: FutureWarning: The frame.append method is deprecated and will be removed from pandas in a future version. Use pandas.concat instead.\n",
      "  totalDf = totalDf.append(json_normalize(body), ignore_index=True)\n"
     ]
    },
    {
     "name": "stdout",
     "output_type": "stream",
     "text": [
      "1045001\n"
     ]
    },
    {
     "name": "stderr",
     "output_type": "stream",
     "text": [
      "C:\\Users\\ohy\\AppData\\Local\\Temp\\ipykernel_17400\\3983351454.py:33: FutureWarning: pandas.io.json.json_normalize is deprecated, use pandas.json_normalize instead.\n",
      "  totalDf = totalDf.append(json_normalize(body), ignore_index=True)\n",
      "C:\\Users\\ohy\\AppData\\Local\\Temp\\ipykernel_17400\\3983351454.py:33: FutureWarning: The frame.append method is deprecated and will be removed from pandas in a future version. Use pandas.concat instead.\n",
      "  totalDf = totalDf.append(json_normalize(body), ignore_index=True)\n"
     ]
    },
    {
     "name": "stdout",
     "output_type": "stream",
     "text": [
      "1046001\n"
     ]
    },
    {
     "name": "stderr",
     "output_type": "stream",
     "text": [
      "C:\\Users\\ohy\\AppData\\Local\\Temp\\ipykernel_17400\\3983351454.py:33: FutureWarning: pandas.io.json.json_normalize is deprecated, use pandas.json_normalize instead.\n",
      "  totalDf = totalDf.append(json_normalize(body), ignore_index=True)\n",
      "C:\\Users\\ohy\\AppData\\Local\\Temp\\ipykernel_17400\\3983351454.py:33: FutureWarning: The frame.append method is deprecated and will be removed from pandas in a future version. Use pandas.concat instead.\n",
      "  totalDf = totalDf.append(json_normalize(body), ignore_index=True)\n"
     ]
    },
    {
     "name": "stdout",
     "output_type": "stream",
     "text": [
      "1047001\n"
     ]
    },
    {
     "name": "stderr",
     "output_type": "stream",
     "text": [
      "C:\\Users\\ohy\\AppData\\Local\\Temp\\ipykernel_17400\\3983351454.py:33: FutureWarning: pandas.io.json.json_normalize is deprecated, use pandas.json_normalize instead.\n",
      "  totalDf = totalDf.append(json_normalize(body), ignore_index=True)\n",
      "C:\\Users\\ohy\\AppData\\Local\\Temp\\ipykernel_17400\\3983351454.py:33: FutureWarning: The frame.append method is deprecated and will be removed from pandas in a future version. Use pandas.concat instead.\n",
      "  totalDf = totalDf.append(json_normalize(body), ignore_index=True)\n"
     ]
    },
    {
     "name": "stdout",
     "output_type": "stream",
     "text": [
      "1048001\n"
     ]
    },
    {
     "name": "stderr",
     "output_type": "stream",
     "text": [
      "C:\\Users\\ohy\\AppData\\Local\\Temp\\ipykernel_17400\\3983351454.py:33: FutureWarning: pandas.io.json.json_normalize is deprecated, use pandas.json_normalize instead.\n",
      "  totalDf = totalDf.append(json_normalize(body), ignore_index=True)\n",
      "C:\\Users\\ohy\\AppData\\Local\\Temp\\ipykernel_17400\\3983351454.py:33: FutureWarning: The frame.append method is deprecated and will be removed from pandas in a future version. Use pandas.concat instead.\n",
      "  totalDf = totalDf.append(json_normalize(body), ignore_index=True)\n"
     ]
    },
    {
     "name": "stdout",
     "output_type": "stream",
     "text": [
      "1049001\n"
     ]
    },
    {
     "name": "stderr",
     "output_type": "stream",
     "text": [
      "C:\\Users\\ohy\\AppData\\Local\\Temp\\ipykernel_17400\\3983351454.py:33: FutureWarning: pandas.io.json.json_normalize is deprecated, use pandas.json_normalize instead.\n",
      "  totalDf = totalDf.append(json_normalize(body), ignore_index=True)\n",
      "C:\\Users\\ohy\\AppData\\Local\\Temp\\ipykernel_17400\\3983351454.py:33: FutureWarning: The frame.append method is deprecated and will be removed from pandas in a future version. Use pandas.concat instead.\n",
      "  totalDf = totalDf.append(json_normalize(body), ignore_index=True)\n"
     ]
    },
    {
     "name": "stdout",
     "output_type": "stream",
     "text": [
      "1050001\n"
     ]
    },
    {
     "name": "stderr",
     "output_type": "stream",
     "text": [
      "C:\\Users\\ohy\\AppData\\Local\\Temp\\ipykernel_17400\\3983351454.py:33: FutureWarning: pandas.io.json.json_normalize is deprecated, use pandas.json_normalize instead.\n",
      "  totalDf = totalDf.append(json_normalize(body), ignore_index=True)\n",
      "C:\\Users\\ohy\\AppData\\Local\\Temp\\ipykernel_17400\\3983351454.py:33: FutureWarning: The frame.append method is deprecated and will be removed from pandas in a future version. Use pandas.concat instead.\n",
      "  totalDf = totalDf.append(json_normalize(body), ignore_index=True)\n"
     ]
    },
    {
     "name": "stdout",
     "output_type": "stream",
     "text": [
      "1051001\n"
     ]
    },
    {
     "name": "stderr",
     "output_type": "stream",
     "text": [
      "C:\\Users\\ohy\\AppData\\Local\\Temp\\ipykernel_17400\\3983351454.py:33: FutureWarning: pandas.io.json.json_normalize is deprecated, use pandas.json_normalize instead.\n",
      "  totalDf = totalDf.append(json_normalize(body), ignore_index=True)\n",
      "C:\\Users\\ohy\\AppData\\Local\\Temp\\ipykernel_17400\\3983351454.py:33: FutureWarning: The frame.append method is deprecated and will be removed from pandas in a future version. Use pandas.concat instead.\n",
      "  totalDf = totalDf.append(json_normalize(body), ignore_index=True)\n"
     ]
    },
    {
     "name": "stdout",
     "output_type": "stream",
     "text": [
      "1052001\n"
     ]
    },
    {
     "name": "stderr",
     "output_type": "stream",
     "text": [
      "C:\\Users\\ohy\\AppData\\Local\\Temp\\ipykernel_17400\\3983351454.py:33: FutureWarning: pandas.io.json.json_normalize is deprecated, use pandas.json_normalize instead.\n",
      "  totalDf = totalDf.append(json_normalize(body), ignore_index=True)\n",
      "C:\\Users\\ohy\\AppData\\Local\\Temp\\ipykernel_17400\\3983351454.py:33: FutureWarning: The frame.append method is deprecated and will be removed from pandas in a future version. Use pandas.concat instead.\n",
      "  totalDf = totalDf.append(json_normalize(body), ignore_index=True)\n"
     ]
    },
    {
     "name": "stdout",
     "output_type": "stream",
     "text": [
      "1053001\n"
     ]
    },
    {
     "name": "stderr",
     "output_type": "stream",
     "text": [
      "C:\\Users\\ohy\\AppData\\Local\\Temp\\ipykernel_17400\\3983351454.py:33: FutureWarning: pandas.io.json.json_normalize is deprecated, use pandas.json_normalize instead.\n",
      "  totalDf = totalDf.append(json_normalize(body), ignore_index=True)\n",
      "C:\\Users\\ohy\\AppData\\Local\\Temp\\ipykernel_17400\\3983351454.py:33: FutureWarning: The frame.append method is deprecated and will be removed from pandas in a future version. Use pandas.concat instead.\n",
      "  totalDf = totalDf.append(json_normalize(body), ignore_index=True)\n"
     ]
    },
    {
     "name": "stdout",
     "output_type": "stream",
     "text": [
      "1054001\n"
     ]
    },
    {
     "name": "stderr",
     "output_type": "stream",
     "text": [
      "C:\\Users\\ohy\\AppData\\Local\\Temp\\ipykernel_17400\\3983351454.py:33: FutureWarning: pandas.io.json.json_normalize is deprecated, use pandas.json_normalize instead.\n",
      "  totalDf = totalDf.append(json_normalize(body), ignore_index=True)\n",
      "C:\\Users\\ohy\\AppData\\Local\\Temp\\ipykernel_17400\\3983351454.py:33: FutureWarning: The frame.append method is deprecated and will be removed from pandas in a future version. Use pandas.concat instead.\n",
      "  totalDf = totalDf.append(json_normalize(body), ignore_index=True)\n"
     ]
    },
    {
     "name": "stdout",
     "output_type": "stream",
     "text": [
      "1055001\n"
     ]
    },
    {
     "name": "stderr",
     "output_type": "stream",
     "text": [
      "C:\\Users\\ohy\\AppData\\Local\\Temp\\ipykernel_17400\\3983351454.py:33: FutureWarning: pandas.io.json.json_normalize is deprecated, use pandas.json_normalize instead.\n",
      "  totalDf = totalDf.append(json_normalize(body), ignore_index=True)\n",
      "C:\\Users\\ohy\\AppData\\Local\\Temp\\ipykernel_17400\\3983351454.py:33: FutureWarning: The frame.append method is deprecated and will be removed from pandas in a future version. Use pandas.concat instead.\n",
      "  totalDf = totalDf.append(json_normalize(body), ignore_index=True)\n"
     ]
    },
    {
     "name": "stdout",
     "output_type": "stream",
     "text": [
      "1056001\n"
     ]
    },
    {
     "data": {
      "text/html": [
       "<div>\n",
       "<style scoped>\n",
       "    .dataframe tbody tr th:only-of-type {\n",
       "        vertical-align: middle;\n",
       "    }\n",
       "\n",
       "    .dataframe tbody tr th {\n",
       "        vertical-align: top;\n",
       "    }\n",
       "\n",
       "    .dataframe thead th {\n",
       "        text-align: right;\n",
       "    }\n",
       "</style>\n",
       "<table border=\"1\" class=\"dataframe\">\n",
       "  <thead>\n",
       "    <tr style=\"text-align: right;\">\n",
       "      <th></th>\n",
       "      <th>기관명</th>\n",
       "      <th>송신 서버 번호</th>\n",
       "      <th>데이터 번호</th>\n",
       "      <th>모델명</th>\n",
       "      <th>시리얼</th>\n",
       "      <th>서버타입</th>\n",
       "      <th>사이트명</th>\n",
       "      <th>방문자수</th>\n",
       "      <th>날짜</th>\n",
       "      <th>등록일자</th>\n",
       "    </tr>\n",
       "  </thead>\n",
       "  <tbody>\n",
       "    <tr>\n",
       "      <th>0</th>\n",
       "      <td>서울시</td>\n",
       "      <td>32.0</td>\n",
       "      <td>1.0</td>\n",
       "      <td>SDOT001</td>\n",
       "      <td>4042</td>\n",
       "      <td>00Original</td>\n",
       "      <td>0000004042</td>\n",
       "      <td>12</td>\n",
       "      <td>202209282350</td>\n",
       "      <td>2022-09-28 23:57:48.0</td>\n",
       "    </tr>\n",
       "    <tr>\n",
       "      <th>1</th>\n",
       "      <td>서울시</td>\n",
       "      <td>32.0</td>\n",
       "      <td>1.0</td>\n",
       "      <td>SDOT001</td>\n",
       "      <td>4040</td>\n",
       "      <td>00Original</td>\n",
       "      <td>0000004040</td>\n",
       "      <td>6</td>\n",
       "      <td>202209282350</td>\n",
       "      <td>2022-09-28 23:57:42.0</td>\n",
       "    </tr>\n",
       "    <tr>\n",
       "      <th>2</th>\n",
       "      <td>서울시</td>\n",
       "      <td>32.0</td>\n",
       "      <td>1.0</td>\n",
       "      <td>SDOT001</td>\n",
       "      <td>4007</td>\n",
       "      <td>00Original</td>\n",
       "      <td>0000004007</td>\n",
       "      <td>3</td>\n",
       "      <td>202209282350</td>\n",
       "      <td>2022-09-28 23:57:29.0</td>\n",
       "    </tr>\n",
       "    <tr>\n",
       "      <th>3</th>\n",
       "      <td>서울시</td>\n",
       "      <td>32.0</td>\n",
       "      <td>1.0</td>\n",
       "      <td>SDOT001</td>\n",
       "      <td>4029</td>\n",
       "      <td>00Original</td>\n",
       "      <td>0000004029</td>\n",
       "      <td>12</td>\n",
       "      <td>202209282350</td>\n",
       "      <td>2022-09-28 23:56:59.0</td>\n",
       "    </tr>\n",
       "    <tr>\n",
       "      <th>4</th>\n",
       "      <td>서울시</td>\n",
       "      <td>32.0</td>\n",
       "      <td>1.0</td>\n",
       "      <td>SDOT001</td>\n",
       "      <td>4047</td>\n",
       "      <td>00Original</td>\n",
       "      <td>0000004047</td>\n",
       "      <td>60</td>\n",
       "      <td>202209282350</td>\n",
       "      <td>2022-09-28 23:56:50.0</td>\n",
       "    </tr>\n",
       "    <tr>\n",
       "      <th>...</th>\n",
       "      <td>...</td>\n",
       "      <td>...</td>\n",
       "      <td>...</td>\n",
       "      <td>...</td>\n",
       "      <td>...</td>\n",
       "      <td>...</td>\n",
       "      <td>...</td>\n",
       "      <td>...</td>\n",
       "      <td>...</td>\n",
       "      <td>...</td>\n",
       "    </tr>\n",
       "    <tr>\n",
       "      <th>1056086</th>\n",
       "      <td>서울시</td>\n",
       "      <td>32.0</td>\n",
       "      <td>1.0</td>\n",
       "      <td>SDOT001</td>\n",
       "      <td>4031</td>\n",
       "      <td>00Original</td>\n",
       "      <td>0000004031</td>\n",
       "      <td>2</td>\n",
       "      <td>202206280000</td>\n",
       "      <td>2022-06-29 00:00:22.0</td>\n",
       "    </tr>\n",
       "    <tr>\n",
       "      <th>1056087</th>\n",
       "      <td>서울시</td>\n",
       "      <td>32.0</td>\n",
       "      <td>1.0</td>\n",
       "      <td>SDOT001</td>\n",
       "      <td>4015</td>\n",
       "      <td>00Original</td>\n",
       "      <td>0000004015</td>\n",
       "      <td>21</td>\n",
       "      <td>202206280000</td>\n",
       "      <td>2022-06-29 00:00:17.0</td>\n",
       "    </tr>\n",
       "    <tr>\n",
       "      <th>1056088</th>\n",
       "      <td>서울시</td>\n",
       "      <td>32.0</td>\n",
       "      <td>1.0</td>\n",
       "      <td>SDOT001</td>\n",
       "      <td>4041</td>\n",
       "      <td>00Original</td>\n",
       "      <td>0000004041</td>\n",
       "      <td>0</td>\n",
       "      <td>202206280000</td>\n",
       "      <td>2022-06-29 00:00:12.0</td>\n",
       "    </tr>\n",
       "    <tr>\n",
       "      <th>1056089</th>\n",
       "      <td>서울시</td>\n",
       "      <td>32.0</td>\n",
       "      <td>1.0</td>\n",
       "      <td>SDOT001</td>\n",
       "      <td>4027</td>\n",
       "      <td>00Original</td>\n",
       "      <td>0000004027</td>\n",
       "      <td>8</td>\n",
       "      <td>202206280000</td>\n",
       "      <td>2022-06-29 00:00:11.0</td>\n",
       "    </tr>\n",
       "    <tr>\n",
       "      <th>1056090</th>\n",
       "      <td>서울시</td>\n",
       "      <td>32.0</td>\n",
       "      <td>1.0</td>\n",
       "      <td>SDOT001</td>\n",
       "      <td>4033</td>\n",
       "      <td>00Original</td>\n",
       "      <td>0000004033</td>\n",
       "      <td>16</td>\n",
       "      <td>202206280000</td>\n",
       "      <td>2022-06-29 00:00:06.0</td>\n",
       "    </tr>\n",
       "  </tbody>\n",
       "</table>\n",
       "<p>1056091 rows × 10 columns</p>\n",
       "</div>"
      ],
      "text/plain": [
       "         기관명  송신 서버 번호  데이터 번호      모델명   시리얼        서버타입        사이트명 방문자수  \\\n",
       "0        서울시      32.0     1.0  SDOT001  4042  00Original  0000004042   12   \n",
       "1        서울시      32.0     1.0  SDOT001  4040  00Original  0000004040    6   \n",
       "2        서울시      32.0     1.0  SDOT001  4007  00Original  0000004007    3   \n",
       "3        서울시      32.0     1.0  SDOT001  4029  00Original  0000004029   12   \n",
       "4        서울시      32.0     1.0  SDOT001  4047  00Original  0000004047   60   \n",
       "...      ...       ...     ...      ...   ...         ...         ...  ...   \n",
       "1056086  서울시      32.0     1.0  SDOT001  4031  00Original  0000004031    2   \n",
       "1056087  서울시      32.0     1.0  SDOT001  4015  00Original  0000004015   21   \n",
       "1056088  서울시      32.0     1.0  SDOT001  4041  00Original  0000004041    0   \n",
       "1056089  서울시      32.0     1.0  SDOT001  4027  00Original  0000004027    8   \n",
       "1056090  서울시      32.0     1.0  SDOT001  4033  00Original  0000004033   16   \n",
       "\n",
       "                   날짜                   등록일자  \n",
       "0        202209282350  2022-09-28 23:57:48.0  \n",
       "1        202209282350  2022-09-28 23:57:42.0  \n",
       "2        202209282350  2022-09-28 23:57:29.0  \n",
       "3        202209282350  2022-09-28 23:56:59.0  \n",
       "4        202209282350  2022-09-28 23:56:50.0  \n",
       "...               ...                    ...  \n",
       "1056086  202206280000  2022-06-29 00:00:22.0  \n",
       "1056087  202206280000  2022-06-29 00:00:17.0  \n",
       "1056088  202206280000  2022-06-29 00:00:12.0  \n",
       "1056089  202206280000  2022-06-29 00:00:11.0  \n",
       "1056090  202206280000  2022-06-29 00:00:06.0  \n",
       "\n",
       "[1056091 rows x 10 columns]"
      ]
     },
     "execution_count": 1,
     "metadata": {},
     "output_type": "execute_result"
    }
   ],
   "source": [
    "import pandas as pd\n",
    "import requests\n",
    "import json\n",
    "from pandas.io.json import json_normalize\n",
    "\n",
    "# 스마트서울 도시데이터 센서(S-DoT) 유동인구 측정 정보 (iot 위치 데이터 신청 해 놓음)\n",
    "# https://data.seoul.go.kr/dataList/OA-15964/S/1/datasetView.do\n",
    "\n",
    "apiKey = \"4c507457527a76793635686f726153\"\n",
    "url = \"http://openapi.seoul.go.kr:8088/{API}/json/IotVdata018/1/1000\".format(API=apiKey)\n",
    "\n",
    "response = requests.get(url) # url 불러오기\n",
    "contents = response.text # 데이터 가져오기\n",
    "json_ob = json.loads(contents) #str -> dict 변환 (json 형식으로 변환)\n",
    "\n",
    "totalCount = json_ob['IotVdata018']['list_total_count'] # 전체 데이터 갯수 가져오기 - 1,042,467개\n",
    "print(totalCount)\n",
    "\n",
    "body = json_ob['IotVdata018']['row'] #필요한 데이터\n",
    "\n",
    "totalDf = pd.DataFrame()\n",
    "\n",
    "for i in range(1, totalCount, 1000):\n",
    "    startNum = i\n",
    "    endNum = startNum + 999;\n",
    "    url2 = \"http://openapi.seoul.go.kr:8088/{API}/json/IotVdata018/{startNum}/{endNum}\".format(API=apiKey,\n",
    "                                                                                               startNum=startNum,\n",
    "                                                                                               endNum=endNum)\n",
    "    response = requests.get(url2)\n",
    "    contents = response.text\n",
    "    json_ob = json.loads(contents)\n",
    "    body = json_ob['IotVdata018']['row']\n",
    "    totalDf = totalDf.append(json_normalize(body), ignore_index=True)\n",
    "    print(i)\n",
    "\n",
    "totalDf.columns = ['기관명','송신 서버 번호','데이터 번호','모델명','시리얼','서버타입','사이트명','방문자수','날짜','등록일자']\n",
    "totalDf.to_csv(\"스마트서울 도시데이터 센서(S-DoT) 유동인구 측정 정보.csv\", encoding=\"utf-8-sig\")\n",
    "\n",
    "totalDf\n"
   ]
  }
 ],
 "metadata": {
  "kernelspec": {
   "display_name": "Python 3 (ipykernel)",
   "language": "python",
   "name": "python3"
  },
  "language_info": {
   "codemirror_mode": {
    "name": "ipython",
    "version": 3
   },
   "file_extension": ".py",
   "mimetype": "text/x-python",
   "name": "python",
   "nbconvert_exporter": "python",
   "pygments_lexer": "ipython3",
   "version": "3.9.12"
  }
 },
 "nbformat": 4,
 "nbformat_minor": 5
}
